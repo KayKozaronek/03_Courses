{
  "nbformat": 4,
  "nbformat_minor": 0,
  "metadata": {
    "colab": {
      "name": "Pandas Table Conversion Exercise.ipynb",
      "provenance": [],
      "authorship_tag": "ABX9TyPeDtokxzaKsCs/3eSaYxNA",
      "include_colab_link": true
    },
    "kernelspec": {
      "name": "python3",
      "display_name": "Python 3"
    }
  },
  "cells": [
    {
      "cell_type": "markdown",
      "metadata": {
        "id": "view-in-github",
        "colab_type": "text"
      },
      "source": [
        "<a href=\"https://colab.research.google.com/github/KayKozaronek/03_Courses/blob/master/Pandas_Table_Conversion_Exercise.ipynb\" target=\"_parent\"><img src=\"https://colab.research.google.com/assets/colab-badge.svg\" alt=\"Open In Colab\"/></a>"
      ]
    },
    {
      "cell_type": "markdown",
      "metadata": {
        "id": "Lal9TnPkZAAL",
        "colab_type": "text"
      },
      "source": [
        "#Exercise 8\n",
        "- Convert the dataset \"table1\" into a narrow table with\n",
        "the following shape:\n",
        "![image.png](data:image/png;base64,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)"
      ]
    },
    {
      "cell_type": "markdown",
      "metadata": {
        "id": "IQGrTKxt0KWP",
        "colab_type": "text"
      },
      "source": [
        "#1. Create Table 1"
      ]
    },
    {
      "cell_type": "code",
      "metadata": {
        "id": "-YLqJDQgY2qi",
        "colab_type": "code",
        "colab": {
          "base_uri": "https://localhost:8080/",
          "height": 226
        },
        "outputId": "916e7976-3701-4284-ca1a-ae0468ae8561"
      },
      "source": [
        "import pandas as pd\n",
        "\n",
        "table1 = pd.DataFrame({\"country\" : [\"Afghanistan\", \"Afghanistan\", \"Brazil\", \"Brazil\", \"China\", \"China\"],\n",
        "                   \"year\" : [1999, 2000,1999,2000,1999,2000],\n",
        "                   \"cases\" : [745, 266,37737,80488,212258,213766],\n",
        "                   \"population\" : [19987071,20595360,172006362,174504898,1272915272,1280428583]})\n",
        "\n",
        "df = table1\n",
        "df"
      ],
      "execution_count": 51,
      "outputs": [
        {
          "output_type": "execute_result",
          "data": {
            "text/html": [
              "<div>\n",
              "<style scoped>\n",
              "    .dataframe tbody tr th:only-of-type {\n",
              "        vertical-align: middle;\n",
              "    }\n",
              "\n",
              "    .dataframe tbody tr th {\n",
              "        vertical-align: top;\n",
              "    }\n",
              "\n",
              "    .dataframe thead th {\n",
              "        text-align: right;\n",
              "    }\n",
              "</style>\n",
              "<table border=\"1\" class=\"dataframe\">\n",
              "  <thead>\n",
              "    <tr style=\"text-align: right;\">\n",
              "      <th></th>\n",
              "      <th>country</th>\n",
              "      <th>year</th>\n",
              "      <th>cases</th>\n",
              "      <th>population</th>\n",
              "    </tr>\n",
              "  </thead>\n",
              "  <tbody>\n",
              "    <tr>\n",
              "      <th>0</th>\n",
              "      <td>Afghanistan</td>\n",
              "      <td>1999</td>\n",
              "      <td>745</td>\n",
              "      <td>19987071</td>\n",
              "    </tr>\n",
              "    <tr>\n",
              "      <th>1</th>\n",
              "      <td>Afghanistan</td>\n",
              "      <td>2000</td>\n",
              "      <td>266</td>\n",
              "      <td>20595360</td>\n",
              "    </tr>\n",
              "    <tr>\n",
              "      <th>2</th>\n",
              "      <td>Brazil</td>\n",
              "      <td>1999</td>\n",
              "      <td>37737</td>\n",
              "      <td>172006362</td>\n",
              "    </tr>\n",
              "    <tr>\n",
              "      <th>3</th>\n",
              "      <td>Brazil</td>\n",
              "      <td>2000</td>\n",
              "      <td>80488</td>\n",
              "      <td>174504898</td>\n",
              "    </tr>\n",
              "    <tr>\n",
              "      <th>4</th>\n",
              "      <td>China</td>\n",
              "      <td>1999</td>\n",
              "      <td>212258</td>\n",
              "      <td>1272915272</td>\n",
              "    </tr>\n",
              "    <tr>\n",
              "      <th>5</th>\n",
              "      <td>China</td>\n",
              "      <td>2000</td>\n",
              "      <td>213766</td>\n",
              "      <td>1280428583</td>\n",
              "    </tr>\n",
              "  </tbody>\n",
              "</table>\n",
              "</div>"
            ],
            "text/plain": [
              "       country  year   cases  population\n",
              "0  Afghanistan  1999     745    19987071\n",
              "1  Afghanistan  2000     266    20595360\n",
              "2       Brazil  1999   37737   172006362\n",
              "3       Brazil  2000   80488   174504898\n",
              "4        China  1999  212258  1272915272\n",
              "5        China  2000  213766  1280428583"
            ]
          },
          "metadata": {
            "tags": []
          },
          "execution_count": 51
        }
      ]
    },
    {
      "cell_type": "markdown",
      "metadata": {
        "id": "UVtP1ZFp0QQW",
        "colab_type": "text"
      },
      "source": [
        "#2. Melt\n",
        "- We keep \"country\" and \"year\" as our id_variables (don't change)\n",
        "- We melt all others \n",
        "  - cases and\n",
        "  - population\n",
        "\n",
        "Now we have a dataframe that shows us each country in a given year and the given cases and population in unique rows."
      ]
    },
    {
      "cell_type": "code",
      "metadata": {
        "id": "8nSGLxvdf1cK",
        "colab_type": "code",
        "colab": {
          "base_uri": "https://localhost:8080/",
          "height": 405
        },
        "outputId": "5aa3109c-f971-4ec7-fd9c-afcadbe015fe"
      },
      "source": [
        "df = df.melt(id_vars = [\"country\", \"year\"],\n",
        "        var_name=\"column\",\n",
        "        value_name =\"data\")\n",
        "df"
      ],
      "execution_count": 52,
      "outputs": [
        {
          "output_type": "execute_result",
          "data": {
            "text/html": [
              "<div>\n",
              "<style scoped>\n",
              "    .dataframe tbody tr th:only-of-type {\n",
              "        vertical-align: middle;\n",
              "    }\n",
              "\n",
              "    .dataframe tbody tr th {\n",
              "        vertical-align: top;\n",
              "    }\n",
              "\n",
              "    .dataframe thead th {\n",
              "        text-align: right;\n",
              "    }\n",
              "</style>\n",
              "<table border=\"1\" class=\"dataframe\">\n",
              "  <thead>\n",
              "    <tr style=\"text-align: right;\">\n",
              "      <th></th>\n",
              "      <th>country</th>\n",
              "      <th>year</th>\n",
              "      <th>column</th>\n",
              "      <th>data</th>\n",
              "    </tr>\n",
              "  </thead>\n",
              "  <tbody>\n",
              "    <tr>\n",
              "      <th>0</th>\n",
              "      <td>Afghanistan</td>\n",
              "      <td>1999</td>\n",
              "      <td>cases</td>\n",
              "      <td>745</td>\n",
              "    </tr>\n",
              "    <tr>\n",
              "      <th>1</th>\n",
              "      <td>Afghanistan</td>\n",
              "      <td>2000</td>\n",
              "      <td>cases</td>\n",
              "      <td>266</td>\n",
              "    </tr>\n",
              "    <tr>\n",
              "      <th>2</th>\n",
              "      <td>Brazil</td>\n",
              "      <td>1999</td>\n",
              "      <td>cases</td>\n",
              "      <td>37737</td>\n",
              "    </tr>\n",
              "    <tr>\n",
              "      <th>3</th>\n",
              "      <td>Brazil</td>\n",
              "      <td>2000</td>\n",
              "      <td>cases</td>\n",
              "      <td>80488</td>\n",
              "    </tr>\n",
              "    <tr>\n",
              "      <th>4</th>\n",
              "      <td>China</td>\n",
              "      <td>1999</td>\n",
              "      <td>cases</td>\n",
              "      <td>212258</td>\n",
              "    </tr>\n",
              "    <tr>\n",
              "      <th>5</th>\n",
              "      <td>China</td>\n",
              "      <td>2000</td>\n",
              "      <td>cases</td>\n",
              "      <td>213766</td>\n",
              "    </tr>\n",
              "    <tr>\n",
              "      <th>6</th>\n",
              "      <td>Afghanistan</td>\n",
              "      <td>1999</td>\n",
              "      <td>population</td>\n",
              "      <td>19987071</td>\n",
              "    </tr>\n",
              "    <tr>\n",
              "      <th>7</th>\n",
              "      <td>Afghanistan</td>\n",
              "      <td>2000</td>\n",
              "      <td>population</td>\n",
              "      <td>20595360</td>\n",
              "    </tr>\n",
              "    <tr>\n",
              "      <th>8</th>\n",
              "      <td>Brazil</td>\n",
              "      <td>1999</td>\n",
              "      <td>population</td>\n",
              "      <td>172006362</td>\n",
              "    </tr>\n",
              "    <tr>\n",
              "      <th>9</th>\n",
              "      <td>Brazil</td>\n",
              "      <td>2000</td>\n",
              "      <td>population</td>\n",
              "      <td>174504898</td>\n",
              "    </tr>\n",
              "    <tr>\n",
              "      <th>10</th>\n",
              "      <td>China</td>\n",
              "      <td>1999</td>\n",
              "      <td>population</td>\n",
              "      <td>1272915272</td>\n",
              "    </tr>\n",
              "    <tr>\n",
              "      <th>11</th>\n",
              "      <td>China</td>\n",
              "      <td>2000</td>\n",
              "      <td>population</td>\n",
              "      <td>1280428583</td>\n",
              "    </tr>\n",
              "  </tbody>\n",
              "</table>\n",
              "</div>"
            ],
            "text/plain": [
              "        country  year      column        data\n",
              "0   Afghanistan  1999       cases         745\n",
              "1   Afghanistan  2000       cases         266\n",
              "2        Brazil  1999       cases       37737\n",
              "3        Brazil  2000       cases       80488\n",
              "4         China  1999       cases      212258\n",
              "5         China  2000       cases      213766\n",
              "6   Afghanistan  1999  population    19987071\n",
              "7   Afghanistan  2000  population    20595360\n",
              "8        Brazil  1999  population   172006362\n",
              "9        Brazil  2000  population   174504898\n",
              "10        China  1999  population  1272915272\n",
              "11        China  2000  population  1280428583"
            ]
          },
          "metadata": {
            "tags": []
          },
          "execution_count": 52
        }
      ]
    },
    {
      "cell_type": "markdown",
      "metadata": {
        "id": "x7V254lF05zN",
        "colab_type": "text"
      },
      "source": [
        "# 3. Create a new \"data_year\" row\n",
        "We proceede by creating a new row that links together the type of data we have and the year."
      ]
    },
    {
      "cell_type": "code",
      "metadata": {
        "id": "HMuoWEuKgxn3",
        "colab_type": "code",
        "colab": {
          "base_uri": "https://localhost:8080/",
          "height": 405
        },
        "outputId": "0214c80e-6edb-4b0a-b605-9f8c627c0080"
      },
      "source": [
        "df[\"data_year\"] = df.apply(lambda row: \"%s_%s\" % (row[\"column\"], row[\"year\"]), axis =1)\n",
        "df"
      ],
      "execution_count": 53,
      "outputs": [
        {
          "output_type": "execute_result",
          "data": {
            "text/html": [
              "<div>\n",
              "<style scoped>\n",
              "    .dataframe tbody tr th:only-of-type {\n",
              "        vertical-align: middle;\n",
              "    }\n",
              "\n",
              "    .dataframe tbody tr th {\n",
              "        vertical-align: top;\n",
              "    }\n",
              "\n",
              "    .dataframe thead th {\n",
              "        text-align: right;\n",
              "    }\n",
              "</style>\n",
              "<table border=\"1\" class=\"dataframe\">\n",
              "  <thead>\n",
              "    <tr style=\"text-align: right;\">\n",
              "      <th></th>\n",
              "      <th>country</th>\n",
              "      <th>year</th>\n",
              "      <th>column</th>\n",
              "      <th>data</th>\n",
              "      <th>data_year</th>\n",
              "    </tr>\n",
              "  </thead>\n",
              "  <tbody>\n",
              "    <tr>\n",
              "      <th>0</th>\n",
              "      <td>Afghanistan</td>\n",
              "      <td>1999</td>\n",
              "      <td>cases</td>\n",
              "      <td>745</td>\n",
              "      <td>cases_1999</td>\n",
              "    </tr>\n",
              "    <tr>\n",
              "      <th>1</th>\n",
              "      <td>Afghanistan</td>\n",
              "      <td>2000</td>\n",
              "      <td>cases</td>\n",
              "      <td>266</td>\n",
              "      <td>cases_2000</td>\n",
              "    </tr>\n",
              "    <tr>\n",
              "      <th>2</th>\n",
              "      <td>Brazil</td>\n",
              "      <td>1999</td>\n",
              "      <td>cases</td>\n",
              "      <td>37737</td>\n",
              "      <td>cases_1999</td>\n",
              "    </tr>\n",
              "    <tr>\n",
              "      <th>3</th>\n",
              "      <td>Brazil</td>\n",
              "      <td>2000</td>\n",
              "      <td>cases</td>\n",
              "      <td>80488</td>\n",
              "      <td>cases_2000</td>\n",
              "    </tr>\n",
              "    <tr>\n",
              "      <th>4</th>\n",
              "      <td>China</td>\n",
              "      <td>1999</td>\n",
              "      <td>cases</td>\n",
              "      <td>212258</td>\n",
              "      <td>cases_1999</td>\n",
              "    </tr>\n",
              "    <tr>\n",
              "      <th>5</th>\n",
              "      <td>China</td>\n",
              "      <td>2000</td>\n",
              "      <td>cases</td>\n",
              "      <td>213766</td>\n",
              "      <td>cases_2000</td>\n",
              "    </tr>\n",
              "    <tr>\n",
              "      <th>6</th>\n",
              "      <td>Afghanistan</td>\n",
              "      <td>1999</td>\n",
              "      <td>population</td>\n",
              "      <td>19987071</td>\n",
              "      <td>population_1999</td>\n",
              "    </tr>\n",
              "    <tr>\n",
              "      <th>7</th>\n",
              "      <td>Afghanistan</td>\n",
              "      <td>2000</td>\n",
              "      <td>population</td>\n",
              "      <td>20595360</td>\n",
              "      <td>population_2000</td>\n",
              "    </tr>\n",
              "    <tr>\n",
              "      <th>8</th>\n",
              "      <td>Brazil</td>\n",
              "      <td>1999</td>\n",
              "      <td>population</td>\n",
              "      <td>172006362</td>\n",
              "      <td>population_1999</td>\n",
              "    </tr>\n",
              "    <tr>\n",
              "      <th>9</th>\n",
              "      <td>Brazil</td>\n",
              "      <td>2000</td>\n",
              "      <td>population</td>\n",
              "      <td>174504898</td>\n",
              "      <td>population_2000</td>\n",
              "    </tr>\n",
              "    <tr>\n",
              "      <th>10</th>\n",
              "      <td>China</td>\n",
              "      <td>1999</td>\n",
              "      <td>population</td>\n",
              "      <td>1272915272</td>\n",
              "      <td>population_1999</td>\n",
              "    </tr>\n",
              "    <tr>\n",
              "      <th>11</th>\n",
              "      <td>China</td>\n",
              "      <td>2000</td>\n",
              "      <td>population</td>\n",
              "      <td>1280428583</td>\n",
              "      <td>population_2000</td>\n",
              "    </tr>\n",
              "  </tbody>\n",
              "</table>\n",
              "</div>"
            ],
            "text/plain": [
              "        country  year      column        data        data_year\n",
              "0   Afghanistan  1999       cases         745       cases_1999\n",
              "1   Afghanistan  2000       cases         266       cases_2000\n",
              "2        Brazil  1999       cases       37737       cases_1999\n",
              "3        Brazil  2000       cases       80488       cases_2000\n",
              "4         China  1999       cases      212258       cases_1999\n",
              "5         China  2000       cases      213766       cases_2000\n",
              "6   Afghanistan  1999  population    19987071  population_1999\n",
              "7   Afghanistan  2000  population    20595360  population_2000\n",
              "8        Brazil  1999  population   172006362  population_1999\n",
              "9        Brazil  2000  population   174504898  population_2000\n",
              "10        China  1999  population  1272915272  population_1999\n",
              "11        China  2000  population  1280428583  population_2000"
            ]
          },
          "metadata": {
            "tags": []
          },
          "execution_count": 53
        }
      ]
    },
    {
      "cell_type": "markdown",
      "metadata": {
        "id": "MNSl2ZUW1kBs",
        "colab_type": "text"
      },
      "source": [
        "# 4. Create a pivot table\n",
        "\n",
        "In the last step we fix the country as our index and grab the unique values of our newly created \"data_column\" and use them as our new columns.\n",
        "\n",
        "We reset the index in order to arrive at the final clean Table"
      ]
    },
    {
      "cell_type": "code",
      "metadata": {
        "id": "-IdTooQDxSgE",
        "colab_type": "code",
        "colab": {
          "base_uri": "https://localhost:8080/",
          "height": 137
        },
        "outputId": "ea7ae41d-eaef-4017-d76d-1d863eb21f4b"
      },
      "source": [
        "df1 = df.pivot_table(index = \"country\",\n",
        "              columns = \"data_year\",\n",
        "               values = \"data\").reset_index()\n",
        "df1"
      ],
      "execution_count": 54,
      "outputs": [
        {
          "output_type": "execute_result",
          "data": {
            "text/html": [
              "<div>\n",
              "<style scoped>\n",
              "    .dataframe tbody tr th:only-of-type {\n",
              "        vertical-align: middle;\n",
              "    }\n",
              "\n",
              "    .dataframe tbody tr th {\n",
              "        vertical-align: top;\n",
              "    }\n",
              "\n",
              "    .dataframe thead th {\n",
              "        text-align: right;\n",
              "    }\n",
              "</style>\n",
              "<table border=\"1\" class=\"dataframe\">\n",
              "  <thead>\n",
              "    <tr style=\"text-align: right;\">\n",
              "      <th>data_year</th>\n",
              "      <th>country</th>\n",
              "      <th>cases_1999</th>\n",
              "      <th>cases_2000</th>\n",
              "      <th>population_1999</th>\n",
              "      <th>population_2000</th>\n",
              "    </tr>\n",
              "  </thead>\n",
              "  <tbody>\n",
              "    <tr>\n",
              "      <th>0</th>\n",
              "      <td>Afghanistan</td>\n",
              "      <td>745</td>\n",
              "      <td>266</td>\n",
              "      <td>19987071</td>\n",
              "      <td>20595360</td>\n",
              "    </tr>\n",
              "    <tr>\n",
              "      <th>1</th>\n",
              "      <td>Brazil</td>\n",
              "      <td>37737</td>\n",
              "      <td>80488</td>\n",
              "      <td>172006362</td>\n",
              "      <td>174504898</td>\n",
              "    </tr>\n",
              "    <tr>\n",
              "      <th>2</th>\n",
              "      <td>China</td>\n",
              "      <td>212258</td>\n",
              "      <td>213766</td>\n",
              "      <td>1272915272</td>\n",
              "      <td>1280428583</td>\n",
              "    </tr>\n",
              "  </tbody>\n",
              "</table>\n",
              "</div>"
            ],
            "text/plain": [
              "data_year      country  cases_1999  ...  population_1999  population_2000\n",
              "0          Afghanistan         745  ...         19987071         20595360\n",
              "1               Brazil       37737  ...        172006362        174504898\n",
              "2                China      212258  ...       1272915272       1280428583\n",
              "\n",
              "[3 rows x 5 columns]"
            ]
          },
          "metadata": {
            "tags": []
          },
          "execution_count": 54
        }
      ]
    },
    {
      "cell_type": "markdown",
      "metadata": {
        "id": "oRTvoYxP2F2A",
        "colab_type": "text"
      },
      "source": [
        "We could run the code below, if we wanted to switch the order of our columns"
      ]
    },
    {
      "cell_type": "code",
      "metadata": {
        "id": "R3XdU4bOyNMN",
        "colab_type": "code",
        "colab": {
          "base_uri": "https://localhost:8080/",
          "height": 137
        },
        "outputId": "0fb946da-b1c0-4bca-f38e-9c772bac2894"
      },
      "source": [
        "df1.columns = [\"country\",\"population_1999\",\t\"population_2000\",\"cases_1999\",\t\"cases_2000\" ]\n",
        "df1"
      ],
      "execution_count": 57,
      "outputs": [
        {
          "output_type": "execute_result",
          "data": {
            "text/html": [
              "<div>\n",
              "<style scoped>\n",
              "    .dataframe tbody tr th:only-of-type {\n",
              "        vertical-align: middle;\n",
              "    }\n",
              "\n",
              "    .dataframe tbody tr th {\n",
              "        vertical-align: top;\n",
              "    }\n",
              "\n",
              "    .dataframe thead th {\n",
              "        text-align: right;\n",
              "    }\n",
              "</style>\n",
              "<table border=\"1\" class=\"dataframe\">\n",
              "  <thead>\n",
              "    <tr style=\"text-align: right;\">\n",
              "      <th></th>\n",
              "      <th>country</th>\n",
              "      <th>population_1999</th>\n",
              "      <th>population_2000</th>\n",
              "      <th>cases_1999</th>\n",
              "      <th>cases_2000</th>\n",
              "    </tr>\n",
              "  </thead>\n",
              "  <tbody>\n",
              "    <tr>\n",
              "      <th>0</th>\n",
              "      <td>Afghanistan</td>\n",
              "      <td>745</td>\n",
              "      <td>266</td>\n",
              "      <td>19987071</td>\n",
              "      <td>20595360</td>\n",
              "    </tr>\n",
              "    <tr>\n",
              "      <th>1</th>\n",
              "      <td>Brazil</td>\n",
              "      <td>37737</td>\n",
              "      <td>80488</td>\n",
              "      <td>172006362</td>\n",
              "      <td>174504898</td>\n",
              "    </tr>\n",
              "    <tr>\n",
              "      <th>2</th>\n",
              "      <td>China</td>\n",
              "      <td>212258</td>\n",
              "      <td>213766</td>\n",
              "      <td>1272915272</td>\n",
              "      <td>1280428583</td>\n",
              "    </tr>\n",
              "  </tbody>\n",
              "</table>\n",
              "</div>"
            ],
            "text/plain": [
              "       country  population_1999  population_2000  cases_1999  cases_2000\n",
              "0  Afghanistan              745              266    19987071    20595360\n",
              "1       Brazil            37737            80488   172006362   174504898\n",
              "2        China           212258           213766  1272915272  1280428583"
            ]
          },
          "metadata": {
            "tags": []
          },
          "execution_count": 57
        }
      ]
    },
    {
      "cell_type": "code",
      "metadata": {
        "id": "R_HipBOLz00x",
        "colab_type": "code",
        "colab": {}
      },
      "source": [
        ""
      ],
      "execution_count": 0,
      "outputs": []
    }
  ]
}
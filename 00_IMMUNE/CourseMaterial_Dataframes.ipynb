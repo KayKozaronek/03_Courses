{
  "nbformat": 4,
  "nbformat_minor": 0,
  "metadata": {
    "colab": {
      "name": "CourseMaterial_Dataframes.ipynb",
      "provenance": [],
      "collapsed_sections": [],
      "authorship_tag": "ABX9TyMn/qaSuuJ4hdlD41y9IR1B",
      "include_colab_link": true
    },
    "kernelspec": {
      "name": "python3",
      "display_name": "Python 3"
    }
  },
  "cells": [
    {
      "cell_type": "markdown",
      "metadata": {
        "id": "view-in-github",
        "colab_type": "text"
      },
      "source": [
        "<a href=\"https://colab.research.google.com/github/KayKozaronek/03_Courses/blob/master/CourseMaterial_Dataframes.ipynb\" target=\"_parent\"><img src=\"https://colab.research.google.com/assets/colab-badge.svg\" alt=\"Open In Colab\"/></a>"
      ]
    },
    {
      "cell_type": "markdown",
      "metadata": {
        "id": "ItIlQ8FyfElc",
        "colab_type": "text"
      },
      "source": [
        "#Dataframes \n",
        "This notebook shows the most common functionalities of dataframes in Pandas and how to perform operations on them\n",
        "\n",
        "Eg:\n",
        "- asdf\n",
        "-asdf\n",
        "-adsf "
      ]
    },
    {
      "cell_type": "markdown",
      "metadata": {
        "id": "Zum0DFEYeePV",
        "colab_type": "text"
      },
      "source": [
        "A DataFrame is a tabular structure formed by a set of series, with a default index starting at 0 "
      ]
    },
    {
      "cell_type": "code",
      "metadata": {
        "id": "WJd0zFrSfDWO",
        "colab_type": "code",
        "colab": {
          "base_uri": "https://localhost:8080/",
          "height": 102
        },
        "outputId": "debe0767-ccbd-44e6-d968-e4929b253d5d"
      },
      "source": [
        "import pandas as pd\n",
        "col1 = pd.Series([\"Sergio\",\"David\",\"Natalia\", \"Daniel\"])\n",
        "col1"
      ],
      "execution_count": 2,
      "outputs": [
        {
          "output_type": "execute_result",
          "data": {
            "text/plain": [
              "0     Sergio\n",
              "1      David\n",
              "2    Natalia\n",
              "3     Daniel\n",
              "dtype: object"
            ]
          },
          "metadata": {
            "tags": []
          },
          "execution_count": 2
        }
      ]
    },
    {
      "cell_type": "code",
      "metadata": {
        "id": "933iCUAkfZ37",
        "colab_type": "code",
        "colab": {
          "base_uri": "https://localhost:8080/",
          "height": 102
        },
        "outputId": "8f3006b4-cd4e-4951-abf8-08d3a0351074"
      },
      "source": [
        "col2 = pd.Series([30,10,11,27])\n",
        "col2"
      ],
      "execution_count": 3,
      "outputs": [
        {
          "output_type": "execute_result",
          "data": {
            "text/plain": [
              "0    30\n",
              "1    10\n",
              "2    11\n",
              "3    27\n",
              "dtype: int64"
            ]
          },
          "metadata": {
            "tags": []
          },
          "execution_count": 3
        }
      ]
    },
    {
      "cell_type": "code",
      "metadata": {
        "id": "qFj7zWuqfh0r",
        "colab_type": "code",
        "colab": {
          "base_uri": "https://localhost:8080/",
          "height": 167
        },
        "outputId": "9eaea6ad-7d03-4fa6-9d41-ba16d31be047"
      },
      "source": [
        "pd.DataFrame({\"name\": col1,\n",
        "              \"age\": col2},\n",
        "              columns =[\"name\", \"age\"])"
      ],
      "execution_count": 5,
      "outputs": [
        {
          "output_type": "execute_result",
          "data": {
            "text/html": [
              "<div>\n",
              "<style scoped>\n",
              "    .dataframe tbody tr th:only-of-type {\n",
              "        vertical-align: middle;\n",
              "    }\n",
              "\n",
              "    .dataframe tbody tr th {\n",
              "        vertical-align: top;\n",
              "    }\n",
              "\n",
              "    .dataframe thead th {\n",
              "        text-align: right;\n",
              "    }\n",
              "</style>\n",
              "<table border=\"1\" class=\"dataframe\">\n",
              "  <thead>\n",
              "    <tr style=\"text-align: right;\">\n",
              "      <th></th>\n",
              "      <th>name</th>\n",
              "      <th>age</th>\n",
              "    </tr>\n",
              "  </thead>\n",
              "  <tbody>\n",
              "    <tr>\n",
              "      <th>0</th>\n",
              "      <td>Sergio</td>\n",
              "      <td>30</td>\n",
              "    </tr>\n",
              "    <tr>\n",
              "      <th>1</th>\n",
              "      <td>David</td>\n",
              "      <td>10</td>\n",
              "    </tr>\n",
              "    <tr>\n",
              "      <th>2</th>\n",
              "      <td>Natalia</td>\n",
              "      <td>11</td>\n",
              "    </tr>\n",
              "    <tr>\n",
              "      <th>3</th>\n",
              "      <td>Daniel</td>\n",
              "      <td>27</td>\n",
              "    </tr>\n",
              "  </tbody>\n",
              "</table>\n",
              "</div>"
            ],
            "text/plain": [
              "      name  age\n",
              "0   Sergio   30\n",
              "1    David   10\n",
              "2  Natalia   11\n",
              "3   Daniel   27"
            ]
          },
          "metadata": {
            "tags": []
          },
          "execution_count": 5
        }
      ]
    },
    {
      "cell_type": "markdown",
      "metadata": {
        "id": "bFvecCcZhT9e",
        "colab_type": "text"
      },
      "source": [
        "#Creating a DataFrame"
      ]
    },
    {
      "cell_type": "markdown",
      "metadata": {
        "id": "PsUZfk1wf9vP",
        "colab_type": "text"
      },
      "source": [
        "When a DataFrame is created from a Series, Pandas takes into account the series indexes and cn create null values"
      ]
    },
    {
      "cell_type": "code",
      "metadata": {
        "id": "ptGSjZ3kgRKT",
        "colab_type": "code",
        "colab": {
          "base_uri": "https://localhost:8080/",
          "height": 68
        },
        "outputId": "66f02779-7933-430c-f231-92327a287720"
      },
      "source": [
        "serie1 = pd.Series([1,2],\n",
        "                   index =[\"one\", \"two\"])\n",
        "print(serie1)"
      ],
      "execution_count": 7,
      "outputs": [
        {
          "output_type": "stream",
          "text": [
            "one    1\n",
            "two    2\n",
            "dtype: int64\n"
          ],
          "name": "stdout"
        }
      ]
    },
    {
      "cell_type": "code",
      "metadata": {
        "id": "v62TSseNgY__",
        "colab_type": "code",
        "colab": {
          "base_uri": "https://localhost:8080/",
          "height": 68
        },
        "outputId": "f8cd49f6-8e10-4e61-976f-4252df00f2fc"
      },
      "source": [
        "serie2 = pd.Series([2,3],\n",
        "                   index =[\"two\", \"three\"])\n",
        "print(serie2)"
      ],
      "execution_count": 9,
      "outputs": [
        {
          "output_type": "stream",
          "text": [
            "two      2\n",
            "three    3\n",
            "dtype: int64\n"
          ],
          "name": "stdout"
        }
      ]
    },
    {
      "cell_type": "code",
      "metadata": {
        "id": "0b_1geyRghQp",
        "colab_type": "code",
        "colab": {
          "base_uri": "https://localhost:8080/",
          "height": 85
        },
        "outputId": "ce953a1a-e49e-4a1b-c111-d6180bf92d39"
      },
      "source": [
        "df = pd.DataFrame({\"c1\": pd.Series([1,2], index = [\"one\", \"two\"]),\n",
        "                   \"c2\": pd.Series([2,3], index =[\"two\", \"three\"])},\n",
        "                  columns = [\"c1\", \"c2\"],\n",
        "                  index = [\"one\", \"two\", \"three\"])\n",
        "\n",
        "print(df)"
      ],
      "execution_count": 12,
      "outputs": [
        {
          "output_type": "stream",
          "text": [
            "        c1   c2\n",
            "one    1.0  NaN\n",
            "two    2.0  2.0\n",
            "three  NaN  3.0\n"
          ],
          "name": "stdout"
        }
      ]
    },
    {
      "cell_type": "markdown",
      "metadata": {
        "id": "FxdpTrpfg6WA",
        "colab_type": "text"
      },
      "source": [
        "Usually a DataFrame is created from a dictionary of lists containing the same elements"
      ]
    },
    {
      "cell_type": "code",
      "metadata": {
        "id": "hI9_MtlghM5C",
        "colab_type": "code",
        "colab": {
          "base_uri": "https://localhost:8080/",
          "height": 119
        },
        "outputId": "d8294024-ae06-474c-b272-6437d0e1b32b"
      },
      "source": [
        "dictionary = {\n",
        "    \"name\": [\"Julio\", \"Nuria\", \"Jose\", \"Luis\",\"Daniel\"],\n",
        "    \"age\" : [ 22,26,28,25,24],\n",
        "    \"sex\" : [\"M\", \"F\", \"M\", \"M\", \"M\"]\n",
        "    }\n",
        "\n",
        "dataframe = pd.DataFrame(dictionary, columns = [\"name\", \"age\", \"sex\"])\n",
        "print(dataframe)"
      ],
      "execution_count": 13,
      "outputs": [
        {
          "output_type": "stream",
          "text": [
            "     name  age sex\n",
            "0   Julio   22   M\n",
            "1   Nuria   26   F\n",
            "2    Jose   28   M\n",
            "3    Luis   25   M\n",
            "4  Daniel   24   M\n"
          ],
          "name": "stdout"
        }
      ]
    },
    {
      "cell_type": "markdown",
      "metadata": {
        "id": "C79eBODzh1-7",
        "colab_type": "text"
      },
      "source": [
        "A DataFrame can also be created from 3 arrays: values, columns and rows"
      ]
    },
    {
      "cell_type": "code",
      "metadata": {
        "id": "o8jKY65mh9P5",
        "colab_type": "code",
        "colab": {
          "base_uri": "https://localhost:8080/",
          "height": 102
        },
        "outputId": "0e025ce2-697b-460e-ffd0-d15c70abb67a"
      },
      "source": [
        "import numpy as np\n",
        "df = pd.DataFrame(np.arange(16).reshape(4,4),\n",
        "                  columns=list(\"ABCD\"),\n",
        "                  index =(\"one\",\"two\",\"three\", \"four\"))\n",
        "\n",
        "print(df)"
      ],
      "execution_count": 16,
      "outputs": [
        {
          "output_type": "stream",
          "text": [
            "        A   B   C   D\n",
            "one     0   1   2   3\n",
            "two     4   5   6   7\n",
            "three   8   9  10  11\n",
            "four   12  13  14  15\n"
          ],
          "name": "stdout"
        }
      ]
    },
    {
      "cell_type": "markdown",
      "metadata": {
        "id": "E8JpteyfiI1v",
        "colab_type": "text"
      },
      "source": [
        "These arrays can be accessed through the attributes **index**, **columns** and **values**"
      ]
    },
    {
      "cell_type": "code",
      "metadata": {
        "id": "5uNZZ8KMivbT",
        "colab_type": "code",
        "colab": {
          "base_uri": "https://localhost:8080/",
          "height": 85
        },
        "outputId": "8573ea79-0d2e-4231-87e6-660182b947e9"
      },
      "source": [
        "df.values "
      ],
      "execution_count": 17,
      "outputs": [
        {
          "output_type": "execute_result",
          "data": {
            "text/plain": [
              "array([[ 0,  1,  2,  3],\n",
              "       [ 4,  5,  6,  7],\n",
              "       [ 8,  9, 10, 11],\n",
              "       [12, 13, 14, 15]])"
            ]
          },
          "metadata": {
            "tags": []
          },
          "execution_count": 17
        }
      ]
    },
    {
      "cell_type": "code",
      "metadata": {
        "id": "CPSHjnXIiwuQ",
        "colab_type": "code",
        "colab": {
          "base_uri": "https://localhost:8080/",
          "height": 34
        },
        "outputId": "1875edfe-26cd-418a-9abb-b8d958d968da"
      },
      "source": [
        "df.index"
      ],
      "execution_count": 18,
      "outputs": [
        {
          "output_type": "execute_result",
          "data": {
            "text/plain": [
              "Index(['one', 'two', 'three', 'four'], dtype='object')"
            ]
          },
          "metadata": {
            "tags": []
          },
          "execution_count": 18
        }
      ]
    },
    {
      "cell_type": "code",
      "metadata": {
        "id": "wM7Z4VB9iyNf",
        "colab_type": "code",
        "colab": {
          "base_uri": "https://localhost:8080/",
          "height": 34
        },
        "outputId": "98304965-01ad-4019-c333-5ba0f08df3c7"
      },
      "source": [
        "df.columns"
      ],
      "execution_count": 19,
      "outputs": [
        {
          "output_type": "execute_result",
          "data": {
            "text/plain": [
              "Index(['A', 'B', 'C', 'D'], dtype='object')"
            ]
          },
          "metadata": {
            "tags": []
          },
          "execution_count": 19
        }
      ]
    },
    {
      "cell_type": "markdown",
      "metadata": {
        "id": "5HnWUNlWiz1Z",
        "colab_type": "text"
      },
      "source": [
        "##Exercise 14\n",
        "Create the following DataFrame, respecting the order of the columns, and assign it to the variable ‘df’\n",
        "- name: 'Bulbasaur', 'Charmander', 'Squirtle','Caterpie'\n",
        "- evolution: 'Ivysaur', 'Charmeleon', 'Wartortle', 'Metapod'\n",
        "- type: 'grass', 'fire', 'water', 'bug'\n",
        "- hp : 45, 39, 44, 45\n",
        "- pokedex : 'yes', 'no', 'yes', 'no'"
      ]
    },
    {
      "cell_type": "code",
      "metadata": {
        "id": "dP2otbjri8T2",
        "colab_type": "code",
        "colab": {
          "base_uri": "https://localhost:8080/",
          "height": 102
        },
        "outputId": "7cfc7175-f559-4d39-fd7c-2b72ccf58be3"
      },
      "source": [
        "dictionary = {\"name\" : [\"Bulbasaur\", \"Charmander\", \"Squirtle\", \"Carterpie\"],\n",
        "              \"evolution\" : [\"Ivysaur\",\"Charmeleon\", \"Wartortle\",\"Metapod\"],\n",
        "              \"hp\" : [45,39,44,45],\n",
        "              \"pokedex\" : [\"Yes\",\"No\",\"Yes\",\"No\"],\n",
        "              \"type\" : [\"Grass\",\"Fire\",\"Water\",\"Bug\"]}\n",
        "\n",
        "pokeframe = pd.DataFrame(dictionary,\n",
        "                  index = [\"A\",\"B\",\"C\",\"D\"])\n",
        "print(pokeframe)"
      ],
      "execution_count": 210,
      "outputs": [
        {
          "output_type": "stream",
          "text": [
            "         name   evolution  hp pokedex   type\n",
            "A   Bulbasaur     Ivysaur  45     Yes  Grass\n",
            "B  Charmander  Charmeleon  39      No   Fire\n",
            "C    Squirtle   Wartortle  44     Yes  Water\n",
            "D   Carterpie     Metapod  45      No    Bug\n"
          ],
          "name": "stdout"
        }
      ]
    },
    {
      "cell_type": "markdown",
      "metadata": {
        "id": "RwsdiPvZkLRJ",
        "colab_type": "text"
      },
      "source": [
        "##Transposing a DataFrame\n",
        "The dataframe attribute T allows you to transpose a dataframe (for instance to change rows by columns)"
      ]
    },
    {
      "cell_type": "code",
      "metadata": {
        "id": "lpjgyQgznD3g",
        "colab_type": "code",
        "colab": {
          "base_uri": "https://localhost:8080/",
          "height": 167
        },
        "outputId": "915b21df-6654-4631-a4c8-2a3778dcc4f7"
      },
      "source": [
        "df = pd.DataFrame({\n",
        "    \"C1\":np.arange(1,5),\n",
        "    \"C2\": np.repeat(\"Smaller than 5\", 4 )\n",
        "})\n",
        "\n",
        "df"
      ],
      "execution_count": 42,
      "outputs": [
        {
          "output_type": "execute_result",
          "data": {
            "text/html": [
              "<div>\n",
              "<style scoped>\n",
              "    .dataframe tbody tr th:only-of-type {\n",
              "        vertical-align: middle;\n",
              "    }\n",
              "\n",
              "    .dataframe tbody tr th {\n",
              "        vertical-align: top;\n",
              "    }\n",
              "\n",
              "    .dataframe thead th {\n",
              "        text-align: right;\n",
              "    }\n",
              "</style>\n",
              "<table border=\"1\" class=\"dataframe\">\n",
              "  <thead>\n",
              "    <tr style=\"text-align: right;\">\n",
              "      <th></th>\n",
              "      <th>C1</th>\n",
              "      <th>C2</th>\n",
              "    </tr>\n",
              "  </thead>\n",
              "  <tbody>\n",
              "    <tr>\n",
              "      <th>0</th>\n",
              "      <td>1</td>\n",
              "      <td>Smaller than 5</td>\n",
              "    </tr>\n",
              "    <tr>\n",
              "      <th>1</th>\n",
              "      <td>2</td>\n",
              "      <td>Smaller than 5</td>\n",
              "    </tr>\n",
              "    <tr>\n",
              "      <th>2</th>\n",
              "      <td>3</td>\n",
              "      <td>Smaller than 5</td>\n",
              "    </tr>\n",
              "    <tr>\n",
              "      <th>3</th>\n",
              "      <td>4</td>\n",
              "      <td>Smaller than 5</td>\n",
              "    </tr>\n",
              "  </tbody>\n",
              "</table>\n",
              "</div>"
            ],
            "text/plain": [
              "   C1              C2\n",
              "0   1  Smaller than 5\n",
              "1   2  Smaller than 5\n",
              "2   3  Smaller than 5\n",
              "3   4  Smaller than 5"
            ]
          },
          "metadata": {
            "tags": []
          },
          "execution_count": 42
        }
      ]
    },
    {
      "cell_type": "code",
      "metadata": {
        "id": "yj39GkVNnPG6",
        "colab_type": "code",
        "colab": {
          "base_uri": "https://localhost:8080/",
          "height": 107
        },
        "outputId": "88dede12-5f6f-4c6f-c3b6-b6152b094ca8"
      },
      "source": [
        "df.T"
      ],
      "execution_count": 43,
      "outputs": [
        {
          "output_type": "execute_result",
          "data": {
            "text/html": [
              "<div>\n",
              "<style scoped>\n",
              "    .dataframe tbody tr th:only-of-type {\n",
              "        vertical-align: middle;\n",
              "    }\n",
              "\n",
              "    .dataframe tbody tr th {\n",
              "        vertical-align: top;\n",
              "    }\n",
              "\n",
              "    .dataframe thead th {\n",
              "        text-align: right;\n",
              "    }\n",
              "</style>\n",
              "<table border=\"1\" class=\"dataframe\">\n",
              "  <thead>\n",
              "    <tr style=\"text-align: right;\">\n",
              "      <th></th>\n",
              "      <th>0</th>\n",
              "      <th>1</th>\n",
              "      <th>2</th>\n",
              "      <th>3</th>\n",
              "    </tr>\n",
              "  </thead>\n",
              "  <tbody>\n",
              "    <tr>\n",
              "      <th>C1</th>\n",
              "      <td>1</td>\n",
              "      <td>2</td>\n",
              "      <td>3</td>\n",
              "      <td>4</td>\n",
              "    </tr>\n",
              "    <tr>\n",
              "      <th>C2</th>\n",
              "      <td>Smaller than 5</td>\n",
              "      <td>Smaller than 5</td>\n",
              "      <td>Smaller than 5</td>\n",
              "      <td>Smaller than 5</td>\n",
              "    </tr>\n",
              "  </tbody>\n",
              "</table>\n",
              "</div>"
            ],
            "text/plain": [
              "                 0               1               2               3\n",
              "C1               1               2               3               4\n",
              "C2  Smaller than 5  Smaller than 5  Smaller than 5  Smaller than 5"
            ]
          },
          "metadata": {
            "tags": []
          },
          "execution_count": 43
        }
      ]
    },
    {
      "cell_type": "markdown",
      "metadata": {
        "id": "Wfq7RSQ0nX5q",
        "colab_type": "text"
      },
      "source": [
        "## Exercise 15\n",
        "Take the Dataframe from the previous exercise and transpose it. \n",
        "Display values, columns and row indexes "
      ]
    },
    {
      "cell_type": "code",
      "metadata": {
        "id": "E8fdErZcnvkC",
        "colab_type": "code",
        "colab": {
          "base_uri": "https://localhost:8080/",
          "height": 197
        },
        "outputId": "ab313d93-ee6a-4afb-bc2f-257c5ce31a53"
      },
      "source": [
        "pokeframe.T"
      ],
      "execution_count": 47,
      "outputs": [
        {
          "output_type": "execute_result",
          "data": {
            "text/html": [
              "<div>\n",
              "<style scoped>\n",
              "    .dataframe tbody tr th:only-of-type {\n",
              "        vertical-align: middle;\n",
              "    }\n",
              "\n",
              "    .dataframe tbody tr th {\n",
              "        vertical-align: top;\n",
              "    }\n",
              "\n",
              "    .dataframe thead th {\n",
              "        text-align: right;\n",
              "    }\n",
              "</style>\n",
              "<table border=\"1\" class=\"dataframe\">\n",
              "  <thead>\n",
              "    <tr style=\"text-align: right;\">\n",
              "      <th></th>\n",
              "      <th>A</th>\n",
              "      <th>B</th>\n",
              "      <th>C</th>\n",
              "      <th>D</th>\n",
              "    </tr>\n",
              "  </thead>\n",
              "  <tbody>\n",
              "    <tr>\n",
              "      <th>name</th>\n",
              "      <td>Bulbasaur</td>\n",
              "      <td>Charmander</td>\n",
              "      <td>Squirtle</td>\n",
              "      <td>Carterpie</td>\n",
              "    </tr>\n",
              "    <tr>\n",
              "      <th>evolution</th>\n",
              "      <td>Ivysaur</td>\n",
              "      <td>Charmeleon</td>\n",
              "      <td>Wartortle</td>\n",
              "      <td>Metapod</td>\n",
              "    </tr>\n",
              "    <tr>\n",
              "      <th>hp</th>\n",
              "      <td>45</td>\n",
              "      <td>39</td>\n",
              "      <td>44</td>\n",
              "      <td>45</td>\n",
              "    </tr>\n",
              "    <tr>\n",
              "      <th>pokedex</th>\n",
              "      <td>Yes</td>\n",
              "      <td>No</td>\n",
              "      <td>Yes</td>\n",
              "      <td>No</td>\n",
              "    </tr>\n",
              "    <tr>\n",
              "      <th>type</th>\n",
              "      <td>Grass</td>\n",
              "      <td>Fire</td>\n",
              "      <td>Water</td>\n",
              "      <td>Bug</td>\n",
              "    </tr>\n",
              "  </tbody>\n",
              "</table>\n",
              "</div>"
            ],
            "text/plain": [
              "                   A           B          C          D\n",
              "name       Bulbasaur  Charmander   Squirtle  Carterpie\n",
              "evolution    Ivysaur  Charmeleon  Wartortle    Metapod\n",
              "hp                45          39         44         45\n",
              "pokedex          Yes          No        Yes         No\n",
              "type           Grass        Fire      Water        Bug"
            ]
          },
          "metadata": {
            "tags": []
          },
          "execution_count": 47
        }
      ]
    },
    {
      "cell_type": "markdown",
      "metadata": {
        "id": "vMCXiz89nxV-",
        "colab_type": "text"
      },
      "source": [
        "## Selecting a column\n",
        "Pandas allows access to a column in two ways: \n",
        "- Dataframe.column\n",
        "- Dataframe[\"column\"]\n",
        "\n",
        "The object it returns is a Series"
      ]
    },
    {
      "cell_type": "code",
      "metadata": {
        "id": "62SnMtU7oJji",
        "colab_type": "code",
        "colab": {
          "base_uri": "https://localhost:8080/",
          "height": 167
        },
        "outputId": "8c47f63e-f5c8-4d26-abba-20e459385d4c"
      },
      "source": [
        "dictionary = {\n",
        "    \"n1\": np.arange(1,5),\n",
        "    \"n2\": np.arange(50,54)\n",
        "}\n",
        "dataframe = pd.DataFrame(dictionary)\n",
        "dataframe "
      ],
      "execution_count": 48,
      "outputs": [
        {
          "output_type": "execute_result",
          "data": {
            "text/html": [
              "<div>\n",
              "<style scoped>\n",
              "    .dataframe tbody tr th:only-of-type {\n",
              "        vertical-align: middle;\n",
              "    }\n",
              "\n",
              "    .dataframe tbody tr th {\n",
              "        vertical-align: top;\n",
              "    }\n",
              "\n",
              "    .dataframe thead th {\n",
              "        text-align: right;\n",
              "    }\n",
              "</style>\n",
              "<table border=\"1\" class=\"dataframe\">\n",
              "  <thead>\n",
              "    <tr style=\"text-align: right;\">\n",
              "      <th></th>\n",
              "      <th>n1</th>\n",
              "      <th>n2</th>\n",
              "    </tr>\n",
              "  </thead>\n",
              "  <tbody>\n",
              "    <tr>\n",
              "      <th>0</th>\n",
              "      <td>1</td>\n",
              "      <td>50</td>\n",
              "    </tr>\n",
              "    <tr>\n",
              "      <th>1</th>\n",
              "      <td>2</td>\n",
              "      <td>51</td>\n",
              "    </tr>\n",
              "    <tr>\n",
              "      <th>2</th>\n",
              "      <td>3</td>\n",
              "      <td>52</td>\n",
              "    </tr>\n",
              "    <tr>\n",
              "      <th>3</th>\n",
              "      <td>4</td>\n",
              "      <td>53</td>\n",
              "    </tr>\n",
              "  </tbody>\n",
              "</table>\n",
              "</div>"
            ],
            "text/plain": [
              "   n1  n2\n",
              "0   1  50\n",
              "1   2  51\n",
              "2   3  52\n",
              "3   4  53"
            ]
          },
          "metadata": {
            "tags": []
          },
          "execution_count": 48
        }
      ]
    },
    {
      "cell_type": "code",
      "metadata": {
        "id": "guRsclEYoVIX",
        "colab_type": "code",
        "colab": {
          "base_uri": "https://localhost:8080/",
          "height": 102
        },
        "outputId": "80ed29dc-4ea9-4dae-c263-f7082907167a"
      },
      "source": [
        "dataframe.n1"
      ],
      "execution_count": 49,
      "outputs": [
        {
          "output_type": "execute_result",
          "data": {
            "text/plain": [
              "0    1\n",
              "1    2\n",
              "2    3\n",
              "3    4\n",
              "Name: n1, dtype: int64"
            ]
          },
          "metadata": {
            "tags": []
          },
          "execution_count": 49
        }
      ]
    },
    {
      "cell_type": "code",
      "metadata": {
        "id": "2f27ch1ioWeK",
        "colab_type": "code",
        "colab": {
          "base_uri": "https://localhost:8080/",
          "height": 102
        },
        "outputId": "16e4cd3a-2169-452e-8f02-3cae130fe665"
      },
      "source": [
        "dataframe[\"n1\"]"
      ],
      "execution_count": 50,
      "outputs": [
        {
          "output_type": "execute_result",
          "data": {
            "text/plain": [
              "0    1\n",
              "1    2\n",
              "2    3\n",
              "3    4\n",
              "Name: n1, dtype: int64"
            ]
          },
          "metadata": {
            "tags": []
          },
          "execution_count": 50
        }
      ]
    },
    {
      "cell_type": "markdown",
      "metadata": {
        "id": "gjrIm1_zoXwy",
        "colab_type": "text"
      },
      "source": [
        "# Multi-column selection\n",
        "\n",
        "- To select a set of columns you need to specify a list of columns\n",
        "- The object it returns is a new DataFrame"
      ]
    },
    {
      "cell_type": "code",
      "metadata": {
        "id": "BBJsLh78okbF",
        "colab_type": "code",
        "colab": {
          "base_uri": "https://localhost:8080/",
          "height": 137
        },
        "outputId": "38536a2f-d4f6-4256-e333-a0bed5ff5850"
      },
      "source": [
        "dataframe = pd.DataFrame(np.arange(1,16).reshape(3,5),\n",
        "                         columns=[\"C1\",\"C2\",\"C3\",\"C4\",\"C5\"],\n",
        "                         index = list(\"ABC\"))\n",
        "dataframe"
      ],
      "execution_count": 52,
      "outputs": [
        {
          "output_type": "execute_result",
          "data": {
            "text/html": [
              "<div>\n",
              "<style scoped>\n",
              "    .dataframe tbody tr th:only-of-type {\n",
              "        vertical-align: middle;\n",
              "    }\n",
              "\n",
              "    .dataframe tbody tr th {\n",
              "        vertical-align: top;\n",
              "    }\n",
              "\n",
              "    .dataframe thead th {\n",
              "        text-align: right;\n",
              "    }\n",
              "</style>\n",
              "<table border=\"1\" class=\"dataframe\">\n",
              "  <thead>\n",
              "    <tr style=\"text-align: right;\">\n",
              "      <th></th>\n",
              "      <th>C1</th>\n",
              "      <th>C2</th>\n",
              "      <th>C3</th>\n",
              "      <th>C4</th>\n",
              "      <th>C5</th>\n",
              "    </tr>\n",
              "  </thead>\n",
              "  <tbody>\n",
              "    <tr>\n",
              "      <th>A</th>\n",
              "      <td>1</td>\n",
              "      <td>2</td>\n",
              "      <td>3</td>\n",
              "      <td>4</td>\n",
              "      <td>5</td>\n",
              "    </tr>\n",
              "    <tr>\n",
              "      <th>B</th>\n",
              "      <td>6</td>\n",
              "      <td>7</td>\n",
              "      <td>8</td>\n",
              "      <td>9</td>\n",
              "      <td>10</td>\n",
              "    </tr>\n",
              "    <tr>\n",
              "      <th>C</th>\n",
              "      <td>11</td>\n",
              "      <td>12</td>\n",
              "      <td>13</td>\n",
              "      <td>14</td>\n",
              "      <td>15</td>\n",
              "    </tr>\n",
              "  </tbody>\n",
              "</table>\n",
              "</div>"
            ],
            "text/plain": [
              "   C1  C2  C3  C4  C5\n",
              "A   1   2   3   4   5\n",
              "B   6   7   8   9  10\n",
              "C  11  12  13  14  15"
            ]
          },
          "metadata": {
            "tags": []
          },
          "execution_count": 52
        }
      ]
    },
    {
      "cell_type": "code",
      "metadata": {
        "id": "7NpgvBLio1Ej",
        "colab_type": "code",
        "colab": {
          "base_uri": "https://localhost:8080/",
          "height": 137
        },
        "outputId": "7571c630-d422-439c-91e3-52d8585996d7"
      },
      "source": [
        "dataframe[[\"C2\", \"C4\"]]"
      ],
      "execution_count": 54,
      "outputs": [
        {
          "output_type": "execute_result",
          "data": {
            "text/html": [
              "<div>\n",
              "<style scoped>\n",
              "    .dataframe tbody tr th:only-of-type {\n",
              "        vertical-align: middle;\n",
              "    }\n",
              "\n",
              "    .dataframe tbody tr th {\n",
              "        vertical-align: top;\n",
              "    }\n",
              "\n",
              "    .dataframe thead th {\n",
              "        text-align: right;\n",
              "    }\n",
              "</style>\n",
              "<table border=\"1\" class=\"dataframe\">\n",
              "  <thead>\n",
              "    <tr style=\"text-align: right;\">\n",
              "      <th></th>\n",
              "      <th>C2</th>\n",
              "      <th>C4</th>\n",
              "    </tr>\n",
              "  </thead>\n",
              "  <tbody>\n",
              "    <tr>\n",
              "      <th>A</th>\n",
              "      <td>2</td>\n",
              "      <td>4</td>\n",
              "    </tr>\n",
              "    <tr>\n",
              "      <th>B</th>\n",
              "      <td>7</td>\n",
              "      <td>9</td>\n",
              "    </tr>\n",
              "    <tr>\n",
              "      <th>C</th>\n",
              "      <td>12</td>\n",
              "      <td>14</td>\n",
              "    </tr>\n",
              "  </tbody>\n",
              "</table>\n",
              "</div>"
            ],
            "text/plain": [
              "   C2  C4\n",
              "A   2   4\n",
              "B   7   9\n",
              "C  12  14"
            ]
          },
          "metadata": {
            "tags": []
          },
          "execution_count": 54
        }
      ]
    },
    {
      "cell_type": "markdown",
      "metadata": {
        "id": "26MuuUcIo4dO",
        "colab_type": "text"
      },
      "source": [
        "#Exercise 16\n",
        "- Get the \"name\" column as a Series, using two different methods \n",
        "- Get the column \"name\" as a Dataframe  "
      ]
    },
    {
      "cell_type": "code",
      "metadata": {
        "id": "gdLf6W40pMlH",
        "colab_type": "code",
        "colab": {
          "base_uri": "https://localhost:8080/",
          "height": 167
        },
        "outputId": "f256bca1-c09a-44ca-cd55-ad202c573d2a"
      },
      "source": [
        "pokeframe"
      ],
      "execution_count": 55,
      "outputs": [
        {
          "output_type": "execute_result",
          "data": {
            "text/html": [
              "<div>\n",
              "<style scoped>\n",
              "    .dataframe tbody tr th:only-of-type {\n",
              "        vertical-align: middle;\n",
              "    }\n",
              "\n",
              "    .dataframe tbody tr th {\n",
              "        vertical-align: top;\n",
              "    }\n",
              "\n",
              "    .dataframe thead th {\n",
              "        text-align: right;\n",
              "    }\n",
              "</style>\n",
              "<table border=\"1\" class=\"dataframe\">\n",
              "  <thead>\n",
              "    <tr style=\"text-align: right;\">\n",
              "      <th></th>\n",
              "      <th>name</th>\n",
              "      <th>evolution</th>\n",
              "      <th>hp</th>\n",
              "      <th>pokedex</th>\n",
              "      <th>type</th>\n",
              "    </tr>\n",
              "  </thead>\n",
              "  <tbody>\n",
              "    <tr>\n",
              "      <th>A</th>\n",
              "      <td>Bulbasaur</td>\n",
              "      <td>Ivysaur</td>\n",
              "      <td>45</td>\n",
              "      <td>Yes</td>\n",
              "      <td>Grass</td>\n",
              "    </tr>\n",
              "    <tr>\n",
              "      <th>B</th>\n",
              "      <td>Charmander</td>\n",
              "      <td>Charmeleon</td>\n",
              "      <td>39</td>\n",
              "      <td>No</td>\n",
              "      <td>Fire</td>\n",
              "    </tr>\n",
              "    <tr>\n",
              "      <th>C</th>\n",
              "      <td>Squirtle</td>\n",
              "      <td>Wartortle</td>\n",
              "      <td>44</td>\n",
              "      <td>Yes</td>\n",
              "      <td>Water</td>\n",
              "    </tr>\n",
              "    <tr>\n",
              "      <th>D</th>\n",
              "      <td>Carterpie</td>\n",
              "      <td>Metapod</td>\n",
              "      <td>45</td>\n",
              "      <td>No</td>\n",
              "      <td>Bug</td>\n",
              "    </tr>\n",
              "  </tbody>\n",
              "</table>\n",
              "</div>"
            ],
            "text/plain": [
              "         name   evolution  hp pokedex   type\n",
              "A   Bulbasaur     Ivysaur  45     Yes  Grass\n",
              "B  Charmander  Charmeleon  39      No   Fire\n",
              "C    Squirtle   Wartortle  44     Yes  Water\n",
              "D   Carterpie     Metapod  45      No    Bug"
            ]
          },
          "metadata": {
            "tags": []
          },
          "execution_count": 55
        }
      ]
    },
    {
      "cell_type": "code",
      "metadata": {
        "id": "jpPueFh7pRL8",
        "colab_type": "code",
        "colab": {
          "base_uri": "https://localhost:8080/",
          "height": 221
        },
        "outputId": "be6babc1-2f64-491c-ac8c-fa20067ae87b"
      },
      "source": [
        "print(pokeframe.name)\n",
        "print(f\"\\n\")\n",
        "print(pokeframe[\"name\"])"
      ],
      "execution_count": 57,
      "outputs": [
        {
          "output_type": "stream",
          "text": [
            "A     Bulbasaur\n",
            "B    Charmander\n",
            "C      Squirtle\n",
            "D     Carterpie\n",
            "Name: name, dtype: object\n",
            "\n",
            "\n",
            "A     Bulbasaur\n",
            "B    Charmander\n",
            "C      Squirtle\n",
            "D     Carterpie\n",
            "Name: name, dtype: object\n"
          ],
          "name": "stdout"
        }
      ]
    },
    {
      "cell_type": "code",
      "metadata": {
        "id": "8C-j5YwIpXxc",
        "colab_type": "code",
        "colab": {
          "base_uri": "https://localhost:8080/",
          "height": 167
        },
        "outputId": "25e377c8-6ff7-4b98-cdf9-6936878ea1d7"
      },
      "source": [
        "pokeframe[[\"name\"]]"
      ],
      "execution_count": 58,
      "outputs": [
        {
          "output_type": "execute_result",
          "data": {
            "text/html": [
              "<div>\n",
              "<style scoped>\n",
              "    .dataframe tbody tr th:only-of-type {\n",
              "        vertical-align: middle;\n",
              "    }\n",
              "\n",
              "    .dataframe tbody tr th {\n",
              "        vertical-align: top;\n",
              "    }\n",
              "\n",
              "    .dataframe thead th {\n",
              "        text-align: right;\n",
              "    }\n",
              "</style>\n",
              "<table border=\"1\" class=\"dataframe\">\n",
              "  <thead>\n",
              "    <tr style=\"text-align: right;\">\n",
              "      <th></th>\n",
              "      <th>name</th>\n",
              "    </tr>\n",
              "  </thead>\n",
              "  <tbody>\n",
              "    <tr>\n",
              "      <th>A</th>\n",
              "      <td>Bulbasaur</td>\n",
              "    </tr>\n",
              "    <tr>\n",
              "      <th>B</th>\n",
              "      <td>Charmander</td>\n",
              "    </tr>\n",
              "    <tr>\n",
              "      <th>C</th>\n",
              "      <td>Squirtle</td>\n",
              "    </tr>\n",
              "    <tr>\n",
              "      <th>D</th>\n",
              "      <td>Carterpie</td>\n",
              "    </tr>\n",
              "  </tbody>\n",
              "</table>\n",
              "</div>"
            ],
            "text/plain": [
              "         name\n",
              "A   Bulbasaur\n",
              "B  Charmander\n",
              "C    Squirtle\n",
              "D   Carterpie"
            ]
          },
          "metadata": {
            "tags": []
          },
          "execution_count": 58
        }
      ]
    },
    {
      "cell_type": "markdown",
      "metadata": {
        "id": "KQP_FThIpgGp",
        "colab_type": "text"
      },
      "source": [
        "## Selecting a subset of rows\n",
        "To select a subset of rows we specify two numbers seperated by a colon (similar to lists)"
      ]
    },
    {
      "cell_type": "code",
      "metadata": {
        "id": "Xrh27kCZqYFu",
        "colab_type": "code",
        "colab": {
          "base_uri": "https://localhost:8080/",
          "height": 137
        },
        "outputId": "414199bc-5ff2-427a-ac94-bcf6d912de6c"
      },
      "source": [
        "dataframe"
      ],
      "execution_count": 59,
      "outputs": [
        {
          "output_type": "execute_result",
          "data": {
            "text/html": [
              "<div>\n",
              "<style scoped>\n",
              "    .dataframe tbody tr th:only-of-type {\n",
              "        vertical-align: middle;\n",
              "    }\n",
              "\n",
              "    .dataframe tbody tr th {\n",
              "        vertical-align: top;\n",
              "    }\n",
              "\n",
              "    .dataframe thead th {\n",
              "        text-align: right;\n",
              "    }\n",
              "</style>\n",
              "<table border=\"1\" class=\"dataframe\">\n",
              "  <thead>\n",
              "    <tr style=\"text-align: right;\">\n",
              "      <th></th>\n",
              "      <th>C1</th>\n",
              "      <th>C2</th>\n",
              "      <th>C3</th>\n",
              "      <th>C4</th>\n",
              "      <th>C5</th>\n",
              "    </tr>\n",
              "  </thead>\n",
              "  <tbody>\n",
              "    <tr>\n",
              "      <th>A</th>\n",
              "      <td>1</td>\n",
              "      <td>2</td>\n",
              "      <td>3</td>\n",
              "      <td>4</td>\n",
              "      <td>5</td>\n",
              "    </tr>\n",
              "    <tr>\n",
              "      <th>B</th>\n",
              "      <td>6</td>\n",
              "      <td>7</td>\n",
              "      <td>8</td>\n",
              "      <td>9</td>\n",
              "      <td>10</td>\n",
              "    </tr>\n",
              "    <tr>\n",
              "      <th>C</th>\n",
              "      <td>11</td>\n",
              "      <td>12</td>\n",
              "      <td>13</td>\n",
              "      <td>14</td>\n",
              "      <td>15</td>\n",
              "    </tr>\n",
              "  </tbody>\n",
              "</table>\n",
              "</div>"
            ],
            "text/plain": [
              "   C1  C2  C3  C4  C5\n",
              "A   1   2   3   4   5\n",
              "B   6   7   8   9  10\n",
              "C  11  12  13  14  15"
            ]
          },
          "metadata": {
            "tags": []
          },
          "execution_count": 59
        }
      ]
    },
    {
      "cell_type": "code",
      "metadata": {
        "id": "T247B0zIqY6X",
        "colab_type": "code",
        "colab": {
          "base_uri": "https://localhost:8080/",
          "height": 107
        },
        "outputId": "dc3f2bff-4993-497b-f2e5-6ed03d1e0f76"
      },
      "source": [
        "dataframe[0:2]"
      ],
      "execution_count": 60,
      "outputs": [
        {
          "output_type": "execute_result",
          "data": {
            "text/html": [
              "<div>\n",
              "<style scoped>\n",
              "    .dataframe tbody tr th:only-of-type {\n",
              "        vertical-align: middle;\n",
              "    }\n",
              "\n",
              "    .dataframe tbody tr th {\n",
              "        vertical-align: top;\n",
              "    }\n",
              "\n",
              "    .dataframe thead th {\n",
              "        text-align: right;\n",
              "    }\n",
              "</style>\n",
              "<table border=\"1\" class=\"dataframe\">\n",
              "  <thead>\n",
              "    <tr style=\"text-align: right;\">\n",
              "      <th></th>\n",
              "      <th>C1</th>\n",
              "      <th>C2</th>\n",
              "      <th>C3</th>\n",
              "      <th>C4</th>\n",
              "      <th>C5</th>\n",
              "    </tr>\n",
              "  </thead>\n",
              "  <tbody>\n",
              "    <tr>\n",
              "      <th>A</th>\n",
              "      <td>1</td>\n",
              "      <td>2</td>\n",
              "      <td>3</td>\n",
              "      <td>4</td>\n",
              "      <td>5</td>\n",
              "    </tr>\n",
              "    <tr>\n",
              "      <th>B</th>\n",
              "      <td>6</td>\n",
              "      <td>7</td>\n",
              "      <td>8</td>\n",
              "      <td>9</td>\n",
              "      <td>10</td>\n",
              "    </tr>\n",
              "  </tbody>\n",
              "</table>\n",
              "</div>"
            ],
            "text/plain": [
              "   C1  C2  C3  C4  C5\n",
              "A   1   2   3   4   5\n",
              "B   6   7   8   9  10"
            ]
          },
          "metadata": {
            "tags": []
          },
          "execution_count": 60
        }
      ]
    },
    {
      "cell_type": "code",
      "metadata": {
        "id": "wzOBKxXSqaoS",
        "colab_type": "code",
        "colab": {
          "base_uri": "https://localhost:8080/",
          "height": 107
        },
        "outputId": "8ab495ca-291d-4244-b1db-55e59d3b5052"
      },
      "source": [
        "dataframe[-2:]"
      ],
      "execution_count": 61,
      "outputs": [
        {
          "output_type": "execute_result",
          "data": {
            "text/html": [
              "<div>\n",
              "<style scoped>\n",
              "    .dataframe tbody tr th:only-of-type {\n",
              "        vertical-align: middle;\n",
              "    }\n",
              "\n",
              "    .dataframe tbody tr th {\n",
              "        vertical-align: top;\n",
              "    }\n",
              "\n",
              "    .dataframe thead th {\n",
              "        text-align: right;\n",
              "    }\n",
              "</style>\n",
              "<table border=\"1\" class=\"dataframe\">\n",
              "  <thead>\n",
              "    <tr style=\"text-align: right;\">\n",
              "      <th></th>\n",
              "      <th>C1</th>\n",
              "      <th>C2</th>\n",
              "      <th>C3</th>\n",
              "      <th>C4</th>\n",
              "      <th>C5</th>\n",
              "    </tr>\n",
              "  </thead>\n",
              "  <tbody>\n",
              "    <tr>\n",
              "      <th>B</th>\n",
              "      <td>6</td>\n",
              "      <td>7</td>\n",
              "      <td>8</td>\n",
              "      <td>9</td>\n",
              "      <td>10</td>\n",
              "    </tr>\n",
              "    <tr>\n",
              "      <th>C</th>\n",
              "      <td>11</td>\n",
              "      <td>12</td>\n",
              "      <td>13</td>\n",
              "      <td>14</td>\n",
              "      <td>15</td>\n",
              "    </tr>\n",
              "  </tbody>\n",
              "</table>\n",
              "</div>"
            ],
            "text/plain": [
              "   C1  C2  C3  C4  C5\n",
              "B   6   7   8   9  10\n",
              "C  11  12  13  14  15"
            ]
          },
          "metadata": {
            "tags": []
          },
          "execution_count": 61
        }
      ]
    },
    {
      "cell_type": "markdown",
      "metadata": {
        "id": "WhAy83noqcyz",
        "colab_type": "text"
      },
      "source": [
        "We could also use an array of logical values "
      ]
    },
    {
      "cell_type": "code",
      "metadata": {
        "id": "cB5V8t3bqjyr",
        "colab_type": "code",
        "colab": {
          "base_uri": "https://localhost:8080/",
          "height": 77
        },
        "outputId": "5f447690-4097-436c-f1c8-f4f1baa5eb8b"
      },
      "source": [
        "dataframe[[False, True, False]]"
      ],
      "execution_count": 62,
      "outputs": [
        {
          "output_type": "execute_result",
          "data": {
            "text/html": [
              "<div>\n",
              "<style scoped>\n",
              "    .dataframe tbody tr th:only-of-type {\n",
              "        vertical-align: middle;\n",
              "    }\n",
              "\n",
              "    .dataframe tbody tr th {\n",
              "        vertical-align: top;\n",
              "    }\n",
              "\n",
              "    .dataframe thead th {\n",
              "        text-align: right;\n",
              "    }\n",
              "</style>\n",
              "<table border=\"1\" class=\"dataframe\">\n",
              "  <thead>\n",
              "    <tr style=\"text-align: right;\">\n",
              "      <th></th>\n",
              "      <th>C1</th>\n",
              "      <th>C2</th>\n",
              "      <th>C3</th>\n",
              "      <th>C4</th>\n",
              "      <th>C5</th>\n",
              "    </tr>\n",
              "  </thead>\n",
              "  <tbody>\n",
              "    <tr>\n",
              "      <th>B</th>\n",
              "      <td>6</td>\n",
              "      <td>7</td>\n",
              "      <td>8</td>\n",
              "      <td>9</td>\n",
              "      <td>10</td>\n",
              "    </tr>\n",
              "  </tbody>\n",
              "</table>\n",
              "</div>"
            ],
            "text/plain": [
              "   C1  C2  C3  C4  C5\n",
              "B   6   7   8   9  10"
            ]
          },
          "metadata": {
            "tags": []
          },
          "execution_count": 62
        }
      ]
    },
    {
      "cell_type": "code",
      "metadata": {
        "id": "PdmaxHEKqnQa",
        "colab_type": "code",
        "colab": {
          "base_uri": "https://localhost:8080/",
          "height": 77
        },
        "outputId": "510124c8-a489-47ab-fc21-2bd98a195220"
      },
      "source": [
        "dataframe[dataframe.index == \"A\"]"
      ],
      "execution_count": 63,
      "outputs": [
        {
          "output_type": "execute_result",
          "data": {
            "text/html": [
              "<div>\n",
              "<style scoped>\n",
              "    .dataframe tbody tr th:only-of-type {\n",
              "        vertical-align: middle;\n",
              "    }\n",
              "\n",
              "    .dataframe tbody tr th {\n",
              "        vertical-align: top;\n",
              "    }\n",
              "\n",
              "    .dataframe thead th {\n",
              "        text-align: right;\n",
              "    }\n",
              "</style>\n",
              "<table border=\"1\" class=\"dataframe\">\n",
              "  <thead>\n",
              "    <tr style=\"text-align: right;\">\n",
              "      <th></th>\n",
              "      <th>C1</th>\n",
              "      <th>C2</th>\n",
              "      <th>C3</th>\n",
              "      <th>C4</th>\n",
              "      <th>C5</th>\n",
              "    </tr>\n",
              "  </thead>\n",
              "  <tbody>\n",
              "    <tr>\n",
              "      <th>A</th>\n",
              "      <td>1</td>\n",
              "      <td>2</td>\n",
              "      <td>3</td>\n",
              "      <td>4</td>\n",
              "      <td>5</td>\n",
              "    </tr>\n",
              "  </tbody>\n",
              "</table>\n",
              "</div>"
            ],
            "text/plain": [
              "   C1  C2  C3  C4  C5\n",
              "A   1   2   3   4   5"
            ]
          },
          "metadata": {
            "tags": []
          },
          "execution_count": 63
        }
      ]
    },
    {
      "cell_type": "code",
      "metadata": {
        "id": "cDqHpwrEqrWi",
        "colab_type": "code",
        "colab": {
          "base_uri": "https://localhost:8080/",
          "height": 77
        },
        "outputId": "1d984dc0-5741-4103-ca6a-4f2b0fcbffa6"
      },
      "source": [
        "dataframe[ dataframe.C1 >6]"
      ],
      "execution_count": 72,
      "outputs": [
        {
          "output_type": "execute_result",
          "data": {
            "text/html": [
              "<div>\n",
              "<style scoped>\n",
              "    .dataframe tbody tr th:only-of-type {\n",
              "        vertical-align: middle;\n",
              "    }\n",
              "\n",
              "    .dataframe tbody tr th {\n",
              "        vertical-align: top;\n",
              "    }\n",
              "\n",
              "    .dataframe thead th {\n",
              "        text-align: right;\n",
              "    }\n",
              "</style>\n",
              "<table border=\"1\" class=\"dataframe\">\n",
              "  <thead>\n",
              "    <tr style=\"text-align: right;\">\n",
              "      <th></th>\n",
              "      <th>C1</th>\n",
              "      <th>C2</th>\n",
              "      <th>C3</th>\n",
              "      <th>C4</th>\n",
              "      <th>C5</th>\n",
              "    </tr>\n",
              "  </thead>\n",
              "  <tbody>\n",
              "    <tr>\n",
              "      <th>C</th>\n",
              "      <td>11</td>\n",
              "      <td>12</td>\n",
              "      <td>13</td>\n",
              "      <td>14</td>\n",
              "      <td>15</td>\n",
              "    </tr>\n",
              "  </tbody>\n",
              "</table>\n",
              "</div>"
            ],
            "text/plain": [
              "   C1  C2  C3  C4  C5\n",
              "C  11  12  13  14  15"
            ]
          },
          "metadata": {
            "tags": []
          },
          "execution_count": 72
        }
      ]
    },
    {
      "cell_type": "markdown",
      "metadata": {
        "id": "W1EX8OaBqu8E",
        "colab_type": "text"
      },
      "source": [
        "## Exercise 17\n",
        "Use the pokeframe again.\n",
        "- Select the first 3 rows\n",
        "- Select the last 2 rows\n",
        "- Select odd rows \n",
        "- Select all rows but in reverse order"
      ]
    },
    {
      "cell_type": "code",
      "metadata": {
        "id": "RSY7FNOxrYyo",
        "colab_type": "code",
        "colab": {
          "base_uri": "https://localhost:8080/",
          "height": 137
        },
        "outputId": "471183a2-0ccf-4826-b50a-110f34c72d2f"
      },
      "source": [
        "pokeframe[:3]"
      ],
      "execution_count": 74,
      "outputs": [
        {
          "output_type": "execute_result",
          "data": {
            "text/html": [
              "<div>\n",
              "<style scoped>\n",
              "    .dataframe tbody tr th:only-of-type {\n",
              "        vertical-align: middle;\n",
              "    }\n",
              "\n",
              "    .dataframe tbody tr th {\n",
              "        vertical-align: top;\n",
              "    }\n",
              "\n",
              "    .dataframe thead th {\n",
              "        text-align: right;\n",
              "    }\n",
              "</style>\n",
              "<table border=\"1\" class=\"dataframe\">\n",
              "  <thead>\n",
              "    <tr style=\"text-align: right;\">\n",
              "      <th></th>\n",
              "      <th>name</th>\n",
              "      <th>evolution</th>\n",
              "      <th>hp</th>\n",
              "      <th>pokedex</th>\n",
              "      <th>type</th>\n",
              "    </tr>\n",
              "  </thead>\n",
              "  <tbody>\n",
              "    <tr>\n",
              "      <th>A</th>\n",
              "      <td>Bulbasaur</td>\n",
              "      <td>Ivysaur</td>\n",
              "      <td>45</td>\n",
              "      <td>Yes</td>\n",
              "      <td>Grass</td>\n",
              "    </tr>\n",
              "    <tr>\n",
              "      <th>B</th>\n",
              "      <td>Charmander</td>\n",
              "      <td>Charmeleon</td>\n",
              "      <td>39</td>\n",
              "      <td>No</td>\n",
              "      <td>Fire</td>\n",
              "    </tr>\n",
              "    <tr>\n",
              "      <th>C</th>\n",
              "      <td>Squirtle</td>\n",
              "      <td>Wartortle</td>\n",
              "      <td>44</td>\n",
              "      <td>Yes</td>\n",
              "      <td>Water</td>\n",
              "    </tr>\n",
              "  </tbody>\n",
              "</table>\n",
              "</div>"
            ],
            "text/plain": [
              "         name   evolution  hp pokedex   type\n",
              "A   Bulbasaur     Ivysaur  45     Yes  Grass\n",
              "B  Charmander  Charmeleon  39      No   Fire\n",
              "C    Squirtle   Wartortle  44     Yes  Water"
            ]
          },
          "metadata": {
            "tags": []
          },
          "execution_count": 74
        }
      ]
    },
    {
      "cell_type": "code",
      "metadata": {
        "id": "BR5zSZszrdfk",
        "colab_type": "code",
        "colab": {
          "base_uri": "https://localhost:8080/",
          "height": 107
        },
        "outputId": "6619d022-f041-4c56-e88b-93182c74a121"
      },
      "source": [
        "pokeframe[-2:]"
      ],
      "execution_count": 75,
      "outputs": [
        {
          "output_type": "execute_result",
          "data": {
            "text/html": [
              "<div>\n",
              "<style scoped>\n",
              "    .dataframe tbody tr th:only-of-type {\n",
              "        vertical-align: middle;\n",
              "    }\n",
              "\n",
              "    .dataframe tbody tr th {\n",
              "        vertical-align: top;\n",
              "    }\n",
              "\n",
              "    .dataframe thead th {\n",
              "        text-align: right;\n",
              "    }\n",
              "</style>\n",
              "<table border=\"1\" class=\"dataframe\">\n",
              "  <thead>\n",
              "    <tr style=\"text-align: right;\">\n",
              "      <th></th>\n",
              "      <th>name</th>\n",
              "      <th>evolution</th>\n",
              "      <th>hp</th>\n",
              "      <th>pokedex</th>\n",
              "      <th>type</th>\n",
              "    </tr>\n",
              "  </thead>\n",
              "  <tbody>\n",
              "    <tr>\n",
              "      <th>C</th>\n",
              "      <td>Squirtle</td>\n",
              "      <td>Wartortle</td>\n",
              "      <td>44</td>\n",
              "      <td>Yes</td>\n",
              "      <td>Water</td>\n",
              "    </tr>\n",
              "    <tr>\n",
              "      <th>D</th>\n",
              "      <td>Carterpie</td>\n",
              "      <td>Metapod</td>\n",
              "      <td>45</td>\n",
              "      <td>No</td>\n",
              "      <td>Bug</td>\n",
              "    </tr>\n",
              "  </tbody>\n",
              "</table>\n",
              "</div>"
            ],
            "text/plain": [
              "        name  evolution  hp pokedex   type\n",
              "C   Squirtle  Wartortle  44     Yes  Water\n",
              "D  Carterpie    Metapod  45      No    Bug"
            ]
          },
          "metadata": {
            "tags": []
          },
          "execution_count": 75
        }
      ]
    },
    {
      "cell_type": "code",
      "metadata": {
        "id": "ABvSMnYsrhIr",
        "colab_type": "code",
        "colab": {
          "base_uri": "https://localhost:8080/",
          "height": 107
        },
        "outputId": "e42ea625-0573-4023-8230-b16d251a4d69"
      },
      "source": [
        "pokeframe[1::2]"
      ],
      "execution_count": 77,
      "outputs": [
        {
          "output_type": "execute_result",
          "data": {
            "text/html": [
              "<div>\n",
              "<style scoped>\n",
              "    .dataframe tbody tr th:only-of-type {\n",
              "        vertical-align: middle;\n",
              "    }\n",
              "\n",
              "    .dataframe tbody tr th {\n",
              "        vertical-align: top;\n",
              "    }\n",
              "\n",
              "    .dataframe thead th {\n",
              "        text-align: right;\n",
              "    }\n",
              "</style>\n",
              "<table border=\"1\" class=\"dataframe\">\n",
              "  <thead>\n",
              "    <tr style=\"text-align: right;\">\n",
              "      <th></th>\n",
              "      <th>name</th>\n",
              "      <th>evolution</th>\n",
              "      <th>hp</th>\n",
              "      <th>pokedex</th>\n",
              "      <th>type</th>\n",
              "    </tr>\n",
              "  </thead>\n",
              "  <tbody>\n",
              "    <tr>\n",
              "      <th>B</th>\n",
              "      <td>Charmander</td>\n",
              "      <td>Charmeleon</td>\n",
              "      <td>39</td>\n",
              "      <td>No</td>\n",
              "      <td>Fire</td>\n",
              "    </tr>\n",
              "    <tr>\n",
              "      <th>D</th>\n",
              "      <td>Carterpie</td>\n",
              "      <td>Metapod</td>\n",
              "      <td>45</td>\n",
              "      <td>No</td>\n",
              "      <td>Bug</td>\n",
              "    </tr>\n",
              "  </tbody>\n",
              "</table>\n",
              "</div>"
            ],
            "text/plain": [
              "         name   evolution  hp pokedex  type\n",
              "B  Charmander  Charmeleon  39      No  Fire\n",
              "D   Carterpie     Metapod  45      No   Bug"
            ]
          },
          "metadata": {
            "tags": []
          },
          "execution_count": 77
        }
      ]
    },
    {
      "cell_type": "code",
      "metadata": {
        "id": "CeUMoFXtrmcx",
        "colab_type": "code",
        "colab": {
          "base_uri": "https://localhost:8080/",
          "height": 167
        },
        "outputId": "b9f1117f-161d-4796-d98d-c35fe3667adb"
      },
      "source": [
        "pokeframe[::-1]"
      ],
      "execution_count": 78,
      "outputs": [
        {
          "output_type": "execute_result",
          "data": {
            "text/html": [
              "<div>\n",
              "<style scoped>\n",
              "    .dataframe tbody tr th:only-of-type {\n",
              "        vertical-align: middle;\n",
              "    }\n",
              "\n",
              "    .dataframe tbody tr th {\n",
              "        vertical-align: top;\n",
              "    }\n",
              "\n",
              "    .dataframe thead th {\n",
              "        text-align: right;\n",
              "    }\n",
              "</style>\n",
              "<table border=\"1\" class=\"dataframe\">\n",
              "  <thead>\n",
              "    <tr style=\"text-align: right;\">\n",
              "      <th></th>\n",
              "      <th>name</th>\n",
              "      <th>evolution</th>\n",
              "      <th>hp</th>\n",
              "      <th>pokedex</th>\n",
              "      <th>type</th>\n",
              "    </tr>\n",
              "  </thead>\n",
              "  <tbody>\n",
              "    <tr>\n",
              "      <th>D</th>\n",
              "      <td>Carterpie</td>\n",
              "      <td>Metapod</td>\n",
              "      <td>45</td>\n",
              "      <td>No</td>\n",
              "      <td>Bug</td>\n",
              "    </tr>\n",
              "    <tr>\n",
              "      <th>C</th>\n",
              "      <td>Squirtle</td>\n",
              "      <td>Wartortle</td>\n",
              "      <td>44</td>\n",
              "      <td>Yes</td>\n",
              "      <td>Water</td>\n",
              "    </tr>\n",
              "    <tr>\n",
              "      <th>B</th>\n",
              "      <td>Charmander</td>\n",
              "      <td>Charmeleon</td>\n",
              "      <td>39</td>\n",
              "      <td>No</td>\n",
              "      <td>Fire</td>\n",
              "    </tr>\n",
              "    <tr>\n",
              "      <th>A</th>\n",
              "      <td>Bulbasaur</td>\n",
              "      <td>Ivysaur</td>\n",
              "      <td>45</td>\n",
              "      <td>Yes</td>\n",
              "      <td>Grass</td>\n",
              "    </tr>\n",
              "  </tbody>\n",
              "</table>\n",
              "</div>"
            ],
            "text/plain": [
              "         name   evolution  hp pokedex   type\n",
              "D   Carterpie     Metapod  45      No    Bug\n",
              "C    Squirtle   Wartortle  44     Yes  Water\n",
              "B  Charmander  Charmeleon  39      No   Fire\n",
              "A   Bulbasaur     Ivysaur  45     Yes  Grass"
            ]
          },
          "metadata": {
            "tags": []
          },
          "execution_count": 78
        }
      ]
    },
    {
      "cell_type": "markdown",
      "metadata": {
        "id": "QcRq_PP-rp8c",
        "colab_type": "text"
      },
      "source": [
        "## Selection of values by position\n",
        "Pandas provides the `iloc` and `iat` attributes to selct values by position.\n",
        "\n",
        "`iloc[rows,columns]`"
      ]
    },
    {
      "cell_type": "code",
      "metadata": {
        "id": "bhejpItAr3Yr",
        "colab_type": "code",
        "colab": {
          "base_uri": "https://localhost:8080/",
          "height": 107
        },
        "outputId": "d6dae6f7-de95-4927-d5ff-a186d01c2128"
      },
      "source": [
        "dataframe.iloc[[0,2], [0,1,4]]"
      ],
      "execution_count": 79,
      "outputs": [
        {
          "output_type": "execute_result",
          "data": {
            "text/html": [
              "<div>\n",
              "<style scoped>\n",
              "    .dataframe tbody tr th:only-of-type {\n",
              "        vertical-align: middle;\n",
              "    }\n",
              "\n",
              "    .dataframe tbody tr th {\n",
              "        vertical-align: top;\n",
              "    }\n",
              "\n",
              "    .dataframe thead th {\n",
              "        text-align: right;\n",
              "    }\n",
              "</style>\n",
              "<table border=\"1\" class=\"dataframe\">\n",
              "  <thead>\n",
              "    <tr style=\"text-align: right;\">\n",
              "      <th></th>\n",
              "      <th>C1</th>\n",
              "      <th>C2</th>\n",
              "      <th>C5</th>\n",
              "    </tr>\n",
              "  </thead>\n",
              "  <tbody>\n",
              "    <tr>\n",
              "      <th>A</th>\n",
              "      <td>1</td>\n",
              "      <td>2</td>\n",
              "      <td>5</td>\n",
              "    </tr>\n",
              "    <tr>\n",
              "      <th>C</th>\n",
              "      <td>11</td>\n",
              "      <td>12</td>\n",
              "      <td>15</td>\n",
              "    </tr>\n",
              "  </tbody>\n",
              "</table>\n",
              "</div>"
            ],
            "text/plain": [
              "   C1  C2  C5\n",
              "A   1   2   5\n",
              "C  11  12  15"
            ]
          },
          "metadata": {
            "tags": []
          },
          "execution_count": 79
        }
      ]
    },
    {
      "cell_type": "code",
      "metadata": {
        "id": "MY1WL9mFr7oU",
        "colab_type": "code",
        "colab": {
          "base_uri": "https://localhost:8080/",
          "height": 77
        },
        "outputId": "ec445931-a7d2-493f-c6bb-78c3a0265713"
      },
      "source": [
        "dataframe.iloc[[True,False,False], [0,1,4]]"
      ],
      "execution_count": 80,
      "outputs": [
        {
          "output_type": "execute_result",
          "data": {
            "text/html": [
              "<div>\n",
              "<style scoped>\n",
              "    .dataframe tbody tr th:only-of-type {\n",
              "        vertical-align: middle;\n",
              "    }\n",
              "\n",
              "    .dataframe tbody tr th {\n",
              "        vertical-align: top;\n",
              "    }\n",
              "\n",
              "    .dataframe thead th {\n",
              "        text-align: right;\n",
              "    }\n",
              "</style>\n",
              "<table border=\"1\" class=\"dataframe\">\n",
              "  <thead>\n",
              "    <tr style=\"text-align: right;\">\n",
              "      <th></th>\n",
              "      <th>C1</th>\n",
              "      <th>C2</th>\n",
              "      <th>C5</th>\n",
              "    </tr>\n",
              "  </thead>\n",
              "  <tbody>\n",
              "    <tr>\n",
              "      <th>A</th>\n",
              "      <td>1</td>\n",
              "      <td>2</td>\n",
              "      <td>5</td>\n",
              "    </tr>\n",
              "  </tbody>\n",
              "</table>\n",
              "</div>"
            ],
            "text/plain": [
              "   C1  C2  C5\n",
              "A   1   2   5"
            ]
          },
          "metadata": {
            "tags": []
          },
          "execution_count": 80
        }
      ]
    },
    {
      "cell_type": "code",
      "metadata": {
        "id": "oX90lDR8sN7U",
        "colab_type": "code",
        "colab": {
          "base_uri": "https://localhost:8080/",
          "height": 77
        },
        "outputId": "c981eeb8-49e1-4929-b436-c06b25aa876e"
      },
      "source": [
        "dataframe.iloc[dataframe.index == \"A\", :]"
      ],
      "execution_count": 81,
      "outputs": [
        {
          "output_type": "execute_result",
          "data": {
            "text/html": [
              "<div>\n",
              "<style scoped>\n",
              "    .dataframe tbody tr th:only-of-type {\n",
              "        vertical-align: middle;\n",
              "    }\n",
              "\n",
              "    .dataframe tbody tr th {\n",
              "        vertical-align: top;\n",
              "    }\n",
              "\n",
              "    .dataframe thead th {\n",
              "        text-align: right;\n",
              "    }\n",
              "</style>\n",
              "<table border=\"1\" class=\"dataframe\">\n",
              "  <thead>\n",
              "    <tr style=\"text-align: right;\">\n",
              "      <th></th>\n",
              "      <th>C1</th>\n",
              "      <th>C2</th>\n",
              "      <th>C3</th>\n",
              "      <th>C4</th>\n",
              "      <th>C5</th>\n",
              "    </tr>\n",
              "  </thead>\n",
              "  <tbody>\n",
              "    <tr>\n",
              "      <th>A</th>\n",
              "      <td>1</td>\n",
              "      <td>2</td>\n",
              "      <td>3</td>\n",
              "      <td>4</td>\n",
              "      <td>5</td>\n",
              "    </tr>\n",
              "  </tbody>\n",
              "</table>\n",
              "</div>"
            ],
            "text/plain": [
              "   C1  C2  C3  C4  C5\n",
              "A   1   2   3   4   5"
            ]
          },
          "metadata": {
            "tags": []
          },
          "execution_count": 81
        }
      ]
    },
    {
      "cell_type": "markdown",
      "metadata": {
        "id": "Olq4gFYBsSQV",
        "colab_type": "text"
      },
      "source": [
        "With `iat` you can specify a single row/column and always return a value instead of a Dataframe"
      ]
    },
    {
      "cell_type": "code",
      "metadata": {
        "id": "8inJ-Zhzsdsk",
        "colab_type": "code",
        "colab": {
          "base_uri": "https://localhost:8080/",
          "height": 137
        },
        "outputId": "10ce6072-0bcb-429b-9cc7-537daf707e7f"
      },
      "source": [
        "dataframe"
      ],
      "execution_count": 82,
      "outputs": [
        {
          "output_type": "execute_result",
          "data": {
            "text/html": [
              "<div>\n",
              "<style scoped>\n",
              "    .dataframe tbody tr th:only-of-type {\n",
              "        vertical-align: middle;\n",
              "    }\n",
              "\n",
              "    .dataframe tbody tr th {\n",
              "        vertical-align: top;\n",
              "    }\n",
              "\n",
              "    .dataframe thead th {\n",
              "        text-align: right;\n",
              "    }\n",
              "</style>\n",
              "<table border=\"1\" class=\"dataframe\">\n",
              "  <thead>\n",
              "    <tr style=\"text-align: right;\">\n",
              "      <th></th>\n",
              "      <th>C1</th>\n",
              "      <th>C2</th>\n",
              "      <th>C3</th>\n",
              "      <th>C4</th>\n",
              "      <th>C5</th>\n",
              "    </tr>\n",
              "  </thead>\n",
              "  <tbody>\n",
              "    <tr>\n",
              "      <th>A</th>\n",
              "      <td>1</td>\n",
              "      <td>2</td>\n",
              "      <td>3</td>\n",
              "      <td>4</td>\n",
              "      <td>5</td>\n",
              "    </tr>\n",
              "    <tr>\n",
              "      <th>B</th>\n",
              "      <td>6</td>\n",
              "      <td>7</td>\n",
              "      <td>8</td>\n",
              "      <td>9</td>\n",
              "      <td>10</td>\n",
              "    </tr>\n",
              "    <tr>\n",
              "      <th>C</th>\n",
              "      <td>11</td>\n",
              "      <td>12</td>\n",
              "      <td>13</td>\n",
              "      <td>14</td>\n",
              "      <td>15</td>\n",
              "    </tr>\n",
              "  </tbody>\n",
              "</table>\n",
              "</div>"
            ],
            "text/plain": [
              "   C1  C2  C3  C4  C5\n",
              "A   1   2   3   4   5\n",
              "B   6   7   8   9  10\n",
              "C  11  12  13  14  15"
            ]
          },
          "metadata": {
            "tags": []
          },
          "execution_count": 82
        }
      ]
    },
    {
      "cell_type": "code",
      "metadata": {
        "id": "zOu-U9bHsk3f",
        "colab_type": "code",
        "colab": {
          "base_uri": "https://localhost:8080/",
          "height": 34
        },
        "outputId": "806f1416-3ee8-4cae-8b91-16707e663480"
      },
      "source": [
        "dataframe.iat[0,1]"
      ],
      "execution_count": 83,
      "outputs": [
        {
          "output_type": "execute_result",
          "data": {
            "text/plain": [
              "2"
            ]
          },
          "metadata": {
            "tags": []
          },
          "execution_count": 83
        }
      ]
    },
    {
      "cell_type": "code",
      "metadata": {
        "id": "IG8cKVmLsncZ",
        "colab_type": "code",
        "colab": {
          "base_uri": "https://localhost:8080/",
          "height": 34
        },
        "outputId": "26c782dd-924d-40c8-b2a6-1864dfc319a0"
      },
      "source": [
        "dataframe.iat[0,-1]"
      ],
      "execution_count": 84,
      "outputs": [
        {
          "output_type": "execute_result",
          "data": {
            "text/plain": [
              "5"
            ]
          },
          "metadata": {
            "tags": []
          },
          "execution_count": 84
        }
      ]
    },
    {
      "cell_type": "markdown",
      "metadata": {
        "id": "vO0mLeXlsrdn",
        "colab_type": "text"
      },
      "source": [
        "## Exercise 18 \n",
        "Use the pokeframe\n",
        "\n",
        "- Select all columns, 2nd and 4th row\n",
        "- Select the \"hp\" and \"type\" columns of all rows\n",
        "- Select the column \"name\" from the first and last row\n",
        "- Get the value that is located in the first row, last column"
      ]
    },
    {
      "cell_type": "code",
      "metadata": {
        "id": "4ktNKX78tCsV",
        "colab_type": "code",
        "colab": {
          "base_uri": "https://localhost:8080/",
          "height": 167
        },
        "outputId": "07d7d686-02b8-4547-de4d-d137ff2b4170"
      },
      "source": [
        "pokeframe"
      ],
      "execution_count": 85,
      "outputs": [
        {
          "output_type": "execute_result",
          "data": {
            "text/html": [
              "<div>\n",
              "<style scoped>\n",
              "    .dataframe tbody tr th:only-of-type {\n",
              "        vertical-align: middle;\n",
              "    }\n",
              "\n",
              "    .dataframe tbody tr th {\n",
              "        vertical-align: top;\n",
              "    }\n",
              "\n",
              "    .dataframe thead th {\n",
              "        text-align: right;\n",
              "    }\n",
              "</style>\n",
              "<table border=\"1\" class=\"dataframe\">\n",
              "  <thead>\n",
              "    <tr style=\"text-align: right;\">\n",
              "      <th></th>\n",
              "      <th>name</th>\n",
              "      <th>evolution</th>\n",
              "      <th>hp</th>\n",
              "      <th>pokedex</th>\n",
              "      <th>type</th>\n",
              "    </tr>\n",
              "  </thead>\n",
              "  <tbody>\n",
              "    <tr>\n",
              "      <th>A</th>\n",
              "      <td>Bulbasaur</td>\n",
              "      <td>Ivysaur</td>\n",
              "      <td>45</td>\n",
              "      <td>Yes</td>\n",
              "      <td>Grass</td>\n",
              "    </tr>\n",
              "    <tr>\n",
              "      <th>B</th>\n",
              "      <td>Charmander</td>\n",
              "      <td>Charmeleon</td>\n",
              "      <td>39</td>\n",
              "      <td>No</td>\n",
              "      <td>Fire</td>\n",
              "    </tr>\n",
              "    <tr>\n",
              "      <th>C</th>\n",
              "      <td>Squirtle</td>\n",
              "      <td>Wartortle</td>\n",
              "      <td>44</td>\n",
              "      <td>Yes</td>\n",
              "      <td>Water</td>\n",
              "    </tr>\n",
              "    <tr>\n",
              "      <th>D</th>\n",
              "      <td>Carterpie</td>\n",
              "      <td>Metapod</td>\n",
              "      <td>45</td>\n",
              "      <td>No</td>\n",
              "      <td>Bug</td>\n",
              "    </tr>\n",
              "  </tbody>\n",
              "</table>\n",
              "</div>"
            ],
            "text/plain": [
              "         name   evolution  hp pokedex   type\n",
              "A   Bulbasaur     Ivysaur  45     Yes  Grass\n",
              "B  Charmander  Charmeleon  39      No   Fire\n",
              "C    Squirtle   Wartortle  44     Yes  Water\n",
              "D   Carterpie     Metapod  45      No    Bug"
            ]
          },
          "metadata": {
            "tags": []
          },
          "execution_count": 85
        }
      ]
    },
    {
      "cell_type": "code",
      "metadata": {
        "id": "CuZRxTestDwQ",
        "colab_type": "code",
        "colab": {
          "base_uri": "https://localhost:8080/",
          "height": 107
        },
        "outputId": "d9065674-666f-4872-c006-8450f445283f"
      },
      "source": [
        "pokeframe.iloc[[1,3]]"
      ],
      "execution_count": 88,
      "outputs": [
        {
          "output_type": "execute_result",
          "data": {
            "text/html": [
              "<div>\n",
              "<style scoped>\n",
              "    .dataframe tbody tr th:only-of-type {\n",
              "        vertical-align: middle;\n",
              "    }\n",
              "\n",
              "    .dataframe tbody tr th {\n",
              "        vertical-align: top;\n",
              "    }\n",
              "\n",
              "    .dataframe thead th {\n",
              "        text-align: right;\n",
              "    }\n",
              "</style>\n",
              "<table border=\"1\" class=\"dataframe\">\n",
              "  <thead>\n",
              "    <tr style=\"text-align: right;\">\n",
              "      <th></th>\n",
              "      <th>name</th>\n",
              "      <th>evolution</th>\n",
              "      <th>hp</th>\n",
              "      <th>pokedex</th>\n",
              "      <th>type</th>\n",
              "    </tr>\n",
              "  </thead>\n",
              "  <tbody>\n",
              "    <tr>\n",
              "      <th>B</th>\n",
              "      <td>Charmander</td>\n",
              "      <td>Charmeleon</td>\n",
              "      <td>39</td>\n",
              "      <td>No</td>\n",
              "      <td>Fire</td>\n",
              "    </tr>\n",
              "    <tr>\n",
              "      <th>D</th>\n",
              "      <td>Carterpie</td>\n",
              "      <td>Metapod</td>\n",
              "      <td>45</td>\n",
              "      <td>No</td>\n",
              "      <td>Bug</td>\n",
              "    </tr>\n",
              "  </tbody>\n",
              "</table>\n",
              "</div>"
            ],
            "text/plain": [
              "         name   evolution  hp pokedex  type\n",
              "B  Charmander  Charmeleon  39      No  Fire\n",
              "D   Carterpie     Metapod  45      No   Bug"
            ]
          },
          "metadata": {
            "tags": []
          },
          "execution_count": 88
        }
      ]
    },
    {
      "cell_type": "code",
      "metadata": {
        "id": "VmL3cjHetKjL",
        "colab_type": "code",
        "colab": {
          "base_uri": "https://localhost:8080/",
          "height": 167
        },
        "outputId": "a364a8df-f0fa-4924-a68f-50c11385c827"
      },
      "source": [
        "pokeframe.iloc[:, [False, False, True, False, True]]"
      ],
      "execution_count": 101,
      "outputs": [
        {
          "output_type": "execute_result",
          "data": {
            "text/html": [
              "<div>\n",
              "<style scoped>\n",
              "    .dataframe tbody tr th:only-of-type {\n",
              "        vertical-align: middle;\n",
              "    }\n",
              "\n",
              "    .dataframe tbody tr th {\n",
              "        vertical-align: top;\n",
              "    }\n",
              "\n",
              "    .dataframe thead th {\n",
              "        text-align: right;\n",
              "    }\n",
              "</style>\n",
              "<table border=\"1\" class=\"dataframe\">\n",
              "  <thead>\n",
              "    <tr style=\"text-align: right;\">\n",
              "      <th></th>\n",
              "      <th>hp</th>\n",
              "      <th>type</th>\n",
              "    </tr>\n",
              "  </thead>\n",
              "  <tbody>\n",
              "    <tr>\n",
              "      <th>A</th>\n",
              "      <td>45</td>\n",
              "      <td>Grass</td>\n",
              "    </tr>\n",
              "    <tr>\n",
              "      <th>B</th>\n",
              "      <td>39</td>\n",
              "      <td>Fire</td>\n",
              "    </tr>\n",
              "    <tr>\n",
              "      <th>C</th>\n",
              "      <td>44</td>\n",
              "      <td>Water</td>\n",
              "    </tr>\n",
              "    <tr>\n",
              "      <th>D</th>\n",
              "      <td>45</td>\n",
              "      <td>Bug</td>\n",
              "    </tr>\n",
              "  </tbody>\n",
              "</table>\n",
              "</div>"
            ],
            "text/plain": [
              "   hp   type\n",
              "A  45  Grass\n",
              "B  39   Fire\n",
              "C  44  Water\n",
              "D  45    Bug"
            ]
          },
          "metadata": {
            "tags": []
          },
          "execution_count": 101
        }
      ]
    },
    {
      "cell_type": "code",
      "metadata": {
        "id": "V9PQ1tAetZA8",
        "colab_type": "code",
        "colab": {
          "base_uri": "https://localhost:8080/",
          "height": 107
        },
        "outputId": "e5ab3508-51ff-4b8d-d175-1489d296b5b3"
      },
      "source": [
        "pokeframe.iloc[[0,-1], [0]]"
      ],
      "execution_count": 104,
      "outputs": [
        {
          "output_type": "execute_result",
          "data": {
            "text/html": [
              "<div>\n",
              "<style scoped>\n",
              "    .dataframe tbody tr th:only-of-type {\n",
              "        vertical-align: middle;\n",
              "    }\n",
              "\n",
              "    .dataframe tbody tr th {\n",
              "        vertical-align: top;\n",
              "    }\n",
              "\n",
              "    .dataframe thead th {\n",
              "        text-align: right;\n",
              "    }\n",
              "</style>\n",
              "<table border=\"1\" class=\"dataframe\">\n",
              "  <thead>\n",
              "    <tr style=\"text-align: right;\">\n",
              "      <th></th>\n",
              "      <th>name</th>\n",
              "    </tr>\n",
              "  </thead>\n",
              "  <tbody>\n",
              "    <tr>\n",
              "      <th>A</th>\n",
              "      <td>Bulbasaur</td>\n",
              "    </tr>\n",
              "    <tr>\n",
              "      <th>D</th>\n",
              "      <td>Carterpie</td>\n",
              "    </tr>\n",
              "  </tbody>\n",
              "</table>\n",
              "</div>"
            ],
            "text/plain": [
              "        name\n",
              "A  Bulbasaur\n",
              "D  Carterpie"
            ]
          },
          "metadata": {
            "tags": []
          },
          "execution_count": 104
        }
      ]
    },
    {
      "cell_type": "code",
      "metadata": {
        "id": "00VxQ07Fuc8X",
        "colab_type": "code",
        "colab": {
          "base_uri": "https://localhost:8080/",
          "height": 34
        },
        "outputId": "7e68a1c4-fce2-4c1e-a835-df7d7a7bc134"
      },
      "source": [
        "pokeframe.iat[0,-1]"
      ],
      "execution_count": 105,
      "outputs": [
        {
          "output_type": "execute_result",
          "data": {
            "text/plain": [
              "'Grass'"
            ]
          },
          "metadata": {
            "tags": []
          },
          "execution_count": 105
        }
      ]
    },
    {
      "cell_type": "markdown",
      "metadata": {
        "id": "eEF6hK84upOA",
        "colab_type": "text"
      },
      "source": [
        "## Selection of values via label\n",
        "\n",
        "Pandas provides the loc and at attributes to select calues by tag: `loc[rows, columns]`"
      ]
    },
    {
      "cell_type": "code",
      "metadata": {
        "id": "ZYYp1cKOu3i-",
        "colab_type": "code",
        "colab": {
          "base_uri": "https://localhost:8080/",
          "height": 137
        },
        "outputId": "5a66fa87-89a0-413d-d949-ae6473b0bc13"
      },
      "source": [
        "dataframe"
      ],
      "execution_count": 106,
      "outputs": [
        {
          "output_type": "execute_result",
          "data": {
            "text/html": [
              "<div>\n",
              "<style scoped>\n",
              "    .dataframe tbody tr th:only-of-type {\n",
              "        vertical-align: middle;\n",
              "    }\n",
              "\n",
              "    .dataframe tbody tr th {\n",
              "        vertical-align: top;\n",
              "    }\n",
              "\n",
              "    .dataframe thead th {\n",
              "        text-align: right;\n",
              "    }\n",
              "</style>\n",
              "<table border=\"1\" class=\"dataframe\">\n",
              "  <thead>\n",
              "    <tr style=\"text-align: right;\">\n",
              "      <th></th>\n",
              "      <th>C1</th>\n",
              "      <th>C2</th>\n",
              "      <th>C3</th>\n",
              "      <th>C4</th>\n",
              "      <th>C5</th>\n",
              "    </tr>\n",
              "  </thead>\n",
              "  <tbody>\n",
              "    <tr>\n",
              "      <th>A</th>\n",
              "      <td>1</td>\n",
              "      <td>2</td>\n",
              "      <td>3</td>\n",
              "      <td>4</td>\n",
              "      <td>5</td>\n",
              "    </tr>\n",
              "    <tr>\n",
              "      <th>B</th>\n",
              "      <td>6</td>\n",
              "      <td>7</td>\n",
              "      <td>8</td>\n",
              "      <td>9</td>\n",
              "      <td>10</td>\n",
              "    </tr>\n",
              "    <tr>\n",
              "      <th>C</th>\n",
              "      <td>11</td>\n",
              "      <td>12</td>\n",
              "      <td>13</td>\n",
              "      <td>14</td>\n",
              "      <td>15</td>\n",
              "    </tr>\n",
              "  </tbody>\n",
              "</table>\n",
              "</div>"
            ],
            "text/plain": [
              "   C1  C2  C3  C4  C5\n",
              "A   1   2   3   4   5\n",
              "B   6   7   8   9  10\n",
              "C  11  12  13  14  15"
            ]
          },
          "metadata": {
            "tags": []
          },
          "execution_count": 106
        }
      ]
    },
    {
      "cell_type": "code",
      "metadata": {
        "id": "u2qVf5I_u4zE",
        "colab_type": "code",
        "colab": {
          "base_uri": "https://localhost:8080/",
          "height": 107
        },
        "outputId": "2d33fe4b-2e71-46a2-87cf-2811ce3ade6f"
      },
      "source": [
        "dataframe.loc[\"A\":\"B\", [\"C1\", \"C5\"]]"
      ],
      "execution_count": 109,
      "outputs": [
        {
          "output_type": "execute_result",
          "data": {
            "text/html": [
              "<div>\n",
              "<style scoped>\n",
              "    .dataframe tbody tr th:only-of-type {\n",
              "        vertical-align: middle;\n",
              "    }\n",
              "\n",
              "    .dataframe tbody tr th {\n",
              "        vertical-align: top;\n",
              "    }\n",
              "\n",
              "    .dataframe thead th {\n",
              "        text-align: right;\n",
              "    }\n",
              "</style>\n",
              "<table border=\"1\" class=\"dataframe\">\n",
              "  <thead>\n",
              "    <tr style=\"text-align: right;\">\n",
              "      <th></th>\n",
              "      <th>C1</th>\n",
              "      <th>C5</th>\n",
              "    </tr>\n",
              "  </thead>\n",
              "  <tbody>\n",
              "    <tr>\n",
              "      <th>A</th>\n",
              "      <td>1</td>\n",
              "      <td>5</td>\n",
              "    </tr>\n",
              "    <tr>\n",
              "      <th>B</th>\n",
              "      <td>6</td>\n",
              "      <td>10</td>\n",
              "    </tr>\n",
              "  </tbody>\n",
              "</table>\n",
              "</div>"
            ],
            "text/plain": [
              "   C1  C5\n",
              "A   1   5\n",
              "B   6  10"
            ]
          },
          "metadata": {
            "tags": []
          },
          "execution_count": 109
        }
      ]
    },
    {
      "cell_type": "code",
      "metadata": {
        "id": "PWqD617Ku-5Q",
        "colab_type": "code",
        "colab": {
          "base_uri": "https://localhost:8080/",
          "height": 137
        },
        "outputId": "190e75cc-2b4e-4cbd-e317-1debef958fa1"
      },
      "source": [
        "dataframe.loc[:,\"C1\":\"C3\"]"
      ],
      "execution_count": 110,
      "outputs": [
        {
          "output_type": "execute_result",
          "data": {
            "text/html": [
              "<div>\n",
              "<style scoped>\n",
              "    .dataframe tbody tr th:only-of-type {\n",
              "        vertical-align: middle;\n",
              "    }\n",
              "\n",
              "    .dataframe tbody tr th {\n",
              "        vertical-align: top;\n",
              "    }\n",
              "\n",
              "    .dataframe thead th {\n",
              "        text-align: right;\n",
              "    }\n",
              "</style>\n",
              "<table border=\"1\" class=\"dataframe\">\n",
              "  <thead>\n",
              "    <tr style=\"text-align: right;\">\n",
              "      <th></th>\n",
              "      <th>C1</th>\n",
              "      <th>C2</th>\n",
              "      <th>C3</th>\n",
              "    </tr>\n",
              "  </thead>\n",
              "  <tbody>\n",
              "    <tr>\n",
              "      <th>A</th>\n",
              "      <td>1</td>\n",
              "      <td>2</td>\n",
              "      <td>3</td>\n",
              "    </tr>\n",
              "    <tr>\n",
              "      <th>B</th>\n",
              "      <td>6</td>\n",
              "      <td>7</td>\n",
              "      <td>8</td>\n",
              "    </tr>\n",
              "    <tr>\n",
              "      <th>C</th>\n",
              "      <td>11</td>\n",
              "      <td>12</td>\n",
              "      <td>13</td>\n",
              "    </tr>\n",
              "  </tbody>\n",
              "</table>\n",
              "</div>"
            ],
            "text/plain": [
              "   C1  C2  C3\n",
              "A   1   2   3\n",
              "B   6   7   8\n",
              "C  11  12  13"
            ]
          },
          "metadata": {
            "tags": []
          },
          "execution_count": 110
        }
      ]
    },
    {
      "cell_type": "code",
      "metadata": {
        "id": "xfw8a1S2vF0b",
        "colab_type": "code",
        "colab": {
          "base_uri": "https://localhost:8080/",
          "height": 107
        },
        "outputId": "ce33fc14-11dd-4cb6-8113-c05d6a07b11f"
      },
      "source": [
        "dataframe.loc[[\"A\",\"C\"],:]"
      ],
      "execution_count": 111,
      "outputs": [
        {
          "output_type": "execute_result",
          "data": {
            "text/html": [
              "<div>\n",
              "<style scoped>\n",
              "    .dataframe tbody tr th:only-of-type {\n",
              "        vertical-align: middle;\n",
              "    }\n",
              "\n",
              "    .dataframe tbody tr th {\n",
              "        vertical-align: top;\n",
              "    }\n",
              "\n",
              "    .dataframe thead th {\n",
              "        text-align: right;\n",
              "    }\n",
              "</style>\n",
              "<table border=\"1\" class=\"dataframe\">\n",
              "  <thead>\n",
              "    <tr style=\"text-align: right;\">\n",
              "      <th></th>\n",
              "      <th>C1</th>\n",
              "      <th>C2</th>\n",
              "      <th>C3</th>\n",
              "      <th>C4</th>\n",
              "      <th>C5</th>\n",
              "    </tr>\n",
              "  </thead>\n",
              "  <tbody>\n",
              "    <tr>\n",
              "      <th>A</th>\n",
              "      <td>1</td>\n",
              "      <td>2</td>\n",
              "      <td>3</td>\n",
              "      <td>4</td>\n",
              "      <td>5</td>\n",
              "    </tr>\n",
              "    <tr>\n",
              "      <th>C</th>\n",
              "      <td>11</td>\n",
              "      <td>12</td>\n",
              "      <td>13</td>\n",
              "      <td>14</td>\n",
              "      <td>15</td>\n",
              "    </tr>\n",
              "  </tbody>\n",
              "</table>\n",
              "</div>"
            ],
            "text/plain": [
              "   C1  C2  C3  C4  C5\n",
              "A   1   2   3   4   5\n",
              "C  11  12  13  14  15"
            ]
          },
          "metadata": {
            "tags": []
          },
          "execution_count": 111
        }
      ]
    },
    {
      "cell_type": "code",
      "metadata": {
        "id": "TDs8lYP4vLAg",
        "colab_type": "code",
        "colab": {
          "base_uri": "https://localhost:8080/",
          "height": 34
        },
        "outputId": "10d4003d-6cd4-4eac-e492-5ebef9a7c9eb"
      },
      "source": [
        "dataframe.at[\"A\",\"C2\"]"
      ],
      "execution_count": 112,
      "outputs": [
        {
          "output_type": "execute_result",
          "data": {
            "text/plain": [
              "2"
            ]
          },
          "metadata": {
            "tags": []
          },
          "execution_count": 112
        }
      ]
    },
    {
      "cell_type": "markdown",
      "metadata": {
        "id": "bALcpGjovN9c",
        "colab_type": "text"
      },
      "source": [
        "## Exercise 19 \n",
        "Use the pokeframe \n",
        "- Select all columns, 2nd and 4th row\n",
        "- Select the \"hp\" and \"type\" columns of all rows\n",
        "- Select the column \"name\" from the first and last row\n",
        "- Select the value that is located in the first row, last column"
      ]
    },
    {
      "cell_type": "code",
      "metadata": {
        "id": "0VMzS7rjvkjA",
        "colab_type": "code",
        "colab": {
          "base_uri": "https://localhost:8080/",
          "height": 167
        },
        "outputId": "8e96df64-48e3-4194-f133-f2ec10b08969"
      },
      "source": [
        "pokeframe"
      ],
      "execution_count": 114,
      "outputs": [
        {
          "output_type": "execute_result",
          "data": {
            "text/html": [
              "<div>\n",
              "<style scoped>\n",
              "    .dataframe tbody tr th:only-of-type {\n",
              "        vertical-align: middle;\n",
              "    }\n",
              "\n",
              "    .dataframe tbody tr th {\n",
              "        vertical-align: top;\n",
              "    }\n",
              "\n",
              "    .dataframe thead th {\n",
              "        text-align: right;\n",
              "    }\n",
              "</style>\n",
              "<table border=\"1\" class=\"dataframe\">\n",
              "  <thead>\n",
              "    <tr style=\"text-align: right;\">\n",
              "      <th></th>\n",
              "      <th>name</th>\n",
              "      <th>evolution</th>\n",
              "      <th>hp</th>\n",
              "      <th>pokedex</th>\n",
              "      <th>type</th>\n",
              "    </tr>\n",
              "  </thead>\n",
              "  <tbody>\n",
              "    <tr>\n",
              "      <th>A</th>\n",
              "      <td>Bulbasaur</td>\n",
              "      <td>Ivysaur</td>\n",
              "      <td>45</td>\n",
              "      <td>Yes</td>\n",
              "      <td>Grass</td>\n",
              "    </tr>\n",
              "    <tr>\n",
              "      <th>B</th>\n",
              "      <td>Charmander</td>\n",
              "      <td>Charmeleon</td>\n",
              "      <td>39</td>\n",
              "      <td>No</td>\n",
              "      <td>Fire</td>\n",
              "    </tr>\n",
              "    <tr>\n",
              "      <th>C</th>\n",
              "      <td>Squirtle</td>\n",
              "      <td>Wartortle</td>\n",
              "      <td>44</td>\n",
              "      <td>Yes</td>\n",
              "      <td>Water</td>\n",
              "    </tr>\n",
              "    <tr>\n",
              "      <th>D</th>\n",
              "      <td>Carterpie</td>\n",
              "      <td>Metapod</td>\n",
              "      <td>45</td>\n",
              "      <td>No</td>\n",
              "      <td>Bug</td>\n",
              "    </tr>\n",
              "  </tbody>\n",
              "</table>\n",
              "</div>"
            ],
            "text/plain": [
              "         name   evolution  hp pokedex   type\n",
              "A   Bulbasaur     Ivysaur  45     Yes  Grass\n",
              "B  Charmander  Charmeleon  39      No   Fire\n",
              "C    Squirtle   Wartortle  44     Yes  Water\n",
              "D   Carterpie     Metapod  45      No    Bug"
            ]
          },
          "metadata": {
            "tags": []
          },
          "execution_count": 114
        }
      ]
    },
    {
      "cell_type": "code",
      "metadata": {
        "id": "I1tPUU4Fvnkv",
        "colab_type": "code",
        "colab": {
          "base_uri": "https://localhost:8080/",
          "height": 107
        },
        "outputId": "4fc62fea-740b-4735-fc53-b3293fc672f7"
      },
      "source": [
        "pokeframe.loc[[\"B\",\"D\"],:]"
      ],
      "execution_count": 115,
      "outputs": [
        {
          "output_type": "execute_result",
          "data": {
            "text/html": [
              "<div>\n",
              "<style scoped>\n",
              "    .dataframe tbody tr th:only-of-type {\n",
              "        vertical-align: middle;\n",
              "    }\n",
              "\n",
              "    .dataframe tbody tr th {\n",
              "        vertical-align: top;\n",
              "    }\n",
              "\n",
              "    .dataframe thead th {\n",
              "        text-align: right;\n",
              "    }\n",
              "</style>\n",
              "<table border=\"1\" class=\"dataframe\">\n",
              "  <thead>\n",
              "    <tr style=\"text-align: right;\">\n",
              "      <th></th>\n",
              "      <th>name</th>\n",
              "      <th>evolution</th>\n",
              "      <th>hp</th>\n",
              "      <th>pokedex</th>\n",
              "      <th>type</th>\n",
              "    </tr>\n",
              "  </thead>\n",
              "  <tbody>\n",
              "    <tr>\n",
              "      <th>B</th>\n",
              "      <td>Charmander</td>\n",
              "      <td>Charmeleon</td>\n",
              "      <td>39</td>\n",
              "      <td>No</td>\n",
              "      <td>Fire</td>\n",
              "    </tr>\n",
              "    <tr>\n",
              "      <th>D</th>\n",
              "      <td>Carterpie</td>\n",
              "      <td>Metapod</td>\n",
              "      <td>45</td>\n",
              "      <td>No</td>\n",
              "      <td>Bug</td>\n",
              "    </tr>\n",
              "  </tbody>\n",
              "</table>\n",
              "</div>"
            ],
            "text/plain": [
              "         name   evolution  hp pokedex  type\n",
              "B  Charmander  Charmeleon  39      No  Fire\n",
              "D   Carterpie     Metapod  45      No   Bug"
            ]
          },
          "metadata": {
            "tags": []
          },
          "execution_count": 115
        }
      ]
    },
    {
      "cell_type": "code",
      "metadata": {
        "id": "syv8SJpNv0Rz",
        "colab_type": "code",
        "colab": {
          "base_uri": "https://localhost:8080/",
          "height": 167
        },
        "outputId": "f95ac28c-5ddc-46b8-88e5-e59b122c5180"
      },
      "source": [
        "pokeframe.loc[:,[\"hp\",\"type\"]]"
      ],
      "execution_count": 116,
      "outputs": [
        {
          "output_type": "execute_result",
          "data": {
            "text/html": [
              "<div>\n",
              "<style scoped>\n",
              "    .dataframe tbody tr th:only-of-type {\n",
              "        vertical-align: middle;\n",
              "    }\n",
              "\n",
              "    .dataframe tbody tr th {\n",
              "        vertical-align: top;\n",
              "    }\n",
              "\n",
              "    .dataframe thead th {\n",
              "        text-align: right;\n",
              "    }\n",
              "</style>\n",
              "<table border=\"1\" class=\"dataframe\">\n",
              "  <thead>\n",
              "    <tr style=\"text-align: right;\">\n",
              "      <th></th>\n",
              "      <th>hp</th>\n",
              "      <th>type</th>\n",
              "    </tr>\n",
              "  </thead>\n",
              "  <tbody>\n",
              "    <tr>\n",
              "      <th>A</th>\n",
              "      <td>45</td>\n",
              "      <td>Grass</td>\n",
              "    </tr>\n",
              "    <tr>\n",
              "      <th>B</th>\n",
              "      <td>39</td>\n",
              "      <td>Fire</td>\n",
              "    </tr>\n",
              "    <tr>\n",
              "      <th>C</th>\n",
              "      <td>44</td>\n",
              "      <td>Water</td>\n",
              "    </tr>\n",
              "    <tr>\n",
              "      <th>D</th>\n",
              "      <td>45</td>\n",
              "      <td>Bug</td>\n",
              "    </tr>\n",
              "  </tbody>\n",
              "</table>\n",
              "</div>"
            ],
            "text/plain": [
              "   hp   type\n",
              "A  45  Grass\n",
              "B  39   Fire\n",
              "C  44  Water\n",
              "D  45    Bug"
            ]
          },
          "metadata": {
            "tags": []
          },
          "execution_count": 116
        }
      ]
    },
    {
      "cell_type": "code",
      "metadata": {
        "id": "ZeRRbYjvv6UN",
        "colab_type": "code",
        "colab": {
          "base_uri": "https://localhost:8080/",
          "height": 107
        },
        "outputId": "90f543b6-66cb-49f4-ba7b-d61812110d5f"
      },
      "source": [
        "pokeframe.loc[[\"A\",\"D\"], [\"name\"]]"
      ],
      "execution_count": 121,
      "outputs": [
        {
          "output_type": "execute_result",
          "data": {
            "text/html": [
              "<div>\n",
              "<style scoped>\n",
              "    .dataframe tbody tr th:only-of-type {\n",
              "        vertical-align: middle;\n",
              "    }\n",
              "\n",
              "    .dataframe tbody tr th {\n",
              "        vertical-align: top;\n",
              "    }\n",
              "\n",
              "    .dataframe thead th {\n",
              "        text-align: right;\n",
              "    }\n",
              "</style>\n",
              "<table border=\"1\" class=\"dataframe\">\n",
              "  <thead>\n",
              "    <tr style=\"text-align: right;\">\n",
              "      <th></th>\n",
              "      <th>name</th>\n",
              "    </tr>\n",
              "  </thead>\n",
              "  <tbody>\n",
              "    <tr>\n",
              "      <th>A</th>\n",
              "      <td>Bulbasaur</td>\n",
              "    </tr>\n",
              "    <tr>\n",
              "      <th>D</th>\n",
              "      <td>Carterpie</td>\n",
              "    </tr>\n",
              "  </tbody>\n",
              "</table>\n",
              "</div>"
            ],
            "text/plain": [
              "        name\n",
              "A  Bulbasaur\n",
              "D  Carterpie"
            ]
          },
          "metadata": {
            "tags": []
          },
          "execution_count": 121
        }
      ]
    },
    {
      "cell_type": "code",
      "metadata": {
        "id": "TGg5-Lr_wDCD",
        "colab_type": "code",
        "colab": {
          "base_uri": "https://localhost:8080/",
          "height": 34
        },
        "outputId": "667bf933-8ec3-4f94-d1fe-61d4190156f6"
      },
      "source": [
        "pokeframe.at[\"D\",\"name\"]"
      ],
      "execution_count": 124,
      "outputs": [
        {
          "output_type": "execute_result",
          "data": {
            "text/plain": [
              "'Carterpie'"
            ]
          },
          "metadata": {
            "tags": []
          },
          "execution_count": 124
        }
      ]
    },
    {
      "cell_type": "markdown",
      "metadata": {
        "id": "NvPH_oKIwR04",
        "colab_type": "text"
      },
      "source": [
        "## Creating/Changing Columns \n",
        "- To change a new column, use the following syntax\n",
        "`dataframe[\"column\"] = array or list`\n",
        "- If the column does nto exist, it will autoaticall be added to the DataFrame"
      ]
    },
    {
      "cell_type": "code",
      "metadata": {
        "id": "dwmQYeYFwocS",
        "colab_type": "code",
        "colab": {
          "base_uri": "https://localhost:8080/",
          "height": 34
        },
        "outputId": "66a199c2-b94e-4ca1-a1f9-e2482eb84a3a"
      },
      "source": [
        "dictionary"
      ],
      "execution_count": 125,
      "outputs": [
        {
          "output_type": "execute_result",
          "data": {
            "text/plain": [
              "{'n1': array([1, 2, 3, 4]), 'n2': array([50, 51, 52, 53])}"
            ]
          },
          "metadata": {
            "tags": []
          },
          "execution_count": 125
        }
      ]
    },
    {
      "cell_type": "code",
      "metadata": {
        "id": "AIOaGpeNxA4w",
        "colab_type": "code",
        "colab": {
          "base_uri": "https://localhost:8080/",
          "height": 167
        },
        "outputId": "538aec0c-c7d1-4a95-d9dd-1df438b1a373"
      },
      "source": [
        "dataframe = pd.DataFrame(dictionary)\n",
        "dataframe"
      ],
      "execution_count": 126,
      "outputs": [
        {
          "output_type": "execute_result",
          "data": {
            "text/html": [
              "<div>\n",
              "<style scoped>\n",
              "    .dataframe tbody tr th:only-of-type {\n",
              "        vertical-align: middle;\n",
              "    }\n",
              "\n",
              "    .dataframe tbody tr th {\n",
              "        vertical-align: top;\n",
              "    }\n",
              "\n",
              "    .dataframe thead th {\n",
              "        text-align: right;\n",
              "    }\n",
              "</style>\n",
              "<table border=\"1\" class=\"dataframe\">\n",
              "  <thead>\n",
              "    <tr style=\"text-align: right;\">\n",
              "      <th></th>\n",
              "      <th>n1</th>\n",
              "      <th>n2</th>\n",
              "    </tr>\n",
              "  </thead>\n",
              "  <tbody>\n",
              "    <tr>\n",
              "      <th>0</th>\n",
              "      <td>1</td>\n",
              "      <td>50</td>\n",
              "    </tr>\n",
              "    <tr>\n",
              "      <th>1</th>\n",
              "      <td>2</td>\n",
              "      <td>51</td>\n",
              "    </tr>\n",
              "    <tr>\n",
              "      <th>2</th>\n",
              "      <td>3</td>\n",
              "      <td>52</td>\n",
              "    </tr>\n",
              "    <tr>\n",
              "      <th>3</th>\n",
              "      <td>4</td>\n",
              "      <td>53</td>\n",
              "    </tr>\n",
              "  </tbody>\n",
              "</table>\n",
              "</div>"
            ],
            "text/plain": [
              "   n1  n2\n",
              "0   1  50\n",
              "1   2  51\n",
              "2   3  52\n",
              "3   4  53"
            ]
          },
          "metadata": {
            "tags": []
          },
          "execution_count": 126
        }
      ]
    },
    {
      "cell_type": "code",
      "metadata": {
        "id": "3AyYWEfPxEvS",
        "colab_type": "code",
        "colab": {
          "base_uri": "https://localhost:8080/",
          "height": 167
        },
        "outputId": "2022d63d-4c38-4c1d-c9b0-1f5da97916e1"
      },
      "source": [
        "dataframe[\"n3\"] = [10,25,2,-1]\n",
        "dataframe"
      ],
      "execution_count": 127,
      "outputs": [
        {
          "output_type": "execute_result",
          "data": {
            "text/html": [
              "<div>\n",
              "<style scoped>\n",
              "    .dataframe tbody tr th:only-of-type {\n",
              "        vertical-align: middle;\n",
              "    }\n",
              "\n",
              "    .dataframe tbody tr th {\n",
              "        vertical-align: top;\n",
              "    }\n",
              "\n",
              "    .dataframe thead th {\n",
              "        text-align: right;\n",
              "    }\n",
              "</style>\n",
              "<table border=\"1\" class=\"dataframe\">\n",
              "  <thead>\n",
              "    <tr style=\"text-align: right;\">\n",
              "      <th></th>\n",
              "      <th>n1</th>\n",
              "      <th>n2</th>\n",
              "      <th>n3</th>\n",
              "    </tr>\n",
              "  </thead>\n",
              "  <tbody>\n",
              "    <tr>\n",
              "      <th>0</th>\n",
              "      <td>1</td>\n",
              "      <td>50</td>\n",
              "      <td>10</td>\n",
              "    </tr>\n",
              "    <tr>\n",
              "      <th>1</th>\n",
              "      <td>2</td>\n",
              "      <td>51</td>\n",
              "      <td>25</td>\n",
              "    </tr>\n",
              "    <tr>\n",
              "      <th>2</th>\n",
              "      <td>3</td>\n",
              "      <td>52</td>\n",
              "      <td>2</td>\n",
              "    </tr>\n",
              "    <tr>\n",
              "      <th>3</th>\n",
              "      <td>4</td>\n",
              "      <td>53</td>\n",
              "      <td>-1</td>\n",
              "    </tr>\n",
              "  </tbody>\n",
              "</table>\n",
              "</div>"
            ],
            "text/plain": [
              "   n1  n2  n3\n",
              "0   1  50  10\n",
              "1   2  51  25\n",
              "2   3  52   2\n",
              "3   4  53  -1"
            ]
          },
          "metadata": {
            "tags": []
          },
          "execution_count": 127
        }
      ]
    },
    {
      "cell_type": "markdown",
      "metadata": {
        "id": "cg4qejrUxITB",
        "colab_type": "text"
      },
      "source": [
        "We can use the numpy function `np.where` to create new columns"
      ]
    },
    {
      "cell_type": "code",
      "metadata": {
        "id": "ObdmDy-0xRqE",
        "colab_type": "code",
        "colab": {
          "base_uri": "https://localhost:8080/",
          "height": 167
        },
        "outputId": "7851a072-245b-40c4-d38a-10e65ab96dfb"
      },
      "source": [
        "dataframe[\"n4\"] = np.where(dataframe.n1 > 2, True, False)\n",
        "dataframe"
      ],
      "execution_count": 133,
      "outputs": [
        {
          "output_type": "execute_result",
          "data": {
            "text/html": [
              "<div>\n",
              "<style scoped>\n",
              "    .dataframe tbody tr th:only-of-type {\n",
              "        vertical-align: middle;\n",
              "    }\n",
              "\n",
              "    .dataframe tbody tr th {\n",
              "        vertical-align: top;\n",
              "    }\n",
              "\n",
              "    .dataframe thead th {\n",
              "        text-align: right;\n",
              "    }\n",
              "</style>\n",
              "<table border=\"1\" class=\"dataframe\">\n",
              "  <thead>\n",
              "    <tr style=\"text-align: right;\">\n",
              "      <th></th>\n",
              "      <th>n1</th>\n",
              "      <th>n2</th>\n",
              "      <th>n3</th>\n",
              "      <th>n4</th>\n",
              "    </tr>\n",
              "  </thead>\n",
              "  <tbody>\n",
              "    <tr>\n",
              "      <th>0</th>\n",
              "      <td>1</td>\n",
              "      <td>50</td>\n",
              "      <td>10</td>\n",
              "      <td>False</td>\n",
              "    </tr>\n",
              "    <tr>\n",
              "      <th>1</th>\n",
              "      <td>2</td>\n",
              "      <td>51</td>\n",
              "      <td>25</td>\n",
              "      <td>False</td>\n",
              "    </tr>\n",
              "    <tr>\n",
              "      <th>2</th>\n",
              "      <td>3</td>\n",
              "      <td>52</td>\n",
              "      <td>2</td>\n",
              "      <td>True</td>\n",
              "    </tr>\n",
              "    <tr>\n",
              "      <th>3</th>\n",
              "      <td>4</td>\n",
              "      <td>53</td>\n",
              "      <td>-1</td>\n",
              "      <td>True</td>\n",
              "    </tr>\n",
              "  </tbody>\n",
              "</table>\n",
              "</div>"
            ],
            "text/plain": [
              "   n1  n2  n3     n4\n",
              "0   1  50  10  False\n",
              "1   2  51  25  False\n",
              "2   3  52   2   True\n",
              "3   4  53  -1   True"
            ]
          },
          "metadata": {
            "tags": []
          },
          "execution_count": 133
        }
      ]
    },
    {
      "cell_type": "markdown",
      "metadata": {
        "id": "_Mw4N9pKxYSH",
        "colab_type": "text"
      },
      "source": [
        "The value selection functions (iat, iloc, loc, at), also\n",
        "allow you to modify the content of a Daframe , or even\n",
        "add new elements (rows or columns)"
      ]
    },
    {
      "cell_type": "code",
      "metadata": {
        "id": "Sr_17TtnxgCp",
        "colab_type": "code",
        "colab": {
          "base_uri": "https://localhost:8080/",
          "height": 167
        },
        "outputId": "b2fb8247-b171-422a-89dc-f8cfc80ef44b"
      },
      "source": [
        "df = pd.DataFrame()\n",
        "df[\"Column A\"] = [1,2,3,4]\n",
        "df[\"Column B\"] = [\"one\", \"two\", \"three\", \"four\"]\n",
        "df"
      ],
      "execution_count": 134,
      "outputs": [
        {
          "output_type": "execute_result",
          "data": {
            "text/html": [
              "<div>\n",
              "<style scoped>\n",
              "    .dataframe tbody tr th:only-of-type {\n",
              "        vertical-align: middle;\n",
              "    }\n",
              "\n",
              "    .dataframe tbody tr th {\n",
              "        vertical-align: top;\n",
              "    }\n",
              "\n",
              "    .dataframe thead th {\n",
              "        text-align: right;\n",
              "    }\n",
              "</style>\n",
              "<table border=\"1\" class=\"dataframe\">\n",
              "  <thead>\n",
              "    <tr style=\"text-align: right;\">\n",
              "      <th></th>\n",
              "      <th>Column A</th>\n",
              "      <th>Column B</th>\n",
              "    </tr>\n",
              "  </thead>\n",
              "  <tbody>\n",
              "    <tr>\n",
              "      <th>0</th>\n",
              "      <td>1</td>\n",
              "      <td>one</td>\n",
              "    </tr>\n",
              "    <tr>\n",
              "      <th>1</th>\n",
              "      <td>2</td>\n",
              "      <td>two</td>\n",
              "    </tr>\n",
              "    <tr>\n",
              "      <th>2</th>\n",
              "      <td>3</td>\n",
              "      <td>three</td>\n",
              "    </tr>\n",
              "    <tr>\n",
              "      <th>3</th>\n",
              "      <td>4</td>\n",
              "      <td>four</td>\n",
              "    </tr>\n",
              "  </tbody>\n",
              "</table>\n",
              "</div>"
            ],
            "text/plain": [
              "   Column A Column B\n",
              "0         1      one\n",
              "1         2      two\n",
              "2         3    three\n",
              "3         4     four"
            ]
          },
          "metadata": {
            "tags": []
          },
          "execution_count": 134
        }
      ]
    },
    {
      "cell_type": "code",
      "metadata": {
        "id": "N1CC4XRGx1hs",
        "colab_type": "code",
        "colab": {
          "base_uri": "https://localhost:8080/",
          "height": 167
        },
        "outputId": "bc2aa794-daf6-4c5e-cc20-de2b3e3cdf56"
      },
      "source": [
        "df.iloc[:,0] = [2,1,1,2]\n",
        "df"
      ],
      "execution_count": 135,
      "outputs": [
        {
          "output_type": "execute_result",
          "data": {
            "text/html": [
              "<div>\n",
              "<style scoped>\n",
              "    .dataframe tbody tr th:only-of-type {\n",
              "        vertical-align: middle;\n",
              "    }\n",
              "\n",
              "    .dataframe tbody tr th {\n",
              "        vertical-align: top;\n",
              "    }\n",
              "\n",
              "    .dataframe thead th {\n",
              "        text-align: right;\n",
              "    }\n",
              "</style>\n",
              "<table border=\"1\" class=\"dataframe\">\n",
              "  <thead>\n",
              "    <tr style=\"text-align: right;\">\n",
              "      <th></th>\n",
              "      <th>Column A</th>\n",
              "      <th>Column B</th>\n",
              "    </tr>\n",
              "  </thead>\n",
              "  <tbody>\n",
              "    <tr>\n",
              "      <th>0</th>\n",
              "      <td>2</td>\n",
              "      <td>one</td>\n",
              "    </tr>\n",
              "    <tr>\n",
              "      <th>1</th>\n",
              "      <td>1</td>\n",
              "      <td>two</td>\n",
              "    </tr>\n",
              "    <tr>\n",
              "      <th>2</th>\n",
              "      <td>1</td>\n",
              "      <td>three</td>\n",
              "    </tr>\n",
              "    <tr>\n",
              "      <th>3</th>\n",
              "      <td>2</td>\n",
              "      <td>four</td>\n",
              "    </tr>\n",
              "  </tbody>\n",
              "</table>\n",
              "</div>"
            ],
            "text/plain": [
              "   Column A Column B\n",
              "0         2      one\n",
              "1         1      two\n",
              "2         1    three\n",
              "3         2     four"
            ]
          },
          "metadata": {
            "tags": []
          },
          "execution_count": 135
        }
      ]
    },
    {
      "cell_type": "code",
      "metadata": {
        "id": "TsTWQwnFx5ok",
        "colab_type": "code",
        "colab": {
          "base_uri": "https://localhost:8080/",
          "height": 197
        },
        "outputId": "5812b31e-876a-4141-9e4a-512331e77566"
      },
      "source": [
        "df.loc[\"4\"] = [5, \"five\"]\n",
        "df"
      ],
      "execution_count": 139,
      "outputs": [
        {
          "output_type": "execute_result",
          "data": {
            "text/html": [
              "<div>\n",
              "<style scoped>\n",
              "    .dataframe tbody tr th:only-of-type {\n",
              "        vertical-align: middle;\n",
              "    }\n",
              "\n",
              "    .dataframe tbody tr th {\n",
              "        vertical-align: top;\n",
              "    }\n",
              "\n",
              "    .dataframe thead th {\n",
              "        text-align: right;\n",
              "    }\n",
              "</style>\n",
              "<table border=\"1\" class=\"dataframe\">\n",
              "  <thead>\n",
              "    <tr style=\"text-align: right;\">\n",
              "      <th></th>\n",
              "      <th>Column A</th>\n",
              "      <th>Column B</th>\n",
              "    </tr>\n",
              "  </thead>\n",
              "  <tbody>\n",
              "    <tr>\n",
              "      <th>0</th>\n",
              "      <td>2</td>\n",
              "      <td>one</td>\n",
              "    </tr>\n",
              "    <tr>\n",
              "      <th>1</th>\n",
              "      <td>1</td>\n",
              "      <td>two</td>\n",
              "    </tr>\n",
              "    <tr>\n",
              "      <th>2</th>\n",
              "      <td>1</td>\n",
              "      <td>three</td>\n",
              "    </tr>\n",
              "    <tr>\n",
              "      <th>3</th>\n",
              "      <td>2</td>\n",
              "      <td>four</td>\n",
              "    </tr>\n",
              "    <tr>\n",
              "      <th>4</th>\n",
              "      <td>5</td>\n",
              "      <td>five</td>\n",
              "    </tr>\n",
              "  </tbody>\n",
              "</table>\n",
              "</div>"
            ],
            "text/plain": [
              "   Column A Column B\n",
              "0         2      one\n",
              "1         1      two\n",
              "2         1    three\n",
              "3         2     four\n",
              "4         5     five"
            ]
          },
          "metadata": {
            "tags": []
          },
          "execution_count": 139
        }
      ]
    },
    {
      "cell_type": "code",
      "metadata": {
        "id": "TWc7-RDSyBMd",
        "colab_type": "code",
        "colab": {
          "base_uri": "https://localhost:8080/",
          "height": 197
        },
        "outputId": "1ae476da-5b06-412f-e2f5-30c32ba23b80"
      },
      "source": [
        "df.loc[:, \"Column C\"] = np.random.normal(0.5,10,5)\n",
        "df"
      ],
      "execution_count": 141,
      "outputs": [
        {
          "output_type": "execute_result",
          "data": {
            "text/html": [
              "<div>\n",
              "<style scoped>\n",
              "    .dataframe tbody tr th:only-of-type {\n",
              "        vertical-align: middle;\n",
              "    }\n",
              "\n",
              "    .dataframe tbody tr th {\n",
              "        vertical-align: top;\n",
              "    }\n",
              "\n",
              "    .dataframe thead th {\n",
              "        text-align: right;\n",
              "    }\n",
              "</style>\n",
              "<table border=\"1\" class=\"dataframe\">\n",
              "  <thead>\n",
              "    <tr style=\"text-align: right;\">\n",
              "      <th></th>\n",
              "      <th>Column A</th>\n",
              "      <th>Column B</th>\n",
              "      <th>Column C</th>\n",
              "    </tr>\n",
              "  </thead>\n",
              "  <tbody>\n",
              "    <tr>\n",
              "      <th>0</th>\n",
              "      <td>2</td>\n",
              "      <td>one</td>\n",
              "      <td>-4.960139</td>\n",
              "    </tr>\n",
              "    <tr>\n",
              "      <th>1</th>\n",
              "      <td>1</td>\n",
              "      <td>two</td>\n",
              "      <td>-15.176030</td>\n",
              "    </tr>\n",
              "    <tr>\n",
              "      <th>2</th>\n",
              "      <td>1</td>\n",
              "      <td>three</td>\n",
              "      <td>-8.491613</td>\n",
              "    </tr>\n",
              "    <tr>\n",
              "      <th>3</th>\n",
              "      <td>2</td>\n",
              "      <td>four</td>\n",
              "      <td>0.543886</td>\n",
              "    </tr>\n",
              "    <tr>\n",
              "      <th>4</th>\n",
              "      <td>5</td>\n",
              "      <td>five</td>\n",
              "      <td>11.424085</td>\n",
              "    </tr>\n",
              "  </tbody>\n",
              "</table>\n",
              "</div>"
            ],
            "text/plain": [
              "   Column A Column B   Column C\n",
              "0         2      one  -4.960139\n",
              "1         1      two -15.176030\n",
              "2         1    three  -8.491613\n",
              "3         2     four   0.543886\n",
              "4         5     five  11.424085"
            ]
          },
          "metadata": {
            "tags": []
          },
          "execution_count": 141
        }
      ]
    },
    {
      "cell_type": "code",
      "metadata": {
        "id": "8iQJhU9SyMzX",
        "colab_type": "code",
        "colab": {
          "base_uri": "https://localhost:8080/",
          "height": 197
        },
        "outputId": "fb7ef098-34af-4d2c-a28d-0a0bf5eec27d"
      },
      "source": [
        "df.iat[0,0] = 79\n",
        "df"
      ],
      "execution_count": 142,
      "outputs": [
        {
          "output_type": "execute_result",
          "data": {
            "text/html": [
              "<div>\n",
              "<style scoped>\n",
              "    .dataframe tbody tr th:only-of-type {\n",
              "        vertical-align: middle;\n",
              "    }\n",
              "\n",
              "    .dataframe tbody tr th {\n",
              "        vertical-align: top;\n",
              "    }\n",
              "\n",
              "    .dataframe thead th {\n",
              "        text-align: right;\n",
              "    }\n",
              "</style>\n",
              "<table border=\"1\" class=\"dataframe\">\n",
              "  <thead>\n",
              "    <tr style=\"text-align: right;\">\n",
              "      <th></th>\n",
              "      <th>Column A</th>\n",
              "      <th>Column B</th>\n",
              "      <th>Column C</th>\n",
              "    </tr>\n",
              "  </thead>\n",
              "  <tbody>\n",
              "    <tr>\n",
              "      <th>0</th>\n",
              "      <td>79</td>\n",
              "      <td>one</td>\n",
              "      <td>-4.960139</td>\n",
              "    </tr>\n",
              "    <tr>\n",
              "      <th>1</th>\n",
              "      <td>1</td>\n",
              "      <td>two</td>\n",
              "      <td>-15.176030</td>\n",
              "    </tr>\n",
              "    <tr>\n",
              "      <th>2</th>\n",
              "      <td>1</td>\n",
              "      <td>three</td>\n",
              "      <td>-8.491613</td>\n",
              "    </tr>\n",
              "    <tr>\n",
              "      <th>3</th>\n",
              "      <td>2</td>\n",
              "      <td>four</td>\n",
              "      <td>0.543886</td>\n",
              "    </tr>\n",
              "    <tr>\n",
              "      <th>4</th>\n",
              "      <td>5</td>\n",
              "      <td>five</td>\n",
              "      <td>11.424085</td>\n",
              "    </tr>\n",
              "  </tbody>\n",
              "</table>\n",
              "</div>"
            ],
            "text/plain": [
              "   Column A Column B   Column C\n",
              "0        79      one  -4.960139\n",
              "1         1      two -15.176030\n",
              "2         1    three  -8.491613\n",
              "3         2     four   0.543886\n",
              "4         5     five  11.424085"
            ]
          },
          "metadata": {
            "tags": []
          },
          "execution_count": 142
        }
      ]
    },
    {
      "cell_type": "code",
      "metadata": {
        "id": "Css9Q6wGyRa7",
        "colab_type": "code",
        "colab": {
          "base_uri": "https://localhost:8080/",
          "height": 197
        },
        "outputId": "882cd571-78f8-461e-8c64-fe4ad86ac275"
      },
      "source": [
        "df.iloc[[0,1],0] = 11\n",
        "df"
      ],
      "execution_count": 143,
      "outputs": [
        {
          "output_type": "execute_result",
          "data": {
            "text/html": [
              "<div>\n",
              "<style scoped>\n",
              "    .dataframe tbody tr th:only-of-type {\n",
              "        vertical-align: middle;\n",
              "    }\n",
              "\n",
              "    .dataframe tbody tr th {\n",
              "        vertical-align: top;\n",
              "    }\n",
              "\n",
              "    .dataframe thead th {\n",
              "        text-align: right;\n",
              "    }\n",
              "</style>\n",
              "<table border=\"1\" class=\"dataframe\">\n",
              "  <thead>\n",
              "    <tr style=\"text-align: right;\">\n",
              "      <th></th>\n",
              "      <th>Column A</th>\n",
              "      <th>Column B</th>\n",
              "      <th>Column C</th>\n",
              "    </tr>\n",
              "  </thead>\n",
              "  <tbody>\n",
              "    <tr>\n",
              "      <th>0</th>\n",
              "      <td>11</td>\n",
              "      <td>one</td>\n",
              "      <td>-4.960139</td>\n",
              "    </tr>\n",
              "    <tr>\n",
              "      <th>1</th>\n",
              "      <td>11</td>\n",
              "      <td>two</td>\n",
              "      <td>-15.176030</td>\n",
              "    </tr>\n",
              "    <tr>\n",
              "      <th>2</th>\n",
              "      <td>1</td>\n",
              "      <td>three</td>\n",
              "      <td>-8.491613</td>\n",
              "    </tr>\n",
              "    <tr>\n",
              "      <th>3</th>\n",
              "      <td>2</td>\n",
              "      <td>four</td>\n",
              "      <td>0.543886</td>\n",
              "    </tr>\n",
              "    <tr>\n",
              "      <th>4</th>\n",
              "      <td>5</td>\n",
              "      <td>five</td>\n",
              "      <td>11.424085</td>\n",
              "    </tr>\n",
              "  </tbody>\n",
              "</table>\n",
              "</div>"
            ],
            "text/plain": [
              "   Column A Column B   Column C\n",
              "0        11      one  -4.960139\n",
              "1        11      two -15.176030\n",
              "2         1    three  -8.491613\n",
              "3         2     four   0.543886\n",
              "4         5     five  11.424085"
            ]
          },
          "metadata": {
            "tags": []
          },
          "execution_count": 143
        }
      ]
    },
    {
      "cell_type": "markdown",
      "metadata": {
        "id": "ShnuNq3ByYP8",
        "colab_type": "text"
      },
      "source": [
        "## Exercise 20 \n",
        "Use the pokeframe \n",
        "- Create a new row with the index \"E\" and the falues \"Adn\", \"Alibai\", \"34\", \"yes\", \"grass\"\n",
        "- Create the column \"hp45\", with 45% of the values in column \"hp\"\n",
        "- Add 100 to the column \"hp if its value is less than 40\""
      ]
    },
    {
      "cell_type": "code",
      "metadata": {
        "id": "0qTFrPSLy0m9",
        "colab_type": "code",
        "colab": {
          "base_uri": "https://localhost:8080/",
          "height": 167
        },
        "outputId": "2059305a-c57d-4422-d1ec-3fc9327338a6"
      },
      "source": [
        "pokeframe"
      ],
      "execution_count": 211,
      "outputs": [
        {
          "output_type": "execute_result",
          "data": {
            "text/html": [
              "<div>\n",
              "<style scoped>\n",
              "    .dataframe tbody tr th:only-of-type {\n",
              "        vertical-align: middle;\n",
              "    }\n",
              "\n",
              "    .dataframe tbody tr th {\n",
              "        vertical-align: top;\n",
              "    }\n",
              "\n",
              "    .dataframe thead th {\n",
              "        text-align: right;\n",
              "    }\n",
              "</style>\n",
              "<table border=\"1\" class=\"dataframe\">\n",
              "  <thead>\n",
              "    <tr style=\"text-align: right;\">\n",
              "      <th></th>\n",
              "      <th>name</th>\n",
              "      <th>evolution</th>\n",
              "      <th>hp</th>\n",
              "      <th>pokedex</th>\n",
              "      <th>type</th>\n",
              "    </tr>\n",
              "  </thead>\n",
              "  <tbody>\n",
              "    <tr>\n",
              "      <th>A</th>\n",
              "      <td>Bulbasaur</td>\n",
              "      <td>Ivysaur</td>\n",
              "      <td>45</td>\n",
              "      <td>Yes</td>\n",
              "      <td>Grass</td>\n",
              "    </tr>\n",
              "    <tr>\n",
              "      <th>B</th>\n",
              "      <td>Charmander</td>\n",
              "      <td>Charmeleon</td>\n",
              "      <td>39</td>\n",
              "      <td>No</td>\n",
              "      <td>Fire</td>\n",
              "    </tr>\n",
              "    <tr>\n",
              "      <th>C</th>\n",
              "      <td>Squirtle</td>\n",
              "      <td>Wartortle</td>\n",
              "      <td>44</td>\n",
              "      <td>Yes</td>\n",
              "      <td>Water</td>\n",
              "    </tr>\n",
              "    <tr>\n",
              "      <th>D</th>\n",
              "      <td>Carterpie</td>\n",
              "      <td>Metapod</td>\n",
              "      <td>45</td>\n",
              "      <td>No</td>\n",
              "      <td>Bug</td>\n",
              "    </tr>\n",
              "  </tbody>\n",
              "</table>\n",
              "</div>"
            ],
            "text/plain": [
              "         name   evolution  hp pokedex   type\n",
              "A   Bulbasaur     Ivysaur  45     Yes  Grass\n",
              "B  Charmander  Charmeleon  39      No   Fire\n",
              "C    Squirtle   Wartortle  44     Yes  Water\n",
              "D   Carterpie     Metapod  45      No    Bug"
            ]
          },
          "metadata": {
            "tags": []
          },
          "execution_count": 211
        }
      ]
    },
    {
      "cell_type": "code",
      "metadata": {
        "id": "aXc0_bIhy1yo",
        "colab_type": "code",
        "colab": {
          "base_uri": "https://localhost:8080/",
          "height": 197
        },
        "outputId": "96b40e2f-f026-4222-b1c6-f1e0bec691d1"
      },
      "source": [
        "pokeframe.loc[\"E\", :] = [\"Dragonir\", \"Dragoran\", 170, \"yes\", \"dragon\"]\n",
        "pokeframe"
      ],
      "execution_count": 212,
      "outputs": [
        {
          "output_type": "execute_result",
          "data": {
            "text/html": [
              "<div>\n",
              "<style scoped>\n",
              "    .dataframe tbody tr th:only-of-type {\n",
              "        vertical-align: middle;\n",
              "    }\n",
              "\n",
              "    .dataframe tbody tr th {\n",
              "        vertical-align: top;\n",
              "    }\n",
              "\n",
              "    .dataframe thead th {\n",
              "        text-align: right;\n",
              "    }\n",
              "</style>\n",
              "<table border=\"1\" class=\"dataframe\">\n",
              "  <thead>\n",
              "    <tr style=\"text-align: right;\">\n",
              "      <th></th>\n",
              "      <th>name</th>\n",
              "      <th>evolution</th>\n",
              "      <th>hp</th>\n",
              "      <th>pokedex</th>\n",
              "      <th>type</th>\n",
              "    </tr>\n",
              "  </thead>\n",
              "  <tbody>\n",
              "    <tr>\n",
              "      <th>A</th>\n",
              "      <td>Bulbasaur</td>\n",
              "      <td>Ivysaur</td>\n",
              "      <td>45.0</td>\n",
              "      <td>Yes</td>\n",
              "      <td>Grass</td>\n",
              "    </tr>\n",
              "    <tr>\n",
              "      <th>B</th>\n",
              "      <td>Charmander</td>\n",
              "      <td>Charmeleon</td>\n",
              "      <td>39.0</td>\n",
              "      <td>No</td>\n",
              "      <td>Fire</td>\n",
              "    </tr>\n",
              "    <tr>\n",
              "      <th>C</th>\n",
              "      <td>Squirtle</td>\n",
              "      <td>Wartortle</td>\n",
              "      <td>44.0</td>\n",
              "      <td>Yes</td>\n",
              "      <td>Water</td>\n",
              "    </tr>\n",
              "    <tr>\n",
              "      <th>D</th>\n",
              "      <td>Carterpie</td>\n",
              "      <td>Metapod</td>\n",
              "      <td>45.0</td>\n",
              "      <td>No</td>\n",
              "      <td>Bug</td>\n",
              "    </tr>\n",
              "    <tr>\n",
              "      <th>E</th>\n",
              "      <td>Dragonir</td>\n",
              "      <td>Dragoran</td>\n",
              "      <td>170.0</td>\n",
              "      <td>yes</td>\n",
              "      <td>dragon</td>\n",
              "    </tr>\n",
              "  </tbody>\n",
              "</table>\n",
              "</div>"
            ],
            "text/plain": [
              "         name   evolution     hp pokedex    type\n",
              "A   Bulbasaur     Ivysaur   45.0     Yes   Grass\n",
              "B  Charmander  Charmeleon   39.0      No    Fire\n",
              "C    Squirtle   Wartortle   44.0     Yes   Water\n",
              "D   Carterpie     Metapod   45.0      No     Bug\n",
              "E    Dragonir    Dragoran  170.0     yes  dragon"
            ]
          },
          "metadata": {
            "tags": []
          },
          "execution_count": 212
        }
      ]
    },
    {
      "cell_type": "code",
      "metadata": {
        "id": "kKVX3UPdzEGT",
        "colab_type": "code",
        "colab": {
          "base_uri": "https://localhost:8080/",
          "height": 197
        },
        "outputId": "7a4356bd-8011-4070-a9a5-5e6834f70182"
      },
      "source": [
        "#pokeframe[\"hp\"].astype(int)\n",
        "pokeframe.loc[:,\"hp45\"] = np.array(pokeframe[\"hp\"]*0.45)\n",
        "pokeframe"
      ],
      "execution_count": 213,
      "outputs": [
        {
          "output_type": "execute_result",
          "data": {
            "text/html": [
              "<div>\n",
              "<style scoped>\n",
              "    .dataframe tbody tr th:only-of-type {\n",
              "        vertical-align: middle;\n",
              "    }\n",
              "\n",
              "    .dataframe tbody tr th {\n",
              "        vertical-align: top;\n",
              "    }\n",
              "\n",
              "    .dataframe thead th {\n",
              "        text-align: right;\n",
              "    }\n",
              "</style>\n",
              "<table border=\"1\" class=\"dataframe\">\n",
              "  <thead>\n",
              "    <tr style=\"text-align: right;\">\n",
              "      <th></th>\n",
              "      <th>name</th>\n",
              "      <th>evolution</th>\n",
              "      <th>hp</th>\n",
              "      <th>pokedex</th>\n",
              "      <th>type</th>\n",
              "      <th>hp45</th>\n",
              "    </tr>\n",
              "  </thead>\n",
              "  <tbody>\n",
              "    <tr>\n",
              "      <th>A</th>\n",
              "      <td>Bulbasaur</td>\n",
              "      <td>Ivysaur</td>\n",
              "      <td>45.0</td>\n",
              "      <td>Yes</td>\n",
              "      <td>Grass</td>\n",
              "      <td>20.25</td>\n",
              "    </tr>\n",
              "    <tr>\n",
              "      <th>B</th>\n",
              "      <td>Charmander</td>\n",
              "      <td>Charmeleon</td>\n",
              "      <td>39.0</td>\n",
              "      <td>No</td>\n",
              "      <td>Fire</td>\n",
              "      <td>17.55</td>\n",
              "    </tr>\n",
              "    <tr>\n",
              "      <th>C</th>\n",
              "      <td>Squirtle</td>\n",
              "      <td>Wartortle</td>\n",
              "      <td>44.0</td>\n",
              "      <td>Yes</td>\n",
              "      <td>Water</td>\n",
              "      <td>19.80</td>\n",
              "    </tr>\n",
              "    <tr>\n",
              "      <th>D</th>\n",
              "      <td>Carterpie</td>\n",
              "      <td>Metapod</td>\n",
              "      <td>45.0</td>\n",
              "      <td>No</td>\n",
              "      <td>Bug</td>\n",
              "      <td>20.25</td>\n",
              "    </tr>\n",
              "    <tr>\n",
              "      <th>E</th>\n",
              "      <td>Dragonir</td>\n",
              "      <td>Dragoran</td>\n",
              "      <td>170.0</td>\n",
              "      <td>yes</td>\n",
              "      <td>dragon</td>\n",
              "      <td>76.50</td>\n",
              "    </tr>\n",
              "  </tbody>\n",
              "</table>\n",
              "</div>"
            ],
            "text/plain": [
              "         name   evolution     hp pokedex    type   hp45\n",
              "A   Bulbasaur     Ivysaur   45.0     Yes   Grass  20.25\n",
              "B  Charmander  Charmeleon   39.0      No    Fire  17.55\n",
              "C    Squirtle   Wartortle   44.0     Yes   Water  19.80\n",
              "D   Carterpie     Metapod   45.0      No     Bug  20.25\n",
              "E    Dragonir    Dragoran  170.0     yes  dragon  76.50"
            ]
          },
          "metadata": {
            "tags": []
          },
          "execution_count": 213
        }
      ]
    },
    {
      "cell_type": "code",
      "metadata": {
        "id": "H-aEGJkg0NTc",
        "colab_type": "code",
        "colab": {
          "base_uri": "https://localhost:8080/",
          "height": 197
        },
        "outputId": "bf6b9d9b-5031-4ca0-aa1e-d3c08568065d"
      },
      "source": [
        "# df.loc[df['column name'] condition, 'new column name'] = 'value if condition is met'\n",
        "\n",
        "pokeframe.loc[pokeframe[\"hp\"] < 40, \"hp\"] =  100 +pokeframe[\"hp\"]\n",
        "pokeframe"
      ],
      "execution_count": 214,
      "outputs": [
        {
          "output_type": "execute_result",
          "data": {
            "text/html": [
              "<div>\n",
              "<style scoped>\n",
              "    .dataframe tbody tr th:only-of-type {\n",
              "        vertical-align: middle;\n",
              "    }\n",
              "\n",
              "    .dataframe tbody tr th {\n",
              "        vertical-align: top;\n",
              "    }\n",
              "\n",
              "    .dataframe thead th {\n",
              "        text-align: right;\n",
              "    }\n",
              "</style>\n",
              "<table border=\"1\" class=\"dataframe\">\n",
              "  <thead>\n",
              "    <tr style=\"text-align: right;\">\n",
              "      <th></th>\n",
              "      <th>name</th>\n",
              "      <th>evolution</th>\n",
              "      <th>hp</th>\n",
              "      <th>pokedex</th>\n",
              "      <th>type</th>\n",
              "      <th>hp45</th>\n",
              "    </tr>\n",
              "  </thead>\n",
              "  <tbody>\n",
              "    <tr>\n",
              "      <th>A</th>\n",
              "      <td>Bulbasaur</td>\n",
              "      <td>Ivysaur</td>\n",
              "      <td>45.0</td>\n",
              "      <td>Yes</td>\n",
              "      <td>Grass</td>\n",
              "      <td>20.25</td>\n",
              "    </tr>\n",
              "    <tr>\n",
              "      <th>B</th>\n",
              "      <td>Charmander</td>\n",
              "      <td>Charmeleon</td>\n",
              "      <td>139.0</td>\n",
              "      <td>No</td>\n",
              "      <td>Fire</td>\n",
              "      <td>17.55</td>\n",
              "    </tr>\n",
              "    <tr>\n",
              "      <th>C</th>\n",
              "      <td>Squirtle</td>\n",
              "      <td>Wartortle</td>\n",
              "      <td>44.0</td>\n",
              "      <td>Yes</td>\n",
              "      <td>Water</td>\n",
              "      <td>19.80</td>\n",
              "    </tr>\n",
              "    <tr>\n",
              "      <th>D</th>\n",
              "      <td>Carterpie</td>\n",
              "      <td>Metapod</td>\n",
              "      <td>45.0</td>\n",
              "      <td>No</td>\n",
              "      <td>Bug</td>\n",
              "      <td>20.25</td>\n",
              "    </tr>\n",
              "    <tr>\n",
              "      <th>E</th>\n",
              "      <td>Dragonir</td>\n",
              "      <td>Dragoran</td>\n",
              "      <td>170.0</td>\n",
              "      <td>yes</td>\n",
              "      <td>dragon</td>\n",
              "      <td>76.50</td>\n",
              "    </tr>\n",
              "  </tbody>\n",
              "</table>\n",
              "</div>"
            ],
            "text/plain": [
              "         name   evolution     hp pokedex    type   hp45\n",
              "A   Bulbasaur     Ivysaur   45.0     Yes   Grass  20.25\n",
              "B  Charmander  Charmeleon  139.0      No    Fire  17.55\n",
              "C    Squirtle   Wartortle   44.0     Yes   Water  19.80\n",
              "D   Carterpie     Metapod   45.0      No     Bug  20.25\n",
              "E    Dragonir    Dragoran  170.0     yes  dragon  76.50"
            ]
          },
          "metadata": {
            "tags": []
          },
          "execution_count": 214
        }
      ]
    },
    {
      "cell_type": "markdown",
      "metadata": {
        "id": "LPjsfKs003CZ",
        "colab_type": "text"
      },
      "source": [
        "## Applying functions to DataFrames\n",
        "- `df.apply()` allows you to apply a grouping function to all the values in a column or a row\n",
        "- `df.apply` always returns a Series"
      ]
    },
    {
      "cell_type": "code",
      "metadata": {
        "id": "uPiZIakX8Qjc",
        "colab_type": "code",
        "colab": {
          "base_uri": "https://localhost:8080/",
          "height": 137
        },
        "outputId": "94f0dca5-ec43-4502-f423-93e3cedc9bf9"
      },
      "source": [
        "dataframe = pd.DataFrame(np.arange(1,16).reshape(3,5),\n",
        "                         index = list(\"ABC\"),\n",
        "                         columns=[\"C1\",\"C2\",\"C3\",\"C4\",\"C5\"])\n",
        "dataframe"
      ],
      "execution_count": 220,
      "outputs": [
        {
          "output_type": "execute_result",
          "data": {
            "text/html": [
              "<div>\n",
              "<style scoped>\n",
              "    .dataframe tbody tr th:only-of-type {\n",
              "        vertical-align: middle;\n",
              "    }\n",
              "\n",
              "    .dataframe tbody tr th {\n",
              "        vertical-align: top;\n",
              "    }\n",
              "\n",
              "    .dataframe thead th {\n",
              "        text-align: right;\n",
              "    }\n",
              "</style>\n",
              "<table border=\"1\" class=\"dataframe\">\n",
              "  <thead>\n",
              "    <tr style=\"text-align: right;\">\n",
              "      <th></th>\n",
              "      <th>C1</th>\n",
              "      <th>C2</th>\n",
              "      <th>C3</th>\n",
              "      <th>C4</th>\n",
              "      <th>C5</th>\n",
              "    </tr>\n",
              "  </thead>\n",
              "  <tbody>\n",
              "    <tr>\n",
              "      <th>A</th>\n",
              "      <td>1</td>\n",
              "      <td>2</td>\n",
              "      <td>3</td>\n",
              "      <td>4</td>\n",
              "      <td>5</td>\n",
              "    </tr>\n",
              "    <tr>\n",
              "      <th>B</th>\n",
              "      <td>6</td>\n",
              "      <td>7</td>\n",
              "      <td>8</td>\n",
              "      <td>9</td>\n",
              "      <td>10</td>\n",
              "    </tr>\n",
              "    <tr>\n",
              "      <th>C</th>\n",
              "      <td>11</td>\n",
              "      <td>12</td>\n",
              "      <td>13</td>\n",
              "      <td>14</td>\n",
              "      <td>15</td>\n",
              "    </tr>\n",
              "  </tbody>\n",
              "</table>\n",
              "</div>"
            ],
            "text/plain": [
              "   C1  C2  C3  C4  C5\n",
              "A   1   2   3   4   5\n",
              "B   6   7   8   9  10\n",
              "C  11  12  13  14  15"
            ]
          },
          "metadata": {
            "tags": []
          },
          "execution_count": 220
        }
      ]
    },
    {
      "cell_type": "code",
      "metadata": {
        "id": "7gdsvYW38Ecb",
        "colab_type": "code",
        "colab": {
          "base_uri": "https://localhost:8080/",
          "height": 85
        },
        "outputId": "ba59d5a9-1bc1-4ba0-b1c5-c6be3da4dee0"
      },
      "source": [
        "dataframe.apply(lambda row: row.sum(), axis =1 )\n"
      ],
      "execution_count": 222,
      "outputs": [
        {
          "output_type": "execute_result",
          "data": {
            "text/plain": [
              "A    15\n",
              "B    40\n",
              "C    65\n",
              "dtype: int64"
            ]
          },
          "metadata": {
            "tags": []
          },
          "execution_count": 222
        }
      ]
    },
    {
      "cell_type": "code",
      "metadata": {
        "id": "fBIBBXid8Kte",
        "colab_type": "code",
        "colab": {
          "base_uri": "https://localhost:8080/",
          "height": 85
        },
        "outputId": "213f1d22-ab6b-47b0-875a-352f8b3bcf66"
      },
      "source": [
        "dataframe.apply(lambda row: row.C1, axis =1 )"
      ],
      "execution_count": 223,
      "outputs": [
        {
          "output_type": "execute_result",
          "data": {
            "text/plain": [
              "A     1\n",
              "B     6\n",
              "C    11\n",
              "dtype: int64"
            ]
          },
          "metadata": {
            "tags": []
          },
          "execution_count": 223
        }
      ]
    },
    {
      "cell_type": "markdown",
      "metadata": {
        "id": "EY2mjaqk8sVX",
        "colab_type": "text"
      },
      "source": [
        "We can select values from specific columns or rows "
      ]
    },
    {
      "cell_type": "code",
      "metadata": {
        "id": "C4JtKIJK841_",
        "colab_type": "code",
        "colab": {
          "base_uri": "https://localhost:8080/",
          "height": 85
        },
        "outputId": "c982cf27-0a6b-4950-dd54-80ae60cfbe54"
      },
      "source": [
        "dataframe.apply(lambda column : column.mean(), axis=1)"
      ],
      "execution_count": 225,
      "outputs": [
        {
          "output_type": "execute_result",
          "data": {
            "text/plain": [
              "A     3.0\n",
              "B     8.0\n",
              "C    13.0\n",
              "dtype: float64"
            ]
          },
          "metadata": {
            "tags": []
          },
          "execution_count": 225
        }
      ]
    },
    {
      "cell_type": "code",
      "metadata": {
        "id": "VH_wj_qb88zW",
        "colab_type": "code",
        "colab": {
          "base_uri": "https://localhost:8080/",
          "height": 119
        },
        "outputId": "326c60ff-bbe5-4ca4-ed49-dbc9312af3b1"
      },
      "source": [
        "dataframe.apply(lambda column: column.A * column.C, axis=0)"
      ],
      "execution_count": 226,
      "outputs": [
        {
          "output_type": "execute_result",
          "data": {
            "text/plain": [
              "C1    11\n",
              "C2    24\n",
              "C3    39\n",
              "C4    56\n",
              "C5    75\n",
              "dtype: int64"
            ]
          },
          "metadata": {
            "tags": []
          },
          "execution_count": 226
        }
      ]
    },
    {
      "cell_type": "markdown",
      "metadata": {
        "id": "UwR_T_TQ9D_j",
        "colab_type": "text"
      },
      "source": [
        "We can use any **NumPy function** as a **grouping function**"
      ]
    },
    {
      "cell_type": "code",
      "metadata": {
        "id": "KT6B68u79RS6",
        "colab_type": "code",
        "colab": {
          "base_uri": "https://localhost:8080/",
          "height": 137
        },
        "outputId": "520cdb1d-5e1b-41e3-ff2a-f773a1965af9"
      },
      "source": [
        "dataframe"
      ],
      "execution_count": 227,
      "outputs": [
        {
          "output_type": "execute_result",
          "data": {
            "text/html": [
              "<div>\n",
              "<style scoped>\n",
              "    .dataframe tbody tr th:only-of-type {\n",
              "        vertical-align: middle;\n",
              "    }\n",
              "\n",
              "    .dataframe tbody tr th {\n",
              "        vertical-align: top;\n",
              "    }\n",
              "\n",
              "    .dataframe thead th {\n",
              "        text-align: right;\n",
              "    }\n",
              "</style>\n",
              "<table border=\"1\" class=\"dataframe\">\n",
              "  <thead>\n",
              "    <tr style=\"text-align: right;\">\n",
              "      <th></th>\n",
              "      <th>C1</th>\n",
              "      <th>C2</th>\n",
              "      <th>C3</th>\n",
              "      <th>C4</th>\n",
              "      <th>C5</th>\n",
              "    </tr>\n",
              "  </thead>\n",
              "  <tbody>\n",
              "    <tr>\n",
              "      <th>A</th>\n",
              "      <td>1</td>\n",
              "      <td>2</td>\n",
              "      <td>3</td>\n",
              "      <td>4</td>\n",
              "      <td>5</td>\n",
              "    </tr>\n",
              "    <tr>\n",
              "      <th>B</th>\n",
              "      <td>6</td>\n",
              "      <td>7</td>\n",
              "      <td>8</td>\n",
              "      <td>9</td>\n",
              "      <td>10</td>\n",
              "    </tr>\n",
              "    <tr>\n",
              "      <th>C</th>\n",
              "      <td>11</td>\n",
              "      <td>12</td>\n",
              "      <td>13</td>\n",
              "      <td>14</td>\n",
              "      <td>15</td>\n",
              "    </tr>\n",
              "  </tbody>\n",
              "</table>\n",
              "</div>"
            ],
            "text/plain": [
              "   C1  C2  C3  C4  C5\n",
              "A   1   2   3   4   5\n",
              "B   6   7   8   9  10\n",
              "C  11  12  13  14  15"
            ]
          },
          "metadata": {
            "tags": []
          },
          "execution_count": 227
        }
      ]
    },
    {
      "cell_type": "code",
      "metadata": {
        "id": "nWJDGzRM9TGZ",
        "colab_type": "code",
        "colab": {
          "base_uri": "https://localhost:8080/",
          "height": 85
        },
        "outputId": "51f7a95e-e766-4e5b-8540-46b1b04e843f"
      },
      "source": [
        "dataframe.apply(np.mean, axis =1)"
      ],
      "execution_count": 228,
      "outputs": [
        {
          "output_type": "execute_result",
          "data": {
            "text/plain": [
              "A     3.0\n",
              "B     8.0\n",
              "C    13.0\n",
              "dtype: float64"
            ]
          },
          "metadata": {
            "tags": []
          },
          "execution_count": 228
        }
      ]
    },
    {
      "cell_type": "code",
      "metadata": {
        "id": "0hjEkVSD9VKD",
        "colab_type": "code",
        "colab": {
          "base_uri": "https://localhost:8080/",
          "height": 119
        },
        "outputId": "04055569-876c-48fa-98df-6268c5d565a7"
      },
      "source": [
        "dataframe.apply(np.max, axis =0)"
      ],
      "execution_count": 229,
      "outputs": [
        {
          "output_type": "execute_result",
          "data": {
            "text/plain": [
              "C1    11\n",
              "C2    12\n",
              "C3    13\n",
              "C4    14\n",
              "C5    15\n",
              "dtype: int64"
            ]
          },
          "metadata": {
            "tags": []
          },
          "execution_count": 229
        }
      ]
    },
    {
      "cell_type": "markdown",
      "metadata": {
        "id": "8D-9br9R9Yxv",
        "colab_type": "text"
      },
      "source": [
        "As `.apply` always returns a seires it's easy to assign the result to a new column"
      ]
    },
    {
      "cell_type": "code",
      "metadata": {
        "id": "-4OTh0F49ltG",
        "colab_type": "code",
        "colab": {
          "base_uri": "https://localhost:8080/",
          "height": 85
        },
        "outputId": "ff6b3993-d976-40ef-efae-0c5dbdcee1e8"
      },
      "source": [
        "serie = dataframe.apply(lambda row: max(row)-min(row), axis =1)\n",
        "serie"
      ],
      "execution_count": 230,
      "outputs": [
        {
          "output_type": "execute_result",
          "data": {
            "text/plain": [
              "A    4\n",
              "B    4\n",
              "C    4\n",
              "dtype: int64"
            ]
          },
          "metadata": {
            "tags": []
          },
          "execution_count": 230
        }
      ]
    },
    {
      "cell_type": "code",
      "metadata": {
        "id": "zV6vmIrq-AQz",
        "colab_type": "code",
        "colab": {
          "base_uri": "https://localhost:8080/",
          "height": 137
        },
        "outputId": "eb08f7a8-92e4-463f-9575-546926d14a11"
      },
      "source": [
        "dataframe[\"range\"] = dataframe.apply(lambda row : max(row)-min(row), axis =1)\n",
        "dataframe"
      ],
      "execution_count": 231,
      "outputs": [
        {
          "output_type": "execute_result",
          "data": {
            "text/html": [
              "<div>\n",
              "<style scoped>\n",
              "    .dataframe tbody tr th:only-of-type {\n",
              "        vertical-align: middle;\n",
              "    }\n",
              "\n",
              "    .dataframe tbody tr th {\n",
              "        vertical-align: top;\n",
              "    }\n",
              "\n",
              "    .dataframe thead th {\n",
              "        text-align: right;\n",
              "    }\n",
              "</style>\n",
              "<table border=\"1\" class=\"dataframe\">\n",
              "  <thead>\n",
              "    <tr style=\"text-align: right;\">\n",
              "      <th></th>\n",
              "      <th>C1</th>\n",
              "      <th>C2</th>\n",
              "      <th>C3</th>\n",
              "      <th>C4</th>\n",
              "      <th>C5</th>\n",
              "      <th>range</th>\n",
              "    </tr>\n",
              "  </thead>\n",
              "  <tbody>\n",
              "    <tr>\n",
              "      <th>A</th>\n",
              "      <td>1</td>\n",
              "      <td>2</td>\n",
              "      <td>3</td>\n",
              "      <td>4</td>\n",
              "      <td>5</td>\n",
              "      <td>4</td>\n",
              "    </tr>\n",
              "    <tr>\n",
              "      <th>B</th>\n",
              "      <td>6</td>\n",
              "      <td>7</td>\n",
              "      <td>8</td>\n",
              "      <td>9</td>\n",
              "      <td>10</td>\n",
              "      <td>4</td>\n",
              "    </tr>\n",
              "    <tr>\n",
              "      <th>C</th>\n",
              "      <td>11</td>\n",
              "      <td>12</td>\n",
              "      <td>13</td>\n",
              "      <td>14</td>\n",
              "      <td>15</td>\n",
              "      <td>4</td>\n",
              "    </tr>\n",
              "  </tbody>\n",
              "</table>\n",
              "</div>"
            ],
            "text/plain": [
              "   C1  C2  C3  C4  C5  range\n",
              "A   1   2   3   4   5      4\n",
              "B   6   7   8   9  10      4\n",
              "C  11  12  13  14  15      4"
            ]
          },
          "metadata": {
            "tags": []
          },
          "execution_count": 231
        }
      ]
    },
    {
      "cell_type": "markdown",
      "metadata": {
        "id": "5T2pxrY4-HV6",
        "colab_type": "text"
      },
      "source": [
        "We can execute `.apply`on a specific column instead of the entire row"
      ]
    },
    {
      "cell_type": "code",
      "metadata": {
        "id": "Dm4n8R93-Q93",
        "colab_type": "code",
        "colab": {
          "base_uri": "https://localhost:8080/",
          "height": 137
        },
        "outputId": "75a5b999-5a92-40f9-9f5b-2dbf30efbc7d"
      },
      "source": [
        "dataframe[\"range_str\"] = dataframe.range.apply(lambda value:\"Range \" + str(value))\n",
        "dataframe"
      ],
      "execution_count": 232,
      "outputs": [
        {
          "output_type": "execute_result",
          "data": {
            "text/html": [
              "<div>\n",
              "<style scoped>\n",
              "    .dataframe tbody tr th:only-of-type {\n",
              "        vertical-align: middle;\n",
              "    }\n",
              "\n",
              "    .dataframe tbody tr th {\n",
              "        vertical-align: top;\n",
              "    }\n",
              "\n",
              "    .dataframe thead th {\n",
              "        text-align: right;\n",
              "    }\n",
              "</style>\n",
              "<table border=\"1\" class=\"dataframe\">\n",
              "  <thead>\n",
              "    <tr style=\"text-align: right;\">\n",
              "      <th></th>\n",
              "      <th>C1</th>\n",
              "      <th>C2</th>\n",
              "      <th>C3</th>\n",
              "      <th>C4</th>\n",
              "      <th>C5</th>\n",
              "      <th>range</th>\n",
              "      <th>range_str</th>\n",
              "    </tr>\n",
              "  </thead>\n",
              "  <tbody>\n",
              "    <tr>\n",
              "      <th>A</th>\n",
              "      <td>1</td>\n",
              "      <td>2</td>\n",
              "      <td>3</td>\n",
              "      <td>4</td>\n",
              "      <td>5</td>\n",
              "      <td>4</td>\n",
              "      <td>Range 4</td>\n",
              "    </tr>\n",
              "    <tr>\n",
              "      <th>B</th>\n",
              "      <td>6</td>\n",
              "      <td>7</td>\n",
              "      <td>8</td>\n",
              "      <td>9</td>\n",
              "      <td>10</td>\n",
              "      <td>4</td>\n",
              "      <td>Range 4</td>\n",
              "    </tr>\n",
              "    <tr>\n",
              "      <th>C</th>\n",
              "      <td>11</td>\n",
              "      <td>12</td>\n",
              "      <td>13</td>\n",
              "      <td>14</td>\n",
              "      <td>15</td>\n",
              "      <td>4</td>\n",
              "      <td>Range 4</td>\n",
              "    </tr>\n",
              "  </tbody>\n",
              "</table>\n",
              "</div>"
            ],
            "text/plain": [
              "   C1  C2  C3  C4  C5  range range_str\n",
              "A   1   2   3   4   5      4   Range 4\n",
              "B   6   7   8   9  10      4   Range 4\n",
              "C  11  12  13  14  15      4   Range 4"
            ]
          },
          "metadata": {
            "tags": []
          },
          "execution_count": 232
        }
      ]
    },
    {
      "cell_type": "markdown",
      "metadata": {
        "id": "5c2Mo--w-Yhv",
        "colab_type": "text"
      },
      "source": [
        "The `.apply()` function not only accepts **lambda** functions as input, but also predefined function. "
      ]
    },
    {
      "cell_type": "code",
      "metadata": {
        "id": "SW_aFNpV-j9w",
        "colab_type": "code",
        "colab": {
          "base_uri": "https://localhost:8080/",
          "height": 85
        },
        "outputId": "6c5deea7-d68d-4f5a-e226-6bfdba781704"
      },
      "source": [
        "def multiply_by(value, num):\n",
        "  return value **num\n",
        "\n",
        "dataframe.C1.apply(multiply_by, num=3)"
      ],
      "execution_count": 235,
      "outputs": [
        {
          "output_type": "execute_result",
          "data": {
            "text/plain": [
              "A       1\n",
              "B     216\n",
              "C    1331\n",
              "Name: C1, dtype: int64"
            ]
          },
          "metadata": {
            "tags": []
          },
          "execution_count": 235
        }
      ]
    },
    {
      "cell_type": "markdown",
      "metadata": {
        "id": "yMoAI8t9-veX",
        "colab_type": "text"
      },
      "source": [
        "- `series.map()` allows to apply a function to each of the values of a series\n",
        "- It is equivalent to the apply() function on a column, except thatyou cannot specify the params\n",
        "- `series.map()` always returns a serie"
      ]
    },
    {
      "cell_type": "code",
      "metadata": {
        "id": "heRK9WJX_i57",
        "colab_type": "code",
        "colab": {
          "base_uri": "https://localhost:8080/",
          "height": 85
        },
        "outputId": "76953a92-dc08-49ed-a748-3e3edb3ace75"
      },
      "source": [
        "dataframe.C1.map(lambda value:value*4)"
      ],
      "execution_count": 236,
      "outputs": [
        {
          "output_type": "execute_result",
          "data": {
            "text/plain": [
              "A     4\n",
              "B    24\n",
              "C    44\n",
              "Name: C1, dtype: int64"
            ]
          },
          "metadata": {
            "tags": []
          },
          "execution_count": 236
        }
      ]
    },
    {
      "cell_type": "code",
      "metadata": {
        "id": "7ABIofla_yjG",
        "colab_type": "code",
        "colab": {
          "base_uri": "https://localhost:8080/",
          "height": 85
        },
        "outputId": "ff3e25a0-2b45-43a2-bd35-7e8761a47209"
      },
      "source": [
        "dataframe.C1.map(str)"
      ],
      "execution_count": 237,
      "outputs": [
        {
          "output_type": "execute_result",
          "data": {
            "text/plain": [
              "A     1\n",
              "B     6\n",
              "C    11\n",
              "Name: C1, dtype: object"
            ]
          },
          "metadata": {
            "tags": []
          },
          "execution_count": 237
        }
      ]
    },
    {
      "cell_type": "code",
      "metadata": {
        "id": "_Lzi7sE4_0i3",
        "colab_type": "code",
        "colab": {
          "base_uri": "https://localhost:8080/",
          "height": 85
        },
        "outputId": "9b150f58-c2c6-459f-e2a6-ae3e93fbd3a3"
      },
      "source": [
        "dataframe.C1.map(lambda value: \"%04d\" %value)"
      ],
      "execution_count": 238,
      "outputs": [
        {
          "output_type": "execute_result",
          "data": {
            "text/plain": [
              "A    0001\n",
              "B    0006\n",
              "C    0011\n",
              "Name: C1, dtype: object"
            ]
          },
          "metadata": {
            "tags": []
          },
          "execution_count": 238
        }
      ]
    },
    {
      "cell_type": "markdown",
      "metadata": {
        "id": "A1EriiTi_8Sr",
        "colab_type": "text"
      },
      "source": [
        "`df.applymap()` allows you to apply a function to each of the values in a DataFrame "
      ]
    },
    {
      "cell_type": "code",
      "metadata": {
        "id": "JqHQBugyAXXm",
        "colab_type": "code",
        "colab": {
          "base_uri": "https://localhost:8080/",
          "height": 137
        },
        "outputId": "128ac0eb-2e53-4d04-efa8-6f3ca37c8986"
      },
      "source": [
        "dataframe = pd.DataFrame(np.arange(1,16).reshape(3,5),\n",
        "                         index = list(\"ABC\"),\n",
        "                         columns=[\"C1\",\"C2\",\"C3\",\"C4\",\"C5\"])\n",
        "dataframe"
      ],
      "execution_count": 241,
      "outputs": [
        {
          "output_type": "execute_result",
          "data": {
            "text/html": [
              "<div>\n",
              "<style scoped>\n",
              "    .dataframe tbody tr th:only-of-type {\n",
              "        vertical-align: middle;\n",
              "    }\n",
              "\n",
              "    .dataframe tbody tr th {\n",
              "        vertical-align: top;\n",
              "    }\n",
              "\n",
              "    .dataframe thead th {\n",
              "        text-align: right;\n",
              "    }\n",
              "</style>\n",
              "<table border=\"1\" class=\"dataframe\">\n",
              "  <thead>\n",
              "    <tr style=\"text-align: right;\">\n",
              "      <th></th>\n",
              "      <th>C1</th>\n",
              "      <th>C2</th>\n",
              "      <th>C3</th>\n",
              "      <th>C4</th>\n",
              "      <th>C5</th>\n",
              "    </tr>\n",
              "  </thead>\n",
              "  <tbody>\n",
              "    <tr>\n",
              "      <th>A</th>\n",
              "      <td>1</td>\n",
              "      <td>2</td>\n",
              "      <td>3</td>\n",
              "      <td>4</td>\n",
              "      <td>5</td>\n",
              "    </tr>\n",
              "    <tr>\n",
              "      <th>B</th>\n",
              "      <td>6</td>\n",
              "      <td>7</td>\n",
              "      <td>8</td>\n",
              "      <td>9</td>\n",
              "      <td>10</td>\n",
              "    </tr>\n",
              "    <tr>\n",
              "      <th>C</th>\n",
              "      <td>11</td>\n",
              "      <td>12</td>\n",
              "      <td>13</td>\n",
              "      <td>14</td>\n",
              "      <td>15</td>\n",
              "    </tr>\n",
              "  </tbody>\n",
              "</table>\n",
              "</div>"
            ],
            "text/plain": [
              "   C1  C2  C3  C4  C5\n",
              "A   1   2   3   4   5\n",
              "B   6   7   8   9  10\n",
              "C  11  12  13  14  15"
            ]
          },
          "metadata": {
            "tags": []
          },
          "execution_count": 241
        }
      ]
    },
    {
      "cell_type": "code",
      "metadata": {
        "id": "z4ys92iFAHZt",
        "colab_type": "code",
        "colab": {
          "base_uri": "https://localhost:8080/",
          "height": 137
        },
        "outputId": "14ea717d-76b2-403a-a0b0-18936aeb923f"
      },
      "source": [
        "dataframe.applymap(lambda value : value+1)"
      ],
      "execution_count": 242,
      "outputs": [
        {
          "output_type": "execute_result",
          "data": {
            "text/html": [
              "<div>\n",
              "<style scoped>\n",
              "    .dataframe tbody tr th:only-of-type {\n",
              "        vertical-align: middle;\n",
              "    }\n",
              "\n",
              "    .dataframe tbody tr th {\n",
              "        vertical-align: top;\n",
              "    }\n",
              "\n",
              "    .dataframe thead th {\n",
              "        text-align: right;\n",
              "    }\n",
              "</style>\n",
              "<table border=\"1\" class=\"dataframe\">\n",
              "  <thead>\n",
              "    <tr style=\"text-align: right;\">\n",
              "      <th></th>\n",
              "      <th>C1</th>\n",
              "      <th>C2</th>\n",
              "      <th>C3</th>\n",
              "      <th>C4</th>\n",
              "      <th>C5</th>\n",
              "    </tr>\n",
              "  </thead>\n",
              "  <tbody>\n",
              "    <tr>\n",
              "      <th>A</th>\n",
              "      <td>2</td>\n",
              "      <td>3</td>\n",
              "      <td>4</td>\n",
              "      <td>5</td>\n",
              "      <td>6</td>\n",
              "    </tr>\n",
              "    <tr>\n",
              "      <th>B</th>\n",
              "      <td>7</td>\n",
              "      <td>8</td>\n",
              "      <td>9</td>\n",
              "      <td>10</td>\n",
              "      <td>11</td>\n",
              "    </tr>\n",
              "    <tr>\n",
              "      <th>C</th>\n",
              "      <td>12</td>\n",
              "      <td>13</td>\n",
              "      <td>14</td>\n",
              "      <td>15</td>\n",
              "      <td>16</td>\n",
              "    </tr>\n",
              "  </tbody>\n",
              "</table>\n",
              "</div>"
            ],
            "text/plain": [
              "   C1  C2  C3  C4  C5\n",
              "A   2   3   4   5   6\n",
              "B   7   8   9  10  11\n",
              "C  12  13  14  15  16"
            ]
          },
          "metadata": {
            "tags": []
          },
          "execution_count": 242
        }
      ]
    },
    {
      "cell_type": "code",
      "metadata": {
        "id": "4Tx7-Et0AYRw",
        "colab_type": "code",
        "colab": {
          "base_uri": "https://localhost:8080/",
          "height": 137
        },
        "outputId": "8732f792-11f2-4e35-fb4b-4d4807a1c47a"
      },
      "source": [
        "dataframe.applymap(lambda value:value if value%2 == 0 else value*-1)"
      ],
      "execution_count": 243,
      "outputs": [
        {
          "output_type": "execute_result",
          "data": {
            "text/html": [
              "<div>\n",
              "<style scoped>\n",
              "    .dataframe tbody tr th:only-of-type {\n",
              "        vertical-align: middle;\n",
              "    }\n",
              "\n",
              "    .dataframe tbody tr th {\n",
              "        vertical-align: top;\n",
              "    }\n",
              "\n",
              "    .dataframe thead th {\n",
              "        text-align: right;\n",
              "    }\n",
              "</style>\n",
              "<table border=\"1\" class=\"dataframe\">\n",
              "  <thead>\n",
              "    <tr style=\"text-align: right;\">\n",
              "      <th></th>\n",
              "      <th>C1</th>\n",
              "      <th>C2</th>\n",
              "      <th>C3</th>\n",
              "      <th>C4</th>\n",
              "      <th>C5</th>\n",
              "    </tr>\n",
              "  </thead>\n",
              "  <tbody>\n",
              "    <tr>\n",
              "      <th>A</th>\n",
              "      <td>-1</td>\n",
              "      <td>2</td>\n",
              "      <td>-3</td>\n",
              "      <td>4</td>\n",
              "      <td>-5</td>\n",
              "    </tr>\n",
              "    <tr>\n",
              "      <th>B</th>\n",
              "      <td>6</td>\n",
              "      <td>-7</td>\n",
              "      <td>8</td>\n",
              "      <td>-9</td>\n",
              "      <td>10</td>\n",
              "    </tr>\n",
              "    <tr>\n",
              "      <th>C</th>\n",
              "      <td>-11</td>\n",
              "      <td>12</td>\n",
              "      <td>-13</td>\n",
              "      <td>14</td>\n",
              "      <td>-15</td>\n",
              "    </tr>\n",
              "  </tbody>\n",
              "</table>\n",
              "</div>"
            ],
            "text/plain": [
              "   C1  C2  C3  C4  C5\n",
              "A  -1   2  -3   4  -5\n",
              "B   6  -7   8  -9  10\n",
              "C -11  12 -13  14 -15"
            ]
          },
          "metadata": {
            "tags": []
          },
          "execution_count": 243
        }
      ]
    },
    {
      "cell_type": "markdown",
      "metadata": {
        "id": "1Cmy3hsDAfof",
        "colab_type": "text"
      },
      "source": [
        "## Descriptive statistics with DataFrames\n",
        "Pandas provides a number of functions that allow you to statistically describe the data"
      ]
    },
    {
      "cell_type": "code",
      "metadata": {
        "id": "GpsSV4WoAm7l",
        "colab_type": "code",
        "colab": {
          "base_uri": "https://localhost:8080/",
          "height": 197
        },
        "outputId": "79c64b70-9f65-4924-8723-e73e1c53159d"
      },
      "source": [
        "np.random.seed(10)\n",
        "dataframe = pd.DataFrame(np.random.normal(10,100,(5,6)),\n",
        "                         columns=list(\"ABCDEF\"))\n",
        "dataframe"
      ],
      "execution_count": 244,
      "outputs": [
        {
          "output_type": "execute_result",
          "data": {
            "text/html": [
              "<div>\n",
              "<style scoped>\n",
              "    .dataframe tbody tr th:only-of-type {\n",
              "        vertical-align: middle;\n",
              "    }\n",
              "\n",
              "    .dataframe tbody tr th {\n",
              "        vertical-align: top;\n",
              "    }\n",
              "\n",
              "    .dataframe thead th {\n",
              "        text-align: right;\n",
              "    }\n",
              "</style>\n",
              "<table border=\"1\" class=\"dataframe\">\n",
              "  <thead>\n",
              "    <tr style=\"text-align: right;\">\n",
              "      <th></th>\n",
              "      <th>A</th>\n",
              "      <th>B</th>\n",
              "      <th>C</th>\n",
              "      <th>D</th>\n",
              "      <th>E</th>\n",
              "      <th>F</th>\n",
              "    </tr>\n",
              "  </thead>\n",
              "  <tbody>\n",
              "    <tr>\n",
              "      <th>0</th>\n",
              "      <td>143.158650</td>\n",
              "      <td>81.527897</td>\n",
              "      <td>-144.540029</td>\n",
              "      <td>9.161615</td>\n",
              "      <td>72.133597</td>\n",
              "      <td>-62.008556</td>\n",
              "    </tr>\n",
              "    <tr>\n",
              "      <th>1</th>\n",
              "      <td>36.551159</td>\n",
              "      <td>20.854853</td>\n",
              "      <td>10.429143</td>\n",
              "      <td>-7.460021</td>\n",
              "      <td>53.302619</td>\n",
              "      <td>130.303737</td>\n",
              "    </tr>\n",
              "    <tr>\n",
              "      <th>2</th>\n",
              "      <td>-86.506567</td>\n",
              "      <td>112.827408</td>\n",
              "      <td>32.863013</td>\n",
              "      <td>54.513761</td>\n",
              "      <td>-103.660221</td>\n",
              "      <td>23.513688</td>\n",
              "    </tr>\n",
              "    <tr>\n",
              "      <th>3</th>\n",
              "      <td>158.453700</td>\n",
              "      <td>-97.980489</td>\n",
              "      <td>-187.772828</td>\n",
              "      <td>-164.337230</td>\n",
              "      <td>36.607016</td>\n",
              "      <td>248.496733</td>\n",
              "    </tr>\n",
              "    <tr>\n",
              "      <th>4</th>\n",
              "      <td>122.369125</td>\n",
              "      <td>177.262221</td>\n",
              "      <td>19.914922</td>\n",
              "      <td>149.799638</td>\n",
              "      <td>-17.124799</td>\n",
              "      <td>71.320418</td>\n",
              "    </tr>\n",
              "  </tbody>\n",
              "</table>\n",
              "</div>"
            ],
            "text/plain": [
              "            A           B           C           D           E           F\n",
              "0  143.158650   81.527897 -144.540029    9.161615   72.133597  -62.008556\n",
              "1   36.551159   20.854853   10.429143   -7.460021   53.302619  130.303737\n",
              "2  -86.506567  112.827408   32.863013   54.513761 -103.660221   23.513688\n",
              "3  158.453700  -97.980489 -187.772828 -164.337230   36.607016  248.496733\n",
              "4  122.369125  177.262221   19.914922  149.799638  -17.124799   71.320418"
            ]
          },
          "metadata": {
            "tags": []
          },
          "execution_count": 244
        }
      ]
    },
    {
      "cell_type": "code",
      "metadata": {
        "id": "VPuGFnZVA2Bn",
        "colab_type": "code",
        "colab": {
          "base_uri": "https://localhost:8080/",
          "height": 136
        },
        "outputId": "3d6dcc2f-2efc-4232-e72a-bd4c6dbb90d8"
      },
      "source": [
        "dataframe.max(axis=0)"
      ],
      "execution_count": 245,
      "outputs": [
        {
          "output_type": "execute_result",
          "data": {
            "text/plain": [
              "A    158.453700\n",
              "B    177.262221\n",
              "C     32.863013\n",
              "D    149.799638\n",
              "E     72.133597\n",
              "F    248.496733\n",
              "dtype: float64"
            ]
          },
          "metadata": {
            "tags": []
          },
          "execution_count": 245
        }
      ]
    },
    {
      "cell_type": "code",
      "metadata": {
        "id": "GoZFu6rJA53i",
        "colab_type": "code",
        "colab": {
          "base_uri": "https://localhost:8080/",
          "height": 119
        },
        "outputId": "4954c145-8e49-4c78-f505-7d5f7697f97b"
      },
      "source": [
        "dataframe.max(axis=1)"
      ],
      "execution_count": 246,
      "outputs": [
        {
          "output_type": "execute_result",
          "data": {
            "text/plain": [
              "0    143.158650\n",
              "1    130.303737\n",
              "2    112.827408\n",
              "3    248.496733\n",
              "4    177.262221\n",
              "dtype: float64"
            ]
          },
          "metadata": {
            "tags": []
          },
          "execution_count": 246
        }
      ]
    },
    {
      "cell_type": "code",
      "metadata": {
        "id": "snufS7GIA9BV",
        "colab_type": "code",
        "colab": {
          "base_uri": "https://localhost:8080/",
          "height": 136
        },
        "outputId": "7d2d6668-fdd1-4be2-ff40-cdd83f1d36dc"
      },
      "source": [
        "dataframe.count()"
      ],
      "execution_count": 247,
      "outputs": [
        {
          "output_type": "execute_result",
          "data": {
            "text/plain": [
              "A    5\n",
              "B    5\n",
              "C    5\n",
              "D    5\n",
              "E    5\n",
              "F    5\n",
              "dtype: int64"
            ]
          },
          "metadata": {
            "tags": []
          },
          "execution_count": 247
        }
      ]
    },
    {
      "cell_type": "code",
      "metadata": {
        "id": "uRBhWjw5BBMW",
        "colab_type": "code",
        "colab": {
          "base_uri": "https://localhost:8080/",
          "height": 136
        },
        "outputId": "79346590-daca-46e1-9635-29087fbdc38d"
      },
      "source": [
        "dataframe.max()"
      ],
      "execution_count": 248,
      "outputs": [
        {
          "output_type": "execute_result",
          "data": {
            "text/plain": [
              "A    158.453700\n",
              "B    177.262221\n",
              "C     32.863013\n",
              "D    149.799638\n",
              "E     72.133597\n",
              "F    248.496733\n",
              "dtype: float64"
            ]
          },
          "metadata": {
            "tags": []
          },
          "execution_count": 248
        }
      ]
    },
    {
      "cell_type": "code",
      "metadata": {
        "id": "4hvXBGrMBDN9",
        "colab_type": "code",
        "colab": {
          "base_uri": "https://localhost:8080/",
          "height": 136
        },
        "outputId": "0a49fea2-9f5f-413f-d07a-6126af9ddf01"
      },
      "source": [
        "dataframe.min()"
      ],
      "execution_count": 249,
      "outputs": [
        {
          "output_type": "execute_result",
          "data": {
            "text/plain": [
              "A    -86.506567\n",
              "B    -97.980489\n",
              "C   -187.772828\n",
              "D   -164.337230\n",
              "E   -103.660221\n",
              "F    -62.008556\n",
              "dtype: float64"
            ]
          },
          "metadata": {
            "tags": []
          },
          "execution_count": 249
        }
      ]
    },
    {
      "cell_type": "code",
      "metadata": {
        "id": "cEieVs98BGkp",
        "colab_type": "code",
        "colab": {
          "base_uri": "https://localhost:8080/",
          "height": 136
        },
        "outputId": "d8fbb2c9-98e0-4a4a-b66e-9dbb19d84cbf"
      },
      "source": [
        "dataframe.sum(axis=0)"
      ],
      "execution_count": 252,
      "outputs": [
        {
          "output_type": "execute_result",
          "data": {
            "text/plain": [
              "A    374.026067\n",
              "B    294.491891\n",
              "C   -269.105780\n",
              "D     41.677763\n",
              "E     41.258213\n",
              "F    411.626021\n",
              "dtype: float64"
            ]
          },
          "metadata": {
            "tags": []
          },
          "execution_count": 252
        }
      ]
    },
    {
      "cell_type": "code",
      "metadata": {
        "id": "3xWwtwKfBHfz",
        "colab_type": "code",
        "colab": {
          "base_uri": "https://localhost:8080/",
          "height": 227
        },
        "outputId": "9c2f56a3-5b9a-4971-8095-c5aeec635cba"
      },
      "source": [
        "pd.DataFrame({\n",
        "    \"count\": dataframe.count(),\n",
        "    \"max\": dataframe.max(),\n",
        "    \"min\": dataframe.min(),\n",
        "    \"sum\": dataframe.sum(),\n",
        "    \"mean\": dataframe.mean(),\n",
        "    \"var\": dataframe.var(),\n",
        "    \"std\": dataframe.std(),\n",
        "    \"median\": dataframe.median(),\n",
        "    \"10%\": dataframe.quantile(0.1),\n",
        "    \"50%\": dataframe.quantile(0.5)\n",
        "})"
      ],
      "execution_count": 255,
      "outputs": [
        {
          "output_type": "execute_result",
          "data": {
            "text/html": [
              "<div>\n",
              "<style scoped>\n",
              "    .dataframe tbody tr th:only-of-type {\n",
              "        vertical-align: middle;\n",
              "    }\n",
              "\n",
              "    .dataframe tbody tr th {\n",
              "        vertical-align: top;\n",
              "    }\n",
              "\n",
              "    .dataframe thead th {\n",
              "        text-align: right;\n",
              "    }\n",
              "</style>\n",
              "<table border=\"1\" class=\"dataframe\">\n",
              "  <thead>\n",
              "    <tr style=\"text-align: right;\">\n",
              "      <th></th>\n",
              "      <th>count</th>\n",
              "      <th>max</th>\n",
              "      <th>min</th>\n",
              "      <th>sum</th>\n",
              "      <th>mean</th>\n",
              "      <th>var</th>\n",
              "      <th>std</th>\n",
              "      <th>median</th>\n",
              "      <th>10%</th>\n",
              "      <th>50%</th>\n",
              "    </tr>\n",
              "  </thead>\n",
              "  <tbody>\n",
              "    <tr>\n",
              "      <th>A</th>\n",
              "      <td>5</td>\n",
              "      <td>158.453700</td>\n",
              "      <td>-86.506567</td>\n",
              "      <td>374.026067</td>\n",
              "      <td>74.805213</td>\n",
              "      <td>10354.112659</td>\n",
              "      <td>101.755160</td>\n",
              "      <td>122.369125</td>\n",
              "      <td>-37.283477</td>\n",
              "      <td>122.369125</td>\n",
              "    </tr>\n",
              "    <tr>\n",
              "      <th>B</th>\n",
              "      <td>5</td>\n",
              "      <td>177.262221</td>\n",
              "      <td>-97.980489</td>\n",
              "      <td>294.491891</td>\n",
              "      <td>58.898378</td>\n",
              "      <td>10872.180855</td>\n",
              "      <td>104.269750</td>\n",
              "      <td>81.527897</td>\n",
              "      <td>-50.446352</td>\n",
              "      <td>81.527897</td>\n",
              "    </tr>\n",
              "    <tr>\n",
              "      <th>C</th>\n",
              "      <td>5</td>\n",
              "      <td>32.863013</td>\n",
              "      <td>-187.772828</td>\n",
              "      <td>-269.105780</td>\n",
              "      <td>-53.821156</td>\n",
              "      <td>10813.054909</td>\n",
              "      <td>103.985840</td>\n",
              "      <td>10.429143</td>\n",
              "      <td>-170.479709</td>\n",
              "      <td>10.429143</td>\n",
              "    </tr>\n",
              "    <tr>\n",
              "      <th>D</th>\n",
              "      <td>5</td>\n",
              "      <td>149.799638</td>\n",
              "      <td>-164.337230</td>\n",
              "      <td>41.677763</td>\n",
              "      <td>8.335553</td>\n",
              "      <td>13052.646642</td>\n",
              "      <td>114.248180</td>\n",
              "      <td>9.161615</td>\n",
              "      <td>-101.586346</td>\n",
              "      <td>9.161615</td>\n",
              "    </tr>\n",
              "    <tr>\n",
              "      <th>E</th>\n",
              "      <td>5</td>\n",
              "      <td>72.133597</td>\n",
              "      <td>-103.660221</td>\n",
              "      <td>41.258213</td>\n",
              "      <td>8.251643</td>\n",
              "      <td>5020.687720</td>\n",
              "      <td>70.856811</td>\n",
              "      <td>36.607016</td>\n",
              "      <td>-69.046052</td>\n",
              "      <td>36.607016</td>\n",
              "    </tr>\n",
              "    <tr>\n",
              "      <th>F</th>\n",
              "      <td>5</td>\n",
              "      <td>248.496733</td>\n",
              "      <td>-62.008556</td>\n",
              "      <td>411.626021</td>\n",
              "      <td>82.325204</td>\n",
              "      <td>13581.762693</td>\n",
              "      <td>116.540820</td>\n",
              "      <td>71.320418</td>\n",
              "      <td>-27.799659</td>\n",
              "      <td>71.320418</td>\n",
              "    </tr>\n",
              "  </tbody>\n",
              "</table>\n",
              "</div>"
            ],
            "text/plain": [
              "   count         max         min  ...      median         10%         50%\n",
              "A      5  158.453700  -86.506567  ...  122.369125  -37.283477  122.369125\n",
              "B      5  177.262221  -97.980489  ...   81.527897  -50.446352   81.527897\n",
              "C      5   32.863013 -187.772828  ...   10.429143 -170.479709   10.429143\n",
              "D      5  149.799638 -164.337230  ...    9.161615 -101.586346    9.161615\n",
              "E      5   72.133597 -103.660221  ...   36.607016  -69.046052   36.607016\n",
              "F      5  248.496733  -62.008556  ...   71.320418  -27.799659   71.320418\n",
              "\n",
              "[6 rows x 10 columns]"
            ]
          },
          "metadata": {
            "tags": []
          },
          "execution_count": 255
        }
      ]
    },
    {
      "cell_type": "markdown",
      "metadata": {
        "id": "WId4zfHpBnlD",
        "colab_type": "text"
      },
      "source": [
        "## Exercise 21\n",
        "- Use the pokeframe \n",
        "- Convert all dataframe values to upercase `str.upper()` and `isinstance(x,str)`\n",
        "- Create a new column with the values of the column \"name\" and \"evolution\" concatenated"
      ]
    },
    {
      "cell_type": "code",
      "metadata": {
        "id": "Ip6_KB_FCUb7",
        "colab_type": "code",
        "colab": {
          "base_uri": "https://localhost:8080/",
          "height": 197
        },
        "outputId": "482039c1-d8ba-4014-b702-4b74ba48c59f"
      },
      "source": [
        "pokeframe"
      ],
      "execution_count": 256,
      "outputs": [
        {
          "output_type": "execute_result",
          "data": {
            "text/html": [
              "<div>\n",
              "<style scoped>\n",
              "    .dataframe tbody tr th:only-of-type {\n",
              "        vertical-align: middle;\n",
              "    }\n",
              "\n",
              "    .dataframe tbody tr th {\n",
              "        vertical-align: top;\n",
              "    }\n",
              "\n",
              "    .dataframe thead th {\n",
              "        text-align: right;\n",
              "    }\n",
              "</style>\n",
              "<table border=\"1\" class=\"dataframe\">\n",
              "  <thead>\n",
              "    <tr style=\"text-align: right;\">\n",
              "      <th></th>\n",
              "      <th>name</th>\n",
              "      <th>evolution</th>\n",
              "      <th>hp</th>\n",
              "      <th>pokedex</th>\n",
              "      <th>type</th>\n",
              "      <th>hp45</th>\n",
              "    </tr>\n",
              "  </thead>\n",
              "  <tbody>\n",
              "    <tr>\n",
              "      <th>A</th>\n",
              "      <td>Bulbasaur</td>\n",
              "      <td>Ivysaur</td>\n",
              "      <td>45.0</td>\n",
              "      <td>Yes</td>\n",
              "      <td>Grass</td>\n",
              "      <td>20.25</td>\n",
              "    </tr>\n",
              "    <tr>\n",
              "      <th>B</th>\n",
              "      <td>Charmander</td>\n",
              "      <td>Charmeleon</td>\n",
              "      <td>139.0</td>\n",
              "      <td>No</td>\n",
              "      <td>Fire</td>\n",
              "      <td>17.55</td>\n",
              "    </tr>\n",
              "    <tr>\n",
              "      <th>C</th>\n",
              "      <td>Squirtle</td>\n",
              "      <td>Wartortle</td>\n",
              "      <td>44.0</td>\n",
              "      <td>Yes</td>\n",
              "      <td>Water</td>\n",
              "      <td>19.80</td>\n",
              "    </tr>\n",
              "    <tr>\n",
              "      <th>D</th>\n",
              "      <td>Carterpie</td>\n",
              "      <td>Metapod</td>\n",
              "      <td>45.0</td>\n",
              "      <td>No</td>\n",
              "      <td>Bug</td>\n",
              "      <td>20.25</td>\n",
              "    </tr>\n",
              "    <tr>\n",
              "      <th>E</th>\n",
              "      <td>Dragonir</td>\n",
              "      <td>Dragoran</td>\n",
              "      <td>170.0</td>\n",
              "      <td>yes</td>\n",
              "      <td>dragon</td>\n",
              "      <td>76.50</td>\n",
              "    </tr>\n",
              "  </tbody>\n",
              "</table>\n",
              "</div>"
            ],
            "text/plain": [
              "         name   evolution     hp pokedex    type   hp45\n",
              "A   Bulbasaur     Ivysaur   45.0     Yes   Grass  20.25\n",
              "B  Charmander  Charmeleon  139.0      No    Fire  17.55\n",
              "C    Squirtle   Wartortle   44.0     Yes   Water  19.80\n",
              "D   Carterpie     Metapod   45.0      No     Bug  20.25\n",
              "E    Dragonir    Dragoran  170.0     yes  dragon  76.50"
            ]
          },
          "metadata": {
            "tags": []
          },
          "execution_count": 256
        }
      ]
    },
    {
      "cell_type": "code",
      "metadata": {
        "id": "l0eCbzC2CVuS",
        "colab_type": "code",
        "colab": {
          "base_uri": "https://localhost:8080/",
          "height": 197
        },
        "outputId": "0795c747-054e-4c37-9d3d-71a29e98cd34"
      },
      "source": [
        "pokeframe.applymap(lambda value :value.upper() if isinstance(value,str) else value)"
      ],
      "execution_count": 263,
      "outputs": [
        {
          "output_type": "execute_result",
          "data": {
            "text/html": [
              "<div>\n",
              "<style scoped>\n",
              "    .dataframe tbody tr th:only-of-type {\n",
              "        vertical-align: middle;\n",
              "    }\n",
              "\n",
              "    .dataframe tbody tr th {\n",
              "        vertical-align: top;\n",
              "    }\n",
              "\n",
              "    .dataframe thead th {\n",
              "        text-align: right;\n",
              "    }\n",
              "</style>\n",
              "<table border=\"1\" class=\"dataframe\">\n",
              "  <thead>\n",
              "    <tr style=\"text-align: right;\">\n",
              "      <th></th>\n",
              "      <th>name</th>\n",
              "      <th>evolution</th>\n",
              "      <th>hp</th>\n",
              "      <th>pokedex</th>\n",
              "      <th>type</th>\n",
              "      <th>hp45</th>\n",
              "    </tr>\n",
              "  </thead>\n",
              "  <tbody>\n",
              "    <tr>\n",
              "      <th>A</th>\n",
              "      <td>BULBASAUR</td>\n",
              "      <td>IVYSAUR</td>\n",
              "      <td>45.0</td>\n",
              "      <td>YES</td>\n",
              "      <td>GRASS</td>\n",
              "      <td>20.25</td>\n",
              "    </tr>\n",
              "    <tr>\n",
              "      <th>B</th>\n",
              "      <td>CHARMANDER</td>\n",
              "      <td>CHARMELEON</td>\n",
              "      <td>139.0</td>\n",
              "      <td>NO</td>\n",
              "      <td>FIRE</td>\n",
              "      <td>17.55</td>\n",
              "    </tr>\n",
              "    <tr>\n",
              "      <th>C</th>\n",
              "      <td>SQUIRTLE</td>\n",
              "      <td>WARTORTLE</td>\n",
              "      <td>44.0</td>\n",
              "      <td>YES</td>\n",
              "      <td>WATER</td>\n",
              "      <td>19.80</td>\n",
              "    </tr>\n",
              "    <tr>\n",
              "      <th>D</th>\n",
              "      <td>CARTERPIE</td>\n",
              "      <td>METAPOD</td>\n",
              "      <td>45.0</td>\n",
              "      <td>NO</td>\n",
              "      <td>BUG</td>\n",
              "      <td>20.25</td>\n",
              "    </tr>\n",
              "    <tr>\n",
              "      <th>E</th>\n",
              "      <td>DRAGONIR</td>\n",
              "      <td>DRAGORAN</td>\n",
              "      <td>170.0</td>\n",
              "      <td>YES</td>\n",
              "      <td>DRAGON</td>\n",
              "      <td>76.50</td>\n",
              "    </tr>\n",
              "  </tbody>\n",
              "</table>\n",
              "</div>"
            ],
            "text/plain": [
              "         name   evolution     hp pokedex    type   hp45\n",
              "A   BULBASAUR     IVYSAUR   45.0     YES   GRASS  20.25\n",
              "B  CHARMANDER  CHARMELEON  139.0      NO    FIRE  17.55\n",
              "C    SQUIRTLE   WARTORTLE   44.0     YES   WATER  19.80\n",
              "D   CARTERPIE     METAPOD   45.0      NO     BUG  20.25\n",
              "E    DRAGONIR    DRAGORAN  170.0     YES  DRAGON  76.50"
            ]
          },
          "metadata": {
            "tags": []
          },
          "execution_count": 263
        }
      ]
    },
    {
      "cell_type": "code",
      "metadata": {
        "id": "nSbnl30bCnx9",
        "colab_type": "code",
        "colab": {
          "base_uri": "https://localhost:8080/",
          "height": 129
        },
        "outputId": "723bd7ba-fb04-4951-9963-8436d45ac213"
      },
      "source": [
        "pokeframe[\"New Column\"] = pokeframe.applymap(lambda value: )"
      ],
      "execution_count": 265,
      "outputs": [
        {
          "output_type": "error",
          "ename": "SyntaxError",
          "evalue": "ignored",
          "traceback": [
            "\u001b[0;36m  File \u001b[0;32m\"<ipython-input-265-210842835249>\"\u001b[0;36m, line \u001b[0;32m1\u001b[0m\n\u001b[0;31m    pokeframe[\"New Column\"] = pokeframe.applymap(lambda value: )\u001b[0m\n\u001b[0m                                                               ^\u001b[0m\n\u001b[0;31mSyntaxError\u001b[0m\u001b[0;31m:\u001b[0m invalid syntax\n"
          ]
        }
      ]
    },
    {
      "cell_type": "markdown",
      "metadata": {
        "id": "qZo8fM7sEhWm",
        "colab_type": "text"
      },
      "source": [
        "## Exercise 22 \n",
        "- Use the pokeframe \n",
        "- Extract the first 3 characters of the evolution field and substitute the original velue with \"Ivy\", \"Cha\",\"War\",\"Met\", \"Dra\"\n",
        "- Create the pokedex2 column with the translation of yes/ no to spanish"
      ]
    },
    {
      "cell_type": "code",
      "metadata": {
        "id": "hacGuVLGFAHH",
        "colab_type": "code",
        "colab": {
          "base_uri": "https://localhost:8080/",
          "height": 197
        },
        "outputId": "bd0835df-bd67-4f4d-952b-e32481f9ddb6"
      },
      "source": [
        "pokeframe"
      ],
      "execution_count": 267,
      "outputs": [
        {
          "output_type": "execute_result",
          "data": {
            "text/html": [
              "<div>\n",
              "<style scoped>\n",
              "    .dataframe tbody tr th:only-of-type {\n",
              "        vertical-align: middle;\n",
              "    }\n",
              "\n",
              "    .dataframe tbody tr th {\n",
              "        vertical-align: top;\n",
              "    }\n",
              "\n",
              "    .dataframe thead th {\n",
              "        text-align: right;\n",
              "    }\n",
              "</style>\n",
              "<table border=\"1\" class=\"dataframe\">\n",
              "  <thead>\n",
              "    <tr style=\"text-align: right;\">\n",
              "      <th></th>\n",
              "      <th>name</th>\n",
              "      <th>evolution</th>\n",
              "      <th>hp</th>\n",
              "      <th>pokedex</th>\n",
              "      <th>type</th>\n",
              "      <th>hp45</th>\n",
              "    </tr>\n",
              "  </thead>\n",
              "  <tbody>\n",
              "    <tr>\n",
              "      <th>A</th>\n",
              "      <td>Bulbasaur</td>\n",
              "      <td>Ivysaur</td>\n",
              "      <td>45.0</td>\n",
              "      <td>Yes</td>\n",
              "      <td>Grass</td>\n",
              "      <td>20.25</td>\n",
              "    </tr>\n",
              "    <tr>\n",
              "      <th>B</th>\n",
              "      <td>Charmander</td>\n",
              "      <td>Charmeleon</td>\n",
              "      <td>139.0</td>\n",
              "      <td>No</td>\n",
              "      <td>Fire</td>\n",
              "      <td>17.55</td>\n",
              "    </tr>\n",
              "    <tr>\n",
              "      <th>C</th>\n",
              "      <td>Squirtle</td>\n",
              "      <td>Wartortle</td>\n",
              "      <td>44.0</td>\n",
              "      <td>Yes</td>\n",
              "      <td>Water</td>\n",
              "      <td>19.80</td>\n",
              "    </tr>\n",
              "    <tr>\n",
              "      <th>D</th>\n",
              "      <td>Carterpie</td>\n",
              "      <td>Metapod</td>\n",
              "      <td>45.0</td>\n",
              "      <td>No</td>\n",
              "      <td>Bug</td>\n",
              "      <td>20.25</td>\n",
              "    </tr>\n",
              "    <tr>\n",
              "      <th>E</th>\n",
              "      <td>Dragonir</td>\n",
              "      <td>Dragoran</td>\n",
              "      <td>170.0</td>\n",
              "      <td>yes</td>\n",
              "      <td>dragon</td>\n",
              "      <td>76.50</td>\n",
              "    </tr>\n",
              "  </tbody>\n",
              "</table>\n",
              "</div>"
            ],
            "text/plain": [
              "         name   evolution     hp pokedex    type   hp45\n",
              "A   Bulbasaur     Ivysaur   45.0     Yes   Grass  20.25\n",
              "B  Charmander  Charmeleon  139.0      No    Fire  17.55\n",
              "C    Squirtle   Wartortle   44.0     Yes   Water  19.80\n",
              "D   Carterpie     Metapod   45.0      No     Bug  20.25\n",
              "E    Dragonir    Dragoran  170.0     yes  dragon  76.50"
            ]
          },
          "metadata": {
            "tags": []
          },
          "execution_count": 267
        }
      ]
    },
    {
      "cell_type": "code",
      "metadata": {
        "id": "3iuA2h2OFC-0",
        "colab_type": "code",
        "colab": {}
      },
      "source": [
        ""
      ],
      "execution_count": 0,
      "outputs": []
    }
  ]
}

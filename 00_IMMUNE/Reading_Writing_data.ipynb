{
  "nbformat": 4,
  "nbformat_minor": 0,
  "metadata": {
    "colab": {
      "name": "Reading / Writing data.ipynb",
      "provenance": [],
      "authorship_tag": "ABX9TyM9yVkNr1/zw23J80/vGCm1",
      "include_colab_link": true
    },
    "kernelspec": {
      "name": "python3",
      "display_name": "Python 3"
    }
  },
  "cells": [
    {
      "cell_type": "markdown",
      "metadata": {
        "id": "view-in-github",
        "colab_type": "text"
      },
      "source": [
        "<a href=\"https://colab.research.google.com/github/KayKozaronek/03_Courses/blob/master/Reading_Writing_data.ipynb\" target=\"_parent\"><img src=\"https://colab.research.google.com/assets/colab-badge.svg\" alt=\"Open In Colab\"/></a>"
      ]
    },
    {
      "cell_type": "markdown",
      "metadata": {
        "id": "zvPexRzz7fal",
        "colab_type": "text"
      },
      "source": [
        "#Reading / Writing data\n",
        "\n",
        "Page 125-144"
      ]
    },
    {
      "cell_type": "markdown",
      "metadata": {
        "id": "6_H6f5x87nOF",
        "colab_type": "text"
      },
      "source": [
        "Pandas supports the integration of many file formats and data sources out of the box (csv, excel, sql, json, parquet)"
      ]
    },
    {
      "cell_type": "markdown",
      "metadata": {
        "id": "Sz33vWLJ8FgX",
        "colab_type": "text"
      },
      "source": [
        "## Reading data in text format\n",
        "* The function pd.read_csv() allows you to read a file and store it in a DataFrame\n",
        "- With the default options, files must have a header and the seperator is a comma \n",
        "- The file could be both on a disk or on the network "
      ]
    },
    {
      "cell_type": "code",
      "metadata": {
        "id": "k77iMKbZ8blt",
        "colab_type": "code",
        "colab": {}
      },
      "source": [
        "import pandas as pd\n",
        "\n",
        "#pd.read_csv(\"./Sacramentorealestatetransactions.csv\")\n",
        "housing = pd.read_csv(\"http://samplecsvs.s3.amazonaws.com/Sacramentorealestatetransactions.csv\")"
      ],
      "execution_count": 0,
      "outputs": []
    },
    {
      "cell_type": "code",
      "metadata": {
        "id": "qFzEmhbl8u-P",
        "colab_type": "code",
        "outputId": "198f0870-5623-497b-8ab2-83541717d010",
        "colab": {
          "base_uri": "https://localhost:8080/",
          "height": 467
        }
      },
      "source": [
        "housing.head()"
      ],
      "execution_count": 2,
      "outputs": [
        {
          "output_type": "execute_result",
          "data": {
            "text/html": [
              "<div>\n",
              "<style scoped>\n",
              "    .dataframe tbody tr th:only-of-type {\n",
              "        vertical-align: middle;\n",
              "    }\n",
              "\n",
              "    .dataframe tbody tr th {\n",
              "        vertical-align: top;\n",
              "    }\n",
              "\n",
              "    .dataframe thead th {\n",
              "        text-align: right;\n",
              "    }\n",
              "</style>\n",
              "<table border=\"1\" class=\"dataframe\">\n",
              "  <thead>\n",
              "    <tr style=\"text-align: right;\">\n",
              "      <th></th>\n",
              "      <th>street</th>\n",
              "      <th>city</th>\n",
              "      <th>zip</th>\n",
              "      <th>state</th>\n",
              "      <th>beds</th>\n",
              "      <th>baths</th>\n",
              "      <th>sq__ft</th>\n",
              "      <th>type</th>\n",
              "      <th>sale_date</th>\n",
              "      <th>price</th>\n",
              "      <th>latitude</th>\n",
              "      <th>longitude</th>\n",
              "    </tr>\n",
              "  </thead>\n",
              "  <tbody>\n",
              "    <tr>\n",
              "      <th>0</th>\n",
              "      <td>3526 HIGH ST</td>\n",
              "      <td>SACRAMENTO</td>\n",
              "      <td>95838</td>\n",
              "      <td>CA</td>\n",
              "      <td>2</td>\n",
              "      <td>1</td>\n",
              "      <td>836</td>\n",
              "      <td>Residential</td>\n",
              "      <td>Wed May 21 00:00:00 EDT 2008</td>\n",
              "      <td>59222</td>\n",
              "      <td>38.631913</td>\n",
              "      <td>-121.434879</td>\n",
              "    </tr>\n",
              "    <tr>\n",
              "      <th>1</th>\n",
              "      <td>51 OMAHA CT</td>\n",
              "      <td>SACRAMENTO</td>\n",
              "      <td>95823</td>\n",
              "      <td>CA</td>\n",
              "      <td>3</td>\n",
              "      <td>1</td>\n",
              "      <td>1167</td>\n",
              "      <td>Residential</td>\n",
              "      <td>Wed May 21 00:00:00 EDT 2008</td>\n",
              "      <td>68212</td>\n",
              "      <td>38.478902</td>\n",
              "      <td>-121.431028</td>\n",
              "    </tr>\n",
              "    <tr>\n",
              "      <th>2</th>\n",
              "      <td>2796 BRANCH ST</td>\n",
              "      <td>SACRAMENTO</td>\n",
              "      <td>95815</td>\n",
              "      <td>CA</td>\n",
              "      <td>2</td>\n",
              "      <td>1</td>\n",
              "      <td>796</td>\n",
              "      <td>Residential</td>\n",
              "      <td>Wed May 21 00:00:00 EDT 2008</td>\n",
              "      <td>68880</td>\n",
              "      <td>38.618305</td>\n",
              "      <td>-121.443839</td>\n",
              "    </tr>\n",
              "    <tr>\n",
              "      <th>3</th>\n",
              "      <td>2805 JANETTE WAY</td>\n",
              "      <td>SACRAMENTO</td>\n",
              "      <td>95815</td>\n",
              "      <td>CA</td>\n",
              "      <td>2</td>\n",
              "      <td>1</td>\n",
              "      <td>852</td>\n",
              "      <td>Residential</td>\n",
              "      <td>Wed May 21 00:00:00 EDT 2008</td>\n",
              "      <td>69307</td>\n",
              "      <td>38.616835</td>\n",
              "      <td>-121.439146</td>\n",
              "    </tr>\n",
              "    <tr>\n",
              "      <th>4</th>\n",
              "      <td>6001 MCMAHON DR</td>\n",
              "      <td>SACRAMENTO</td>\n",
              "      <td>95824</td>\n",
              "      <td>CA</td>\n",
              "      <td>2</td>\n",
              "      <td>1</td>\n",
              "      <td>797</td>\n",
              "      <td>Residential</td>\n",
              "      <td>Wed May 21 00:00:00 EDT 2008</td>\n",
              "      <td>81900</td>\n",
              "      <td>38.519470</td>\n",
              "      <td>-121.435768</td>\n",
              "    </tr>\n",
              "  </tbody>\n",
              "</table>\n",
              "</div>"
            ],
            "text/plain": [
              "             street        city    zip  ...  price   latitude   longitude\n",
              "0      3526 HIGH ST  SACRAMENTO  95838  ...  59222  38.631913 -121.434879\n",
              "1       51 OMAHA CT  SACRAMENTO  95823  ...  68212  38.478902 -121.431028\n",
              "2    2796 BRANCH ST  SACRAMENTO  95815  ...  68880  38.618305 -121.443839\n",
              "3  2805 JANETTE WAY  SACRAMENTO  95815  ...  69307  38.616835 -121.439146\n",
              "4   6001 MCMAHON DR  SACRAMENTO  95824  ...  81900  38.519470 -121.435768\n",
              "\n",
              "[5 rows x 12 columns]"
            ]
          },
          "metadata": {
            "tags": []
          },
          "execution_count": 2
        }
      ]
    },
    {
      "cell_type": "markdown",
      "metadata": {
        "id": "kvWduxN_82eN",
        "colab_type": "text"
      },
      "source": [
        "The `pd.read_table()`function allows you to set the separator using the `sep` argument"
      ]
    },
    {
      "cell_type": "code",
      "metadata": {
        "id": "GMHh_KYX9KSQ",
        "colab_type": "code",
        "outputId": "dd23c76f-c2de-426e-e13e-8ebfea87d790",
        "colab": {
          "base_uri": "https://localhost:8080/",
          "height": 35
        }
      },
      "source": [
        "%%writefile input_data.txt\n",
        "a|b|c|d|message\n",
        "1|2|3|4|hello\n",
        "5|6|7|8|world\n",
        "9|10|11|12|foo"
      ],
      "execution_count": 3,
      "outputs": [
        {
          "output_type": "stream",
          "text": [
            "Writing input_data.txt\n"
          ],
          "name": "stdout"
        }
      ]
    },
    {
      "cell_type": "code",
      "metadata": {
        "id": "WLHbIP_c9cmf",
        "colab_type": "code",
        "outputId": "ad80c4b5-5d88-4227-e6c9-de15faec46e1",
        "colab": {
          "base_uri": "https://localhost:8080/",
          "height": 135
        }
      },
      "source": [
        "pd.read_csv(\"input_data.txt\", sep=\"|\")"
      ],
      "execution_count": 4,
      "outputs": [
        {
          "output_type": "execute_result",
          "data": {
            "text/html": [
              "<div>\n",
              "<style scoped>\n",
              "    .dataframe tbody tr th:only-of-type {\n",
              "        vertical-align: middle;\n",
              "    }\n",
              "\n",
              "    .dataframe tbody tr th {\n",
              "        vertical-align: top;\n",
              "    }\n",
              "\n",
              "    .dataframe thead th {\n",
              "        text-align: right;\n",
              "    }\n",
              "</style>\n",
              "<table border=\"1\" class=\"dataframe\">\n",
              "  <thead>\n",
              "    <tr style=\"text-align: right;\">\n",
              "      <th></th>\n",
              "      <th>a</th>\n",
              "      <th>b</th>\n",
              "      <th>c</th>\n",
              "      <th>d</th>\n",
              "      <th>message</th>\n",
              "    </tr>\n",
              "  </thead>\n",
              "  <tbody>\n",
              "    <tr>\n",
              "      <th>0</th>\n",
              "      <td>1</td>\n",
              "      <td>2</td>\n",
              "      <td>3</td>\n",
              "      <td>4</td>\n",
              "      <td>hello</td>\n",
              "    </tr>\n",
              "    <tr>\n",
              "      <th>1</th>\n",
              "      <td>5</td>\n",
              "      <td>6</td>\n",
              "      <td>7</td>\n",
              "      <td>8</td>\n",
              "      <td>world</td>\n",
              "    </tr>\n",
              "    <tr>\n",
              "      <th>2</th>\n",
              "      <td>9</td>\n",
              "      <td>10</td>\n",
              "      <td>11</td>\n",
              "      <td>12</td>\n",
              "      <td>foo</td>\n",
              "    </tr>\n",
              "  </tbody>\n",
              "</table>\n",
              "</div>"
            ],
            "text/plain": [
              "   a   b   c   d message\n",
              "0  1   2   3   4   hello\n",
              "1  5   6   7   8   world\n",
              "2  9  10  11  12     foo"
            ]
          },
          "metadata": {
            "tags": []
          },
          "execution_count": 4
        }
      ]
    },
    {
      "cell_type": "markdown",
      "metadata": {
        "id": "oMiJfhdj9hbA",
        "colab_type": "text"
      },
      "source": [
        "The header parameter allows you to set whether or not a header exists"
      ]
    },
    {
      "cell_type": "code",
      "metadata": {
        "id": "frPuGmhO949Y",
        "colab_type": "code",
        "outputId": "a052e366-0873-4472-c845-6f42def3f829",
        "colab": {
          "base_uri": "https://localhost:8080/",
          "height": 164
        }
      },
      "source": [
        "pd.read_csv(\"input_data.txt\", sep=\"|\", header =None)"
      ],
      "execution_count": 5,
      "outputs": [
        {
          "output_type": "execute_result",
          "data": {
            "text/html": [
              "<div>\n",
              "<style scoped>\n",
              "    .dataframe tbody tr th:only-of-type {\n",
              "        vertical-align: middle;\n",
              "    }\n",
              "\n",
              "    .dataframe tbody tr th {\n",
              "        vertical-align: top;\n",
              "    }\n",
              "\n",
              "    .dataframe thead th {\n",
              "        text-align: right;\n",
              "    }\n",
              "</style>\n",
              "<table border=\"1\" class=\"dataframe\">\n",
              "  <thead>\n",
              "    <tr style=\"text-align: right;\">\n",
              "      <th></th>\n",
              "      <th>0</th>\n",
              "      <th>1</th>\n",
              "      <th>2</th>\n",
              "      <th>3</th>\n",
              "      <th>4</th>\n",
              "    </tr>\n",
              "  </thead>\n",
              "  <tbody>\n",
              "    <tr>\n",
              "      <th>0</th>\n",
              "      <td>a</td>\n",
              "      <td>b</td>\n",
              "      <td>c</td>\n",
              "      <td>d</td>\n",
              "      <td>message</td>\n",
              "    </tr>\n",
              "    <tr>\n",
              "      <th>1</th>\n",
              "      <td>1</td>\n",
              "      <td>2</td>\n",
              "      <td>3</td>\n",
              "      <td>4</td>\n",
              "      <td>hello</td>\n",
              "    </tr>\n",
              "    <tr>\n",
              "      <th>2</th>\n",
              "      <td>5</td>\n",
              "      <td>6</td>\n",
              "      <td>7</td>\n",
              "      <td>8</td>\n",
              "      <td>world</td>\n",
              "    </tr>\n",
              "    <tr>\n",
              "      <th>3</th>\n",
              "      <td>9</td>\n",
              "      <td>10</td>\n",
              "      <td>11</td>\n",
              "      <td>12</td>\n",
              "      <td>foo</td>\n",
              "    </tr>\n",
              "  </tbody>\n",
              "</table>\n",
              "</div>"
            ],
            "text/plain": [
              "   0   1   2   3        4\n",
              "0  a   b   c   d  message\n",
              "1  1   2   3   4    hello\n",
              "2  5   6   7   8    world\n",
              "3  9  10  11  12      foo"
            ]
          },
          "metadata": {
            "tags": []
          },
          "execution_count": 5
        }
      ]
    },
    {
      "cell_type": "markdown",
      "metadata": {
        "id": "Stcxtw2J9-pj",
        "colab_type": "text"
      },
      "source": [
        "The na_values parameter specifies the null values "
      ]
    },
    {
      "cell_type": "code",
      "metadata": {
        "id": "dPcTTvsz-H42",
        "colab_type": "code",
        "outputId": "ac98c55b-bf66-4011-c92e-183146439e02",
        "colab": {
          "base_uri": "https://localhost:8080/",
          "height": 35
        }
      },
      "source": [
        "%%writefile input_data.txt\n",
        "a|b|c|d|message\n",
        "1|2|3|NA|hello\n",
        "5|6|7|8|world\n",
        "9|NA|11|12|foo"
      ],
      "execution_count": 6,
      "outputs": [
        {
          "output_type": "stream",
          "text": [
            "Overwriting input_data.txt\n"
          ],
          "name": "stdout"
        }
      ]
    },
    {
      "cell_type": "code",
      "metadata": {
        "id": "16N2uPB4-RqC",
        "colab_type": "code",
        "outputId": "45d272fa-a8dd-4175-f45d-cb6b15a2d5c6",
        "colab": {
          "base_uri": "https://localhost:8080/",
          "height": 135
        }
      },
      "source": [
        "pd.read_table(\"input_data.txt\", sep=\"|\", na_values=[\"NA\"])"
      ],
      "execution_count": 7,
      "outputs": [
        {
          "output_type": "execute_result",
          "data": {
            "text/html": [
              "<div>\n",
              "<style scoped>\n",
              "    .dataframe tbody tr th:only-of-type {\n",
              "        vertical-align: middle;\n",
              "    }\n",
              "\n",
              "    .dataframe tbody tr th {\n",
              "        vertical-align: top;\n",
              "    }\n",
              "\n",
              "    .dataframe thead th {\n",
              "        text-align: right;\n",
              "    }\n",
              "</style>\n",
              "<table border=\"1\" class=\"dataframe\">\n",
              "  <thead>\n",
              "    <tr style=\"text-align: right;\">\n",
              "      <th></th>\n",
              "      <th>a</th>\n",
              "      <th>b</th>\n",
              "      <th>c</th>\n",
              "      <th>d</th>\n",
              "      <th>message</th>\n",
              "    </tr>\n",
              "  </thead>\n",
              "  <tbody>\n",
              "    <tr>\n",
              "      <th>0</th>\n",
              "      <td>1</td>\n",
              "      <td>2.0</td>\n",
              "      <td>3</td>\n",
              "      <td>NaN</td>\n",
              "      <td>hello</td>\n",
              "    </tr>\n",
              "    <tr>\n",
              "      <th>1</th>\n",
              "      <td>5</td>\n",
              "      <td>6.0</td>\n",
              "      <td>7</td>\n",
              "      <td>8.0</td>\n",
              "      <td>world</td>\n",
              "    </tr>\n",
              "    <tr>\n",
              "      <th>2</th>\n",
              "      <td>9</td>\n",
              "      <td>NaN</td>\n",
              "      <td>11</td>\n",
              "      <td>12.0</td>\n",
              "      <td>foo</td>\n",
              "    </tr>\n",
              "  </tbody>\n",
              "</table>\n",
              "</div>"
            ],
            "text/plain": [
              "   a    b   c     d message\n",
              "0  1  2.0   3   NaN   hello\n",
              "1  5  6.0   7   8.0   world\n",
              "2  9  NaN  11  12.0     foo"
            ]
          },
          "metadata": {
            "tags": []
          },
          "execution_count": 7
        }
      ]
    },
    {
      "cell_type": "markdown",
      "metadata": {
        "id": "zgJG0Oxm-aVI",
        "colab_type": "text"
      },
      "source": [
        "The `pd.read_fwf()`function allows you to read a file when the columns have fixed positions"
      ]
    },
    {
      "cell_type": "code",
      "metadata": {
        "id": "br46R0hM-eYR",
        "colab_type": "code",
        "outputId": "73f581c8-84ac-4590-e33b-0a8e157643ce",
        "colab": {
          "base_uri": "https://localhost:8080/",
          "height": 35
        }
      },
      "source": [
        "%%writefile input_data.txt\n",
        "a b   c   d   message\n",
        "1 2   223 NA  hello\n",
        "5 6   7   8   world\n",
        "9 10  11  12  foo"
      ],
      "execution_count": 8,
      "outputs": [
        {
          "output_type": "stream",
          "text": [
            "Overwriting input_data.txt\n"
          ],
          "name": "stdout"
        }
      ]
    },
    {
      "cell_type": "code",
      "metadata": {
        "id": "8ZiLBy2V_U6q",
        "colab_type": "code",
        "outputId": "bc7b1eba-b887-4bed-82f0-bf8f88111cf0",
        "colab": {
          "base_uri": "https://localhost:8080/",
          "height": 135
        }
      },
      "source": [
        "pd.read_fwf(\"input_data.txt\")"
      ],
      "execution_count": 9,
      "outputs": [
        {
          "output_type": "execute_result",
          "data": {
            "text/html": [
              "<div>\n",
              "<style scoped>\n",
              "    .dataframe tbody tr th:only-of-type {\n",
              "        vertical-align: middle;\n",
              "    }\n",
              "\n",
              "    .dataframe tbody tr th {\n",
              "        vertical-align: top;\n",
              "    }\n",
              "\n",
              "    .dataframe thead th {\n",
              "        text-align: right;\n",
              "    }\n",
              "</style>\n",
              "<table border=\"1\" class=\"dataframe\">\n",
              "  <thead>\n",
              "    <tr style=\"text-align: right;\">\n",
              "      <th></th>\n",
              "      <th>a</th>\n",
              "      <th>b</th>\n",
              "      <th>c</th>\n",
              "      <th>d</th>\n",
              "      <th>message</th>\n",
              "    </tr>\n",
              "  </thead>\n",
              "  <tbody>\n",
              "    <tr>\n",
              "      <th>0</th>\n",
              "      <td>1</td>\n",
              "      <td>2</td>\n",
              "      <td>223</td>\n",
              "      <td>NaN</td>\n",
              "      <td>hello</td>\n",
              "    </tr>\n",
              "    <tr>\n",
              "      <th>1</th>\n",
              "      <td>5</td>\n",
              "      <td>6</td>\n",
              "      <td>7</td>\n",
              "      <td>8.0</td>\n",
              "      <td>world</td>\n",
              "    </tr>\n",
              "    <tr>\n",
              "      <th>2</th>\n",
              "      <td>9</td>\n",
              "      <td>10</td>\n",
              "      <td>11</td>\n",
              "      <td>12.0</td>\n",
              "      <td>foo</td>\n",
              "    </tr>\n",
              "  </tbody>\n",
              "</table>\n",
              "</div>"
            ],
            "text/plain": [
              "   a   b    c     d message\n",
              "0  1   2  223   NaN   hello\n",
              "1  5   6    7   8.0   world\n",
              "2  9  10   11  12.0     foo"
            ]
          },
          "metadata": {
            "tags": []
          },
          "execution_count": 9
        }
      ]
    },
    {
      "cell_type": "markdown",
      "metadata": {
        "id": "6PhqYkO7_Y5e",
        "colab_type": "text"
      },
      "source": [
        "The converters parameter allows you to set conversion functions in the columns of the DataFrame "
      ]
    },
    {
      "cell_type": "code",
      "metadata": {
        "id": "JyCxjkG6_jYG",
        "colab_type": "code",
        "outputId": "a515cca7-f688-4872-fa5f-8550c6adab42",
        "colab": {
          "base_uri": "https://localhost:8080/",
          "height": 35
        }
      },
      "source": [
        "%%writefile input_data.txt\n",
        "col1|col2|col3\n",
        "one|1.232,12|a\n",
        "two|2.000,32|b"
      ],
      "execution_count": 10,
      "outputs": [
        {
          "output_type": "stream",
          "text": [
            "Overwriting input_data.txt\n"
          ],
          "name": "stdout"
        }
      ]
    },
    {
      "cell_type": "code",
      "metadata": {
        "id": "ZApLmWt7_6zO",
        "colab_type": "code",
        "outputId": "54e6671d-ef46-47ae-803f-e00e11e0df31",
        "colab": {
          "base_uri": "https://localhost:8080/",
          "height": 106
        }
      },
      "source": [
        "pd.read_csv(\"input_data.txt\", sep=\"|\",\n",
        "            converters={\"col2\":lambda value: float(value.replace(\".\",\"\").replace(\",\",\".\"))})"
      ],
      "execution_count": 11,
      "outputs": [
        {
          "output_type": "execute_result",
          "data": {
            "text/html": [
              "<div>\n",
              "<style scoped>\n",
              "    .dataframe tbody tr th:only-of-type {\n",
              "        vertical-align: middle;\n",
              "    }\n",
              "\n",
              "    .dataframe tbody tr th {\n",
              "        vertical-align: top;\n",
              "    }\n",
              "\n",
              "    .dataframe thead th {\n",
              "        text-align: right;\n",
              "    }\n",
              "</style>\n",
              "<table border=\"1\" class=\"dataframe\">\n",
              "  <thead>\n",
              "    <tr style=\"text-align: right;\">\n",
              "      <th></th>\n",
              "      <th>col1</th>\n",
              "      <th>col2</th>\n",
              "      <th>col3</th>\n",
              "    </tr>\n",
              "  </thead>\n",
              "  <tbody>\n",
              "    <tr>\n",
              "      <th>0</th>\n",
              "      <td>one</td>\n",
              "      <td>1232.12</td>\n",
              "      <td>a</td>\n",
              "    </tr>\n",
              "    <tr>\n",
              "      <th>1</th>\n",
              "      <td>two</td>\n",
              "      <td>2000.32</td>\n",
              "      <td>b</td>\n",
              "    </tr>\n",
              "  </tbody>\n",
              "</table>\n",
              "</div>"
            ],
            "text/plain": [
              "  col1     col2 col3\n",
              "0  one  1232.12    a\n",
              "1  two  2000.32    b"
            ]
          },
          "metadata": {
            "tags": []
          },
          "execution_count": 11
        }
      ]
    },
    {
      "cell_type": "markdown",
      "metadata": {
        "id": "VwdtfDIdAPxU",
        "colab_type": "text"
      },
      "source": [
        "## Reading data from Excel \n",
        "- Pandas also allows you to read an Excel format file \n",
        "- If we want to read several sheets of the same Excel file, it is convenient to first load the file into memeory with the `pd.ExcelFile()` method"
      ]
    },
    {
      "cell_type": "code",
      "metadata": {
        "id": "znSD-nF_A4Le",
        "colab_type": "code",
        "colab": {}
      },
      "source": [
        "# df = pd.read_excel(\"Example_File.xlsx\")\n",
        "# df = pd.read_excel(\"Example_File.xlsx\", \"Example_Sheet\")\n",
        "\n",
        "# xlsx = pd.ExcelFile(\"Example_file.xlsx\")\n",
        "# df = pd.read_excel(xlsx, \"Example_Sheet\")"
      ],
      "execution_count": 0,
      "outputs": []
    },
    {
      "cell_type": "markdown",
      "metadata": {
        "id": "TuhzFuL2BcPc",
        "colab_type": "text"
      },
      "source": [
        "## Reading data from a JSON file\n",
        "\n",
        "- Using the `pd.read_json()`function, pandas will read data in JSON format and load it into a DataFrame "
      ]
    },
    {
      "cell_type": "code",
      "metadata": {
        "id": "ckvhIPBjBgab",
        "colab_type": "code",
        "outputId": "bf39ffeb-fec1-4882-cf2d-ea3d6d52216f",
        "colab": {
          "base_uri": "https://localhost:8080/",
          "height": 0
        }
      },
      "source": [
        "%%writefile input_data.json\n",
        "[ {\"a\": 1, \"b\":2, \"c\":3},\n",
        "  {\"a\": 4, \"b\":5, \"c\":6},\n",
        "  {\"a\": 7, \"b\":8, \"c\":9}]"
      ],
      "execution_count": 13,
      "outputs": [
        {
          "output_type": "stream",
          "text": [
            "Writing input_data.json\n"
          ],
          "name": "stdout"
        }
      ]
    },
    {
      "cell_type": "code",
      "metadata": {
        "id": "iKzGhCpxCAaO",
        "colab_type": "code",
        "outputId": "345e6dba-a1b9-4f68-df07-7f18e264c92c",
        "colab": {
          "base_uri": "https://localhost:8080/",
          "height": 0
        }
      },
      "source": [
        "pd.read_json(\"input_data.json\")"
      ],
      "execution_count": 14,
      "outputs": [
        {
          "output_type": "execute_result",
          "data": {
            "text/html": [
              "<div>\n",
              "<style scoped>\n",
              "    .dataframe tbody tr th:only-of-type {\n",
              "        vertical-align: middle;\n",
              "    }\n",
              "\n",
              "    .dataframe tbody tr th {\n",
              "        vertical-align: top;\n",
              "    }\n",
              "\n",
              "    .dataframe thead th {\n",
              "        text-align: right;\n",
              "    }\n",
              "</style>\n",
              "<table border=\"1\" class=\"dataframe\">\n",
              "  <thead>\n",
              "    <tr style=\"text-align: right;\">\n",
              "      <th></th>\n",
              "      <th>a</th>\n",
              "      <th>b</th>\n",
              "      <th>c</th>\n",
              "    </tr>\n",
              "  </thead>\n",
              "  <tbody>\n",
              "    <tr>\n",
              "      <th>0</th>\n",
              "      <td>1</td>\n",
              "      <td>2</td>\n",
              "      <td>3</td>\n",
              "    </tr>\n",
              "    <tr>\n",
              "      <th>1</th>\n",
              "      <td>4</td>\n",
              "      <td>5</td>\n",
              "      <td>6</td>\n",
              "    </tr>\n",
              "    <tr>\n",
              "      <th>2</th>\n",
              "      <td>7</td>\n",
              "      <td>8</td>\n",
              "      <td>9</td>\n",
              "    </tr>\n",
              "  </tbody>\n",
              "</table>\n",
              "</div>"
            ],
            "text/plain": [
              "   a  b  c\n",
              "0  1  2  3\n",
              "1  4  5  6\n",
              "2  7  8  9"
            ]
          },
          "metadata": {
            "tags": []
          },
          "execution_count": 14
        }
      ]
    },
    {
      "cell_type": "markdown",
      "metadata": {
        "id": "LVkUNQuICEWR",
        "colab_type": "text"
      },
      "source": [
        "An alternative is to use the json library to read the file "
      ]
    },
    {
      "cell_type": "code",
      "metadata": {
        "id": "D2mO2a0lCL9R",
        "colab_type": "code",
        "outputId": "5ce5ae44-5c3a-4ba3-8285-5bfa61d5bd92",
        "colab": {
          "base_uri": "https://localhost:8080/",
          "height": 0
        }
      },
      "source": [
        "import json \n",
        "\n",
        "with open(\"input_data.json\") as json_data:\n",
        "  result = json.load(json_data)\n",
        "\n",
        "pd.DataFrame(result[:], columns =[\"a\",\"b\",\"c\"])"
      ],
      "execution_count": 15,
      "outputs": [
        {
          "output_type": "execute_result",
          "data": {
            "text/html": [
              "<div>\n",
              "<style scoped>\n",
              "    .dataframe tbody tr th:only-of-type {\n",
              "        vertical-align: middle;\n",
              "    }\n",
              "\n",
              "    .dataframe tbody tr th {\n",
              "        vertical-align: top;\n",
              "    }\n",
              "\n",
              "    .dataframe thead th {\n",
              "        text-align: right;\n",
              "    }\n",
              "</style>\n",
              "<table border=\"1\" class=\"dataframe\">\n",
              "  <thead>\n",
              "    <tr style=\"text-align: right;\">\n",
              "      <th></th>\n",
              "      <th>a</th>\n",
              "      <th>b</th>\n",
              "      <th>c</th>\n",
              "    </tr>\n",
              "  </thead>\n",
              "  <tbody>\n",
              "    <tr>\n",
              "      <th>0</th>\n",
              "      <td>1</td>\n",
              "      <td>2</td>\n",
              "      <td>3</td>\n",
              "    </tr>\n",
              "    <tr>\n",
              "      <th>1</th>\n",
              "      <td>4</td>\n",
              "      <td>5</td>\n",
              "      <td>6</td>\n",
              "    </tr>\n",
              "    <tr>\n",
              "      <th>2</th>\n",
              "      <td>7</td>\n",
              "      <td>8</td>\n",
              "      <td>9</td>\n",
              "    </tr>\n",
              "  </tbody>\n",
              "</table>\n",
              "</div>"
            ],
            "text/plain": [
              "   a  b  c\n",
              "0  1  2  3\n",
              "1  4  5  6\n",
              "2  7  8  9"
            ]
          },
          "metadata": {
            "tags": []
          },
          "execution_count": 15
        }
      ]
    },
    {
      "cell_type": "markdown",
      "metadata": {
        "id": "8XxKWTp1CcfJ",
        "colab_type": "text"
      },
      "source": [
        "#Reading data from a Web Service\n",
        "- To read the data of a web service we could use the request library"
      ]
    },
    {
      "cell_type": "code",
      "metadata": {
        "id": "UVKN8lptCtMH",
        "colab_type": "code",
        "outputId": "08301382-6b0d-423d-921d-3f758e3b6948",
        "colab": {
          "base_uri": "https://localhost:8080/",
          "height": 0
        }
      },
      "source": [
        "import requests\n",
        "\n",
        "url = \"https://api.github.com/repos/pandas-dev/pandas/issues\"\n",
        "resp = requests.get(url)\n",
        "\n",
        "if resp.ok:\n",
        "  data = resp.json()\n",
        "  dataframe = pd.DataFrame(data, columns=[\"number\", \"title\",\"labels\",\"state\"])\n",
        "\n",
        "dataframe.head()"
      ],
      "execution_count": 16,
      "outputs": [
        {
          "output_type": "execute_result",
          "data": {
            "text/html": [
              "<div>\n",
              "<style scoped>\n",
              "    .dataframe tbody tr th:only-of-type {\n",
              "        vertical-align: middle;\n",
              "    }\n",
              "\n",
              "    .dataframe tbody tr th {\n",
              "        vertical-align: top;\n",
              "    }\n",
              "\n",
              "    .dataframe thead th {\n",
              "        text-align: right;\n",
              "    }\n",
              "</style>\n",
              "<table border=\"1\" class=\"dataframe\">\n",
              "  <thead>\n",
              "    <tr style=\"text-align: right;\">\n",
              "      <th></th>\n",
              "      <th>number</th>\n",
              "      <th>title</th>\n",
              "      <th>labels</th>\n",
              "      <th>state</th>\n",
              "    </tr>\n",
              "  </thead>\n",
              "  <tbody>\n",
              "    <tr>\n",
              "      <th>0</th>\n",
              "      <td>34003</td>\n",
              "      <td>Backport PR #32870 on branch 1.0.x (DOC: Remov...</td>\n",
              "      <td>[]</td>\n",
              "      <td>open</td>\n",
              "    </tr>\n",
              "    <tr>\n",
              "      <th>1</th>\n",
              "      <td>34002</td>\n",
              "      <td>BUG: read_csv() wrong reading if comment-chara...</td>\n",
              "      <td>[{'id': 76811, 'node_id': 'MDU6TGFiZWw3NjgxMQ=...</td>\n",
              "      <td>open</td>\n",
              "    </tr>\n",
              "    <tr>\n",
              "      <th>2</th>\n",
              "      <td>34001</td>\n",
              "      <td>Backport PR #33629 on branch 1.0.x (BUG: Fix C...</td>\n",
              "      <td>[]</td>\n",
              "      <td>open</td>\n",
              "    </tr>\n",
              "    <tr>\n",
              "      <th>3</th>\n",
              "      <td>33999</td>\n",
              "      <td>Failing test_missing_required_dependency in pa...</td>\n",
              "      <td>[{'id': 48070600, 'node_id': 'MDU6TGFiZWw0ODA3...</td>\n",
              "      <td>open</td>\n",
              "    </tr>\n",
              "    <tr>\n",
              "      <th>4</th>\n",
              "      <td>33997</td>\n",
              "      <td>BUG:</td>\n",
              "      <td>[{'id': 76811, 'node_id': 'MDU6TGFiZWw3NjgxMQ=...</td>\n",
              "      <td>open</td>\n",
              "    </tr>\n",
              "  </tbody>\n",
              "</table>\n",
              "</div>"
            ],
            "text/plain": [
              "   number  ... state\n",
              "0   34003  ...  open\n",
              "1   34002  ...  open\n",
              "2   34001  ...  open\n",
              "3   33999  ...  open\n",
              "4   33997  ...  open\n",
              "\n",
              "[5 rows x 4 columns]"
            ]
          },
          "metadata": {
            "tags": []
          },
          "execution_count": 16
        }
      ]
    },
    {
      "cell_type": "markdown",
      "metadata": {
        "id": "98De5FntDCBS",
        "colab_type": "text"
      },
      "source": [
        "## Reading data from HTML\n",
        "- Pandas allows to read a file with HTML format through the `read_html()` function\n",
        "- This function returns a list of dataframes (there may be several tables on the website"
      ]
    },
    {
      "cell_type": "code",
      "metadata": {
        "id": "sSThfwUZDP1f",
        "colab_type": "code",
        "outputId": "6c3fefec-e625-4f53-d1ff-04398f0488ed",
        "colab": {
          "base_uri": "https://localhost:8080/",
          "height": 0
        }
      },
      "source": [
        "dataframes = pd.read_html(\"https://fdic.gov/bank/individual/failed/banklist.html\")\n",
        "dataframes[0].head()"
      ],
      "execution_count": 17,
      "outputs": [
        {
          "output_type": "execute_result",
          "data": {
            "text/html": [
              "<div>\n",
              "<style scoped>\n",
              "    .dataframe tbody tr th:only-of-type {\n",
              "        vertical-align: middle;\n",
              "    }\n",
              "\n",
              "    .dataframe tbody tr th {\n",
              "        vertical-align: top;\n",
              "    }\n",
              "\n",
              "    .dataframe thead th {\n",
              "        text-align: right;\n",
              "    }\n",
              "</style>\n",
              "<table border=\"1\" class=\"dataframe\">\n",
              "  <thead>\n",
              "    <tr style=\"text-align: right;\">\n",
              "      <th></th>\n",
              "      <th>Bank Name</th>\n",
              "      <th>City</th>\n",
              "      <th>ST</th>\n",
              "      <th>CERT</th>\n",
              "      <th>Acquiring Institution</th>\n",
              "      <th>Closing Date</th>\n",
              "    </tr>\n",
              "  </thead>\n",
              "  <tbody>\n",
              "    <tr>\n",
              "      <th>0</th>\n",
              "      <td>The First State Bank</td>\n",
              "      <td>Barboursville</td>\n",
              "      <td>WV</td>\n",
              "      <td>14361</td>\n",
              "      <td>MVB Bank, Inc.</td>\n",
              "      <td>April 3, 2020</td>\n",
              "    </tr>\n",
              "    <tr>\n",
              "      <th>1</th>\n",
              "      <td>Ericson State Bank</td>\n",
              "      <td>Ericson</td>\n",
              "      <td>NE</td>\n",
              "      <td>18265</td>\n",
              "      <td>Farmers and Merchants Bank</td>\n",
              "      <td>February 14, 2020</td>\n",
              "    </tr>\n",
              "    <tr>\n",
              "      <th>2</th>\n",
              "      <td>City National Bank of New Jersey</td>\n",
              "      <td>Newark</td>\n",
              "      <td>NJ</td>\n",
              "      <td>21111</td>\n",
              "      <td>Industrial Bank</td>\n",
              "      <td>November 1, 2019</td>\n",
              "    </tr>\n",
              "    <tr>\n",
              "      <th>3</th>\n",
              "      <td>Resolute Bank</td>\n",
              "      <td>Maumee</td>\n",
              "      <td>OH</td>\n",
              "      <td>58317</td>\n",
              "      <td>Buckeye State Bank</td>\n",
              "      <td>October 25, 2019</td>\n",
              "    </tr>\n",
              "    <tr>\n",
              "      <th>4</th>\n",
              "      <td>Louisa Community Bank</td>\n",
              "      <td>Louisa</td>\n",
              "      <td>KY</td>\n",
              "      <td>58112</td>\n",
              "      <td>Kentucky Farmers Bank Corporation</td>\n",
              "      <td>October 25, 2019</td>\n",
              "    </tr>\n",
              "  </tbody>\n",
              "</table>\n",
              "</div>"
            ],
            "text/plain": [
              "                          Bank Name  ...       Closing Date\n",
              "0              The First State Bank  ...      April 3, 2020\n",
              "1                Ericson State Bank  ...  February 14, 2020\n",
              "2  City National Bank of New Jersey  ...   November 1, 2019\n",
              "3                     Resolute Bank  ...   October 25, 2019\n",
              "4             Louisa Community Bank  ...   October 25, 2019\n",
              "\n",
              "[5 rows x 6 columns]"
            ]
          },
          "metadata": {
            "tags": []
          },
          "execution_count": 17
        }
      ]
    },
    {
      "cell_type": "markdown",
      "metadata": {
        "id": "0Ios9KZvDidH",
        "colab_type": "text"
      },
      "source": [
        "## Data Writing\n",
        "- Once we have a DataFrame in memory, we could write it to disk with one of the following functions:\n",
        "  - `dataframe.to_csv(\"file.csv\")`\n",
        "  - `dataframe.to_excel(\"file.xlsx\")`\n",
        "  - `dataframe.to_json(\"file.json\")`"
      ]
    },
    {
      "cell_type": "code",
      "metadata": {
        "id": "i44LMX3dD-9Y",
        "colab_type": "code",
        "colab": {}
      },
      "source": [
        "xlsx = pd.ExcelWriter(\"file.xlsx\")\n",
        "dataframe.to_excel(xlsx)\n",
        "xlsx.save()"
      ],
      "execution_count": 0,
      "outputs": []
    },
    {
      "cell_type": "markdown",
      "metadata": {
        "id": "ZxWMUj2JESyC",
        "colab_type": "text"
      },
      "source": [
        "## Reading data from a database\n",
        "The sqlalchemy package allows you to connect to a database and load DataFrames from tables or queries"
      ]
    },
    {
      "cell_type": "code",
      "metadata": {
        "id": "UuUJx7vkEe5W",
        "colab_type": "code",
        "colab": {}
      },
      "source": [
        "from sqlalchemy import create_engine \n",
        "# engine = create_engine(\"sqlite:///:memory:\")\n",
        "# pd.read_sql(\"SELECT * FROM tabla;\", engine)\n",
        "# pd_read_sql_table(\"table\", engine)"
      ],
      "execution_count": 0,
      "outputs": []
    },
    {
      "cell_type": "markdown",
      "metadata": {
        "id": "jZSmduZ1EsCI",
        "colab_type": "text"
      },
      "source": [
        "# Exercise 23\n",
        "- Load the information from the following url into a Dataframe called \"df1\"\n",
        "https://raw.githubusercontent.com/justmarkham/DAT8/master/data/chipotle.tsv\n",
        "\n",
        "\n",
        "- Load the information from the following url into a Dataframe called \"df2\"\n",
        "https://raw.githubusercontent.com/justmarkham/DAT8/master/data/u.user\n",
        "  - The column 'user_id' must be the index of the DataFrame"
      ]
    },
    {
      "cell_type": "code",
      "metadata": {
        "id": "rVmbS97YIujK",
        "colab_type": "code",
        "outputId": "37bf1c48-b51a-477d-83f0-bfccfd7cc375",
        "colab": {
          "base_uri": "https://localhost:8080/",
          "height": 0
        }
      },
      "source": [
        "df1 = pd.read_table(\"https://raw.githubusercontent.com/justmarkham/DAT8/master/data/chipotle.tsv\",\n",
        "                    )\n",
        "\n",
        "df1.head()"
      ],
      "execution_count": 20,
      "outputs": [
        {
          "output_type": "execute_result",
          "data": {
            "text/html": [
              "<div>\n",
              "<style scoped>\n",
              "    .dataframe tbody tr th:only-of-type {\n",
              "        vertical-align: middle;\n",
              "    }\n",
              "\n",
              "    .dataframe tbody tr th {\n",
              "        vertical-align: top;\n",
              "    }\n",
              "\n",
              "    .dataframe thead th {\n",
              "        text-align: right;\n",
              "    }\n",
              "</style>\n",
              "<table border=\"1\" class=\"dataframe\">\n",
              "  <thead>\n",
              "    <tr style=\"text-align: right;\">\n",
              "      <th></th>\n",
              "      <th>order_id</th>\n",
              "      <th>quantity</th>\n",
              "      <th>item_name</th>\n",
              "      <th>choice_description</th>\n",
              "      <th>item_price</th>\n",
              "    </tr>\n",
              "  </thead>\n",
              "  <tbody>\n",
              "    <tr>\n",
              "      <th>0</th>\n",
              "      <td>1</td>\n",
              "      <td>1</td>\n",
              "      <td>Chips and Fresh Tomato Salsa</td>\n",
              "      <td>NaN</td>\n",
              "      <td>$2.39</td>\n",
              "    </tr>\n",
              "    <tr>\n",
              "      <th>1</th>\n",
              "      <td>1</td>\n",
              "      <td>1</td>\n",
              "      <td>Izze</td>\n",
              "      <td>[Clementine]</td>\n",
              "      <td>$3.39</td>\n",
              "    </tr>\n",
              "    <tr>\n",
              "      <th>2</th>\n",
              "      <td>1</td>\n",
              "      <td>1</td>\n",
              "      <td>Nantucket Nectar</td>\n",
              "      <td>[Apple]</td>\n",
              "      <td>$3.39</td>\n",
              "    </tr>\n",
              "    <tr>\n",
              "      <th>3</th>\n",
              "      <td>1</td>\n",
              "      <td>1</td>\n",
              "      <td>Chips and Tomatillo-Green Chili Salsa</td>\n",
              "      <td>NaN</td>\n",
              "      <td>$2.39</td>\n",
              "    </tr>\n",
              "    <tr>\n",
              "      <th>4</th>\n",
              "      <td>2</td>\n",
              "      <td>2</td>\n",
              "      <td>Chicken Bowl</td>\n",
              "      <td>[Tomatillo-Red Chili Salsa (Hot), [Black Beans...</td>\n",
              "      <td>$16.98</td>\n",
              "    </tr>\n",
              "  </tbody>\n",
              "</table>\n",
              "</div>"
            ],
            "text/plain": [
              "   order_id  ...  item_price\n",
              "0         1  ...      $2.39 \n",
              "1         1  ...      $3.39 \n",
              "2         1  ...      $3.39 \n",
              "3         1  ...      $2.39 \n",
              "4         2  ...     $16.98 \n",
              "\n",
              "[5 rows x 5 columns]"
            ]
          },
          "metadata": {
            "tags": []
          },
          "execution_count": 20
        }
      ]
    },
    {
      "cell_type": "code",
      "metadata": {
        "id": "T9Zwciu4Gab6",
        "colab_type": "code",
        "outputId": "b29d18d7-bc4e-4357-ceaa-846fee25577f",
        "colab": {
          "base_uri": "https://localhost:8080/",
          "height": 0
        }
      },
      "source": [
        "df2 = pd.read_table(\"https://raw.githubusercontent.com/justmarkham/DAT8/master/data/u.user\", \n",
        "              sep =\"|\", \n",
        "              #header=None, \n",
        "              index_col= \"user_id\" \n",
        "              )\n",
        "\n",
        "df2.head()"
      ],
      "execution_count": 21,
      "outputs": [
        {
          "output_type": "execute_result",
          "data": {
            "text/html": [
              "<div>\n",
              "<style scoped>\n",
              "    .dataframe tbody tr th:only-of-type {\n",
              "        vertical-align: middle;\n",
              "    }\n",
              "\n",
              "    .dataframe tbody tr th {\n",
              "        vertical-align: top;\n",
              "    }\n",
              "\n",
              "    .dataframe thead th {\n",
              "        text-align: right;\n",
              "    }\n",
              "</style>\n",
              "<table border=\"1\" class=\"dataframe\">\n",
              "  <thead>\n",
              "    <tr style=\"text-align: right;\">\n",
              "      <th></th>\n",
              "      <th>age</th>\n",
              "      <th>gender</th>\n",
              "      <th>occupation</th>\n",
              "      <th>zip_code</th>\n",
              "    </tr>\n",
              "    <tr>\n",
              "      <th>user_id</th>\n",
              "      <th></th>\n",
              "      <th></th>\n",
              "      <th></th>\n",
              "      <th></th>\n",
              "    </tr>\n",
              "  </thead>\n",
              "  <tbody>\n",
              "    <tr>\n",
              "      <th>1</th>\n",
              "      <td>24</td>\n",
              "      <td>M</td>\n",
              "      <td>technician</td>\n",
              "      <td>85711</td>\n",
              "    </tr>\n",
              "    <tr>\n",
              "      <th>2</th>\n",
              "      <td>53</td>\n",
              "      <td>F</td>\n",
              "      <td>other</td>\n",
              "      <td>94043</td>\n",
              "    </tr>\n",
              "    <tr>\n",
              "      <th>3</th>\n",
              "      <td>23</td>\n",
              "      <td>M</td>\n",
              "      <td>writer</td>\n",
              "      <td>32067</td>\n",
              "    </tr>\n",
              "    <tr>\n",
              "      <th>4</th>\n",
              "      <td>24</td>\n",
              "      <td>M</td>\n",
              "      <td>technician</td>\n",
              "      <td>43537</td>\n",
              "    </tr>\n",
              "    <tr>\n",
              "      <th>5</th>\n",
              "      <td>33</td>\n",
              "      <td>F</td>\n",
              "      <td>other</td>\n",
              "      <td>15213</td>\n",
              "    </tr>\n",
              "  </tbody>\n",
              "</table>\n",
              "</div>"
            ],
            "text/plain": [
              "         age gender  occupation zip_code\n",
              "user_id                                 \n",
              "1         24      M  technician    85711\n",
              "2         53      F       other    94043\n",
              "3         23      M      writer    32067\n",
              "4         24      M  technician    43537\n",
              "5         33      F       other    15213"
            ]
          },
          "metadata": {
            "tags": []
          },
          "execution_count": 21
        }
      ]
    },
    {
      "cell_type": "markdown",
      "metadata": {
        "id": "A-0AjoEyHf3_",
        "colab_type": "text"
      },
      "source": [
        "# Exercise 24\n",
        "- Write the dataframes from the previous exercise in an excel called \"Data.xlsx\"\n",
        "  - df1' save it on a sheet called 'chipotle' (without the index)\n",
        "  - 'df2' on another sheet called 'user'\n",
        "- Recover in a different DataFrame the information from the 'user' sheet of the excel file \"Data.xlsx\"."
      ]
    },
    {
      "cell_type": "code",
      "metadata": {
        "id": "VQF-QLLcK2Yh",
        "colab_type": "code",
        "colab": {}
      },
      "source": [
        ""
      ],
      "execution_count": 0,
      "outputs": []
    },
    {
      "cell_type": "code",
      "metadata": {
        "id": "iuIrgbq-LbSb",
        "colab_type": "code",
        "colab": {}
      },
      "source": [
        ""
      ],
      "execution_count": 0,
      "outputs": []
    },
    {
      "cell_type": "code",
      "metadata": {
        "id": "OBwc0hoHLbHd",
        "colab_type": "code",
        "colab": {}
      },
      "source": [
        ""
      ],
      "execution_count": 0,
      "outputs": []
    },
    {
      "cell_type": "markdown",
      "metadata": {
        "id": "qfHA5OzULb5f",
        "colab_type": "text"
      },
      "source": [
        "# Exercise 25\n",
        "- Read the data from the following web service in a DataFrame \n",
        "https://sedeaplicaciones.minetur.gob.es/ServiciosRESTCarburantes/PreciosCarburantes/EstacionesTerrestres/\n",
        "\n"
      ]
    },
    {
      "cell_type": "code",
      "metadata": {
        "id": "_OwW9CfsL61A",
        "colab_type": "code",
        "colab": {}
      },
      "source": [
        ""
      ],
      "execution_count": 0,
      "outputs": []
    },
    {
      "cell_type": "markdown",
      "metadata": {
        "id": "ANTixzyBZjEU",
        "colab_type": "text"
      },
      "source": [
        "# Exploring a DataFrame\n",
        "- Pandas offers several functions to explore a Dataframe without printing all the content\n",
        "-The `dataframe.shape` attribute shows the dimensions (number of rows and number of columns)"
      ]
    },
    {
      "cell_type": "code",
      "metadata": {
        "id": "A2uLXUCYZlv-",
        "colab_type": "code",
        "outputId": "e92d96f0-26cd-45b9-8a6f-57c68b85d2e8",
        "colab": {
          "base_uri": "https://localhost:8080/",
          "height": 0
        }
      },
      "source": [
        "import pandas as pd\n",
        "import os \n",
        "\n",
        "os.chdir(\"/content/sample_data\")\n",
        "\n",
        "dataframe = pd.read_csv(\"california_housing_test.csv\")\n",
        "dataframe.shape"
      ],
      "execution_count": 22,
      "outputs": [
        {
          "output_type": "execute_result",
          "data": {
            "text/plain": [
              "(3000, 9)"
            ]
          },
          "metadata": {
            "tags": []
          },
          "execution_count": 22
        }
      ]
    },
    {
      "cell_type": "markdown",
      "metadata": {
        "id": "bKguoxq6Z4df",
        "colab_type": "text"
      },
      "source": [
        "## dataframe.columns & dataframe.index\n",
        "- The `dataframe.columns` attribute shows the columns\n",
        "- The `dataframe.index` attribute shows the indexes "
      ]
    },
    {
      "cell_type": "code",
      "metadata": {
        "id": "urYJoj1LazZj",
        "colab_type": "code",
        "outputId": "7cb44738-d70b-4072-d02f-37bac8edf63e",
        "colab": {
          "base_uri": "https://localhost:8080/",
          "height": 0
        }
      },
      "source": [
        "dataframe.columns"
      ],
      "execution_count": 23,
      "outputs": [
        {
          "output_type": "execute_result",
          "data": {
            "text/plain": [
              "Index(['longitude', 'latitude', 'housing_median_age', 'total_rooms',\n",
              "       'total_bedrooms', 'population', 'households', 'median_income',\n",
              "       'median_house_value'],\n",
              "      dtype='object')"
            ]
          },
          "metadata": {
            "tags": []
          },
          "execution_count": 23
        }
      ]
    },
    {
      "cell_type": "code",
      "metadata": {
        "id": "UsmWtDuCa8gX",
        "colab_type": "code",
        "outputId": "6473cf26-db95-4e12-9ece-18bdd0a78c38",
        "colab": {
          "base_uri": "https://localhost:8080/",
          "height": 0
        }
      },
      "source": [
        "dataframe.index"
      ],
      "execution_count": 24,
      "outputs": [
        {
          "output_type": "execute_result",
          "data": {
            "text/plain": [
              "RangeIndex(start=0, stop=3000, step=1)"
            ]
          },
          "metadata": {
            "tags": []
          },
          "execution_count": 24
        }
      ]
    },
    {
      "cell_type": "markdown",
      "metadata": {
        "id": "mUrSzqtXa90r",
        "colab_type": "text"
      },
      "source": [
        "## `df.head()`\n",
        "- df.head() shows the first rows of the DataFrame (5 by default)"
      ]
    },
    {
      "cell_type": "code",
      "metadata": {
        "id": "DdiocopQbJGb",
        "colab_type": "code",
        "outputId": "de22fd82-c6ee-472c-b060-3551b927356e",
        "colab": {
          "base_uri": "https://localhost:8080/",
          "height": 0
        }
      },
      "source": [
        "dataframe.head()"
      ],
      "execution_count": 25,
      "outputs": [
        {
          "output_type": "execute_result",
          "data": {
            "text/html": [
              "<div>\n",
              "<style scoped>\n",
              "    .dataframe tbody tr th:only-of-type {\n",
              "        vertical-align: middle;\n",
              "    }\n",
              "\n",
              "    .dataframe tbody tr th {\n",
              "        vertical-align: top;\n",
              "    }\n",
              "\n",
              "    .dataframe thead th {\n",
              "        text-align: right;\n",
              "    }\n",
              "</style>\n",
              "<table border=\"1\" class=\"dataframe\">\n",
              "  <thead>\n",
              "    <tr style=\"text-align: right;\">\n",
              "      <th></th>\n",
              "      <th>longitude</th>\n",
              "      <th>latitude</th>\n",
              "      <th>housing_median_age</th>\n",
              "      <th>total_rooms</th>\n",
              "      <th>total_bedrooms</th>\n",
              "      <th>population</th>\n",
              "      <th>households</th>\n",
              "      <th>median_income</th>\n",
              "      <th>median_house_value</th>\n",
              "    </tr>\n",
              "  </thead>\n",
              "  <tbody>\n",
              "    <tr>\n",
              "      <th>0</th>\n",
              "      <td>-122.05</td>\n",
              "      <td>37.37</td>\n",
              "      <td>27.0</td>\n",
              "      <td>3885.0</td>\n",
              "      <td>661.0</td>\n",
              "      <td>1537.0</td>\n",
              "      <td>606.0</td>\n",
              "      <td>6.6085</td>\n",
              "      <td>344700.0</td>\n",
              "    </tr>\n",
              "    <tr>\n",
              "      <th>1</th>\n",
              "      <td>-118.30</td>\n",
              "      <td>34.26</td>\n",
              "      <td>43.0</td>\n",
              "      <td>1510.0</td>\n",
              "      <td>310.0</td>\n",
              "      <td>809.0</td>\n",
              "      <td>277.0</td>\n",
              "      <td>3.5990</td>\n",
              "      <td>176500.0</td>\n",
              "    </tr>\n",
              "    <tr>\n",
              "      <th>2</th>\n",
              "      <td>-117.81</td>\n",
              "      <td>33.78</td>\n",
              "      <td>27.0</td>\n",
              "      <td>3589.0</td>\n",
              "      <td>507.0</td>\n",
              "      <td>1484.0</td>\n",
              "      <td>495.0</td>\n",
              "      <td>5.7934</td>\n",
              "      <td>270500.0</td>\n",
              "    </tr>\n",
              "    <tr>\n",
              "      <th>3</th>\n",
              "      <td>-118.36</td>\n",
              "      <td>33.82</td>\n",
              "      <td>28.0</td>\n",
              "      <td>67.0</td>\n",
              "      <td>15.0</td>\n",
              "      <td>49.0</td>\n",
              "      <td>11.0</td>\n",
              "      <td>6.1359</td>\n",
              "      <td>330000.0</td>\n",
              "    </tr>\n",
              "    <tr>\n",
              "      <th>4</th>\n",
              "      <td>-119.67</td>\n",
              "      <td>36.33</td>\n",
              "      <td>19.0</td>\n",
              "      <td>1241.0</td>\n",
              "      <td>244.0</td>\n",
              "      <td>850.0</td>\n",
              "      <td>237.0</td>\n",
              "      <td>2.9375</td>\n",
              "      <td>81700.0</td>\n",
              "    </tr>\n",
              "  </tbody>\n",
              "</table>\n",
              "</div>"
            ],
            "text/plain": [
              "   longitude  latitude  ...  median_income  median_house_value\n",
              "0    -122.05     37.37  ...         6.6085            344700.0\n",
              "1    -118.30     34.26  ...         3.5990            176500.0\n",
              "2    -117.81     33.78  ...         5.7934            270500.0\n",
              "3    -118.36     33.82  ...         6.1359            330000.0\n",
              "4    -119.67     36.33  ...         2.9375             81700.0\n",
              "\n",
              "[5 rows x 9 columns]"
            ]
          },
          "metadata": {
            "tags": []
          },
          "execution_count": 25
        }
      ]
    },
    {
      "cell_type": "markdown",
      "metadata": {
        "id": "ll5hqGFpbK6b",
        "colab_type": "text"
      },
      "source": [
        "## `df.tail()`\n",
        "\n",
        "- df.tail() shows the last rows of the DataFrame"
      ]
    },
    {
      "cell_type": "code",
      "metadata": {
        "id": "DttMHODbbS37",
        "colab_type": "code",
        "outputId": "02545a66-f0cd-423a-f4b9-91b841a23dfb",
        "colab": {
          "base_uri": "https://localhost:8080/",
          "height": 0
        }
      },
      "source": [
        "dataframe.tail()"
      ],
      "execution_count": 26,
      "outputs": [
        {
          "output_type": "execute_result",
          "data": {
            "text/html": [
              "<div>\n",
              "<style scoped>\n",
              "    .dataframe tbody tr th:only-of-type {\n",
              "        vertical-align: middle;\n",
              "    }\n",
              "\n",
              "    .dataframe tbody tr th {\n",
              "        vertical-align: top;\n",
              "    }\n",
              "\n",
              "    .dataframe thead th {\n",
              "        text-align: right;\n",
              "    }\n",
              "</style>\n",
              "<table border=\"1\" class=\"dataframe\">\n",
              "  <thead>\n",
              "    <tr style=\"text-align: right;\">\n",
              "      <th></th>\n",
              "      <th>longitude</th>\n",
              "      <th>latitude</th>\n",
              "      <th>housing_median_age</th>\n",
              "      <th>total_rooms</th>\n",
              "      <th>total_bedrooms</th>\n",
              "      <th>population</th>\n",
              "      <th>households</th>\n",
              "      <th>median_income</th>\n",
              "      <th>median_house_value</th>\n",
              "    </tr>\n",
              "  </thead>\n",
              "  <tbody>\n",
              "    <tr>\n",
              "      <th>2995</th>\n",
              "      <td>-119.86</td>\n",
              "      <td>34.42</td>\n",
              "      <td>23.0</td>\n",
              "      <td>1450.0</td>\n",
              "      <td>642.0</td>\n",
              "      <td>1258.0</td>\n",
              "      <td>607.0</td>\n",
              "      <td>1.1790</td>\n",
              "      <td>225000.0</td>\n",
              "    </tr>\n",
              "    <tr>\n",
              "      <th>2996</th>\n",
              "      <td>-118.14</td>\n",
              "      <td>34.06</td>\n",
              "      <td>27.0</td>\n",
              "      <td>5257.0</td>\n",
              "      <td>1082.0</td>\n",
              "      <td>3496.0</td>\n",
              "      <td>1036.0</td>\n",
              "      <td>3.3906</td>\n",
              "      <td>237200.0</td>\n",
              "    </tr>\n",
              "    <tr>\n",
              "      <th>2997</th>\n",
              "      <td>-119.70</td>\n",
              "      <td>36.30</td>\n",
              "      <td>10.0</td>\n",
              "      <td>956.0</td>\n",
              "      <td>201.0</td>\n",
              "      <td>693.0</td>\n",
              "      <td>220.0</td>\n",
              "      <td>2.2895</td>\n",
              "      <td>62000.0</td>\n",
              "    </tr>\n",
              "    <tr>\n",
              "      <th>2998</th>\n",
              "      <td>-117.12</td>\n",
              "      <td>34.10</td>\n",
              "      <td>40.0</td>\n",
              "      <td>96.0</td>\n",
              "      <td>14.0</td>\n",
              "      <td>46.0</td>\n",
              "      <td>14.0</td>\n",
              "      <td>3.2708</td>\n",
              "      <td>162500.0</td>\n",
              "    </tr>\n",
              "    <tr>\n",
              "      <th>2999</th>\n",
              "      <td>-119.63</td>\n",
              "      <td>34.42</td>\n",
              "      <td>42.0</td>\n",
              "      <td>1765.0</td>\n",
              "      <td>263.0</td>\n",
              "      <td>753.0</td>\n",
              "      <td>260.0</td>\n",
              "      <td>8.5608</td>\n",
              "      <td>500001.0</td>\n",
              "    </tr>\n",
              "  </tbody>\n",
              "</table>\n",
              "</div>"
            ],
            "text/plain": [
              "      longitude  latitude  ...  median_income  median_house_value\n",
              "2995    -119.86     34.42  ...         1.1790            225000.0\n",
              "2996    -118.14     34.06  ...         3.3906            237200.0\n",
              "2997    -119.70     36.30  ...         2.2895             62000.0\n",
              "2998    -117.12     34.10  ...         3.2708            162500.0\n",
              "2999    -119.63     34.42  ...         8.5608            500001.0\n",
              "\n",
              "[5 rows x 9 columns]"
            ]
          },
          "metadata": {
            "tags": []
          },
          "execution_count": 26
        }
      ]
    },
    {
      "cell_type": "markdown",
      "metadata": {
        "id": "ILdFRoZAbUMM",
        "colab_type": "text"
      },
      "source": [
        "## `df.sample()`\n",
        "\n",
        "\n",
        "- df.sample() shows an example of the dataframe"
      ]
    },
    {
      "cell_type": "code",
      "metadata": {
        "id": "whvuq9ZebdMt",
        "colab_type": "code",
        "outputId": "ea115a74-5a53-4eb4-b963-7f9af65542d4",
        "colab": {
          "base_uri": "https://localhost:8080/",
          "height": 0
        }
      },
      "source": [
        "dataframe.sample(5)"
      ],
      "execution_count": 27,
      "outputs": [
        {
          "output_type": "execute_result",
          "data": {
            "text/html": [
              "<div>\n",
              "<style scoped>\n",
              "    .dataframe tbody tr th:only-of-type {\n",
              "        vertical-align: middle;\n",
              "    }\n",
              "\n",
              "    .dataframe tbody tr th {\n",
              "        vertical-align: top;\n",
              "    }\n",
              "\n",
              "    .dataframe thead th {\n",
              "        text-align: right;\n",
              "    }\n",
              "</style>\n",
              "<table border=\"1\" class=\"dataframe\">\n",
              "  <thead>\n",
              "    <tr style=\"text-align: right;\">\n",
              "      <th></th>\n",
              "      <th>longitude</th>\n",
              "      <th>latitude</th>\n",
              "      <th>housing_median_age</th>\n",
              "      <th>total_rooms</th>\n",
              "      <th>total_bedrooms</th>\n",
              "      <th>population</th>\n",
              "      <th>households</th>\n",
              "      <th>median_income</th>\n",
              "      <th>median_house_value</th>\n",
              "    </tr>\n",
              "  </thead>\n",
              "  <tbody>\n",
              "    <tr>\n",
              "      <th>874</th>\n",
              "      <td>-122.37</td>\n",
              "      <td>38.33</td>\n",
              "      <td>29.0</td>\n",
              "      <td>1868.0</td>\n",
              "      <td>291.0</td>\n",
              "      <td>764.0</td>\n",
              "      <td>284.0</td>\n",
              "      <td>4.8250</td>\n",
              "      <td>195100.0</td>\n",
              "    </tr>\n",
              "    <tr>\n",
              "      <th>1372</th>\n",
              "      <td>-118.23</td>\n",
              "      <td>34.21</td>\n",
              "      <td>29.0</td>\n",
              "      <td>2584.0</td>\n",
              "      <td>608.0</td>\n",
              "      <td>1217.0</td>\n",
              "      <td>568.0</td>\n",
              "      <td>3.3287</td>\n",
              "      <td>273400.0</td>\n",
              "    </tr>\n",
              "    <tr>\n",
              "      <th>424</th>\n",
              "      <td>-118.21</td>\n",
              "      <td>33.96</td>\n",
              "      <td>48.0</td>\n",
              "      <td>284.0</td>\n",
              "      <td>104.0</td>\n",
              "      <td>422.0</td>\n",
              "      <td>119.0</td>\n",
              "      <td>1.2826</td>\n",
              "      <td>145500.0</td>\n",
              "    </tr>\n",
              "    <tr>\n",
              "      <th>438</th>\n",
              "      <td>-119.11</td>\n",
              "      <td>35.39</td>\n",
              "      <td>22.0</td>\n",
              "      <td>984.0</td>\n",
              "      <td>176.0</td>\n",
              "      <td>451.0</td>\n",
              "      <td>170.0</td>\n",
              "      <td>3.2500</td>\n",
              "      <td>88900.0</td>\n",
              "    </tr>\n",
              "    <tr>\n",
              "      <th>2771</th>\n",
              "      <td>-121.99</td>\n",
              "      <td>37.83</td>\n",
              "      <td>16.0</td>\n",
              "      <td>2939.0</td>\n",
              "      <td>380.0</td>\n",
              "      <td>1177.0</td>\n",
              "      <td>396.0</td>\n",
              "      <td>8.0839</td>\n",
              "      <td>372000.0</td>\n",
              "    </tr>\n",
              "  </tbody>\n",
              "</table>\n",
              "</div>"
            ],
            "text/plain": [
              "      longitude  latitude  ...  median_income  median_house_value\n",
              "874     -122.37     38.33  ...         4.8250            195100.0\n",
              "1372    -118.23     34.21  ...         3.3287            273400.0\n",
              "424     -118.21     33.96  ...         1.2826            145500.0\n",
              "438     -119.11     35.39  ...         3.2500             88900.0\n",
              "2771    -121.99     37.83  ...         8.0839            372000.0\n",
              "\n",
              "[5 rows x 9 columns]"
            ]
          },
          "metadata": {
            "tags": []
          },
          "execution_count": 27
        }
      ]
    },
    {
      "cell_type": "markdown",
      "metadata": {
        "id": "oOAkUSE8bmGk",
        "colab_type": "text"
      },
      "source": [
        "##`df.info()`\n",
        "- shows summary information about the\n",
        "DataFrame"
      ]
    },
    {
      "cell_type": "code",
      "metadata": {
        "id": "m9sIW0nebt4h",
        "colab_type": "code",
        "outputId": "8845c4f1-6ea1-4ea6-e561-2872490f6bd8",
        "colab": {
          "base_uri": "https://localhost:8080/",
          "height": 0
        }
      },
      "source": [
        "dataframe.info()"
      ],
      "execution_count": 28,
      "outputs": [
        {
          "output_type": "stream",
          "text": [
            "<class 'pandas.core.frame.DataFrame'>\n",
            "RangeIndex: 3000 entries, 0 to 2999\n",
            "Data columns (total 9 columns):\n",
            " #   Column              Non-Null Count  Dtype  \n",
            "---  ------              --------------  -----  \n",
            " 0   longitude           3000 non-null   float64\n",
            " 1   latitude            3000 non-null   float64\n",
            " 2   housing_median_age  3000 non-null   float64\n",
            " 3   total_rooms         3000 non-null   float64\n",
            " 4   total_bedrooms      3000 non-null   float64\n",
            " 5   population          3000 non-null   float64\n",
            " 6   households          3000 non-null   float64\n",
            " 7   median_income       3000 non-null   float64\n",
            " 8   median_house_value  3000 non-null   float64\n",
            "dtypes: float64(9)\n",
            "memory usage: 211.1 KB\n"
          ],
          "name": "stdout"
        }
      ]
    },
    {
      "cell_type": "markdown",
      "metadata": {
        "id": "rggG0n33bx-z",
        "colab_type": "text"
      },
      "source": [
        "## `df.count()`\n",
        "- returns an array with the number of non-null values fro each of the columns"
      ]
    },
    {
      "cell_type": "code",
      "metadata": {
        "id": "hy7iZrcNcAE0",
        "colab_type": "code",
        "outputId": "9eaa382f-95f7-4696-9ab2-6a7efd9fa3b6",
        "colab": {
          "base_uri": "https://localhost:8080/",
          "height": 0
        }
      },
      "source": [
        "dataframe.count()"
      ],
      "execution_count": 29,
      "outputs": [
        {
          "output_type": "execute_result",
          "data": {
            "text/plain": [
              "longitude             3000\n",
              "latitude              3000\n",
              "housing_median_age    3000\n",
              "total_rooms           3000\n",
              "total_bedrooms        3000\n",
              "population            3000\n",
              "households            3000\n",
              "median_income         3000\n",
              "median_house_value    3000\n",
              "dtype: int64"
            ]
          },
          "metadata": {
            "tags": []
          },
          "execution_count": 29
        }
      ]
    },
    {
      "cell_type": "code",
      "metadata": {
        "id": "imUU82vCcBST",
        "colab_type": "code",
        "outputId": "078ab801-0094-4b9c-802a-66c94a91a240",
        "colab": {
          "base_uri": "https://localhost:8080/",
          "height": 0
        }
      },
      "source": [
        "dataframe.count(axis =1)"
      ],
      "execution_count": 30,
      "outputs": [
        {
          "output_type": "execute_result",
          "data": {
            "text/plain": [
              "0       9\n",
              "1       9\n",
              "2       9\n",
              "3       9\n",
              "4       9\n",
              "       ..\n",
              "2995    9\n",
              "2996    9\n",
              "2997    9\n",
              "2998    9\n",
              "2999    9\n",
              "Length: 3000, dtype: int64"
            ]
          },
          "metadata": {
            "tags": []
          },
          "execution_count": 30
        }
      ]
    },
    {
      "cell_type": "markdown",
      "metadata": {
        "id": "LgJ6UKZycC2b",
        "colab_type": "text"
      },
      "source": [
        "## `df.describe()`\n",
        "- returns a DataFrame with statistical information on each of the numerical columns"
      ]
    },
    {
      "cell_type": "code",
      "metadata": {
        "id": "0w7MHtUNcOAj",
        "colab_type": "code",
        "outputId": "8c17c65c-43d5-478a-d078-8b6cdd957e46",
        "colab": {
          "base_uri": "https://localhost:8080/",
          "height": 0
        }
      },
      "source": [
        "dataframe.describe()"
      ],
      "execution_count": 31,
      "outputs": [
        {
          "output_type": "execute_result",
          "data": {
            "text/html": [
              "<div>\n",
              "<style scoped>\n",
              "    .dataframe tbody tr th:only-of-type {\n",
              "        vertical-align: middle;\n",
              "    }\n",
              "\n",
              "    .dataframe tbody tr th {\n",
              "        vertical-align: top;\n",
              "    }\n",
              "\n",
              "    .dataframe thead th {\n",
              "        text-align: right;\n",
              "    }\n",
              "</style>\n",
              "<table border=\"1\" class=\"dataframe\">\n",
              "  <thead>\n",
              "    <tr style=\"text-align: right;\">\n",
              "      <th></th>\n",
              "      <th>longitude</th>\n",
              "      <th>latitude</th>\n",
              "      <th>housing_median_age</th>\n",
              "      <th>total_rooms</th>\n",
              "      <th>total_bedrooms</th>\n",
              "      <th>population</th>\n",
              "      <th>households</th>\n",
              "      <th>median_income</th>\n",
              "      <th>median_house_value</th>\n",
              "    </tr>\n",
              "  </thead>\n",
              "  <tbody>\n",
              "    <tr>\n",
              "      <th>count</th>\n",
              "      <td>3000.000000</td>\n",
              "      <td>3000.00000</td>\n",
              "      <td>3000.000000</td>\n",
              "      <td>3000.000000</td>\n",
              "      <td>3000.000000</td>\n",
              "      <td>3000.000000</td>\n",
              "      <td>3000.00000</td>\n",
              "      <td>3000.000000</td>\n",
              "      <td>3000.00000</td>\n",
              "    </tr>\n",
              "    <tr>\n",
              "      <th>mean</th>\n",
              "      <td>-119.589200</td>\n",
              "      <td>35.63539</td>\n",
              "      <td>28.845333</td>\n",
              "      <td>2599.578667</td>\n",
              "      <td>529.950667</td>\n",
              "      <td>1402.798667</td>\n",
              "      <td>489.91200</td>\n",
              "      <td>3.807272</td>\n",
              "      <td>205846.27500</td>\n",
              "    </tr>\n",
              "    <tr>\n",
              "      <th>std</th>\n",
              "      <td>1.994936</td>\n",
              "      <td>2.12967</td>\n",
              "      <td>12.555396</td>\n",
              "      <td>2155.593332</td>\n",
              "      <td>415.654368</td>\n",
              "      <td>1030.543012</td>\n",
              "      <td>365.42271</td>\n",
              "      <td>1.854512</td>\n",
              "      <td>113119.68747</td>\n",
              "    </tr>\n",
              "    <tr>\n",
              "      <th>min</th>\n",
              "      <td>-124.180000</td>\n",
              "      <td>32.56000</td>\n",
              "      <td>1.000000</td>\n",
              "      <td>6.000000</td>\n",
              "      <td>2.000000</td>\n",
              "      <td>5.000000</td>\n",
              "      <td>2.00000</td>\n",
              "      <td>0.499900</td>\n",
              "      <td>22500.00000</td>\n",
              "    </tr>\n",
              "    <tr>\n",
              "      <th>25%</th>\n",
              "      <td>-121.810000</td>\n",
              "      <td>33.93000</td>\n",
              "      <td>18.000000</td>\n",
              "      <td>1401.000000</td>\n",
              "      <td>291.000000</td>\n",
              "      <td>780.000000</td>\n",
              "      <td>273.00000</td>\n",
              "      <td>2.544000</td>\n",
              "      <td>121200.00000</td>\n",
              "    </tr>\n",
              "    <tr>\n",
              "      <th>50%</th>\n",
              "      <td>-118.485000</td>\n",
              "      <td>34.27000</td>\n",
              "      <td>29.000000</td>\n",
              "      <td>2106.000000</td>\n",
              "      <td>437.000000</td>\n",
              "      <td>1155.000000</td>\n",
              "      <td>409.50000</td>\n",
              "      <td>3.487150</td>\n",
              "      <td>177650.00000</td>\n",
              "    </tr>\n",
              "    <tr>\n",
              "      <th>75%</th>\n",
              "      <td>-118.020000</td>\n",
              "      <td>37.69000</td>\n",
              "      <td>37.000000</td>\n",
              "      <td>3129.000000</td>\n",
              "      <td>636.000000</td>\n",
              "      <td>1742.750000</td>\n",
              "      <td>597.25000</td>\n",
              "      <td>4.656475</td>\n",
              "      <td>263975.00000</td>\n",
              "    </tr>\n",
              "    <tr>\n",
              "      <th>max</th>\n",
              "      <td>-114.490000</td>\n",
              "      <td>41.92000</td>\n",
              "      <td>52.000000</td>\n",
              "      <td>30450.000000</td>\n",
              "      <td>5419.000000</td>\n",
              "      <td>11935.000000</td>\n",
              "      <td>4930.00000</td>\n",
              "      <td>15.000100</td>\n",
              "      <td>500001.00000</td>\n",
              "    </tr>\n",
              "  </tbody>\n",
              "</table>\n",
              "</div>"
            ],
            "text/plain": [
              "         longitude    latitude  ...  median_income  median_house_value\n",
              "count  3000.000000  3000.00000  ...    3000.000000          3000.00000\n",
              "mean   -119.589200    35.63539  ...       3.807272        205846.27500\n",
              "std       1.994936     2.12967  ...       1.854512        113119.68747\n",
              "min    -124.180000    32.56000  ...       0.499900         22500.00000\n",
              "25%    -121.810000    33.93000  ...       2.544000        121200.00000\n",
              "50%    -118.485000    34.27000  ...       3.487150        177650.00000\n",
              "75%    -118.020000    37.69000  ...       4.656475        263975.00000\n",
              "max    -114.490000    41.92000  ...      15.000100        500001.00000\n",
              "\n",
              "[8 rows x 9 columns]"
            ]
          },
          "metadata": {
            "tags": []
          },
          "execution_count": 31
        }
      ]
    },
    {
      "cell_type": "markdown",
      "metadata": {
        "id": "N7QuR9DocPuy",
        "colab_type": "text"
      },
      "source": [
        "## `df.cov()` \n",
        "- returns a DataFrame with the result of\n",
        "applying the covariance function in each of the\n",
        "numerical columns (all with all)"
      ]
    },
    {
      "cell_type": "code",
      "metadata": {
        "id": "FncccXDGcW6j",
        "colab_type": "code",
        "outputId": "a4593ce5-e563-42cc-b32c-20e83da2789c",
        "colab": {
          "base_uri": "https://localhost:8080/",
          "height": 0
        }
      },
      "source": [
        "dataframe.cov()"
      ],
      "execution_count": 32,
      "outputs": [
        {
          "output_type": "execute_result",
          "data": {
            "text/html": [
              "<div>\n",
              "<style scoped>\n",
              "    .dataframe tbody tr th:only-of-type {\n",
              "        vertical-align: middle;\n",
              "    }\n",
              "\n",
              "    .dataframe tbody tr th {\n",
              "        vertical-align: top;\n",
              "    }\n",
              "\n",
              "    .dataframe thead th {\n",
              "        text-align: right;\n",
              "    }\n",
              "</style>\n",
              "<table border=\"1\" class=\"dataframe\">\n",
              "  <thead>\n",
              "    <tr style=\"text-align: right;\">\n",
              "      <th></th>\n",
              "      <th>longitude</th>\n",
              "      <th>latitude</th>\n",
              "      <th>housing_median_age</th>\n",
              "      <th>total_rooms</th>\n",
              "      <th>total_bedrooms</th>\n",
              "      <th>population</th>\n",
              "      <th>households</th>\n",
              "      <th>median_income</th>\n",
              "      <th>median_house_value</th>\n",
              "    </tr>\n",
              "  </thead>\n",
              "  <tbody>\n",
              "    <tr>\n",
              "      <th>longitude</th>\n",
              "      <td>3.979771</td>\n",
              "      <td>-3.929984</td>\n",
              "      <td>-1.608112</td>\n",
              "      <td>2.144331e+02</td>\n",
              "      <td>5.876508e+01</td>\n",
              "      <td>2.293768e+02</td>\n",
              "      <td>3.722418e+01</td>\n",
              "      <td>-0.069188</td>\n",
              "      <td>-1.143276e+04</td>\n",
              "    </tr>\n",
              "    <tr>\n",
              "      <th>latitude</th>\n",
              "      <td>-3.929984</td>\n",
              "      <td>4.535492</td>\n",
              "      <td>-0.672300</td>\n",
              "      <td>-1.819390e+02</td>\n",
              "      <td>-6.041129e+01</td>\n",
              "      <td>-2.574793e+02</td>\n",
              "      <td>-5.314994e+01</td>\n",
              "      <td>-0.285796</td>\n",
              "      <td>-3.334838e+04</td>\n",
              "    </tr>\n",
              "    <tr>\n",
              "      <th>housing_median_age</th>\n",
              "      <td>-1.608112</td>\n",
              "      <td>-0.672300</td>\n",
              "      <td>157.637958</td>\n",
              "      <td>-9.955608e+03</td>\n",
              "      <td>-1.686447e+03</td>\n",
              "      <td>-3.880217e+03</td>\n",
              "      <td>-1.400132e+03</td>\n",
              "      <td>-3.360256</td>\n",
              "      <td>1.298250e+05</td>\n",
              "    </tr>\n",
              "    <tr>\n",
              "      <th>total_rooms</th>\n",
              "      <td>214.433055</td>\n",
              "      <td>-181.938962</td>\n",
              "      <td>-9955.608036</td>\n",
              "      <td>4.646583e+06</td>\n",
              "      <td>8.402063e+05</td>\n",
              "      <td>1.863485e+06</td>\n",
              "      <td>7.200520e+05</td>\n",
              "      <td>884.457656</td>\n",
              "      <td>3.911853e+07</td>\n",
              "    </tr>\n",
              "    <tr>\n",
              "      <th>total_bedrooms</th>\n",
              "      <td>58.765078</td>\n",
              "      <td>-60.411288</td>\n",
              "      <td>-1686.447113</td>\n",
              "      <td>8.402063e+05</td>\n",
              "      <td>1.727686e+05</td>\n",
              "      <td>3.668332e+05</td>\n",
              "      <td>1.474479e+05</td>\n",
              "      <td>18.519657</td>\n",
              "      <td>3.868661e+06</td>\n",
              "    </tr>\n",
              "    <tr>\n",
              "      <th>population</th>\n",
              "      <td>229.376803</td>\n",
              "      <td>-257.479345</td>\n",
              "      <td>-3880.217212</td>\n",
              "      <td>1.863485e+06</td>\n",
              "      <td>3.668332e+05</td>\n",
              "      <td>1.062019e+06</td>\n",
              "      <td>3.372421e+05</td>\n",
              "      <td>61.845972</td>\n",
              "      <td>-1.389295e+05</td>\n",
              "    </tr>\n",
              "    <tr>\n",
              "      <th>households</th>\n",
              "      <td>37.224178</td>\n",
              "      <td>-53.149936</td>\n",
              "      <td>-1400.131655</td>\n",
              "      <td>7.200520e+05</td>\n",
              "      <td>1.474479e+05</td>\n",
              "      <td>3.372421e+05</td>\n",
              "      <td>1.335338e+05</td>\n",
              "      <td>32.952200</td>\n",
              "      <td>4.140940e+06</td>\n",
              "    </tr>\n",
              "    <tr>\n",
              "      <th>median_income</th>\n",
              "      <td>-0.069188</td>\n",
              "      <td>-0.285796</td>\n",
              "      <td>-3.360256</td>\n",
              "      <td>8.844577e+02</td>\n",
              "      <td>1.851966e+01</td>\n",
              "      <td>6.184597e+01</td>\n",
              "      <td>3.295220e+01</td>\n",
              "      <td>3.439214</td>\n",
              "      <td>1.411192e+05</td>\n",
              "    </tr>\n",
              "    <tr>\n",
              "      <th>median_house_value</th>\n",
              "      <td>-11432.762614</td>\n",
              "      <td>-33348.376798</td>\n",
              "      <td>129825.029543</td>\n",
              "      <td>3.911853e+07</td>\n",
              "      <td>3.868661e+06</td>\n",
              "      <td>-1.389295e+05</td>\n",
              "      <td>4.140940e+06</td>\n",
              "      <td>141119.191538</td>\n",
              "      <td>1.279606e+10</td>\n",
              "    </tr>\n",
              "  </tbody>\n",
              "</table>\n",
              "</div>"
            ],
            "text/plain": [
              "                       longitude  ...  median_house_value\n",
              "longitude               3.979771  ...       -1.143276e+04\n",
              "latitude               -3.929984  ...       -3.334838e+04\n",
              "housing_median_age     -1.608112  ...        1.298250e+05\n",
              "total_rooms           214.433055  ...        3.911853e+07\n",
              "total_bedrooms         58.765078  ...        3.868661e+06\n",
              "population            229.376803  ...       -1.389295e+05\n",
              "households             37.224178  ...        4.140940e+06\n",
              "median_income          -0.069188  ...        1.411192e+05\n",
              "median_house_value -11432.762614  ...        1.279606e+10\n",
              "\n",
              "[9 rows x 9 columns]"
            ]
          },
          "metadata": {
            "tags": []
          },
          "execution_count": 32
        }
      ]
    },
    {
      "cell_type": "markdown",
      "metadata": {
        "id": "XqTs0-_mcZJr",
        "colab_type": "text"
      },
      "source": [
        "## `df.corr()` \n",
        "- returns a DataFrame with the result of\n",
        "applying the correlation function in each of the numerical columns (all with all)"
      ]
    },
    {
      "cell_type": "code",
      "metadata": {
        "id": "WD5sxVkAcilw",
        "colab_type": "code",
        "outputId": "0bd15509-97d2-4bc1-a870-da175ec8cb82",
        "colab": {
          "base_uri": "https://localhost:8080/",
          "height": 0
        }
      },
      "source": [
        "dataframe.corr()"
      ],
      "execution_count": 33,
      "outputs": [
        {
          "output_type": "execute_result",
          "data": {
            "text/html": [
              "<div>\n",
              "<style scoped>\n",
              "    .dataframe tbody tr th:only-of-type {\n",
              "        vertical-align: middle;\n",
              "    }\n",
              "\n",
              "    .dataframe tbody tr th {\n",
              "        vertical-align: top;\n",
              "    }\n",
              "\n",
              "    .dataframe thead th {\n",
              "        text-align: right;\n",
              "    }\n",
              "</style>\n",
              "<table border=\"1\" class=\"dataframe\">\n",
              "  <thead>\n",
              "    <tr style=\"text-align: right;\">\n",
              "      <th></th>\n",
              "      <th>longitude</th>\n",
              "      <th>latitude</th>\n",
              "      <th>housing_median_age</th>\n",
              "      <th>total_rooms</th>\n",
              "      <th>total_bedrooms</th>\n",
              "      <th>population</th>\n",
              "      <th>households</th>\n",
              "      <th>median_income</th>\n",
              "      <th>median_house_value</th>\n",
              "    </tr>\n",
              "  </thead>\n",
              "  <tbody>\n",
              "    <tr>\n",
              "      <th>longitude</th>\n",
              "      <td>1.000000</td>\n",
              "      <td>-0.925017</td>\n",
              "      <td>-0.064203</td>\n",
              "      <td>0.049865</td>\n",
              "      <td>0.070869</td>\n",
              "      <td>0.111572</td>\n",
              "      <td>0.051062</td>\n",
              "      <td>-0.018701</td>\n",
              "      <td>-0.050662</td>\n",
              "    </tr>\n",
              "    <tr>\n",
              "      <th>latitude</th>\n",
              "      <td>-0.925017</td>\n",
              "      <td>1.000000</td>\n",
              "      <td>-0.025143</td>\n",
              "      <td>-0.039632</td>\n",
              "      <td>-0.068245</td>\n",
              "      <td>-0.117318</td>\n",
              "      <td>-0.068296</td>\n",
              "      <td>-0.072363</td>\n",
              "      <td>-0.138428</td>\n",
              "    </tr>\n",
              "    <tr>\n",
              "      <th>housing_median_age</th>\n",
              "      <td>-0.064203</td>\n",
              "      <td>-0.025143</td>\n",
              "      <td>1.000000</td>\n",
              "      <td>-0.367850</td>\n",
              "      <td>-0.323154</td>\n",
              "      <td>-0.299888</td>\n",
              "      <td>-0.305171</td>\n",
              "      <td>-0.144315</td>\n",
              "      <td>0.091409</td>\n",
              "    </tr>\n",
              "    <tr>\n",
              "      <th>total_rooms</th>\n",
              "      <td>0.049865</td>\n",
              "      <td>-0.039632</td>\n",
              "      <td>-0.367850</td>\n",
              "      <td>1.000000</td>\n",
              "      <td>0.937749</td>\n",
              "      <td>0.838867</td>\n",
              "      <td>0.914116</td>\n",
              "      <td>0.221249</td>\n",
              "      <td>0.160427</td>\n",
              "    </tr>\n",
              "    <tr>\n",
              "      <th>total_bedrooms</th>\n",
              "      <td>0.070869</td>\n",
              "      <td>-0.068245</td>\n",
              "      <td>-0.323154</td>\n",
              "      <td>0.937749</td>\n",
              "      <td>1.000000</td>\n",
              "      <td>0.856387</td>\n",
              "      <td>0.970758</td>\n",
              "      <td>0.024025</td>\n",
              "      <td>0.082279</td>\n",
              "    </tr>\n",
              "    <tr>\n",
              "      <th>population</th>\n",
              "      <td>0.111572</td>\n",
              "      <td>-0.117318</td>\n",
              "      <td>-0.299888</td>\n",
              "      <td>0.838867</td>\n",
              "      <td>0.856387</td>\n",
              "      <td>1.000000</td>\n",
              "      <td>0.895530</td>\n",
              "      <td>0.032361</td>\n",
              "      <td>-0.001192</td>\n",
              "    </tr>\n",
              "    <tr>\n",
              "      <th>households</th>\n",
              "      <td>0.051062</td>\n",
              "      <td>-0.068296</td>\n",
              "      <td>-0.305171</td>\n",
              "      <td>0.914116</td>\n",
              "      <td>0.970758</td>\n",
              "      <td>0.895530</td>\n",
              "      <td>1.000000</td>\n",
              "      <td>0.048625</td>\n",
              "      <td>0.100176</td>\n",
              "    </tr>\n",
              "    <tr>\n",
              "      <th>median_income</th>\n",
              "      <td>-0.018701</td>\n",
              "      <td>-0.072363</td>\n",
              "      <td>-0.144315</td>\n",
              "      <td>0.221249</td>\n",
              "      <td>0.024025</td>\n",
              "      <td>0.032361</td>\n",
              "      <td>0.048625</td>\n",
              "      <td>1.000000</td>\n",
              "      <td>0.672695</td>\n",
              "    </tr>\n",
              "    <tr>\n",
              "      <th>median_house_value</th>\n",
              "      <td>-0.050662</td>\n",
              "      <td>-0.138428</td>\n",
              "      <td>0.091409</td>\n",
              "      <td>0.160427</td>\n",
              "      <td>0.082279</td>\n",
              "      <td>-0.001192</td>\n",
              "      <td>0.100176</td>\n",
              "      <td>0.672695</td>\n",
              "      <td>1.000000</td>\n",
              "    </tr>\n",
              "  </tbody>\n",
              "</table>\n",
              "</div>"
            ],
            "text/plain": [
              "                    longitude  latitude  ...  median_income  median_house_value\n",
              "longitude            1.000000 -0.925017  ...      -0.018701           -0.050662\n",
              "latitude            -0.925017  1.000000  ...      -0.072363           -0.138428\n",
              "housing_median_age  -0.064203 -0.025143  ...      -0.144315            0.091409\n",
              "total_rooms          0.049865 -0.039632  ...       0.221249            0.160427\n",
              "total_bedrooms       0.070869 -0.068245  ...       0.024025            0.082279\n",
              "population           0.111572 -0.117318  ...       0.032361           -0.001192\n",
              "households           0.051062 -0.068296  ...       0.048625            0.100176\n",
              "median_income       -0.018701 -0.072363  ...       1.000000            0.672695\n",
              "median_house_value  -0.050662 -0.138428  ...       0.672695            1.000000\n",
              "\n",
              "[9 rows x 9 columns]"
            ]
          },
          "metadata": {
            "tags": []
          },
          "execution_count": 33
        }
      ]
    },
    {
      "cell_type": "markdown",
      "metadata": {
        "id": "rFnG5gldckwZ",
        "colab_type": "text"
      },
      "source": [
        "## Visualize df.corr()\n",
        "Using the Python visualization tools we could visualize the correlation matrix"
      ]
    },
    {
      "cell_type": "code",
      "metadata": {
        "id": "G0bB2c3RcuYb",
        "colab_type": "code",
        "outputId": "81cedcab-7700-4e1e-be02-fae38e38aac1",
        "colab": {
          "base_uri": "https://localhost:8080/",
          "height": 0
        }
      },
      "source": [
        "from matplotlib import pyplot as plt\n",
        "import seaborn as sns\n",
        "\n",
        "plt.figure(figsize=(15,8))\n",
        "\n",
        "corr = dataframe.corr()\n",
        "sns.heatmap(corr,\n",
        "            xticklabels = corr.columns,\n",
        "            yticklabels = corr.columns,\n",
        "            cmap=\"YlGnBu\")"
      ],
      "execution_count": 34,
      "outputs": [
        {
          "output_type": "stream",
          "text": [
            "/usr/local/lib/python3.6/dist-packages/statsmodels/tools/_testing.py:19: FutureWarning: pandas.util.testing is deprecated. Use the functions in the public API at pandas.testing instead.\n",
            "  import pandas.util.testing as tm\n"
          ],
          "name": "stderr"
        },
        {
          "output_type": "execute_result",
          "data": {
            "text/plain": [
              "<matplotlib.axes._subplots.AxesSubplot at 0x7f205d660940>"
            ]
          },
          "metadata": {
            "tags": []
          },
          "execution_count": 34
        },
        {
          "output_type": "display_data",
          "data": {
            "image/png": "[encoded data removed]",
            "text/plain": [
              "<Figure size 1080x576 with 2 Axes>"
            ]
          },
          "metadata": {
            "tags": [],
            "needs_background": "light"
          }
        }
      ]
    },
    {
      "cell_type": "markdown",
      "metadata": {
        "id": "gPTV7SH1c9iv",
        "colab_type": "text"
      },
      "source": [
        "# Exercise 26 \n",
        "1. Load the anscombe.json from the sample_data\n",
        "2. Show the dimensions of the DataFrame\n",
        "3. Print the columns and row indexes\n",
        "4. It shows the first 3 rows\n",
        "5. Shows the last 2 rows\n",
        "6. Displays summary information about the Dataframe\n",
        "7. Check if any of the columns correlate with any other\n",
        "8. Shows the number of values in each of the columns\n",
        "9. Displays statistical information about the column ‘V’"
      ]
    },
    {
      "cell_type": "code",
      "metadata": {
        "id": "fDHbro6PdVzU",
        "colab_type": "code",
        "colab": {}
      },
      "source": [
        "# 1. Loading data \n",
        "os.chdir(\"/content/sample_data\")\n",
        "df = pd.read_json(\"anscombe.json\")"
      ],
      "execution_count": 0,
      "outputs": []
    },
    {
      "cell_type": "code",
      "metadata": {
        "id": "NLui5IrndqP8",
        "colab_type": "code",
        "outputId": "32d58459-063b-4fcb-9955-379ff79d24be",
        "colab": {
          "base_uri": "https://localhost:8080/",
          "height": 0
        }
      },
      "source": [
        "# 2. Show the dimensions of DF\n",
        "df.shape"
      ],
      "execution_count": 36,
      "outputs": [
        {
          "output_type": "execute_result",
          "data": {
            "text/plain": [
              "(44, 3)"
            ]
          },
          "metadata": {
            "tags": []
          },
          "execution_count": 36
        }
      ]
    },
    {
      "cell_type": "code",
      "metadata": {
        "id": "XtKL_xaHeBFr",
        "colab_type": "code",
        "outputId": "75ad8f0e-d204-46a3-8d4a-cdb9f4875d54",
        "colab": {
          "base_uri": "https://localhost:8080/",
          "height": 0
        }
      },
      "source": [
        "# 3. Print column and row indices\n",
        "print(df.columns)\n",
        "print(df.index)"
      ],
      "execution_count": 37,
      "outputs": [
        {
          "output_type": "stream",
          "text": [
            "Index(['Series', 'X', 'Y'], dtype='object')\n",
            "RangeIndex(start=0, stop=44, step=1)\n"
          ],
          "name": "stdout"
        }
      ]
    },
    {
      "cell_type": "code",
      "metadata": {
        "id": "No1hFl4weCEv",
        "colab_type": "code",
        "outputId": "1ac41560-009a-4649-ccf4-cf70f7fa6164",
        "colab": {
          "base_uri": "https://localhost:8080/",
          "height": 0
        }
      },
      "source": [
        "# 4. Show the first 3 rows\n",
        "df.head(3)"
      ],
      "execution_count": 38,
      "outputs": [
        {
          "output_type": "execute_result",
          "data": {
            "text/html": [
              "<div>\n",
              "<style scoped>\n",
              "    .dataframe tbody tr th:only-of-type {\n",
              "        vertical-align: middle;\n",
              "    }\n",
              "\n",
              "    .dataframe tbody tr th {\n",
              "        vertical-align: top;\n",
              "    }\n",
              "\n",
              "    .dataframe thead th {\n",
              "        text-align: right;\n",
              "    }\n",
              "</style>\n",
              "<table border=\"1\" class=\"dataframe\">\n",
              "  <thead>\n",
              "    <tr style=\"text-align: right;\">\n",
              "      <th></th>\n",
              "      <th>Series</th>\n",
              "      <th>X</th>\n",
              "      <th>Y</th>\n",
              "    </tr>\n",
              "  </thead>\n",
              "  <tbody>\n",
              "    <tr>\n",
              "      <th>0</th>\n",
              "      <td>I</td>\n",
              "      <td>10</td>\n",
              "      <td>8.04</td>\n",
              "    </tr>\n",
              "    <tr>\n",
              "      <th>1</th>\n",
              "      <td>I</td>\n",
              "      <td>8</td>\n",
              "      <td>6.95</td>\n",
              "    </tr>\n",
              "    <tr>\n",
              "      <th>2</th>\n",
              "      <td>I</td>\n",
              "      <td>13</td>\n",
              "      <td>7.58</td>\n",
              "    </tr>\n",
              "  </tbody>\n",
              "</table>\n",
              "</div>"
            ],
            "text/plain": [
              "  Series   X     Y\n",
              "0      I  10  8.04\n",
              "1      I   8  6.95\n",
              "2      I  13  7.58"
            ]
          },
          "metadata": {
            "tags": []
          },
          "execution_count": 38
        }
      ]
    },
    {
      "cell_type": "code",
      "metadata": {
        "id": "BPF3FAfveC0N",
        "colab_type": "code",
        "outputId": "3a5e0e37-2544-4b64-96cd-a12795b13aeb",
        "colab": {
          "base_uri": "https://localhost:8080/",
          "height": 0
        }
      },
      "source": [
        "# 5. Show the last 2 rows\n",
        "df.tail(2)"
      ],
      "execution_count": 39,
      "outputs": [
        {
          "output_type": "execute_result",
          "data": {
            "text/html": [
              "<div>\n",
              "<style scoped>\n",
              "    .dataframe tbody tr th:only-of-type {\n",
              "        vertical-align: middle;\n",
              "    }\n",
              "\n",
              "    .dataframe tbody tr th {\n",
              "        vertical-align: top;\n",
              "    }\n",
              "\n",
              "    .dataframe thead th {\n",
              "        text-align: right;\n",
              "    }\n",
              "</style>\n",
              "<table border=\"1\" class=\"dataframe\">\n",
              "  <thead>\n",
              "    <tr style=\"text-align: right;\">\n",
              "      <th></th>\n",
              "      <th>Series</th>\n",
              "      <th>X</th>\n",
              "      <th>Y</th>\n",
              "    </tr>\n",
              "  </thead>\n",
              "  <tbody>\n",
              "    <tr>\n",
              "      <th>42</th>\n",
              "      <td>IV</td>\n",
              "      <td>8</td>\n",
              "      <td>7.91</td>\n",
              "    </tr>\n",
              "    <tr>\n",
              "      <th>43</th>\n",
              "      <td>IV</td>\n",
              "      <td>8</td>\n",
              "      <td>6.89</td>\n",
              "    </tr>\n",
              "  </tbody>\n",
              "</table>\n",
              "</div>"
            ],
            "text/plain": [
              "   Series  X     Y\n",
              "42     IV  8  7.91\n",
              "43     IV  8  6.89"
            ]
          },
          "metadata": {
            "tags": []
          },
          "execution_count": 39
        }
      ]
    },
    {
      "cell_type": "code",
      "metadata": {
        "id": "7PUbDiDUeDq8",
        "colab_type": "code",
        "outputId": "a22fdafa-9849-404c-c5e6-1442529273b9",
        "colab": {
          "base_uri": "https://localhost:8080/",
          "height": 0
        }
      },
      "source": [
        "# 6. Display a summary of statistical info\n",
        "df.info()"
      ],
      "execution_count": 40,
      "outputs": [
        {
          "output_type": "stream",
          "text": [
            "<class 'pandas.core.frame.DataFrame'>\n",
            "RangeIndex: 44 entries, 0 to 43\n",
            "Data columns (total 3 columns):\n",
            " #   Column  Non-Null Count  Dtype  \n",
            "---  ------  --------------  -----  \n",
            " 0   Series  44 non-null     object \n",
            " 1   X       44 non-null     int64  \n",
            " 2   Y       44 non-null     float64\n",
            "dtypes: float64(1), int64(1), object(1)\n",
            "memory usage: 1.2+ KB\n"
          ],
          "name": "stdout"
        }
      ]
    },
    {
      "cell_type": "code",
      "metadata": {
        "id": "RCVekDKpeEc8",
        "colab_type": "code",
        "outputId": "38453b57-7248-4527-977f-f7940e31fdd0",
        "colab": {
          "base_uri": "https://localhost:8080/",
          "height": 0
        }
      },
      "source": [
        "# 7. Check if columns correlate\n",
        "print(df.corr())\n",
        "print(df.cov())"
      ],
      "execution_count": 41,
      "outputs": [
        {
          "output_type": "stream",
          "text": [
            "          X         Y\n",
            "X  1.000000  0.816308\n",
            "Y  0.816308  1.000000\n",
            "           X         Y\n",
            "X  10.232558  5.116047\n",
            "Y   5.116047  3.838637\n"
          ],
          "name": "stdout"
        }
      ]
    },
    {
      "cell_type": "code",
      "metadata": {
        "id": "cUjaRDbleFJR",
        "colab_type": "code",
        "outputId": "76accf3f-48ed-4bc4-d72d-bf20bb300809",
        "colab": {
          "base_uri": "https://localhost:8080/",
          "height": 0
        }
      },
      "source": [
        "# 8. Show number of values in each of the columns\n",
        "df.count()"
      ],
      "execution_count": 42,
      "outputs": [
        {
          "output_type": "execute_result",
          "data": {
            "text/plain": [
              "Series    44\n",
              "X         44\n",
              "Y         44\n",
              "dtype: int64"
            ]
          },
          "metadata": {
            "tags": []
          },
          "execution_count": 42
        }
      ]
    },
    {
      "cell_type": "code",
      "metadata": {
        "id": "CIbUzDRseGnk",
        "colab_type": "code",
        "outputId": "6b687c96-70eb-47e3-f9e4-0f7bd6ce1d58",
        "colab": {
          "base_uri": "https://localhost:8080/",
          "height": 0
        }
      },
      "source": [
        "# 9. Display statistical information \n",
        "df.describe()"
      ],
      "execution_count": 43,
      "outputs": [
        {
          "output_type": "execute_result",
          "data": {
            "text/html": [
              "<div>\n",
              "<style scoped>\n",
              "    .dataframe tbody tr th:only-of-type {\n",
              "        vertical-align: middle;\n",
              "    }\n",
              "\n",
              "    .dataframe tbody tr th {\n",
              "        vertical-align: top;\n",
              "    }\n",
              "\n",
              "    .dataframe thead th {\n",
              "        text-align: right;\n",
              "    }\n",
              "</style>\n",
              "<table border=\"1\" class=\"dataframe\">\n",
              "  <thead>\n",
              "    <tr style=\"text-align: right;\">\n",
              "      <th></th>\n",
              "      <th>X</th>\n",
              "      <th>Y</th>\n",
              "    </tr>\n",
              "  </thead>\n",
              "  <tbody>\n",
              "    <tr>\n",
              "      <th>count</th>\n",
              "      <td>44.000000</td>\n",
              "      <td>44.000000</td>\n",
              "    </tr>\n",
              "    <tr>\n",
              "      <th>mean</th>\n",
              "      <td>9.000000</td>\n",
              "      <td>7.500455</td>\n",
              "    </tr>\n",
              "    <tr>\n",
              "      <th>std</th>\n",
              "      <td>3.198837</td>\n",
              "      <td>1.959244</td>\n",
              "    </tr>\n",
              "    <tr>\n",
              "      <th>min</th>\n",
              "      <td>4.000000</td>\n",
              "      <td>3.100000</td>\n",
              "    </tr>\n",
              "    <tr>\n",
              "      <th>25%</th>\n",
              "      <td>7.000000</td>\n",
              "      <td>6.117500</td>\n",
              "    </tr>\n",
              "    <tr>\n",
              "      <th>50%</th>\n",
              "      <td>8.000000</td>\n",
              "      <td>7.520000</td>\n",
              "    </tr>\n",
              "    <tr>\n",
              "      <th>75%</th>\n",
              "      <td>11.000000</td>\n",
              "      <td>8.747500</td>\n",
              "    </tr>\n",
              "    <tr>\n",
              "      <th>max</th>\n",
              "      <td>19.000000</td>\n",
              "      <td>12.740000</td>\n",
              "    </tr>\n",
              "  </tbody>\n",
              "</table>\n",
              "</div>"
            ],
            "text/plain": [
              "               X          Y\n",
              "count  44.000000  44.000000\n",
              "mean    9.000000   7.500455\n",
              "std     3.198837   1.959244\n",
              "min     4.000000   3.100000\n",
              "25%     7.000000   6.117500\n",
              "50%     8.000000   7.520000\n",
              "75%    11.000000   8.747500\n",
              "max    19.000000  12.740000"
            ]
          },
          "metadata": {
            "tags": []
          },
          "execution_count": 43
        }
      ]
    },
    {
      "cell_type": "markdown",
      "metadata": {
        "id": "NeCA_KhlfyCu",
        "colab_type": "text"
      },
      "source": [
        "# Operations on a DataFrame\n",
        "\n",
        "## Common operations in a Dataframe\n",
        "- Pandas allows to do operations like filtering a Dataframe, ordering it, selecting columns, renaming them, modifying them and even grouping them\n",
        "- What all these functions have in common is that they do not modify the dataframe, but return another dataframe"
      ]
    },
    {
      "cell_type": "code",
      "metadata": {
        "id": "nlPViAPWgcMg",
        "colab_type": "code",
        "outputId": "4ec0391b-f263-4d20-a14b-3f6c44435350",
        "colab": {
          "base_uri": "https://localhost:8080/",
          "height": 0
        }
      },
      "source": [
        "df = pd.DataFrame({\"C1\" : [\"Afghanistan\", \"Afghanistan\", \"Brazil\", \"Brazil\", \"China\", \"China\"],\n",
        "                   \"C2\" : [1999, 2000,1999,2000,1999,2000],\n",
        "                   \"C3\" : [745, 266,37737,80488,212258,213766],\n",
        "                   \"C4\" : [19987071,20595360,172006362,174504898,1272915272,1280428583]})\n",
        "\n",
        "df"
      ],
      "execution_count": 44,
      "outputs": [
        {
          "output_type": "execute_result",
          "data": {
            "text/html": [
              "<div>\n",
              "<style scoped>\n",
              "    .dataframe tbody tr th:only-of-type {\n",
              "        vertical-align: middle;\n",
              "    }\n",
              "\n",
              "    .dataframe tbody tr th {\n",
              "        vertical-align: top;\n",
              "    }\n",
              "\n",
              "    .dataframe thead th {\n",
              "        text-align: right;\n",
              "    }\n",
              "</style>\n",
              "<table border=\"1\" class=\"dataframe\">\n",
              "  <thead>\n",
              "    <tr style=\"text-align: right;\">\n",
              "      <th></th>\n",
              "      <th>C1</th>\n",
              "      <th>C2</th>\n",
              "      <th>C3</th>\n",
              "      <th>C4</th>\n",
              "    </tr>\n",
              "  </thead>\n",
              "  <tbody>\n",
              "    <tr>\n",
              "      <th>0</th>\n",
              "      <td>Afghanistan</td>\n",
              "      <td>1999</td>\n",
              "      <td>745</td>\n",
              "      <td>19987071</td>\n",
              "    </tr>\n",
              "    <tr>\n",
              "      <th>1</th>\n",
              "      <td>Afghanistan</td>\n",
              "      <td>2000</td>\n",
              "      <td>266</td>\n",
              "      <td>20595360</td>\n",
              "    </tr>\n",
              "    <tr>\n",
              "      <th>2</th>\n",
              "      <td>Brazil</td>\n",
              "      <td>1999</td>\n",
              "      <td>37737</td>\n",
              "      <td>172006362</td>\n",
              "    </tr>\n",
              "    <tr>\n",
              "      <th>3</th>\n",
              "      <td>Brazil</td>\n",
              "      <td>2000</td>\n",
              "      <td>80488</td>\n",
              "      <td>174504898</td>\n",
              "    </tr>\n",
              "    <tr>\n",
              "      <th>4</th>\n",
              "      <td>China</td>\n",
              "      <td>1999</td>\n",
              "      <td>212258</td>\n",
              "      <td>1272915272</td>\n",
              "    </tr>\n",
              "    <tr>\n",
              "      <th>5</th>\n",
              "      <td>China</td>\n",
              "      <td>2000</td>\n",
              "      <td>213766</td>\n",
              "      <td>1280428583</td>\n",
              "    </tr>\n",
              "  </tbody>\n",
              "</table>\n",
              "</div>"
            ],
            "text/plain": [
              "            C1    C2      C3          C4\n",
              "0  Afghanistan  1999     745    19987071\n",
              "1  Afghanistan  2000     266    20595360\n",
              "2       Brazil  1999   37737   172006362\n",
              "3       Brazil  2000   80488   174504898\n",
              "4        China  1999  212258  1272915272\n",
              "5        China  2000  213766  1280428583"
            ]
          },
          "metadata": {
            "tags": []
          },
          "execution_count": 44
        }
      ]
    },
    {
      "cell_type": "markdown",
      "metadata": {
        "id": "CwE5useVhOlJ",
        "colab_type": "text"
      },
      "source": [
        "## Rename columns\n",
        "- The `rename()` function allows you to rename both the row index and the column index of a Dataframe"
      ]
    },
    {
      "cell_type": "code",
      "metadata": {
        "id": "GvdnOVashbSb",
        "colab_type": "code",
        "outputId": "80353fa3-f9b2-438b-99bb-3622f28d30b5",
        "colab": {
          "base_uri": "https://localhost:8080/",
          "height": 0
        }
      },
      "source": [
        "df = df.rename(columns = {\"C1\": \"Country\",\n",
        "                          \"C2\": \"Year\",\n",
        "                          \"C3\": \"Cases\",\n",
        "                          \"C4\": \"Population\"})\n",
        "\n",
        "df"
      ],
      "execution_count": 45,
      "outputs": [
        {
          "output_type": "execute_result",
          "data": {
            "text/html": [
              "<div>\n",
              "<style scoped>\n",
              "    .dataframe tbody tr th:only-of-type {\n",
              "        vertical-align: middle;\n",
              "    }\n",
              "\n",
              "    .dataframe tbody tr th {\n",
              "        vertical-align: top;\n",
              "    }\n",
              "\n",
              "    .dataframe thead th {\n",
              "        text-align: right;\n",
              "    }\n",
              "</style>\n",
              "<table border=\"1\" class=\"dataframe\">\n",
              "  <thead>\n",
              "    <tr style=\"text-align: right;\">\n",
              "      <th></th>\n",
              "      <th>Country</th>\n",
              "      <th>Year</th>\n",
              "      <th>Cases</th>\n",
              "      <th>Population</th>\n",
              "    </tr>\n",
              "  </thead>\n",
              "  <tbody>\n",
              "    <tr>\n",
              "      <th>0</th>\n",
              "      <td>Afghanistan</td>\n",
              "      <td>1999</td>\n",
              "      <td>745</td>\n",
              "      <td>19987071</td>\n",
              "    </tr>\n",
              "    <tr>\n",
              "      <th>1</th>\n",
              "      <td>Afghanistan</td>\n",
              "      <td>2000</td>\n",
              "      <td>266</td>\n",
              "      <td>20595360</td>\n",
              "    </tr>\n",
              "    <tr>\n",
              "      <th>2</th>\n",
              "      <td>Brazil</td>\n",
              "      <td>1999</td>\n",
              "      <td>37737</td>\n",
              "      <td>172006362</td>\n",
              "    </tr>\n",
              "    <tr>\n",
              "      <th>3</th>\n",
              "      <td>Brazil</td>\n",
              "      <td>2000</td>\n",
              "      <td>80488</td>\n",
              "      <td>174504898</td>\n",
              "    </tr>\n",
              "    <tr>\n",
              "      <th>4</th>\n",
              "      <td>China</td>\n",
              "      <td>1999</td>\n",
              "      <td>212258</td>\n",
              "      <td>1272915272</td>\n",
              "    </tr>\n",
              "    <tr>\n",
              "      <th>5</th>\n",
              "      <td>China</td>\n",
              "      <td>2000</td>\n",
              "      <td>213766</td>\n",
              "      <td>1280428583</td>\n",
              "    </tr>\n",
              "  </tbody>\n",
              "</table>\n",
              "</div>"
            ],
            "text/plain": [
              "       Country  Year   Cases  Population\n",
              "0  Afghanistan  1999     745    19987071\n",
              "1  Afghanistan  2000     266    20595360\n",
              "2       Brazil  1999   37737   172006362\n",
              "3       Brazil  2000   80488   174504898\n",
              "4        China  1999  212258  1272915272\n",
              "5        China  2000  213766  1280428583"
            ]
          },
          "metadata": {
            "tags": []
          },
          "execution_count": 45
        }
      ]
    },
    {
      "cell_type": "markdown",
      "metadata": {
        "id": "07ojDi0shqwX",
        "colab_type": "text"
      },
      "source": [
        "The rename() function could **accept a function to make the modification** , instead of a dictionary"
      ]
    },
    {
      "cell_type": "code",
      "metadata": {
        "id": "DP9Cx2E_h29o",
        "colab_type": "code",
        "outputId": "3b1d9c00-0f3d-4c41-a16c-31b89b00c9e7",
        "colab": {
          "base_uri": "https://localhost:8080/",
          "height": 0
        }
      },
      "source": [
        "df.rename(columns = lambda column :column.lower())"
      ],
      "execution_count": 46,
      "outputs": [
        {
          "output_type": "execute_result",
          "data": {
            "text/html": [
              "<div>\n",
              "<style scoped>\n",
              "    .dataframe tbody tr th:only-of-type {\n",
              "        vertical-align: middle;\n",
              "    }\n",
              "\n",
              "    .dataframe tbody tr th {\n",
              "        vertical-align: top;\n",
              "    }\n",
              "\n",
              "    .dataframe thead th {\n",
              "        text-align: right;\n",
              "    }\n",
              "</style>\n",
              "<table border=\"1\" class=\"dataframe\">\n",
              "  <thead>\n",
              "    <tr style=\"text-align: right;\">\n",
              "      <th></th>\n",
              "      <th>country</th>\n",
              "      <th>year</th>\n",
              "      <th>cases</th>\n",
              "      <th>population</th>\n",
              "    </tr>\n",
              "  </thead>\n",
              "  <tbody>\n",
              "    <tr>\n",
              "      <th>0</th>\n",
              "      <td>Afghanistan</td>\n",
              "      <td>1999</td>\n",
              "      <td>745</td>\n",
              "      <td>19987071</td>\n",
              "    </tr>\n",
              "    <tr>\n",
              "      <th>1</th>\n",
              "      <td>Afghanistan</td>\n",
              "      <td>2000</td>\n",
              "      <td>266</td>\n",
              "      <td>20595360</td>\n",
              "    </tr>\n",
              "    <tr>\n",
              "      <th>2</th>\n",
              "      <td>Brazil</td>\n",
              "      <td>1999</td>\n",
              "      <td>37737</td>\n",
              "      <td>172006362</td>\n",
              "    </tr>\n",
              "    <tr>\n",
              "      <th>3</th>\n",
              "      <td>Brazil</td>\n",
              "      <td>2000</td>\n",
              "      <td>80488</td>\n",
              "      <td>174504898</td>\n",
              "    </tr>\n",
              "    <tr>\n",
              "      <th>4</th>\n",
              "      <td>China</td>\n",
              "      <td>1999</td>\n",
              "      <td>212258</td>\n",
              "      <td>1272915272</td>\n",
              "    </tr>\n",
              "    <tr>\n",
              "      <th>5</th>\n",
              "      <td>China</td>\n",
              "      <td>2000</td>\n",
              "      <td>213766</td>\n",
              "      <td>1280428583</td>\n",
              "    </tr>\n",
              "  </tbody>\n",
              "</table>\n",
              "</div>"
            ],
            "text/plain": [
              "       country  year   cases  population\n",
              "0  Afghanistan  1999     745    19987071\n",
              "1  Afghanistan  2000     266    20595360\n",
              "2       Brazil  1999   37737   172006362\n",
              "3       Brazil  2000   80488   174504898\n",
              "4        China  1999  212258  1272915272\n",
              "5        China  2000  213766  1280428583"
            ]
          },
          "metadata": {
            "tags": []
          },
          "execution_count": 46
        }
      ]
    },
    {
      "cell_type": "code",
      "metadata": {
        "id": "7t8p5umyh8Y0",
        "colab_type": "code",
        "outputId": "e40ffd77-986b-4d6e-e6a0-14f645eb8c5e",
        "colab": {
          "base_uri": "https://localhost:8080/",
          "height": 0
        }
      },
      "source": [
        "df.rename(index = lambda row : \"Row\"+str(row))"
      ],
      "execution_count": 47,
      "outputs": [
        {
          "output_type": "execute_result",
          "data": {
            "text/html": [
              "<div>\n",
              "<style scoped>\n",
              "    .dataframe tbody tr th:only-of-type {\n",
              "        vertical-align: middle;\n",
              "    }\n",
              "\n",
              "    .dataframe tbody tr th {\n",
              "        vertical-align: top;\n",
              "    }\n",
              "\n",
              "    .dataframe thead th {\n",
              "        text-align: right;\n",
              "    }\n",
              "</style>\n",
              "<table border=\"1\" class=\"dataframe\">\n",
              "  <thead>\n",
              "    <tr style=\"text-align: right;\">\n",
              "      <th></th>\n",
              "      <th>Country</th>\n",
              "      <th>Year</th>\n",
              "      <th>Cases</th>\n",
              "      <th>Population</th>\n",
              "    </tr>\n",
              "  </thead>\n",
              "  <tbody>\n",
              "    <tr>\n",
              "      <th>Row0</th>\n",
              "      <td>Afghanistan</td>\n",
              "      <td>1999</td>\n",
              "      <td>745</td>\n",
              "      <td>19987071</td>\n",
              "    </tr>\n",
              "    <tr>\n",
              "      <th>Row1</th>\n",
              "      <td>Afghanistan</td>\n",
              "      <td>2000</td>\n",
              "      <td>266</td>\n",
              "      <td>20595360</td>\n",
              "    </tr>\n",
              "    <tr>\n",
              "      <th>Row2</th>\n",
              "      <td>Brazil</td>\n",
              "      <td>1999</td>\n",
              "      <td>37737</td>\n",
              "      <td>172006362</td>\n",
              "    </tr>\n",
              "    <tr>\n",
              "      <th>Row3</th>\n",
              "      <td>Brazil</td>\n",
              "      <td>2000</td>\n",
              "      <td>80488</td>\n",
              "      <td>174504898</td>\n",
              "    </tr>\n",
              "    <tr>\n",
              "      <th>Row4</th>\n",
              "      <td>China</td>\n",
              "      <td>1999</td>\n",
              "      <td>212258</td>\n",
              "      <td>1272915272</td>\n",
              "    </tr>\n",
              "    <tr>\n",
              "      <th>Row5</th>\n",
              "      <td>China</td>\n",
              "      <td>2000</td>\n",
              "      <td>213766</td>\n",
              "      <td>1280428583</td>\n",
              "    </tr>\n",
              "  </tbody>\n",
              "</table>\n",
              "</div>"
            ],
            "text/plain": [
              "          Country  Year   Cases  Population\n",
              "Row0  Afghanistan  1999     745    19987071\n",
              "Row1  Afghanistan  2000     266    20595360\n",
              "Row2       Brazil  1999   37737   172006362\n",
              "Row3       Brazil  2000   80488   174504898\n",
              "Row4        China  1999  212258  1272915272\n",
              "Row5        China  2000  213766  1280428583"
            ]
          },
          "metadata": {
            "tags": []
          },
          "execution_count": 47
        }
      ]
    },
    {
      "cell_type": "markdown",
      "metadata": {
        "id": "R2vQ56_OiCAr",
        "colab_type": "text"
      },
      "source": [
        "# Exercise 27\n",
        "- Explore the DataFrame “liga”:\n",
        "- Rename the name of the columns making sure they are\n",
        "materialized in the dataset"
      ]
    },
    {
      "cell_type": "code",
      "metadata": {
        "id": "jsQjICVOlfMM",
        "colab_type": "code",
        "colab": {}
      },
      "source": [
        "liga = pd.read_excel(\"/content/LigaBBVA_20170329_full.xlsx\")"
      ],
      "execution_count": 0,
      "outputs": []
    },
    {
      "cell_type": "code",
      "metadata": {
        "id": "XiwqXAA0lqYa",
        "colab_type": "code",
        "outputId": "fc2d6e0c-1d15-403e-ef23-7d06d106ba8e",
        "colab": {
          "base_uri": "https://localhost:8080/",
          "height": 281
        }
      },
      "source": [
        "liga.head()"
      ],
      "execution_count": 54,
      "outputs": [
        {
          "output_type": "execute_result",
          "data": {
            "text/html": [
              "<div>\n",
              "<style scoped>\n",
              "    .dataframe tbody tr th:only-of-type {\n",
              "        vertical-align: middle;\n",
              "    }\n",
              "\n",
              "    .dataframe tbody tr th {\n",
              "        vertical-align: top;\n",
              "    }\n",
              "\n",
              "    .dataframe thead th {\n",
              "        text-align: right;\n",
              "    }\n",
              "</style>\n",
              "<table border=\"1\" class=\"dataframe\">\n",
              "  <thead>\n",
              "    <tr style=\"text-align: right;\">\n",
              "      <th></th>\n",
              "      <th>Puesto</th>\n",
              "      <th>Equipo</th>\n",
              "      <th>PartidosJugados</th>\n",
              "      <th>Victorias</th>\n",
              "      <th>Empates</th>\n",
              "      <th>Derrotas</th>\n",
              "      <th>GolesFavor</th>\n",
              "      <th>GolesContra</th>\n",
              "      <th>Puntos</th>\n",
              "      <th>DiferenciaGoles</th>\n",
              "      <th>DiferenciaPuntos</th>\n",
              "      <th>PorcentajeGoles</th>\n",
              "      <th>PorcentajeVictorias</th>\n",
              "      <th>PuntosAcum</th>\n",
              "      <th>Zona</th>\n",
              "      <th>Provincia</th>\n",
              "      <th>Comunidad Autónoma</th>\n",
              "    </tr>\n",
              "  </thead>\n",
              "  <tbody>\n",
              "    <tr>\n",
              "      <th>0</th>\n",
              "      <td>1</td>\n",
              "      <td>Real Madrid</td>\n",
              "      <td>27</td>\n",
              "      <td>20</td>\n",
              "      <td>5</td>\n",
              "      <td>2</td>\n",
              "      <td>71</td>\n",
              "      <td>28</td>\n",
              "      <td>65</td>\n",
              "      <td>43</td>\n",
              "      <td>2.0</td>\n",
              "      <td>0.087871</td>\n",
              "      <td>0.740741</td>\n",
              "      <td>65</td>\n",
              "      <td>Champions</td>\n",
              "      <td>Madrid</td>\n",
              "      <td>Madrid</td>\n",
              "    </tr>\n",
              "    <tr>\n",
              "      <th>1</th>\n",
              "      <td>2</td>\n",
              "      <td>Barcelona</td>\n",
              "      <td>28</td>\n",
              "      <td>19</td>\n",
              "      <td>6</td>\n",
              "      <td>3</td>\n",
              "      <td>81</td>\n",
              "      <td>25</td>\n",
              "      <td>63</td>\n",
              "      <td>56</td>\n",
              "      <td>6.0</td>\n",
              "      <td>0.100248</td>\n",
              "      <td>0.678571</td>\n",
              "      <td>128</td>\n",
              "      <td>Champions</td>\n",
              "      <td>Barcelona</td>\n",
              "      <td>Cataluña</td>\n",
              "    </tr>\n",
              "    <tr>\n",
              "      <th>2</th>\n",
              "      <td>3</td>\n",
              "      <td>Sevilla</td>\n",
              "      <td>28</td>\n",
              "      <td>17</td>\n",
              "      <td>6</td>\n",
              "      <td>5</td>\n",
              "      <td>52</td>\n",
              "      <td>34</td>\n",
              "      <td>57</td>\n",
              "      <td>18</td>\n",
              "      <td>2.0</td>\n",
              "      <td>0.064356</td>\n",
              "      <td>0.607143</td>\n",
              "      <td>185</td>\n",
              "      <td>Champions</td>\n",
              "      <td>Sevilla</td>\n",
              "      <td>Andalucia</td>\n",
              "    </tr>\n",
              "    <tr>\n",
              "      <th>3</th>\n",
              "      <td>4</td>\n",
              "      <td>Atlético Madrid</td>\n",
              "      <td>28</td>\n",
              "      <td>16</td>\n",
              "      <td>7</td>\n",
              "      <td>5</td>\n",
              "      <td>52</td>\n",
              "      <td>23</td>\n",
              "      <td>55</td>\n",
              "      <td>29</td>\n",
              "      <td>7.0</td>\n",
              "      <td>0.064356</td>\n",
              "      <td>0.571429</td>\n",
              "      <td>240</td>\n",
              "      <td>Champions</td>\n",
              "      <td>Madrid</td>\n",
              "      <td>Madrid</td>\n",
              "    </tr>\n",
              "    <tr>\n",
              "      <th>4</th>\n",
              "      <td>5</td>\n",
              "      <td>Villarreal</td>\n",
              "      <td>28</td>\n",
              "      <td>13</td>\n",
              "      <td>9</td>\n",
              "      <td>6</td>\n",
              "      <td>39</td>\n",
              "      <td>20</td>\n",
              "      <td>48</td>\n",
              "      <td>19</td>\n",
              "      <td>0.0</td>\n",
              "      <td>0.048267</td>\n",
              "      <td>0.464286</td>\n",
              "      <td>288</td>\n",
              "      <td>Normal</td>\n",
              "      <td>Castellón</td>\n",
              "      <td>Comunidad Valenciana</td>\n",
              "    </tr>\n",
              "  </tbody>\n",
              "</table>\n",
              "</div>"
            ],
            "text/plain": [
              "   Puesto           Equipo  ...  Provincia    Comunidad Autónoma\n",
              "0       1      Real Madrid  ...     Madrid                Madrid\n",
              "1       2        Barcelona  ...  Barcelona              Cataluña\n",
              "2       3          Sevilla  ...    Sevilla             Andalucia\n",
              "3       4  Atlético Madrid  ...     Madrid                Madrid\n",
              "4       5       Villarreal  ...  Castellón  Comunidad Valenciana\n",
              "\n",
              "[5 rows x 17 columns]"
            ]
          },
          "metadata": {
            "tags": []
          },
          "execution_count": 54
        }
      ]
    },
    {
      "cell_type": "code",
      "metadata": {
        "id": "5_QpRfMFlxLP",
        "colab_type": "code",
        "colab": {}
      },
      "source": [
        "liga = liga.rename(columns= {\"#\" : \"Puesto\",\n",
        "             \"PJ\": \"Partidos Jugados\",\n",
        "             \"V\": \"Victorias\",\n",
        "             \"E\": \"Empates\",\n",
        "             \"D\": \"Derrotas\",\n",
        "             \"GF\": \"Goles Favor\",\n",
        "             \"GC\": \"Goles Contra\",\n",
        "             \"PTS\": \"Puntos\"})"
      ],
      "execution_count": 0,
      "outputs": []
    },
    {
      "cell_type": "code",
      "metadata": {
        "id": "Vhip5sdamX-E",
        "colab_type": "code",
        "outputId": "8378a97f-e1f9-41e3-bb3e-6654ba6e7828",
        "colab": {
          "base_uri": "https://localhost:8080/",
          "height": 281
        }
      },
      "source": [
        "liga.head()"
      ],
      "execution_count": 56,
      "outputs": [
        {
          "output_type": "execute_result",
          "data": {
            "text/html": [
              "<div>\n",
              "<style scoped>\n",
              "    .dataframe tbody tr th:only-of-type {\n",
              "        vertical-align: middle;\n",
              "    }\n",
              "\n",
              "    .dataframe tbody tr th {\n",
              "        vertical-align: top;\n",
              "    }\n",
              "\n",
              "    .dataframe thead th {\n",
              "        text-align: right;\n",
              "    }\n",
              "</style>\n",
              "<table border=\"1\" class=\"dataframe\">\n",
              "  <thead>\n",
              "    <tr style=\"text-align: right;\">\n",
              "      <th></th>\n",
              "      <th>Puesto</th>\n",
              "      <th>Equipo</th>\n",
              "      <th>PartidosJugados</th>\n",
              "      <th>Victorias</th>\n",
              "      <th>Empates</th>\n",
              "      <th>Derrotas</th>\n",
              "      <th>GolesFavor</th>\n",
              "      <th>GolesContra</th>\n",
              "      <th>Puntos</th>\n",
              "      <th>DiferenciaGoles</th>\n",
              "      <th>DiferenciaPuntos</th>\n",
              "      <th>PorcentajeGoles</th>\n",
              "      <th>PorcentajeVictorias</th>\n",
              "      <th>PuntosAcum</th>\n",
              "      <th>Zona</th>\n",
              "      <th>Provincia</th>\n",
              "      <th>Comunidad Autónoma</th>\n",
              "    </tr>\n",
              "  </thead>\n",
              "  <tbody>\n",
              "    <tr>\n",
              "      <th>0</th>\n",
              "      <td>1</td>\n",
              "      <td>Real Madrid</td>\n",
              "      <td>27</td>\n",
              "      <td>20</td>\n",
              "      <td>5</td>\n",
              "      <td>2</td>\n",
              "      <td>71</td>\n",
              "      <td>28</td>\n",
              "      <td>65</td>\n",
              "      <td>43</td>\n",
              "      <td>2.0</td>\n",
              "      <td>0.087871</td>\n",
              "      <td>0.740741</td>\n",
              "      <td>65</td>\n",
              "      <td>Champions</td>\n",
              "      <td>Madrid</td>\n",
              "      <td>Madrid</td>\n",
              "    </tr>\n",
              "    <tr>\n",
              "      <th>1</th>\n",
              "      <td>2</td>\n",
              "      <td>Barcelona</td>\n",
              "      <td>28</td>\n",
              "      <td>19</td>\n",
              "      <td>6</td>\n",
              "      <td>3</td>\n",
              "      <td>81</td>\n",
              "      <td>25</td>\n",
              "      <td>63</td>\n",
              "      <td>56</td>\n",
              "      <td>6.0</td>\n",
              "      <td>0.100248</td>\n",
              "      <td>0.678571</td>\n",
              "      <td>128</td>\n",
              "      <td>Champions</td>\n",
              "      <td>Barcelona</td>\n",
              "      <td>Cataluña</td>\n",
              "    </tr>\n",
              "    <tr>\n",
              "      <th>2</th>\n",
              "      <td>3</td>\n",
              "      <td>Sevilla</td>\n",
              "      <td>28</td>\n",
              "      <td>17</td>\n",
              "      <td>6</td>\n",
              "      <td>5</td>\n",
              "      <td>52</td>\n",
              "      <td>34</td>\n",
              "      <td>57</td>\n",
              "      <td>18</td>\n",
              "      <td>2.0</td>\n",
              "      <td>0.064356</td>\n",
              "      <td>0.607143</td>\n",
              "      <td>185</td>\n",
              "      <td>Champions</td>\n",
              "      <td>Sevilla</td>\n",
              "      <td>Andalucia</td>\n",
              "    </tr>\n",
              "    <tr>\n",
              "      <th>3</th>\n",
              "      <td>4</td>\n",
              "      <td>Atlético Madrid</td>\n",
              "      <td>28</td>\n",
              "      <td>16</td>\n",
              "      <td>7</td>\n",
              "      <td>5</td>\n",
              "      <td>52</td>\n",
              "      <td>23</td>\n",
              "      <td>55</td>\n",
              "      <td>29</td>\n",
              "      <td>7.0</td>\n",
              "      <td>0.064356</td>\n",
              "      <td>0.571429</td>\n",
              "      <td>240</td>\n",
              "      <td>Champions</td>\n",
              "      <td>Madrid</td>\n",
              "      <td>Madrid</td>\n",
              "    </tr>\n",
              "    <tr>\n",
              "      <th>4</th>\n",
              "      <td>5</td>\n",
              "      <td>Villarreal</td>\n",
              "      <td>28</td>\n",
              "      <td>13</td>\n",
              "      <td>9</td>\n",
              "      <td>6</td>\n",
              "      <td>39</td>\n",
              "      <td>20</td>\n",
              "      <td>48</td>\n",
              "      <td>19</td>\n",
              "      <td>0.0</td>\n",
              "      <td>0.048267</td>\n",
              "      <td>0.464286</td>\n",
              "      <td>288</td>\n",
              "      <td>Normal</td>\n",
              "      <td>Castellón</td>\n",
              "      <td>Comunidad Valenciana</td>\n",
              "    </tr>\n",
              "  </tbody>\n",
              "</table>\n",
              "</div>"
            ],
            "text/plain": [
              "   Puesto           Equipo  ...  Provincia    Comunidad Autónoma\n",
              "0       1      Real Madrid  ...     Madrid                Madrid\n",
              "1       2        Barcelona  ...  Barcelona              Cataluña\n",
              "2       3          Sevilla  ...    Sevilla             Andalucia\n",
              "3       4  Atlético Madrid  ...     Madrid                Madrid\n",
              "4       5       Villarreal  ...  Castellón  Comunidad Valenciana\n",
              "\n",
              "[5 rows x 17 columns]"
            ]
          },
          "metadata": {
            "tags": []
          },
          "execution_count": 56
        }
      ]
    },
    {
      "cell_type": "markdown",
      "metadata": {
        "id": "7J7O6nEzmlj0",
        "colab_type": "text"
      },
      "source": [
        "# Exercise 28\n",
        "- Rename the columns, so that they are in capital letters \n",
        "- but do not save it in the DataFrame"
      ]
    },
    {
      "cell_type": "code",
      "metadata": {
        "id": "VFhKHkPDmyvo",
        "colab_type": "code",
        "outputId": "a0b114ff-5611-4f86-d23c-6149a6c096d8",
        "colab": {
          "base_uri": "https://localhost:8080/",
          "height": 281
        }
      },
      "source": [
        "liga.rename(columns = lambda columns: columns.upper()).head()"
      ],
      "execution_count": 57,
      "outputs": [
        {
          "output_type": "execute_result",
          "data": {
            "text/html": [
              "<div>\n",
              "<style scoped>\n",
              "    .dataframe tbody tr th:only-of-type {\n",
              "        vertical-align: middle;\n",
              "    }\n",
              "\n",
              "    .dataframe tbody tr th {\n",
              "        vertical-align: top;\n",
              "    }\n",
              "\n",
              "    .dataframe thead th {\n",
              "        text-align: right;\n",
              "    }\n",
              "</style>\n",
              "<table border=\"1\" class=\"dataframe\">\n",
              "  <thead>\n",
              "    <tr style=\"text-align: right;\">\n",
              "      <th></th>\n",
              "      <th>PUESTO</th>\n",
              "      <th>EQUIPO</th>\n",
              "      <th>PARTIDOSJUGADOS</th>\n",
              "      <th>VICTORIAS</th>\n",
              "      <th>EMPATES</th>\n",
              "      <th>DERROTAS</th>\n",
              "      <th>GOLESFAVOR</th>\n",
              "      <th>GOLESCONTRA</th>\n",
              "      <th>PUNTOS</th>\n",
              "      <th>DIFERENCIAGOLES</th>\n",
              "      <th>DIFERENCIAPUNTOS</th>\n",
              "      <th>PORCENTAJEGOLES</th>\n",
              "      <th>PORCENTAJEVICTORIAS</th>\n",
              "      <th>PUNTOSACUM</th>\n",
              "      <th>ZONA</th>\n",
              "      <th>PROVINCIA</th>\n",
              "      <th>COMUNIDAD AUTÓNOMA</th>\n",
              "    </tr>\n",
              "  </thead>\n",
              "  <tbody>\n",
              "    <tr>\n",
              "      <th>0</th>\n",
              "      <td>1</td>\n",
              "      <td>Real Madrid</td>\n",
              "      <td>27</td>\n",
              "      <td>20</td>\n",
              "      <td>5</td>\n",
              "      <td>2</td>\n",
              "      <td>71</td>\n",
              "      <td>28</td>\n",
              "      <td>65</td>\n",
              "      <td>43</td>\n",
              "      <td>2.0</td>\n",
              "      <td>0.087871</td>\n",
              "      <td>0.740741</td>\n",
              "      <td>65</td>\n",
              "      <td>Champions</td>\n",
              "      <td>Madrid</td>\n",
              "      <td>Madrid</td>\n",
              "    </tr>\n",
              "    <tr>\n",
              "      <th>1</th>\n",
              "      <td>2</td>\n",
              "      <td>Barcelona</td>\n",
              "      <td>28</td>\n",
              "      <td>19</td>\n",
              "      <td>6</td>\n",
              "      <td>3</td>\n",
              "      <td>81</td>\n",
              "      <td>25</td>\n",
              "      <td>63</td>\n",
              "      <td>56</td>\n",
              "      <td>6.0</td>\n",
              "      <td>0.100248</td>\n",
              "      <td>0.678571</td>\n",
              "      <td>128</td>\n",
              "      <td>Champions</td>\n",
              "      <td>Barcelona</td>\n",
              "      <td>Cataluña</td>\n",
              "    </tr>\n",
              "    <tr>\n",
              "      <th>2</th>\n",
              "      <td>3</td>\n",
              "      <td>Sevilla</td>\n",
              "      <td>28</td>\n",
              "      <td>17</td>\n",
              "      <td>6</td>\n",
              "      <td>5</td>\n",
              "      <td>52</td>\n",
              "      <td>34</td>\n",
              "      <td>57</td>\n",
              "      <td>18</td>\n",
              "      <td>2.0</td>\n",
              "      <td>0.064356</td>\n",
              "      <td>0.607143</td>\n",
              "      <td>185</td>\n",
              "      <td>Champions</td>\n",
              "      <td>Sevilla</td>\n",
              "      <td>Andalucia</td>\n",
              "    </tr>\n",
              "    <tr>\n",
              "      <th>3</th>\n",
              "      <td>4</td>\n",
              "      <td>Atlético Madrid</td>\n",
              "      <td>28</td>\n",
              "      <td>16</td>\n",
              "      <td>7</td>\n",
              "      <td>5</td>\n",
              "      <td>52</td>\n",
              "      <td>23</td>\n",
              "      <td>55</td>\n",
              "      <td>29</td>\n",
              "      <td>7.0</td>\n",
              "      <td>0.064356</td>\n",
              "      <td>0.571429</td>\n",
              "      <td>240</td>\n",
              "      <td>Champions</td>\n",
              "      <td>Madrid</td>\n",
              "      <td>Madrid</td>\n",
              "    </tr>\n",
              "    <tr>\n",
              "      <th>4</th>\n",
              "      <td>5</td>\n",
              "      <td>Villarreal</td>\n",
              "      <td>28</td>\n",
              "      <td>13</td>\n",
              "      <td>9</td>\n",
              "      <td>6</td>\n",
              "      <td>39</td>\n",
              "      <td>20</td>\n",
              "      <td>48</td>\n",
              "      <td>19</td>\n",
              "      <td>0.0</td>\n",
              "      <td>0.048267</td>\n",
              "      <td>0.464286</td>\n",
              "      <td>288</td>\n",
              "      <td>Normal</td>\n",
              "      <td>Castellón</td>\n",
              "      <td>Comunidad Valenciana</td>\n",
              "    </tr>\n",
              "  </tbody>\n",
              "</table>\n",
              "</div>"
            ],
            "text/plain": [
              "   PUESTO           EQUIPO  ...  PROVINCIA    COMUNIDAD AUTÓNOMA\n",
              "0       1      Real Madrid  ...     Madrid                Madrid\n",
              "1       2        Barcelona  ...  Barcelona              Cataluña\n",
              "2       3          Sevilla  ...    Sevilla             Andalucia\n",
              "3       4  Atlético Madrid  ...     Madrid                Madrid\n",
              "4       5       Villarreal  ...  Castellón  Comunidad Valenciana\n",
              "\n",
              "[5 rows x 17 columns]"
            ]
          },
          "metadata": {
            "tags": []
          },
          "execution_count": 57
        }
      ]
    },
    {
      "cell_type": "markdown",
      "metadata": {
        "id": "hRhQDSNom8le",
        "colab_type": "text"
      },
      "source": [
        "## Column selection \n",
        "- There is no specific function to select columns in Panda\n",
        "- Just use an an array of names "
      ]
    },
    {
      "cell_type": "code",
      "metadata": {
        "id": "YC-2PwlInT1c",
        "colab_type": "code",
        "outputId": "c3178af5-ff83-4b4e-bf30-18c69b966abd",
        "colab": {
          "base_uri": "https://localhost:8080/",
          "height": 223
        }
      },
      "source": [
        "df"
      ],
      "execution_count": 58,
      "outputs": [
        {
          "output_type": "execute_result",
          "data": {
            "text/html": [
              "<div>\n",
              "<style scoped>\n",
              "    .dataframe tbody tr th:only-of-type {\n",
              "        vertical-align: middle;\n",
              "    }\n",
              "\n",
              "    .dataframe tbody tr th {\n",
              "        vertical-align: top;\n",
              "    }\n",
              "\n",
              "    .dataframe thead th {\n",
              "        text-align: right;\n",
              "    }\n",
              "</style>\n",
              "<table border=\"1\" class=\"dataframe\">\n",
              "  <thead>\n",
              "    <tr style=\"text-align: right;\">\n",
              "      <th></th>\n",
              "      <th>Country</th>\n",
              "      <th>Year</th>\n",
              "      <th>Cases</th>\n",
              "      <th>Population</th>\n",
              "    </tr>\n",
              "  </thead>\n",
              "  <tbody>\n",
              "    <tr>\n",
              "      <th>0</th>\n",
              "      <td>Afghanistan</td>\n",
              "      <td>1999</td>\n",
              "      <td>745</td>\n",
              "      <td>19987071</td>\n",
              "    </tr>\n",
              "    <tr>\n",
              "      <th>1</th>\n",
              "      <td>Afghanistan</td>\n",
              "      <td>2000</td>\n",
              "      <td>266</td>\n",
              "      <td>20595360</td>\n",
              "    </tr>\n",
              "    <tr>\n",
              "      <th>2</th>\n",
              "      <td>Brazil</td>\n",
              "      <td>1999</td>\n",
              "      <td>37737</td>\n",
              "      <td>172006362</td>\n",
              "    </tr>\n",
              "    <tr>\n",
              "      <th>3</th>\n",
              "      <td>Brazil</td>\n",
              "      <td>2000</td>\n",
              "      <td>80488</td>\n",
              "      <td>174504898</td>\n",
              "    </tr>\n",
              "    <tr>\n",
              "      <th>4</th>\n",
              "      <td>China</td>\n",
              "      <td>1999</td>\n",
              "      <td>212258</td>\n",
              "      <td>1272915272</td>\n",
              "    </tr>\n",
              "    <tr>\n",
              "      <th>5</th>\n",
              "      <td>China</td>\n",
              "      <td>2000</td>\n",
              "      <td>213766</td>\n",
              "      <td>1280428583</td>\n",
              "    </tr>\n",
              "  </tbody>\n",
              "</table>\n",
              "</div>"
            ],
            "text/plain": [
              "       Country  Year   Cases  Population\n",
              "0  Afghanistan  1999     745    19987071\n",
              "1  Afghanistan  2000     266    20595360\n",
              "2       Brazil  1999   37737   172006362\n",
              "3       Brazil  2000   80488   174504898\n",
              "4        China  1999  212258  1272915272\n",
              "5        China  2000  213766  1280428583"
            ]
          },
          "metadata": {
            "tags": []
          },
          "execution_count": 58
        }
      ]
    },
    {
      "cell_type": "code",
      "metadata": {
        "id": "uxhFWg54nVNr",
        "colab_type": "code",
        "outputId": "1b9105b3-606d-4fdf-d5d8-21f20de0f3be",
        "colab": {
          "base_uri": "https://localhost:8080/",
          "height": 223
        }
      },
      "source": [
        "df[[\"Year\", \"Country\", \"Country\"]]"
      ],
      "execution_count": 59,
      "outputs": [
        {
          "output_type": "execute_result",
          "data": {
            "text/html": [
              "<div>\n",
              "<style scoped>\n",
              "    .dataframe tbody tr th:only-of-type {\n",
              "        vertical-align: middle;\n",
              "    }\n",
              "\n",
              "    .dataframe tbody tr th {\n",
              "        vertical-align: top;\n",
              "    }\n",
              "\n",
              "    .dataframe thead th {\n",
              "        text-align: right;\n",
              "    }\n",
              "</style>\n",
              "<table border=\"1\" class=\"dataframe\">\n",
              "  <thead>\n",
              "    <tr style=\"text-align: right;\">\n",
              "      <th></th>\n",
              "      <th>Year</th>\n",
              "      <th>Country</th>\n",
              "      <th>Country</th>\n",
              "    </tr>\n",
              "  </thead>\n",
              "  <tbody>\n",
              "    <tr>\n",
              "      <th>0</th>\n",
              "      <td>1999</td>\n",
              "      <td>Afghanistan</td>\n",
              "      <td>Afghanistan</td>\n",
              "    </tr>\n",
              "    <tr>\n",
              "      <th>1</th>\n",
              "      <td>2000</td>\n",
              "      <td>Afghanistan</td>\n",
              "      <td>Afghanistan</td>\n",
              "    </tr>\n",
              "    <tr>\n",
              "      <th>2</th>\n",
              "      <td>1999</td>\n",
              "      <td>Brazil</td>\n",
              "      <td>Brazil</td>\n",
              "    </tr>\n",
              "    <tr>\n",
              "      <th>3</th>\n",
              "      <td>2000</td>\n",
              "      <td>Brazil</td>\n",
              "      <td>Brazil</td>\n",
              "    </tr>\n",
              "    <tr>\n",
              "      <th>4</th>\n",
              "      <td>1999</td>\n",
              "      <td>China</td>\n",
              "      <td>China</td>\n",
              "    </tr>\n",
              "    <tr>\n",
              "      <th>5</th>\n",
              "      <td>2000</td>\n",
              "      <td>China</td>\n",
              "      <td>China</td>\n",
              "    </tr>\n",
              "  </tbody>\n",
              "</table>\n",
              "</div>"
            ],
            "text/plain": [
              "   Year      Country      Country\n",
              "0  1999  Afghanistan  Afghanistan\n",
              "1  2000  Afghanistan  Afghanistan\n",
              "2  1999       Brazil       Brazil\n",
              "3  2000       Brazil       Brazil\n",
              "4  1999        China        China\n",
              "5  2000        China        China"
            ]
          },
          "metadata": {
            "tags": []
          },
          "execution_count": 59
        }
      ]
    },
    {
      "cell_type": "markdown",
      "metadata": {
        "id": "O5Wx9ghVnbb7",
        "colab_type": "text"
      },
      "source": [
        "# Exercise 29\n",
        "Use the DataFrame “liga\":\n",
        "- Select the “Puesto\" and \"Puntos\" columns\n",
        "- Select all columns in alphabetical order (sorted)"
      ]
    },
    {
      "cell_type": "code",
      "metadata": {
        "id": "QFLTSL-mnm2t",
        "colab_type": "code",
        "outputId": "1a30d584-9173-4266-f358-c606f32fa815",
        "colab": {
          "base_uri": "https://localhost:8080/",
          "height": 160
        }
      },
      "source": [
        "liga.head(2)"
      ],
      "execution_count": 60,
      "outputs": [
        {
          "output_type": "execute_result",
          "data": {
            "text/html": [
              "<div>\n",
              "<style scoped>\n",
              "    .dataframe tbody tr th:only-of-type {\n",
              "        vertical-align: middle;\n",
              "    }\n",
              "\n",
              "    .dataframe tbody tr th {\n",
              "        vertical-align: top;\n",
              "    }\n",
              "\n",
              "    .dataframe thead th {\n",
              "        text-align: right;\n",
              "    }\n",
              "</style>\n",
              "<table border=\"1\" class=\"dataframe\">\n",
              "  <thead>\n",
              "    <tr style=\"text-align: right;\">\n",
              "      <th></th>\n",
              "      <th>Puesto</th>\n",
              "      <th>Equipo</th>\n",
              "      <th>PartidosJugados</th>\n",
              "      <th>Victorias</th>\n",
              "      <th>Empates</th>\n",
              "      <th>Derrotas</th>\n",
              "      <th>GolesFavor</th>\n",
              "      <th>GolesContra</th>\n",
              "      <th>Puntos</th>\n",
              "      <th>DiferenciaGoles</th>\n",
              "      <th>DiferenciaPuntos</th>\n",
              "      <th>PorcentajeGoles</th>\n",
              "      <th>PorcentajeVictorias</th>\n",
              "      <th>PuntosAcum</th>\n",
              "      <th>Zona</th>\n",
              "      <th>Provincia</th>\n",
              "      <th>Comunidad Autónoma</th>\n",
              "    </tr>\n",
              "  </thead>\n",
              "  <tbody>\n",
              "    <tr>\n",
              "      <th>0</th>\n",
              "      <td>1</td>\n",
              "      <td>Real Madrid</td>\n",
              "      <td>27</td>\n",
              "      <td>20</td>\n",
              "      <td>5</td>\n",
              "      <td>2</td>\n",
              "      <td>71</td>\n",
              "      <td>28</td>\n",
              "      <td>65</td>\n",
              "      <td>43</td>\n",
              "      <td>2.0</td>\n",
              "      <td>0.087871</td>\n",
              "      <td>0.740741</td>\n",
              "      <td>65</td>\n",
              "      <td>Champions</td>\n",
              "      <td>Madrid</td>\n",
              "      <td>Madrid</td>\n",
              "    </tr>\n",
              "    <tr>\n",
              "      <th>1</th>\n",
              "      <td>2</td>\n",
              "      <td>Barcelona</td>\n",
              "      <td>28</td>\n",
              "      <td>19</td>\n",
              "      <td>6</td>\n",
              "      <td>3</td>\n",
              "      <td>81</td>\n",
              "      <td>25</td>\n",
              "      <td>63</td>\n",
              "      <td>56</td>\n",
              "      <td>6.0</td>\n",
              "      <td>0.100248</td>\n",
              "      <td>0.678571</td>\n",
              "      <td>128</td>\n",
              "      <td>Champions</td>\n",
              "      <td>Barcelona</td>\n",
              "      <td>Cataluña</td>\n",
              "    </tr>\n",
              "  </tbody>\n",
              "</table>\n",
              "</div>"
            ],
            "text/plain": [
              "   Puesto       Equipo  ...  Provincia  Comunidad Autónoma\n",
              "0       1  Real Madrid  ...     Madrid              Madrid\n",
              "1       2    Barcelona  ...  Barcelona            Cataluña\n",
              "\n",
              "[2 rows x 17 columns]"
            ]
          },
          "metadata": {
            "tags": []
          },
          "execution_count": 60
        }
      ]
    },
    {
      "cell_type": "code",
      "metadata": {
        "id": "4bw-tWbcnnur",
        "colab_type": "code",
        "outputId": "a3cd026c-9e10-4773-dd65-61f019ea51d0",
        "colab": {
          "base_uri": "https://localhost:8080/",
          "height": 106
        }
      },
      "source": [
        "liga[[\"Puesto\", \"Puntos\"]].head(2)"
      ],
      "execution_count": 61,
      "outputs": [
        {
          "output_type": "execute_result",
          "data": {
            "text/html": [
              "<div>\n",
              "<style scoped>\n",
              "    .dataframe tbody tr th:only-of-type {\n",
              "        vertical-align: middle;\n",
              "    }\n",
              "\n",
              "    .dataframe tbody tr th {\n",
              "        vertical-align: top;\n",
              "    }\n",
              "\n",
              "    .dataframe thead th {\n",
              "        text-align: right;\n",
              "    }\n",
              "</style>\n",
              "<table border=\"1\" class=\"dataframe\">\n",
              "  <thead>\n",
              "    <tr style=\"text-align: right;\">\n",
              "      <th></th>\n",
              "      <th>Puesto</th>\n",
              "      <th>Puntos</th>\n",
              "    </tr>\n",
              "  </thead>\n",
              "  <tbody>\n",
              "    <tr>\n",
              "      <th>0</th>\n",
              "      <td>1</td>\n",
              "      <td>65</td>\n",
              "    </tr>\n",
              "    <tr>\n",
              "      <th>1</th>\n",
              "      <td>2</td>\n",
              "      <td>63</td>\n",
              "    </tr>\n",
              "  </tbody>\n",
              "</table>\n",
              "</div>"
            ],
            "text/plain": [
              "   Puesto  Puntos\n",
              "0       1      65\n",
              "1       2      63"
            ]
          },
          "metadata": {
            "tags": []
          },
          "execution_count": 61
        }
      ]
    },
    {
      "cell_type": "code",
      "metadata": {
        "id": "6sZq9V2ynuPM",
        "colab_type": "code",
        "outputId": "6077961c-fa21-4bad-efbe-a639c50847f6",
        "colab": {
          "base_uri": "https://localhost:8080/",
          "height": 189
        }
      },
      "source": [
        "liga.sort_index(axis=1).head(3)"
      ],
      "execution_count": 62,
      "outputs": [
        {
          "output_type": "execute_result",
          "data": {
            "text/html": [
              "<div>\n",
              "<style scoped>\n",
              "    .dataframe tbody tr th:only-of-type {\n",
              "        vertical-align: middle;\n",
              "    }\n",
              "\n",
              "    .dataframe tbody tr th {\n",
              "        vertical-align: top;\n",
              "    }\n",
              "\n",
              "    .dataframe thead th {\n",
              "        text-align: right;\n",
              "    }\n",
              "</style>\n",
              "<table border=\"1\" class=\"dataframe\">\n",
              "  <thead>\n",
              "    <tr style=\"text-align: right;\">\n",
              "      <th></th>\n",
              "      <th>Comunidad Autónoma</th>\n",
              "      <th>Derrotas</th>\n",
              "      <th>DiferenciaGoles</th>\n",
              "      <th>DiferenciaPuntos</th>\n",
              "      <th>Empates</th>\n",
              "      <th>Equipo</th>\n",
              "      <th>GolesContra</th>\n",
              "      <th>GolesFavor</th>\n",
              "      <th>PartidosJugados</th>\n",
              "      <th>PorcentajeGoles</th>\n",
              "      <th>PorcentajeVictorias</th>\n",
              "      <th>Provincia</th>\n",
              "      <th>Puesto</th>\n",
              "      <th>Puntos</th>\n",
              "      <th>PuntosAcum</th>\n",
              "      <th>Victorias</th>\n",
              "      <th>Zona</th>\n",
              "    </tr>\n",
              "  </thead>\n",
              "  <tbody>\n",
              "    <tr>\n",
              "      <th>0</th>\n",
              "      <td>Madrid</td>\n",
              "      <td>2</td>\n",
              "      <td>43</td>\n",
              "      <td>2.0</td>\n",
              "      <td>5</td>\n",
              "      <td>Real Madrid</td>\n",
              "      <td>28</td>\n",
              "      <td>71</td>\n",
              "      <td>27</td>\n",
              "      <td>0.087871</td>\n",
              "      <td>0.740741</td>\n",
              "      <td>Madrid</td>\n",
              "      <td>1</td>\n",
              "      <td>65</td>\n",
              "      <td>65</td>\n",
              "      <td>20</td>\n",
              "      <td>Champions</td>\n",
              "    </tr>\n",
              "    <tr>\n",
              "      <th>1</th>\n",
              "      <td>Cataluña</td>\n",
              "      <td>3</td>\n",
              "      <td>56</td>\n",
              "      <td>6.0</td>\n",
              "      <td>6</td>\n",
              "      <td>Barcelona</td>\n",
              "      <td>25</td>\n",
              "      <td>81</td>\n",
              "      <td>28</td>\n",
              "      <td>0.100248</td>\n",
              "      <td>0.678571</td>\n",
              "      <td>Barcelona</td>\n",
              "      <td>2</td>\n",
              "      <td>63</td>\n",
              "      <td>128</td>\n",
              "      <td>19</td>\n",
              "      <td>Champions</td>\n",
              "    </tr>\n",
              "    <tr>\n",
              "      <th>2</th>\n",
              "      <td>Andalucia</td>\n",
              "      <td>5</td>\n",
              "      <td>18</td>\n",
              "      <td>2.0</td>\n",
              "      <td>6</td>\n",
              "      <td>Sevilla</td>\n",
              "      <td>34</td>\n",
              "      <td>52</td>\n",
              "      <td>28</td>\n",
              "      <td>0.064356</td>\n",
              "      <td>0.607143</td>\n",
              "      <td>Sevilla</td>\n",
              "      <td>3</td>\n",
              "      <td>57</td>\n",
              "      <td>185</td>\n",
              "      <td>17</td>\n",
              "      <td>Champions</td>\n",
              "    </tr>\n",
              "  </tbody>\n",
              "</table>\n",
              "</div>"
            ],
            "text/plain": [
              "  Comunidad Autónoma  Derrotas  ...  Victorias       Zona\n",
              "0             Madrid         2  ...         20  Champions\n",
              "1           Cataluña         3  ...         19  Champions\n",
              "2          Andalucia         5  ...         17  Champions\n",
              "\n",
              "[3 rows x 17 columns]"
            ]
          },
          "metadata": {
            "tags": []
          },
          "execution_count": 62
        }
      ]
    },
    {
      "cell_type": "markdown",
      "metadata": {
        "id": "vLrzLF8poVlt",
        "colab_type": "text"
      },
      "source": [
        "## Row filtering \n",
        "The `query()` function allows you to filter the rows of a\n",
        "Dataframe in the same way that the WHERE clause in a\n",
        "SQL statement does"
      ]
    },
    {
      "cell_type": "code",
      "metadata": {
        "id": "mXhYUdHWosnf",
        "colab_type": "code",
        "outputId": "e6f548cf-1a1b-4b40-bf57-f1b6f94edb8f",
        "colab": {
          "base_uri": "https://localhost:8080/",
          "height": 164
        }
      },
      "source": [
        "df.query(\"Country=='China' or Year == 1999\")"
      ],
      "execution_count": 63,
      "outputs": [
        {
          "output_type": "execute_result",
          "data": {
            "text/html": [
              "<div>\n",
              "<style scoped>\n",
              "    .dataframe tbody tr th:only-of-type {\n",
              "        vertical-align: middle;\n",
              "    }\n",
              "\n",
              "    .dataframe tbody tr th {\n",
              "        vertical-align: top;\n",
              "    }\n",
              "\n",
              "    .dataframe thead th {\n",
              "        text-align: right;\n",
              "    }\n",
              "</style>\n",
              "<table border=\"1\" class=\"dataframe\">\n",
              "  <thead>\n",
              "    <tr style=\"text-align: right;\">\n",
              "      <th></th>\n",
              "      <th>Country</th>\n",
              "      <th>Year</th>\n",
              "      <th>Cases</th>\n",
              "      <th>Population</th>\n",
              "    </tr>\n",
              "  </thead>\n",
              "  <tbody>\n",
              "    <tr>\n",
              "      <th>0</th>\n",
              "      <td>Afghanistan</td>\n",
              "      <td>1999</td>\n",
              "      <td>745</td>\n",
              "      <td>19987071</td>\n",
              "    </tr>\n",
              "    <tr>\n",
              "      <th>2</th>\n",
              "      <td>Brazil</td>\n",
              "      <td>1999</td>\n",
              "      <td>37737</td>\n",
              "      <td>172006362</td>\n",
              "    </tr>\n",
              "    <tr>\n",
              "      <th>4</th>\n",
              "      <td>China</td>\n",
              "      <td>1999</td>\n",
              "      <td>212258</td>\n",
              "      <td>1272915272</td>\n",
              "    </tr>\n",
              "    <tr>\n",
              "      <th>5</th>\n",
              "      <td>China</td>\n",
              "      <td>2000</td>\n",
              "      <td>213766</td>\n",
              "      <td>1280428583</td>\n",
              "    </tr>\n",
              "  </tbody>\n",
              "</table>\n",
              "</div>"
            ],
            "text/plain": [
              "       Country  Year   Cases  Population\n",
              "0  Afghanistan  1999     745    19987071\n",
              "2       Brazil  1999   37737   172006362\n",
              "4        China  1999  212258  1272915272\n",
              "5        China  2000  213766  1280428583"
            ]
          },
          "metadata": {
            "tags": []
          },
          "execution_count": 63
        }
      ]
    },
    {
      "cell_type": "code",
      "metadata": {
        "id": "xETUWeEaozg_",
        "colab_type": "code",
        "outputId": "432e8432-00f7-4b2f-e777-bf4b6872afce",
        "colab": {
          "base_uri": "https://localhost:8080/",
          "height": 106
        }
      },
      "source": [
        "df.query(\"Country =='Afghanistan'\")"
      ],
      "execution_count": 64,
      "outputs": [
        {
          "output_type": "execute_result",
          "data": {
            "text/html": [
              "<div>\n",
              "<style scoped>\n",
              "    .dataframe tbody tr th:only-of-type {\n",
              "        vertical-align: middle;\n",
              "    }\n",
              "\n",
              "    .dataframe tbody tr th {\n",
              "        vertical-align: top;\n",
              "    }\n",
              "\n",
              "    .dataframe thead th {\n",
              "        text-align: right;\n",
              "    }\n",
              "</style>\n",
              "<table border=\"1\" class=\"dataframe\">\n",
              "  <thead>\n",
              "    <tr style=\"text-align: right;\">\n",
              "      <th></th>\n",
              "      <th>Country</th>\n",
              "      <th>Year</th>\n",
              "      <th>Cases</th>\n",
              "      <th>Population</th>\n",
              "    </tr>\n",
              "  </thead>\n",
              "  <tbody>\n",
              "    <tr>\n",
              "      <th>0</th>\n",
              "      <td>Afghanistan</td>\n",
              "      <td>1999</td>\n",
              "      <td>745</td>\n",
              "      <td>19987071</td>\n",
              "    </tr>\n",
              "    <tr>\n",
              "      <th>1</th>\n",
              "      <td>Afghanistan</td>\n",
              "      <td>2000</td>\n",
              "      <td>266</td>\n",
              "      <td>20595360</td>\n",
              "    </tr>\n",
              "  </tbody>\n",
              "</table>\n",
              "</div>"
            ],
            "text/plain": [
              "       Country  Year  Cases  Population\n",
              "0  Afghanistan  1999    745    19987071\n",
              "1  Afghanistan  2000    266    20595360"
            ]
          },
          "metadata": {
            "tags": []
          },
          "execution_count": 64
        }
      ]
    },
    {
      "cell_type": "code",
      "metadata": {
        "id": "dqLBEhQbpF-y",
        "colab_type": "code",
        "outputId": "40a58a6f-0395-4ce6-d278-cd3f8f62fad7",
        "colab": {
          "base_uri": "https://localhost:8080/",
          "height": 135
        }
      },
      "source": [
        "df.query(\"Year not in (2000,2001)\")"
      ],
      "execution_count": 65,
      "outputs": [
        {
          "output_type": "execute_result",
          "data": {
            "text/html": [
              "<div>\n",
              "<style scoped>\n",
              "    .dataframe tbody tr th:only-of-type {\n",
              "        vertical-align: middle;\n",
              "    }\n",
              "\n",
              "    .dataframe tbody tr th {\n",
              "        vertical-align: top;\n",
              "    }\n",
              "\n",
              "    .dataframe thead th {\n",
              "        text-align: right;\n",
              "    }\n",
              "</style>\n",
              "<table border=\"1\" class=\"dataframe\">\n",
              "  <thead>\n",
              "    <tr style=\"text-align: right;\">\n",
              "      <th></th>\n",
              "      <th>Country</th>\n",
              "      <th>Year</th>\n",
              "      <th>Cases</th>\n",
              "      <th>Population</th>\n",
              "    </tr>\n",
              "  </thead>\n",
              "  <tbody>\n",
              "    <tr>\n",
              "      <th>0</th>\n",
              "      <td>Afghanistan</td>\n",
              "      <td>1999</td>\n",
              "      <td>745</td>\n",
              "      <td>19987071</td>\n",
              "    </tr>\n",
              "    <tr>\n",
              "      <th>2</th>\n",
              "      <td>Brazil</td>\n",
              "      <td>1999</td>\n",
              "      <td>37737</td>\n",
              "      <td>172006362</td>\n",
              "    </tr>\n",
              "    <tr>\n",
              "      <th>4</th>\n",
              "      <td>China</td>\n",
              "      <td>1999</td>\n",
              "      <td>212258</td>\n",
              "      <td>1272915272</td>\n",
              "    </tr>\n",
              "  </tbody>\n",
              "</table>\n",
              "</div>"
            ],
            "text/plain": [
              "       Country  Year   Cases  Population\n",
              "0  Afghanistan  1999     745    19987071\n",
              "2       Brazil  1999   37737   172006362\n",
              "4        China  1999  212258  1272915272"
            ]
          },
          "metadata": {
            "tags": []
          },
          "execution_count": 65
        }
      ]
    },
    {
      "cell_type": "code",
      "metadata": {
        "id": "cyufd6dTpKcu",
        "colab_type": "code",
        "outputId": "b0f58c12-61dc-44e2-8965-581cd06b11f9",
        "colab": {
          "base_uri": "https://localhost:8080/",
          "height": 106
        }
      },
      "source": [
        "df[df.Country.str.contains(\"^C\")]"
      ],
      "execution_count": 66,
      "outputs": [
        {
          "output_type": "execute_result",
          "data": {
            "text/html": [
              "<div>\n",
              "<style scoped>\n",
              "    .dataframe tbody tr th:only-of-type {\n",
              "        vertical-align: middle;\n",
              "    }\n",
              "\n",
              "    .dataframe tbody tr th {\n",
              "        vertical-align: top;\n",
              "    }\n",
              "\n",
              "    .dataframe thead th {\n",
              "        text-align: right;\n",
              "    }\n",
              "</style>\n",
              "<table border=\"1\" class=\"dataframe\">\n",
              "  <thead>\n",
              "    <tr style=\"text-align: right;\">\n",
              "      <th></th>\n",
              "      <th>Country</th>\n",
              "      <th>Year</th>\n",
              "      <th>Cases</th>\n",
              "      <th>Population</th>\n",
              "    </tr>\n",
              "  </thead>\n",
              "  <tbody>\n",
              "    <tr>\n",
              "      <th>4</th>\n",
              "      <td>China</td>\n",
              "      <td>1999</td>\n",
              "      <td>212258</td>\n",
              "      <td>1272915272</td>\n",
              "    </tr>\n",
              "    <tr>\n",
              "      <th>5</th>\n",
              "      <td>China</td>\n",
              "      <td>2000</td>\n",
              "      <td>213766</td>\n",
              "      <td>1280428583</td>\n",
              "    </tr>\n",
              "  </tbody>\n",
              "</table>\n",
              "</div>"
            ],
            "text/plain": [
              "  Country  Year   Cases  Population\n",
              "4   China  1999  212258  1272915272\n",
              "5   China  2000  213766  1280428583"
            ]
          },
          "metadata": {
            "tags": []
          },
          "execution_count": 66
        }
      ]
    },
    {
      "cell_type": "code",
      "metadata": {
        "id": "hWbRWIJBpUf0",
        "colab_type": "code",
        "outputId": "26a03ace-878b-4393-abad-9f0cc470a6fb",
        "colab": {
          "base_uri": "https://localhost:8080/",
          "height": 223
        }
      },
      "source": [
        "df[~df.Country.isnull()]"
      ],
      "execution_count": 67,
      "outputs": [
        {
          "output_type": "execute_result",
          "data": {
            "text/html": [
              "<div>\n",
              "<style scoped>\n",
              "    .dataframe tbody tr th:only-of-type {\n",
              "        vertical-align: middle;\n",
              "    }\n",
              "\n",
              "    .dataframe tbody tr th {\n",
              "        vertical-align: top;\n",
              "    }\n",
              "\n",
              "    .dataframe thead th {\n",
              "        text-align: right;\n",
              "    }\n",
              "</style>\n",
              "<table border=\"1\" class=\"dataframe\">\n",
              "  <thead>\n",
              "    <tr style=\"text-align: right;\">\n",
              "      <th></th>\n",
              "      <th>Country</th>\n",
              "      <th>Year</th>\n",
              "      <th>Cases</th>\n",
              "      <th>Population</th>\n",
              "    </tr>\n",
              "  </thead>\n",
              "  <tbody>\n",
              "    <tr>\n",
              "      <th>0</th>\n",
              "      <td>Afghanistan</td>\n",
              "      <td>1999</td>\n",
              "      <td>745</td>\n",
              "      <td>19987071</td>\n",
              "    </tr>\n",
              "    <tr>\n",
              "      <th>1</th>\n",
              "      <td>Afghanistan</td>\n",
              "      <td>2000</td>\n",
              "      <td>266</td>\n",
              "      <td>20595360</td>\n",
              "    </tr>\n",
              "    <tr>\n",
              "      <th>2</th>\n",
              "      <td>Brazil</td>\n",
              "      <td>1999</td>\n",
              "      <td>37737</td>\n",
              "      <td>172006362</td>\n",
              "    </tr>\n",
              "    <tr>\n",
              "      <th>3</th>\n",
              "      <td>Brazil</td>\n",
              "      <td>2000</td>\n",
              "      <td>80488</td>\n",
              "      <td>174504898</td>\n",
              "    </tr>\n",
              "    <tr>\n",
              "      <th>4</th>\n",
              "      <td>China</td>\n",
              "      <td>1999</td>\n",
              "      <td>212258</td>\n",
              "      <td>1272915272</td>\n",
              "    </tr>\n",
              "    <tr>\n",
              "      <th>5</th>\n",
              "      <td>China</td>\n",
              "      <td>2000</td>\n",
              "      <td>213766</td>\n",
              "      <td>1280428583</td>\n",
              "    </tr>\n",
              "  </tbody>\n",
              "</table>\n",
              "</div>"
            ],
            "text/plain": [
              "       Country  Year   Cases  Population\n",
              "0  Afghanistan  1999     745    19987071\n",
              "1  Afghanistan  2000     266    20595360\n",
              "2       Brazil  1999   37737   172006362\n",
              "3       Brazil  2000   80488   174504898\n",
              "4        China  1999  212258  1272915272\n",
              "5        China  2000  213766  1280428583"
            ]
          },
          "metadata": {
            "tags": []
          },
          "execution_count": 67
        }
      ]
    },
    {
      "cell_type": "code",
      "metadata": {
        "id": "30RNbWb6pb45",
        "colab_type": "code",
        "outputId": "197f1e9e-2923-4cb7-d303-c68cc77ace51",
        "colab": {
          "base_uri": "https://localhost:8080/",
          "height": 135
        }
      },
      "source": [
        "df[df.Year.isin([1999])]"
      ],
      "execution_count": 68,
      "outputs": [
        {
          "output_type": "execute_result",
          "data": {
            "text/html": [
              "<div>\n",
              "<style scoped>\n",
              "    .dataframe tbody tr th:only-of-type {\n",
              "        vertical-align: middle;\n",
              "    }\n",
              "\n",
              "    .dataframe tbody tr th {\n",
              "        vertical-align: top;\n",
              "    }\n",
              "\n",
              "    .dataframe thead th {\n",
              "        text-align: right;\n",
              "    }\n",
              "</style>\n",
              "<table border=\"1\" class=\"dataframe\">\n",
              "  <thead>\n",
              "    <tr style=\"text-align: right;\">\n",
              "      <th></th>\n",
              "      <th>Country</th>\n",
              "      <th>Year</th>\n",
              "      <th>Cases</th>\n",
              "      <th>Population</th>\n",
              "    </tr>\n",
              "  </thead>\n",
              "  <tbody>\n",
              "    <tr>\n",
              "      <th>0</th>\n",
              "      <td>Afghanistan</td>\n",
              "      <td>1999</td>\n",
              "      <td>745</td>\n",
              "      <td>19987071</td>\n",
              "    </tr>\n",
              "    <tr>\n",
              "      <th>2</th>\n",
              "      <td>Brazil</td>\n",
              "      <td>1999</td>\n",
              "      <td>37737</td>\n",
              "      <td>172006362</td>\n",
              "    </tr>\n",
              "    <tr>\n",
              "      <th>4</th>\n",
              "      <td>China</td>\n",
              "      <td>1999</td>\n",
              "      <td>212258</td>\n",
              "      <td>1272915272</td>\n",
              "    </tr>\n",
              "  </tbody>\n",
              "</table>\n",
              "</div>"
            ],
            "text/plain": [
              "       Country  Year   Cases  Population\n",
              "0  Afghanistan  1999     745    19987071\n",
              "2       Brazil  1999   37737   172006362\n",
              "4        China  1999  212258  1272915272"
            ]
          },
          "metadata": {
            "tags": []
          },
          "execution_count": 68
        }
      ]
    },
    {
      "cell_type": "code",
      "metadata": {
        "id": "TjzHR__9piWJ",
        "colab_type": "code",
        "outputId": "ca51a656-1f0b-4a11-f3f5-131c41de609c",
        "colab": {
          "base_uri": "https://localhost:8080/",
          "height": 35
        }
      },
      "source": [
        "df.Year.value_counts().index[:1]"
      ],
      "execution_count": 69,
      "outputs": [
        {
          "output_type": "execute_result",
          "data": {
            "text/plain": [
              "Int64Index([1999], dtype='int64')"
            ]
          },
          "metadata": {
            "tags": []
          },
          "execution_count": 69
        }
      ]
    },
    {
      "cell_type": "code",
      "metadata": {
        "id": "m1Jh_lEzqKZ8",
        "colab_type": "code",
        "outputId": "c8e551eb-d97b-4a51-a359-0c17574e36eb",
        "colab": {
          "base_uri": "https://localhost:8080/",
          "height": 135
        }
      },
      "source": [
        "df[df.Year.isin(df.Year.value_counts().index[:1])]"
      ],
      "execution_count": 70,
      "outputs": [
        {
          "output_type": "execute_result",
          "data": {
            "text/html": [
              "<div>\n",
              "<style scoped>\n",
              "    .dataframe tbody tr th:only-of-type {\n",
              "        vertical-align: middle;\n",
              "    }\n",
              "\n",
              "    .dataframe tbody tr th {\n",
              "        vertical-align: top;\n",
              "    }\n",
              "\n",
              "    .dataframe thead th {\n",
              "        text-align: right;\n",
              "    }\n",
              "</style>\n",
              "<table border=\"1\" class=\"dataframe\">\n",
              "  <thead>\n",
              "    <tr style=\"text-align: right;\">\n",
              "      <th></th>\n",
              "      <th>Country</th>\n",
              "      <th>Year</th>\n",
              "      <th>Cases</th>\n",
              "      <th>Population</th>\n",
              "    </tr>\n",
              "  </thead>\n",
              "  <tbody>\n",
              "    <tr>\n",
              "      <th>0</th>\n",
              "      <td>Afghanistan</td>\n",
              "      <td>1999</td>\n",
              "      <td>745</td>\n",
              "      <td>19987071</td>\n",
              "    </tr>\n",
              "    <tr>\n",
              "      <th>2</th>\n",
              "      <td>Brazil</td>\n",
              "      <td>1999</td>\n",
              "      <td>37737</td>\n",
              "      <td>172006362</td>\n",
              "    </tr>\n",
              "    <tr>\n",
              "      <th>4</th>\n",
              "      <td>China</td>\n",
              "      <td>1999</td>\n",
              "      <td>212258</td>\n",
              "      <td>1272915272</td>\n",
              "    </tr>\n",
              "  </tbody>\n",
              "</table>\n",
              "</div>"
            ],
            "text/plain": [
              "       Country  Year   Cases  Population\n",
              "0  Afghanistan  1999     745    19987071\n",
              "2       Brazil  1999   37737   172006362\n",
              "4        China  1999  212258  1272915272"
            ]
          },
          "metadata": {
            "tags": []
          },
          "execution_count": 70
        }
      ]
    },
    {
      "cell_type": "markdown",
      "metadata": {
        "id": "dVWm7RnSqRSi",
        "colab_type": "text"
      },
      "source": [
        "# Exercise 30 \n",
        "Work on the DataFrame \"liga\"\n",
        "- Search the rows for Real Madrid and Barcelona\n",
        "- Look for rows whose position is less than or equal to 2\n",
        "or more than or equal to 20\n",
        "- Look for lines whose wins are greater than or equal to\n",
        "18 and the goals scored are greater than 60"
      ]
    },
    {
      "cell_type": "code",
      "metadata": {
        "id": "l6XBJBOoqxH2",
        "colab_type": "code",
        "outputId": "3b91007f-b45b-4a72-8ea3-dbebaedc4a31",
        "colab": {
          "base_uri": "https://localhost:8080/",
          "height": 160
        }
      },
      "source": [
        "liga.head(2)"
      ],
      "execution_count": 71,
      "outputs": [
        {
          "output_type": "execute_result",
          "data": {
            "text/html": [
              "<div>\n",
              "<style scoped>\n",
              "    .dataframe tbody tr th:only-of-type {\n",
              "        vertical-align: middle;\n",
              "    }\n",
              "\n",
              "    .dataframe tbody tr th {\n",
              "        vertical-align: top;\n",
              "    }\n",
              "\n",
              "    .dataframe thead th {\n",
              "        text-align: right;\n",
              "    }\n",
              "</style>\n",
              "<table border=\"1\" class=\"dataframe\">\n",
              "  <thead>\n",
              "    <tr style=\"text-align: right;\">\n",
              "      <th></th>\n",
              "      <th>Puesto</th>\n",
              "      <th>Equipo</th>\n",
              "      <th>PartidosJugados</th>\n",
              "      <th>Victorias</th>\n",
              "      <th>Empates</th>\n",
              "      <th>Derrotas</th>\n",
              "      <th>GolesFavor</th>\n",
              "      <th>GolesContra</th>\n",
              "      <th>Puntos</th>\n",
              "      <th>DiferenciaGoles</th>\n",
              "      <th>DiferenciaPuntos</th>\n",
              "      <th>PorcentajeGoles</th>\n",
              "      <th>PorcentajeVictorias</th>\n",
              "      <th>PuntosAcum</th>\n",
              "      <th>Zona</th>\n",
              "      <th>Provincia</th>\n",
              "      <th>Comunidad Autónoma</th>\n",
              "    </tr>\n",
              "  </thead>\n",
              "  <tbody>\n",
              "    <tr>\n",
              "      <th>0</th>\n",
              "      <td>1</td>\n",
              "      <td>Real Madrid</td>\n",
              "      <td>27</td>\n",
              "      <td>20</td>\n",
              "      <td>5</td>\n",
              "      <td>2</td>\n",
              "      <td>71</td>\n",
              "      <td>28</td>\n",
              "      <td>65</td>\n",
              "      <td>43</td>\n",
              "      <td>2.0</td>\n",
              "      <td>0.087871</td>\n",
              "      <td>0.740741</td>\n",
              "      <td>65</td>\n",
              "      <td>Champions</td>\n",
              "      <td>Madrid</td>\n",
              "      <td>Madrid</td>\n",
              "    </tr>\n",
              "    <tr>\n",
              "      <th>1</th>\n",
              "      <td>2</td>\n",
              "      <td>Barcelona</td>\n",
              "      <td>28</td>\n",
              "      <td>19</td>\n",
              "      <td>6</td>\n",
              "      <td>3</td>\n",
              "      <td>81</td>\n",
              "      <td>25</td>\n",
              "      <td>63</td>\n",
              "      <td>56</td>\n",
              "      <td>6.0</td>\n",
              "      <td>0.100248</td>\n",
              "      <td>0.678571</td>\n",
              "      <td>128</td>\n",
              "      <td>Champions</td>\n",
              "      <td>Barcelona</td>\n",
              "      <td>Cataluña</td>\n",
              "    </tr>\n",
              "  </tbody>\n",
              "</table>\n",
              "</div>"
            ],
            "text/plain": [
              "   Puesto       Equipo  ...  Provincia  Comunidad Autónoma\n",
              "0       1  Real Madrid  ...     Madrid              Madrid\n",
              "1       2    Barcelona  ...  Barcelona            Cataluña\n",
              "\n",
              "[2 rows x 17 columns]"
            ]
          },
          "metadata": {
            "tags": []
          },
          "execution_count": 71
        }
      ]
    },
    {
      "cell_type": "code",
      "metadata": {
        "id": "lDo0T6fzqyJL",
        "colab_type": "code",
        "outputId": "d7244d46-480d-487c-e84a-ee5eff24fed1",
        "colab": {
          "base_uri": "https://localhost:8080/",
          "height": 160
        }
      },
      "source": [
        "liga[liga.Equipo.isin([\"Barcelona\", \"Real Madrid\"])]"
      ],
      "execution_count": 72,
      "outputs": [
        {
          "output_type": "execute_result",
          "data": {
            "text/html": [
              "<div>\n",
              "<style scoped>\n",
              "    .dataframe tbody tr th:only-of-type {\n",
              "        vertical-align: middle;\n",
              "    }\n",
              "\n",
              "    .dataframe tbody tr th {\n",
              "        vertical-align: top;\n",
              "    }\n",
              "\n",
              "    .dataframe thead th {\n",
              "        text-align: right;\n",
              "    }\n",
              "</style>\n",
              "<table border=\"1\" class=\"dataframe\">\n",
              "  <thead>\n",
              "    <tr style=\"text-align: right;\">\n",
              "      <th></th>\n",
              "      <th>Puesto</th>\n",
              "      <th>Equipo</th>\n",
              "      <th>PartidosJugados</th>\n",
              "      <th>Victorias</th>\n",
              "      <th>Empates</th>\n",
              "      <th>Derrotas</th>\n",
              "      <th>GolesFavor</th>\n",
              "      <th>GolesContra</th>\n",
              "      <th>Puntos</th>\n",
              "      <th>DiferenciaGoles</th>\n",
              "      <th>DiferenciaPuntos</th>\n",
              "      <th>PorcentajeGoles</th>\n",
              "      <th>PorcentajeVictorias</th>\n",
              "      <th>PuntosAcum</th>\n",
              "      <th>Zona</th>\n",
              "      <th>Provincia</th>\n",
              "      <th>Comunidad Autónoma</th>\n",
              "    </tr>\n",
              "  </thead>\n",
              "  <tbody>\n",
              "    <tr>\n",
              "      <th>0</th>\n",
              "      <td>1</td>\n",
              "      <td>Real Madrid</td>\n",
              "      <td>27</td>\n",
              "      <td>20</td>\n",
              "      <td>5</td>\n",
              "      <td>2</td>\n",
              "      <td>71</td>\n",
              "      <td>28</td>\n",
              "      <td>65</td>\n",
              "      <td>43</td>\n",
              "      <td>2.0</td>\n",
              "      <td>0.087871</td>\n",
              "      <td>0.740741</td>\n",
              "      <td>65</td>\n",
              "      <td>Champions</td>\n",
              "      <td>Madrid</td>\n",
              "      <td>Madrid</td>\n",
              "    </tr>\n",
              "    <tr>\n",
              "      <th>1</th>\n",
              "      <td>2</td>\n",
              "      <td>Barcelona</td>\n",
              "      <td>28</td>\n",
              "      <td>19</td>\n",
              "      <td>6</td>\n",
              "      <td>3</td>\n",
              "      <td>81</td>\n",
              "      <td>25</td>\n",
              "      <td>63</td>\n",
              "      <td>56</td>\n",
              "      <td>6.0</td>\n",
              "      <td>0.100248</td>\n",
              "      <td>0.678571</td>\n",
              "      <td>128</td>\n",
              "      <td>Champions</td>\n",
              "      <td>Barcelona</td>\n",
              "      <td>Cataluña</td>\n",
              "    </tr>\n",
              "  </tbody>\n",
              "</table>\n",
              "</div>"
            ],
            "text/plain": [
              "   Puesto       Equipo  ...  Provincia  Comunidad Autónoma\n",
              "0       1  Real Madrid  ...     Madrid              Madrid\n",
              "1       2    Barcelona  ...  Barcelona            Cataluña\n",
              "\n",
              "[2 rows x 17 columns]"
            ]
          },
          "metadata": {
            "tags": []
          },
          "execution_count": 72
        }
      ]
    },
    {
      "cell_type": "code",
      "metadata": {
        "id": "svFMV4hPrA2V",
        "colab_type": "code",
        "outputId": "7fc8b6e4-ca32-444e-cc9d-f4e7f8315c59",
        "colab": {
          "base_uri": "https://localhost:8080/",
          "height": 84
        }
      },
      "source": [
        "liga[liga.Puesto.isin([range(3),range(20,len(liga))])]"
      ],
      "execution_count": 73,
      "outputs": [
        {
          "output_type": "execute_result",
          "data": {
            "text/html": [
              "<div>\n",
              "<style scoped>\n",
              "    .dataframe tbody tr th:only-of-type {\n",
              "        vertical-align: middle;\n",
              "    }\n",
              "\n",
              "    .dataframe tbody tr th {\n",
              "        vertical-align: top;\n",
              "    }\n",
              "\n",
              "    .dataframe thead th {\n",
              "        text-align: right;\n",
              "    }\n",
              "</style>\n",
              "<table border=\"1\" class=\"dataframe\">\n",
              "  <thead>\n",
              "    <tr style=\"text-align: right;\">\n",
              "      <th></th>\n",
              "      <th>Puesto</th>\n",
              "      <th>Equipo</th>\n",
              "      <th>PartidosJugados</th>\n",
              "      <th>Victorias</th>\n",
              "      <th>Empates</th>\n",
              "      <th>Derrotas</th>\n",
              "      <th>GolesFavor</th>\n",
              "      <th>GolesContra</th>\n",
              "      <th>Puntos</th>\n",
              "      <th>DiferenciaGoles</th>\n",
              "      <th>DiferenciaPuntos</th>\n",
              "      <th>PorcentajeGoles</th>\n",
              "      <th>PorcentajeVictorias</th>\n",
              "      <th>PuntosAcum</th>\n",
              "      <th>Zona</th>\n",
              "      <th>Provincia</th>\n",
              "      <th>Comunidad Autónoma</th>\n",
              "    </tr>\n",
              "  </thead>\n",
              "  <tbody>\n",
              "  </tbody>\n",
              "</table>\n",
              "</div>"
            ],
            "text/plain": [
              "Empty DataFrame\n",
              "Columns: [Puesto, Equipo, PartidosJugados, Victorias, Empates, Derrotas, GolesFavor, GolesContra, Puntos, DiferenciaGoles, DiferenciaPuntos, PorcentajeGoles, PorcentajeVictorias, PuntosAcum, Zona, Provincia, Comunidad Autónoma]\n",
              "Index: []"
            ]
          },
          "metadata": {
            "tags": []
          },
          "execution_count": 73
        }
      ]
    },
    {
      "cell_type": "markdown",
      "metadata": {
        "id": "4bTdgSVCbrhV",
        "colab_type": "text"
      },
      "source": [
        "# Exercise 31\n",
        "- Search the rows where \"Equipo\" is null\n",
        "- Look for teams whose name starts with an \"A\""
      ]
    },
    {
      "cell_type": "code",
      "metadata": {
        "id": "Shcdv9a3cau0",
        "colab_type": "code",
        "colab": {}
      },
      "source": [
        ""
      ],
      "execution_count": 0,
      "outputs": []
    },
    {
      "cell_type": "markdown",
      "metadata": {
        "id": "_9TsobPKedbt",
        "colab_type": "text"
      },
      "source": [
        "# Ordering\n",
        "- The `sort_values()` function allows you to sort through\n",
        "the values of the DataFrame"
      ]
    },
    {
      "cell_type": "code",
      "metadata": {
        "id": "BACtwLGde3KW",
        "colab_type": "code",
        "colab": {
          "base_uri": "https://localhost:8080/",
          "height": 194
        },
        "outputId": "fd6bf577-49f1-479f-c4aa-a3764b1846c8"
      },
      "source": [
        "df.head()"
      ],
      "execution_count": 75,
      "outputs": [
        {
          "output_type": "execute_result",
          "data": {
            "text/html": [
              "<div>\n",
              "<style scoped>\n",
              "    .dataframe tbody tr th:only-of-type {\n",
              "        vertical-align: middle;\n",
              "    }\n",
              "\n",
              "    .dataframe tbody tr th {\n",
              "        vertical-align: top;\n",
              "    }\n",
              "\n",
              "    .dataframe thead th {\n",
              "        text-align: right;\n",
              "    }\n",
              "</style>\n",
              "<table border=\"1\" class=\"dataframe\">\n",
              "  <thead>\n",
              "    <tr style=\"text-align: right;\">\n",
              "      <th></th>\n",
              "      <th>Country</th>\n",
              "      <th>Year</th>\n",
              "      <th>Cases</th>\n",
              "      <th>Population</th>\n",
              "    </tr>\n",
              "  </thead>\n",
              "  <tbody>\n",
              "    <tr>\n",
              "      <th>0</th>\n",
              "      <td>Afghanistan</td>\n",
              "      <td>1999</td>\n",
              "      <td>745</td>\n",
              "      <td>19987071</td>\n",
              "    </tr>\n",
              "    <tr>\n",
              "      <th>1</th>\n",
              "      <td>Afghanistan</td>\n",
              "      <td>2000</td>\n",
              "      <td>266</td>\n",
              "      <td>20595360</td>\n",
              "    </tr>\n",
              "    <tr>\n",
              "      <th>2</th>\n",
              "      <td>Brazil</td>\n",
              "      <td>1999</td>\n",
              "      <td>37737</td>\n",
              "      <td>172006362</td>\n",
              "    </tr>\n",
              "    <tr>\n",
              "      <th>3</th>\n",
              "      <td>Brazil</td>\n",
              "      <td>2000</td>\n",
              "      <td>80488</td>\n",
              "      <td>174504898</td>\n",
              "    </tr>\n",
              "    <tr>\n",
              "      <th>4</th>\n",
              "      <td>China</td>\n",
              "      <td>1999</td>\n",
              "      <td>212258</td>\n",
              "      <td>1272915272</td>\n",
              "    </tr>\n",
              "  </tbody>\n",
              "</table>\n",
              "</div>"
            ],
            "text/plain": [
              "       Country  Year   Cases  Population\n",
              "0  Afghanistan  1999     745    19987071\n",
              "1  Afghanistan  2000     266    20595360\n",
              "2       Brazil  1999   37737   172006362\n",
              "3       Brazil  2000   80488   174504898\n",
              "4        China  1999  212258  1272915272"
            ]
          },
          "metadata": {
            "tags": []
          },
          "execution_count": 75
        }
      ]
    },
    {
      "cell_type": "code",
      "metadata": {
        "id": "DOi2XZ2Ge4AH",
        "colab_type": "code",
        "colab": {
          "base_uri": "https://localhost:8080/",
          "height": 223
        },
        "outputId": "886ac347-be51-47f8-f208-05aa03d98f55"
      },
      "source": [
        "df.sort_values(\"Population\")"
      ],
      "execution_count": 76,
      "outputs": [
        {
          "output_type": "execute_result",
          "data": {
            "text/html": [
              "<div>\n",
              "<style scoped>\n",
              "    .dataframe tbody tr th:only-of-type {\n",
              "        vertical-align: middle;\n",
              "    }\n",
              "\n",
              "    .dataframe tbody tr th {\n",
              "        vertical-align: top;\n",
              "    }\n",
              "\n",
              "    .dataframe thead th {\n",
              "        text-align: right;\n",
              "    }\n",
              "</style>\n",
              "<table border=\"1\" class=\"dataframe\">\n",
              "  <thead>\n",
              "    <tr style=\"text-align: right;\">\n",
              "      <th></th>\n",
              "      <th>Country</th>\n",
              "      <th>Year</th>\n",
              "      <th>Cases</th>\n",
              "      <th>Population</th>\n",
              "    </tr>\n",
              "  </thead>\n",
              "  <tbody>\n",
              "    <tr>\n",
              "      <th>0</th>\n",
              "      <td>Afghanistan</td>\n",
              "      <td>1999</td>\n",
              "      <td>745</td>\n",
              "      <td>19987071</td>\n",
              "    </tr>\n",
              "    <tr>\n",
              "      <th>1</th>\n",
              "      <td>Afghanistan</td>\n",
              "      <td>2000</td>\n",
              "      <td>266</td>\n",
              "      <td>20595360</td>\n",
              "    </tr>\n",
              "    <tr>\n",
              "      <th>2</th>\n",
              "      <td>Brazil</td>\n",
              "      <td>1999</td>\n",
              "      <td>37737</td>\n",
              "      <td>172006362</td>\n",
              "    </tr>\n",
              "    <tr>\n",
              "      <th>3</th>\n",
              "      <td>Brazil</td>\n",
              "      <td>2000</td>\n",
              "      <td>80488</td>\n",
              "      <td>174504898</td>\n",
              "    </tr>\n",
              "    <tr>\n",
              "      <th>4</th>\n",
              "      <td>China</td>\n",
              "      <td>1999</td>\n",
              "      <td>212258</td>\n",
              "      <td>1272915272</td>\n",
              "    </tr>\n",
              "    <tr>\n",
              "      <th>5</th>\n",
              "      <td>China</td>\n",
              "      <td>2000</td>\n",
              "      <td>213766</td>\n",
              "      <td>1280428583</td>\n",
              "    </tr>\n",
              "  </tbody>\n",
              "</table>\n",
              "</div>"
            ],
            "text/plain": [
              "       Country  Year   Cases  Population\n",
              "0  Afghanistan  1999     745    19987071\n",
              "1  Afghanistan  2000     266    20595360\n",
              "2       Brazil  1999   37737   172006362\n",
              "3       Brazil  2000   80488   174504898\n",
              "4        China  1999  212258  1272915272\n",
              "5        China  2000  213766  1280428583"
            ]
          },
          "metadata": {
            "tags": []
          },
          "execution_count": 76
        }
      ]
    },
    {
      "cell_type": "code",
      "metadata": {
        "id": "M-FXi-6_e94n",
        "colab_type": "code",
        "colab": {
          "base_uri": "https://localhost:8080/",
          "height": 223
        },
        "outputId": "3b1703b5-3b5b-4588-b697-846128448ae1"
      },
      "source": [
        "df.sort_values([\"Cases\", \"Year\"])"
      ],
      "execution_count": 78,
      "outputs": [
        {
          "output_type": "execute_result",
          "data": {
            "text/html": [
              "<div>\n",
              "<style scoped>\n",
              "    .dataframe tbody tr th:only-of-type {\n",
              "        vertical-align: middle;\n",
              "    }\n",
              "\n",
              "    .dataframe tbody tr th {\n",
              "        vertical-align: top;\n",
              "    }\n",
              "\n",
              "    .dataframe thead th {\n",
              "        text-align: right;\n",
              "    }\n",
              "</style>\n",
              "<table border=\"1\" class=\"dataframe\">\n",
              "  <thead>\n",
              "    <tr style=\"text-align: right;\">\n",
              "      <th></th>\n",
              "      <th>Country</th>\n",
              "      <th>Year</th>\n",
              "      <th>Cases</th>\n",
              "      <th>Population</th>\n",
              "    </tr>\n",
              "  </thead>\n",
              "  <tbody>\n",
              "    <tr>\n",
              "      <th>1</th>\n",
              "      <td>Afghanistan</td>\n",
              "      <td>2000</td>\n",
              "      <td>266</td>\n",
              "      <td>20595360</td>\n",
              "    </tr>\n",
              "    <tr>\n",
              "      <th>0</th>\n",
              "      <td>Afghanistan</td>\n",
              "      <td>1999</td>\n",
              "      <td>745</td>\n",
              "      <td>19987071</td>\n",
              "    </tr>\n",
              "    <tr>\n",
              "      <th>2</th>\n",
              "      <td>Brazil</td>\n",
              "      <td>1999</td>\n",
              "      <td>37737</td>\n",
              "      <td>172006362</td>\n",
              "    </tr>\n",
              "    <tr>\n",
              "      <th>3</th>\n",
              "      <td>Brazil</td>\n",
              "      <td>2000</td>\n",
              "      <td>80488</td>\n",
              "      <td>174504898</td>\n",
              "    </tr>\n",
              "    <tr>\n",
              "      <th>4</th>\n",
              "      <td>China</td>\n",
              "      <td>1999</td>\n",
              "      <td>212258</td>\n",
              "      <td>1272915272</td>\n",
              "    </tr>\n",
              "    <tr>\n",
              "      <th>5</th>\n",
              "      <td>China</td>\n",
              "      <td>2000</td>\n",
              "      <td>213766</td>\n",
              "      <td>1280428583</td>\n",
              "    </tr>\n",
              "  </tbody>\n",
              "</table>\n",
              "</div>"
            ],
            "text/plain": [
              "       Country  Year   Cases  Population\n",
              "1  Afghanistan  2000     266    20595360\n",
              "0  Afghanistan  1999     745    19987071\n",
              "2       Brazil  1999   37737   172006362\n",
              "3       Brazil  2000   80488   174504898\n",
              "4        China  1999  212258  1272915272\n",
              "5        China  2000  213766  1280428583"
            ]
          },
          "metadata": {
            "tags": []
          },
          "execution_count": 78
        }
      ]
    },
    {
      "cell_type": "markdown",
      "metadata": {
        "id": "0ZEXulegfBtO",
        "colab_type": "text"
      },
      "source": [
        "- The ascending parameter allows you to set the\n",
        "ascending / descending order"
      ]
    },
    {
      "cell_type": "code",
      "metadata": {
        "id": "COUJMEECfRQz",
        "colab_type": "code",
        "colab": {
          "base_uri": "https://localhost:8080/",
          "height": 223
        },
        "outputId": "656f67dd-6b3b-4ca4-83e1-e79d72e772ab"
      },
      "source": [
        "df.sort_values([\"Year\", \"Country\"], ascending = [True, False])"
      ],
      "execution_count": 79,
      "outputs": [
        {
          "output_type": "execute_result",
          "data": {
            "text/html": [
              "<div>\n",
              "<style scoped>\n",
              "    .dataframe tbody tr th:only-of-type {\n",
              "        vertical-align: middle;\n",
              "    }\n",
              "\n",
              "    .dataframe tbody tr th {\n",
              "        vertical-align: top;\n",
              "    }\n",
              "\n",
              "    .dataframe thead th {\n",
              "        text-align: right;\n",
              "    }\n",
              "</style>\n",
              "<table border=\"1\" class=\"dataframe\">\n",
              "  <thead>\n",
              "    <tr style=\"text-align: right;\">\n",
              "      <th></th>\n",
              "      <th>Country</th>\n",
              "      <th>Year</th>\n",
              "      <th>Cases</th>\n",
              "      <th>Population</th>\n",
              "    </tr>\n",
              "  </thead>\n",
              "  <tbody>\n",
              "    <tr>\n",
              "      <th>4</th>\n",
              "      <td>China</td>\n",
              "      <td>1999</td>\n",
              "      <td>212258</td>\n",
              "      <td>1272915272</td>\n",
              "    </tr>\n",
              "    <tr>\n",
              "      <th>2</th>\n",
              "      <td>Brazil</td>\n",
              "      <td>1999</td>\n",
              "      <td>37737</td>\n",
              "      <td>172006362</td>\n",
              "    </tr>\n",
              "    <tr>\n",
              "      <th>0</th>\n",
              "      <td>Afghanistan</td>\n",
              "      <td>1999</td>\n",
              "      <td>745</td>\n",
              "      <td>19987071</td>\n",
              "    </tr>\n",
              "    <tr>\n",
              "      <th>5</th>\n",
              "      <td>China</td>\n",
              "      <td>2000</td>\n",
              "      <td>213766</td>\n",
              "      <td>1280428583</td>\n",
              "    </tr>\n",
              "    <tr>\n",
              "      <th>3</th>\n",
              "      <td>Brazil</td>\n",
              "      <td>2000</td>\n",
              "      <td>80488</td>\n",
              "      <td>174504898</td>\n",
              "    </tr>\n",
              "    <tr>\n",
              "      <th>1</th>\n",
              "      <td>Afghanistan</td>\n",
              "      <td>2000</td>\n",
              "      <td>266</td>\n",
              "      <td>20595360</td>\n",
              "    </tr>\n",
              "  </tbody>\n",
              "</table>\n",
              "</div>"
            ],
            "text/plain": [
              "       Country  Year   Cases  Population\n",
              "4        China  1999  212258  1272915272\n",
              "2       Brazil  1999   37737   172006362\n",
              "0  Afghanistan  1999     745    19987071\n",
              "5        China  2000  213766  1280428583\n",
              "3       Brazil  2000   80488   174504898\n",
              "1  Afghanistan  2000     266    20595360"
            ]
          },
          "metadata": {
            "tags": []
          },
          "execution_count": 79
        }
      ]
    },
    {
      "cell_type": "markdown",
      "metadata": {
        "id": "b_oVM5CGgFEt",
        "colab_type": "text"
      },
      "source": [
        "The sorting of the index (rows or columns) is done\n",
        "through the  `sort_index()` function"
      ]
    },
    {
      "cell_type": "code",
      "metadata": {
        "id": "e4sK_zp6gLxa",
        "colab_type": "code",
        "colab": {
          "base_uri": "https://localhost:8080/",
          "height": 223
        },
        "outputId": "1a11dcb4-e7d3-41f2-afd1-06d1344523cb"
      },
      "source": [
        "df.sort_index(ascending =False)"
      ],
      "execution_count": 80,
      "outputs": [
        {
          "output_type": "execute_result",
          "data": {
            "text/html": [
              "<div>\n",
              "<style scoped>\n",
              "    .dataframe tbody tr th:only-of-type {\n",
              "        vertical-align: middle;\n",
              "    }\n",
              "\n",
              "    .dataframe tbody tr th {\n",
              "        vertical-align: top;\n",
              "    }\n",
              "\n",
              "    .dataframe thead th {\n",
              "        text-align: right;\n",
              "    }\n",
              "</style>\n",
              "<table border=\"1\" class=\"dataframe\">\n",
              "  <thead>\n",
              "    <tr style=\"text-align: right;\">\n",
              "      <th></th>\n",
              "      <th>Country</th>\n",
              "      <th>Year</th>\n",
              "      <th>Cases</th>\n",
              "      <th>Population</th>\n",
              "    </tr>\n",
              "  </thead>\n",
              "  <tbody>\n",
              "    <tr>\n",
              "      <th>5</th>\n",
              "      <td>China</td>\n",
              "      <td>2000</td>\n",
              "      <td>213766</td>\n",
              "      <td>1280428583</td>\n",
              "    </tr>\n",
              "    <tr>\n",
              "      <th>4</th>\n",
              "      <td>China</td>\n",
              "      <td>1999</td>\n",
              "      <td>212258</td>\n",
              "      <td>1272915272</td>\n",
              "    </tr>\n",
              "    <tr>\n",
              "      <th>3</th>\n",
              "      <td>Brazil</td>\n",
              "      <td>2000</td>\n",
              "      <td>80488</td>\n",
              "      <td>174504898</td>\n",
              "    </tr>\n",
              "    <tr>\n",
              "      <th>2</th>\n",
              "      <td>Brazil</td>\n",
              "      <td>1999</td>\n",
              "      <td>37737</td>\n",
              "      <td>172006362</td>\n",
              "    </tr>\n",
              "    <tr>\n",
              "      <th>1</th>\n",
              "      <td>Afghanistan</td>\n",
              "      <td>2000</td>\n",
              "      <td>266</td>\n",
              "      <td>20595360</td>\n",
              "    </tr>\n",
              "    <tr>\n",
              "      <th>0</th>\n",
              "      <td>Afghanistan</td>\n",
              "      <td>1999</td>\n",
              "      <td>745</td>\n",
              "      <td>19987071</td>\n",
              "    </tr>\n",
              "  </tbody>\n",
              "</table>\n",
              "</div>"
            ],
            "text/plain": [
              "       Country  Year   Cases  Population\n",
              "5        China  2000  213766  1280428583\n",
              "4        China  1999  212258  1272915272\n",
              "3       Brazil  2000   80488   174504898\n",
              "2       Brazil  1999   37737   172006362\n",
              "1  Afghanistan  2000     266    20595360\n",
              "0  Afghanistan  1999     745    19987071"
            ]
          },
          "metadata": {
            "tags": []
          },
          "execution_count": 80
        }
      ]
    },
    {
      "cell_type": "markdown",
      "metadata": {
        "id": "9IMNnuHfgSgv",
        "colab_type": "text"
      },
      "source": [
        "With the axis parameter we can sort the columns\n",
        "instead of the rows"
      ]
    },
    {
      "cell_type": "code",
      "metadata": {
        "id": "VVZu4QFhga2f",
        "colab_type": "code",
        "colab": {
          "base_uri": "https://localhost:8080/",
          "height": 223
        },
        "outputId": "68a7c6cf-0c10-4b11-ee62-8843a7b03c20"
      },
      "source": [
        "df.sort_index(ascending = False, axis =1)"
      ],
      "execution_count": 81,
      "outputs": [
        {
          "output_type": "execute_result",
          "data": {
            "text/html": [
              "<div>\n",
              "<style scoped>\n",
              "    .dataframe tbody tr th:only-of-type {\n",
              "        vertical-align: middle;\n",
              "    }\n",
              "\n",
              "    .dataframe tbody tr th {\n",
              "        vertical-align: top;\n",
              "    }\n",
              "\n",
              "    .dataframe thead th {\n",
              "        text-align: right;\n",
              "    }\n",
              "</style>\n",
              "<table border=\"1\" class=\"dataframe\">\n",
              "  <thead>\n",
              "    <tr style=\"text-align: right;\">\n",
              "      <th></th>\n",
              "      <th>Year</th>\n",
              "      <th>Population</th>\n",
              "      <th>Country</th>\n",
              "      <th>Cases</th>\n",
              "    </tr>\n",
              "  </thead>\n",
              "  <tbody>\n",
              "    <tr>\n",
              "      <th>0</th>\n",
              "      <td>1999</td>\n",
              "      <td>19987071</td>\n",
              "      <td>Afghanistan</td>\n",
              "      <td>745</td>\n",
              "    </tr>\n",
              "    <tr>\n",
              "      <th>1</th>\n",
              "      <td>2000</td>\n",
              "      <td>20595360</td>\n",
              "      <td>Afghanistan</td>\n",
              "      <td>266</td>\n",
              "    </tr>\n",
              "    <tr>\n",
              "      <th>2</th>\n",
              "      <td>1999</td>\n",
              "      <td>172006362</td>\n",
              "      <td>Brazil</td>\n",
              "      <td>37737</td>\n",
              "    </tr>\n",
              "    <tr>\n",
              "      <th>3</th>\n",
              "      <td>2000</td>\n",
              "      <td>174504898</td>\n",
              "      <td>Brazil</td>\n",
              "      <td>80488</td>\n",
              "    </tr>\n",
              "    <tr>\n",
              "      <th>4</th>\n",
              "      <td>1999</td>\n",
              "      <td>1272915272</td>\n",
              "      <td>China</td>\n",
              "      <td>212258</td>\n",
              "    </tr>\n",
              "    <tr>\n",
              "      <th>5</th>\n",
              "      <td>2000</td>\n",
              "      <td>1280428583</td>\n",
              "      <td>China</td>\n",
              "      <td>213766</td>\n",
              "    </tr>\n",
              "  </tbody>\n",
              "</table>\n",
              "</div>"
            ],
            "text/plain": [
              "   Year  Population      Country   Cases\n",
              "0  1999    19987071  Afghanistan     745\n",
              "1  2000    20595360  Afghanistan     266\n",
              "2  1999   172006362       Brazil   37737\n",
              "3  2000   174504898       Brazil   80488\n",
              "4  1999  1272915272        China  212258\n",
              "5  2000  1280428583        China  213766"
            ]
          },
          "metadata": {
            "tags": []
          },
          "execution_count": 81
        }
      ]
    },
    {
      "cell_type": "markdown",
      "metadata": {
        "id": "q9pcB2bFgf0x",
        "colab_type": "text"
      },
      "source": [
        "# Exercise 32 \n",
        "- Work on the liga dataframe \n",
        "- Sort the DataFrame by index in descending order\n",
        "- Sort the Dataframe by the \"Puesto\" column in descending order \n",
        "- Sort the DataFrame by the \n",
        "  - ‘PartidosJugados’(Ascending), \n",
        "  - ‘Victorias’ (Descending) and \n",
        "  - ‘GolesFavor’ (Ascending) columns"
      ]
    },
    {
      "cell_type": "code",
      "metadata": {
        "id": "f9_r3RwOgtPh",
        "colab_type": "code",
        "colab": {
          "base_uri": "https://localhost:8080/",
          "height": 160
        },
        "outputId": "55e96508-8d7e-42fb-c4e9-816bb3af128b"
      },
      "source": [
        "liga.head(2)"
      ],
      "execution_count": 84,
      "outputs": [
        {
          "output_type": "execute_result",
          "data": {
            "text/html": [
              "<div>\n",
              "<style scoped>\n",
              "    .dataframe tbody tr th:only-of-type {\n",
              "        vertical-align: middle;\n",
              "    }\n",
              "\n",
              "    .dataframe tbody tr th {\n",
              "        vertical-align: top;\n",
              "    }\n",
              "\n",
              "    .dataframe thead th {\n",
              "        text-align: right;\n",
              "    }\n",
              "</style>\n",
              "<table border=\"1\" class=\"dataframe\">\n",
              "  <thead>\n",
              "    <tr style=\"text-align: right;\">\n",
              "      <th></th>\n",
              "      <th>Puesto</th>\n",
              "      <th>Equipo</th>\n",
              "      <th>PartidosJugados</th>\n",
              "      <th>Victorias</th>\n",
              "      <th>Empates</th>\n",
              "      <th>Derrotas</th>\n",
              "      <th>GolesFavor</th>\n",
              "      <th>GolesContra</th>\n",
              "      <th>Puntos</th>\n",
              "      <th>DiferenciaGoles</th>\n",
              "      <th>DiferenciaPuntos</th>\n",
              "      <th>PorcentajeGoles</th>\n",
              "      <th>PorcentajeVictorias</th>\n",
              "      <th>PuntosAcum</th>\n",
              "      <th>Zona</th>\n",
              "      <th>Provincia</th>\n",
              "      <th>Comunidad Autónoma</th>\n",
              "    </tr>\n",
              "  </thead>\n",
              "  <tbody>\n",
              "    <tr>\n",
              "      <th>0</th>\n",
              "      <td>1</td>\n",
              "      <td>Real Madrid</td>\n",
              "      <td>27</td>\n",
              "      <td>20</td>\n",
              "      <td>5</td>\n",
              "      <td>2</td>\n",
              "      <td>71</td>\n",
              "      <td>28</td>\n",
              "      <td>65</td>\n",
              "      <td>43</td>\n",
              "      <td>2.0</td>\n",
              "      <td>0.087871</td>\n",
              "      <td>0.740741</td>\n",
              "      <td>65</td>\n",
              "      <td>Champions</td>\n",
              "      <td>Madrid</td>\n",
              "      <td>Madrid</td>\n",
              "    </tr>\n",
              "    <tr>\n",
              "      <th>1</th>\n",
              "      <td>2</td>\n",
              "      <td>Barcelona</td>\n",
              "      <td>28</td>\n",
              "      <td>19</td>\n",
              "      <td>6</td>\n",
              "      <td>3</td>\n",
              "      <td>81</td>\n",
              "      <td>25</td>\n",
              "      <td>63</td>\n",
              "      <td>56</td>\n",
              "      <td>6.0</td>\n",
              "      <td>0.100248</td>\n",
              "      <td>0.678571</td>\n",
              "      <td>128</td>\n",
              "      <td>Champions</td>\n",
              "      <td>Barcelona</td>\n",
              "      <td>Cataluña</td>\n",
              "    </tr>\n",
              "  </tbody>\n",
              "</table>\n",
              "</div>"
            ],
            "text/plain": [
              "   Puesto       Equipo  ...  Provincia  Comunidad Autónoma\n",
              "0       1  Real Madrid  ...     Madrid              Madrid\n",
              "1       2    Barcelona  ...  Barcelona            Cataluña\n",
              "\n",
              "[2 rows x 17 columns]"
            ]
          },
          "metadata": {
            "tags": []
          },
          "execution_count": 84
        }
      ]
    },
    {
      "cell_type": "code",
      "metadata": {
        "id": "gPvo2gnng6z0",
        "colab_type": "code",
        "colab": {
          "base_uri": "https://localhost:8080/",
          "height": 189
        },
        "outputId": "2beb8222-74a8-470d-8c9d-8f563c490067"
      },
      "source": [
        "liga.sort_index(ascending =False).head(3)"
      ],
      "execution_count": 91,
      "outputs": [
        {
          "output_type": "execute_result",
          "data": {
            "text/html": [
              "<div>\n",
              "<style scoped>\n",
              "    .dataframe tbody tr th:only-of-type {\n",
              "        vertical-align: middle;\n",
              "    }\n",
              "\n",
              "    .dataframe tbody tr th {\n",
              "        vertical-align: top;\n",
              "    }\n",
              "\n",
              "    .dataframe thead th {\n",
              "        text-align: right;\n",
              "    }\n",
              "</style>\n",
              "<table border=\"1\" class=\"dataframe\">\n",
              "  <thead>\n",
              "    <tr style=\"text-align: right;\">\n",
              "      <th></th>\n",
              "      <th>Puesto</th>\n",
              "      <th>Equipo</th>\n",
              "      <th>PartidosJugados</th>\n",
              "      <th>Victorias</th>\n",
              "      <th>Empates</th>\n",
              "      <th>Derrotas</th>\n",
              "      <th>GolesFavor</th>\n",
              "      <th>GolesContra</th>\n",
              "      <th>Puntos</th>\n",
              "      <th>DiferenciaGoles</th>\n",
              "      <th>DiferenciaPuntos</th>\n",
              "      <th>PorcentajeGoles</th>\n",
              "      <th>PorcentajeVictorias</th>\n",
              "      <th>PuntosAcum</th>\n",
              "      <th>Zona</th>\n",
              "      <th>Provincia</th>\n",
              "      <th>Comunidad Autónoma</th>\n",
              "    </tr>\n",
              "  </thead>\n",
              "  <tbody>\n",
              "    <tr>\n",
              "      <th>19</th>\n",
              "      <td>20</td>\n",
              "      <td>Osasuna</td>\n",
              "      <td>28</td>\n",
              "      <td>1</td>\n",
              "      <td>8</td>\n",
              "      <td>19</td>\n",
              "      <td>28</td>\n",
              "      <td>67</td>\n",
              "      <td>11</td>\n",
              "      <td>-39</td>\n",
              "      <td>NaN</td>\n",
              "      <td>0.034653</td>\n",
              "      <td>0.035714</td>\n",
              "      <td>766</td>\n",
              "      <td>Descenso</td>\n",
              "      <td>Navarra</td>\n",
              "      <td>Navarra</td>\n",
              "    </tr>\n",
              "    <tr>\n",
              "      <th>18</th>\n",
              "      <td>19</td>\n",
              "      <td>Granada</td>\n",
              "      <td>28</td>\n",
              "      <td>4</td>\n",
              "      <td>7</td>\n",
              "      <td>17</td>\n",
              "      <td>25</td>\n",
              "      <td>58</td>\n",
              "      <td>19</td>\n",
              "      <td>-33</td>\n",
              "      <td>8.0</td>\n",
              "      <td>0.030941</td>\n",
              "      <td>0.142857</td>\n",
              "      <td>755</td>\n",
              "      <td>Descenso</td>\n",
              "      <td>Granada</td>\n",
              "      <td>Andalucia</td>\n",
              "    </tr>\n",
              "    <tr>\n",
              "      <th>17</th>\n",
              "      <td>18</td>\n",
              "      <td>Sporting Gijón</td>\n",
              "      <td>28</td>\n",
              "      <td>5</td>\n",
              "      <td>6</td>\n",
              "      <td>17</td>\n",
              "      <td>31</td>\n",
              "      <td>57</td>\n",
              "      <td>21</td>\n",
              "      <td>-26</td>\n",
              "      <td>2.0</td>\n",
              "      <td>0.038366</td>\n",
              "      <td>0.178571</td>\n",
              "      <td>736</td>\n",
              "      <td>Normal</td>\n",
              "      <td>Asturias</td>\n",
              "      <td>Asturias</td>\n",
              "    </tr>\n",
              "  </tbody>\n",
              "</table>\n",
              "</div>"
            ],
            "text/plain": [
              "    Puesto          Equipo  ...  Provincia  Comunidad Autónoma\n",
              "19      20         Osasuna  ...    Navarra             Navarra\n",
              "18      19         Granada  ...    Granada           Andalucia\n",
              "17      18  Sporting Gijón  ...   Asturias            Asturias\n",
              "\n",
              "[3 rows x 17 columns]"
            ]
          },
          "metadata": {
            "tags": []
          },
          "execution_count": 91
        }
      ]
    },
    {
      "cell_type": "code",
      "metadata": {
        "id": "7mNJdkWGhTFQ",
        "colab_type": "code",
        "colab": {
          "base_uri": "https://localhost:8080/",
          "height": 189
        },
        "outputId": "dc33441e-7ca8-414e-8cba-ad6ee05787e3"
      },
      "source": [
        "liga.sort_values([\"Puesto\"], ascending =False).head(3)"
      ],
      "execution_count": 92,
      "outputs": [
        {
          "output_type": "execute_result",
          "data": {
            "text/html": [
              "<div>\n",
              "<style scoped>\n",
              "    .dataframe tbody tr th:only-of-type {\n",
              "        vertical-align: middle;\n",
              "    }\n",
              "\n",
              "    .dataframe tbody tr th {\n",
              "        vertical-align: top;\n",
              "    }\n",
              "\n",
              "    .dataframe thead th {\n",
              "        text-align: right;\n",
              "    }\n",
              "</style>\n",
              "<table border=\"1\" class=\"dataframe\">\n",
              "  <thead>\n",
              "    <tr style=\"text-align: right;\">\n",
              "      <th></th>\n",
              "      <th>Puesto</th>\n",
              "      <th>Equipo</th>\n",
              "      <th>PartidosJugados</th>\n",
              "      <th>Victorias</th>\n",
              "      <th>Empates</th>\n",
              "      <th>Derrotas</th>\n",
              "      <th>GolesFavor</th>\n",
              "      <th>GolesContra</th>\n",
              "      <th>Puntos</th>\n",
              "      <th>DiferenciaGoles</th>\n",
              "      <th>DiferenciaPuntos</th>\n",
              "      <th>PorcentajeGoles</th>\n",
              "      <th>PorcentajeVictorias</th>\n",
              "      <th>PuntosAcum</th>\n",
              "      <th>Zona</th>\n",
              "      <th>Provincia</th>\n",
              "      <th>Comunidad Autónoma</th>\n",
              "    </tr>\n",
              "  </thead>\n",
              "  <tbody>\n",
              "    <tr>\n",
              "      <th>19</th>\n",
              "      <td>20</td>\n",
              "      <td>Osasuna</td>\n",
              "      <td>28</td>\n",
              "      <td>1</td>\n",
              "      <td>8</td>\n",
              "      <td>19</td>\n",
              "      <td>28</td>\n",
              "      <td>67</td>\n",
              "      <td>11</td>\n",
              "      <td>-39</td>\n",
              "      <td>NaN</td>\n",
              "      <td>0.034653</td>\n",
              "      <td>0.035714</td>\n",
              "      <td>766</td>\n",
              "      <td>Descenso</td>\n",
              "      <td>Navarra</td>\n",
              "      <td>Navarra</td>\n",
              "    </tr>\n",
              "    <tr>\n",
              "      <th>18</th>\n",
              "      <td>19</td>\n",
              "      <td>Granada</td>\n",
              "      <td>28</td>\n",
              "      <td>4</td>\n",
              "      <td>7</td>\n",
              "      <td>17</td>\n",
              "      <td>25</td>\n",
              "      <td>58</td>\n",
              "      <td>19</td>\n",
              "      <td>-33</td>\n",
              "      <td>8.0</td>\n",
              "      <td>0.030941</td>\n",
              "      <td>0.142857</td>\n",
              "      <td>755</td>\n",
              "      <td>Descenso</td>\n",
              "      <td>Granada</td>\n",
              "      <td>Andalucia</td>\n",
              "    </tr>\n",
              "    <tr>\n",
              "      <th>17</th>\n",
              "      <td>18</td>\n",
              "      <td>Sporting Gijón</td>\n",
              "      <td>28</td>\n",
              "      <td>5</td>\n",
              "      <td>6</td>\n",
              "      <td>17</td>\n",
              "      <td>31</td>\n",
              "      <td>57</td>\n",
              "      <td>21</td>\n",
              "      <td>-26</td>\n",
              "      <td>2.0</td>\n",
              "      <td>0.038366</td>\n",
              "      <td>0.178571</td>\n",
              "      <td>736</td>\n",
              "      <td>Normal</td>\n",
              "      <td>Asturias</td>\n",
              "      <td>Asturias</td>\n",
              "    </tr>\n",
              "  </tbody>\n",
              "</table>\n",
              "</div>"
            ],
            "text/plain": [
              "    Puesto          Equipo  ...  Provincia  Comunidad Autónoma\n",
              "19      20         Osasuna  ...    Navarra             Navarra\n",
              "18      19         Granada  ...    Granada           Andalucia\n",
              "17      18  Sporting Gijón  ...   Asturias            Asturias\n",
              "\n",
              "[3 rows x 17 columns]"
            ]
          },
          "metadata": {
            "tags": []
          },
          "execution_count": 92
        }
      ]
    },
    {
      "cell_type": "code",
      "metadata": {
        "id": "w_3YXDeWhdaP",
        "colab_type": "code",
        "colab": {
          "base_uri": "https://localhost:8080/",
          "height": 876
        },
        "outputId": "6ee1c142-1b24-4bae-ca08-a40fd392ef7f"
      },
      "source": [
        "liga.sort_values([\"PartidosJugados\", \"Victorias\", \"GolesFavor\"],ascending = [True,False,True])"
      ],
      "execution_count": 95,
      "outputs": [
        {
          "output_type": "execute_result",
          "data": {
            "text/html": [
              "<div>\n",
              "<style scoped>\n",
              "    .dataframe tbody tr th:only-of-type {\n",
              "        vertical-align: middle;\n",
              "    }\n",
              "\n",
              "    .dataframe tbody tr th {\n",
              "        vertical-align: top;\n",
              "    }\n",
              "\n",
              "    .dataframe thead th {\n",
              "        text-align: right;\n",
              "    }\n",
              "</style>\n",
              "<table border=\"1\" class=\"dataframe\">\n",
              "  <thead>\n",
              "    <tr style=\"text-align: right;\">\n",
              "      <th></th>\n",
              "      <th>Puesto</th>\n",
              "      <th>Equipo</th>\n",
              "      <th>PartidosJugados</th>\n",
              "      <th>Victorias</th>\n",
              "      <th>Empates</th>\n",
              "      <th>Derrotas</th>\n",
              "      <th>GolesFavor</th>\n",
              "      <th>GolesContra</th>\n",
              "      <th>Puntos</th>\n",
              "      <th>DiferenciaGoles</th>\n",
              "      <th>DiferenciaPuntos</th>\n",
              "      <th>PorcentajeGoles</th>\n",
              "      <th>PorcentajeVictorias</th>\n",
              "      <th>PuntosAcum</th>\n",
              "      <th>Zona</th>\n",
              "      <th>Provincia</th>\n",
              "      <th>Comunidad Autónoma</th>\n",
              "    </tr>\n",
              "  </thead>\n",
              "  <tbody>\n",
              "    <tr>\n",
              "      <th>0</th>\n",
              "      <td>1</td>\n",
              "      <td>Real Madrid</td>\n",
              "      <td>27</td>\n",
              "      <td>20</td>\n",
              "      <td>5</td>\n",
              "      <td>2</td>\n",
              "      <td>71</td>\n",
              "      <td>28</td>\n",
              "      <td>65</td>\n",
              "      <td>43</td>\n",
              "      <td>2.0</td>\n",
              "      <td>0.087871</td>\n",
              "      <td>0.740741</td>\n",
              "      <td>65</td>\n",
              "      <td>Champions</td>\n",
              "      <td>Madrid</td>\n",
              "      <td>Madrid</td>\n",
              "    </tr>\n",
              "    <tr>\n",
              "      <th>10</th>\n",
              "      <td>11</td>\n",
              "      <td>Celta de Vigo</td>\n",
              "      <td>27</td>\n",
              "      <td>11</td>\n",
              "      <td>5</td>\n",
              "      <td>11</td>\n",
              "      <td>40</td>\n",
              "      <td>45</td>\n",
              "      <td>38</td>\n",
              "      <td>-5</td>\n",
              "      <td>3.0</td>\n",
              "      <td>0.049505</td>\n",
              "      <td>0.407407</td>\n",
              "      <td>539</td>\n",
              "      <td>Normal</td>\n",
              "      <td>Pontevedra</td>\n",
              "      <td>Galicia</td>\n",
              "    </tr>\n",
              "    <tr>\n",
              "      <th>1</th>\n",
              "      <td>2</td>\n",
              "      <td>Barcelona</td>\n",
              "      <td>28</td>\n",
              "      <td>19</td>\n",
              "      <td>6</td>\n",
              "      <td>3</td>\n",
              "      <td>81</td>\n",
              "      <td>25</td>\n",
              "      <td>63</td>\n",
              "      <td>56</td>\n",
              "      <td>6.0</td>\n",
              "      <td>0.100248</td>\n",
              "      <td>0.678571</td>\n",
              "      <td>128</td>\n",
              "      <td>Champions</td>\n",
              "      <td>Barcelona</td>\n",
              "      <td>Cataluña</td>\n",
              "    </tr>\n",
              "    <tr>\n",
              "      <th>2</th>\n",
              "      <td>3</td>\n",
              "      <td>Sevilla</td>\n",
              "      <td>28</td>\n",
              "      <td>17</td>\n",
              "      <td>6</td>\n",
              "      <td>5</td>\n",
              "      <td>52</td>\n",
              "      <td>34</td>\n",
              "      <td>57</td>\n",
              "      <td>18</td>\n",
              "      <td>2.0</td>\n",
              "      <td>0.064356</td>\n",
              "      <td>0.607143</td>\n",
              "      <td>185</td>\n",
              "      <td>Champions</td>\n",
              "      <td>Sevilla</td>\n",
              "      <td>Andalucia</td>\n",
              "    </tr>\n",
              "    <tr>\n",
              "      <th>3</th>\n",
              "      <td>4</td>\n",
              "      <td>Atlético Madrid</td>\n",
              "      <td>28</td>\n",
              "      <td>16</td>\n",
              "      <td>7</td>\n",
              "      <td>5</td>\n",
              "      <td>52</td>\n",
              "      <td>23</td>\n",
              "      <td>55</td>\n",
              "      <td>29</td>\n",
              "      <td>7.0</td>\n",
              "      <td>0.064356</td>\n",
              "      <td>0.571429</td>\n",
              "      <td>240</td>\n",
              "      <td>Champions</td>\n",
              "      <td>Madrid</td>\n",
              "      <td>Madrid</td>\n",
              "    </tr>\n",
              "    <tr>\n",
              "      <th>5</th>\n",
              "      <td>6</td>\n",
              "      <td>Real Sociedad</td>\n",
              "      <td>28</td>\n",
              "      <td>15</td>\n",
              "      <td>3</td>\n",
              "      <td>10</td>\n",
              "      <td>42</td>\n",
              "      <td>39</td>\n",
              "      <td>48</td>\n",
              "      <td>3</td>\n",
              "      <td>4.0</td>\n",
              "      <td>0.051980</td>\n",
              "      <td>0.535714</td>\n",
              "      <td>336</td>\n",
              "      <td>Normal</td>\n",
              "      <td>Guipúzcoa</td>\n",
              "      <td>Pais Vasco</td>\n",
              "    </tr>\n",
              "    <tr>\n",
              "      <th>6</th>\n",
              "      <td>7</td>\n",
              "      <td>Ath. Bilbao</td>\n",
              "      <td>28</td>\n",
              "      <td>13</td>\n",
              "      <td>5</td>\n",
              "      <td>10</td>\n",
              "      <td>35</td>\n",
              "      <td>32</td>\n",
              "      <td>44</td>\n",
              "      <td>3</td>\n",
              "      <td>3.0</td>\n",
              "      <td>0.043317</td>\n",
              "      <td>0.464286</td>\n",
              "      <td>380</td>\n",
              "      <td>Normal</td>\n",
              "      <td>Vizcaya</td>\n",
              "      <td>Pais Vasco</td>\n",
              "    </tr>\n",
              "    <tr>\n",
              "      <th>4</th>\n",
              "      <td>5</td>\n",
              "      <td>Villarreal</td>\n",
              "      <td>28</td>\n",
              "      <td>13</td>\n",
              "      <td>9</td>\n",
              "      <td>6</td>\n",
              "      <td>39</td>\n",
              "      <td>20</td>\n",
              "      <td>48</td>\n",
              "      <td>19</td>\n",
              "      <td>0.0</td>\n",
              "      <td>0.048267</td>\n",
              "      <td>0.464286</td>\n",
              "      <td>288</td>\n",
              "      <td>Normal</td>\n",
              "      <td>Castellón</td>\n",
              "      <td>Comunidad Valenciana</td>\n",
              "    </tr>\n",
              "    <tr>\n",
              "      <th>7</th>\n",
              "      <td>8</td>\n",
              "      <td>Eibar</td>\n",
              "      <td>28</td>\n",
              "      <td>11</td>\n",
              "      <td>8</td>\n",
              "      <td>9</td>\n",
              "      <td>44</td>\n",
              "      <td>39</td>\n",
              "      <td>41</td>\n",
              "      <td>5</td>\n",
              "      <td>1.0</td>\n",
              "      <td>0.054455</td>\n",
              "      <td>0.392857</td>\n",
              "      <td>421</td>\n",
              "      <td>Normal</td>\n",
              "      <td>Guipúzcoa</td>\n",
              "      <td>Pais Vasco</td>\n",
              "    </tr>\n",
              "    <tr>\n",
              "      <th>9</th>\n",
              "      <td>10</td>\n",
              "      <td>Alavés</td>\n",
              "      <td>28</td>\n",
              "      <td>10</td>\n",
              "      <td>10</td>\n",
              "      <td>8</td>\n",
              "      <td>29</td>\n",
              "      <td>33</td>\n",
              "      <td>40</td>\n",
              "      <td>-4</td>\n",
              "      <td>2.0</td>\n",
              "      <td>0.035891</td>\n",
              "      <td>0.357143</td>\n",
              "      <td>501</td>\n",
              "      <td>Normal</td>\n",
              "      <td>Álava</td>\n",
              "      <td>Pais Vasco</td>\n",
              "    </tr>\n",
              "    <tr>\n",
              "      <th>8</th>\n",
              "      <td>9</td>\n",
              "      <td>RCD Espanyol</td>\n",
              "      <td>28</td>\n",
              "      <td>10</td>\n",
              "      <td>10</td>\n",
              "      <td>8</td>\n",
              "      <td>40</td>\n",
              "      <td>39</td>\n",
              "      <td>40</td>\n",
              "      <td>1</td>\n",
              "      <td>0.0</td>\n",
              "      <td>0.049505</td>\n",
              "      <td>0.357143</td>\n",
              "      <td>461</td>\n",
              "      <td>Normal</td>\n",
              "      <td>Barcelona</td>\n",
              "      <td>Cataluña</td>\n",
              "    </tr>\n",
              "    <tr>\n",
              "      <th>11</th>\n",
              "      <td>12</td>\n",
              "      <td>U. D. Las Palmas</td>\n",
              "      <td>28</td>\n",
              "      <td>9</td>\n",
              "      <td>8</td>\n",
              "      <td>11</td>\n",
              "      <td>44</td>\n",
              "      <td>45</td>\n",
              "      <td>35</td>\n",
              "      <td>-1</td>\n",
              "      <td>4.0</td>\n",
              "      <td>0.054455</td>\n",
              "      <td>0.321429</td>\n",
              "      <td>574</td>\n",
              "      <td>Normal</td>\n",
              "      <td>Las Palmas</td>\n",
              "      <td>Canarias</td>\n",
              "    </tr>\n",
              "    <tr>\n",
              "      <th>12</th>\n",
              "      <td>13</td>\n",
              "      <td>Betis</td>\n",
              "      <td>28</td>\n",
              "      <td>8</td>\n",
              "      <td>7</td>\n",
              "      <td>13</td>\n",
              "      <td>31</td>\n",
              "      <td>44</td>\n",
              "      <td>31</td>\n",
              "      <td>-13</td>\n",
              "      <td>1.0</td>\n",
              "      <td>0.038366</td>\n",
              "      <td>0.285714</td>\n",
              "      <td>605</td>\n",
              "      <td>Normal</td>\n",
              "      <td>Sevilla</td>\n",
              "      <td>Andalucia</td>\n",
              "    </tr>\n",
              "    <tr>\n",
              "      <th>13</th>\n",
              "      <td>14</td>\n",
              "      <td>Valencia C. F.</td>\n",
              "      <td>28</td>\n",
              "      <td>8</td>\n",
              "      <td>6</td>\n",
              "      <td>14</td>\n",
              "      <td>38</td>\n",
              "      <td>51</td>\n",
              "      <td>30</td>\n",
              "      <td>-13</td>\n",
              "      <td>3.0</td>\n",
              "      <td>0.047030</td>\n",
              "      <td>0.285714</td>\n",
              "      <td>635</td>\n",
              "      <td>Normal</td>\n",
              "      <td>Valencia</td>\n",
              "      <td>Comunidad Valenciana</td>\n",
              "    </tr>\n",
              "    <tr>\n",
              "      <th>16</th>\n",
              "      <td>17</td>\n",
              "      <td>Leganés</td>\n",
              "      <td>28</td>\n",
              "      <td>6</td>\n",
              "      <td>8</td>\n",
              "      <td>14</td>\n",
              "      <td>22</td>\n",
              "      <td>41</td>\n",
              "      <td>26</td>\n",
              "      <td>-19</td>\n",
              "      <td>5.0</td>\n",
              "      <td>0.027228</td>\n",
              "      <td>0.214286</td>\n",
              "      <td>715</td>\n",
              "      <td>Normal</td>\n",
              "      <td>Madrid</td>\n",
              "      <td>Madrid</td>\n",
              "    </tr>\n",
              "    <tr>\n",
              "      <th>15</th>\n",
              "      <td>16</td>\n",
              "      <td>Deportivo</td>\n",
              "      <td>28</td>\n",
              "      <td>6</td>\n",
              "      <td>9</td>\n",
              "      <td>13</td>\n",
              "      <td>31</td>\n",
              "      <td>43</td>\n",
              "      <td>27</td>\n",
              "      <td>-12</td>\n",
              "      <td>1.0</td>\n",
              "      <td>0.038366</td>\n",
              "      <td>0.214286</td>\n",
              "      <td>689</td>\n",
              "      <td>Normal</td>\n",
              "      <td>A Coruña</td>\n",
              "      <td>Galicia</td>\n",
              "    </tr>\n",
              "    <tr>\n",
              "      <th>14</th>\n",
              "      <td>15</td>\n",
              "      <td>Málaga</td>\n",
              "      <td>28</td>\n",
              "      <td>6</td>\n",
              "      <td>9</td>\n",
              "      <td>13</td>\n",
              "      <td>33</td>\n",
              "      <td>45</td>\n",
              "      <td>27</td>\n",
              "      <td>-12</td>\n",
              "      <td>0.0</td>\n",
              "      <td>0.040842</td>\n",
              "      <td>0.214286</td>\n",
              "      <td>662</td>\n",
              "      <td>Normal</td>\n",
              "      <td>Malaga</td>\n",
              "      <td>Andalucia</td>\n",
              "    </tr>\n",
              "    <tr>\n",
              "      <th>17</th>\n",
              "      <td>18</td>\n",
              "      <td>Sporting Gijón</td>\n",
              "      <td>28</td>\n",
              "      <td>5</td>\n",
              "      <td>6</td>\n",
              "      <td>17</td>\n",
              "      <td>31</td>\n",
              "      <td>57</td>\n",
              "      <td>21</td>\n",
              "      <td>-26</td>\n",
              "      <td>2.0</td>\n",
              "      <td>0.038366</td>\n",
              "      <td>0.178571</td>\n",
              "      <td>736</td>\n",
              "      <td>Normal</td>\n",
              "      <td>Asturias</td>\n",
              "      <td>Asturias</td>\n",
              "    </tr>\n",
              "    <tr>\n",
              "      <th>18</th>\n",
              "      <td>19</td>\n",
              "      <td>Granada</td>\n",
              "      <td>28</td>\n",
              "      <td>4</td>\n",
              "      <td>7</td>\n",
              "      <td>17</td>\n",
              "      <td>25</td>\n",
              "      <td>58</td>\n",
              "      <td>19</td>\n",
              "      <td>-33</td>\n",
              "      <td>8.0</td>\n",
              "      <td>0.030941</td>\n",
              "      <td>0.142857</td>\n",
              "      <td>755</td>\n",
              "      <td>Descenso</td>\n",
              "      <td>Granada</td>\n",
              "      <td>Andalucia</td>\n",
              "    </tr>\n",
              "    <tr>\n",
              "      <th>19</th>\n",
              "      <td>20</td>\n",
              "      <td>Osasuna</td>\n",
              "      <td>28</td>\n",
              "      <td>1</td>\n",
              "      <td>8</td>\n",
              "      <td>19</td>\n",
              "      <td>28</td>\n",
              "      <td>67</td>\n",
              "      <td>11</td>\n",
              "      <td>-39</td>\n",
              "      <td>NaN</td>\n",
              "      <td>0.034653</td>\n",
              "      <td>0.035714</td>\n",
              "      <td>766</td>\n",
              "      <td>Descenso</td>\n",
              "      <td>Navarra</td>\n",
              "      <td>Navarra</td>\n",
              "    </tr>\n",
              "  </tbody>\n",
              "</table>\n",
              "</div>"
            ],
            "text/plain": [
              "    Puesto            Equipo  ...   Provincia    Comunidad Autónoma\n",
              "0        1       Real Madrid  ...      Madrid                Madrid\n",
              "10      11     Celta de Vigo  ...  Pontevedra               Galicia\n",
              "1        2         Barcelona  ...   Barcelona              Cataluña\n",
              "2        3           Sevilla  ...     Sevilla             Andalucia\n",
              "3        4   Atlético Madrid  ...      Madrid                Madrid\n",
              "5        6     Real Sociedad  ...   Guipúzcoa            Pais Vasco\n",
              "6        7       Ath. Bilbao  ...     Vizcaya            Pais Vasco\n",
              "4        5        Villarreal  ...   Castellón  Comunidad Valenciana\n",
              "7        8             Eibar  ...   Guipúzcoa            Pais Vasco\n",
              "9       10            Alavés  ...       Álava            Pais Vasco\n",
              "8        9      RCD Espanyol  ...   Barcelona              Cataluña\n",
              "11      12  U. D. Las Palmas  ...  Las Palmas              Canarias\n",
              "12      13             Betis  ...     Sevilla             Andalucia\n",
              "13      14    Valencia C. F.  ...    Valencia  Comunidad Valenciana\n",
              "16      17           Leganés  ...      Madrid                Madrid\n",
              "15      16         Deportivo  ...    A Coruña               Galicia\n",
              "14      15            Málaga  ...      Malaga             Andalucia\n",
              "17      18    Sporting Gijón  ...    Asturias              Asturias\n",
              "18      19           Granada  ...     Granada             Andalucia\n",
              "19      20           Osasuna  ...     Navarra               Navarra\n",
              "\n",
              "[20 rows x 17 columns]"
            ]
          },
          "metadata": {
            "tags": []
          },
          "execution_count": 95
        }
      ]
    },
    {
      "cell_type": "markdown",
      "metadata": {
        "id": "b84X-CnaiEcE",
        "colab_type": "text"
      },
      "source": [
        "# Change columns, or add new ones\n",
        "- In Pandas we can create new columns by assigning a\n",
        "value directly to the new column\n",
        "\n"
      ]
    },
    {
      "cell_type": "code",
      "metadata": {
        "id": "MhKPtQgRid4V",
        "colab_type": "code",
        "colab": {
          "base_uri": "https://localhost:8080/",
          "height": 235
        },
        "outputId": "91093158-90e1-444e-e715-1eba4b08381f"
      },
      "source": [
        "df[\"Id\"] = range(len(df))\n",
        "df[\"Id1\"] = 1 \n",
        "df "
      ],
      "execution_count": 96,
      "outputs": [
        {
          "output_type": "execute_result",
          "data": {
            "text/html": [
              "<div>\n",
              "<style scoped>\n",
              "    .dataframe tbody tr th:only-of-type {\n",
              "        vertical-align: middle;\n",
              "    }\n",
              "\n",
              "    .dataframe tbody tr th {\n",
              "        vertical-align: top;\n",
              "    }\n",
              "\n",
              "    .dataframe thead th {\n",
              "        text-align: right;\n",
              "    }\n",
              "</style>\n",
              "<table border=\"1\" class=\"dataframe\">\n",
              "  <thead>\n",
              "    <tr style=\"text-align: right;\">\n",
              "      <th></th>\n",
              "      <th>Country</th>\n",
              "      <th>Year</th>\n",
              "      <th>Cases</th>\n",
              "      <th>Population</th>\n",
              "      <th>Id</th>\n",
              "      <th>Id1</th>\n",
              "    </tr>\n",
              "  </thead>\n",
              "  <tbody>\n",
              "    <tr>\n",
              "      <th>0</th>\n",
              "      <td>Afghanistan</td>\n",
              "      <td>1999</td>\n",
              "      <td>745</td>\n",
              "      <td>19987071</td>\n",
              "      <td>0</td>\n",
              "      <td>1</td>\n",
              "    </tr>\n",
              "    <tr>\n",
              "      <th>1</th>\n",
              "      <td>Afghanistan</td>\n",
              "      <td>2000</td>\n",
              "      <td>266</td>\n",
              "      <td>20595360</td>\n",
              "      <td>1</td>\n",
              "      <td>1</td>\n",
              "    </tr>\n",
              "    <tr>\n",
              "      <th>2</th>\n",
              "      <td>Brazil</td>\n",
              "      <td>1999</td>\n",
              "      <td>37737</td>\n",
              "      <td>172006362</td>\n",
              "      <td>2</td>\n",
              "      <td>1</td>\n",
              "    </tr>\n",
              "    <tr>\n",
              "      <th>3</th>\n",
              "      <td>Brazil</td>\n",
              "      <td>2000</td>\n",
              "      <td>80488</td>\n",
              "      <td>174504898</td>\n",
              "      <td>3</td>\n",
              "      <td>1</td>\n",
              "    </tr>\n",
              "    <tr>\n",
              "      <th>4</th>\n",
              "      <td>China</td>\n",
              "      <td>1999</td>\n",
              "      <td>212258</td>\n",
              "      <td>1272915272</td>\n",
              "      <td>4</td>\n",
              "      <td>1</td>\n",
              "    </tr>\n",
              "    <tr>\n",
              "      <th>5</th>\n",
              "      <td>China</td>\n",
              "      <td>2000</td>\n",
              "      <td>213766</td>\n",
              "      <td>1280428583</td>\n",
              "      <td>5</td>\n",
              "      <td>1</td>\n",
              "    </tr>\n",
              "  </tbody>\n",
              "</table>\n",
              "</div>"
            ],
            "text/plain": [
              "       Country  Year   Cases  Population  Id  Id1\n",
              "0  Afghanistan  1999     745    19987071   0    1\n",
              "1  Afghanistan  2000     266    20595360   1    1\n",
              "2       Brazil  1999   37737   172006362   2    1\n",
              "3       Brazil  2000   80488   174504898   3    1\n",
              "4        China  1999  212258  1272915272   4    1\n",
              "5        China  2000  213766  1280428583   5    1"
            ]
          },
          "metadata": {
            "tags": []
          },
          "execution_count": 96
        }
      ]
    },
    {
      "cell_type": "markdown",
      "metadata": {
        "id": "C6MCQVlKimqw",
        "colab_type": "text"
      },
      "source": [
        "- The `assign()` function makes this operation easier \n",
        "- This function creates new columns or changes existing ones"
      ]
    },
    {
      "cell_type": "code",
      "metadata": {
        "id": "9J5yPd71iv-3",
        "colab_type": "code",
        "colab": {
          "base_uri": "https://localhost:8080/",
          "height": 235
        },
        "outputId": "92c4c344-d91a-4190-f55f-c6981d4c055f"
      },
      "source": [
        "df.assign(Id = range(len(df)), Id1=1)"
      ],
      "execution_count": 98,
      "outputs": [
        {
          "output_type": "execute_result",
          "data": {
            "text/html": [
              "<div>\n",
              "<style scoped>\n",
              "    .dataframe tbody tr th:only-of-type {\n",
              "        vertical-align: middle;\n",
              "    }\n",
              "\n",
              "    .dataframe tbody tr th {\n",
              "        vertical-align: top;\n",
              "    }\n",
              "\n",
              "    .dataframe thead th {\n",
              "        text-align: right;\n",
              "    }\n",
              "</style>\n",
              "<table border=\"1\" class=\"dataframe\">\n",
              "  <thead>\n",
              "    <tr style=\"text-align: right;\">\n",
              "      <th></th>\n",
              "      <th>Country</th>\n",
              "      <th>Year</th>\n",
              "      <th>Cases</th>\n",
              "      <th>Population</th>\n",
              "      <th>Id</th>\n",
              "      <th>Id1</th>\n",
              "    </tr>\n",
              "  </thead>\n",
              "  <tbody>\n",
              "    <tr>\n",
              "      <th>0</th>\n",
              "      <td>Afghanistan</td>\n",
              "      <td>1999</td>\n",
              "      <td>745</td>\n",
              "      <td>19987071</td>\n",
              "      <td>0</td>\n",
              "      <td>1</td>\n",
              "    </tr>\n",
              "    <tr>\n",
              "      <th>1</th>\n",
              "      <td>Afghanistan</td>\n",
              "      <td>2000</td>\n",
              "      <td>266</td>\n",
              "      <td>20595360</td>\n",
              "      <td>1</td>\n",
              "      <td>1</td>\n",
              "    </tr>\n",
              "    <tr>\n",
              "      <th>2</th>\n",
              "      <td>Brazil</td>\n",
              "      <td>1999</td>\n",
              "      <td>37737</td>\n",
              "      <td>172006362</td>\n",
              "      <td>2</td>\n",
              "      <td>1</td>\n",
              "    </tr>\n",
              "    <tr>\n",
              "      <th>3</th>\n",
              "      <td>Brazil</td>\n",
              "      <td>2000</td>\n",
              "      <td>80488</td>\n",
              "      <td>174504898</td>\n",
              "      <td>3</td>\n",
              "      <td>1</td>\n",
              "    </tr>\n",
              "    <tr>\n",
              "      <th>4</th>\n",
              "      <td>China</td>\n",
              "      <td>1999</td>\n",
              "      <td>212258</td>\n",
              "      <td>1272915272</td>\n",
              "      <td>4</td>\n",
              "      <td>1</td>\n",
              "    </tr>\n",
              "    <tr>\n",
              "      <th>5</th>\n",
              "      <td>China</td>\n",
              "      <td>2000</td>\n",
              "      <td>213766</td>\n",
              "      <td>1280428583</td>\n",
              "      <td>5</td>\n",
              "      <td>1</td>\n",
              "    </tr>\n",
              "  </tbody>\n",
              "</table>\n",
              "</div>"
            ],
            "text/plain": [
              "       Country  Year   Cases  Population  Id  Id1\n",
              "0  Afghanistan  1999     745    19987071   0    1\n",
              "1  Afghanistan  2000     266    20595360   1    1\n",
              "2       Brazil  1999   37737   172006362   2    1\n",
              "3       Brazil  2000   80488   174504898   3    1\n",
              "4        China  1999  212258  1272915272   4    1\n",
              "5        China  2000  213766  1280428583   5    1"
            ]
          },
          "metadata": {
            "tags": []
          },
          "execution_count": 98
        }
      ]
    },
    {
      "cell_type": "code",
      "metadata": {
        "id": "Wr3nkMw_jAM3",
        "colab_type": "code",
        "colab": {
          "base_uri": "https://localhost:8080/",
          "height": 235
        },
        "outputId": "7bc00c40-6e41-49fd-d8d1-f3814b7b1d31"
      },
      "source": [
        "df.assign(Year=df.Year + 100)"
      ],
      "execution_count": 99,
      "outputs": [
        {
          "output_type": "execute_result",
          "data": {
            "text/html": [
              "<div>\n",
              "<style scoped>\n",
              "    .dataframe tbody tr th:only-of-type {\n",
              "        vertical-align: middle;\n",
              "    }\n",
              "\n",
              "    .dataframe tbody tr th {\n",
              "        vertical-align: top;\n",
              "    }\n",
              "\n",
              "    .dataframe thead th {\n",
              "        text-align: right;\n",
              "    }\n",
              "</style>\n",
              "<table border=\"1\" class=\"dataframe\">\n",
              "  <thead>\n",
              "    <tr style=\"text-align: right;\">\n",
              "      <th></th>\n",
              "      <th>Country</th>\n",
              "      <th>Year</th>\n",
              "      <th>Cases</th>\n",
              "      <th>Population</th>\n",
              "      <th>Id</th>\n",
              "      <th>Id1</th>\n",
              "    </tr>\n",
              "  </thead>\n",
              "  <tbody>\n",
              "    <tr>\n",
              "      <th>0</th>\n",
              "      <td>Afghanistan</td>\n",
              "      <td>2099</td>\n",
              "      <td>745</td>\n",
              "      <td>19987071</td>\n",
              "      <td>0</td>\n",
              "      <td>1</td>\n",
              "    </tr>\n",
              "    <tr>\n",
              "      <th>1</th>\n",
              "      <td>Afghanistan</td>\n",
              "      <td>2100</td>\n",
              "      <td>266</td>\n",
              "      <td>20595360</td>\n",
              "      <td>1</td>\n",
              "      <td>1</td>\n",
              "    </tr>\n",
              "    <tr>\n",
              "      <th>2</th>\n",
              "      <td>Brazil</td>\n",
              "      <td>2099</td>\n",
              "      <td>37737</td>\n",
              "      <td>172006362</td>\n",
              "      <td>2</td>\n",
              "      <td>1</td>\n",
              "    </tr>\n",
              "    <tr>\n",
              "      <th>3</th>\n",
              "      <td>Brazil</td>\n",
              "      <td>2100</td>\n",
              "      <td>80488</td>\n",
              "      <td>174504898</td>\n",
              "      <td>3</td>\n",
              "      <td>1</td>\n",
              "    </tr>\n",
              "    <tr>\n",
              "      <th>4</th>\n",
              "      <td>China</td>\n",
              "      <td>2099</td>\n",
              "      <td>212258</td>\n",
              "      <td>1272915272</td>\n",
              "      <td>4</td>\n",
              "      <td>1</td>\n",
              "    </tr>\n",
              "    <tr>\n",
              "      <th>5</th>\n",
              "      <td>China</td>\n",
              "      <td>2100</td>\n",
              "      <td>213766</td>\n",
              "      <td>1280428583</td>\n",
              "      <td>5</td>\n",
              "      <td>1</td>\n",
              "    </tr>\n",
              "  </tbody>\n",
              "</table>\n",
              "</div>"
            ],
            "text/plain": [
              "       Country  Year   Cases  Population  Id  Id1\n",
              "0  Afghanistan  2099     745    19987071   0    1\n",
              "1  Afghanistan  2100     266    20595360   1    1\n",
              "2       Brazil  2099   37737   172006362   2    1\n",
              "3       Brazil  2100   80488   174504898   3    1\n",
              "4        China  2099  212258  1272915272   4    1\n",
              "5        China  2100  213766  1280428583   5    1"
            ]
          },
          "metadata": {
            "tags": []
          },
          "execution_count": 99
        }
      ]
    },
    {
      "cell_type": "code",
      "metadata": {
        "id": "-vlAkA3rjOhB",
        "colab_type": "code",
        "colab": {
          "base_uri": "https://localhost:8080/",
          "height": 225
        },
        "outputId": "2d966a42-1d35-46cf-da57-c1508e5d7b43"
      },
      "source": [
        "df.assign(CasesAcum = df.Cases.cumsum(),\n",
        "          CasesPercent = df.Cases/df.Cases.sum())"
      ],
      "execution_count": 100,
      "outputs": [
        {
          "output_type": "execute_result",
          "data": {
            "text/html": [
              "<div>\n",
              "<style scoped>\n",
              "    .dataframe tbody tr th:only-of-type {\n",
              "        vertical-align: middle;\n",
              "    }\n",
              "\n",
              "    .dataframe tbody tr th {\n",
              "        vertical-align: top;\n",
              "    }\n",
              "\n",
              "    .dataframe thead th {\n",
              "        text-align: right;\n",
              "    }\n",
              "</style>\n",
              "<table border=\"1\" class=\"dataframe\">\n",
              "  <thead>\n",
              "    <tr style=\"text-align: right;\">\n",
              "      <th></th>\n",
              "      <th>Country</th>\n",
              "      <th>Year</th>\n",
              "      <th>Cases</th>\n",
              "      <th>Population</th>\n",
              "      <th>Id</th>\n",
              "      <th>Id1</th>\n",
              "      <th>CasesAcum</th>\n",
              "      <th>CasesPercent</th>\n",
              "    </tr>\n",
              "  </thead>\n",
              "  <tbody>\n",
              "    <tr>\n",
              "      <th>0</th>\n",
              "      <td>Afghanistan</td>\n",
              "      <td>1999</td>\n",
              "      <td>745</td>\n",
              "      <td>19987071</td>\n",
              "      <td>0</td>\n",
              "      <td>1</td>\n",
              "      <td>745</td>\n",
              "      <td>0.001366</td>\n",
              "    </tr>\n",
              "    <tr>\n",
              "      <th>1</th>\n",
              "      <td>Afghanistan</td>\n",
              "      <td>2000</td>\n",
              "      <td>266</td>\n",
              "      <td>20595360</td>\n",
              "      <td>1</td>\n",
              "      <td>1</td>\n",
              "      <td>1011</td>\n",
              "      <td>0.000488</td>\n",
              "    </tr>\n",
              "    <tr>\n",
              "      <th>2</th>\n",
              "      <td>Brazil</td>\n",
              "      <td>1999</td>\n",
              "      <td>37737</td>\n",
              "      <td>172006362</td>\n",
              "      <td>2</td>\n",
              "      <td>1</td>\n",
              "      <td>38748</td>\n",
              "      <td>0.069209</td>\n",
              "    </tr>\n",
              "    <tr>\n",
              "      <th>3</th>\n",
              "      <td>Brazil</td>\n",
              "      <td>2000</td>\n",
              "      <td>80488</td>\n",
              "      <td>174504898</td>\n",
              "      <td>3</td>\n",
              "      <td>1</td>\n",
              "      <td>119236</td>\n",
              "      <td>0.147614</td>\n",
              "    </tr>\n",
              "    <tr>\n",
              "      <th>4</th>\n",
              "      <td>China</td>\n",
              "      <td>1999</td>\n",
              "      <td>212258</td>\n",
              "      <td>1272915272</td>\n",
              "      <td>4</td>\n",
              "      <td>1</td>\n",
              "      <td>331494</td>\n",
              "      <td>0.389279</td>\n",
              "    </tr>\n",
              "    <tr>\n",
              "      <th>5</th>\n",
              "      <td>China</td>\n",
              "      <td>2000</td>\n",
              "      <td>213766</td>\n",
              "      <td>1280428583</td>\n",
              "      <td>5</td>\n",
              "      <td>1</td>\n",
              "      <td>545260</td>\n",
              "      <td>0.392044</td>\n",
              "    </tr>\n",
              "  </tbody>\n",
              "</table>\n",
              "</div>"
            ],
            "text/plain": [
              "       Country  Year   Cases  Population  Id  Id1  CasesAcum  CasesPercent\n",
              "0  Afghanistan  1999     745    19987071   0    1        745      0.001366\n",
              "1  Afghanistan  2000     266    20595360   1    1       1011      0.000488\n",
              "2       Brazil  1999   37737   172006362   2    1      38748      0.069209\n",
              "3       Brazil  2000   80488   174504898   3    1     119236      0.147614\n",
              "4        China  1999  212258  1272915272   4    1     331494      0.389279\n",
              "5        China  2000  213766  1280428583   5    1     545260      0.392044"
            ]
          },
          "metadata": {
            "tags": []
          },
          "execution_count": 100
        }
      ]
    },
    {
      "cell_type": "markdown",
      "metadata": {
        "id": "FiETATz6j-DR",
        "colab_type": "text"
      },
      "source": [
        "Replacing Colunn Values\n"
      ]
    },
    {
      "cell_type": "code",
      "metadata": {
        "id": "LUPcXEdyjXfG",
        "colab_type": "code",
        "colab": {
          "base_uri": "https://localhost:8080/",
          "height": 225
        },
        "outputId": "eb664dd5-f7d4-4d5e-d846-1701a081237f"
      },
      "source": [
        "df.assign(Country = df.Country.replace(\n",
        "    {\n",
        "        \"Afghanistan\" :\"Afg\",\n",
        "     \"China\":\"Chin\"\n",
        "    }\n",
        "))"
      ],
      "execution_count": 102,
      "outputs": [
        {
          "output_type": "execute_result",
          "data": {
            "text/html": [
              "<div>\n",
              "<style scoped>\n",
              "    .dataframe tbody tr th:only-of-type {\n",
              "        vertical-align: middle;\n",
              "    }\n",
              "\n",
              "    .dataframe tbody tr th {\n",
              "        vertical-align: top;\n",
              "    }\n",
              "\n",
              "    .dataframe thead th {\n",
              "        text-align: right;\n",
              "    }\n",
              "</style>\n",
              "<table border=\"1\" class=\"dataframe\">\n",
              "  <thead>\n",
              "    <tr style=\"text-align: right;\">\n",
              "      <th></th>\n",
              "      <th>Country</th>\n",
              "      <th>Year</th>\n",
              "      <th>Cases</th>\n",
              "      <th>Population</th>\n",
              "      <th>Id</th>\n",
              "      <th>Id1</th>\n",
              "    </tr>\n",
              "  </thead>\n",
              "  <tbody>\n",
              "    <tr>\n",
              "      <th>0</th>\n",
              "      <td>Afg</td>\n",
              "      <td>1999</td>\n",
              "      <td>745</td>\n",
              "      <td>19987071</td>\n",
              "      <td>0</td>\n",
              "      <td>1</td>\n",
              "    </tr>\n",
              "    <tr>\n",
              "      <th>1</th>\n",
              "      <td>Afg</td>\n",
              "      <td>2000</td>\n",
              "      <td>266</td>\n",
              "      <td>20595360</td>\n",
              "      <td>1</td>\n",
              "      <td>1</td>\n",
              "    </tr>\n",
              "    <tr>\n",
              "      <th>2</th>\n",
              "      <td>Brazil</td>\n",
              "      <td>1999</td>\n",
              "      <td>37737</td>\n",
              "      <td>172006362</td>\n",
              "      <td>2</td>\n",
              "      <td>1</td>\n",
              "    </tr>\n",
              "    <tr>\n",
              "      <th>3</th>\n",
              "      <td>Brazil</td>\n",
              "      <td>2000</td>\n",
              "      <td>80488</td>\n",
              "      <td>174504898</td>\n",
              "      <td>3</td>\n",
              "      <td>1</td>\n",
              "    </tr>\n",
              "    <tr>\n",
              "      <th>4</th>\n",
              "      <td>Chin</td>\n",
              "      <td>1999</td>\n",
              "      <td>212258</td>\n",
              "      <td>1272915272</td>\n",
              "      <td>4</td>\n",
              "      <td>1</td>\n",
              "    </tr>\n",
              "    <tr>\n",
              "      <th>5</th>\n",
              "      <td>Chin</td>\n",
              "      <td>2000</td>\n",
              "      <td>213766</td>\n",
              "      <td>1280428583</td>\n",
              "      <td>5</td>\n",
              "      <td>1</td>\n",
              "    </tr>\n",
              "  </tbody>\n",
              "</table>\n",
              "</div>"
            ],
            "text/plain": [
              "  Country  Year   Cases  Population  Id  Id1\n",
              "0     Afg  1999     745    19987071   0    1\n",
              "1     Afg  2000     266    20595360   1    1\n",
              "2  Brazil  1999   37737   172006362   2    1\n",
              "3  Brazil  2000   80488   174504898   3    1\n",
              "4    Chin  1999  212258  1272915272   4    1\n",
              "5    Chin  2000  213766  1280428583   5    1"
            ]
          },
          "metadata": {
            "tags": []
          },
          "execution_count": 102
        }
      ]
    },
    {
      "cell_type": "markdown",
      "metadata": {
        "id": "tFNSV8XLj37x",
        "colab_type": "text"
      },
      "source": [
        "Adding a unique ID"
      ]
    },
    {
      "cell_type": "code",
      "metadata": {
        "id": "AhKHLZnDkEwG",
        "colab_type": "code",
        "colab": {
          "base_uri": "https://localhost:8080/",
          "height": 50
        },
        "outputId": "310eb706-8e3c-4dc0-e44c-1bb9abd7c8c0"
      },
      "source": [
        "(codes, uniques) = pd.factorize([\"b\",\"b\",\"a\",\"c\",\"b\"], sort =True)\n",
        "print(codes)\n",
        "print(uniques)"
      ],
      "execution_count": 104,
      "outputs": [
        {
          "output_type": "stream",
          "text": [
            "[1 1 0 2 1]\n",
            "['a' 'b' 'c']\n"
          ],
          "name": "stdout"
        }
      ]
    },
    {
      "cell_type": "code",
      "metadata": {
        "id": "KYItz2pEkR6J",
        "colab_type": "code",
        "colab": {
          "base_uri": "https://localhost:8080/",
          "height": 50
        },
        "outputId": "878c622f-e540-4557-c5e7-712b9f19379f"
      },
      "source": [
        "pd.factorize(df.Country, sort = True)"
      ],
      "execution_count": 105,
      "outputs": [
        {
          "output_type": "execute_result",
          "data": {
            "text/plain": [
              "(array([0, 0, 1, 1, 2, 2]),\n",
              " Index(['Afghanistan', 'Brazil', 'China'], dtype='object'))"
            ]
          },
          "metadata": {
            "tags": []
          },
          "execution_count": 105
        }
      ]
    },
    {
      "cell_type": "code",
      "metadata": {
        "id": "PTko048ckcA_",
        "colab_type": "code",
        "colab": {
          "base_uri": "https://localhost:8080/",
          "height": 34
        },
        "outputId": "66e7da05-8eb7-4ead-a3a4-e1b9326b608b"
      },
      "source": [
        "pd.factorize(df.Country, sort = True)[0]"
      ],
      "execution_count": 106,
      "outputs": [
        {
          "output_type": "execute_result",
          "data": {
            "text/plain": [
              "array([0, 0, 1, 1, 2, 2])"
            ]
          },
          "metadata": {
            "tags": []
          },
          "execution_count": 106
        }
      ]
    },
    {
      "cell_type": "code",
      "metadata": {
        "id": "CWQS8490kg3s",
        "colab_type": "code",
        "colab": {
          "base_uri": "https://localhost:8080/",
          "height": 225
        },
        "outputId": "cc54e535-d21f-4a89-9f39-52bc2676d097"
      },
      "source": [
        "df.assign(\n",
        "    id = pd.factorize(df.Country, sort =True)[0] + 1\n",
        ")"
      ],
      "execution_count": 107,
      "outputs": [
        {
          "output_type": "execute_result",
          "data": {
            "text/html": [
              "<div>\n",
              "<style scoped>\n",
              "    .dataframe tbody tr th:only-of-type {\n",
              "        vertical-align: middle;\n",
              "    }\n",
              "\n",
              "    .dataframe tbody tr th {\n",
              "        vertical-align: top;\n",
              "    }\n",
              "\n",
              "    .dataframe thead th {\n",
              "        text-align: right;\n",
              "    }\n",
              "</style>\n",
              "<table border=\"1\" class=\"dataframe\">\n",
              "  <thead>\n",
              "    <tr style=\"text-align: right;\">\n",
              "      <th></th>\n",
              "      <th>Country</th>\n",
              "      <th>Year</th>\n",
              "      <th>Cases</th>\n",
              "      <th>Population</th>\n",
              "      <th>Id</th>\n",
              "      <th>Id1</th>\n",
              "      <th>id</th>\n",
              "    </tr>\n",
              "  </thead>\n",
              "  <tbody>\n",
              "    <tr>\n",
              "      <th>0</th>\n",
              "      <td>Afghanistan</td>\n",
              "      <td>1999</td>\n",
              "      <td>745</td>\n",
              "      <td>19987071</td>\n",
              "      <td>0</td>\n",
              "      <td>1</td>\n",
              "      <td>1</td>\n",
              "    </tr>\n",
              "    <tr>\n",
              "      <th>1</th>\n",
              "      <td>Afghanistan</td>\n",
              "      <td>2000</td>\n",
              "      <td>266</td>\n",
              "      <td>20595360</td>\n",
              "      <td>1</td>\n",
              "      <td>1</td>\n",
              "      <td>1</td>\n",
              "    </tr>\n",
              "    <tr>\n",
              "      <th>2</th>\n",
              "      <td>Brazil</td>\n",
              "      <td>1999</td>\n",
              "      <td>37737</td>\n",
              "      <td>172006362</td>\n",
              "      <td>2</td>\n",
              "      <td>1</td>\n",
              "      <td>2</td>\n",
              "    </tr>\n",
              "    <tr>\n",
              "      <th>3</th>\n",
              "      <td>Brazil</td>\n",
              "      <td>2000</td>\n",
              "      <td>80488</td>\n",
              "      <td>174504898</td>\n",
              "      <td>3</td>\n",
              "      <td>1</td>\n",
              "      <td>2</td>\n",
              "    </tr>\n",
              "    <tr>\n",
              "      <th>4</th>\n",
              "      <td>China</td>\n",
              "      <td>1999</td>\n",
              "      <td>212258</td>\n",
              "      <td>1272915272</td>\n",
              "      <td>4</td>\n",
              "      <td>1</td>\n",
              "      <td>3</td>\n",
              "    </tr>\n",
              "    <tr>\n",
              "      <th>5</th>\n",
              "      <td>China</td>\n",
              "      <td>2000</td>\n",
              "      <td>213766</td>\n",
              "      <td>1280428583</td>\n",
              "      <td>5</td>\n",
              "      <td>1</td>\n",
              "      <td>3</td>\n",
              "    </tr>\n",
              "  </tbody>\n",
              "</table>\n",
              "</div>"
            ],
            "text/plain": [
              "       Country  Year   Cases  Population  Id  Id1  id\n",
              "0  Afghanistan  1999     745    19987071   0    1   1\n",
              "1  Afghanistan  2000     266    20595360   1    1   1\n",
              "2       Brazil  1999   37737   172006362   2    1   2\n",
              "3       Brazil  2000   80488   174504898   3    1   2\n",
              "4        China  1999  212258  1272915272   4    1   3\n",
              "5        China  2000  213766  1280428583   5    1   3"
            ]
          },
          "metadata": {
            "tags": []
          },
          "execution_count": 107
        }
      ]
    },
    {
      "cell_type": "code",
      "metadata": {
        "id": "TEOdT-DyknTR",
        "colab_type": "code",
        "colab": {
          "base_uri": "https://localhost:8080/",
          "height": 226
        },
        "outputId": "93643a45-ce29-492e-bbcb-517a5054f552"
      },
      "source": [
        "df.assign(\n",
        "    id = pd.factorize(\n",
        "        df.apply(lambda row : row.Country + str(row.Year), axis =1),\n",
        "        sort = True)[0]+1\n",
        "    )"
      ],
      "execution_count": 110,
      "outputs": [
        {
          "output_type": "execute_result",
          "data": {
            "text/html": [
              "<div>\n",
              "<style scoped>\n",
              "    .dataframe tbody tr th:only-of-type {\n",
              "        vertical-align: middle;\n",
              "    }\n",
              "\n",
              "    .dataframe tbody tr th {\n",
              "        vertical-align: top;\n",
              "    }\n",
              "\n",
              "    .dataframe thead th {\n",
              "        text-align: right;\n",
              "    }\n",
              "</style>\n",
              "<table border=\"1\" class=\"dataframe\">\n",
              "  <thead>\n",
              "    <tr style=\"text-align: right;\">\n",
              "      <th></th>\n",
              "      <th>Country</th>\n",
              "      <th>Year</th>\n",
              "      <th>Cases</th>\n",
              "      <th>Population</th>\n",
              "      <th>Id</th>\n",
              "      <th>Id1</th>\n",
              "      <th>id</th>\n",
              "    </tr>\n",
              "  </thead>\n",
              "  <tbody>\n",
              "    <tr>\n",
              "      <th>0</th>\n",
              "      <td>Afghanistan</td>\n",
              "      <td>1999</td>\n",
              "      <td>745</td>\n",
              "      <td>19987071</td>\n",
              "      <td>0</td>\n",
              "      <td>1</td>\n",
              "      <td>1</td>\n",
              "    </tr>\n",
              "    <tr>\n",
              "      <th>1</th>\n",
              "      <td>Afghanistan</td>\n",
              "      <td>2000</td>\n",
              "      <td>266</td>\n",
              "      <td>20595360</td>\n",
              "      <td>1</td>\n",
              "      <td>1</td>\n",
              "      <td>2</td>\n",
              "    </tr>\n",
              "    <tr>\n",
              "      <th>2</th>\n",
              "      <td>Brazil</td>\n",
              "      <td>1999</td>\n",
              "      <td>37737</td>\n",
              "      <td>172006362</td>\n",
              "      <td>2</td>\n",
              "      <td>1</td>\n",
              "      <td>3</td>\n",
              "    </tr>\n",
              "    <tr>\n",
              "      <th>3</th>\n",
              "      <td>Brazil</td>\n",
              "      <td>2000</td>\n",
              "      <td>80488</td>\n",
              "      <td>174504898</td>\n",
              "      <td>3</td>\n",
              "      <td>1</td>\n",
              "      <td>4</td>\n",
              "    </tr>\n",
              "    <tr>\n",
              "      <th>4</th>\n",
              "      <td>China</td>\n",
              "      <td>1999</td>\n",
              "      <td>212258</td>\n",
              "      <td>1272915272</td>\n",
              "      <td>4</td>\n",
              "      <td>1</td>\n",
              "      <td>5</td>\n",
              "    </tr>\n",
              "    <tr>\n",
              "      <th>5</th>\n",
              "      <td>China</td>\n",
              "      <td>2000</td>\n",
              "      <td>213766</td>\n",
              "      <td>1280428583</td>\n",
              "      <td>5</td>\n",
              "      <td>1</td>\n",
              "      <td>6</td>\n",
              "    </tr>\n",
              "  </tbody>\n",
              "</table>\n",
              "</div>"
            ],
            "text/plain": [
              "       Country  Year   Cases  Population  Id  Id1  id\n",
              "0  Afghanistan  1999     745    19987071   0    1   1\n",
              "1  Afghanistan  2000     266    20595360   1    1   2\n",
              "2       Brazil  1999   37737   172006362   2    1   3\n",
              "3       Brazil  2000   80488   174504898   3    1   4\n",
              "4        China  1999  212258  1272915272   4    1   5\n",
              "5        China  2000  213766  1280428583   5    1   6"
            ]
          },
          "metadata": {
            "tags": []
          },
          "execution_count": 110
        }
      ]
    },
    {
      "cell_type": "markdown",
      "metadata": {
        "id": "2JVFH22Zk1Zr",
        "colab_type": "text"
      },
      "source": [
        "## Temporal Series\n"
      ]
    },
    {
      "cell_type": "code",
      "metadata": {
        "id": "-fKKGM20lbDD",
        "colab_type": "code",
        "colab": {
          "base_uri": "https://localhost:8080/",
          "height": 225
        },
        "outputId": "f8d750a2-1e76-4884-84d8-8d898276fbb3"
      },
      "source": [
        "df = df.assign(\n",
        "    Date_str = df.Year.apply(lambda value : str(value) + \"/01/01\")\n",
        ")\n",
        "df"
      ],
      "execution_count": 113,
      "outputs": [
        {
          "output_type": "execute_result",
          "data": {
            "text/html": [
              "<div>\n",
              "<style scoped>\n",
              "    .dataframe tbody tr th:only-of-type {\n",
              "        vertical-align: middle;\n",
              "    }\n",
              "\n",
              "    .dataframe tbody tr th {\n",
              "        vertical-align: top;\n",
              "    }\n",
              "\n",
              "    .dataframe thead th {\n",
              "        text-align: right;\n",
              "    }\n",
              "</style>\n",
              "<table border=\"1\" class=\"dataframe\">\n",
              "  <thead>\n",
              "    <tr style=\"text-align: right;\">\n",
              "      <th></th>\n",
              "      <th>Country</th>\n",
              "      <th>Year</th>\n",
              "      <th>Cases</th>\n",
              "      <th>Population</th>\n",
              "      <th>Id</th>\n",
              "      <th>Id1</th>\n",
              "      <th>Date_str</th>\n",
              "    </tr>\n",
              "  </thead>\n",
              "  <tbody>\n",
              "    <tr>\n",
              "      <th>0</th>\n",
              "      <td>Afghanistan</td>\n",
              "      <td>1999</td>\n",
              "      <td>745</td>\n",
              "      <td>19987071</td>\n",
              "      <td>0</td>\n",
              "      <td>1</td>\n",
              "      <td>1999/01/01</td>\n",
              "    </tr>\n",
              "    <tr>\n",
              "      <th>1</th>\n",
              "      <td>Afghanistan</td>\n",
              "      <td>2000</td>\n",
              "      <td>266</td>\n",
              "      <td>20595360</td>\n",
              "      <td>1</td>\n",
              "      <td>1</td>\n",
              "      <td>2000/01/01</td>\n",
              "    </tr>\n",
              "    <tr>\n",
              "      <th>2</th>\n",
              "      <td>Brazil</td>\n",
              "      <td>1999</td>\n",
              "      <td>37737</td>\n",
              "      <td>172006362</td>\n",
              "      <td>2</td>\n",
              "      <td>1</td>\n",
              "      <td>1999/01/01</td>\n",
              "    </tr>\n",
              "    <tr>\n",
              "      <th>3</th>\n",
              "      <td>Brazil</td>\n",
              "      <td>2000</td>\n",
              "      <td>80488</td>\n",
              "      <td>174504898</td>\n",
              "      <td>3</td>\n",
              "      <td>1</td>\n",
              "      <td>2000/01/01</td>\n",
              "    </tr>\n",
              "    <tr>\n",
              "      <th>4</th>\n",
              "      <td>China</td>\n",
              "      <td>1999</td>\n",
              "      <td>212258</td>\n",
              "      <td>1272915272</td>\n",
              "      <td>4</td>\n",
              "      <td>1</td>\n",
              "      <td>1999/01/01</td>\n",
              "    </tr>\n",
              "    <tr>\n",
              "      <th>5</th>\n",
              "      <td>China</td>\n",
              "      <td>2000</td>\n",
              "      <td>213766</td>\n",
              "      <td>1280428583</td>\n",
              "      <td>5</td>\n",
              "      <td>1</td>\n",
              "      <td>2000/01/01</td>\n",
              "    </tr>\n",
              "  </tbody>\n",
              "</table>\n",
              "</div>"
            ],
            "text/plain": [
              "       Country  Year   Cases  Population  Id  Id1    Date_str\n",
              "0  Afghanistan  1999     745    19987071   0    1  1999/01/01\n",
              "1  Afghanistan  2000     266    20595360   1    1  2000/01/01\n",
              "2       Brazil  1999   37737   172006362   2    1  1999/01/01\n",
              "3       Brazil  2000   80488   174504898   3    1  2000/01/01\n",
              "4        China  1999  212258  1272915272   4    1  1999/01/01\n",
              "5        China  2000  213766  1280428583   5    1  2000/01/01"
            ]
          },
          "metadata": {
            "tags": []
          },
          "execution_count": 113
        }
      ]
    },
    {
      "cell_type": "code",
      "metadata": {
        "id": "afvD-isolkFa",
        "colab_type": "code",
        "colab": {
          "base_uri": "https://localhost:8080/",
          "height": 225
        },
        "outputId": "d047408c-1064-442b-bd0d-dd74bfcb2d22"
      },
      "source": [
        "df = df.assign(\n",
        "    Date = pd.to_datetime(df.Date_str, format =\"%Y/%m/%d\")\n",
        ")\n",
        "df"
      ],
      "execution_count": 115,
      "outputs": [
        {
          "output_type": "execute_result",
          "data": {
            "text/html": [
              "<div>\n",
              "<style scoped>\n",
              "    .dataframe tbody tr th:only-of-type {\n",
              "        vertical-align: middle;\n",
              "    }\n",
              "\n",
              "    .dataframe tbody tr th {\n",
              "        vertical-align: top;\n",
              "    }\n",
              "\n",
              "    .dataframe thead th {\n",
              "        text-align: right;\n",
              "    }\n",
              "</style>\n",
              "<table border=\"1\" class=\"dataframe\">\n",
              "  <thead>\n",
              "    <tr style=\"text-align: right;\">\n",
              "      <th></th>\n",
              "      <th>Country</th>\n",
              "      <th>Year</th>\n",
              "      <th>Cases</th>\n",
              "      <th>Population</th>\n",
              "      <th>Id</th>\n",
              "      <th>Id1</th>\n",
              "      <th>Date_str</th>\n",
              "      <th>Date</th>\n",
              "    </tr>\n",
              "  </thead>\n",
              "  <tbody>\n",
              "    <tr>\n",
              "      <th>0</th>\n",
              "      <td>Afghanistan</td>\n",
              "      <td>1999</td>\n",
              "      <td>745</td>\n",
              "      <td>19987071</td>\n",
              "      <td>0</td>\n",
              "      <td>1</td>\n",
              "      <td>1999/01/01</td>\n",
              "      <td>1999-01-01</td>\n",
              "    </tr>\n",
              "    <tr>\n",
              "      <th>1</th>\n",
              "      <td>Afghanistan</td>\n",
              "      <td>2000</td>\n",
              "      <td>266</td>\n",
              "      <td>20595360</td>\n",
              "      <td>1</td>\n",
              "      <td>1</td>\n",
              "      <td>2000/01/01</td>\n",
              "      <td>2000-01-01</td>\n",
              "    </tr>\n",
              "    <tr>\n",
              "      <th>2</th>\n",
              "      <td>Brazil</td>\n",
              "      <td>1999</td>\n",
              "      <td>37737</td>\n",
              "      <td>172006362</td>\n",
              "      <td>2</td>\n",
              "      <td>1</td>\n",
              "      <td>1999/01/01</td>\n",
              "      <td>1999-01-01</td>\n",
              "    </tr>\n",
              "    <tr>\n",
              "      <th>3</th>\n",
              "      <td>Brazil</td>\n",
              "      <td>2000</td>\n",
              "      <td>80488</td>\n",
              "      <td>174504898</td>\n",
              "      <td>3</td>\n",
              "      <td>1</td>\n",
              "      <td>2000/01/01</td>\n",
              "      <td>2000-01-01</td>\n",
              "    </tr>\n",
              "    <tr>\n",
              "      <th>4</th>\n",
              "      <td>China</td>\n",
              "      <td>1999</td>\n",
              "      <td>212258</td>\n",
              "      <td>1272915272</td>\n",
              "      <td>4</td>\n",
              "      <td>1</td>\n",
              "      <td>1999/01/01</td>\n",
              "      <td>1999-01-01</td>\n",
              "    </tr>\n",
              "    <tr>\n",
              "      <th>5</th>\n",
              "      <td>China</td>\n",
              "      <td>2000</td>\n",
              "      <td>213766</td>\n",
              "      <td>1280428583</td>\n",
              "      <td>5</td>\n",
              "      <td>1</td>\n",
              "      <td>2000/01/01</td>\n",
              "      <td>2000-01-01</td>\n",
              "    </tr>\n",
              "  </tbody>\n",
              "</table>\n",
              "</div>"
            ],
            "text/plain": [
              "       Country  Year   Cases  Population  Id  Id1    Date_str       Date\n",
              "0  Afghanistan  1999     745    19987071   0    1  1999/01/01 1999-01-01\n",
              "1  Afghanistan  2000     266    20595360   1    1  2000/01/01 2000-01-01\n",
              "2       Brazil  1999   37737   172006362   2    1  1999/01/01 1999-01-01\n",
              "3       Brazil  2000   80488   174504898   3    1  2000/01/01 2000-01-01\n",
              "4        China  1999  212258  1272915272   4    1  1999/01/01 1999-01-01\n",
              "5        China  2000  213766  1280428583   5    1  2000/01/01 2000-01-01"
            ]
          },
          "metadata": {
            "tags": []
          },
          "execution_count": 115
        }
      ]
    },
    {
      "cell_type": "markdown",
      "metadata": {
        "id": "aXq48eyovMOl",
        "colab_type": "text"
      },
      "source": [
        "## Categorical Series\n",
        "- Pandas provides the `cut()` function to assign a group to\n",
        "a continuous variable, depending on a range of values"
      ]
    },
    {
      "cell_type": "code",
      "metadata": {
        "id": "EnDvXzfFvWt5",
        "colab_type": "code",
        "colab": {
          "base_uri": "https://localhost:8080/",
          "height": 314
        },
        "outputId": "278e3414-ef01-4f39-e54d-5cadebb7a120"
      },
      "source": [
        "n = [61,16,62,80,55,32,20,53,22]\n",
        "n = sorted(n)\n",
        "\n",
        "pd.DataFrame({\n",
        "    \"N\":n,\n",
        "    \"Cut 3 Bins\": pd.cut(n,bins=3),\n",
        "    \"Cut 3 Labels\": pd.cut(n, bins=3,labels=[\"Group1\", \"Group2\", \"Group3\"]),\n",
        "    \"Cut 3 Vectors\": pd.cut(n,bins=[10,32,70,100], labels = [\"10-32\", \"33-70\",\"71-100\"])\n",
        "})"
      ],
      "execution_count": 120,
      "outputs": [
        {
          "output_type": "execute_result",
          "data": {
            "text/html": [
              "<div>\n",
              "<style scoped>\n",
              "    .dataframe tbody tr th:only-of-type {\n",
              "        vertical-align: middle;\n",
              "    }\n",
              "\n",
              "    .dataframe tbody tr th {\n",
              "        vertical-align: top;\n",
              "    }\n",
              "\n",
              "    .dataframe thead th {\n",
              "        text-align: right;\n",
              "    }\n",
              "</style>\n",
              "<table border=\"1\" class=\"dataframe\">\n",
              "  <thead>\n",
              "    <tr style=\"text-align: right;\">\n",
              "      <th></th>\n",
              "      <th>N</th>\n",
              "      <th>Cut 3 Bins</th>\n",
              "      <th>Cut 3 Labels</th>\n",
              "      <th>Cut 3 Vectors</th>\n",
              "    </tr>\n",
              "  </thead>\n",
              "  <tbody>\n",
              "    <tr>\n",
              "      <th>0</th>\n",
              "      <td>16</td>\n",
              "      <td>(15.936, 37.333]</td>\n",
              "      <td>Group1</td>\n",
              "      <td>10-32</td>\n",
              "    </tr>\n",
              "    <tr>\n",
              "      <th>1</th>\n",
              "      <td>20</td>\n",
              "      <td>(15.936, 37.333]</td>\n",
              "      <td>Group1</td>\n",
              "      <td>10-32</td>\n",
              "    </tr>\n",
              "    <tr>\n",
              "      <th>2</th>\n",
              "      <td>22</td>\n",
              "      <td>(15.936, 37.333]</td>\n",
              "      <td>Group1</td>\n",
              "      <td>10-32</td>\n",
              "    </tr>\n",
              "    <tr>\n",
              "      <th>3</th>\n",
              "      <td>32</td>\n",
              "      <td>(15.936, 37.333]</td>\n",
              "      <td>Group1</td>\n",
              "      <td>10-32</td>\n",
              "    </tr>\n",
              "    <tr>\n",
              "      <th>4</th>\n",
              "      <td>53</td>\n",
              "      <td>(37.333, 58.667]</td>\n",
              "      <td>Group2</td>\n",
              "      <td>33-70</td>\n",
              "    </tr>\n",
              "    <tr>\n",
              "      <th>5</th>\n",
              "      <td>55</td>\n",
              "      <td>(37.333, 58.667]</td>\n",
              "      <td>Group2</td>\n",
              "      <td>33-70</td>\n",
              "    </tr>\n",
              "    <tr>\n",
              "      <th>6</th>\n",
              "      <td>61</td>\n",
              "      <td>(58.667, 80.0]</td>\n",
              "      <td>Group3</td>\n",
              "      <td>33-70</td>\n",
              "    </tr>\n",
              "    <tr>\n",
              "      <th>7</th>\n",
              "      <td>62</td>\n",
              "      <td>(58.667, 80.0]</td>\n",
              "      <td>Group3</td>\n",
              "      <td>33-70</td>\n",
              "    </tr>\n",
              "    <tr>\n",
              "      <th>8</th>\n",
              "      <td>80</td>\n",
              "      <td>(58.667, 80.0]</td>\n",
              "      <td>Group3</td>\n",
              "      <td>71-100</td>\n",
              "    </tr>\n",
              "  </tbody>\n",
              "</table>\n",
              "</div>"
            ],
            "text/plain": [
              "    N        Cut 3 Bins Cut 3 Labels Cut 3 Vectors\n",
              "0  16  (15.936, 37.333]       Group1         10-32\n",
              "1  20  (15.936, 37.333]       Group1         10-32\n",
              "2  22  (15.936, 37.333]       Group1         10-32\n",
              "3  32  (15.936, 37.333]       Group1         10-32\n",
              "4  53  (37.333, 58.667]       Group2         33-70\n",
              "5  55  (37.333, 58.667]       Group2         33-70\n",
              "6  61    (58.667, 80.0]       Group3         33-70\n",
              "7  62    (58.667, 80.0]       Group3         33-70\n",
              "8  80    (58.667, 80.0]       Group3        71-100"
            ]
          },
          "metadata": {
            "tags": []
          },
          "execution_count": 120
        }
      ]
    },
    {
      "cell_type": "code",
      "metadata": {
        "id": "Q-O3mVOvvkHf",
        "colab_type": "code",
        "colab": {
          "base_uri": "https://localhost:8080/",
          "height": 225
        },
        "outputId": "d5518b28-8cd6-4971-cee6-3a815cf159dd"
      },
      "source": [
        "df = df.drop([\"Id\",\"Id1\"], axis=1)\n",
        "df.assign(\n",
        "    Type = pd.cut(df.Cases,\n",
        "                  bins = [0,50000,5000000],\n",
        "                  labels = [\"Type A\", \"Type B\"])\n",
        ")"
      ],
      "execution_count": 124,
      "outputs": [
        {
          "output_type": "execute_result",
          "data": {
            "text/html": [
              "<div>\n",
              "<style scoped>\n",
              "    .dataframe tbody tr th:only-of-type {\n",
              "        vertical-align: middle;\n",
              "    }\n",
              "\n",
              "    .dataframe tbody tr th {\n",
              "        vertical-align: top;\n",
              "    }\n",
              "\n",
              "    .dataframe thead th {\n",
              "        text-align: right;\n",
              "    }\n",
              "</style>\n",
              "<table border=\"1\" class=\"dataframe\">\n",
              "  <thead>\n",
              "    <tr style=\"text-align: right;\">\n",
              "      <th></th>\n",
              "      <th>Country</th>\n",
              "      <th>Year</th>\n",
              "      <th>Cases</th>\n",
              "      <th>Population</th>\n",
              "      <th>Date_str</th>\n",
              "      <th>Date</th>\n",
              "      <th>Type</th>\n",
              "    </tr>\n",
              "  </thead>\n",
              "  <tbody>\n",
              "    <tr>\n",
              "      <th>0</th>\n",
              "      <td>Afghanistan</td>\n",
              "      <td>1999</td>\n",
              "      <td>745</td>\n",
              "      <td>19987071</td>\n",
              "      <td>1999/01/01</td>\n",
              "      <td>1999-01-01</td>\n",
              "      <td>Type A</td>\n",
              "    </tr>\n",
              "    <tr>\n",
              "      <th>1</th>\n",
              "      <td>Afghanistan</td>\n",
              "      <td>2000</td>\n",
              "      <td>266</td>\n",
              "      <td>20595360</td>\n",
              "      <td>2000/01/01</td>\n",
              "      <td>2000-01-01</td>\n",
              "      <td>Type A</td>\n",
              "    </tr>\n",
              "    <tr>\n",
              "      <th>2</th>\n",
              "      <td>Brazil</td>\n",
              "      <td>1999</td>\n",
              "      <td>37737</td>\n",
              "      <td>172006362</td>\n",
              "      <td>1999/01/01</td>\n",
              "      <td>1999-01-01</td>\n",
              "      <td>Type A</td>\n",
              "    </tr>\n",
              "    <tr>\n",
              "      <th>3</th>\n",
              "      <td>Brazil</td>\n",
              "      <td>2000</td>\n",
              "      <td>80488</td>\n",
              "      <td>174504898</td>\n",
              "      <td>2000/01/01</td>\n",
              "      <td>2000-01-01</td>\n",
              "      <td>Type B</td>\n",
              "    </tr>\n",
              "    <tr>\n",
              "      <th>4</th>\n",
              "      <td>China</td>\n",
              "      <td>1999</td>\n",
              "      <td>212258</td>\n",
              "      <td>1272915272</td>\n",
              "      <td>1999/01/01</td>\n",
              "      <td>1999-01-01</td>\n",
              "      <td>Type B</td>\n",
              "    </tr>\n",
              "    <tr>\n",
              "      <th>5</th>\n",
              "      <td>China</td>\n",
              "      <td>2000</td>\n",
              "      <td>213766</td>\n",
              "      <td>1280428583</td>\n",
              "      <td>2000/01/01</td>\n",
              "      <td>2000-01-01</td>\n",
              "      <td>Type B</td>\n",
              "    </tr>\n",
              "  </tbody>\n",
              "</table>\n",
              "</div>"
            ],
            "text/plain": [
              "       Country  Year   Cases  Population    Date_str       Date    Type\n",
              "0  Afghanistan  1999     745    19987071  1999/01/01 1999-01-01  Type A\n",
              "1  Afghanistan  2000     266    20595360  2000/01/01 2000-01-01  Type A\n",
              "2       Brazil  1999   37737   172006362  1999/01/01 1999-01-01  Type A\n",
              "3       Brazil  2000   80488   174504898  2000/01/01 2000-01-01  Type B\n",
              "4        China  1999  212258  1272915272  1999/01/01 1999-01-01  Type B\n",
              "5        China  2000  213766  1280428583  2000/01/01 2000-01-01  Type B"
            ]
          },
          "metadata": {
            "tags": []
          },
          "execution_count": 124
        }
      ]
    },
    {
      "cell_type": "markdown",
      "metadata": {
        "id": "-YCAn22iwc29",
        "colab_type": "text"
      },
      "source": [
        "# Exercise 33 \n",
        "Work on the DataFrame “liga” \n",
        "\n",
        "Create the following columns:\n",
        "- ‘DiferenciaGoles’= ‘GolesFavor’ minus ‘GolesContra’\n",
        "- ‘PorcentajeGoles’ = ‘GolesFavor’ / Sum of the ‘GolesFavor’ of all the teams\n",
        "- PercentageVictorias = Victories / Matches Played\n",
        "- PointsAcum = Accumulated ‘Puntos’ of all teams (cumsum)\n",
        "- Materialize this new columns on the dataset"
      ]
    },
    {
      "cell_type": "code",
      "metadata": {
        "id": "UhS85oIYxAOi",
        "colab_type": "code",
        "colab": {}
      },
      "source": [
        ""
      ],
      "execution_count": 0,
      "outputs": []
    },
    {
      "cell_type": "code",
      "metadata": {
        "id": "4yPLGhp-xE-Y",
        "colab_type": "code",
        "colab": {}
      },
      "source": [
        ""
      ],
      "execution_count": 0,
      "outputs": []
    },
    {
      "cell_type": "markdown",
      "metadata": {
        "id": "CztLlvELxFTZ",
        "colab_type": "text"
      },
      "source": [
        "# Exercise 34\n",
        "- On the DataFrame “liga\", create the following columns:\n",
        "- Zona = \"Champions\" if the team is in one of the first 4 places, “Descenso\" if the team is in the last 3 places,\n",
        "\"Normal\" for the rest of the cases (pd.cut)\n",
        "- DiferenciaPuntos = Difference in ‘Puntos’ between a team and the team immediately below it in the ranking\n",
        "(series.shift(n))\n",
        "- Temporada = \"2016-2017”\n",
        "- Materialize this new columns on the dataset"
      ]
    },
    {
      "cell_type": "markdown",
      "metadata": {
        "id": "CqoprDPxx2qZ",
        "colab_type": "text"
      },
      "source": [
        "## Deleting rows\n",
        "- In DataFrames, the `drop() function allows you to\n",
        "delete both rows and columns by specifying an array of\n",
        "names"
      ]
    },
    {
      "cell_type": "code",
      "metadata": {
        "id": "FjM--9eZx-w7",
        "colab_type": "code",
        "colab": {
          "base_uri": "https://localhost:8080/",
          "height": 166
        },
        "outputId": "0fd4a2d0-93a7-4236-b274-f0f3d684e376"
      },
      "source": [
        "df.drop([1,3], axis =0)"
      ],
      "execution_count": 125,
      "outputs": [
        {
          "output_type": "execute_result",
          "data": {
            "text/html": [
              "<div>\n",
              "<style scoped>\n",
              "    .dataframe tbody tr th:only-of-type {\n",
              "        vertical-align: middle;\n",
              "    }\n",
              "\n",
              "    .dataframe tbody tr th {\n",
              "        vertical-align: top;\n",
              "    }\n",
              "\n",
              "    .dataframe thead th {\n",
              "        text-align: right;\n",
              "    }\n",
              "</style>\n",
              "<table border=\"1\" class=\"dataframe\">\n",
              "  <thead>\n",
              "    <tr style=\"text-align: right;\">\n",
              "      <th></th>\n",
              "      <th>Country</th>\n",
              "      <th>Year</th>\n",
              "      <th>Cases</th>\n",
              "      <th>Population</th>\n",
              "      <th>Date_str</th>\n",
              "      <th>Date</th>\n",
              "    </tr>\n",
              "  </thead>\n",
              "  <tbody>\n",
              "    <tr>\n",
              "      <th>0</th>\n",
              "      <td>Afghanistan</td>\n",
              "      <td>1999</td>\n",
              "      <td>745</td>\n",
              "      <td>19987071</td>\n",
              "      <td>1999/01/01</td>\n",
              "      <td>1999-01-01</td>\n",
              "    </tr>\n",
              "    <tr>\n",
              "      <th>2</th>\n",
              "      <td>Brazil</td>\n",
              "      <td>1999</td>\n",
              "      <td>37737</td>\n",
              "      <td>172006362</td>\n",
              "      <td>1999/01/01</td>\n",
              "      <td>1999-01-01</td>\n",
              "    </tr>\n",
              "    <tr>\n",
              "      <th>4</th>\n",
              "      <td>China</td>\n",
              "      <td>1999</td>\n",
              "      <td>212258</td>\n",
              "      <td>1272915272</td>\n",
              "      <td>1999/01/01</td>\n",
              "      <td>1999-01-01</td>\n",
              "    </tr>\n",
              "    <tr>\n",
              "      <th>5</th>\n",
              "      <td>China</td>\n",
              "      <td>2000</td>\n",
              "      <td>213766</td>\n",
              "      <td>1280428583</td>\n",
              "      <td>2000/01/01</td>\n",
              "      <td>2000-01-01</td>\n",
              "    </tr>\n",
              "  </tbody>\n",
              "</table>\n",
              "</div>"
            ],
            "text/plain": [
              "       Country  Year   Cases  Population    Date_str       Date\n",
              "0  Afghanistan  1999     745    19987071  1999/01/01 1999-01-01\n",
              "2       Brazil  1999   37737   172006362  1999/01/01 1999-01-01\n",
              "4        China  1999  212258  1272915272  1999/01/01 1999-01-01\n",
              "5        China  2000  213766  1280428583  2000/01/01 2000-01-01"
            ]
          },
          "metadata": {
            "tags": []
          },
          "execution_count": 125
        }
      ]
    },
    {
      "cell_type": "markdown",
      "metadata": {
        "id": "CN-VPN0qyB-G",
        "colab_type": "text"
      },
      "source": [
        "We can not use a condition to delete rows with `drop()`"
      ]
    },
    {
      "cell_type": "code",
      "metadata": {
        "id": "grHRx3G4yIY8",
        "colab_type": "code",
        "colab": {
          "base_uri": "https://localhost:8080/",
          "height": 323
        },
        "outputId": "31074887-8d60-483e-f523-afb75b799c6f"
      },
      "source": [
        "df.drop(df.Country != \"China\", axis =0)"
      ],
      "execution_count": 126,
      "outputs": [
        {
          "output_type": "error",
          "ename": "KeyError",
          "evalue": "ignored",
          "traceback": [
            "\u001b[0;31m---------------------------------------------------------------------------\u001b[0m",
            "\u001b[0;31mKeyError\u001b[0m                                  Traceback (most recent call last)",
            "\u001b[0;32m<ipython-input-126-f9f251140764>\u001b[0m in \u001b[0;36m<module>\u001b[0;34m()\u001b[0m\n\u001b[0;32m----> 1\u001b[0;31m \u001b[0mdf\u001b[0m\u001b[0;34m.\u001b[0m\u001b[0mdrop\u001b[0m\u001b[0;34m(\u001b[0m\u001b[0mdf\u001b[0m\u001b[0;34m.\u001b[0m\u001b[0mCountry\u001b[0m \u001b[0;34m!=\u001b[0m \u001b[0;34m\"China\"\u001b[0m\u001b[0;34m,\u001b[0m \u001b[0maxis\u001b[0m \u001b[0;34m=\u001b[0m\u001b[0;36m0\u001b[0m\u001b[0;34m)\u001b[0m\u001b[0;34m\u001b[0m\u001b[0;34m\u001b[0m\u001b[0m\n\u001b[0m",
            "\u001b[0;32m/usr/local/lib/python3.6/dist-packages/pandas/core/frame.py\u001b[0m in \u001b[0;36mdrop\u001b[0;34m(self, labels, axis, index, columns, level, inplace, errors)\u001b[0m\n\u001b[1;32m   3995\u001b[0m             \u001b[0mlevel\u001b[0m\u001b[0;34m=\u001b[0m\u001b[0mlevel\u001b[0m\u001b[0;34m,\u001b[0m\u001b[0;34m\u001b[0m\u001b[0;34m\u001b[0m\u001b[0m\n\u001b[1;32m   3996\u001b[0m             \u001b[0minplace\u001b[0m\u001b[0;34m=\u001b[0m\u001b[0minplace\u001b[0m\u001b[0;34m,\u001b[0m\u001b[0;34m\u001b[0m\u001b[0;34m\u001b[0m\u001b[0m\n\u001b[0;32m-> 3997\u001b[0;31m             \u001b[0merrors\u001b[0m\u001b[0;34m=\u001b[0m\u001b[0merrors\u001b[0m\u001b[0;34m,\u001b[0m\u001b[0;34m\u001b[0m\u001b[0;34m\u001b[0m\u001b[0m\n\u001b[0m\u001b[1;32m   3998\u001b[0m         )\n\u001b[1;32m   3999\u001b[0m \u001b[0;34m\u001b[0m\u001b[0m\n",
            "\u001b[0;32m/usr/local/lib/python3.6/dist-packages/pandas/core/generic.py\u001b[0m in \u001b[0;36mdrop\u001b[0;34m(self, labels, axis, index, columns, level, inplace, errors)\u001b[0m\n\u001b[1;32m   3934\u001b[0m         \u001b[0;32mfor\u001b[0m \u001b[0maxis\u001b[0m\u001b[0;34m,\u001b[0m \u001b[0mlabels\u001b[0m \u001b[0;32min\u001b[0m \u001b[0maxes\u001b[0m\u001b[0;34m.\u001b[0m\u001b[0mitems\u001b[0m\u001b[0;34m(\u001b[0m\u001b[0;34m)\u001b[0m\u001b[0;34m:\u001b[0m\u001b[0;34m\u001b[0m\u001b[0;34m\u001b[0m\u001b[0m\n\u001b[1;32m   3935\u001b[0m             \u001b[0;32mif\u001b[0m \u001b[0mlabels\u001b[0m \u001b[0;32mis\u001b[0m \u001b[0;32mnot\u001b[0m \u001b[0;32mNone\u001b[0m\u001b[0;34m:\u001b[0m\u001b[0;34m\u001b[0m\u001b[0;34m\u001b[0m\u001b[0m\n\u001b[0;32m-> 3936\u001b[0;31m                 \u001b[0mobj\u001b[0m \u001b[0;34m=\u001b[0m \u001b[0mobj\u001b[0m\u001b[0;34m.\u001b[0m\u001b[0m_drop_axis\u001b[0m\u001b[0;34m(\u001b[0m\u001b[0mlabels\u001b[0m\u001b[0;34m,\u001b[0m \u001b[0maxis\u001b[0m\u001b[0;34m,\u001b[0m \u001b[0mlevel\u001b[0m\u001b[0;34m=\u001b[0m\u001b[0mlevel\u001b[0m\u001b[0;34m,\u001b[0m \u001b[0merrors\u001b[0m\u001b[0;34m=\u001b[0m\u001b[0merrors\u001b[0m\u001b[0;34m)\u001b[0m\u001b[0;34m\u001b[0m\u001b[0;34m\u001b[0m\u001b[0m\n\u001b[0m\u001b[1;32m   3937\u001b[0m \u001b[0;34m\u001b[0m\u001b[0m\n\u001b[1;32m   3938\u001b[0m         \u001b[0;32mif\u001b[0m \u001b[0minplace\u001b[0m\u001b[0;34m:\u001b[0m\u001b[0;34m\u001b[0m\u001b[0;34m\u001b[0m\u001b[0m\n",
            "\u001b[0;32m/usr/local/lib/python3.6/dist-packages/pandas/core/generic.py\u001b[0m in \u001b[0;36m_drop_axis\u001b[0;34m(self, labels, axis, level, errors)\u001b[0m\n\u001b[1;32m   3968\u001b[0m                 \u001b[0mnew_axis\u001b[0m \u001b[0;34m=\u001b[0m \u001b[0maxis\u001b[0m\u001b[0;34m.\u001b[0m\u001b[0mdrop\u001b[0m\u001b[0;34m(\u001b[0m\u001b[0mlabels\u001b[0m\u001b[0;34m,\u001b[0m \u001b[0mlevel\u001b[0m\u001b[0;34m=\u001b[0m\u001b[0mlevel\u001b[0m\u001b[0;34m,\u001b[0m \u001b[0merrors\u001b[0m\u001b[0;34m=\u001b[0m\u001b[0merrors\u001b[0m\u001b[0;34m)\u001b[0m\u001b[0;34m\u001b[0m\u001b[0;34m\u001b[0m\u001b[0m\n\u001b[1;32m   3969\u001b[0m             \u001b[0;32melse\u001b[0m\u001b[0;34m:\u001b[0m\u001b[0;34m\u001b[0m\u001b[0;34m\u001b[0m\u001b[0m\n\u001b[0;32m-> 3970\u001b[0;31m                 \u001b[0mnew_axis\u001b[0m \u001b[0;34m=\u001b[0m \u001b[0maxis\u001b[0m\u001b[0;34m.\u001b[0m\u001b[0mdrop\u001b[0m\u001b[0;34m(\u001b[0m\u001b[0mlabels\u001b[0m\u001b[0;34m,\u001b[0m \u001b[0merrors\u001b[0m\u001b[0;34m=\u001b[0m\u001b[0merrors\u001b[0m\u001b[0;34m)\u001b[0m\u001b[0;34m\u001b[0m\u001b[0;34m\u001b[0m\u001b[0m\n\u001b[0m\u001b[1;32m   3971\u001b[0m             \u001b[0mresult\u001b[0m \u001b[0;34m=\u001b[0m \u001b[0mself\u001b[0m\u001b[0;34m.\u001b[0m\u001b[0mreindex\u001b[0m\u001b[0;34m(\u001b[0m\u001b[0;34m**\u001b[0m\u001b[0;34m{\u001b[0m\u001b[0maxis_name\u001b[0m\u001b[0;34m:\u001b[0m \u001b[0mnew_axis\u001b[0m\u001b[0;34m}\u001b[0m\u001b[0;34m)\u001b[0m\u001b[0;34m\u001b[0m\u001b[0;34m\u001b[0m\u001b[0m\n\u001b[1;32m   3972\u001b[0m \u001b[0;34m\u001b[0m\u001b[0m\n",
            "\u001b[0;32m/usr/local/lib/python3.6/dist-packages/pandas/core/indexes/base.py\u001b[0m in \u001b[0;36mdrop\u001b[0;34m(self, labels, errors)\u001b[0m\n\u001b[1;32m   5015\u001b[0m         \u001b[0;32mif\u001b[0m \u001b[0mmask\u001b[0m\u001b[0;34m.\u001b[0m\u001b[0many\u001b[0m\u001b[0;34m(\u001b[0m\u001b[0;34m)\u001b[0m\u001b[0;34m:\u001b[0m\u001b[0;34m\u001b[0m\u001b[0;34m\u001b[0m\u001b[0m\n\u001b[1;32m   5016\u001b[0m             \u001b[0;32mif\u001b[0m \u001b[0merrors\u001b[0m \u001b[0;34m!=\u001b[0m \u001b[0;34m\"ignore\"\u001b[0m\u001b[0;34m:\u001b[0m\u001b[0;34m\u001b[0m\u001b[0;34m\u001b[0m\u001b[0m\n\u001b[0;32m-> 5017\u001b[0;31m                 \u001b[0;32mraise\u001b[0m \u001b[0mKeyError\u001b[0m\u001b[0;34m(\u001b[0m\u001b[0;34mf\"{labels[mask]} not found in axis\"\u001b[0m\u001b[0;34m)\u001b[0m\u001b[0;34m\u001b[0m\u001b[0;34m\u001b[0m\u001b[0m\n\u001b[0m\u001b[1;32m   5018\u001b[0m             \u001b[0mindexer\u001b[0m \u001b[0;34m=\u001b[0m \u001b[0mindexer\u001b[0m\u001b[0;34m[\u001b[0m\u001b[0;34m~\u001b[0m\u001b[0mmask\u001b[0m\u001b[0;34m]\u001b[0m\u001b[0;34m\u001b[0m\u001b[0;34m\u001b[0m\u001b[0m\n\u001b[1;32m   5019\u001b[0m         \u001b[0;32mreturn\u001b[0m \u001b[0mself\u001b[0m\u001b[0;34m.\u001b[0m\u001b[0mdelete\u001b[0m\u001b[0;34m(\u001b[0m\u001b[0mindexer\u001b[0m\u001b[0;34m)\u001b[0m\u001b[0;34m\u001b[0m\u001b[0;34m\u001b[0m\u001b[0m\n",
            "\u001b[0;31mKeyError\u001b[0m: '[ True  True  True  True False False] not found in axis'"
          ]
        }
      ]
    },
    {
      "cell_type": "markdown",
      "metadata": {
        "id": "r3t1rrdKyLnm",
        "colab_type": "text"
      },
      "source": [
        "The trick is selecting the rows that you want to\n",
        "mantein in the dataset"
      ]
    },
    {
      "cell_type": "code",
      "metadata": {
        "id": "brFxFt49yPJQ",
        "colab_type": "code",
        "colab": {
          "base_uri": "https://localhost:8080/",
          "height": 166
        },
        "outputId": "48c061eb-f62e-4829-9b14-2e90da18330c"
      },
      "source": [
        "df.query(\"not Country == 'China'\")"
      ],
      "execution_count": 127,
      "outputs": [
        {
          "output_type": "execute_result",
          "data": {
            "text/html": [
              "<div>\n",
              "<style scoped>\n",
              "    .dataframe tbody tr th:only-of-type {\n",
              "        vertical-align: middle;\n",
              "    }\n",
              "\n",
              "    .dataframe tbody tr th {\n",
              "        vertical-align: top;\n",
              "    }\n",
              "\n",
              "    .dataframe thead th {\n",
              "        text-align: right;\n",
              "    }\n",
              "</style>\n",
              "<table border=\"1\" class=\"dataframe\">\n",
              "  <thead>\n",
              "    <tr style=\"text-align: right;\">\n",
              "      <th></th>\n",
              "      <th>Country</th>\n",
              "      <th>Year</th>\n",
              "      <th>Cases</th>\n",
              "      <th>Population</th>\n",
              "      <th>Date_str</th>\n",
              "      <th>Date</th>\n",
              "    </tr>\n",
              "  </thead>\n",
              "  <tbody>\n",
              "    <tr>\n",
              "      <th>0</th>\n",
              "      <td>Afghanistan</td>\n",
              "      <td>1999</td>\n",
              "      <td>745</td>\n",
              "      <td>19987071</td>\n",
              "      <td>1999/01/01</td>\n",
              "      <td>1999-01-01</td>\n",
              "    </tr>\n",
              "    <tr>\n",
              "      <th>1</th>\n",
              "      <td>Afghanistan</td>\n",
              "      <td>2000</td>\n",
              "      <td>266</td>\n",
              "      <td>20595360</td>\n",
              "      <td>2000/01/01</td>\n",
              "      <td>2000-01-01</td>\n",
              "    </tr>\n",
              "    <tr>\n",
              "      <th>2</th>\n",
              "      <td>Brazil</td>\n",
              "      <td>1999</td>\n",
              "      <td>37737</td>\n",
              "      <td>172006362</td>\n",
              "      <td>1999/01/01</td>\n",
              "      <td>1999-01-01</td>\n",
              "    </tr>\n",
              "    <tr>\n",
              "      <th>3</th>\n",
              "      <td>Brazil</td>\n",
              "      <td>2000</td>\n",
              "      <td>80488</td>\n",
              "      <td>174504898</td>\n",
              "      <td>2000/01/01</td>\n",
              "      <td>2000-01-01</td>\n",
              "    </tr>\n",
              "  </tbody>\n",
              "</table>\n",
              "</div>"
            ],
            "text/plain": [
              "       Country  Year  Cases  Population    Date_str       Date\n",
              "0  Afghanistan  1999    745    19987071  1999/01/01 1999-01-01\n",
              "1  Afghanistan  2000    266    20595360  2000/01/01 2000-01-01\n",
              "2       Brazil  1999  37737   172006362  1999/01/01 1999-01-01\n",
              "3       Brazil  2000  80488   174504898  2000/01/01 2000-01-01"
            ]
          },
          "metadata": {
            "tags": []
          },
          "execution_count": 127
        }
      ]
    },
    {
      "cell_type": "markdown",
      "metadata": {
        "id": "yOcLgysyyUHg",
        "colab_type": "text"
      },
      "source": [
        "## Deleting columns"
      ]
    },
    {
      "cell_type": "code",
      "metadata": {
        "id": "Q3OQCAgMyX3H",
        "colab_type": "code",
        "colab": {
          "base_uri": "https://localhost:8080/",
          "height": 225
        },
        "outputId": "276e6e0e-6763-4d26-d07d-45e72d533071"
      },
      "source": [
        "df.drop(\"Year\", axis =1)"
      ],
      "execution_count": 128,
      "outputs": [
        {
          "output_type": "execute_result",
          "data": {
            "text/html": [
              "<div>\n",
              "<style scoped>\n",
              "    .dataframe tbody tr th:only-of-type {\n",
              "        vertical-align: middle;\n",
              "    }\n",
              "\n",
              "    .dataframe tbody tr th {\n",
              "        vertical-align: top;\n",
              "    }\n",
              "\n",
              "    .dataframe thead th {\n",
              "        text-align: right;\n",
              "    }\n",
              "</style>\n",
              "<table border=\"1\" class=\"dataframe\">\n",
              "  <thead>\n",
              "    <tr style=\"text-align: right;\">\n",
              "      <th></th>\n",
              "      <th>Country</th>\n",
              "      <th>Cases</th>\n",
              "      <th>Population</th>\n",
              "      <th>Date_str</th>\n",
              "      <th>Date</th>\n",
              "    </tr>\n",
              "  </thead>\n",
              "  <tbody>\n",
              "    <tr>\n",
              "      <th>0</th>\n",
              "      <td>Afghanistan</td>\n",
              "      <td>745</td>\n",
              "      <td>19987071</td>\n",
              "      <td>1999/01/01</td>\n",
              "      <td>1999-01-01</td>\n",
              "    </tr>\n",
              "    <tr>\n",
              "      <th>1</th>\n",
              "      <td>Afghanistan</td>\n",
              "      <td>266</td>\n",
              "      <td>20595360</td>\n",
              "      <td>2000/01/01</td>\n",
              "      <td>2000-01-01</td>\n",
              "    </tr>\n",
              "    <tr>\n",
              "      <th>2</th>\n",
              "      <td>Brazil</td>\n",
              "      <td>37737</td>\n",
              "      <td>172006362</td>\n",
              "      <td>1999/01/01</td>\n",
              "      <td>1999-01-01</td>\n",
              "    </tr>\n",
              "    <tr>\n",
              "      <th>3</th>\n",
              "      <td>Brazil</td>\n",
              "      <td>80488</td>\n",
              "      <td>174504898</td>\n",
              "      <td>2000/01/01</td>\n",
              "      <td>2000-01-01</td>\n",
              "    </tr>\n",
              "    <tr>\n",
              "      <th>4</th>\n",
              "      <td>China</td>\n",
              "      <td>212258</td>\n",
              "      <td>1272915272</td>\n",
              "      <td>1999/01/01</td>\n",
              "      <td>1999-01-01</td>\n",
              "    </tr>\n",
              "    <tr>\n",
              "      <th>5</th>\n",
              "      <td>China</td>\n",
              "      <td>213766</td>\n",
              "      <td>1280428583</td>\n",
              "      <td>2000/01/01</td>\n",
              "      <td>2000-01-01</td>\n",
              "    </tr>\n",
              "  </tbody>\n",
              "</table>\n",
              "</div>"
            ],
            "text/plain": [
              "       Country   Cases  Population    Date_str       Date\n",
              "0  Afghanistan     745    19987071  1999/01/01 1999-01-01\n",
              "1  Afghanistan     266    20595360  2000/01/01 2000-01-01\n",
              "2       Brazil   37737   172006362  1999/01/01 1999-01-01\n",
              "3       Brazil   80488   174504898  2000/01/01 2000-01-01\n",
              "4        China  212258  1272915272  1999/01/01 1999-01-01\n",
              "5        China  213766  1280428583  2000/01/01 2000-01-01"
            ]
          },
          "metadata": {
            "tags": []
          },
          "execution_count": 128
        }
      ]
    },
    {
      "cell_type": "code",
      "metadata": {
        "id": "haZJJRG2ybNk",
        "colab_type": "code",
        "colab": {
          "base_uri": "https://localhost:8080/",
          "height": 225
        },
        "outputId": "5d12d04c-3d93-40aa-89c4-5ab15994cdaa"
      },
      "source": [
        "df.drop([\"Country\", \"Year\"], axis =1)"
      ],
      "execution_count": 129,
      "outputs": [
        {
          "output_type": "execute_result",
          "data": {
            "text/html": [
              "<div>\n",
              "<style scoped>\n",
              "    .dataframe tbody tr th:only-of-type {\n",
              "        vertical-align: middle;\n",
              "    }\n",
              "\n",
              "    .dataframe tbody tr th {\n",
              "        vertical-align: top;\n",
              "    }\n",
              "\n",
              "    .dataframe thead th {\n",
              "        text-align: right;\n",
              "    }\n",
              "</style>\n",
              "<table border=\"1\" class=\"dataframe\">\n",
              "  <thead>\n",
              "    <tr style=\"text-align: right;\">\n",
              "      <th></th>\n",
              "      <th>Cases</th>\n",
              "      <th>Population</th>\n",
              "      <th>Date_str</th>\n",
              "      <th>Date</th>\n",
              "    </tr>\n",
              "  </thead>\n",
              "  <tbody>\n",
              "    <tr>\n",
              "      <th>0</th>\n",
              "      <td>745</td>\n",
              "      <td>19987071</td>\n",
              "      <td>1999/01/01</td>\n",
              "      <td>1999-01-01</td>\n",
              "    </tr>\n",
              "    <tr>\n",
              "      <th>1</th>\n",
              "      <td>266</td>\n",
              "      <td>20595360</td>\n",
              "      <td>2000/01/01</td>\n",
              "      <td>2000-01-01</td>\n",
              "    </tr>\n",
              "    <tr>\n",
              "      <th>2</th>\n",
              "      <td>37737</td>\n",
              "      <td>172006362</td>\n",
              "      <td>1999/01/01</td>\n",
              "      <td>1999-01-01</td>\n",
              "    </tr>\n",
              "    <tr>\n",
              "      <th>3</th>\n",
              "      <td>80488</td>\n",
              "      <td>174504898</td>\n",
              "      <td>2000/01/01</td>\n",
              "      <td>2000-01-01</td>\n",
              "    </tr>\n",
              "    <tr>\n",
              "      <th>4</th>\n",
              "      <td>212258</td>\n",
              "      <td>1272915272</td>\n",
              "      <td>1999/01/01</td>\n",
              "      <td>1999-01-01</td>\n",
              "    </tr>\n",
              "    <tr>\n",
              "      <th>5</th>\n",
              "      <td>213766</td>\n",
              "      <td>1280428583</td>\n",
              "      <td>2000/01/01</td>\n",
              "      <td>2000-01-01</td>\n",
              "    </tr>\n",
              "  </tbody>\n",
              "</table>\n",
              "</div>"
            ],
            "text/plain": [
              "    Cases  Population    Date_str       Date\n",
              "0     745    19987071  1999/01/01 1999-01-01\n",
              "1     266    20595360  2000/01/01 2000-01-01\n",
              "2   37737   172006362  1999/01/01 1999-01-01\n",
              "3   80488   174504898  2000/01/01 2000-01-01\n",
              "4  212258  1272915272  1999/01/01 1999-01-01\n",
              "5  213766  1280428583  2000/01/01 2000-01-01"
            ]
          },
          "metadata": {
            "tags": []
          },
          "execution_count": 129
        }
      ]
    },
    {
      "cell_type": "markdown",
      "metadata": {
        "id": "cz1vO5glyexC",
        "colab_type": "text"
      },
      "source": [
        "A different method is to select only with the columns I\n",
        "want to keep in the dataset"
      ]
    },
    {
      "cell_type": "code",
      "metadata": {
        "id": "hRF_yu93ykAi",
        "colab_type": "code",
        "colab": {
          "base_uri": "https://localhost:8080/",
          "height": 225
        },
        "outputId": "7e05c232-c903-4155-fa71-3ae0385c47f0"
      },
      "source": [
        "df[[\"Cases\", \"Population\"]]"
      ],
      "execution_count": 131,
      "outputs": [
        {
          "output_type": "execute_result",
          "data": {
            "text/html": [
              "<div>\n",
              "<style scoped>\n",
              "    .dataframe tbody tr th:only-of-type {\n",
              "        vertical-align: middle;\n",
              "    }\n",
              "\n",
              "    .dataframe tbody tr th {\n",
              "        vertical-align: top;\n",
              "    }\n",
              "\n",
              "    .dataframe thead th {\n",
              "        text-align: right;\n",
              "    }\n",
              "</style>\n",
              "<table border=\"1\" class=\"dataframe\">\n",
              "  <thead>\n",
              "    <tr style=\"text-align: right;\">\n",
              "      <th></th>\n",
              "      <th>Cases</th>\n",
              "      <th>Population</th>\n",
              "    </tr>\n",
              "  </thead>\n",
              "  <tbody>\n",
              "    <tr>\n",
              "      <th>0</th>\n",
              "      <td>745</td>\n",
              "      <td>19987071</td>\n",
              "    </tr>\n",
              "    <tr>\n",
              "      <th>1</th>\n",
              "      <td>266</td>\n",
              "      <td>20595360</td>\n",
              "    </tr>\n",
              "    <tr>\n",
              "      <th>2</th>\n",
              "      <td>37737</td>\n",
              "      <td>172006362</td>\n",
              "    </tr>\n",
              "    <tr>\n",
              "      <th>3</th>\n",
              "      <td>80488</td>\n",
              "      <td>174504898</td>\n",
              "    </tr>\n",
              "    <tr>\n",
              "      <th>4</th>\n",
              "      <td>212258</td>\n",
              "      <td>1272915272</td>\n",
              "    </tr>\n",
              "    <tr>\n",
              "      <th>5</th>\n",
              "      <td>213766</td>\n",
              "      <td>1280428583</td>\n",
              "    </tr>\n",
              "  </tbody>\n",
              "</table>\n",
              "</div>"
            ],
            "text/plain": [
              "    Cases  Population\n",
              "0     745    19987071\n",
              "1     266    20595360\n",
              "2   37737   172006362\n",
              "3   80488   174504898\n",
              "4  212258  1272915272\n",
              "5  213766  1280428583"
            ]
          },
          "metadata": {
            "tags": []
          },
          "execution_count": 131
        }
      ]
    },
    {
      "cell_type": "markdown",
      "metadata": {
        "id": "1QitwQDWymcV",
        "colab_type": "text"
      },
      "source": [
        "# Exercise 35 – (1/2)\n",
        "- Work on the DataFrame \"liga\"\n",
        "- Delete row 0\n",
        "- Delete the Puesto\" column\n"
      ]
    },
    {
      "cell_type": "code",
      "metadata": {
        "id": "Xp9VbFGXyz3e",
        "colab_type": "code",
        "colab": {
          "base_uri": "https://localhost:8080/",
          "height": 160
        },
        "outputId": "76dab0c6-edc8-48ce-b217-654dc28c8980"
      },
      "source": [
        "liga.head(2)"
      ],
      "execution_count": 133,
      "outputs": [
        {
          "output_type": "execute_result",
          "data": {
            "text/html": [
              "<div>\n",
              "<style scoped>\n",
              "    .dataframe tbody tr th:only-of-type {\n",
              "        vertical-align: middle;\n",
              "    }\n",
              "\n",
              "    .dataframe tbody tr th {\n",
              "        vertical-align: top;\n",
              "    }\n",
              "\n",
              "    .dataframe thead th {\n",
              "        text-align: right;\n",
              "    }\n",
              "</style>\n",
              "<table border=\"1\" class=\"dataframe\">\n",
              "  <thead>\n",
              "    <tr style=\"text-align: right;\">\n",
              "      <th></th>\n",
              "      <th>Puesto</th>\n",
              "      <th>Equipo</th>\n",
              "      <th>PartidosJugados</th>\n",
              "      <th>Victorias</th>\n",
              "      <th>Empates</th>\n",
              "      <th>Derrotas</th>\n",
              "      <th>GolesFavor</th>\n",
              "      <th>GolesContra</th>\n",
              "      <th>Puntos</th>\n",
              "      <th>DiferenciaGoles</th>\n",
              "      <th>DiferenciaPuntos</th>\n",
              "      <th>PorcentajeGoles</th>\n",
              "      <th>PorcentajeVictorias</th>\n",
              "      <th>PuntosAcum</th>\n",
              "      <th>Zona</th>\n",
              "      <th>Provincia</th>\n",
              "      <th>Comunidad Autónoma</th>\n",
              "    </tr>\n",
              "  </thead>\n",
              "  <tbody>\n",
              "    <tr>\n",
              "      <th>0</th>\n",
              "      <td>1</td>\n",
              "      <td>Real Madrid</td>\n",
              "      <td>27</td>\n",
              "      <td>20</td>\n",
              "      <td>5</td>\n",
              "      <td>2</td>\n",
              "      <td>71</td>\n",
              "      <td>28</td>\n",
              "      <td>65</td>\n",
              "      <td>43</td>\n",
              "      <td>2.0</td>\n",
              "      <td>0.087871</td>\n",
              "      <td>0.740741</td>\n",
              "      <td>65</td>\n",
              "      <td>Champions</td>\n",
              "      <td>Madrid</td>\n",
              "      <td>Madrid</td>\n",
              "    </tr>\n",
              "    <tr>\n",
              "      <th>1</th>\n",
              "      <td>2</td>\n",
              "      <td>Barcelona</td>\n",
              "      <td>28</td>\n",
              "      <td>19</td>\n",
              "      <td>6</td>\n",
              "      <td>3</td>\n",
              "      <td>81</td>\n",
              "      <td>25</td>\n",
              "      <td>63</td>\n",
              "      <td>56</td>\n",
              "      <td>6.0</td>\n",
              "      <td>0.100248</td>\n",
              "      <td>0.678571</td>\n",
              "      <td>128</td>\n",
              "      <td>Champions</td>\n",
              "      <td>Barcelona</td>\n",
              "      <td>Cataluña</td>\n",
              "    </tr>\n",
              "  </tbody>\n",
              "</table>\n",
              "</div>"
            ],
            "text/plain": [
              "   Puesto       Equipo  ...  Provincia  Comunidad Autónoma\n",
              "0       1  Real Madrid  ...     Madrid              Madrid\n",
              "1       2    Barcelona  ...  Barcelona            Cataluña\n",
              "\n",
              "[2 rows x 17 columns]"
            ]
          },
          "metadata": {
            "tags": []
          },
          "execution_count": 133
        }
      ]
    },
    {
      "cell_type": "code",
      "metadata": {
        "id": "wIWk__cky04Z",
        "colab_type": "code",
        "colab": {
          "base_uri": "https://localhost:8080/",
          "height": 143
        },
        "outputId": "5f8a59d4-9f2b-43cd-ccfa-84d240187c1a"
      },
      "source": [
        "liga.drop(0).head(2)"
      ],
      "execution_count": 135,
      "outputs": [
        {
          "output_type": "execute_result",
          "data": {
            "text/html": [
              "<div>\n",
              "<style scoped>\n",
              "    .dataframe tbody tr th:only-of-type {\n",
              "        vertical-align: middle;\n",
              "    }\n",
              "\n",
              "    .dataframe tbody tr th {\n",
              "        vertical-align: top;\n",
              "    }\n",
              "\n",
              "    .dataframe thead th {\n",
              "        text-align: right;\n",
              "    }\n",
              "</style>\n",
              "<table border=\"1\" class=\"dataframe\">\n",
              "  <thead>\n",
              "    <tr style=\"text-align: right;\">\n",
              "      <th></th>\n",
              "      <th>Puesto</th>\n",
              "      <th>Equipo</th>\n",
              "      <th>PartidosJugados</th>\n",
              "      <th>Victorias</th>\n",
              "      <th>Empates</th>\n",
              "      <th>Derrotas</th>\n",
              "      <th>GolesFavor</th>\n",
              "      <th>GolesContra</th>\n",
              "      <th>Puntos</th>\n",
              "      <th>DiferenciaGoles</th>\n",
              "      <th>DiferenciaPuntos</th>\n",
              "      <th>PorcentajeGoles</th>\n",
              "      <th>PorcentajeVictorias</th>\n",
              "      <th>PuntosAcum</th>\n",
              "      <th>Zona</th>\n",
              "      <th>Provincia</th>\n",
              "      <th>Comunidad Autónoma</th>\n",
              "    </tr>\n",
              "  </thead>\n",
              "  <tbody>\n",
              "    <tr>\n",
              "      <th>1</th>\n",
              "      <td>2</td>\n",
              "      <td>Barcelona</td>\n",
              "      <td>28</td>\n",
              "      <td>19</td>\n",
              "      <td>6</td>\n",
              "      <td>3</td>\n",
              "      <td>81</td>\n",
              "      <td>25</td>\n",
              "      <td>63</td>\n",
              "      <td>56</td>\n",
              "      <td>6.0</td>\n",
              "      <td>0.100248</td>\n",
              "      <td>0.678571</td>\n",
              "      <td>128</td>\n",
              "      <td>Champions</td>\n",
              "      <td>Barcelona</td>\n",
              "      <td>Cataluña</td>\n",
              "    </tr>\n",
              "    <tr>\n",
              "      <th>2</th>\n",
              "      <td>3</td>\n",
              "      <td>Sevilla</td>\n",
              "      <td>28</td>\n",
              "      <td>17</td>\n",
              "      <td>6</td>\n",
              "      <td>5</td>\n",
              "      <td>52</td>\n",
              "      <td>34</td>\n",
              "      <td>57</td>\n",
              "      <td>18</td>\n",
              "      <td>2.0</td>\n",
              "      <td>0.064356</td>\n",
              "      <td>0.607143</td>\n",
              "      <td>185</td>\n",
              "      <td>Champions</td>\n",
              "      <td>Sevilla</td>\n",
              "      <td>Andalucia</td>\n",
              "    </tr>\n",
              "  </tbody>\n",
              "</table>\n",
              "</div>"
            ],
            "text/plain": [
              "   Puesto     Equipo  PartidosJugados  ...       Zona  Provincia  Comunidad Autónoma\n",
              "1       2  Barcelona               28  ...  Champions  Barcelona            Cataluña\n",
              "2       3    Sevilla               28  ...  Champions    Sevilla           Andalucia\n",
              "\n",
              "[2 rows x 17 columns]"
            ]
          },
          "metadata": {
            "tags": []
          },
          "execution_count": 135
        }
      ]
    },
    {
      "cell_type": "code",
      "metadata": {
        "id": "2KN8JIt8y-rV",
        "colab_type": "code",
        "colab": {
          "base_uri": "https://localhost:8080/",
          "height": 160
        },
        "outputId": "c36c5e29-9191-4115-8890-7ab30b97e26c"
      },
      "source": [
        "liga.drop(\"Puesto\", axis =1).head(2)"
      ],
      "execution_count": 138,
      "outputs": [
        {
          "output_type": "execute_result",
          "data": {
            "text/html": [
              "<div>\n",
              "<style scoped>\n",
              "    .dataframe tbody tr th:only-of-type {\n",
              "        vertical-align: middle;\n",
              "    }\n",
              "\n",
              "    .dataframe tbody tr th {\n",
              "        vertical-align: top;\n",
              "    }\n",
              "\n",
              "    .dataframe thead th {\n",
              "        text-align: right;\n",
              "    }\n",
              "</style>\n",
              "<table border=\"1\" class=\"dataframe\">\n",
              "  <thead>\n",
              "    <tr style=\"text-align: right;\">\n",
              "      <th></th>\n",
              "      <th>Equipo</th>\n",
              "      <th>PartidosJugados</th>\n",
              "      <th>Victorias</th>\n",
              "      <th>Empates</th>\n",
              "      <th>Derrotas</th>\n",
              "      <th>GolesFavor</th>\n",
              "      <th>GolesContra</th>\n",
              "      <th>Puntos</th>\n",
              "      <th>DiferenciaGoles</th>\n",
              "      <th>DiferenciaPuntos</th>\n",
              "      <th>PorcentajeGoles</th>\n",
              "      <th>PorcentajeVictorias</th>\n",
              "      <th>PuntosAcum</th>\n",
              "      <th>Zona</th>\n",
              "      <th>Provincia</th>\n",
              "      <th>Comunidad Autónoma</th>\n",
              "    </tr>\n",
              "  </thead>\n",
              "  <tbody>\n",
              "    <tr>\n",
              "      <th>0</th>\n",
              "      <td>Real Madrid</td>\n",
              "      <td>27</td>\n",
              "      <td>20</td>\n",
              "      <td>5</td>\n",
              "      <td>2</td>\n",
              "      <td>71</td>\n",
              "      <td>28</td>\n",
              "      <td>65</td>\n",
              "      <td>43</td>\n",
              "      <td>2.0</td>\n",
              "      <td>0.087871</td>\n",
              "      <td>0.740741</td>\n",
              "      <td>65</td>\n",
              "      <td>Champions</td>\n",
              "      <td>Madrid</td>\n",
              "      <td>Madrid</td>\n",
              "    </tr>\n",
              "    <tr>\n",
              "      <th>1</th>\n",
              "      <td>Barcelona</td>\n",
              "      <td>28</td>\n",
              "      <td>19</td>\n",
              "      <td>6</td>\n",
              "      <td>3</td>\n",
              "      <td>81</td>\n",
              "      <td>25</td>\n",
              "      <td>63</td>\n",
              "      <td>56</td>\n",
              "      <td>6.0</td>\n",
              "      <td>0.100248</td>\n",
              "      <td>0.678571</td>\n",
              "      <td>128</td>\n",
              "      <td>Champions</td>\n",
              "      <td>Barcelona</td>\n",
              "      <td>Cataluña</td>\n",
              "    </tr>\n",
              "  </tbody>\n",
              "</table>\n",
              "</div>"
            ],
            "text/plain": [
              "        Equipo  PartidosJugados  ...  Provincia  Comunidad Autónoma\n",
              "0  Real Madrid               27  ...     Madrid              Madrid\n",
              "1    Barcelona               28  ...  Barcelona            Cataluña\n",
              "\n",
              "[2 rows x 16 columns]"
            ]
          },
          "metadata": {
            "tags": []
          },
          "execution_count": 138
        }
      ]
    },
    {
      "cell_type": "markdown",
      "metadata": {
        "id": "rPwaEGkNzGX7",
        "colab_type": "text"
      },
      "source": [
        "\n",
        "## Obtaining a data sample\n",
        "The `sample()` function allows you to obtain a sample\n",
        "of a Dataframe, specifying both a percentage and a\n",
        "specific number of rows"
      ]
    },
    {
      "cell_type": "code",
      "metadata": {
        "id": "29Osc7QDznbo",
        "colab_type": "code",
        "colab": {
          "base_uri": "https://localhost:8080/",
          "height": 136
        },
        "outputId": "7ab273be-256e-4bc2-a978-df14fa2cac93"
      },
      "source": [
        "df.sample(n=3)"
      ],
      "execution_count": 139,
      "outputs": [
        {
          "output_type": "execute_result",
          "data": {
            "text/html": [
              "<div>\n",
              "<style scoped>\n",
              "    .dataframe tbody tr th:only-of-type {\n",
              "        vertical-align: middle;\n",
              "    }\n",
              "\n",
              "    .dataframe tbody tr th {\n",
              "        vertical-align: top;\n",
              "    }\n",
              "\n",
              "    .dataframe thead th {\n",
              "        text-align: right;\n",
              "    }\n",
              "</style>\n",
              "<table border=\"1\" class=\"dataframe\">\n",
              "  <thead>\n",
              "    <tr style=\"text-align: right;\">\n",
              "      <th></th>\n",
              "      <th>Country</th>\n",
              "      <th>Year</th>\n",
              "      <th>Cases</th>\n",
              "      <th>Population</th>\n",
              "      <th>Date_str</th>\n",
              "      <th>Date</th>\n",
              "    </tr>\n",
              "  </thead>\n",
              "  <tbody>\n",
              "    <tr>\n",
              "      <th>5</th>\n",
              "      <td>China</td>\n",
              "      <td>2000</td>\n",
              "      <td>213766</td>\n",
              "      <td>1280428583</td>\n",
              "      <td>2000/01/01</td>\n",
              "      <td>2000-01-01</td>\n",
              "    </tr>\n",
              "    <tr>\n",
              "      <th>0</th>\n",
              "      <td>Afghanistan</td>\n",
              "      <td>1999</td>\n",
              "      <td>745</td>\n",
              "      <td>19987071</td>\n",
              "      <td>1999/01/01</td>\n",
              "      <td>1999-01-01</td>\n",
              "    </tr>\n",
              "    <tr>\n",
              "      <th>1</th>\n",
              "      <td>Afghanistan</td>\n",
              "      <td>2000</td>\n",
              "      <td>266</td>\n",
              "      <td>20595360</td>\n",
              "      <td>2000/01/01</td>\n",
              "      <td>2000-01-01</td>\n",
              "    </tr>\n",
              "  </tbody>\n",
              "</table>\n",
              "</div>"
            ],
            "text/plain": [
              "       Country  Year   Cases  Population    Date_str       Date\n",
              "5        China  2000  213766  1280428583  2000/01/01 2000-01-01\n",
              "0  Afghanistan  1999     745    19987071  1999/01/01 1999-01-01\n",
              "1  Afghanistan  2000     266    20595360  2000/01/01 2000-01-01"
            ]
          },
          "metadata": {
            "tags": []
          },
          "execution_count": 139
        }
      ]
    },
    {
      "cell_type": "code",
      "metadata": {
        "id": "Sc-b8pbDzpnf",
        "colab_type": "code",
        "colab": {
          "base_uri": "https://localhost:8080/",
          "height": 106
        },
        "outputId": "f02c5f3c-fd9c-4d00-fd1f-ae0617eebd59"
      },
      "source": [
        "df.sample(frac=0.3)"
      ],
      "execution_count": 140,
      "outputs": [
        {
          "output_type": "execute_result",
          "data": {
            "text/html": [
              "<div>\n",
              "<style scoped>\n",
              "    .dataframe tbody tr th:only-of-type {\n",
              "        vertical-align: middle;\n",
              "    }\n",
              "\n",
              "    .dataframe tbody tr th {\n",
              "        vertical-align: top;\n",
              "    }\n",
              "\n",
              "    .dataframe thead th {\n",
              "        text-align: right;\n",
              "    }\n",
              "</style>\n",
              "<table border=\"1\" class=\"dataframe\">\n",
              "  <thead>\n",
              "    <tr style=\"text-align: right;\">\n",
              "      <th></th>\n",
              "      <th>Country</th>\n",
              "      <th>Year</th>\n",
              "      <th>Cases</th>\n",
              "      <th>Population</th>\n",
              "      <th>Date_str</th>\n",
              "      <th>Date</th>\n",
              "    </tr>\n",
              "  </thead>\n",
              "  <tbody>\n",
              "    <tr>\n",
              "      <th>5</th>\n",
              "      <td>China</td>\n",
              "      <td>2000</td>\n",
              "      <td>213766</td>\n",
              "      <td>1280428583</td>\n",
              "      <td>2000/01/01</td>\n",
              "      <td>2000-01-01</td>\n",
              "    </tr>\n",
              "    <tr>\n",
              "      <th>0</th>\n",
              "      <td>Afghanistan</td>\n",
              "      <td>1999</td>\n",
              "      <td>745</td>\n",
              "      <td>19987071</td>\n",
              "      <td>1999/01/01</td>\n",
              "      <td>1999-01-01</td>\n",
              "    </tr>\n",
              "  </tbody>\n",
              "</table>\n",
              "</div>"
            ],
            "text/plain": [
              "       Country  Year   Cases  Population    Date_str       Date\n",
              "5        China  2000  213766  1280428583  2000/01/01 2000-01-01\n",
              "0  Afghanistan  1999     745    19987071  1999/01/01 1999-01-01"
            ]
          },
          "metadata": {
            "tags": []
          },
          "execution_count": 140
        }
      ]
    },
    {
      "cell_type": "markdown",
      "metadata": {
        "id": "s0A2Ukh9zt94",
        "colab_type": "text"
      },
      "source": [
        "It is possible to set the `random seed through` numpy's\n",
        "RandomState function in order to get reproducable results"
      ]
    },
    {
      "cell_type": "code",
      "metadata": {
        "id": "mMAWvkDqz2KU",
        "colab_type": "code",
        "colab": {
          "base_uri": "https://localhost:8080/",
          "height": 137
        },
        "outputId": "f5ee1b16-5a17-4358-ae62-878a2527a1b6"
      },
      "source": [
        "import numpy as np \n",
        "state = np.random.RandomState(seed = 100)\n",
        "df.sample(n=3, random_state =state)"
      ],
      "execution_count": 143,
      "outputs": [
        {
          "output_type": "execute_result",
          "data": {
            "text/html": [
              "<div>\n",
              "<style scoped>\n",
              "    .dataframe tbody tr th:only-of-type {\n",
              "        vertical-align: middle;\n",
              "    }\n",
              "\n",
              "    .dataframe tbody tr th {\n",
              "        vertical-align: top;\n",
              "    }\n",
              "\n",
              "    .dataframe thead th {\n",
              "        text-align: right;\n",
              "    }\n",
              "</style>\n",
              "<table border=\"1\" class=\"dataframe\">\n",
              "  <thead>\n",
              "    <tr style=\"text-align: right;\">\n",
              "      <th></th>\n",
              "      <th>Country</th>\n",
              "      <th>Year</th>\n",
              "      <th>Cases</th>\n",
              "      <th>Population</th>\n",
              "      <th>Date_str</th>\n",
              "      <th>Date</th>\n",
              "    </tr>\n",
              "  </thead>\n",
              "  <tbody>\n",
              "    <tr>\n",
              "      <th>1</th>\n",
              "      <td>Afghanistan</td>\n",
              "      <td>2000</td>\n",
              "      <td>266</td>\n",
              "      <td>20595360</td>\n",
              "      <td>2000/01/01</td>\n",
              "      <td>2000-01-01</td>\n",
              "    </tr>\n",
              "    <tr>\n",
              "      <th>2</th>\n",
              "      <td>Brazil</td>\n",
              "      <td>1999</td>\n",
              "      <td>37737</td>\n",
              "      <td>172006362</td>\n",
              "      <td>1999/01/01</td>\n",
              "      <td>1999-01-01</td>\n",
              "    </tr>\n",
              "    <tr>\n",
              "      <th>4</th>\n",
              "      <td>China</td>\n",
              "      <td>1999</td>\n",
              "      <td>212258</td>\n",
              "      <td>1272915272</td>\n",
              "      <td>1999/01/01</td>\n",
              "      <td>1999-01-01</td>\n",
              "    </tr>\n",
              "  </tbody>\n",
              "</table>\n",
              "</div>"
            ],
            "text/plain": [
              "       Country  Year   Cases  Population    Date_str       Date\n",
              "1  Afghanistan  2000     266    20595360  2000/01/01 2000-01-01\n",
              "2       Brazil  1999   37737   172006362  1999/01/01 1999-01-01\n",
              "4        China  1999  212258  1272915272  1999/01/01 1999-01-01"
            ]
          },
          "metadata": {
            "tags": []
          },
          "execution_count": 143
        }
      ]
    },
    {
      "cell_type": "markdown",
      "metadata": {
        "id": "sk4xLNCrz7sD",
        "colab_type": "text"
      },
      "source": [
        "## Exercise 36\n",
        "Work on the DataFrame “liga”\n",
        "- Sets the random seed to 201231\n",
        "- Get an example of 4 rows\n",
        "- Get an example of the 30% of the rows"
      ]
    },
    {
      "cell_type": "code",
      "metadata": {
        "id": "GfMvNFQy0IxV",
        "colab_type": "code",
        "colab": {
          "base_uri": "https://localhost:8080/",
          "height": 219
        },
        "outputId": "acad4750-fe3f-439a-8332-5650cf04ea43"
      },
      "source": [
        "state2 = np.random.RandomState(seed = 201231)\n",
        "state1 = np.random.seed(201231)\n",
        "liga.sample(n = 4, random_state = state2)"
      ],
      "execution_count": 148,
      "outputs": [
        {
          "output_type": "execute_result",
          "data": {
            "text/html": [
              "<div>\n",
              "<style scoped>\n",
              "    .dataframe tbody tr th:only-of-type {\n",
              "        vertical-align: middle;\n",
              "    }\n",
              "\n",
              "    .dataframe tbody tr th {\n",
              "        vertical-align: top;\n",
              "    }\n",
              "\n",
              "    .dataframe thead th {\n",
              "        text-align: right;\n",
              "    }\n",
              "</style>\n",
              "<table border=\"1\" class=\"dataframe\">\n",
              "  <thead>\n",
              "    <tr style=\"text-align: right;\">\n",
              "      <th></th>\n",
              "      <th>Puesto</th>\n",
              "      <th>Equipo</th>\n",
              "      <th>PartidosJugados</th>\n",
              "      <th>Victorias</th>\n",
              "      <th>Empates</th>\n",
              "      <th>Derrotas</th>\n",
              "      <th>GolesFavor</th>\n",
              "      <th>GolesContra</th>\n",
              "      <th>Puntos</th>\n",
              "      <th>DiferenciaGoles</th>\n",
              "      <th>DiferenciaPuntos</th>\n",
              "      <th>PorcentajeGoles</th>\n",
              "      <th>PorcentajeVictorias</th>\n",
              "      <th>PuntosAcum</th>\n",
              "      <th>Zona</th>\n",
              "      <th>Provincia</th>\n",
              "      <th>Comunidad Autónoma</th>\n",
              "    </tr>\n",
              "  </thead>\n",
              "  <tbody>\n",
              "    <tr>\n",
              "      <th>1</th>\n",
              "      <td>2</td>\n",
              "      <td>Barcelona</td>\n",
              "      <td>28</td>\n",
              "      <td>19</td>\n",
              "      <td>6</td>\n",
              "      <td>3</td>\n",
              "      <td>81</td>\n",
              "      <td>25</td>\n",
              "      <td>63</td>\n",
              "      <td>56</td>\n",
              "      <td>6.0</td>\n",
              "      <td>0.100248</td>\n",
              "      <td>0.678571</td>\n",
              "      <td>128</td>\n",
              "      <td>Champions</td>\n",
              "      <td>Barcelona</td>\n",
              "      <td>Cataluña</td>\n",
              "    </tr>\n",
              "    <tr>\n",
              "      <th>0</th>\n",
              "      <td>1</td>\n",
              "      <td>Real Madrid</td>\n",
              "      <td>27</td>\n",
              "      <td>20</td>\n",
              "      <td>5</td>\n",
              "      <td>2</td>\n",
              "      <td>71</td>\n",
              "      <td>28</td>\n",
              "      <td>65</td>\n",
              "      <td>43</td>\n",
              "      <td>2.0</td>\n",
              "      <td>0.087871</td>\n",
              "      <td>0.740741</td>\n",
              "      <td>65</td>\n",
              "      <td>Champions</td>\n",
              "      <td>Madrid</td>\n",
              "      <td>Madrid</td>\n",
              "    </tr>\n",
              "    <tr>\n",
              "      <th>16</th>\n",
              "      <td>17</td>\n",
              "      <td>Leganés</td>\n",
              "      <td>28</td>\n",
              "      <td>6</td>\n",
              "      <td>8</td>\n",
              "      <td>14</td>\n",
              "      <td>22</td>\n",
              "      <td>41</td>\n",
              "      <td>26</td>\n",
              "      <td>-19</td>\n",
              "      <td>5.0</td>\n",
              "      <td>0.027228</td>\n",
              "      <td>0.214286</td>\n",
              "      <td>715</td>\n",
              "      <td>Normal</td>\n",
              "      <td>Madrid</td>\n",
              "      <td>Madrid</td>\n",
              "    </tr>\n",
              "    <tr>\n",
              "      <th>14</th>\n",
              "      <td>15</td>\n",
              "      <td>Málaga</td>\n",
              "      <td>28</td>\n",
              "      <td>6</td>\n",
              "      <td>9</td>\n",
              "      <td>13</td>\n",
              "      <td>33</td>\n",
              "      <td>45</td>\n",
              "      <td>27</td>\n",
              "      <td>-12</td>\n",
              "      <td>0.0</td>\n",
              "      <td>0.040842</td>\n",
              "      <td>0.214286</td>\n",
              "      <td>662</td>\n",
              "      <td>Normal</td>\n",
              "      <td>Malaga</td>\n",
              "      <td>Andalucia</td>\n",
              "    </tr>\n",
              "  </tbody>\n",
              "</table>\n",
              "</div>"
            ],
            "text/plain": [
              "    Puesto       Equipo  ...  Provincia  Comunidad Autónoma\n",
              "1        2    Barcelona  ...  Barcelona            Cataluña\n",
              "0        1  Real Madrid  ...     Madrid              Madrid\n",
              "16      17      Leganés  ...     Madrid              Madrid\n",
              "14      15       Málaga  ...     Malaga           Andalucia\n",
              "\n",
              "[4 rows x 17 columns]"
            ]
          },
          "metadata": {
            "tags": []
          },
          "execution_count": 148
        }
      ]
    },
    {
      "cell_type": "code",
      "metadata": {
        "id": "QEoO8kHq0Zm8",
        "colab_type": "code",
        "colab": {
          "base_uri": "https://localhost:8080/",
          "height": 330
        },
        "outputId": "2520ffb7-0320-49ef-def0-66651270bf32"
      },
      "source": [
        "liga.sample(frac = 0.3, random_state = state1)"
      ],
      "execution_count": 147,
      "outputs": [
        {
          "output_type": "execute_result",
          "data": {
            "text/html": [
              "<div>\n",
              "<style scoped>\n",
              "    .dataframe tbody tr th:only-of-type {\n",
              "        vertical-align: middle;\n",
              "    }\n",
              "\n",
              "    .dataframe tbody tr th {\n",
              "        vertical-align: top;\n",
              "    }\n",
              "\n",
              "    .dataframe thead th {\n",
              "        text-align: right;\n",
              "    }\n",
              "</style>\n",
              "<table border=\"1\" class=\"dataframe\">\n",
              "  <thead>\n",
              "    <tr style=\"text-align: right;\">\n",
              "      <th></th>\n",
              "      <th>Puesto</th>\n",
              "      <th>Equipo</th>\n",
              "      <th>PartidosJugados</th>\n",
              "      <th>Victorias</th>\n",
              "      <th>Empates</th>\n",
              "      <th>Derrotas</th>\n",
              "      <th>GolesFavor</th>\n",
              "      <th>GolesContra</th>\n",
              "      <th>Puntos</th>\n",
              "      <th>DiferenciaGoles</th>\n",
              "      <th>DiferenciaPuntos</th>\n",
              "      <th>PorcentajeGoles</th>\n",
              "      <th>PorcentajeVictorias</th>\n",
              "      <th>PuntosAcum</th>\n",
              "      <th>Zona</th>\n",
              "      <th>Provincia</th>\n",
              "      <th>Comunidad Autónoma</th>\n",
              "    </tr>\n",
              "  </thead>\n",
              "  <tbody>\n",
              "    <tr>\n",
              "      <th>12</th>\n",
              "      <td>13</td>\n",
              "      <td>Betis</td>\n",
              "      <td>28</td>\n",
              "      <td>8</td>\n",
              "      <td>7</td>\n",
              "      <td>13</td>\n",
              "      <td>31</td>\n",
              "      <td>44</td>\n",
              "      <td>31</td>\n",
              "      <td>-13</td>\n",
              "      <td>1.0</td>\n",
              "      <td>0.038366</td>\n",
              "      <td>0.285714</td>\n",
              "      <td>605</td>\n",
              "      <td>Normal</td>\n",
              "      <td>Sevilla</td>\n",
              "      <td>Andalucia</td>\n",
              "    </tr>\n",
              "    <tr>\n",
              "      <th>14</th>\n",
              "      <td>15</td>\n",
              "      <td>Málaga</td>\n",
              "      <td>28</td>\n",
              "      <td>6</td>\n",
              "      <td>9</td>\n",
              "      <td>13</td>\n",
              "      <td>33</td>\n",
              "      <td>45</td>\n",
              "      <td>27</td>\n",
              "      <td>-12</td>\n",
              "      <td>0.0</td>\n",
              "      <td>0.040842</td>\n",
              "      <td>0.214286</td>\n",
              "      <td>662</td>\n",
              "      <td>Normal</td>\n",
              "      <td>Malaga</td>\n",
              "      <td>Andalucia</td>\n",
              "    </tr>\n",
              "    <tr>\n",
              "      <th>8</th>\n",
              "      <td>9</td>\n",
              "      <td>RCD Espanyol</td>\n",
              "      <td>28</td>\n",
              "      <td>10</td>\n",
              "      <td>10</td>\n",
              "      <td>8</td>\n",
              "      <td>40</td>\n",
              "      <td>39</td>\n",
              "      <td>40</td>\n",
              "      <td>1</td>\n",
              "      <td>0.0</td>\n",
              "      <td>0.049505</td>\n",
              "      <td>0.357143</td>\n",
              "      <td>461</td>\n",
              "      <td>Normal</td>\n",
              "      <td>Barcelona</td>\n",
              "      <td>Cataluña</td>\n",
              "    </tr>\n",
              "    <tr>\n",
              "      <th>10</th>\n",
              "      <td>11</td>\n",
              "      <td>Celta de Vigo</td>\n",
              "      <td>27</td>\n",
              "      <td>11</td>\n",
              "      <td>5</td>\n",
              "      <td>11</td>\n",
              "      <td>40</td>\n",
              "      <td>45</td>\n",
              "      <td>38</td>\n",
              "      <td>-5</td>\n",
              "      <td>3.0</td>\n",
              "      <td>0.049505</td>\n",
              "      <td>0.407407</td>\n",
              "      <td>539</td>\n",
              "      <td>Normal</td>\n",
              "      <td>Pontevedra</td>\n",
              "      <td>Galicia</td>\n",
              "    </tr>\n",
              "    <tr>\n",
              "      <th>7</th>\n",
              "      <td>8</td>\n",
              "      <td>Eibar</td>\n",
              "      <td>28</td>\n",
              "      <td>11</td>\n",
              "      <td>8</td>\n",
              "      <td>9</td>\n",
              "      <td>44</td>\n",
              "      <td>39</td>\n",
              "      <td>41</td>\n",
              "      <td>5</td>\n",
              "      <td>1.0</td>\n",
              "      <td>0.054455</td>\n",
              "      <td>0.392857</td>\n",
              "      <td>421</td>\n",
              "      <td>Normal</td>\n",
              "      <td>Guipúzcoa</td>\n",
              "      <td>Pais Vasco</td>\n",
              "    </tr>\n",
              "    <tr>\n",
              "      <th>11</th>\n",
              "      <td>12</td>\n",
              "      <td>U. D. Las Palmas</td>\n",
              "      <td>28</td>\n",
              "      <td>9</td>\n",
              "      <td>8</td>\n",
              "      <td>11</td>\n",
              "      <td>44</td>\n",
              "      <td>45</td>\n",
              "      <td>35</td>\n",
              "      <td>-1</td>\n",
              "      <td>4.0</td>\n",
              "      <td>0.054455</td>\n",
              "      <td>0.321429</td>\n",
              "      <td>574</td>\n",
              "      <td>Normal</td>\n",
              "      <td>Las Palmas</td>\n",
              "      <td>Canarias</td>\n",
              "    </tr>\n",
              "  </tbody>\n",
              "</table>\n",
              "</div>"
            ],
            "text/plain": [
              "    Puesto            Equipo  ...   Provincia  Comunidad Autónoma\n",
              "12      13             Betis  ...     Sevilla           Andalucia\n",
              "14      15            Málaga  ...      Malaga           Andalucia\n",
              "8        9      RCD Espanyol  ...   Barcelona            Cataluña\n",
              "10      11     Celta de Vigo  ...  Pontevedra             Galicia\n",
              "7        8             Eibar  ...   Guipúzcoa          Pais Vasco\n",
              "11      12  U. D. Las Palmas  ...  Las Palmas            Canarias\n",
              "\n",
              "[6 rows x 17 columns]"
            ]
          },
          "metadata": {
            "tags": []
          },
          "execution_count": 147
        }
      ]
    },
    {
      "cell_type": "markdown",
      "metadata": {
        "id": "dmXjF1-S0ljd",
        "colab_type": "text"
      },
      "source": [
        "## Grouping of rows\n",
        "Pandas has a series of functions that allow to obtain data from groupings\n",
        "\n",
        "- The `groupby()` function allows you to group rows and\n",
        "generate groups"
      ]
    },
    {
      "cell_type": "code",
      "metadata": {
        "id": "omRuw9Ry08Xl",
        "colab_type": "code",
        "colab": {
          "base_uri": "https://localhost:8080/",
          "height": 67
        },
        "outputId": "01313475-ef9c-43af-b87d-d5ac0e156d2e"
      },
      "source": [
        "grouped = df.groupby(\"Country\")\n",
        "grouped.groups"
      ],
      "execution_count": 149,
      "outputs": [
        {
          "output_type": "execute_result",
          "data": {
            "text/plain": [
              "{'Afghanistan': Int64Index([0, 1], dtype='int64'),\n",
              " 'Brazil': Int64Index([2, 3], dtype='int64'),\n",
              " 'China': Int64Index([4, 5], dtype='int64')}"
            ]
          },
          "metadata": {
            "tags": []
          },
          "execution_count": 149
        }
      ]
    },
    {
      "cell_type": "code",
      "metadata": {
        "id": "9KHHdBSa1KEZ",
        "colab_type": "code",
        "colab": {
          "base_uri": "https://localhost:8080/",
          "height": 217
        },
        "outputId": "4bc701de-3d66-42ac-fb03-46cf9c343bba"
      },
      "source": [
        "for name, group in grouped:\n",
        "  print(name)\n",
        "  print(group)"
      ],
      "execution_count": 150,
      "outputs": [
        {
          "output_type": "stream",
          "text": [
            "Afghanistan\n",
            "       Country  Year  Cases  Population    Date_str       Date\n",
            "0  Afghanistan  1999    745    19987071  1999/01/01 1999-01-01\n",
            "1  Afghanistan  2000    266    20595360  2000/01/01 2000-01-01\n",
            "Brazil\n",
            "  Country  Year  Cases  Population    Date_str       Date\n",
            "2  Brazil  1999  37737   172006362  1999/01/01 1999-01-01\n",
            "3  Brazil  2000  80488   174504898  2000/01/01 2000-01-01\n",
            "China\n",
            "  Country  Year   Cases  Population    Date_str       Date\n",
            "4   China  1999  212258  1272915272  1999/01/01 1999-01-01\n",
            "5   China  2000  213766  1280428583  2000/01/01 2000-01-01\n"
          ],
          "name": "stdout"
        }
      ]
    },
    {
      "cell_type": "markdown",
      "metadata": {
        "id": "XbmfGmmp1ROE",
        "colab_type": "text"
      },
      "source": [
        "Once you have a group, you can use grouping functions\n",
        "such as \n",
        "- `size()`\n",
        "- `count()`\n",
        "- `sum()` \n",
        "- `mean()`\n",
        "- `first()`  \n",
        "- `last()` etc."
      ]
    },
    {
      "cell_type": "code",
      "metadata": {
        "id": "4lH5uPOJ1gGE",
        "colab_type": "code",
        "colab": {
          "base_uri": "https://localhost:8080/",
          "height": 166
        },
        "outputId": "fccb9865-3c18-4fab-e577-cfd22636292f"
      },
      "source": [
        "df.groupby(\"Country\").count()"
      ],
      "execution_count": 154,
      "outputs": [
        {
          "output_type": "execute_result",
          "data": {
            "text/html": [
              "<div>\n",
              "<style scoped>\n",
              "    .dataframe tbody tr th:only-of-type {\n",
              "        vertical-align: middle;\n",
              "    }\n",
              "\n",
              "    .dataframe tbody tr th {\n",
              "        vertical-align: top;\n",
              "    }\n",
              "\n",
              "    .dataframe thead th {\n",
              "        text-align: right;\n",
              "    }\n",
              "</style>\n",
              "<table border=\"1\" class=\"dataframe\">\n",
              "  <thead>\n",
              "    <tr style=\"text-align: right;\">\n",
              "      <th></th>\n",
              "      <th>Year</th>\n",
              "      <th>Cases</th>\n",
              "      <th>Population</th>\n",
              "      <th>Date_str</th>\n",
              "      <th>Date</th>\n",
              "    </tr>\n",
              "    <tr>\n",
              "      <th>Country</th>\n",
              "      <th></th>\n",
              "      <th></th>\n",
              "      <th></th>\n",
              "      <th></th>\n",
              "      <th></th>\n",
              "    </tr>\n",
              "  </thead>\n",
              "  <tbody>\n",
              "    <tr>\n",
              "      <th>Afghanistan</th>\n",
              "      <td>2</td>\n",
              "      <td>2</td>\n",
              "      <td>2</td>\n",
              "      <td>2</td>\n",
              "      <td>2</td>\n",
              "    </tr>\n",
              "    <tr>\n",
              "      <th>Brazil</th>\n",
              "      <td>2</td>\n",
              "      <td>2</td>\n",
              "      <td>2</td>\n",
              "      <td>2</td>\n",
              "      <td>2</td>\n",
              "    </tr>\n",
              "    <tr>\n",
              "      <th>China</th>\n",
              "      <td>2</td>\n",
              "      <td>2</td>\n",
              "      <td>2</td>\n",
              "      <td>2</td>\n",
              "      <td>2</td>\n",
              "    </tr>\n",
              "  </tbody>\n",
              "</table>\n",
              "</div>"
            ],
            "text/plain": [
              "             Year  Cases  Population  Date_str  Date\n",
              "Country                                             \n",
              "Afghanistan     2      2           2         2     2\n",
              "Brazil          2      2           2         2     2\n",
              "China           2      2           2         2     2"
            ]
          },
          "metadata": {
            "tags": []
          },
          "execution_count": 154
        }
      ]
    },
    {
      "cell_type": "markdown",
      "metadata": {
        "id": "3yd8JHxu1jLL",
        "colab_type": "text"
      },
      "source": [
        "\n",
        "Once you have a group, you can execute grouping\n",
        "functions such as \n",
        "- `size()` \n",
        "- `count()` \n",
        "- `sum()` \n",
        "- `mean()`\n",
        "- `first()` \n",
        "- `last()` etc."
      ]
    },
    {
      "cell_type": "code",
      "metadata": {
        "id": "Gr0S2QK614eY",
        "colab_type": "code",
        "colab": {
          "base_uri": "https://localhost:8080/",
          "height": 256
        },
        "outputId": "5a19af4e-3dfb-48fd-88d9-4569fe42ad38"
      },
      "source": [
        "# This is a case of double indexing\n",
        "df.groupby([\"Country\", \"Year\"]).count()"
      ],
      "execution_count": 156,
      "outputs": [
        {
          "output_type": "execute_result",
          "data": {
            "text/html": [
              "<div>\n",
              "<style scoped>\n",
              "    .dataframe tbody tr th:only-of-type {\n",
              "        vertical-align: middle;\n",
              "    }\n",
              "\n",
              "    .dataframe tbody tr th {\n",
              "        vertical-align: top;\n",
              "    }\n",
              "\n",
              "    .dataframe thead th {\n",
              "        text-align: right;\n",
              "    }\n",
              "</style>\n",
              "<table border=\"1\" class=\"dataframe\">\n",
              "  <thead>\n",
              "    <tr style=\"text-align: right;\">\n",
              "      <th></th>\n",
              "      <th></th>\n",
              "      <th>Cases</th>\n",
              "      <th>Population</th>\n",
              "      <th>Date_str</th>\n",
              "      <th>Date</th>\n",
              "    </tr>\n",
              "    <tr>\n",
              "      <th>Country</th>\n",
              "      <th>Year</th>\n",
              "      <th></th>\n",
              "      <th></th>\n",
              "      <th></th>\n",
              "      <th></th>\n",
              "    </tr>\n",
              "  </thead>\n",
              "  <tbody>\n",
              "    <tr>\n",
              "      <th rowspan=\"2\" valign=\"top\">Afghanistan</th>\n",
              "      <th>1999</th>\n",
              "      <td>1</td>\n",
              "      <td>1</td>\n",
              "      <td>1</td>\n",
              "      <td>1</td>\n",
              "    </tr>\n",
              "    <tr>\n",
              "      <th>2000</th>\n",
              "      <td>1</td>\n",
              "      <td>1</td>\n",
              "      <td>1</td>\n",
              "      <td>1</td>\n",
              "    </tr>\n",
              "    <tr>\n",
              "      <th rowspan=\"2\" valign=\"top\">Brazil</th>\n",
              "      <th>1999</th>\n",
              "      <td>1</td>\n",
              "      <td>1</td>\n",
              "      <td>1</td>\n",
              "      <td>1</td>\n",
              "    </tr>\n",
              "    <tr>\n",
              "      <th>2000</th>\n",
              "      <td>1</td>\n",
              "      <td>1</td>\n",
              "      <td>1</td>\n",
              "      <td>1</td>\n",
              "    </tr>\n",
              "    <tr>\n",
              "      <th rowspan=\"2\" valign=\"top\">China</th>\n",
              "      <th>1999</th>\n",
              "      <td>1</td>\n",
              "      <td>1</td>\n",
              "      <td>1</td>\n",
              "      <td>1</td>\n",
              "    </tr>\n",
              "    <tr>\n",
              "      <th>2000</th>\n",
              "      <td>1</td>\n",
              "      <td>1</td>\n",
              "      <td>1</td>\n",
              "      <td>1</td>\n",
              "    </tr>\n",
              "  </tbody>\n",
              "</table>\n",
              "</div>"
            ],
            "text/plain": [
              "                  Cases  Population  Date_str  Date\n",
              "Country     Year                                   \n",
              "Afghanistan 1999      1           1         1     1\n",
              "            2000      1           1         1     1\n",
              "Brazil      1999      1           1         1     1\n",
              "            2000      1           1         1     1\n",
              "China       1999      1           1         1     1\n",
              "            2000      1           1         1     1"
            ]
          },
          "metadata": {
            "tags": []
          },
          "execution_count": 156
        }
      ]
    },
    {
      "cell_type": "code",
      "metadata": {
        "id": "750iHbD918P4",
        "colab_type": "code",
        "colab": {
          "base_uri": "https://localhost:8080/",
          "height": 166
        },
        "outputId": "39d70805-479e-4f34-a328-5640d8de76c4"
      },
      "source": [
        "df.groupby(\"Country\").sum()"
      ],
      "execution_count": 157,
      "outputs": [
        {
          "output_type": "execute_result",
          "data": {
            "text/html": [
              "<div>\n",
              "<style scoped>\n",
              "    .dataframe tbody tr th:only-of-type {\n",
              "        vertical-align: middle;\n",
              "    }\n",
              "\n",
              "    .dataframe tbody tr th {\n",
              "        vertical-align: top;\n",
              "    }\n",
              "\n",
              "    .dataframe thead th {\n",
              "        text-align: right;\n",
              "    }\n",
              "</style>\n",
              "<table border=\"1\" class=\"dataframe\">\n",
              "  <thead>\n",
              "    <tr style=\"text-align: right;\">\n",
              "      <th></th>\n",
              "      <th>Year</th>\n",
              "      <th>Cases</th>\n",
              "      <th>Population</th>\n",
              "    </tr>\n",
              "    <tr>\n",
              "      <th>Country</th>\n",
              "      <th></th>\n",
              "      <th></th>\n",
              "      <th></th>\n",
              "    </tr>\n",
              "  </thead>\n",
              "  <tbody>\n",
              "    <tr>\n",
              "      <th>Afghanistan</th>\n",
              "      <td>3999</td>\n",
              "      <td>1011</td>\n",
              "      <td>40582431</td>\n",
              "    </tr>\n",
              "    <tr>\n",
              "      <th>Brazil</th>\n",
              "      <td>3999</td>\n",
              "      <td>118225</td>\n",
              "      <td>346511260</td>\n",
              "    </tr>\n",
              "    <tr>\n",
              "      <th>China</th>\n",
              "      <td>3999</td>\n",
              "      <td>426024</td>\n",
              "      <td>2553343855</td>\n",
              "    </tr>\n",
              "  </tbody>\n",
              "</table>\n",
              "</div>"
            ],
            "text/plain": [
              "             Year   Cases  Population\n",
              "Country                              \n",
              "Afghanistan  3999    1011    40582431\n",
              "Brazil       3999  118225   346511260\n",
              "China        3999  426024  2553343855"
            ]
          },
          "metadata": {
            "tags": []
          },
          "execution_count": 157
        }
      ]
    },
    {
      "cell_type": "code",
      "metadata": {
        "id": "vFg3TSx22DuA",
        "colab_type": "code",
        "colab": {
          "base_uri": "https://localhost:8080/",
          "height": 166
        },
        "outputId": "33966167-95fb-4c47-c8f4-e4b55d154ee2"
      },
      "source": [
        "df.groupby(\"Country\").mean()"
      ],
      "execution_count": 158,
      "outputs": [
        {
          "output_type": "execute_result",
          "data": {
            "text/html": [
              "<div>\n",
              "<style scoped>\n",
              "    .dataframe tbody tr th:only-of-type {\n",
              "        vertical-align: middle;\n",
              "    }\n",
              "\n",
              "    .dataframe tbody tr th {\n",
              "        vertical-align: top;\n",
              "    }\n",
              "\n",
              "    .dataframe thead th {\n",
              "        text-align: right;\n",
              "    }\n",
              "</style>\n",
              "<table border=\"1\" class=\"dataframe\">\n",
              "  <thead>\n",
              "    <tr style=\"text-align: right;\">\n",
              "      <th></th>\n",
              "      <th>Year</th>\n",
              "      <th>Cases</th>\n",
              "      <th>Population</th>\n",
              "    </tr>\n",
              "    <tr>\n",
              "      <th>Country</th>\n",
              "      <th></th>\n",
              "      <th></th>\n",
              "      <th></th>\n",
              "    </tr>\n",
              "  </thead>\n",
              "  <tbody>\n",
              "    <tr>\n",
              "      <th>Afghanistan</th>\n",
              "      <td>1999.5</td>\n",
              "      <td>505.5</td>\n",
              "      <td>2.029122e+07</td>\n",
              "    </tr>\n",
              "    <tr>\n",
              "      <th>Brazil</th>\n",
              "      <td>1999.5</td>\n",
              "      <td>59112.5</td>\n",
              "      <td>1.732556e+08</td>\n",
              "    </tr>\n",
              "    <tr>\n",
              "      <th>China</th>\n",
              "      <td>1999.5</td>\n",
              "      <td>213012.0</td>\n",
              "      <td>1.276672e+09</td>\n",
              "    </tr>\n",
              "  </tbody>\n",
              "</table>\n",
              "</div>"
            ],
            "text/plain": [
              "               Year     Cases    Population\n",
              "Country                                    \n",
              "Afghanistan  1999.5     505.5  2.029122e+07\n",
              "Brazil       1999.5   59112.5  1.732556e+08\n",
              "China        1999.5  213012.0  1.276672e+09"
            ]
          },
          "metadata": {
            "tags": []
          },
          "execution_count": 158
        }
      ]
    },
    {
      "cell_type": "code",
      "metadata": {
        "id": "Qm72vYNZ2Gkr",
        "colab_type": "code",
        "colab": {
          "base_uri": "https://localhost:8080/",
          "height": 166
        },
        "outputId": "7ee2b617-4ac2-40a6-98a5-32daad228b99"
      },
      "source": [
        "df.groupby(\"Country\").first()"
      ],
      "execution_count": 159,
      "outputs": [
        {
          "output_type": "execute_result",
          "data": {
            "text/html": [
              "<div>\n",
              "<style scoped>\n",
              "    .dataframe tbody tr th:only-of-type {\n",
              "        vertical-align: middle;\n",
              "    }\n",
              "\n",
              "    .dataframe tbody tr th {\n",
              "        vertical-align: top;\n",
              "    }\n",
              "\n",
              "    .dataframe thead th {\n",
              "        text-align: right;\n",
              "    }\n",
              "</style>\n",
              "<table border=\"1\" class=\"dataframe\">\n",
              "  <thead>\n",
              "    <tr style=\"text-align: right;\">\n",
              "      <th></th>\n",
              "      <th>Year</th>\n",
              "      <th>Cases</th>\n",
              "      <th>Population</th>\n",
              "      <th>Date_str</th>\n",
              "      <th>Date</th>\n",
              "    </tr>\n",
              "    <tr>\n",
              "      <th>Country</th>\n",
              "      <th></th>\n",
              "      <th></th>\n",
              "      <th></th>\n",
              "      <th></th>\n",
              "      <th></th>\n",
              "    </tr>\n",
              "  </thead>\n",
              "  <tbody>\n",
              "    <tr>\n",
              "      <th>Afghanistan</th>\n",
              "      <td>1999</td>\n",
              "      <td>745</td>\n",
              "      <td>19987071</td>\n",
              "      <td>1999/01/01</td>\n",
              "      <td>1999-01-01</td>\n",
              "    </tr>\n",
              "    <tr>\n",
              "      <th>Brazil</th>\n",
              "      <td>1999</td>\n",
              "      <td>37737</td>\n",
              "      <td>172006362</td>\n",
              "      <td>1999/01/01</td>\n",
              "      <td>1999-01-01</td>\n",
              "    </tr>\n",
              "    <tr>\n",
              "      <th>China</th>\n",
              "      <td>1999</td>\n",
              "      <td>212258</td>\n",
              "      <td>1272915272</td>\n",
              "      <td>1999/01/01</td>\n",
              "      <td>1999-01-01</td>\n",
              "    </tr>\n",
              "  </tbody>\n",
              "</table>\n",
              "</div>"
            ],
            "text/plain": [
              "             Year   Cases  Population    Date_str       Date\n",
              "Country                                                     \n",
              "Afghanistan  1999     745    19987071  1999/01/01 1999-01-01\n",
              "Brazil       1999   37737   172006362  1999/01/01 1999-01-01\n",
              "China        1999  212258  1272915272  1999/01/01 1999-01-01"
            ]
          },
          "metadata": {
            "tags": []
          },
          "execution_count": 159
        }
      ]
    },
    {
      "cell_type": "code",
      "metadata": {
        "id": "qMRMRIw_2K84",
        "colab_type": "code",
        "colab": {
          "base_uri": "https://localhost:8080/",
          "height": 166
        },
        "outputId": "a8f7a81a-5a60-4113-bca9-8003dea5c384"
      },
      "source": [
        "df.groupby(\"Country\").last()"
      ],
      "execution_count": 160,
      "outputs": [
        {
          "output_type": "execute_result",
          "data": {
            "text/html": [
              "<div>\n",
              "<style scoped>\n",
              "    .dataframe tbody tr th:only-of-type {\n",
              "        vertical-align: middle;\n",
              "    }\n",
              "\n",
              "    .dataframe tbody tr th {\n",
              "        vertical-align: top;\n",
              "    }\n",
              "\n",
              "    .dataframe thead th {\n",
              "        text-align: right;\n",
              "    }\n",
              "</style>\n",
              "<table border=\"1\" class=\"dataframe\">\n",
              "  <thead>\n",
              "    <tr style=\"text-align: right;\">\n",
              "      <th></th>\n",
              "      <th>Year</th>\n",
              "      <th>Cases</th>\n",
              "      <th>Population</th>\n",
              "      <th>Date_str</th>\n",
              "      <th>Date</th>\n",
              "    </tr>\n",
              "    <tr>\n",
              "      <th>Country</th>\n",
              "      <th></th>\n",
              "      <th></th>\n",
              "      <th></th>\n",
              "      <th></th>\n",
              "      <th></th>\n",
              "    </tr>\n",
              "  </thead>\n",
              "  <tbody>\n",
              "    <tr>\n",
              "      <th>Afghanistan</th>\n",
              "      <td>2000</td>\n",
              "      <td>266</td>\n",
              "      <td>20595360</td>\n",
              "      <td>2000/01/01</td>\n",
              "      <td>2000-01-01</td>\n",
              "    </tr>\n",
              "    <tr>\n",
              "      <th>Brazil</th>\n",
              "      <td>2000</td>\n",
              "      <td>80488</td>\n",
              "      <td>174504898</td>\n",
              "      <td>2000/01/01</td>\n",
              "      <td>2000-01-01</td>\n",
              "    </tr>\n",
              "    <tr>\n",
              "      <th>China</th>\n",
              "      <td>2000</td>\n",
              "      <td>213766</td>\n",
              "      <td>1280428583</td>\n",
              "      <td>2000/01/01</td>\n",
              "      <td>2000-01-01</td>\n",
              "    </tr>\n",
              "  </tbody>\n",
              "</table>\n",
              "</div>"
            ],
            "text/plain": [
              "             Year   Cases  Population    Date_str       Date\n",
              "Country                                                     \n",
              "Afghanistan  2000     266    20595360  2000/01/01 2000-01-01\n",
              "Brazil       2000   80488   174504898  2000/01/01 2000-01-01\n",
              "China        2000  213766  1280428583  2000/01/01 2000-01-01"
            ]
          },
          "metadata": {
            "tags": []
          },
          "execution_count": 160
        }
      ]
    },
    {
      "cell_type": "markdown",
      "metadata": {
        "id": "1c1Gbgb-2OYm",
        "colab_type": "text"
      },
      "source": [
        "The `aggregate()` function allows you to apply a set of grouping functions to all columns"
      ]
    },
    {
      "cell_type": "code",
      "metadata": {
        "id": "W7WQxWxB2UEB",
        "colab_type": "code",
        "colab": {
          "base_uri": "https://localhost:8080/",
          "height": 195
        },
        "outputId": "eac44211-d7d4-46ec-e55c-525fee78b2de"
      },
      "source": [
        "df.groupby(\"Country\").aggregate([\"mean\",\"sum\"])"
      ],
      "execution_count": 161,
      "outputs": [
        {
          "output_type": "execute_result",
          "data": {
            "text/html": [
              "<div>\n",
              "<style scoped>\n",
              "    .dataframe tbody tr th:only-of-type {\n",
              "        vertical-align: middle;\n",
              "    }\n",
              "\n",
              "    .dataframe tbody tr th {\n",
              "        vertical-align: top;\n",
              "    }\n",
              "\n",
              "    .dataframe thead tr th {\n",
              "        text-align: left;\n",
              "    }\n",
              "\n",
              "    .dataframe thead tr:last-of-type th {\n",
              "        text-align: right;\n",
              "    }\n",
              "</style>\n",
              "<table border=\"1\" class=\"dataframe\">\n",
              "  <thead>\n",
              "    <tr>\n",
              "      <th></th>\n",
              "      <th colspan=\"2\" halign=\"left\">Year</th>\n",
              "      <th colspan=\"2\" halign=\"left\">Cases</th>\n",
              "      <th colspan=\"2\" halign=\"left\">Population</th>\n",
              "    </tr>\n",
              "    <tr>\n",
              "      <th></th>\n",
              "      <th>mean</th>\n",
              "      <th>sum</th>\n",
              "      <th>mean</th>\n",
              "      <th>sum</th>\n",
              "      <th>mean</th>\n",
              "      <th>sum</th>\n",
              "    </tr>\n",
              "    <tr>\n",
              "      <th>Country</th>\n",
              "      <th></th>\n",
              "      <th></th>\n",
              "      <th></th>\n",
              "      <th></th>\n",
              "      <th></th>\n",
              "      <th></th>\n",
              "    </tr>\n",
              "  </thead>\n",
              "  <tbody>\n",
              "    <tr>\n",
              "      <th>Afghanistan</th>\n",
              "      <td>1999.5</td>\n",
              "      <td>3999</td>\n",
              "      <td>505.5</td>\n",
              "      <td>1011</td>\n",
              "      <td>2.029122e+07</td>\n",
              "      <td>40582431</td>\n",
              "    </tr>\n",
              "    <tr>\n",
              "      <th>Brazil</th>\n",
              "      <td>1999.5</td>\n",
              "      <td>3999</td>\n",
              "      <td>59112.5</td>\n",
              "      <td>118225</td>\n",
              "      <td>1.732556e+08</td>\n",
              "      <td>346511260</td>\n",
              "    </tr>\n",
              "    <tr>\n",
              "      <th>China</th>\n",
              "      <td>1999.5</td>\n",
              "      <td>3999</td>\n",
              "      <td>213012.0</td>\n",
              "      <td>426024</td>\n",
              "      <td>1.276672e+09</td>\n",
              "      <td>2553343855</td>\n",
              "    </tr>\n",
              "  </tbody>\n",
              "</table>\n",
              "</div>"
            ],
            "text/plain": [
              "               Year           Cases            Population            \n",
              "               mean   sum      mean     sum          mean         sum\n",
              "Country                                                              \n",
              "Afghanistan  1999.5  3999     505.5    1011  2.029122e+07    40582431\n",
              "Brazil       1999.5  3999   59112.5  118225  1.732556e+08   346511260\n",
              "China        1999.5  3999  213012.0  426024  1.276672e+09  2553343855"
            ]
          },
          "metadata": {
            "tags": []
          },
          "execution_count": 161
        }
      ]
    },
    {
      "cell_type": "markdown",
      "metadata": {
        "id": "Wa6IETSu2Z3A",
        "colab_type": "text"
      },
      "source": [
        "We can select a specific column from the DataFrame that is generated by `aggregate()`"
      ]
    },
    {
      "cell_type": "code",
      "metadata": {
        "id": "nbeqygxe2g2P",
        "colab_type": "code",
        "colab": {
          "base_uri": "https://localhost:8080/",
          "height": 166
        },
        "outputId": "3d0f1c2f-11eb-4577-e708-660a971237c9"
      },
      "source": [
        "df.groupby(\"Country\").aggregate([\"mean\",\"count\",\"sum\"]).Population"
      ],
      "execution_count": 162,
      "outputs": [
        {
          "output_type": "execute_result",
          "data": {
            "text/html": [
              "<div>\n",
              "<style scoped>\n",
              "    .dataframe tbody tr th:only-of-type {\n",
              "        vertical-align: middle;\n",
              "    }\n",
              "\n",
              "    .dataframe tbody tr th {\n",
              "        vertical-align: top;\n",
              "    }\n",
              "\n",
              "    .dataframe thead th {\n",
              "        text-align: right;\n",
              "    }\n",
              "</style>\n",
              "<table border=\"1\" class=\"dataframe\">\n",
              "  <thead>\n",
              "    <tr style=\"text-align: right;\">\n",
              "      <th></th>\n",
              "      <th>mean</th>\n",
              "      <th>count</th>\n",
              "      <th>sum</th>\n",
              "    </tr>\n",
              "    <tr>\n",
              "      <th>Country</th>\n",
              "      <th></th>\n",
              "      <th></th>\n",
              "      <th></th>\n",
              "    </tr>\n",
              "  </thead>\n",
              "  <tbody>\n",
              "    <tr>\n",
              "      <th>Afghanistan</th>\n",
              "      <td>2.029122e+07</td>\n",
              "      <td>2</td>\n",
              "      <td>40582431</td>\n",
              "    </tr>\n",
              "    <tr>\n",
              "      <th>Brazil</th>\n",
              "      <td>1.732556e+08</td>\n",
              "      <td>2</td>\n",
              "      <td>346511260</td>\n",
              "    </tr>\n",
              "    <tr>\n",
              "      <th>China</th>\n",
              "      <td>1.276672e+09</td>\n",
              "      <td>2</td>\n",
              "      <td>2553343855</td>\n",
              "    </tr>\n",
              "  </tbody>\n",
              "</table>\n",
              "</div>"
            ],
            "text/plain": [
              "                     mean  count         sum\n",
              "Country                                     \n",
              "Afghanistan  2.029122e+07      2    40582431\n",
              "Brazil       1.732556e+08      2   346511260\n",
              "China        1.276672e+09      2  2553343855"
            ]
          },
          "metadata": {
            "tags": []
          },
          "execution_count": 162
        }
      ]
    },
    {
      "cell_type": "markdown",
      "metadata": {
        "id": "d7OSh5nf2oyT",
        "colab_type": "text"
      },
      "source": [
        "The function `agg()` allows you to obtain new values by applying specific functions to a given column"
      ]
    },
    {
      "cell_type": "code",
      "metadata": {
        "id": "S2-25ZjA2zPb",
        "colab_type": "code",
        "colab": {
          "base_uri": "https://localhost:8080/",
          "height": 166
        },
        "outputId": "c40ad094-d640-48b8-e880-3c3e284e50d9"
      },
      "source": [
        "df.groupby(\"Country\").agg({\"Year\":\"count\",\n",
        "                           \"Cases\":np.sum,\n",
        "                           \"Population\": lambda x : x.count()})"
      ],
      "execution_count": 163,
      "outputs": [
        {
          "output_type": "execute_result",
          "data": {
            "text/html": [
              "<div>\n",
              "<style scoped>\n",
              "    .dataframe tbody tr th:only-of-type {\n",
              "        vertical-align: middle;\n",
              "    }\n",
              "\n",
              "    .dataframe tbody tr th {\n",
              "        vertical-align: top;\n",
              "    }\n",
              "\n",
              "    .dataframe thead th {\n",
              "        text-align: right;\n",
              "    }\n",
              "</style>\n",
              "<table border=\"1\" class=\"dataframe\">\n",
              "  <thead>\n",
              "    <tr style=\"text-align: right;\">\n",
              "      <th></th>\n",
              "      <th>Year</th>\n",
              "      <th>Cases</th>\n",
              "      <th>Population</th>\n",
              "    </tr>\n",
              "    <tr>\n",
              "      <th>Country</th>\n",
              "      <th></th>\n",
              "      <th></th>\n",
              "      <th></th>\n",
              "    </tr>\n",
              "  </thead>\n",
              "  <tbody>\n",
              "    <tr>\n",
              "      <th>Afghanistan</th>\n",
              "      <td>2</td>\n",
              "      <td>1011</td>\n",
              "      <td>2</td>\n",
              "    </tr>\n",
              "    <tr>\n",
              "      <th>Brazil</th>\n",
              "      <td>2</td>\n",
              "      <td>118225</td>\n",
              "      <td>2</td>\n",
              "    </tr>\n",
              "    <tr>\n",
              "      <th>China</th>\n",
              "      <td>2</td>\n",
              "      <td>426024</td>\n",
              "      <td>2</td>\n",
              "    </tr>\n",
              "  </tbody>\n",
              "</table>\n",
              "</div>"
            ],
            "text/plain": [
              "             Year   Cases  Population\n",
              "Country                              \n",
              "Afghanistan     2    1011           2\n",
              "Brazil          2  118225           2\n",
              "China           2  426024           2"
            ]
          },
          "metadata": {
            "tags": []
          },
          "execution_count": 163
        }
      ]
    },
    {
      "cell_type": "markdown",
      "metadata": {
        "id": "DlTRatmv28Zq",
        "colab_type": "text"
      },
      "source": [
        "## Aggregate functions over all the data\n",
        "- There are cases where we need to aggregate all the data in our dataset\n",
        "- In these cases we can use functions like agg or aggregate without previously using groupby "
      ]
    },
    {
      "cell_type": "code",
      "metadata": {
        "id": "ZE3cakxY3Gz1",
        "colab_type": "code",
        "colab": {
          "base_uri": "https://localhost:8080/",
          "height": 84
        },
        "outputId": "48e782e6-070e-4606-eb93-789c19dec94c"
      },
      "source": [
        "df.aggregate(\"mean\")"
      ],
      "execution_count": 165,
      "outputs": [
        {
          "output_type": "execute_result",
          "data": {
            "text/plain": [
              "Year          1.999500e+03\n",
              "Cases         9.087667e+04\n",
              "Population    4.900729e+08\n",
              "dtype: float64"
            ]
          },
          "metadata": {
            "tags": []
          },
          "execution_count": 165
        }
      ]
    },
    {
      "cell_type": "code",
      "metadata": {
        "id": "Mz1J_X0w3YwO",
        "colab_type": "code",
        "colab": {
          "base_uri": "https://localhost:8080/",
          "height": 106
        },
        "outputId": "5611a5cd-44b6-40d9-e27b-19ea7f3792c8"
      },
      "source": [
        "df[[\"Cases\", \"Population\"]].aggregate([\"mean\",\"sum\"])"
      ],
      "execution_count": 166,
      "outputs": [
        {
          "output_type": "execute_result",
          "data": {
            "text/html": [
              "<div>\n",
              "<style scoped>\n",
              "    .dataframe tbody tr th:only-of-type {\n",
              "        vertical-align: middle;\n",
              "    }\n",
              "\n",
              "    .dataframe tbody tr th {\n",
              "        vertical-align: top;\n",
              "    }\n",
              "\n",
              "    .dataframe thead th {\n",
              "        text-align: right;\n",
              "    }\n",
              "</style>\n",
              "<table border=\"1\" class=\"dataframe\">\n",
              "  <thead>\n",
              "    <tr style=\"text-align: right;\">\n",
              "      <th></th>\n",
              "      <th>Cases</th>\n",
              "      <th>Population</th>\n",
              "    </tr>\n",
              "  </thead>\n",
              "  <tbody>\n",
              "    <tr>\n",
              "      <th>mean</th>\n",
              "      <td>90876.666667</td>\n",
              "      <td>4.900729e+08</td>\n",
              "    </tr>\n",
              "    <tr>\n",
              "      <th>sum</th>\n",
              "      <td>545260.000000</td>\n",
              "      <td>2.940438e+09</td>\n",
              "    </tr>\n",
              "  </tbody>\n",
              "</table>\n",
              "</div>"
            ],
            "text/plain": [
              "              Cases    Population\n",
              "mean   90876.666667  4.900729e+08\n",
              "sum   545260.000000  2.940438e+09"
            ]
          },
          "metadata": {
            "tags": []
          },
          "execution_count": 166
        }
      ]
    },
    {
      "cell_type": "code",
      "metadata": {
        "id": "46Q4UxAU3dxc",
        "colab_type": "code",
        "colab": {
          "base_uri": "https://localhost:8080/",
          "height": 67
        },
        "outputId": "18ebf742-36e1-438e-ef39-891eebee07a5"
      },
      "source": [
        "df.agg({\"Cases\":\"mean\", \"Population\":np.sum})"
      ],
      "execution_count": 167,
      "outputs": [
        {
          "output_type": "execute_result",
          "data": {
            "text/plain": [
              "Cases         9.087667e+04\n",
              "Population    2.940438e+09\n",
              "dtype: float64"
            ]
          },
          "metadata": {
            "tags": []
          },
          "execution_count": 167
        }
      ]
    },
    {
      "cell_type": "markdown",
      "metadata": {
        "id": "_f48Tpty3kl1",
        "colab_type": "text"
      },
      "source": [
        "The `transform()` function applies a grouping function to a group, but returns an object with the same size as\n",
        "the original dataframe"
      ]
    },
    {
      "cell_type": "code",
      "metadata": {
        "id": "CleMMjSO3sSq",
        "colab_type": "code",
        "colab": {
          "base_uri": "https://localhost:8080/",
          "height": 100
        },
        "outputId": "41c74769-4b91-4473-d41c-484c9123365a"
      },
      "source": [
        "df.groupby(\"Country\").Cases.sum()"
      ],
      "execution_count": 168,
      "outputs": [
        {
          "output_type": "execute_result",
          "data": {
            "text/plain": [
              "Country\n",
              "Afghanistan      1011\n",
              "Brazil         118225\n",
              "China          426024\n",
              "Name: Cases, dtype: int64"
            ]
          },
          "metadata": {
            "tags": []
          },
          "execution_count": 168
        }
      ]
    },
    {
      "cell_type": "code",
      "metadata": {
        "id": "PPJNXu5u3wEu",
        "colab_type": "code",
        "colab": {
          "base_uri": "https://localhost:8080/",
          "height": 134
        },
        "outputId": "68edb9cd-fb11-40a2-de18-efb33acc2a43"
      },
      "source": [
        "df.groupby(\"Country\").Cases.transform(\"sum\")"
      ],
      "execution_count": 169,
      "outputs": [
        {
          "output_type": "execute_result",
          "data": {
            "text/plain": [
              "0      1011\n",
              "1      1011\n",
              "2    118225\n",
              "3    118225\n",
              "4    426024\n",
              "5    426024\n",
              "Name: Cases, dtype: int64"
            ]
          },
          "metadata": {
            "tags": []
          },
          "execution_count": 169
        }
      ]
    },
    {
      "cell_type": "code",
      "metadata": {
        "id": "96IbJx8F3z1G",
        "colab_type": "code",
        "colab": {
          "base_uri": "https://localhost:8080/",
          "height": 226
        },
        "outputId": "f374d407-4b05-4601-91e8-a976fcf35b64"
      },
      "source": [
        "df.assign(\n",
        "    TotalCases = df.groupby(\"Country\").Cases.transform(\"sum\")\n",
        ")"
      ],
      "execution_count": 170,
      "outputs": [
        {
          "output_type": "execute_result",
          "data": {
            "text/html": [
              "<div>\n",
              "<style scoped>\n",
              "    .dataframe tbody tr th:only-of-type {\n",
              "        vertical-align: middle;\n",
              "    }\n",
              "\n",
              "    .dataframe tbody tr th {\n",
              "        vertical-align: top;\n",
              "    }\n",
              "\n",
              "    .dataframe thead th {\n",
              "        text-align: right;\n",
              "    }\n",
              "</style>\n",
              "<table border=\"1\" class=\"dataframe\">\n",
              "  <thead>\n",
              "    <tr style=\"text-align: right;\">\n",
              "      <th></th>\n",
              "      <th>Country</th>\n",
              "      <th>Year</th>\n",
              "      <th>Cases</th>\n",
              "      <th>Population</th>\n",
              "      <th>Date_str</th>\n",
              "      <th>Date</th>\n",
              "      <th>TotalCases</th>\n",
              "    </tr>\n",
              "  </thead>\n",
              "  <tbody>\n",
              "    <tr>\n",
              "      <th>0</th>\n",
              "      <td>Afghanistan</td>\n",
              "      <td>1999</td>\n",
              "      <td>745</td>\n",
              "      <td>19987071</td>\n",
              "      <td>1999/01/01</td>\n",
              "      <td>1999-01-01</td>\n",
              "      <td>1011</td>\n",
              "    </tr>\n",
              "    <tr>\n",
              "      <th>1</th>\n",
              "      <td>Afghanistan</td>\n",
              "      <td>2000</td>\n",
              "      <td>266</td>\n",
              "      <td>20595360</td>\n",
              "      <td>2000/01/01</td>\n",
              "      <td>2000-01-01</td>\n",
              "      <td>1011</td>\n",
              "    </tr>\n",
              "    <tr>\n",
              "      <th>2</th>\n",
              "      <td>Brazil</td>\n",
              "      <td>1999</td>\n",
              "      <td>37737</td>\n",
              "      <td>172006362</td>\n",
              "      <td>1999/01/01</td>\n",
              "      <td>1999-01-01</td>\n",
              "      <td>118225</td>\n",
              "    </tr>\n",
              "    <tr>\n",
              "      <th>3</th>\n",
              "      <td>Brazil</td>\n",
              "      <td>2000</td>\n",
              "      <td>80488</td>\n",
              "      <td>174504898</td>\n",
              "      <td>2000/01/01</td>\n",
              "      <td>2000-01-01</td>\n",
              "      <td>118225</td>\n",
              "    </tr>\n",
              "    <tr>\n",
              "      <th>4</th>\n",
              "      <td>China</td>\n",
              "      <td>1999</td>\n",
              "      <td>212258</td>\n",
              "      <td>1272915272</td>\n",
              "      <td>1999/01/01</td>\n",
              "      <td>1999-01-01</td>\n",
              "      <td>426024</td>\n",
              "    </tr>\n",
              "    <tr>\n",
              "      <th>5</th>\n",
              "      <td>China</td>\n",
              "      <td>2000</td>\n",
              "      <td>213766</td>\n",
              "      <td>1280428583</td>\n",
              "      <td>2000/01/01</td>\n",
              "      <td>2000-01-01</td>\n",
              "      <td>426024</td>\n",
              "    </tr>\n",
              "  </tbody>\n",
              "</table>\n",
              "</div>"
            ],
            "text/plain": [
              "       Country  Year   Cases  Population    Date_str       Date  TotalCases\n",
              "0  Afghanistan  1999     745    19987071  1999/01/01 1999-01-01        1011\n",
              "1  Afghanistan  2000     266    20595360  2000/01/01 2000-01-01        1011\n",
              "2       Brazil  1999   37737   172006362  1999/01/01 1999-01-01      118225\n",
              "3       Brazil  2000   80488   174504898  2000/01/01 2000-01-01      118225\n",
              "4        China  1999  212258  1272915272  1999/01/01 1999-01-01      426024\n",
              "5        China  2000  213766  1280428583  2000/01/01 2000-01-01      426024"
            ]
          },
          "metadata": {
            "tags": []
          },
          "execution_count": 170
        }
      ]
    },
    {
      "cell_type": "markdown",
      "metadata": {
        "id": "nQyMGFYS3-xT",
        "colab_type": "text"
      },
      "source": [
        "# Reseting the index\n",
        "- The result of grouping multiple columns is a\n",
        "DataFrame with a MultiIndex"
      ]
    },
    {
      "cell_type": "code",
      "metadata": {
        "id": "XYRIUxjH4EWt",
        "colab_type": "code",
        "colab": {
          "base_uri": "https://localhost:8080/",
          "height": 256
        },
        "outputId": "83744dd9-246a-4844-d35b-05bbda8101c3"
      },
      "source": [
        "df.groupby([\"Country\", \"Year\"]).count()"
      ],
      "execution_count": 172,
      "outputs": [
        {
          "output_type": "execute_result",
          "data": {
            "text/html": [
              "<div>\n",
              "<style scoped>\n",
              "    .dataframe tbody tr th:only-of-type {\n",
              "        vertical-align: middle;\n",
              "    }\n",
              "\n",
              "    .dataframe tbody tr th {\n",
              "        vertical-align: top;\n",
              "    }\n",
              "\n",
              "    .dataframe thead th {\n",
              "        text-align: right;\n",
              "    }\n",
              "</style>\n",
              "<table border=\"1\" class=\"dataframe\">\n",
              "  <thead>\n",
              "    <tr style=\"text-align: right;\">\n",
              "      <th></th>\n",
              "      <th></th>\n",
              "      <th>Cases</th>\n",
              "      <th>Population</th>\n",
              "      <th>Date_str</th>\n",
              "      <th>Date</th>\n",
              "    </tr>\n",
              "    <tr>\n",
              "      <th>Country</th>\n",
              "      <th>Year</th>\n",
              "      <th></th>\n",
              "      <th></th>\n",
              "      <th></th>\n",
              "      <th></th>\n",
              "    </tr>\n",
              "  </thead>\n",
              "  <tbody>\n",
              "    <tr>\n",
              "      <th rowspan=\"2\" valign=\"top\">Afghanistan</th>\n",
              "      <th>1999</th>\n",
              "      <td>1</td>\n",
              "      <td>1</td>\n",
              "      <td>1</td>\n",
              "      <td>1</td>\n",
              "    </tr>\n",
              "    <tr>\n",
              "      <th>2000</th>\n",
              "      <td>1</td>\n",
              "      <td>1</td>\n",
              "      <td>1</td>\n",
              "      <td>1</td>\n",
              "    </tr>\n",
              "    <tr>\n",
              "      <th rowspan=\"2\" valign=\"top\">Brazil</th>\n",
              "      <th>1999</th>\n",
              "      <td>1</td>\n",
              "      <td>1</td>\n",
              "      <td>1</td>\n",
              "      <td>1</td>\n",
              "    </tr>\n",
              "    <tr>\n",
              "      <th>2000</th>\n",
              "      <td>1</td>\n",
              "      <td>1</td>\n",
              "      <td>1</td>\n",
              "      <td>1</td>\n",
              "    </tr>\n",
              "    <tr>\n",
              "      <th rowspan=\"2\" valign=\"top\">China</th>\n",
              "      <th>1999</th>\n",
              "      <td>1</td>\n",
              "      <td>1</td>\n",
              "      <td>1</td>\n",
              "      <td>1</td>\n",
              "    </tr>\n",
              "    <tr>\n",
              "      <th>2000</th>\n",
              "      <td>1</td>\n",
              "      <td>1</td>\n",
              "      <td>1</td>\n",
              "      <td>1</td>\n",
              "    </tr>\n",
              "  </tbody>\n",
              "</table>\n",
              "</div>"
            ],
            "text/plain": [
              "                  Cases  Population  Date_str  Date\n",
              "Country     Year                                   \n",
              "Afghanistan 1999      1           1         1     1\n",
              "            2000      1           1         1     1\n",
              "Brazil      1999      1           1         1     1\n",
              "            2000      1           1         1     1\n",
              "China       1999      1           1         1     1\n",
              "            2000      1           1         1     1"
            ]
          },
          "metadata": {
            "tags": []
          },
          "execution_count": 172
        }
      ]
    },
    {
      "cell_type": "code",
      "metadata": {
        "id": "znuWbt104Hfp",
        "colab_type": "code",
        "colab": {
          "base_uri": "https://localhost:8080/",
          "height": 134
        },
        "outputId": "3c02fc8d-1c2a-4aea-dd1b-cb3b7939914b"
      },
      "source": [
        "df.groupby([\"Country\",\"Year\"]).count().index"
      ],
      "execution_count": 173,
      "outputs": [
        {
          "output_type": "execute_result",
          "data": {
            "text/plain": [
              "MultiIndex([('Afghanistan', 1999),\n",
              "            ('Afghanistan', 2000),\n",
              "            (     'Brazil', 1999),\n",
              "            (     'Brazil', 2000),\n",
              "            (      'China', 1999),\n",
              "            (      'China', 2000)],\n",
              "           names=['Country', 'Year'])"
            ]
          },
          "metadata": {
            "tags": []
          },
          "execution_count": 173
        }
      ]
    },
    {
      "cell_type": "code",
      "metadata": {
        "id": "EgcDETXU4MzV",
        "colab_type": "code",
        "colab": {
          "base_uri": "https://localhost:8080/",
          "height": 33
        },
        "outputId": "50b5af97-61e6-403c-eb48-5c5ad5aeff6c"
      },
      "source": [
        "df.groupby([\"Country\",\"Year\"]).count().columns"
      ],
      "execution_count": 174,
      "outputs": [
        {
          "output_type": "execute_result",
          "data": {
            "text/plain": [
              "Index(['Cases', 'Population', 'Date_str', 'Date'], dtype='object')"
            ]
          },
          "metadata": {
            "tags": []
          },
          "execution_count": 174
        }
      ]
    },
    {
      "cell_type": "markdown",
      "metadata": {
        "id": "rNWLhWjU4QvG",
        "colab_type": "text"
      },
      "source": [
        "We can incorportate the index as regular columns with\n",
        "the `reset_index()` function"
      ]
    },
    {
      "cell_type": "code",
      "metadata": {
        "id": "Mh-P_tCv4Xaw",
        "colab_type": "code",
        "colab": {
          "base_uri": "https://localhost:8080/",
          "height": 256
        },
        "outputId": "4a08b432-9991-42ba-b4d7-52532a66124a"
      },
      "source": [
        "df.groupby([\"Country\",\"Year\"]).count()"
      ],
      "execution_count": 175,
      "outputs": [
        {
          "output_type": "execute_result",
          "data": {
            "text/html": [
              "<div>\n",
              "<style scoped>\n",
              "    .dataframe tbody tr th:only-of-type {\n",
              "        vertical-align: middle;\n",
              "    }\n",
              "\n",
              "    .dataframe tbody tr th {\n",
              "        vertical-align: top;\n",
              "    }\n",
              "\n",
              "    .dataframe thead th {\n",
              "        text-align: right;\n",
              "    }\n",
              "</style>\n",
              "<table border=\"1\" class=\"dataframe\">\n",
              "  <thead>\n",
              "    <tr style=\"text-align: right;\">\n",
              "      <th></th>\n",
              "      <th></th>\n",
              "      <th>Cases</th>\n",
              "      <th>Population</th>\n",
              "      <th>Date_str</th>\n",
              "      <th>Date</th>\n",
              "    </tr>\n",
              "    <tr>\n",
              "      <th>Country</th>\n",
              "      <th>Year</th>\n",
              "      <th></th>\n",
              "      <th></th>\n",
              "      <th></th>\n",
              "      <th></th>\n",
              "    </tr>\n",
              "  </thead>\n",
              "  <tbody>\n",
              "    <tr>\n",
              "      <th rowspan=\"2\" valign=\"top\">Afghanistan</th>\n",
              "      <th>1999</th>\n",
              "      <td>1</td>\n",
              "      <td>1</td>\n",
              "      <td>1</td>\n",
              "      <td>1</td>\n",
              "    </tr>\n",
              "    <tr>\n",
              "      <th>2000</th>\n",
              "      <td>1</td>\n",
              "      <td>1</td>\n",
              "      <td>1</td>\n",
              "      <td>1</td>\n",
              "    </tr>\n",
              "    <tr>\n",
              "      <th rowspan=\"2\" valign=\"top\">Brazil</th>\n",
              "      <th>1999</th>\n",
              "      <td>1</td>\n",
              "      <td>1</td>\n",
              "      <td>1</td>\n",
              "      <td>1</td>\n",
              "    </tr>\n",
              "    <tr>\n",
              "      <th>2000</th>\n",
              "      <td>1</td>\n",
              "      <td>1</td>\n",
              "      <td>1</td>\n",
              "      <td>1</td>\n",
              "    </tr>\n",
              "    <tr>\n",
              "      <th rowspan=\"2\" valign=\"top\">China</th>\n",
              "      <th>1999</th>\n",
              "      <td>1</td>\n",
              "      <td>1</td>\n",
              "      <td>1</td>\n",
              "      <td>1</td>\n",
              "    </tr>\n",
              "    <tr>\n",
              "      <th>2000</th>\n",
              "      <td>1</td>\n",
              "      <td>1</td>\n",
              "      <td>1</td>\n",
              "      <td>1</td>\n",
              "    </tr>\n",
              "  </tbody>\n",
              "</table>\n",
              "</div>"
            ],
            "text/plain": [
              "                  Cases  Population  Date_str  Date\n",
              "Country     Year                                   \n",
              "Afghanistan 1999      1           1         1     1\n",
              "            2000      1           1         1     1\n",
              "Brazil      1999      1           1         1     1\n",
              "            2000      1           1         1     1\n",
              "China       1999      1           1         1     1\n",
              "            2000      1           1         1     1"
            ]
          },
          "metadata": {
            "tags": []
          },
          "execution_count": 175
        }
      ]
    },
    {
      "cell_type": "code",
      "metadata": {
        "id": "ECn3PrBI4bY2",
        "colab_type": "code",
        "colab": {
          "base_uri": "https://localhost:8080/",
          "height": 226
        },
        "outputId": "0bf9e0ce-091d-4b95-d88b-c9db27986216"
      },
      "source": [
        "df.groupby([\"Country\",\"Year\"]).count().reset_index()"
      ],
      "execution_count": 176,
      "outputs": [
        {
          "output_type": "execute_result",
          "data": {
            "text/html": [
              "<div>\n",
              "<style scoped>\n",
              "    .dataframe tbody tr th:only-of-type {\n",
              "        vertical-align: middle;\n",
              "    }\n",
              "\n",
              "    .dataframe tbody tr th {\n",
              "        vertical-align: top;\n",
              "    }\n",
              "\n",
              "    .dataframe thead th {\n",
              "        text-align: right;\n",
              "    }\n",
              "</style>\n",
              "<table border=\"1\" class=\"dataframe\">\n",
              "  <thead>\n",
              "    <tr style=\"text-align: right;\">\n",
              "      <th></th>\n",
              "      <th>Country</th>\n",
              "      <th>Year</th>\n",
              "      <th>Cases</th>\n",
              "      <th>Population</th>\n",
              "      <th>Date_str</th>\n",
              "      <th>Date</th>\n",
              "    </tr>\n",
              "  </thead>\n",
              "  <tbody>\n",
              "    <tr>\n",
              "      <th>0</th>\n",
              "      <td>Afghanistan</td>\n",
              "      <td>1999</td>\n",
              "      <td>1</td>\n",
              "      <td>1</td>\n",
              "      <td>1</td>\n",
              "      <td>1</td>\n",
              "    </tr>\n",
              "    <tr>\n",
              "      <th>1</th>\n",
              "      <td>Afghanistan</td>\n",
              "      <td>2000</td>\n",
              "      <td>1</td>\n",
              "      <td>1</td>\n",
              "      <td>1</td>\n",
              "      <td>1</td>\n",
              "    </tr>\n",
              "    <tr>\n",
              "      <th>2</th>\n",
              "      <td>Brazil</td>\n",
              "      <td>1999</td>\n",
              "      <td>1</td>\n",
              "      <td>1</td>\n",
              "      <td>1</td>\n",
              "      <td>1</td>\n",
              "    </tr>\n",
              "    <tr>\n",
              "      <th>3</th>\n",
              "      <td>Brazil</td>\n",
              "      <td>2000</td>\n",
              "      <td>1</td>\n",
              "      <td>1</td>\n",
              "      <td>1</td>\n",
              "      <td>1</td>\n",
              "    </tr>\n",
              "    <tr>\n",
              "      <th>4</th>\n",
              "      <td>China</td>\n",
              "      <td>1999</td>\n",
              "      <td>1</td>\n",
              "      <td>1</td>\n",
              "      <td>1</td>\n",
              "      <td>1</td>\n",
              "    </tr>\n",
              "    <tr>\n",
              "      <th>5</th>\n",
              "      <td>China</td>\n",
              "      <td>2000</td>\n",
              "      <td>1</td>\n",
              "      <td>1</td>\n",
              "      <td>1</td>\n",
              "      <td>1</td>\n",
              "    </tr>\n",
              "  </tbody>\n",
              "</table>\n",
              "</div>"
            ],
            "text/plain": [
              "       Country  Year  Cases  Population  Date_str  Date\n",
              "0  Afghanistan  1999      1           1         1     1\n",
              "1  Afghanistan  2000      1           1         1     1\n",
              "2       Brazil  1999      1           1         1     1\n",
              "3       Brazil  2000      1           1         1     1\n",
              "4        China  1999      1           1         1     1\n",
              "5        China  2000      1           1         1     1"
            ]
          },
          "metadata": {
            "tags": []
          },
          "execution_count": 176
        }
      ]
    },
    {
      "cell_type": "markdown",
      "metadata": {
        "id": "Ev3qHj4b4c2-",
        "colab_type": "text"
      },
      "source": [
        "## Exercise 37\n",
        "Work on the DataFrame \"liga\"\n",
        "- Sum “Puntos” and “GolesFavor” for all teams\n",
        "- By zones, for the fields “Puntos” and “GolesFavor”,\n",
        "calculate the sum and count all rows"
      ]
    },
    {
      "cell_type": "code",
      "metadata": {
        "id": "7L7DxFYd4oC-",
        "colab_type": "code",
        "colab": {
          "base_uri": "https://localhost:8080/",
          "height": 283
        },
        "outputId": "e7082c27-6c6c-4a6d-fddc-07324addbdc3"
      },
      "source": [
        "liga.head()"
      ],
      "execution_count": 177,
      "outputs": [
        {
          "output_type": "execute_result",
          "data": {
            "text/html": [
              "<div>\n",
              "<style scoped>\n",
              "    .dataframe tbody tr th:only-of-type {\n",
              "        vertical-align: middle;\n",
              "    }\n",
              "\n",
              "    .dataframe tbody tr th {\n",
              "        vertical-align: top;\n",
              "    }\n",
              "\n",
              "    .dataframe thead th {\n",
              "        text-align: right;\n",
              "    }\n",
              "</style>\n",
              "<table border=\"1\" class=\"dataframe\">\n",
              "  <thead>\n",
              "    <tr style=\"text-align: right;\">\n",
              "      <th></th>\n",
              "      <th>Puesto</th>\n",
              "      <th>Equipo</th>\n",
              "      <th>PartidosJugados</th>\n",
              "      <th>Victorias</th>\n",
              "      <th>Empates</th>\n",
              "      <th>Derrotas</th>\n",
              "      <th>GolesFavor</th>\n",
              "      <th>GolesContra</th>\n",
              "      <th>Puntos</th>\n",
              "      <th>DiferenciaGoles</th>\n",
              "      <th>DiferenciaPuntos</th>\n",
              "      <th>PorcentajeGoles</th>\n",
              "      <th>PorcentajeVictorias</th>\n",
              "      <th>PuntosAcum</th>\n",
              "      <th>Zona</th>\n",
              "      <th>Provincia</th>\n",
              "      <th>Comunidad Autónoma</th>\n",
              "    </tr>\n",
              "  </thead>\n",
              "  <tbody>\n",
              "    <tr>\n",
              "      <th>0</th>\n",
              "      <td>1</td>\n",
              "      <td>Real Madrid</td>\n",
              "      <td>27</td>\n",
              "      <td>20</td>\n",
              "      <td>5</td>\n",
              "      <td>2</td>\n",
              "      <td>71</td>\n",
              "      <td>28</td>\n",
              "      <td>65</td>\n",
              "      <td>43</td>\n",
              "      <td>2.0</td>\n",
              "      <td>0.087871</td>\n",
              "      <td>0.740741</td>\n",
              "      <td>65</td>\n",
              "      <td>Champions</td>\n",
              "      <td>Madrid</td>\n",
              "      <td>Madrid</td>\n",
              "    </tr>\n",
              "    <tr>\n",
              "      <th>1</th>\n",
              "      <td>2</td>\n",
              "      <td>Barcelona</td>\n",
              "      <td>28</td>\n",
              "      <td>19</td>\n",
              "      <td>6</td>\n",
              "      <td>3</td>\n",
              "      <td>81</td>\n",
              "      <td>25</td>\n",
              "      <td>63</td>\n",
              "      <td>56</td>\n",
              "      <td>6.0</td>\n",
              "      <td>0.100248</td>\n",
              "      <td>0.678571</td>\n",
              "      <td>128</td>\n",
              "      <td>Champions</td>\n",
              "      <td>Barcelona</td>\n",
              "      <td>Cataluña</td>\n",
              "    </tr>\n",
              "    <tr>\n",
              "      <th>2</th>\n",
              "      <td>3</td>\n",
              "      <td>Sevilla</td>\n",
              "      <td>28</td>\n",
              "      <td>17</td>\n",
              "      <td>6</td>\n",
              "      <td>5</td>\n",
              "      <td>52</td>\n",
              "      <td>34</td>\n",
              "      <td>57</td>\n",
              "      <td>18</td>\n",
              "      <td>2.0</td>\n",
              "      <td>0.064356</td>\n",
              "      <td>0.607143</td>\n",
              "      <td>185</td>\n",
              "      <td>Champions</td>\n",
              "      <td>Sevilla</td>\n",
              "      <td>Andalucia</td>\n",
              "    </tr>\n",
              "    <tr>\n",
              "      <th>3</th>\n",
              "      <td>4</td>\n",
              "      <td>Atlético Madrid</td>\n",
              "      <td>28</td>\n",
              "      <td>16</td>\n",
              "      <td>7</td>\n",
              "      <td>5</td>\n",
              "      <td>52</td>\n",
              "      <td>23</td>\n",
              "      <td>55</td>\n",
              "      <td>29</td>\n",
              "      <td>7.0</td>\n",
              "      <td>0.064356</td>\n",
              "      <td>0.571429</td>\n",
              "      <td>240</td>\n",
              "      <td>Champions</td>\n",
              "      <td>Madrid</td>\n",
              "      <td>Madrid</td>\n",
              "    </tr>\n",
              "    <tr>\n",
              "      <th>4</th>\n",
              "      <td>5</td>\n",
              "      <td>Villarreal</td>\n",
              "      <td>28</td>\n",
              "      <td>13</td>\n",
              "      <td>9</td>\n",
              "      <td>6</td>\n",
              "      <td>39</td>\n",
              "      <td>20</td>\n",
              "      <td>48</td>\n",
              "      <td>19</td>\n",
              "      <td>0.0</td>\n",
              "      <td>0.048267</td>\n",
              "      <td>0.464286</td>\n",
              "      <td>288</td>\n",
              "      <td>Normal</td>\n",
              "      <td>Castellón</td>\n",
              "      <td>Comunidad Valenciana</td>\n",
              "    </tr>\n",
              "  </tbody>\n",
              "</table>\n",
              "</div>"
            ],
            "text/plain": [
              "   Puesto           Equipo  ...  Provincia    Comunidad Autónoma\n",
              "0       1      Real Madrid  ...     Madrid                Madrid\n",
              "1       2        Barcelona  ...  Barcelona              Cataluña\n",
              "2       3          Sevilla  ...    Sevilla             Andalucia\n",
              "3       4  Atlético Madrid  ...     Madrid                Madrid\n",
              "4       5       Villarreal  ...  Castellón  Comunidad Valenciana\n",
              "\n",
              "[5 rows x 17 columns]"
            ]
          },
          "metadata": {
            "tags": []
          },
          "execution_count": 177
        }
      ]
    },
    {
      "cell_type": "markdown",
      "metadata": {
        "id": "OZa7A7mV42qg",
        "colab_type": "text"
      },
      "source": [
        "## Exercise 38 (1/2)\n",
        "By zones:\n",
        "- Distinct values in “PartidosJugados” (np.nunique)\n",
        "- Sum “GolesFalor”\n",
        "- Calculate the average in “Diferencia de Goles”\n",
        "- Over the result of the previous step calculate the percentage of goals scored by each group\n",
        "(“GolesFavor”/ Total of “GolesFavor”)\n",
        "- Show all the teams in each zone (join function on an array)"
      ]
    },
    {
      "cell_type": "markdown",
      "metadata": {
        "id": "ca3Enf9C5kiR",
        "colab_type": "text"
      },
      "source": [
        "## Concatenating a DataFrame\n",
        "- The `concat()` function allows to join several\n",
        "DataFrames in a single one, both by rows and by\n",
        "columns"
      ]
    },
    {
      "cell_type": "code",
      "metadata": {
        "id": "xkbWILrp50ij",
        "colab_type": "code",
        "colab": {
          "base_uri": "https://localhost:8080/",
          "height": 405
        },
        "outputId": "f2a2093a-f66b-42a3-ad47-88ef6054b605"
      },
      "source": [
        "pd.concat((df, df), axis =0)"
      ],
      "execution_count": 186,
      "outputs": [
        {
          "output_type": "execute_result",
          "data": {
            "text/html": [
              "<div>\n",
              "<style scoped>\n",
              "    .dataframe tbody tr th:only-of-type {\n",
              "        vertical-align: middle;\n",
              "    }\n",
              "\n",
              "    .dataframe tbody tr th {\n",
              "        vertical-align: top;\n",
              "    }\n",
              "\n",
              "    .dataframe thead th {\n",
              "        text-align: right;\n",
              "    }\n",
              "</style>\n",
              "<table border=\"1\" class=\"dataframe\">\n",
              "  <thead>\n",
              "    <tr style=\"text-align: right;\">\n",
              "      <th></th>\n",
              "      <th>Country</th>\n",
              "      <th>Year</th>\n",
              "      <th>Cases</th>\n",
              "      <th>Population</th>\n",
              "      <th>Date_str</th>\n",
              "      <th>Date</th>\n",
              "    </tr>\n",
              "  </thead>\n",
              "  <tbody>\n",
              "    <tr>\n",
              "      <th>0</th>\n",
              "      <td>Afghanistan</td>\n",
              "      <td>1999</td>\n",
              "      <td>745</td>\n",
              "      <td>19987071</td>\n",
              "      <td>1999/01/01</td>\n",
              "      <td>1999-01-01</td>\n",
              "    </tr>\n",
              "    <tr>\n",
              "      <th>1</th>\n",
              "      <td>Afghanistan</td>\n",
              "      <td>2000</td>\n",
              "      <td>266</td>\n",
              "      <td>20595360</td>\n",
              "      <td>2000/01/01</td>\n",
              "      <td>2000-01-01</td>\n",
              "    </tr>\n",
              "    <tr>\n",
              "      <th>2</th>\n",
              "      <td>Brazil</td>\n",
              "      <td>1999</td>\n",
              "      <td>37737</td>\n",
              "      <td>172006362</td>\n",
              "      <td>1999/01/01</td>\n",
              "      <td>1999-01-01</td>\n",
              "    </tr>\n",
              "    <tr>\n",
              "      <th>3</th>\n",
              "      <td>Brazil</td>\n",
              "      <td>2000</td>\n",
              "      <td>80488</td>\n",
              "      <td>174504898</td>\n",
              "      <td>2000/01/01</td>\n",
              "      <td>2000-01-01</td>\n",
              "    </tr>\n",
              "    <tr>\n",
              "      <th>4</th>\n",
              "      <td>China</td>\n",
              "      <td>1999</td>\n",
              "      <td>212258</td>\n",
              "      <td>1272915272</td>\n",
              "      <td>1999/01/01</td>\n",
              "      <td>1999-01-01</td>\n",
              "    </tr>\n",
              "    <tr>\n",
              "      <th>5</th>\n",
              "      <td>China</td>\n",
              "      <td>2000</td>\n",
              "      <td>213766</td>\n",
              "      <td>1280428583</td>\n",
              "      <td>2000/01/01</td>\n",
              "      <td>2000-01-01</td>\n",
              "    </tr>\n",
              "    <tr>\n",
              "      <th>0</th>\n",
              "      <td>Afghanistan</td>\n",
              "      <td>1999</td>\n",
              "      <td>745</td>\n",
              "      <td>19987071</td>\n",
              "      <td>1999/01/01</td>\n",
              "      <td>1999-01-01</td>\n",
              "    </tr>\n",
              "    <tr>\n",
              "      <th>1</th>\n",
              "      <td>Afghanistan</td>\n",
              "      <td>2000</td>\n",
              "      <td>266</td>\n",
              "      <td>20595360</td>\n",
              "      <td>2000/01/01</td>\n",
              "      <td>2000-01-01</td>\n",
              "    </tr>\n",
              "    <tr>\n",
              "      <th>2</th>\n",
              "      <td>Brazil</td>\n",
              "      <td>1999</td>\n",
              "      <td>37737</td>\n",
              "      <td>172006362</td>\n",
              "      <td>1999/01/01</td>\n",
              "      <td>1999-01-01</td>\n",
              "    </tr>\n",
              "    <tr>\n",
              "      <th>3</th>\n",
              "      <td>Brazil</td>\n",
              "      <td>2000</td>\n",
              "      <td>80488</td>\n",
              "      <td>174504898</td>\n",
              "      <td>2000/01/01</td>\n",
              "      <td>2000-01-01</td>\n",
              "    </tr>\n",
              "    <tr>\n",
              "      <th>4</th>\n",
              "      <td>China</td>\n",
              "      <td>1999</td>\n",
              "      <td>212258</td>\n",
              "      <td>1272915272</td>\n",
              "      <td>1999/01/01</td>\n",
              "      <td>1999-01-01</td>\n",
              "    </tr>\n",
              "    <tr>\n",
              "      <th>5</th>\n",
              "      <td>China</td>\n",
              "      <td>2000</td>\n",
              "      <td>213766</td>\n",
              "      <td>1280428583</td>\n",
              "      <td>2000/01/01</td>\n",
              "      <td>2000-01-01</td>\n",
              "    </tr>\n",
              "  </tbody>\n",
              "</table>\n",
              "</div>"
            ],
            "text/plain": [
              "       Country  Year   Cases  Population    Date_str       Date\n",
              "0  Afghanistan  1999     745    19987071  1999/01/01 1999-01-01\n",
              "1  Afghanistan  2000     266    20595360  2000/01/01 2000-01-01\n",
              "2       Brazil  1999   37737   172006362  1999/01/01 1999-01-01\n",
              "3       Brazil  2000   80488   174504898  2000/01/01 2000-01-01\n",
              "4        China  1999  212258  1272915272  1999/01/01 1999-01-01\n",
              "5        China  2000  213766  1280428583  2000/01/01 2000-01-01\n",
              "0  Afghanistan  1999     745    19987071  1999/01/01 1999-01-01\n",
              "1  Afghanistan  2000     266    20595360  2000/01/01 2000-01-01\n",
              "2       Brazil  1999   37737   172006362  1999/01/01 1999-01-01\n",
              "3       Brazil  2000   80488   174504898  2000/01/01 2000-01-01\n",
              "4        China  1999  212258  1272915272  1999/01/01 1999-01-01\n",
              "5        China  2000  213766  1280428583  2000/01/01 2000-01-01"
            ]
          },
          "metadata": {
            "tags": []
          },
          "execution_count": 186
        }
      ]
    },
    {
      "cell_type": "markdown",
      "metadata": {
        "id": "TIfIESJN6GD6",
        "colab_type": "text"
      },
      "source": [
        "- The `reset_index()` function rebuilds the index ..."
      ]
    },
    {
      "cell_type": "code",
      "metadata": {
        "id": "ticBY1M_54W6",
        "colab_type": "code",
        "colab": {
          "base_uri": "https://localhost:8080/",
          "height": 405
        },
        "outputId": "fe48de2c-06c3-4eae-c928-6383ba2b1977"
      },
      "source": [
        "pd.concat((df,df), axis =0).reset_index(drop=True)"
      ],
      "execution_count": 187,
      "outputs": [
        {
          "output_type": "execute_result",
          "data": {
            "text/html": [
              "<div>\n",
              "<style scoped>\n",
              "    .dataframe tbody tr th:only-of-type {\n",
              "        vertical-align: middle;\n",
              "    }\n",
              "\n",
              "    .dataframe tbody tr th {\n",
              "        vertical-align: top;\n",
              "    }\n",
              "\n",
              "    .dataframe thead th {\n",
              "        text-align: right;\n",
              "    }\n",
              "</style>\n",
              "<table border=\"1\" class=\"dataframe\">\n",
              "  <thead>\n",
              "    <tr style=\"text-align: right;\">\n",
              "      <th></th>\n",
              "      <th>Country</th>\n",
              "      <th>Year</th>\n",
              "      <th>Cases</th>\n",
              "      <th>Population</th>\n",
              "      <th>Date_str</th>\n",
              "      <th>Date</th>\n",
              "    </tr>\n",
              "  </thead>\n",
              "  <tbody>\n",
              "    <tr>\n",
              "      <th>0</th>\n",
              "      <td>Afghanistan</td>\n",
              "      <td>1999</td>\n",
              "      <td>745</td>\n",
              "      <td>19987071</td>\n",
              "      <td>1999/01/01</td>\n",
              "      <td>1999-01-01</td>\n",
              "    </tr>\n",
              "    <tr>\n",
              "      <th>1</th>\n",
              "      <td>Afghanistan</td>\n",
              "      <td>2000</td>\n",
              "      <td>266</td>\n",
              "      <td>20595360</td>\n",
              "      <td>2000/01/01</td>\n",
              "      <td>2000-01-01</td>\n",
              "    </tr>\n",
              "    <tr>\n",
              "      <th>2</th>\n",
              "      <td>Brazil</td>\n",
              "      <td>1999</td>\n",
              "      <td>37737</td>\n",
              "      <td>172006362</td>\n",
              "      <td>1999/01/01</td>\n",
              "      <td>1999-01-01</td>\n",
              "    </tr>\n",
              "    <tr>\n",
              "      <th>3</th>\n",
              "      <td>Brazil</td>\n",
              "      <td>2000</td>\n",
              "      <td>80488</td>\n",
              "      <td>174504898</td>\n",
              "      <td>2000/01/01</td>\n",
              "      <td>2000-01-01</td>\n",
              "    </tr>\n",
              "    <tr>\n",
              "      <th>4</th>\n",
              "      <td>China</td>\n",
              "      <td>1999</td>\n",
              "      <td>212258</td>\n",
              "      <td>1272915272</td>\n",
              "      <td>1999/01/01</td>\n",
              "      <td>1999-01-01</td>\n",
              "    </tr>\n",
              "    <tr>\n",
              "      <th>5</th>\n",
              "      <td>China</td>\n",
              "      <td>2000</td>\n",
              "      <td>213766</td>\n",
              "      <td>1280428583</td>\n",
              "      <td>2000/01/01</td>\n",
              "      <td>2000-01-01</td>\n",
              "    </tr>\n",
              "    <tr>\n",
              "      <th>6</th>\n",
              "      <td>Afghanistan</td>\n",
              "      <td>1999</td>\n",
              "      <td>745</td>\n",
              "      <td>19987071</td>\n",
              "      <td>1999/01/01</td>\n",
              "      <td>1999-01-01</td>\n",
              "    </tr>\n",
              "    <tr>\n",
              "      <th>7</th>\n",
              "      <td>Afghanistan</td>\n",
              "      <td>2000</td>\n",
              "      <td>266</td>\n",
              "      <td>20595360</td>\n",
              "      <td>2000/01/01</td>\n",
              "      <td>2000-01-01</td>\n",
              "    </tr>\n",
              "    <tr>\n",
              "      <th>8</th>\n",
              "      <td>Brazil</td>\n",
              "      <td>1999</td>\n",
              "      <td>37737</td>\n",
              "      <td>172006362</td>\n",
              "      <td>1999/01/01</td>\n",
              "      <td>1999-01-01</td>\n",
              "    </tr>\n",
              "    <tr>\n",
              "      <th>9</th>\n",
              "      <td>Brazil</td>\n",
              "      <td>2000</td>\n",
              "      <td>80488</td>\n",
              "      <td>174504898</td>\n",
              "      <td>2000/01/01</td>\n",
              "      <td>2000-01-01</td>\n",
              "    </tr>\n",
              "    <tr>\n",
              "      <th>10</th>\n",
              "      <td>China</td>\n",
              "      <td>1999</td>\n",
              "      <td>212258</td>\n",
              "      <td>1272915272</td>\n",
              "      <td>1999/01/01</td>\n",
              "      <td>1999-01-01</td>\n",
              "    </tr>\n",
              "    <tr>\n",
              "      <th>11</th>\n",
              "      <td>China</td>\n",
              "      <td>2000</td>\n",
              "      <td>213766</td>\n",
              "      <td>1280428583</td>\n",
              "      <td>2000/01/01</td>\n",
              "      <td>2000-01-01</td>\n",
              "    </tr>\n",
              "  </tbody>\n",
              "</table>\n",
              "</div>"
            ],
            "text/plain": [
              "        Country  Year   Cases  Population    Date_str       Date\n",
              "0   Afghanistan  1999     745    19987071  1999/01/01 1999-01-01\n",
              "1   Afghanistan  2000     266    20595360  2000/01/01 2000-01-01\n",
              "2        Brazil  1999   37737   172006362  1999/01/01 1999-01-01\n",
              "3        Brazil  2000   80488   174504898  2000/01/01 2000-01-01\n",
              "4         China  1999  212258  1272915272  1999/01/01 1999-01-01\n",
              "5         China  2000  213766  1280428583  2000/01/01 2000-01-01\n",
              "6   Afghanistan  1999     745    19987071  1999/01/01 1999-01-01\n",
              "7   Afghanistan  2000     266    20595360  2000/01/01 2000-01-01\n",
              "8        Brazil  1999   37737   172006362  1999/01/01 1999-01-01\n",
              "9        Brazil  2000   80488   174504898  2000/01/01 2000-01-01\n",
              "10        China  1999  212258  1272915272  1999/01/01 1999-01-01\n",
              "11        China  2000  213766  1280428583  2000/01/01 2000-01-01"
            ]
          },
          "metadata": {
            "tags": []
          },
          "execution_count": 187
        }
      ]
    },
    {
      "cell_type": "markdown",
      "metadata": {
        "id": "PS15X9dC5_1v",
        "colab_type": "text"
      },
      "source": [
        "A shortcut for the `concat()` function when two dataframes are joined is the `append()` function"
      ]
    },
    {
      "cell_type": "code",
      "metadata": {
        "id": "uXPqzA7J6SCS",
        "colab_type": "code",
        "colab": {
          "base_uri": "https://localhost:8080/",
          "height": 226
        },
        "outputId": "a24b83c4-4db0-4866-eadf-215bbbf41eef"
      },
      "source": [
        "rank = df.rank().rename(columns =lambda column: \"Rank\" + column)\n",
        "rank"
      ],
      "execution_count": 189,
      "outputs": [
        {
          "output_type": "execute_result",
          "data": {
            "text/html": [
              "<div>\n",
              "<style scoped>\n",
              "    .dataframe tbody tr th:only-of-type {\n",
              "        vertical-align: middle;\n",
              "    }\n",
              "\n",
              "    .dataframe tbody tr th {\n",
              "        vertical-align: top;\n",
              "    }\n",
              "\n",
              "    .dataframe thead th {\n",
              "        text-align: right;\n",
              "    }\n",
              "</style>\n",
              "<table border=\"1\" class=\"dataframe\">\n",
              "  <thead>\n",
              "    <tr style=\"text-align: right;\">\n",
              "      <th></th>\n",
              "      <th>RankCountry</th>\n",
              "      <th>RankYear</th>\n",
              "      <th>RankCases</th>\n",
              "      <th>RankPopulation</th>\n",
              "      <th>RankDate_str</th>\n",
              "      <th>RankDate</th>\n",
              "    </tr>\n",
              "  </thead>\n",
              "  <tbody>\n",
              "    <tr>\n",
              "      <th>0</th>\n",
              "      <td>1.5</td>\n",
              "      <td>2.0</td>\n",
              "      <td>2.0</td>\n",
              "      <td>1.0</td>\n",
              "      <td>2.0</td>\n",
              "      <td>2.0</td>\n",
              "    </tr>\n",
              "    <tr>\n",
              "      <th>1</th>\n",
              "      <td>1.5</td>\n",
              "      <td>5.0</td>\n",
              "      <td>1.0</td>\n",
              "      <td>2.0</td>\n",
              "      <td>5.0</td>\n",
              "      <td>5.0</td>\n",
              "    </tr>\n",
              "    <tr>\n",
              "      <th>2</th>\n",
              "      <td>3.5</td>\n",
              "      <td>2.0</td>\n",
              "      <td>3.0</td>\n",
              "      <td>3.0</td>\n",
              "      <td>2.0</td>\n",
              "      <td>2.0</td>\n",
              "    </tr>\n",
              "    <tr>\n",
              "      <th>3</th>\n",
              "      <td>3.5</td>\n",
              "      <td>5.0</td>\n",
              "      <td>4.0</td>\n",
              "      <td>4.0</td>\n",
              "      <td>5.0</td>\n",
              "      <td>5.0</td>\n",
              "    </tr>\n",
              "    <tr>\n",
              "      <th>4</th>\n",
              "      <td>5.5</td>\n",
              "      <td>2.0</td>\n",
              "      <td>5.0</td>\n",
              "      <td>5.0</td>\n",
              "      <td>2.0</td>\n",
              "      <td>2.0</td>\n",
              "    </tr>\n",
              "    <tr>\n",
              "      <th>5</th>\n",
              "      <td>5.5</td>\n",
              "      <td>5.0</td>\n",
              "      <td>6.0</td>\n",
              "      <td>6.0</td>\n",
              "      <td>5.0</td>\n",
              "      <td>5.0</td>\n",
              "    </tr>\n",
              "  </tbody>\n",
              "</table>\n",
              "</div>"
            ],
            "text/plain": [
              "   RankCountry  RankYear  RankCases  RankPopulation  RankDate_str  RankDate\n",
              "0          1.5       2.0        2.0             1.0           2.0       2.0\n",
              "1          1.5       5.0        1.0             2.0           5.0       5.0\n",
              "2          3.5       2.0        3.0             3.0           2.0       2.0\n",
              "3          3.5       5.0        4.0             4.0           5.0       5.0\n",
              "4          5.5       2.0        5.0             5.0           2.0       2.0\n",
              "5          5.5       5.0        6.0             6.0           5.0       5.0"
            ]
          },
          "metadata": {
            "tags": []
          },
          "execution_count": 189
        }
      ]
    },
    {
      "cell_type": "code",
      "metadata": {
        "id": "5uxjE0Sa6ZMU",
        "colab_type": "code",
        "colab": {
          "base_uri": "https://localhost:8080/",
          "height": 346
        },
        "outputId": "e8c5bdcd-315a-448c-ac2e-e43783683cf7"
      },
      "source": [
        "pd.concat((df,rank), axis =1)"
      ],
      "execution_count": 191,
      "outputs": [
        {
          "output_type": "execute_result",
          "data": {
            "text/html": [
              "<div>\n",
              "<style scoped>\n",
              "    .dataframe tbody tr th:only-of-type {\n",
              "        vertical-align: middle;\n",
              "    }\n",
              "\n",
              "    .dataframe tbody tr th {\n",
              "        vertical-align: top;\n",
              "    }\n",
              "\n",
              "    .dataframe thead th {\n",
              "        text-align: right;\n",
              "    }\n",
              "</style>\n",
              "<table border=\"1\" class=\"dataframe\">\n",
              "  <thead>\n",
              "    <tr style=\"text-align: right;\">\n",
              "      <th></th>\n",
              "      <th>Country</th>\n",
              "      <th>Year</th>\n",
              "      <th>Cases</th>\n",
              "      <th>Population</th>\n",
              "      <th>Date_str</th>\n",
              "      <th>Date</th>\n",
              "      <th>RankCountry</th>\n",
              "      <th>RankYear</th>\n",
              "      <th>RankCases</th>\n",
              "      <th>RankPopulation</th>\n",
              "      <th>RankDate_str</th>\n",
              "      <th>RankDate</th>\n",
              "    </tr>\n",
              "  </thead>\n",
              "  <tbody>\n",
              "    <tr>\n",
              "      <th>0</th>\n",
              "      <td>Afghanistan</td>\n",
              "      <td>1999</td>\n",
              "      <td>745</td>\n",
              "      <td>19987071</td>\n",
              "      <td>1999/01/01</td>\n",
              "      <td>1999-01-01</td>\n",
              "      <td>1.5</td>\n",
              "      <td>2.0</td>\n",
              "      <td>2.0</td>\n",
              "      <td>1.0</td>\n",
              "      <td>2.0</td>\n",
              "      <td>2.0</td>\n",
              "    </tr>\n",
              "    <tr>\n",
              "      <th>1</th>\n",
              "      <td>Afghanistan</td>\n",
              "      <td>2000</td>\n",
              "      <td>266</td>\n",
              "      <td>20595360</td>\n",
              "      <td>2000/01/01</td>\n",
              "      <td>2000-01-01</td>\n",
              "      <td>1.5</td>\n",
              "      <td>5.0</td>\n",
              "      <td>1.0</td>\n",
              "      <td>2.0</td>\n",
              "      <td>5.0</td>\n",
              "      <td>5.0</td>\n",
              "    </tr>\n",
              "    <tr>\n",
              "      <th>2</th>\n",
              "      <td>Brazil</td>\n",
              "      <td>1999</td>\n",
              "      <td>37737</td>\n",
              "      <td>172006362</td>\n",
              "      <td>1999/01/01</td>\n",
              "      <td>1999-01-01</td>\n",
              "      <td>3.5</td>\n",
              "      <td>2.0</td>\n",
              "      <td>3.0</td>\n",
              "      <td>3.0</td>\n",
              "      <td>2.0</td>\n",
              "      <td>2.0</td>\n",
              "    </tr>\n",
              "    <tr>\n",
              "      <th>3</th>\n",
              "      <td>Brazil</td>\n",
              "      <td>2000</td>\n",
              "      <td>80488</td>\n",
              "      <td>174504898</td>\n",
              "      <td>2000/01/01</td>\n",
              "      <td>2000-01-01</td>\n",
              "      <td>3.5</td>\n",
              "      <td>5.0</td>\n",
              "      <td>4.0</td>\n",
              "      <td>4.0</td>\n",
              "      <td>5.0</td>\n",
              "      <td>5.0</td>\n",
              "    </tr>\n",
              "    <tr>\n",
              "      <th>4</th>\n",
              "      <td>China</td>\n",
              "      <td>1999</td>\n",
              "      <td>212258</td>\n",
              "      <td>1272915272</td>\n",
              "      <td>1999/01/01</td>\n",
              "      <td>1999-01-01</td>\n",
              "      <td>5.5</td>\n",
              "      <td>2.0</td>\n",
              "      <td>5.0</td>\n",
              "      <td>5.0</td>\n",
              "      <td>2.0</td>\n",
              "      <td>2.0</td>\n",
              "    </tr>\n",
              "    <tr>\n",
              "      <th>5</th>\n",
              "      <td>China</td>\n",
              "      <td>2000</td>\n",
              "      <td>213766</td>\n",
              "      <td>1280428583</td>\n",
              "      <td>2000/01/01</td>\n",
              "      <td>2000-01-01</td>\n",
              "      <td>5.5</td>\n",
              "      <td>5.0</td>\n",
              "      <td>6.0</td>\n",
              "      <td>6.0</td>\n",
              "      <td>5.0</td>\n",
              "      <td>5.0</td>\n",
              "    </tr>\n",
              "  </tbody>\n",
              "</table>\n",
              "</div>"
            ],
            "text/plain": [
              "       Country  Year   Cases  ...  RankPopulation RankDate_str RankDate\n",
              "0  Afghanistan  1999     745  ...             1.0          2.0      2.0\n",
              "1  Afghanistan  2000     266  ...             2.0          5.0      5.0\n",
              "2       Brazil  1999   37737  ...             3.0          2.0      2.0\n",
              "3       Brazil  2000   80488  ...             4.0          5.0      5.0\n",
              "4        China  1999  212258  ...             5.0          2.0      2.0\n",
              "5        China  2000  213766  ...             6.0          5.0      5.0\n",
              "\n",
              "[6 rows x 12 columns]"
            ]
          },
          "metadata": {
            "tags": []
          },
          "execution_count": 191
        }
      ]
    },
    {
      "cell_type": "markdown",
      "metadata": {
        "id": "f7pgyzXR6hNY",
        "colab_type": "text"
      },
      "source": [
        "## Join \n",
        "- The `merge()` function allows to make a join between\n",
        "two DataFrames"
      ]
    },
    {
      "cell_type": "code",
      "metadata": {
        "id": "AMbF7eRo6udF",
        "colab_type": "code",
        "colab": {
          "base_uri": "https://localhost:8080/",
          "height": 137
        },
        "outputId": "a9843a02-75b0-4d52-9f71-c77fdb96e115"
      },
      "source": [
        "df_capitals = pd.DataFrame(\n",
        "    {\"Country\": [\"Afghanistan\", \"Brazil\", \"Spain\"],\n",
        "     \"Capital\": [\"Kabul\", \"Brasilia\", \"Madrid\"]},\n",
        "     columns =[\"Country\", \"Capital\"]\n",
        ")\n",
        "df_capitals"
      ],
      "execution_count": 194,
      "outputs": [
        {
          "output_type": "execute_result",
          "data": {
            "text/html": [
              "<div>\n",
              "<style scoped>\n",
              "    .dataframe tbody tr th:only-of-type {\n",
              "        vertical-align: middle;\n",
              "    }\n",
              "\n",
              "    .dataframe tbody tr th {\n",
              "        vertical-align: top;\n",
              "    }\n",
              "\n",
              "    .dataframe thead th {\n",
              "        text-align: right;\n",
              "    }\n",
              "</style>\n",
              "<table border=\"1\" class=\"dataframe\">\n",
              "  <thead>\n",
              "    <tr style=\"text-align: right;\">\n",
              "      <th></th>\n",
              "      <th>Country</th>\n",
              "      <th>Capital</th>\n",
              "    </tr>\n",
              "  </thead>\n",
              "  <tbody>\n",
              "    <tr>\n",
              "      <th>0</th>\n",
              "      <td>Afghanistan</td>\n",
              "      <td>Kabul</td>\n",
              "    </tr>\n",
              "    <tr>\n",
              "      <th>1</th>\n",
              "      <td>Brazil</td>\n",
              "      <td>Brasilia</td>\n",
              "    </tr>\n",
              "    <tr>\n",
              "      <th>2</th>\n",
              "      <td>Spain</td>\n",
              "      <td>Madrid</td>\n",
              "    </tr>\n",
              "  </tbody>\n",
              "</table>\n",
              "</div>"
            ],
            "text/plain": [
              "       Country   Capital\n",
              "0  Afghanistan     Kabul\n",
              "1       Brazil  Brasilia\n",
              "2        Spain    Madrid"
            ]
          },
          "metadata": {
            "tags": []
          },
          "execution_count": 194
        }
      ]
    },
    {
      "cell_type": "code",
      "metadata": {
        "id": "42Mex1kS7I_N",
        "colab_type": "code",
        "colab": {
          "base_uri": "https://localhost:8080/",
          "height": 166
        },
        "outputId": "c8a70f36-ab5f-4b33-a1c9-0c5efd434604"
      },
      "source": [
        "pd.merge(df,df_capitals, on = \"Country\")"
      ],
      "execution_count": 196,
      "outputs": [
        {
          "output_type": "execute_result",
          "data": {
            "text/html": [
              "<div>\n",
              "<style scoped>\n",
              "    .dataframe tbody tr th:only-of-type {\n",
              "        vertical-align: middle;\n",
              "    }\n",
              "\n",
              "    .dataframe tbody tr th {\n",
              "        vertical-align: top;\n",
              "    }\n",
              "\n",
              "    .dataframe thead th {\n",
              "        text-align: right;\n",
              "    }\n",
              "</style>\n",
              "<table border=\"1\" class=\"dataframe\">\n",
              "  <thead>\n",
              "    <tr style=\"text-align: right;\">\n",
              "      <th></th>\n",
              "      <th>Country</th>\n",
              "      <th>Year</th>\n",
              "      <th>Cases</th>\n",
              "      <th>Population</th>\n",
              "      <th>Date_str</th>\n",
              "      <th>Date</th>\n",
              "      <th>Capital</th>\n",
              "    </tr>\n",
              "  </thead>\n",
              "  <tbody>\n",
              "    <tr>\n",
              "      <th>0</th>\n",
              "      <td>Afghanistan</td>\n",
              "      <td>1999</td>\n",
              "      <td>745</td>\n",
              "      <td>19987071</td>\n",
              "      <td>1999/01/01</td>\n",
              "      <td>1999-01-01</td>\n",
              "      <td>Kabul</td>\n",
              "    </tr>\n",
              "    <tr>\n",
              "      <th>1</th>\n",
              "      <td>Afghanistan</td>\n",
              "      <td>2000</td>\n",
              "      <td>266</td>\n",
              "      <td>20595360</td>\n",
              "      <td>2000/01/01</td>\n",
              "      <td>2000-01-01</td>\n",
              "      <td>Kabul</td>\n",
              "    </tr>\n",
              "    <tr>\n",
              "      <th>2</th>\n",
              "      <td>Brazil</td>\n",
              "      <td>1999</td>\n",
              "      <td>37737</td>\n",
              "      <td>172006362</td>\n",
              "      <td>1999/01/01</td>\n",
              "      <td>1999-01-01</td>\n",
              "      <td>Brasilia</td>\n",
              "    </tr>\n",
              "    <tr>\n",
              "      <th>3</th>\n",
              "      <td>Brazil</td>\n",
              "      <td>2000</td>\n",
              "      <td>80488</td>\n",
              "      <td>174504898</td>\n",
              "      <td>2000/01/01</td>\n",
              "      <td>2000-01-01</td>\n",
              "      <td>Brasilia</td>\n",
              "    </tr>\n",
              "  </tbody>\n",
              "</table>\n",
              "</div>"
            ],
            "text/plain": [
              "       Country  Year  Cases  Population    Date_str       Date   Capital\n",
              "0  Afghanistan  1999    745    19987071  1999/01/01 1999-01-01     Kabul\n",
              "1  Afghanistan  2000    266    20595360  2000/01/01 2000-01-01     Kabul\n",
              "2       Brazil  1999  37737   172006362  1999/01/01 1999-01-01  Brasilia\n",
              "3       Brazil  2000  80488   174504898  2000/01/01 2000-01-01  Brasilia"
            ]
          },
          "metadata": {
            "tags": []
          },
          "execution_count": 196
        }
      ]
    },
    {
      "cell_type": "markdown",
      "metadata": {
        "id": "IcCC2-pb7Puu",
        "colab_type": "text"
      },
      "source": [
        "\n",
        "The parameters left_on and right_on allow you to\n",
        "specify different names in both dataframes"
      ]
    },
    {
      "cell_type": "code",
      "metadata": {
        "id": "8cEUtLZt7W4J",
        "colab_type": "code",
        "colab": {
          "base_uri": "https://localhost:8080/",
          "height": 166
        },
        "outputId": "b41244a7-c42b-49ff-9b79-a928482841a3"
      },
      "source": [
        "pd.merge(df, df_capitals,\n",
        "         left_on = \"Country\",\n",
        "         right_on = \"Country\")"
      ],
      "execution_count": 197,
      "outputs": [
        {
          "output_type": "execute_result",
          "data": {
            "text/html": [
              "<div>\n",
              "<style scoped>\n",
              "    .dataframe tbody tr th:only-of-type {\n",
              "        vertical-align: middle;\n",
              "    }\n",
              "\n",
              "    .dataframe tbody tr th {\n",
              "        vertical-align: top;\n",
              "    }\n",
              "\n",
              "    .dataframe thead th {\n",
              "        text-align: right;\n",
              "    }\n",
              "</style>\n",
              "<table border=\"1\" class=\"dataframe\">\n",
              "  <thead>\n",
              "    <tr style=\"text-align: right;\">\n",
              "      <th></th>\n",
              "      <th>Country</th>\n",
              "      <th>Year</th>\n",
              "      <th>Cases</th>\n",
              "      <th>Population</th>\n",
              "      <th>Date_str</th>\n",
              "      <th>Date</th>\n",
              "      <th>Capital</th>\n",
              "    </tr>\n",
              "  </thead>\n",
              "  <tbody>\n",
              "    <tr>\n",
              "      <th>0</th>\n",
              "      <td>Afghanistan</td>\n",
              "      <td>1999</td>\n",
              "      <td>745</td>\n",
              "      <td>19987071</td>\n",
              "      <td>1999/01/01</td>\n",
              "      <td>1999-01-01</td>\n",
              "      <td>Kabul</td>\n",
              "    </tr>\n",
              "    <tr>\n",
              "      <th>1</th>\n",
              "      <td>Afghanistan</td>\n",
              "      <td>2000</td>\n",
              "      <td>266</td>\n",
              "      <td>20595360</td>\n",
              "      <td>2000/01/01</td>\n",
              "      <td>2000-01-01</td>\n",
              "      <td>Kabul</td>\n",
              "    </tr>\n",
              "    <tr>\n",
              "      <th>2</th>\n",
              "      <td>Brazil</td>\n",
              "      <td>1999</td>\n",
              "      <td>37737</td>\n",
              "      <td>172006362</td>\n",
              "      <td>1999/01/01</td>\n",
              "      <td>1999-01-01</td>\n",
              "      <td>Brasilia</td>\n",
              "    </tr>\n",
              "    <tr>\n",
              "      <th>3</th>\n",
              "      <td>Brazil</td>\n",
              "      <td>2000</td>\n",
              "      <td>80488</td>\n",
              "      <td>174504898</td>\n",
              "      <td>2000/01/01</td>\n",
              "      <td>2000-01-01</td>\n",
              "      <td>Brasilia</td>\n",
              "    </tr>\n",
              "  </tbody>\n",
              "</table>\n",
              "</div>"
            ],
            "text/plain": [
              "       Country  Year  Cases  Population    Date_str       Date   Capital\n",
              "0  Afghanistan  1999    745    19987071  1999/01/01 1999-01-01     Kabul\n",
              "1  Afghanistan  2000    266    20595360  2000/01/01 2000-01-01     Kabul\n",
              "2       Brazil  1999  37737   172006362  1999/01/01 1999-01-01  Brasilia\n",
              "3       Brazil  2000  80488   174504898  2000/01/01 2000-01-01  Brasilia"
            ]
          },
          "metadata": {
            "tags": []
          },
          "execution_count": 197
        }
      ]
    },
    {
      "cell_type": "markdown",
      "metadata": {
        "id": "kI3wUEak7b1u",
        "colab_type": "text"
      },
      "source": [
        "The parameter how allow you to specify different join\n",
        "methods: ‘left’, ‘right’, ‘outer’, ‘inner’"
      ]
    },
    {
      "cell_type": "code",
      "metadata": {
        "id": "4acm5pZS7fht",
        "colab_type": "code",
        "colab": {
          "base_uri": "https://localhost:8080/",
          "height": 166
        },
        "outputId": "182420f1-2cc6-4a5f-8be3-2bd3d47a2e3b"
      },
      "source": [
        "pd.merge(df, df_capitals, on =\"Country\", how = \"inner\")"
      ],
      "execution_count": 198,
      "outputs": [
        {
          "output_type": "execute_result",
          "data": {
            "text/html": [
              "<div>\n",
              "<style scoped>\n",
              "    .dataframe tbody tr th:only-of-type {\n",
              "        vertical-align: middle;\n",
              "    }\n",
              "\n",
              "    .dataframe tbody tr th {\n",
              "        vertical-align: top;\n",
              "    }\n",
              "\n",
              "    .dataframe thead th {\n",
              "        text-align: right;\n",
              "    }\n",
              "</style>\n",
              "<table border=\"1\" class=\"dataframe\">\n",
              "  <thead>\n",
              "    <tr style=\"text-align: right;\">\n",
              "      <th></th>\n",
              "      <th>Country</th>\n",
              "      <th>Year</th>\n",
              "      <th>Cases</th>\n",
              "      <th>Population</th>\n",
              "      <th>Date_str</th>\n",
              "      <th>Date</th>\n",
              "      <th>Capital</th>\n",
              "    </tr>\n",
              "  </thead>\n",
              "  <tbody>\n",
              "    <tr>\n",
              "      <th>0</th>\n",
              "      <td>Afghanistan</td>\n",
              "      <td>1999</td>\n",
              "      <td>745</td>\n",
              "      <td>19987071</td>\n",
              "      <td>1999/01/01</td>\n",
              "      <td>1999-01-01</td>\n",
              "      <td>Kabul</td>\n",
              "    </tr>\n",
              "    <tr>\n",
              "      <th>1</th>\n",
              "      <td>Afghanistan</td>\n",
              "      <td>2000</td>\n",
              "      <td>266</td>\n",
              "      <td>20595360</td>\n",
              "      <td>2000/01/01</td>\n",
              "      <td>2000-01-01</td>\n",
              "      <td>Kabul</td>\n",
              "    </tr>\n",
              "    <tr>\n",
              "      <th>2</th>\n",
              "      <td>Brazil</td>\n",
              "      <td>1999</td>\n",
              "      <td>37737</td>\n",
              "      <td>172006362</td>\n",
              "      <td>1999/01/01</td>\n",
              "      <td>1999-01-01</td>\n",
              "      <td>Brasilia</td>\n",
              "    </tr>\n",
              "    <tr>\n",
              "      <th>3</th>\n",
              "      <td>Brazil</td>\n",
              "      <td>2000</td>\n",
              "      <td>80488</td>\n",
              "      <td>174504898</td>\n",
              "      <td>2000/01/01</td>\n",
              "      <td>2000-01-01</td>\n",
              "      <td>Brasilia</td>\n",
              "    </tr>\n",
              "  </tbody>\n",
              "</table>\n",
              "</div>"
            ],
            "text/plain": [
              "       Country  Year  Cases  Population    Date_str       Date   Capital\n",
              "0  Afghanistan  1999    745    19987071  1999/01/01 1999-01-01     Kabul\n",
              "1  Afghanistan  2000    266    20595360  2000/01/01 2000-01-01     Kabul\n",
              "2       Brazil  1999  37737   172006362  1999/01/01 1999-01-01  Brasilia\n",
              "3       Brazil  2000  80488   174504898  2000/01/01 2000-01-01  Brasilia"
            ]
          },
          "metadata": {
            "tags": []
          },
          "execution_count": 198
        }
      ]
    },
    {
      "cell_type": "code",
      "metadata": {
        "id": "g4K0h2mT7kV4",
        "colab_type": "code",
        "colab": {
          "base_uri": "https://localhost:8080/",
          "height": 256
        },
        "outputId": "a091b7a4-bef2-4480-ba1b-95067612d4a6"
      },
      "source": [
        "pd.merge(df, df_capitals, on =\"Country\", how = \"outer\")"
      ],
      "execution_count": 199,
      "outputs": [
        {
          "output_type": "execute_result",
          "data": {
            "text/html": [
              "<div>\n",
              "<style scoped>\n",
              "    .dataframe tbody tr th:only-of-type {\n",
              "        vertical-align: middle;\n",
              "    }\n",
              "\n",
              "    .dataframe tbody tr th {\n",
              "        vertical-align: top;\n",
              "    }\n",
              "\n",
              "    .dataframe thead th {\n",
              "        text-align: right;\n",
              "    }\n",
              "</style>\n",
              "<table border=\"1\" class=\"dataframe\">\n",
              "  <thead>\n",
              "    <tr style=\"text-align: right;\">\n",
              "      <th></th>\n",
              "      <th>Country</th>\n",
              "      <th>Year</th>\n",
              "      <th>Cases</th>\n",
              "      <th>Population</th>\n",
              "      <th>Date_str</th>\n",
              "      <th>Date</th>\n",
              "      <th>Capital</th>\n",
              "    </tr>\n",
              "  </thead>\n",
              "  <tbody>\n",
              "    <tr>\n",
              "      <th>0</th>\n",
              "      <td>Afghanistan</td>\n",
              "      <td>1999.0</td>\n",
              "      <td>745.0</td>\n",
              "      <td>1.998707e+07</td>\n",
              "      <td>1999/01/01</td>\n",
              "      <td>1999-01-01</td>\n",
              "      <td>Kabul</td>\n",
              "    </tr>\n",
              "    <tr>\n",
              "      <th>1</th>\n",
              "      <td>Afghanistan</td>\n",
              "      <td>2000.0</td>\n",
              "      <td>266.0</td>\n",
              "      <td>2.059536e+07</td>\n",
              "      <td>2000/01/01</td>\n",
              "      <td>2000-01-01</td>\n",
              "      <td>Kabul</td>\n",
              "    </tr>\n",
              "    <tr>\n",
              "      <th>2</th>\n",
              "      <td>Brazil</td>\n",
              "      <td>1999.0</td>\n",
              "      <td>37737.0</td>\n",
              "      <td>1.720064e+08</td>\n",
              "      <td>1999/01/01</td>\n",
              "      <td>1999-01-01</td>\n",
              "      <td>Brasilia</td>\n",
              "    </tr>\n",
              "    <tr>\n",
              "      <th>3</th>\n",
              "      <td>Brazil</td>\n",
              "      <td>2000.0</td>\n",
              "      <td>80488.0</td>\n",
              "      <td>1.745049e+08</td>\n",
              "      <td>2000/01/01</td>\n",
              "      <td>2000-01-01</td>\n",
              "      <td>Brasilia</td>\n",
              "    </tr>\n",
              "    <tr>\n",
              "      <th>4</th>\n",
              "      <td>China</td>\n",
              "      <td>1999.0</td>\n",
              "      <td>212258.0</td>\n",
              "      <td>1.272915e+09</td>\n",
              "      <td>1999/01/01</td>\n",
              "      <td>1999-01-01</td>\n",
              "      <td>NaN</td>\n",
              "    </tr>\n",
              "    <tr>\n",
              "      <th>5</th>\n",
              "      <td>China</td>\n",
              "      <td>2000.0</td>\n",
              "      <td>213766.0</td>\n",
              "      <td>1.280429e+09</td>\n",
              "      <td>2000/01/01</td>\n",
              "      <td>2000-01-01</td>\n",
              "      <td>NaN</td>\n",
              "    </tr>\n",
              "    <tr>\n",
              "      <th>6</th>\n",
              "      <td>Spain</td>\n",
              "      <td>NaN</td>\n",
              "      <td>NaN</td>\n",
              "      <td>NaN</td>\n",
              "      <td>NaN</td>\n",
              "      <td>NaT</td>\n",
              "      <td>Madrid</td>\n",
              "    </tr>\n",
              "  </tbody>\n",
              "</table>\n",
              "</div>"
            ],
            "text/plain": [
              "       Country    Year     Cases    Population    Date_str       Date   Capital\n",
              "0  Afghanistan  1999.0     745.0  1.998707e+07  1999/01/01 1999-01-01     Kabul\n",
              "1  Afghanistan  2000.0     266.0  2.059536e+07  2000/01/01 2000-01-01     Kabul\n",
              "2       Brazil  1999.0   37737.0  1.720064e+08  1999/01/01 1999-01-01  Brasilia\n",
              "3       Brazil  2000.0   80488.0  1.745049e+08  2000/01/01 2000-01-01  Brasilia\n",
              "4        China  1999.0  212258.0  1.272915e+09  1999/01/01 1999-01-01       NaN\n",
              "5        China  2000.0  213766.0  1.280429e+09  2000/01/01 2000-01-01       NaN\n",
              "6        Spain     NaN       NaN           NaN         NaN        NaT    Madrid"
            ]
          },
          "metadata": {
            "tags": []
          },
          "execution_count": 199
        }
      ]
    },
    {
      "cell_type": "code",
      "metadata": {
        "id": "niGQ4sy17mbH",
        "colab_type": "code",
        "colab": {
          "base_uri": "https://localhost:8080/",
          "height": 196
        },
        "outputId": "fdd1c629-c8eb-438d-8791-a69904783277"
      },
      "source": [
        "pd.merge(df, df_capitals, on =\"Country\", how = \"right\")"
      ],
      "execution_count": 200,
      "outputs": [
        {
          "output_type": "execute_result",
          "data": {
            "text/html": [
              "<div>\n",
              "<style scoped>\n",
              "    .dataframe tbody tr th:only-of-type {\n",
              "        vertical-align: middle;\n",
              "    }\n",
              "\n",
              "    .dataframe tbody tr th {\n",
              "        vertical-align: top;\n",
              "    }\n",
              "\n",
              "    .dataframe thead th {\n",
              "        text-align: right;\n",
              "    }\n",
              "</style>\n",
              "<table border=\"1\" class=\"dataframe\">\n",
              "  <thead>\n",
              "    <tr style=\"text-align: right;\">\n",
              "      <th></th>\n",
              "      <th>Country</th>\n",
              "      <th>Year</th>\n",
              "      <th>Cases</th>\n",
              "      <th>Population</th>\n",
              "      <th>Date_str</th>\n",
              "      <th>Date</th>\n",
              "      <th>Capital</th>\n",
              "    </tr>\n",
              "  </thead>\n",
              "  <tbody>\n",
              "    <tr>\n",
              "      <th>0</th>\n",
              "      <td>Afghanistan</td>\n",
              "      <td>1999.0</td>\n",
              "      <td>745.0</td>\n",
              "      <td>19987071.0</td>\n",
              "      <td>1999/01/01</td>\n",
              "      <td>1999-01-01</td>\n",
              "      <td>Kabul</td>\n",
              "    </tr>\n",
              "    <tr>\n",
              "      <th>1</th>\n",
              "      <td>Afghanistan</td>\n",
              "      <td>2000.0</td>\n",
              "      <td>266.0</td>\n",
              "      <td>20595360.0</td>\n",
              "      <td>2000/01/01</td>\n",
              "      <td>2000-01-01</td>\n",
              "      <td>Kabul</td>\n",
              "    </tr>\n",
              "    <tr>\n",
              "      <th>2</th>\n",
              "      <td>Brazil</td>\n",
              "      <td>1999.0</td>\n",
              "      <td>37737.0</td>\n",
              "      <td>172006362.0</td>\n",
              "      <td>1999/01/01</td>\n",
              "      <td>1999-01-01</td>\n",
              "      <td>Brasilia</td>\n",
              "    </tr>\n",
              "    <tr>\n",
              "      <th>3</th>\n",
              "      <td>Brazil</td>\n",
              "      <td>2000.0</td>\n",
              "      <td>80488.0</td>\n",
              "      <td>174504898.0</td>\n",
              "      <td>2000/01/01</td>\n",
              "      <td>2000-01-01</td>\n",
              "      <td>Brasilia</td>\n",
              "    </tr>\n",
              "    <tr>\n",
              "      <th>4</th>\n",
              "      <td>Spain</td>\n",
              "      <td>NaN</td>\n",
              "      <td>NaN</td>\n",
              "      <td>NaN</td>\n",
              "      <td>NaN</td>\n",
              "      <td>NaT</td>\n",
              "      <td>Madrid</td>\n",
              "    </tr>\n",
              "  </tbody>\n",
              "</table>\n",
              "</div>"
            ],
            "text/plain": [
              "       Country    Year    Cases   Population    Date_str       Date   Capital\n",
              "0  Afghanistan  1999.0    745.0   19987071.0  1999/01/01 1999-01-01     Kabul\n",
              "1  Afghanistan  2000.0    266.0   20595360.0  2000/01/01 2000-01-01     Kabul\n",
              "2       Brazil  1999.0  37737.0  172006362.0  1999/01/01 1999-01-01  Brasilia\n",
              "3       Brazil  2000.0  80488.0  174504898.0  2000/01/01 2000-01-01  Brasilia\n",
              "4        Spain     NaN      NaN          NaN         NaN        NaT    Madrid"
            ]
          },
          "metadata": {
            "tags": []
          },
          "execution_count": 200
        }
      ]
    },
    {
      "cell_type": "code",
      "metadata": {
        "id": "pcgN-Fzi7oNZ",
        "colab_type": "code",
        "colab": {
          "base_uri": "https://localhost:8080/",
          "height": 226
        },
        "outputId": "b178b235-3723-4f7a-ddb9-ce3a105f1b32"
      },
      "source": [
        "pd.merge(df, df_capitals, on =\"Country\", how = \"left\")"
      ],
      "execution_count": 201,
      "outputs": [
        {
          "output_type": "execute_result",
          "data": {
            "text/html": [
              "<div>\n",
              "<style scoped>\n",
              "    .dataframe tbody tr th:only-of-type {\n",
              "        vertical-align: middle;\n",
              "    }\n",
              "\n",
              "    .dataframe tbody tr th {\n",
              "        vertical-align: top;\n",
              "    }\n",
              "\n",
              "    .dataframe thead th {\n",
              "        text-align: right;\n",
              "    }\n",
              "</style>\n",
              "<table border=\"1\" class=\"dataframe\">\n",
              "  <thead>\n",
              "    <tr style=\"text-align: right;\">\n",
              "      <th></th>\n",
              "      <th>Country</th>\n",
              "      <th>Year</th>\n",
              "      <th>Cases</th>\n",
              "      <th>Population</th>\n",
              "      <th>Date_str</th>\n",
              "      <th>Date</th>\n",
              "      <th>Capital</th>\n",
              "    </tr>\n",
              "  </thead>\n",
              "  <tbody>\n",
              "    <tr>\n",
              "      <th>0</th>\n",
              "      <td>Afghanistan</td>\n",
              "      <td>1999</td>\n",
              "      <td>745</td>\n",
              "      <td>19987071</td>\n",
              "      <td>1999/01/01</td>\n",
              "      <td>1999-01-01</td>\n",
              "      <td>Kabul</td>\n",
              "    </tr>\n",
              "    <tr>\n",
              "      <th>1</th>\n",
              "      <td>Afghanistan</td>\n",
              "      <td>2000</td>\n",
              "      <td>266</td>\n",
              "      <td>20595360</td>\n",
              "      <td>2000/01/01</td>\n",
              "      <td>2000-01-01</td>\n",
              "      <td>Kabul</td>\n",
              "    </tr>\n",
              "    <tr>\n",
              "      <th>2</th>\n",
              "      <td>Brazil</td>\n",
              "      <td>1999</td>\n",
              "      <td>37737</td>\n",
              "      <td>172006362</td>\n",
              "      <td>1999/01/01</td>\n",
              "      <td>1999-01-01</td>\n",
              "      <td>Brasilia</td>\n",
              "    </tr>\n",
              "    <tr>\n",
              "      <th>3</th>\n",
              "      <td>Brazil</td>\n",
              "      <td>2000</td>\n",
              "      <td>80488</td>\n",
              "      <td>174504898</td>\n",
              "      <td>2000/01/01</td>\n",
              "      <td>2000-01-01</td>\n",
              "      <td>Brasilia</td>\n",
              "    </tr>\n",
              "    <tr>\n",
              "      <th>4</th>\n",
              "      <td>China</td>\n",
              "      <td>1999</td>\n",
              "      <td>212258</td>\n",
              "      <td>1272915272</td>\n",
              "      <td>1999/01/01</td>\n",
              "      <td>1999-01-01</td>\n",
              "      <td>NaN</td>\n",
              "    </tr>\n",
              "    <tr>\n",
              "      <th>5</th>\n",
              "      <td>China</td>\n",
              "      <td>2000</td>\n",
              "      <td>213766</td>\n",
              "      <td>1280428583</td>\n",
              "      <td>2000/01/01</td>\n",
              "      <td>2000-01-01</td>\n",
              "      <td>NaN</td>\n",
              "    </tr>\n",
              "  </tbody>\n",
              "</table>\n",
              "</div>"
            ],
            "text/plain": [
              "       Country  Year   Cases  Population    Date_str       Date   Capital\n",
              "0  Afghanistan  1999     745    19987071  1999/01/01 1999-01-01     Kabul\n",
              "1  Afghanistan  2000     266    20595360  2000/01/01 2000-01-01     Kabul\n",
              "2       Brazil  1999   37737   172006362  1999/01/01 1999-01-01  Brasilia\n",
              "3       Brazil  2000   80488   174504898  2000/01/01 2000-01-01  Brasilia\n",
              "4        China  1999  212258  1272915272  1999/01/01 1999-01-01       NaN\n",
              "5        China  2000  213766  1280428583  2000/01/01 2000-01-01       NaN"
            ]
          },
          "metadata": {
            "tags": []
          },
          "execution_count": 201
        }
      ]
    },
    {
      "cell_type": "markdown",
      "metadata": {
        "id": "GLvORS1u7qHb",
        "colab_type": "text"
      },
      "source": [
        "## Elimination of duplicate rows\n",
        "- The `drop_duplicate()` function allows you to remove\n",
        "duplicate records from a DataFrame"
      ]
    },
    {
      "cell_type": "code",
      "metadata": {
        "id": "0qjCCV0t7yaR",
        "colab_type": "code",
        "colab": {
          "base_uri": "https://localhost:8080/",
          "height": 226
        },
        "outputId": "394ee598-924b-43b5-db6d-6b69b621f023"
      },
      "source": [
        "df[[\"Country\"]]"
      ],
      "execution_count": 202,
      "outputs": [
        {
          "output_type": "execute_result",
          "data": {
            "text/html": [
              "<div>\n",
              "<style scoped>\n",
              "    .dataframe tbody tr th:only-of-type {\n",
              "        vertical-align: middle;\n",
              "    }\n",
              "\n",
              "    .dataframe tbody tr th {\n",
              "        vertical-align: top;\n",
              "    }\n",
              "\n",
              "    .dataframe thead th {\n",
              "        text-align: right;\n",
              "    }\n",
              "</style>\n",
              "<table border=\"1\" class=\"dataframe\">\n",
              "  <thead>\n",
              "    <tr style=\"text-align: right;\">\n",
              "      <th></th>\n",
              "      <th>Country</th>\n",
              "    </tr>\n",
              "  </thead>\n",
              "  <tbody>\n",
              "    <tr>\n",
              "      <th>0</th>\n",
              "      <td>Afghanistan</td>\n",
              "    </tr>\n",
              "    <tr>\n",
              "      <th>1</th>\n",
              "      <td>Afghanistan</td>\n",
              "    </tr>\n",
              "    <tr>\n",
              "      <th>2</th>\n",
              "      <td>Brazil</td>\n",
              "    </tr>\n",
              "    <tr>\n",
              "      <th>3</th>\n",
              "      <td>Brazil</td>\n",
              "    </tr>\n",
              "    <tr>\n",
              "      <th>4</th>\n",
              "      <td>China</td>\n",
              "    </tr>\n",
              "    <tr>\n",
              "      <th>5</th>\n",
              "      <td>China</td>\n",
              "    </tr>\n",
              "  </tbody>\n",
              "</table>\n",
              "</div>"
            ],
            "text/plain": [
              "       Country\n",
              "0  Afghanistan\n",
              "1  Afghanistan\n",
              "2       Brazil\n",
              "3       Brazil\n",
              "4        China\n",
              "5        China"
            ]
          },
          "metadata": {
            "tags": []
          },
          "execution_count": 202
        }
      ]
    },
    {
      "cell_type": "code",
      "metadata": {
        "id": "WLS72S9c70QH",
        "colab_type": "code",
        "colab": {
          "base_uri": "https://localhost:8080/",
          "height": 137
        },
        "outputId": "a8cea002-cc72-4d47-ff44-28b18e85add1"
      },
      "source": [
        "df[[\"Country\"]].drop_duplicates()"
      ],
      "execution_count": 203,
      "outputs": [
        {
          "output_type": "execute_result",
          "data": {
            "text/html": [
              "<div>\n",
              "<style scoped>\n",
              "    .dataframe tbody tr th:only-of-type {\n",
              "        vertical-align: middle;\n",
              "    }\n",
              "\n",
              "    .dataframe tbody tr th {\n",
              "        vertical-align: top;\n",
              "    }\n",
              "\n",
              "    .dataframe thead th {\n",
              "        text-align: right;\n",
              "    }\n",
              "</style>\n",
              "<table border=\"1\" class=\"dataframe\">\n",
              "  <thead>\n",
              "    <tr style=\"text-align: right;\">\n",
              "      <th></th>\n",
              "      <th>Country</th>\n",
              "    </tr>\n",
              "  </thead>\n",
              "  <tbody>\n",
              "    <tr>\n",
              "      <th>0</th>\n",
              "      <td>Afghanistan</td>\n",
              "    </tr>\n",
              "    <tr>\n",
              "      <th>2</th>\n",
              "      <td>Brazil</td>\n",
              "    </tr>\n",
              "    <tr>\n",
              "      <th>4</th>\n",
              "      <td>China</td>\n",
              "    </tr>\n",
              "  </tbody>\n",
              "</table>\n",
              "</div>"
            ],
            "text/plain": [
              "       Country\n",
              "0  Afghanistan\n",
              "2       Brazil\n",
              "4        China"
            ]
          },
          "metadata": {
            "tags": []
          },
          "execution_count": 203
        }
      ]
    },
    {
      "cell_type": "markdown",
      "metadata": {
        "id": "y8Jrq-HE73a2",
        "colab_type": "text"
      },
      "source": [
        "## Exercise 39\n",
        "- Concatenate the DataFrame “liga\" so that it duplicates\n",
        "its content (by rows) and assigns it to the variable\n",
        "“liga2”\n",
        "- Display the number of rows and columns\n",
        "-  Eliminate duplicate rows and display the shape again"
      ]
    },
    {
      "cell_type": "code",
      "metadata": {
        "id": "R6rPflXH78zL",
        "colab_type": "code",
        "colab": {}
      },
      "source": [
        ""
      ],
      "execution_count": 0,
      "outputs": []
    },
    {
      "cell_type": "markdown",
      "metadata": {
        "id": "KWAqOmbG8BYW",
        "colab_type": "text"
      },
      "source": [
        "## Exercise 40\n",
        "- Create a DataFrame called “equipos\" with the content\n",
        "of the Excel file “Equipos.xlsx“\n",
        "- In the DataFrame “liga“, assign new columns with the\n",
        "province of the team and another one with its\n",
        "autonomous community (materialize the columns)"
      ]
    },
    {
      "cell_type": "code",
      "metadata": {
        "id": "S-c3KNqT8Ea5",
        "colab_type": "code",
        "colab": {}
      },
      "source": [
        ""
      ],
      "execution_count": 0,
      "outputs": []
    },
    {
      "cell_type": "markdown",
      "metadata": {
        "id": "sPzXvGqI8FH5",
        "colab_type": "text"
      },
      "source": [
        "## Pivot Tables\n",
        "- The function `pivot_table()` allows us to create a table\n",
        "where we apply a series of grouping functions in a set\n",
        "of values and categories at the same time."
      ]
    },
    {
      "cell_type": "markdown",
      "metadata": {
        "id": "pYxCTrhK8M55",
        "colab_type": "text"
      },
      "source": [
        "The simplest pivot table must have a DataFrame and\n",
        "an index"
      ]
    },
    {
      "cell_type": "code",
      "metadata": {
        "id": "aefjw3Ma8Rae",
        "colab_type": "code",
        "colab": {
          "base_uri": "https://localhost:8080/",
          "height": 166
        },
        "outputId": "405d3daf-fabb-4559-ec9f-4f88cb70df8b"
      },
      "source": [
        "df.pivot_table(\n",
        "    index = \"Country\"\n",
        ")"
      ],
      "execution_count": 205,
      "outputs": [
        {
          "output_type": "execute_result",
          "data": {
            "text/html": [
              "<div>\n",
              "<style scoped>\n",
              "    .dataframe tbody tr th:only-of-type {\n",
              "        vertical-align: middle;\n",
              "    }\n",
              "\n",
              "    .dataframe tbody tr th {\n",
              "        vertical-align: top;\n",
              "    }\n",
              "\n",
              "    .dataframe thead th {\n",
              "        text-align: right;\n",
              "    }\n",
              "</style>\n",
              "<table border=\"1\" class=\"dataframe\">\n",
              "  <thead>\n",
              "    <tr style=\"text-align: right;\">\n",
              "      <th></th>\n",
              "      <th>Cases</th>\n",
              "      <th>Population</th>\n",
              "      <th>Year</th>\n",
              "    </tr>\n",
              "    <tr>\n",
              "      <th>Country</th>\n",
              "      <th></th>\n",
              "      <th></th>\n",
              "      <th></th>\n",
              "    </tr>\n",
              "  </thead>\n",
              "  <tbody>\n",
              "    <tr>\n",
              "      <th>Afghanistan</th>\n",
              "      <td>505.5</td>\n",
              "      <td>2.029122e+07</td>\n",
              "      <td>1999.5</td>\n",
              "    </tr>\n",
              "    <tr>\n",
              "      <th>Brazil</th>\n",
              "      <td>59112.5</td>\n",
              "      <td>1.732556e+08</td>\n",
              "      <td>1999.5</td>\n",
              "    </tr>\n",
              "    <tr>\n",
              "      <th>China</th>\n",
              "      <td>213012.0</td>\n",
              "      <td>1.276672e+09</td>\n",
              "      <td>1999.5</td>\n",
              "    </tr>\n",
              "  </tbody>\n",
              "</table>\n",
              "</div>"
            ],
            "text/plain": [
              "                Cases    Population    Year\n",
              "Country                                    \n",
              "Afghanistan     505.5  2.029122e+07  1999.5\n",
              "Brazil        59112.5  1.732556e+08  1999.5\n",
              "China        213012.0  1.276672e+09  1999.5"
            ]
          },
          "metadata": {
            "tags": []
          },
          "execution_count": 205
        }
      ]
    },
    {
      "cell_type": "code",
      "metadata": {
        "id": "7zQBrvRQ8Ucr",
        "colab_type": "code",
        "colab": {
          "base_uri": "https://localhost:8080/",
          "height": 256
        },
        "outputId": "6bfcf9b2-971f-4b5e-c800-222adfbc42e1"
      },
      "source": [
        "df.pivot_table(\n",
        "    index = [\"Year\", \"Country\"]\n",
        ")"
      ],
      "execution_count": 207,
      "outputs": [
        {
          "output_type": "execute_result",
          "data": {
            "text/html": [
              "<div>\n",
              "<style scoped>\n",
              "    .dataframe tbody tr th:only-of-type {\n",
              "        vertical-align: middle;\n",
              "    }\n",
              "\n",
              "    .dataframe tbody tr th {\n",
              "        vertical-align: top;\n",
              "    }\n",
              "\n",
              "    .dataframe thead th {\n",
              "        text-align: right;\n",
              "    }\n",
              "</style>\n",
              "<table border=\"1\" class=\"dataframe\">\n",
              "  <thead>\n",
              "    <tr style=\"text-align: right;\">\n",
              "      <th></th>\n",
              "      <th></th>\n",
              "      <th>Cases</th>\n",
              "      <th>Population</th>\n",
              "    </tr>\n",
              "    <tr>\n",
              "      <th>Year</th>\n",
              "      <th>Country</th>\n",
              "      <th></th>\n",
              "      <th></th>\n",
              "    </tr>\n",
              "  </thead>\n",
              "  <tbody>\n",
              "    <tr>\n",
              "      <th rowspan=\"3\" valign=\"top\">1999</th>\n",
              "      <th>Afghanistan</th>\n",
              "      <td>745</td>\n",
              "      <td>19987071</td>\n",
              "    </tr>\n",
              "    <tr>\n",
              "      <th>Brazil</th>\n",
              "      <td>37737</td>\n",
              "      <td>172006362</td>\n",
              "    </tr>\n",
              "    <tr>\n",
              "      <th>China</th>\n",
              "      <td>212258</td>\n",
              "      <td>1272915272</td>\n",
              "    </tr>\n",
              "    <tr>\n",
              "      <th rowspan=\"3\" valign=\"top\">2000</th>\n",
              "      <th>Afghanistan</th>\n",
              "      <td>266</td>\n",
              "      <td>20595360</td>\n",
              "    </tr>\n",
              "    <tr>\n",
              "      <th>Brazil</th>\n",
              "      <td>80488</td>\n",
              "      <td>174504898</td>\n",
              "    </tr>\n",
              "    <tr>\n",
              "      <th>China</th>\n",
              "      <td>213766</td>\n",
              "      <td>1280428583</td>\n",
              "    </tr>\n",
              "  </tbody>\n",
              "</table>\n",
              "</div>"
            ],
            "text/plain": [
              "                   Cases  Population\n",
              "Year Country                        \n",
              "1999 Afghanistan     745    19987071\n",
              "     Brazil        37737   172006362\n",
              "     China        212258  1272915272\n",
              "2000 Afghanistan     266    20595360\n",
              "     Brazil        80488   174504898\n",
              "     China        213766  1280428583"
            ]
          },
          "metadata": {
            "tags": []
          },
          "execution_count": 207
        }
      ]
    },
    {
      "cell_type": "markdown",
      "metadata": {
        "id": "6OJGiGK88YXv",
        "colab_type": "text"
      },
      "source": [
        "`pivot_table` shows all the numerical values, but it can\n",
        "be filtered with values parameter"
      ]
    },
    {
      "cell_type": "code",
      "metadata": {
        "id": "S_yBkLwg8f1i",
        "colab_type": "code",
        "colab": {
          "base_uri": "https://localhost:8080/",
          "height": 166
        },
        "outputId": "7b9d3654-ba3c-4074-ce26-a396450b86a3"
      },
      "source": [
        "df.pivot_table(\n",
        "    index =\"Country\"\n",
        ")"
      ],
      "execution_count": 209,
      "outputs": [
        {
          "output_type": "execute_result",
          "data": {
            "text/html": [
              "<div>\n",
              "<style scoped>\n",
              "    .dataframe tbody tr th:only-of-type {\n",
              "        vertical-align: middle;\n",
              "    }\n",
              "\n",
              "    .dataframe tbody tr th {\n",
              "        vertical-align: top;\n",
              "    }\n",
              "\n",
              "    .dataframe thead th {\n",
              "        text-align: right;\n",
              "    }\n",
              "</style>\n",
              "<table border=\"1\" class=\"dataframe\">\n",
              "  <thead>\n",
              "    <tr style=\"text-align: right;\">\n",
              "      <th></th>\n",
              "      <th>Cases</th>\n",
              "      <th>Population</th>\n",
              "      <th>Year</th>\n",
              "    </tr>\n",
              "    <tr>\n",
              "      <th>Country</th>\n",
              "      <th></th>\n",
              "      <th></th>\n",
              "      <th></th>\n",
              "    </tr>\n",
              "  </thead>\n",
              "  <tbody>\n",
              "    <tr>\n",
              "      <th>Afghanistan</th>\n",
              "      <td>505.5</td>\n",
              "      <td>2.029122e+07</td>\n",
              "      <td>1999.5</td>\n",
              "    </tr>\n",
              "    <tr>\n",
              "      <th>Brazil</th>\n",
              "      <td>59112.5</td>\n",
              "      <td>1.732556e+08</td>\n",
              "      <td>1999.5</td>\n",
              "    </tr>\n",
              "    <tr>\n",
              "      <th>China</th>\n",
              "      <td>213012.0</td>\n",
              "      <td>1.276672e+09</td>\n",
              "      <td>1999.5</td>\n",
              "    </tr>\n",
              "  </tbody>\n",
              "</table>\n",
              "</div>"
            ],
            "text/plain": [
              "                Cases    Population    Year\n",
              "Country                                    \n",
              "Afghanistan     505.5  2.029122e+07  1999.5\n",
              "Brazil        59112.5  1.732556e+08  1999.5\n",
              "China        213012.0  1.276672e+09  1999.5"
            ]
          },
          "metadata": {
            "tags": []
          },
          "execution_count": 209
        }
      ]
    },
    {
      "cell_type": "code",
      "metadata": {
        "id": "8QhOR6BT8iX7",
        "colab_type": "code",
        "colab": {
          "base_uri": "https://localhost:8080/",
          "height": 166
        },
        "outputId": "b94ed1e2-0d0c-43d9-fd87-4d3e348e8003"
      },
      "source": [
        "df.pivot_table(\n",
        "    index =\"Country\",\n",
        "    values =\"Cases\"\n",
        ")"
      ],
      "execution_count": 210,
      "outputs": [
        {
          "output_type": "execute_result",
          "data": {
            "text/html": [
              "<div>\n",
              "<style scoped>\n",
              "    .dataframe tbody tr th:only-of-type {\n",
              "        vertical-align: middle;\n",
              "    }\n",
              "\n",
              "    .dataframe tbody tr th {\n",
              "        vertical-align: top;\n",
              "    }\n",
              "\n",
              "    .dataframe thead th {\n",
              "        text-align: right;\n",
              "    }\n",
              "</style>\n",
              "<table border=\"1\" class=\"dataframe\">\n",
              "  <thead>\n",
              "    <tr style=\"text-align: right;\">\n",
              "      <th></th>\n",
              "      <th>Cases</th>\n",
              "    </tr>\n",
              "    <tr>\n",
              "      <th>Country</th>\n",
              "      <th></th>\n",
              "    </tr>\n",
              "  </thead>\n",
              "  <tbody>\n",
              "    <tr>\n",
              "      <th>Afghanistan</th>\n",
              "      <td>505.5</td>\n",
              "    </tr>\n",
              "    <tr>\n",
              "      <th>Brazil</th>\n",
              "      <td>59112.5</td>\n",
              "    </tr>\n",
              "    <tr>\n",
              "      <th>China</th>\n",
              "      <td>213012.0</td>\n",
              "    </tr>\n",
              "  </tbody>\n",
              "</table>\n",
              "</div>"
            ],
            "text/plain": [
              "                Cases\n",
              "Country              \n",
              "Afghanistan     505.5\n",
              "Brazil        59112.5\n",
              "China        213012.0"
            ]
          },
          "metadata": {
            "tags": []
          },
          "execution_count": 210
        }
      ]
    },
    {
      "cell_type": "markdown",
      "metadata": {
        "id": "TIDhA7Dr8nIW",
        "colab_type": "text"
      },
      "source": [
        "By default, pivot_table uses the mean as aggregate\n",
        "function. It can be changed with the aggfunc\n",
        "parameter"
      ]
    },
    {
      "cell_type": "code",
      "metadata": {
        "id": "JBAki-TS8q_R",
        "colab_type": "code",
        "colab": {
          "base_uri": "https://localhost:8080/",
          "height": 166
        },
        "outputId": "c2f50701-2e3b-45be-93ba-1b520a2af5cd"
      },
      "source": [
        "df.pivot_table(\n",
        "    index =[\"Country\"],\n",
        "    values =[\"Cases\"]\n",
        ")"
      ],
      "execution_count": 211,
      "outputs": [
        {
          "output_type": "execute_result",
          "data": {
            "text/html": [
              "<div>\n",
              "<style scoped>\n",
              "    .dataframe tbody tr th:only-of-type {\n",
              "        vertical-align: middle;\n",
              "    }\n",
              "\n",
              "    .dataframe tbody tr th {\n",
              "        vertical-align: top;\n",
              "    }\n",
              "\n",
              "    .dataframe thead th {\n",
              "        text-align: right;\n",
              "    }\n",
              "</style>\n",
              "<table border=\"1\" class=\"dataframe\">\n",
              "  <thead>\n",
              "    <tr style=\"text-align: right;\">\n",
              "      <th></th>\n",
              "      <th>Cases</th>\n",
              "    </tr>\n",
              "    <tr>\n",
              "      <th>Country</th>\n",
              "      <th></th>\n",
              "    </tr>\n",
              "  </thead>\n",
              "  <tbody>\n",
              "    <tr>\n",
              "      <th>Afghanistan</th>\n",
              "      <td>505.5</td>\n",
              "    </tr>\n",
              "    <tr>\n",
              "      <th>Brazil</th>\n",
              "      <td>59112.5</td>\n",
              "    </tr>\n",
              "    <tr>\n",
              "      <th>China</th>\n",
              "      <td>213012.0</td>\n",
              "    </tr>\n",
              "  </tbody>\n",
              "</table>\n",
              "</div>"
            ],
            "text/plain": [
              "                Cases\n",
              "Country              \n",
              "Afghanistan     505.5\n",
              "Brazil        59112.5\n",
              "China        213012.0"
            ]
          },
          "metadata": {
            "tags": []
          },
          "execution_count": 211
        }
      ]
    },
    {
      "cell_type": "code",
      "metadata": {
        "id": "i9t8ZDOF8ykI",
        "colab_type": "code",
        "colab": {
          "base_uri": "https://localhost:8080/",
          "height": 166
        },
        "outputId": "1ed56e1a-5255-4090-ea78-c4cf11d4f1be"
      },
      "source": [
        "df.pivot_table(\n",
        "    index =\"Country\",\n",
        "    values =\"Cases\",\n",
        "    aggfunc =\"sum\"\n",
        ")"
      ],
      "execution_count": 212,
      "outputs": [
        {
          "output_type": "execute_result",
          "data": {
            "text/html": [
              "<div>\n",
              "<style scoped>\n",
              "    .dataframe tbody tr th:only-of-type {\n",
              "        vertical-align: middle;\n",
              "    }\n",
              "\n",
              "    .dataframe tbody tr th {\n",
              "        vertical-align: top;\n",
              "    }\n",
              "\n",
              "    .dataframe thead th {\n",
              "        text-align: right;\n",
              "    }\n",
              "</style>\n",
              "<table border=\"1\" class=\"dataframe\">\n",
              "  <thead>\n",
              "    <tr style=\"text-align: right;\">\n",
              "      <th></th>\n",
              "      <th>Cases</th>\n",
              "    </tr>\n",
              "    <tr>\n",
              "      <th>Country</th>\n",
              "      <th></th>\n",
              "    </tr>\n",
              "  </thead>\n",
              "  <tbody>\n",
              "    <tr>\n",
              "      <th>Afghanistan</th>\n",
              "      <td>1011</td>\n",
              "    </tr>\n",
              "    <tr>\n",
              "      <th>Brazil</th>\n",
              "      <td>118225</td>\n",
              "    </tr>\n",
              "    <tr>\n",
              "      <th>China</th>\n",
              "      <td>426024</td>\n",
              "    </tr>\n",
              "  </tbody>\n",
              "</table>\n",
              "</div>"
            ],
            "text/plain": [
              "              Cases\n",
              "Country            \n",
              "Afghanistan    1011\n",
              "Brazil       118225\n",
              "China        426024"
            ]
          },
          "metadata": {
            "tags": []
          },
          "execution_count": 212
        }
      ]
    },
    {
      "cell_type": "markdown",
      "metadata": {
        "id": "-S-UeSTs87h9",
        "colab_type": "text"
      },
      "source": [
        "You can use a list of aggregate funcions instead a single\n",
        "value"
      ]
    },
    {
      "cell_type": "code",
      "metadata": {
        "id": "vKO3oguM8_AQ",
        "colab_type": "code",
        "colab": {
          "base_uri": "https://localhost:8080/",
          "height": 196
        },
        "outputId": "f442ebde-1fe3-41fb-f864-c8846e410490"
      },
      "source": [
        "df.pivot_table(\n",
        "    index = \"Country\",\n",
        "    values=\"Cases\",\n",
        "    aggfunc=[np.sum,\"mean\"]\n",
        ")"
      ],
      "execution_count": 213,
      "outputs": [
        {
          "output_type": "execute_result",
          "data": {
            "text/html": [
              "<div>\n",
              "<style scoped>\n",
              "    .dataframe tbody tr th:only-of-type {\n",
              "        vertical-align: middle;\n",
              "    }\n",
              "\n",
              "    .dataframe tbody tr th {\n",
              "        vertical-align: top;\n",
              "    }\n",
              "\n",
              "    .dataframe thead tr th {\n",
              "        text-align: left;\n",
              "    }\n",
              "\n",
              "    .dataframe thead tr:last-of-type th {\n",
              "        text-align: right;\n",
              "    }\n",
              "</style>\n",
              "<table border=\"1\" class=\"dataframe\">\n",
              "  <thead>\n",
              "    <tr>\n",
              "      <th></th>\n",
              "      <th>sum</th>\n",
              "      <th>mean</th>\n",
              "    </tr>\n",
              "    <tr>\n",
              "      <th></th>\n",
              "      <th>Cases</th>\n",
              "      <th>Cases</th>\n",
              "    </tr>\n",
              "    <tr>\n",
              "      <th>Country</th>\n",
              "      <th></th>\n",
              "      <th></th>\n",
              "    </tr>\n",
              "  </thead>\n",
              "  <tbody>\n",
              "    <tr>\n",
              "      <th>Afghanistan</th>\n",
              "      <td>1011</td>\n",
              "      <td>505.5</td>\n",
              "    </tr>\n",
              "    <tr>\n",
              "      <th>Brazil</th>\n",
              "      <td>118225</td>\n",
              "      <td>59112.5</td>\n",
              "    </tr>\n",
              "    <tr>\n",
              "      <th>China</th>\n",
              "      <td>426024</td>\n",
              "      <td>213012.0</td>\n",
              "    </tr>\n",
              "  </tbody>\n",
              "</table>\n",
              "</div>"
            ],
            "text/plain": [
              "                sum      mean\n",
              "              Cases     Cases\n",
              "Country                      \n",
              "Afghanistan    1011     505.5\n",
              "Brazil       118225   59112.5\n",
              "China        426024  213012.0"
            ]
          },
          "metadata": {
            "tags": []
          },
          "execution_count": 213
        }
      ]
    },
    {
      "cell_type": "markdown",
      "metadata": {
        "id": "3aT9Or_B9Gn1",
        "colab_type": "text"
      },
      "source": [
        "The columns parameter provide an additional way to\n",
        "segment the actual values you care about."
      ]
    },
    {
      "cell_type": "code",
      "metadata": {
        "id": "6AkKe1_u9LaL",
        "colab_type": "code",
        "colab": {
          "base_uri": "https://localhost:8080/",
          "height": 166
        },
        "outputId": "ce23c316-7687-43a2-f170-47b5f6c6bac5"
      },
      "source": [
        "df.pivot_table(\n",
        "    index = \"Country\",\n",
        "    values=\"Cases\",\n",
        "    aggfunc=np.sum\n",
        ")"
      ],
      "execution_count": 214,
      "outputs": [
        {
          "output_type": "execute_result",
          "data": {
            "text/html": [
              "<div>\n",
              "<style scoped>\n",
              "    .dataframe tbody tr th:only-of-type {\n",
              "        vertical-align: middle;\n",
              "    }\n",
              "\n",
              "    .dataframe tbody tr th {\n",
              "        vertical-align: top;\n",
              "    }\n",
              "\n",
              "    .dataframe thead th {\n",
              "        text-align: right;\n",
              "    }\n",
              "</style>\n",
              "<table border=\"1\" class=\"dataframe\">\n",
              "  <thead>\n",
              "    <tr style=\"text-align: right;\">\n",
              "      <th></th>\n",
              "      <th>Cases</th>\n",
              "    </tr>\n",
              "    <tr>\n",
              "      <th>Country</th>\n",
              "      <th></th>\n",
              "    </tr>\n",
              "  </thead>\n",
              "  <tbody>\n",
              "    <tr>\n",
              "      <th>Afghanistan</th>\n",
              "      <td>1011</td>\n",
              "    </tr>\n",
              "    <tr>\n",
              "      <th>Brazil</th>\n",
              "      <td>118225</td>\n",
              "    </tr>\n",
              "    <tr>\n",
              "      <th>China</th>\n",
              "      <td>426024</td>\n",
              "    </tr>\n",
              "  </tbody>\n",
              "</table>\n",
              "</div>"
            ],
            "text/plain": [
              "              Cases\n",
              "Country            \n",
              "Afghanistan    1011\n",
              "Brazil       118225\n",
              "China        426024"
            ]
          },
          "metadata": {
            "tags": []
          },
          "execution_count": 214
        }
      ]
    },
    {
      "cell_type": "markdown",
      "metadata": {
        "id": "ib7u_JWg9N3E",
        "colab_type": "text"
      },
      "source": [
        "## Exercise 41\n",
        "- About the DataFrame “liga\",\n",
        "- Create a pivot table with the average points per autonomous community\n",
        "- Sort the result from highest to lowest"
      ]
    },
    {
      "cell_type": "code",
      "metadata": {
        "id": "EGHi2rHo9T5W",
        "colab_type": "code",
        "colab": {}
      },
      "source": [
        ""
      ],
      "execution_count": 0,
      "outputs": []
    },
    {
      "cell_type": "markdown",
      "metadata": {
        "id": "Xh2tA8nX9V9g",
        "colab_type": "text"
      },
      "source": [
        "\n",
        "## Exercise 42\n",
        "- Create a pivot table with the average of “Puntos” and “DiferenciaGoles” by autonomous community and province"
      ]
    },
    {
      "cell_type": "code",
      "metadata": {
        "id": "pbmAg1Th9aWY",
        "colab_type": "code",
        "colab": {}
      },
      "source": [
        ""
      ],
      "execution_count": 0,
      "outputs": []
    },
    {
      "cell_type": "markdown",
      "metadata": {
        "id": "kaBgxSxj9cpB",
        "colab_type": "text"
      },
      "source": [
        "## Exercise 43\n",
        "- Create a pivot table comparing the “Zona” and the\n",
        "autonomous community, where the average points are\n",
        "shown, using a fill value of 0 (fill_value)"
      ]
    },
    {
      "cell_type": "code",
      "metadata": {
        "id": "_VN00tbi9gsV",
        "colab_type": "code",
        "colab": {}
      },
      "source": [
        ""
      ],
      "execution_count": 0,
      "outputs": []
    }
  ]
}
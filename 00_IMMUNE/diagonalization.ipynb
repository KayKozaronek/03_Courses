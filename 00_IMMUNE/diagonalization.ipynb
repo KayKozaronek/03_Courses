{
  "nbformat": 4,
  "nbformat_minor": 0,
  "metadata": {
    "kernelspec": {
      "display_name": "Python 3",
      "language": "python",
      "name": "python3"
    },
    "language_info": {
      "codemirror_mode": {
        "name": "ipython",
        "version": 3
      },
      "file_extension": ".py",
      "mimetype": "text/x-python",
      "name": "python",
      "nbconvert_exporter": "python",
      "pygments_lexer": "ipython3",
      "version": "3.7.3"
    },
    "colab": {
      "name": "diagonalization.ipynb",
      "provenance": [],
      "collapsed_sections": []
    }
  },
  "cells": [
    {
      "cell_type": "code",
      "metadata": {
        "id": "RpsxKhFf-Ig7",
        "colab_type": "code",
        "colab": {}
      },
      "source": [
        "import matplotlib.pyplot as plt\n",
        "import numpy as np\n",
        "import sympy\n",
        "\n",
        "def move_spines():\n",
        "    \"\"\"Crea la figura de pyplot y los ejes. Mueve las lineas de la izquierda y de abajo\n",
        "    para que se intersecten con el origen. Elimina las lineas de la derecha y la de arriba.\n",
        "    Devuelve los ejes.\"\"\"\n",
        "    fix, ax = plt.subplots()\n",
        "    for spine in [\"left\", \"bottom\"]:\n",
        "        ax.spines[spine].set_position(\"zero\")\n",
        "    \n",
        "    for spine in [\"right\", \"top\"]:\n",
        "        ax.spines[spine].set_color(\"none\")\n",
        "    \n",
        "    return ax\n",
        "\n",
        "def vect_fig(): \n",
        "    \"\"\"Genera el grafico de los vectores en el plano\"\"\"\n",
        "    ax = move_spines()\n",
        "    \n",
        "    ax.set_xlim(-5, 5)\n",
        "    ax.set_ylim(-5, 5)\n",
        "    ax.grid()\n",
        "    vecs = [[4, 2]] # lista de vectores\n",
        "    for v in vecs:\n",
        "        ax.annotate(\" \", xy=v, xytext=[0, 0],\n",
        "                   arrowprops=dict(facecolor=\"blue\",\n",
        "                                  shrink=0,\n",
        "                                  alpha=0.7,\n",
        "                                  width=0.5))\n",
        "        ax.text(1.1 * v[0], 1.1 * v[1], v)"
      ],
      "execution_count": 0,
      "outputs": []
    },
    {
      "cell_type": "markdown",
      "metadata": {
        "id": "v2utKbGy-Ig_",
        "colab_type": "text"
      },
      "source": [
        "# Norm and Orthogonality"
      ]
    },
    {
      "cell_type": "markdown",
      "metadata": {
        "id": "VOwTvFYC-Ig_",
        "colab_type": "text"
      },
      "source": [
        "If we want to know the length of a vector, all we need is the famous Pythagorean theorem. In the plane $\\mathbb{R}^2$, the length of a vector $v = (a, b)$ a to be equal to the distance from the origin $(0, 0)$ to the point $(a, b)$. This distance can be easily calculated thanks to Pythagoras' theorem and will be equal to  $\\sqrt{a^2 + b^2}$, as you can see in the following figure:"
      ]
    },
    {
      "cell_type": "code",
      "metadata": {
        "id": "6PvHtTEF-IhA",
        "colab_type": "code",
        "outputId": "31f61ab3-1a76-4afc-b9e0-69689fedad82",
        "colab": {
          "base_uri": "https://localhost:8080/",
          "height": 258
        }
      },
      "source": [
        "ax = move_spines()\n",
        "ax.set_xlim(-6, 6)\n",
        "ax.set_ylim(-6, 6)\n",
        "# ax.grid()\n",
        "v = np.array([4, 6])\n",
        "# vect_fig()\n",
        "\n",
        "# a = ax.vlines(x=v[0], ymin=0, ymax = 6, linestyle='--', color='g')"
      ],
      "execution_count": 0,
      "outputs": [
        {
          "output_type": "display_data",
          "data": {
            "image/png": "[encoded data removed]",
            "text/plain": [
              "<Figure size 432x288 with 1 Axes>"
            ]
          },
          "metadata": {
            "tags": [],
            "needs_background": "light"
          }
        }
      ]
    },
    {
      "cell_type": "markdown",
      "metadata": {
        "id": "dutCb_e2-IhD",
        "colab_type": "text"
      },
      "source": [
        "In this definition we can see that $a^2 + b^2 = v \\cdot v$, so we are already in a position to define what in Linear Algebra is known as the norm.\n",
        "\n",
        "The length or norm of a vector $v = \\begin{bmatrix} v_1 \\ v_2 \\vdots \\ v_n \\end{bmatrix}$, in $\\mathbb{R}^n$ is going to be equal to a non-negative number $||v||$ defined by:\n",
        "\n",
        "$$||v|| = \\sqrt{v \\cdot v} = \\sqrt{v_1^2 + v_2^2 + \\dots + v_n^2}$$\n",
        "\n",
        "That is, the rule of a vector will be equal to the square root of the sum of the squares of its components."
      ]
    },
    {
      "cell_type": "markdown",
      "metadata": {
        "id": "Gz_SBHmu-IhD",
        "colab_type": "text"
      },
      "source": [
        "### Orthogonality"
      ]
    },
    {
      "cell_type": "markdown",
      "metadata": {
        "id": "co-MVqnA-IhE",
        "colab_type": "text"
      },
      "source": [
        "The concept of perpendicularity is fundamental in geometry. This concept taken to the vectors in $\\mathbb{R}^n$ is called orthogonality.\n",
        "\n",
        "Two vectors $v$ and $w$ in $\\mathbb{R}^n$ will be orthogonal to each other if their inner product is zero. That is, $v \\cdot w = 0$."
      ]
    },
    {
      "cell_type": "code",
      "metadata": {
        "id": "yo7hbFfq-IhE",
        "colab_type": "code",
        "colab": {}
      },
      "source": [
        "# checking inner product\n",
        "v = np.array([4, 6])\n",
        "w = np.array([-3, 2])\n",
        "# v.dot(w)"
      ],
      "execution_count": 0,
      "outputs": []
    },
    {
      "cell_type": "markdown",
      "metadata": {
        "id": "VG3uMkXT-IhG",
        "colab_type": "text"
      },
      "source": [
        "A set of vectors in $\\mathbb{R}^n$ will be orthogonal if all the pairs of the different vectors in the set are orthogonal to each other. That is to say:\n",
        "\n",
        "$v_i \\cdot v_j = 0$ for all $i, j = 1, 2, \\dots, k$ and where $i \\ne j$.\n",
        "\n",
        "For example, if we have the following set of vectors in $\\mathbb{R}^3$:\n",
        "\n",
        "$$v1 = \\begin{bmatrix} 2 \\\\ 1 \\\\ -1 \\end{bmatrix} \\ \n",
        "v2 =\\begin{bmatrix} 0 \\\\ 1 \\\\ 1 \\end{bmatrix}\n",
        "v3 = \\begin{bmatrix} 1 \\\\ -1  \\\\ 1 \\end{bmatrix}$$\n",
        "\n",
        "In this case, we should check that:\n",
        "\n",
        "$$v1 \\cdot v2 = 0, v2 \\cdot v3 = 0, v1\\cdot v3 = 0 $$\n"
      ]
    },
    {
      "cell_type": "code",
      "metadata": {
        "id": "3rI0U-Bl-IhH",
        "colab_type": "code",
        "colab": {}
      },
      "source": [
        "v1 = np.array([2, 1, -1])\n",
        "v2 = np.array([0, 1, 1])\n",
        "v3 = np.array([1, -1, 1])\n",
        "\n",
        "# v1.dot(v2), v2.dot(v3), v1.dot(v3)"
      ],
      "execution_count": 0,
      "outputs": []
    },
    {
      "cell_type": "markdown",
      "metadata": {
        "id": "-t2WiRGS-IhJ",
        "colab_type": "text"
      },
      "source": [
        "As we can see, this set is orthogonal. One of the main advantages of working with orthogonal vector sets is that they are necessarily linearly independent.\n",
        "\n",
        "The concept of orthogonality is one of the most important and useful in linear algebra and it arises in many practical situations, especially when we want to calculate distances."
      ]
    },
    {
      "cell_type": "markdown",
      "metadata": {
        "id": "8wQG-Iq3-IhJ",
        "colab_type": "text"
      },
      "source": [
        "### Eigenvalues and eigenvectors"
      ]
    },
    {
      "cell_type": "markdown",
      "metadata": {
        "id": "EvKt9-3y-IhK",
        "colab_type": "text"
      },
      "source": [
        "When we're solving linear equations of the type $Ax = b$, we're working with static problems. But what if we wanted to work with dynamic problems? It is in this type of situation that Eigenvalues and Eigenvectors have their greatest importance.\n",
        "\n",
        "Suppose we have a $A$ square matrix of $n n$times. A natural question that we could ask ourselves about $A$ is: Is there any non-zero $x$ vector for which $Ax$ is a multiple of $x$? If we take this question to the mathematical language we will find the following equation:\n",
        "\n",
        "$$Ax = \\lambda x$$\n",
        "When this equation is valid and $x$ is not zero, we say that $\\lambda$ is the Eigenvalue or proper value of $A$ and $x$ is its corresponding Eigenvector or proper vector.\n",
        "\n",
        "Many problems in science derive in problems of Eigenvalues, in which the main question is: Which are the Eigenvalues of a given matrix, and which are their corresponding Eigenvectors. One area where this theory will be very useful is in problems with systems of linear differential equations."
      ]
    },
    {
      "cell_type": "markdown",
      "metadata": {
        "id": "JV80ioxl-IhK",
        "colab_type": "text"
      },
      "source": [
        "### Calculating eigenvalues"
      ]
    },
    {
      "cell_type": "markdown",
      "metadata": {
        "id": "wMFVGLE7-IhL",
        "colab_type": "text"
      },
      "source": [
        "So far so good, but given a $A$$\\times n$ square matrix, how can we get your Eigenvalues?.\n",
        "\n",
        "We can start by observing that the equation $Ax = \\lambda x$ is equivalent to $(A - \\lambda I)x = 0$. Since we are interested in solutions to this equation that are different from zero, the matrix $A - I$ wave must be singular, not invertible, therefore its determinant must be zero, $\\det (A - \\lambda I) = 0$. Thus, we can use this equation to find the Eigenvalues of $A$. In particular, we could form the characteristic polynomial of the $A$ matrix, which will have degree $n$ and therefore will have $n$ solutions, that is, we will find $n$ Eigenvalues. Something we must take into account is that, even though the $A$ matrix is real, we must be prepared to find Eigenvalues that are complex.\n",
        "\n",
        "To make it clearer, let's see an example of how we can calculate the Eigenvalues. Suppose we have the following matrix:\n"
      ]
    },
    {
      "cell_type": "markdown",
      "metadata": {
        "id": "u3QvvcTG-IhL",
        "colab_type": "text"
      },
      "source": [
        "$$A = \\begin{bmatrix} 3 & 2 \\\\ 7 & -2 \\end{bmatrix}$$\n",
        "Its characteristic polynomial will be equal to:"
      ]
    },
    {
      "cell_type": "markdown",
      "metadata": {
        "id": "3SfTchpK-IhL",
        "colab_type": "text"
      },
      "source": [
        "$$p(\\lambda) = \\det (A - \\lambda I) = \\det \\begin{bmatrix}3 - \\lambda & 2 \\ 7 & -2-\\lambda\\end{bmatrix} = (3 - \\lambda)(-2-\\lambda) - 14 \\ =\\lambda^2 - \\lambda - 20 = (\\lambda - 5) (\\lambda + 4)$$\n",
        "\n",
        "Therefore the $A$ Eigenvalues are going to be $5$ and -4.\n",
        "\n",
        "Obviously, we can also get them much more easily with the help of Python."
      ]
    },
    {
      "cell_type": "code",
      "metadata": {
        "id": "Fu1egOax-IhM",
        "colab_type": "code",
        "colab": {}
      },
      "source": [
        "# Eigenvalues with numpy\n",
        "A = np.array([[3, 2],\n",
        "              [7, -2]])\n",
        "\n",
        "x, v = np.linalg.eig(A)\n",
        "\n",
        "# x Eigenvalue, v Eigenvector\n",
        "# x, v"
      ],
      "execution_count": 0,
      "outputs": []
    },
    {
      "cell_type": "code",
      "metadata": {
        "id": "TBAi0RBk-IhO",
        "colab_type": "code",
        "colab": {}
      },
      "source": [
        "# Eigenvalues with SymPy\n",
        "A = sympy.Matrix([[3, 2],\n",
        "                  [7, -2]])\n",
        "\n",
        "# Eigenvalue\n",
        "#A.eigenvals()"
      ],
      "execution_count": 0,
      "outputs": []
    },
    {
      "cell_type": "code",
      "metadata": {
        "id": "lDrRgivR-IhR",
        "colab_type": "code",
        "colab": {}
      },
      "source": [
        "# Eigenvector\n",
        "#A.eigenvects()"
      ],
      "execution_count": 0,
      "outputs": []
    },
    {
      "cell_type": "code",
      "metadata": {
        "id": "uWWRvn3J-IhT",
        "colab_type": "code",
        "colab": {}
      },
      "source": [
        "# checking the solution Ax = λx\n",
        "# x eigenvector, v eigenvalue\n",
        "x = A.eigenvects()[0][2][0]\n",
        "v = A.eigenvects()[0][0]\n",
        "\n",
        "# Ax == vx\n",
        "#A*x, v*x"
      ],
      "execution_count": 0,
      "outputs": []
    },
    {
      "cell_type": "markdown",
      "metadata": {
        "id": "BnU1S-4U-IhV",
        "colab_type": "text"
      },
      "source": [
        "__Exercise 1__: Given $$A = {\\begin{bmatrix} 3 & 3 & -2 \\\\ 0 & -1 & 0 \\\\ a & b & c \\end{bmatrix}}^T$$ \n",
        "- Calculate A so that $(2, 0, -1)^T$\n",
        "is an auto-vector whose corresponding auto-value is\n",
        "$\\lambda$= -1.\n",
        "- Find the rest of the eigenvalues and eigenvectors."
      ]
    },
    {
      "cell_type": "code",
      "metadata": {
        "id": "qaShLoxV-IhW",
        "colab_type": "code",
        "colab": {}
      },
      "source": [
        ""
      ],
      "execution_count": 0,
      "outputs": []
    }
  ]
}
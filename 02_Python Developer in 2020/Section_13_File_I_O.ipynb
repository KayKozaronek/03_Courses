{
  "nbformat": 4,
  "nbformat_minor": 0,
  "metadata": {
    "colab": {
      "name": "Section 13: File I/O.ipynb",
      "provenance": [],
      "authorship_tag": "ABX9TyN6Wt8NR7KdLZn9AupQKhIr",
      "include_colab_link": true
    },
    "kernelspec": {
      "name": "python3",
      "display_name": "Python 3"
    }
  },
  "cells": [
    {
      "cell_type": "markdown",
      "metadata": {
        "id": "view-in-github",
        "colab_type": "text"
      },
      "source": [
        "<a href=\"https://colab.research.google.com/github/KayKozaronek/03_Courses/blob/master/Section_13_File_I_O.ipynb\" target=\"_parent\"><img src=\"https://colab.research.google.com/assets/colab-badge.svg\" alt=\"Open In Colab\"/></a>"
      ]
    },
    {
      "cell_type": "markdown",
      "metadata": {
        "id": "EuznMI06UJxJ",
        "colab_type": "text"
      },
      "source": [
        "# File I/O\n",
        "- i = input \n",
        "- o = output\n",
        "\n",
        "Most of the time we want our programs to interact with the outsiede world. \n",
        "\n",
        "E.g. We write a script that compresses an image. We input an image and we output a compressed version\n",
        "- `input image`\n",
        "- `out compressed image`\n",
        "\n",
        "Let's see how this works on files. In Python we have a function called `open` that allows us to open files"
      ]
    },
    {
      "cell_type": "code",
      "metadata": {
        "id": "oOQc0hrCU4kc",
        "colab_type": "code",
        "outputId": "26bcedd6-8175-456a-eae0-4be75961d005",
        "colab": {
          "base_uri": "https://localhost:8080/",
          "height": 35
        }
      },
      "source": [
        "# Write a file \n",
        "open(\"text.txt\", \"w\") # \"w\" stands for write\n",
        "\n",
        "# Open it - Returns a Text Object\n",
        "my_file = open(\"text.txt\")\n",
        "print(my_file)"
      ],
      "execution_count": 0,
      "outputs": [
        {
          "output_type": "stream",
          "text": [
            "<_io.TextIOWrapper name='text.txt' mode='r' encoding='UTF-8'>\n"
          ],
          "name": "stdout"
        }
      ]
    },
    {
      "cell_type": "code",
      "metadata": {
        "id": "cwh7LtVrVSf7",
        "colab_type": "code",
        "outputId": "d83dab14-d971-40c2-cfae-0f68e00d366c",
        "colab": {
          "base_uri": "https://localhost:8080/",
          "height": 35
        }
      },
      "source": [
        "# How can we read the file? \n",
        "print(my_file.read())\n"
      ],
      "execution_count": 0,
      "outputs": [
        {
          "output_type": "stream",
          "text": [
            "\n"
          ],
          "name": "stdout"
        }
      ]
    },
    {
      "cell_type": "markdown",
      "metadata": {
        "id": "sRIhlLThWtTK",
        "colab_type": "text"
      },
      "source": [
        "It outputs nothing, because the file is empty.\n",
        "\n",
        "Open the file and input some text:\n",
        "\n",
        "`hiii this is line 1 \n",
        "now we are in line 3 \n",
        "It's crazy how everything is conected 4 life right? \n",
        "I wish I knew these 5 things when I grew up.\n",
        "Why is six afraid of its neighbour?\n",
        "Because Seven ...\n",
        "ate...\n",
        "9\n",
        "HAHHAA!`"
      ]
    },
    {
      "cell_type": "code",
      "metadata": {
        "id": "DjHh-EebXYHN",
        "colab_type": "code",
        "outputId": "95ed6a59-76c7-42f0-eada-d3e232d7fd4f",
        "colab": {
          "base_uri": "https://localhost:8080/",
          "height": 195
        }
      },
      "source": [
        "print(my_file.read())"
      ],
      "execution_count": 0,
      "outputs": [
        {
          "output_type": "stream",
          "text": [
            "hiii this is line 1 \n",
            "\n",
            "now we are in line 3 \n",
            "It's crazy how everything is conected 4 life right? \n",
            "I wish I knew these 5 things when I grew up.\n",
            "Why is six afraid of its neighbour?\n",
            "Because Seven ...\n",
            "ate...\n",
            "9\n",
            "HAHHAA!\n"
          ],
          "name": "stdout"
        }
      ]
    },
    {
      "cell_type": "markdown",
      "metadata": {
        "id": "AizBtpjbXnBv",
        "colab_type": "text"
      },
      "source": [
        "Now what happens if I rerun this?"
      ]
    },
    {
      "cell_type": "code",
      "metadata": {
        "id": "mylpDJ5wXtP1",
        "colab_type": "code",
        "outputId": "33954320-f176-4c8e-bd0b-c868379ba45b",
        "colab": {
          "base_uri": "https://localhost:8080/",
          "height": 35
        }
      },
      "source": [
        "print(my_file.read())"
      ],
      "execution_count": 0,
      "outputs": [
        {
          "output_type": "stream",
          "text": [
            "\n"
          ],
          "name": "stdout"
        }
      ]
    },
    {
      "cell_type": "markdown",
      "metadata": {
        "id": "O6dSplIaXufF",
        "colab_type": "text"
      },
      "source": [
        "Seems like it outputs nothing. \n",
        "\n",
        "This is because the open function has a `cursor` that gets moved to the end of the file, upon reading it. \n",
        "\n",
        "To read our file again, we can use `my_file.seek(0)` which moves the cursor to the index that we pass seek, e.g. index = 0 is the beginning of the file."
      ]
    },
    {
      "cell_type": "code",
      "metadata": {
        "id": "Ly1S8sPeYSTp",
        "colab_type": "code",
        "outputId": "7c31c557-1c67-40cd-cf81-b22d7a9e6353",
        "colab": {
          "base_uri": "https://localhost:8080/",
          "height": 195
        }
      },
      "source": [
        "my_file.seek(0)\n",
        "print(my_file.read())"
      ],
      "execution_count": 0,
      "outputs": [
        {
          "output_type": "stream",
          "text": [
            "hiii this is line 1 \n",
            "\n",
            "now we are in line 3 \n",
            "It's crazy how everything is conected 4 life right? \n",
            "I wish I knew these 5 things when I grew up.\n",
            "Why is six afraid of its neighbour?\n",
            "Because Seven ...\n",
            "ate...\n",
            "9\n",
            "HAHHAA!\n"
          ],
          "name": "stdout"
        }
      ]
    },
    {
      "cell_type": "markdown",
      "metadata": {
        "id": "nN0x-r-xYVb7",
        "colab_type": "text"
      },
      "source": [
        "As you notice, we have different lines in our file. Unsurprisingly there is a function for that aswell. \n",
        "\n",
        "`readline()`"
      ]
    },
    {
      "cell_type": "code",
      "metadata": {
        "id": "oWfk-C5eYiVh",
        "colab_type": "code",
        "outputId": "18b1ddf5-4247-4c8d-eed4-a53de0364264",
        "colab": {
          "base_uri": "https://localhost:8080/",
          "height": 52
        }
      },
      "source": [
        "my_file.seek(0)\n",
        "print(my_file.readline())"
      ],
      "execution_count": 0,
      "outputs": [
        {
          "output_type": "stream",
          "text": [
            "hiii this is line 1 \n",
            "\n"
          ],
          "name": "stdout"
        }
      ]
    },
    {
      "cell_type": "markdown",
      "metadata": {
        "id": "k60OQOdaYkEn",
        "colab_type": "text"
      },
      "source": [
        "Note that we still operate with our cursor, thus we would expect no output if we ran the `readline()`function again. And we would expect it to output \"now we are in line 3\" after that. \n",
        "\n",
        "Let's see"
      ]
    },
    {
      "cell_type": "code",
      "metadata": {
        "id": "K4ug2mXKY8v0",
        "colab_type": "code",
        "outputId": "ee37e9ab-7705-4503-91b8-9a1f14de0e0b",
        "colab": {
          "base_uri": "https://localhost:8080/",
          "height": 52
        }
      },
      "source": [
        "print(my_file.readline())"
      ],
      "execution_count": 0,
      "outputs": [
        {
          "output_type": "stream",
          "text": [
            "\n",
            "\n"
          ],
          "name": "stdout"
        }
      ]
    },
    {
      "cell_type": "code",
      "metadata": {
        "id": "X5us4NtAY_Pw",
        "colab_type": "code",
        "outputId": "8fbcd39a-8d42-452e-ba95-f6f70c54d913",
        "colab": {
          "base_uri": "https://localhost:8080/",
          "height": 52
        }
      },
      "source": [
        "print(my_file.readline())"
      ],
      "execution_count": 0,
      "outputs": [
        {
          "output_type": "stream",
          "text": [
            "now we are in line 3 \n",
            "\n"
          ],
          "name": "stdout"
        }
      ]
    },
    {
      "cell_type": "markdown",
      "metadata": {
        "id": "qDHP9PiyZA6B",
        "colab_type": "text"
      },
      "source": [
        "Perfect, the program behaved just like we expected it to. \n",
        "\n",
        "One last thing to take into consideration is that we need to close the file, when we don't use it any longer. We do it like this."
      ]
    },
    {
      "cell_type": "code",
      "metadata": {
        "id": "kp_WNKn-ZQ-N",
        "colab_type": "code",
        "colab": {}
      },
      "source": [
        "my_file.close()"
      ],
      "execution_count": 0,
      "outputs": []
    },
    {
      "cell_type": "markdown",
      "metadata": {
        "id": "VVlfDtbaZaHs",
        "colab_type": "text"
      },
      "source": [
        "# `Read`, `Write`, `Append`\n",
        "\n",
        "To foregoe some of the problems from above, like the cursor and having to close our file, we can use a new structure like so. \n",
        "\n"
      ]
    },
    {
      "cell_type": "code",
      "metadata": {
        "id": "YFn2Iyy9Z_1m",
        "colab_type": "code",
        "outputId": "da99e911-657f-4f68-c011-45bcce9353fc",
        "colab": {
          "base_uri": "https://localhost:8080/",
          "height": 55
        }
      },
      "source": [
        "with open(\"text.txt\") as my_file:\n",
        "  print(my_file.readlines())"
      ],
      "execution_count": 0,
      "outputs": [
        {
          "output_type": "stream",
          "text": [
            "['hiii this is line 1 \\n', '\\n', 'now we are in line 3 \\n', \"It's crazy how everything is conected 4 life right? \\n\", 'I wish I knew these 5 things when I grew up.\\n', 'Why is six afraid of its neighbour?\\n', 'Because Seven ...\\n', 'ate...\\n', '9\\n', 'HAHHAA!']\n"
          ],
          "name": "stdout"
        }
      ]
    },
    {
      "cell_type": "markdown",
      "metadata": {
        "id": "VRknxR3JaGfg",
        "colab_type": "text"
      },
      "source": [
        "Underneath the hood open has a parameter mode which is set to moder = \"r\" which means read. \n"
      ]
    },
    {
      "cell_type": "code",
      "metadata": {
        "id": "o6jlLLvPar1s",
        "colab_type": "code",
        "outputId": "100d4b98-4fb0-40b9-ccfd-fd77c24ef03f",
        "colab": {
          "base_uri": "https://localhost:8080/",
          "height": 55
        }
      },
      "source": [
        "with open(\"text.txt\", mode =\"r\") as my_file:\n",
        "  print(my_file.readlines())"
      ],
      "execution_count": 0,
      "outputs": [
        {
          "output_type": "stream",
          "text": [
            "['hiii this is line 1 \\n', '\\n', 'now we are in line 3 \\n', \"It's crazy how everything is conected 4 life right? \\n\", 'I wish I knew these 5 things when I grew up.\\n', 'Why is six afraid of its neighbour?\\n', 'Because Seven ...\\n', 'ate...\\n', '9\\n', 'HAHHAA!']\n"
          ],
          "name": "stdout"
        }
      ]
    },
    {
      "cell_type": "markdown",
      "metadata": {
        "id": "TNkMT7KSaui9",
        "colab_type": "text"
      },
      "source": [
        "If instead we want to write to a file, we can change the mode to `\"w\"` which stands for write."
      ]
    },
    {
      "cell_type": "code",
      "metadata": {
        "id": "PWnW7FNza-rK",
        "colab_type": "code",
        "outputId": "0b72318a-b23a-4b63-bc1d-64e874db6a65",
        "colab": {
          "base_uri": "https://localhost:8080/",
          "height": 186
        }
      },
      "source": [
        "with open(\"text.txt\", mode=\"w\") as my_file:\n",
        "  print(my_file.readlines())"
      ],
      "execution_count": 0,
      "outputs": [
        {
          "output_type": "error",
          "ename": "UnsupportedOperation",
          "evalue": "ignored",
          "traceback": [
            "\u001b[0;31m---------------------------------------------------------------------------\u001b[0m",
            "\u001b[0;31mUnsupportedOperation\u001b[0m                      Traceback (most recent call last)",
            "\u001b[0;32m<ipython-input-34-a60ed288cf8a>\u001b[0m in \u001b[0;36m<module>\u001b[0;34m()\u001b[0m\n\u001b[1;32m      1\u001b[0m \u001b[0;32mwith\u001b[0m \u001b[0mopen\u001b[0m\u001b[0;34m(\u001b[0m\u001b[0;34m\"text.txt\"\u001b[0m\u001b[0;34m,\u001b[0m \u001b[0mmode\u001b[0m\u001b[0;34m=\u001b[0m\u001b[0;34m\"w\"\u001b[0m\u001b[0;34m)\u001b[0m \u001b[0;32mas\u001b[0m \u001b[0mmy_file\u001b[0m\u001b[0;34m:\u001b[0m\u001b[0;34m\u001b[0m\u001b[0;34m\u001b[0m\u001b[0m\n\u001b[0;32m----> 2\u001b[0;31m   \u001b[0mprint\u001b[0m\u001b[0;34m(\u001b[0m\u001b[0mmy_file\u001b[0m\u001b[0;34m.\u001b[0m\u001b[0mreadlines\u001b[0m\u001b[0;34m(\u001b[0m\u001b[0;34m)\u001b[0m\u001b[0;34m)\u001b[0m\u001b[0;34m\u001b[0m\u001b[0;34m\u001b[0m\u001b[0m\n\u001b[0m",
            "\u001b[0;31mUnsupportedOperation\u001b[0m: not readable"
          ]
        }
      ]
    },
    {
      "cell_type": "markdown",
      "metadata": {
        "id": "rvjEGluqbDxf",
        "colab_type": "text"
      },
      "source": [
        "Now that we are in mode \"w\", we get an error, when we want to read the file.\n",
        "\n",
        "In order to read and write, we can set our mode to `r+`\n",
        "\n",
        "Let's write to a file"
      ]
    },
    {
      "cell_type": "code",
      "metadata": {
        "id": "1vxz936mbwJE",
        "colab_type": "code",
        "outputId": "18bd53f6-60f1-4e02-f1ce-134e34b8ed4b",
        "colab": {
          "base_uri": "https://localhost:8080/",
          "height": 35
        }
      },
      "source": [
        "with open(\"text.txt\", mode=\"r+\") as my_file:\n",
        "  text = my_file.write(\"hey it\\'s me!\")\n",
        "  print(text)"
      ],
      "execution_count": 0,
      "outputs": [
        {
          "output_type": "stream",
          "text": [
            "12\n"
          ],
          "name": "stdout"
        }
      ]
    },
    {
      "cell_type": "markdown",
      "metadata": {
        "id": "foDBjufXb1HI",
        "colab_type": "text"
      },
      "source": [
        "Now check you file, it should be overwritten with \"Hey it's me!\"\n",
        "\n",
        "The print statement tells us how many characters we just wrote.\n",
        "\n",
        "Add a smiley to your file now and see what happens"
      ]
    },
    {
      "cell_type": "code",
      "metadata": {
        "id": "s-0HwVwYcmgQ",
        "colab_type": "code",
        "outputId": "0f16c835-0585-465d-d764-5710162074f3",
        "colab": {
          "base_uri": "https://localhost:8080/",
          "height": 35
        }
      },
      "source": [
        "with open(\"text.txt\", mode=\"r+\") as my_file:\n",
        "  text = my_file.write(\":-)\")\n",
        "  print(text)"
      ],
      "execution_count": 0,
      "outputs": [
        {
          "output_type": "stream",
          "text": [
            "3\n"
          ],
          "name": "stdout"
        }
      ]
    },
    {
      "cell_type": "markdown",
      "metadata": {
        "id": "WgJM9_SiczZ4",
        "colab_type": "text"
      },
      "source": [
        "Oups, the smiley was added to the beginning of the file and wrote over \"hey\".\n",
        "\n",
        "Why did that happen? Well we already know of the cursor, so probably it got reset to 0.\n",
        "\n",
        "How can we fix this? \n",
        "- Try using the append mode `mode =\"a\"`"
      ]
    },
    {
      "cell_type": "code",
      "metadata": {
        "id": "ZSZNYzrBdUFW",
        "colab_type": "code",
        "outputId": "e9608a02-ebde-4f31-d91b-6e284f3d903f",
        "colab": {
          "base_uri": "https://localhost:8080/",
          "height": 35
        }
      },
      "source": [
        "with open(\"text.txt\", mode=\"a\") as my_file:\n",
        "  text = my_file.write(\":-)\")\n",
        "  print(text)"
      ],
      "execution_count": 0,
      "outputs": [
        {
          "output_type": "stream",
          "text": [
            "3\n"
          ],
          "name": "stdout"
        }
      ]
    },
    {
      "cell_type": "markdown",
      "metadata": {
        "id": "UWYF2ZYWdjDb",
        "colab_type": "text"
      },
      "source": [
        "Here's another interesting thing. \n",
        "What do you think would happen, if we use `mode = \"w\"` again and we add a :-)?\n"
      ]
    },
    {
      "cell_type": "code",
      "metadata": {
        "id": "dXT9veZid5aL",
        "colab_type": "code",
        "outputId": "6f94c188-a967-48e7-9df0-d0e13bd4883a",
        "colab": {
          "base_uri": "https://localhost:8080/",
          "height": 35
        }
      },
      "source": [
        "with open(\"text.txt\", mode=\"w\") as my_file:\n",
        "  text = my_file.write(\":-)\")\n",
        "  print(text)"
      ],
      "execution_count": 0,
      "outputs": [
        {
          "output_type": "stream",
          "text": [
            "3\n"
          ],
          "name": "stdout"
        }
      ]
    },
    {
      "cell_type": "markdown",
      "metadata": {
        "id": "bxrc_6O1d_lm",
        "colab_type": "text"
      },
      "source": [
        "Now we're only left with the smiley. This is because of the mode we're in. \n",
        "\n",
        "When we use `\"w\"` instead of `\"r+\"` we will erase all previous input, instead of overwriting it. "
      ]
    },
    {
      "cell_type": "markdown",
      "metadata": {
        "id": "-M2G2QzPeW1e",
        "colab_type": "text"
      },
      "source": [
        "Let's see what happens if we try to open a file that doesn't exist "
      ]
    },
    {
      "cell_type": "code",
      "metadata": {
        "id": "4aHfHsk2eoWs",
        "colab_type": "code",
        "colab": {}
      },
      "source": [
        "with open(\"sad.txt\", mode=\"w\") as my_file:\n",
        "  text = my_file.write(\":-(\")"
      ],
      "execution_count": 0,
      "outputs": []
    },
    {
      "cell_type": "markdown",
      "metadata": {
        "id": "F66WI-DDev11",
        "colab_type": "text"
      },
      "source": [
        "As you can see, it created an entirely new text file. How awesome is this? \n",
        "\n",
        "It turns out we can use open to work on existing files or even create new ones.\n",
        "\n",
        "**Keep in mind, that creating a file  only works, when we are in `mode=\"w\"`.** "
      ]
    },
    {
      "cell_type": "markdown",
      "metadata": {
        "id": "l-8HqA66e-J5",
        "colab_type": "text"
      },
      "source": [
        "# Filepaths\n",
        "\n",
        "Up until now we could run all files, because they were in the same location, in the same folder. \n",
        "\n",
        "What happens if we want to access a file that is in a different folder? How would we go about this?"
      ]
    },
    {
      "cell_type": "code",
      "metadata": {
        "id": "LbtLOS6sgQ-d",
        "colab_type": "code",
        "outputId": "2ec2ead1-83f2-4646-eb6b-24b74aa338c7",
        "colab": {
          "base_uri": "https://localhost:8080/",
          "height": 35
        }
      },
      "source": [
        "# Let's look at our current working directory\n",
        "import os\n",
        "os.getcwd()"
      ],
      "execution_count": 0,
      "outputs": [
        {
          "output_type": "execute_result",
          "data": {
            "text/plain": [
              "'/content'"
            ]
          },
          "metadata": {
            "tags": []
          },
          "execution_count": 53
        }
      ]
    },
    {
      "cell_type": "code",
      "metadata": {
        "id": "0G6_EkSDgSBA",
        "colab_type": "code",
        "colab": {}
      },
      "source": [
        "# This command allows us to go back one folder \n",
        "os.chdir(\"..\")"
      ],
      "execution_count": 0,
      "outputs": []
    },
    {
      "cell_type": "code",
      "metadata": {
        "id": "ad1zP5N2gnai",
        "colab_type": "code",
        "outputId": "95acdf96-67ed-4635-9494-4ce99dd22352",
        "colab": {
          "base_uri": "https://localhost:8080/",
          "height": 35
        }
      },
      "source": [
        "# This is the resulting path we end up in. \n",
        "os.getcwd()"
      ],
      "execution_count": 0,
      "outputs": [
        {
          "output_type": "execute_result",
          "data": {
            "text/plain": [
              "'/'"
            ]
          },
          "metadata": {
            "tags": []
          },
          "execution_count": 57
        }
      ]
    },
    {
      "cell_type": "markdown",
      "metadata": {
        "id": "gCb98rBugtPO",
        "colab_type": "text"
      },
      "source": [
        "If we try to enter sad.txt now, we won't succeed"
      ]
    },
    {
      "cell_type": "code",
      "metadata": {
        "id": "77mt8-p2g9q7",
        "colab_type": "code",
        "outputId": "650c970e-6ef0-4af8-ea55-bcef543ae64f",
        "colab": {
          "base_uri": "https://localhost:8080/",
          "height": 186
        }
      },
      "source": [
        "with open(\"text.txt\", mode=\"r\") as my_file:\n",
        "  my_file.read()"
      ],
      "execution_count": 0,
      "outputs": [
        {
          "output_type": "error",
          "ename": "FileNotFoundError",
          "evalue": "ignored",
          "traceback": [
            "\u001b[0;31m---------------------------------------------------------------------------\u001b[0m",
            "\u001b[0;31mFileNotFoundError\u001b[0m                         Traceback (most recent call last)",
            "\u001b[0;32m<ipython-input-58-27f558437cd0>\u001b[0m in \u001b[0;36m<module>\u001b[0;34m()\u001b[0m\n\u001b[0;32m----> 1\u001b[0;31m \u001b[0;32mwith\u001b[0m \u001b[0mopen\u001b[0m\u001b[0;34m(\u001b[0m\u001b[0;34m\"text.txt\"\u001b[0m\u001b[0;34m,\u001b[0m \u001b[0mmode\u001b[0m\u001b[0;34m=\u001b[0m\u001b[0;34m\"r\"\u001b[0m\u001b[0;34m)\u001b[0m \u001b[0;32mas\u001b[0m \u001b[0mmy_file\u001b[0m\u001b[0;34m:\u001b[0m\u001b[0;34m\u001b[0m\u001b[0;34m\u001b[0m\u001b[0m\n\u001b[0m\u001b[1;32m      2\u001b[0m   \u001b[0mmy_file\u001b[0m\u001b[0;34m.\u001b[0m\u001b[0mread\u001b[0m\u001b[0;34m(\u001b[0m\u001b[0;34m)\u001b[0m\u001b[0;34m\u001b[0m\u001b[0;34m\u001b[0m\u001b[0m\n",
            "\u001b[0;31mFileNotFoundError\u001b[0m: [Errno 2] No such file or directory: 'text.txt'"
          ]
        }
      ]
    },
    {
      "cell_type": "markdown",
      "metadata": {
        "id": "HCIB8iiGhJy_",
        "colab_type": "text"
      },
      "source": [
        "In order to acces our file, we need to \n",
        "- append the filepath or \n",
        "- change our current working directory\n"
      ]
    },
    {
      "cell_type": "code",
      "metadata": {
        "id": "OrK8i_z5hWnc",
        "colab_type": "code",
        "outputId": "2db17369-cc11-4474-966a-1b1ce7ff851e",
        "colab": {
          "base_uri": "https://localhost:8080/",
          "height": 35
        }
      },
      "source": [
        "with open(\"/content/text.txt\", mode=\"r\")as my_file:\n",
        "  print(my_file.read())\n",
        "os.getcwd()"
      ],
      "execution_count": 0,
      "outputs": [
        {
          "output_type": "execute_result",
          "data": {
            "text/plain": [
              "'/'"
            ]
          },
          "metadata": {
            "tags": []
          },
          "execution_count": 60
        }
      ]
    },
    {
      "cell_type": "code",
      "metadata": {
        "id": "3Fv5sBUFhjMs",
        "colab_type": "code",
        "outputId": "40b3a473-a1d2-4f0c-bc06-7d38558a098d",
        "colab": {
          "base_uri": "https://localhost:8080/",
          "height": 35
        }
      },
      "source": [
        "os.chdir(\"/content\")\n",
        "os.getcwd()"
      ],
      "execution_count": 0,
      "outputs": [
        {
          "output_type": "execute_result",
          "data": {
            "text/plain": [
              "'/content'"
            ]
          },
          "metadata": {
            "tags": []
          },
          "execution_count": 61
        }
      ]
    },
    {
      "cell_type": "markdown",
      "metadata": {
        "id": "4IWkogG6hwFt",
        "colab_type": "text"
      },
      "source": [
        "Let's creat a folder and move our text file to it\n",
        "- `mkdir()` stands for make directory\n",
        "- `listdir()` shows us everything that is in our current working directory (e.g. files, folders etc)"
      ]
    },
    {
      "cell_type": "code",
      "metadata": {
        "id": "7djiok_ch3YZ",
        "colab_type": "code",
        "colab": {}
      },
      "source": [
        "os.mkdir(\"app\") # mkdir stands for make directory"
      ],
      "execution_count": 0,
      "outputs": []
    },
    {
      "cell_type": "code",
      "metadata": {
        "id": "5hDS-YXSiAC2",
        "colab_type": "code",
        "outputId": "0a83c723-9989-4e6d-be82-8c866dac7c68",
        "colab": {
          "base_uri": "https://localhost:8080/",
          "height": 35
        }
      },
      "source": [
        "# We can see that our folder has now been added\n",
        "os.listdir()"
      ],
      "execution_count": 0,
      "outputs": [
        {
          "output_type": "execute_result",
          "data": {
            "text/plain": [
              "['.config', 'sad.txt', 'app', 'test.txt', 'text.txt', 'sample_data']"
            ]
          },
          "metadata": {
            "tags": []
          },
          "execution_count": 63
        }
      ]
    },
    {
      "cell_type": "markdown",
      "metadata": {
        "id": "Z5md2-tbiCzV",
        "colab_type": "text"
      },
      "source": [
        "Some other useful ideas are the following:\n",
        "\n",
        "1. There are absolute paths which take you from the very root to the file you want to be at \n",
        "`\"/content/sad.txt\"`\n",
        "2. There are relative paths, which are a lot shorter \n",
        "`\"/sad.txt\"`\n",
        "3. You might also come across \n",
        "  - `\"./\"` which instructs the computer to look at the current folder or \n",
        "  - `\"../\"` which gives instructions to look at the folder before the current folder (one folder back)\n",
        "4. You might encounter some problems, when trying to get paths from different operating systems. Unix and Windows are different. This is why there is a  to help you out.\n",
        "  - The `pathlib` library takes care of this for you\n",
        "  - Find the documentation here:\n",
        "  https://docs.python.org/3/library/pathlib.html\n",
        "\n"
      ]
    },
    {
      "cell_type": "markdown",
      "metadata": {
        "id": "6U5LnX-RkjHH",
        "colab_type": "text"
      },
      "source": [
        "# File IO Errors\n",
        "\n",
        "A common pattern to see whether or not a file exists is to use the following structure:"
      ]
    },
    {
      "cell_type": "code",
      "metadata": {
        "id": "edN5tNvek16a",
        "colab_type": "code",
        "outputId": "34c2a23a-2102-4d8b-bbd7-954c2ab26e85",
        "colab": {
          "base_uri": "https://localhost:8080/",
          "height": 35
        }
      },
      "source": [
        "os.chdir(\"/\")\n",
        "try: \n",
        "  with open(\"sad.txt\", mode=\"r\") as my_file:\n",
        "    print(my_file.read())\n",
        "except FileNotFoundError as err:\n",
        "  print(\"File does not exist\")\n",
        "  #raise err"
      ],
      "execution_count": 0,
      "outputs": [
        {
          "output_type": "stream",
          "text": [
            "File does not exist\n"
          ],
          "name": "stdout"
        }
      ]
    },
    {
      "cell_type": "markdown",
      "metadata": {
        "id": "mD36ypfklAbE",
        "colab_type": "text"
      },
      "source": [
        "Another common thing to do is to raise an `IOError`. \n",
        "\n",
        "This error occurs, when the system has a hard time doing any IO operations on our files like reading or writing. "
      ]
    },
    {
      "cell_type": "code",
      "metadata": {
        "id": "YFq6Abvwlct2",
        "colab_type": "code",
        "outputId": "3b3c278e-bb8f-4f53-f096-5759a1ebf7d1",
        "colab": {
          "base_uri": "https://localhost:8080/",
          "height": 35
        }
      },
      "source": [
        "try: \n",
        "  with open(\"sad.txt\", mode=\"r\") as my_file:\n",
        "    print(my_file.read())\n",
        "except FileNotFoundError as err:\n",
        "  print(\"File does not exist\")\n",
        "  #raise err\n",
        "except IOError as err:\n",
        "  print(\"IO error\")\n",
        "  #raise err"
      ],
      "execution_count": 0,
      "outputs": [
        {
          "output_type": "stream",
          "text": [
            "File does not exist\n"
          ],
          "name": "stdout"
        }
      ]
    },
    {
      "cell_type": "markdown",
      "metadata": {
        "id": "0Kcn-jh-lodw",
        "colab_type": "text"
      },
      "source": [
        "# Exercise: Building a Translator"
      ]
    },
    {
      "cell_type": "markdown",
      "metadata": {
        "id": "T5t355aSlwVh",
        "colab_type": "text"
      },
      "source": [
        "Let's say somebody gives you a massive Text file`and we need to translate it into Japanese.  \n",
        "\n",
        "Let's see how this works. In our case we'll use `\"example_text.txt\"`\n",
        "\n",
        "Upon making a quick Websearch we found the translate package on pypi"
      ]
    },
    {
      "cell_type": "code",
      "metadata": {
        "id": "2iFKh-DPmuI9",
        "colab_type": "code",
        "colab": {}
      },
      "source": [
        "with open(\"./example_text.txt\", mode = \"w\") as my_file:\n",
        "  my_file.write(\"Hey there, this will be translated into Japanes\")"
      ],
      "execution_count": 0,
      "outputs": []
    },
    {
      "cell_type": "code",
      "metadata": {
        "id": "0FkKoVEWnlZi",
        "colab_type": "code",
        "colab": {
          "base_uri": "https://localhost:8080/",
          "height": 35
        },
        "outputId": "ddc3298b-8fa2-4592-eba8-68a86e956fbf"
      },
      "source": [
        "try: \n",
        "  with open(\"./example_text.txt\", mode = \"r\") as my_file:\n",
        "    print(my_file.read())\n",
        "except FileNotFoundError as err:\n",
        "  print(\"chekc your file path!\")\n"
      ],
      "execution_count": 3,
      "outputs": [
        {
          "output_type": "stream",
          "text": [
            "Hey there, this will be translated into Japanes\n"
          ],
          "name": "stdout"
        }
      ]
    },
    {
      "cell_type": "markdown",
      "metadata": {
        "id": "OiW8w7vKnuAo",
        "colab_type": "text"
      },
      "source": [
        "Let's install the package"
      ]
    },
    {
      "cell_type": "code",
      "metadata": {
        "id": "w3yKt6bcoXnb",
        "colab_type": "code",
        "colab": {
          "base_uri": "https://localhost:8080/",
          "height": 1000
        },
        "outputId": "d206dd69-71a1-4b6d-bb0c-dfe78d4e5c66"
      },
      "source": [
        "pip install translate"
      ],
      "execution_count": 5,
      "outputs": [
        {
          "output_type": "stream",
          "text": [
            "Collecting translate\n",
            "  Downloading https://files.pythonhosted.org/packages/85/b2/2ea329a07bbc0c7227eef84ca89ffd6895e7ec237d6c0b26574d56103e53/translate-3.5.0-py2.py3-none-any.whl\n",
            "Collecting tox\n",
            "\u001b[?25l  Downloading https://files.pythonhosted.org/packages/37/70/14b3fac1447864facfea2b604d531d8ece2380fec3fbb6938f4b38ecb217/tox-3.15.0-py2.py3-none-any.whl (82kB)\n",
            "\u001b[K     |████████████████████████████████| 92kB 3.0MB/s \n",
            "\u001b[?25hRequirement already satisfied: requests in /usr/local/lib/python3.6/dist-packages (from translate) (2.23.0)\n",
            "Requirement already satisfied: click in /usr/local/lib/python3.6/dist-packages (from translate) (7.1.2)\n",
            "Requirement already satisfied: lxml in /usr/local/lib/python3.6/dist-packages (from translate) (4.2.6)\n",
            "Collecting pre-commit\n",
            "\u001b[?25l  Downloading https://files.pythonhosted.org/packages/90/60/6b23a908da32fd0cd169cdc1046d02c2a305cfae9c130ad63ac9db58a7df/pre_commit-2.3.0-py2.py3-none-any.whl (171kB)\n",
            "\u001b[K     |████████████████████████████████| 174kB 8.2MB/s \n",
            "\u001b[?25hCollecting pluggy<1,>=0.12.0\n",
            "  Downloading https://files.pythonhosted.org/packages/a0/28/85c7aa31b80d150b772fbe4a229487bc6644da9ccb7e427dd8cc60cb8a62/pluggy-0.13.1-py2.py3-none-any.whl\n",
            "Requirement already satisfied: packaging>=14 in /usr/local/lib/python3.6/dist-packages (from tox->translate) (20.3)\n",
            "Collecting six<2,>=1.14.0\n",
            "  Downloading https://files.pythonhosted.org/packages/65/eb/1f97cb97bfc2390a276969c6fae16075da282f5058082d4cb10c6c5c1dba/six-1.14.0-py2.py3-none-any.whl\n",
            "Collecting toml>=0.9.4\n",
            "  Downloading https://files.pythonhosted.org/packages/a2/12/ced7105d2de62fa7c8fb5fce92cc4ce66b57c95fb875e9318dba7f8c5db0/toml-0.10.0-py2.py3-none-any.whl\n",
            "Collecting virtualenv!=20.0.0,!=20.0.1,!=20.0.2,!=20.0.3,!=20.0.4,!=20.0.5,!=20.0.6,!=20.0.7,>=16.0.0\n",
            "\u001b[?25l  Downloading https://files.pythonhosted.org/packages/23/1a/d55f5fb904564365c3d364fd41701a74ad497379f04fd548cccc3f227d98/virtualenv-20.0.18-py2.py3-none-any.whl (4.6MB)\n",
            "\u001b[K     |████████████████████████████████| 4.6MB 54.8MB/s \n",
            "\u001b[?25hRequirement already satisfied: importlib-metadata<2,>=0.12; python_version < \"3.8\" in /usr/local/lib/python3.6/dist-packages (from tox->translate) (1.6.0)\n",
            "Requirement already satisfied: filelock<4,>=3.0.0 in /usr/local/lib/python3.6/dist-packages (from tox->translate) (3.0.12)\n",
            "Requirement already satisfied: py<2,>=1.4.17 in /usr/local/lib/python3.6/dist-packages (from tox->translate) (1.8.1)\n",
            "Requirement already satisfied: urllib3!=1.25.0,!=1.25.1,<1.26,>=1.21.1 in /usr/local/lib/python3.6/dist-packages (from requests->translate) (1.24.3)\n",
            "Requirement already satisfied: certifi>=2017.4.17 in /usr/local/lib/python3.6/dist-packages (from requests->translate) (2020.4.5.1)\n",
            "Requirement already satisfied: idna<3,>=2.5 in /usr/local/lib/python3.6/dist-packages (from requests->translate) (2.9)\n",
            "Requirement already satisfied: chardet<4,>=3.0.2 in /usr/local/lib/python3.6/dist-packages (from requests->translate) (3.0.4)\n",
            "Collecting pyyaml>=5.1\n",
            "\u001b[?25l  Downloading https://files.pythonhosted.org/packages/64/c2/b80047c7ac2478f9501676c988a5411ed5572f35d1beff9cae07d321512c/PyYAML-5.3.1.tar.gz (269kB)\n",
            "\u001b[K     |████████████████████████████████| 276kB 52.7MB/s \n",
            "\u001b[?25hCollecting cfgv>=2.0.0\n",
            "  Downloading https://files.pythonhosted.org/packages/6d/82/49913e721128ff16d6b7cf304f513de7bba698583b045dfb9c4b3bb2f467/cfgv-3.1.0-py2.py3-none-any.whl\n",
            "Collecting identify>=1.0.0\n",
            "\u001b[?25l  Downloading https://files.pythonhosted.org/packages/7d/98/a12d46a16a5eaa1978863fd74ac4e197c421b2bfbd6152e70b4b55fa77c8/identify-1.4.15-py2.py3-none-any.whl (97kB)\n",
            "\u001b[K     |████████████████████████████████| 102kB 13.6MB/s \n",
            "\u001b[?25hCollecting nodeenv>=0.11.1\n",
            "  Downloading https://files.pythonhosted.org/packages/08/43/86ff33286c83f7b5e8903c32db01fe122c5e8a9d8dc1067dcaa9be54a033/nodeenv-1.3.5-py2.py3-none-any.whl\n",
            "Collecting importlib-resources; python_version < \"3.7\"\n",
            "  Downloading https://files.pythonhosted.org/packages/7f/2d/88f166bcaadc09d9fdbf1c336ad118e01b7fe1155e15675e125be2ff1899/importlib_resources-1.5.0-py2.py3-none-any.whl\n",
            "Requirement already satisfied: pyparsing>=2.0.2 in /usr/local/lib/python3.6/dist-packages (from packaging>=14->tox->translate) (2.4.7)\n",
            "Collecting distlib<1,>=0.3.0\n",
            "\u001b[?25l  Downloading https://files.pythonhosted.org/packages/7d/29/694a3a4d7c0e1aef76092e9167fbe372e0f7da055f5dcf4e1313ec21d96a/distlib-0.3.0.zip (571kB)\n",
            "\u001b[K     |████████████████████████████████| 573kB 56.0MB/s \n",
            "\u001b[?25hCollecting appdirs<2,>=1.4.3\n",
            "  Downloading https://files.pythonhosted.org/packages/56/eb/810e700ed1349edde4cbdc1b2a21e28cdf115f9faf263f6bbf8447c1abf3/appdirs-1.4.3-py2.py3-none-any.whl\n",
            "Requirement already satisfied: zipp>=0.5 in /usr/local/lib/python3.6/dist-packages (from importlib-metadata<2,>=0.12; python_version < \"3.8\"->tox->translate) (3.1.0)\n",
            "Building wheels for collected packages: pyyaml, distlib\n",
            "  Building wheel for pyyaml (setup.py) ... \u001b[?25l\u001b[?25hdone\n",
            "  Created wheel for pyyaml: filename=PyYAML-5.3.1-cp36-cp36m-linux_x86_64.whl size=44621 sha256=4c0019b422131a2a9cef7c761343ef310525b6719caf6a59ddd52748ab49bd0f\n",
            "  Stored in directory: /root/.cache/pip/wheels/a7/c1/ea/cf5bd31012e735dc1dfea3131a2d5eae7978b251083d6247bd\n",
            "  Building wheel for distlib (setup.py) ... \u001b[?25l\u001b[?25hdone\n",
            "  Created wheel for distlib: filename=distlib-0.3.0-cp36-none-any.whl size=340429 sha256=c4565c72878b67e3919ae0819bae0c518b4ec69337de3d15aa90f923e7a27a0d\n",
            "  Stored in directory: /root/.cache/pip/wheels/6e/e8/db/c73dae4867666e89ba3cfbc4b5c092446f0e584eda6f409cbb\n",
            "Successfully built pyyaml distlib\n",
            "\u001b[31mERROR: pytest 3.6.4 has requirement pluggy<0.8,>=0.5, but you'll have pluggy 0.13.1 which is incompatible.\u001b[0m\n",
            "\u001b[31mERROR: google-colab 1.0.0 has requirement six~=1.12.0, but you'll have six 1.14.0 which is incompatible.\u001b[0m\n",
            "\u001b[31mERROR: datascience 0.10.6 has requirement folium==0.2.1, but you'll have folium 0.8.3 which is incompatible.\u001b[0m\n",
            "\u001b[31mERROR: albumentations 0.1.12 has requirement imgaug<0.2.7,>=0.2.5, but you'll have imgaug 0.2.9 which is incompatible.\u001b[0m\n",
            "Installing collected packages: pluggy, six, toml, distlib, appdirs, importlib-resources, virtualenv, tox, pyyaml, cfgv, identify, nodeenv, pre-commit, translate\n",
            "  Found existing installation: pluggy 0.7.1\n",
            "    Uninstalling pluggy-0.7.1:\n",
            "      Successfully uninstalled pluggy-0.7.1\n",
            "  Found existing installation: six 1.12.0\n",
            "    Uninstalling six-1.12.0:\n",
            "      Successfully uninstalled six-1.12.0\n",
            "  Found existing installation: PyYAML 3.13\n",
            "    Uninstalling PyYAML-3.13:\n",
            "      Successfully uninstalled PyYAML-3.13\n",
            "Successfully installed appdirs-1.4.3 cfgv-3.1.0 distlib-0.3.0 identify-1.4.15 importlib-resources-1.5.0 nodeenv-1.3.5 pluggy-0.13.1 pre-commit-2.3.0 pyyaml-5.3.1 six-1.14.0 toml-0.10.0 tox-3.15.0 translate-3.5.0 virtualenv-20.0.18\n"
          ],
          "name": "stdout"
        },
        {
          "output_type": "display_data",
          "data": {
            "application/vnd.colab-display-data+json": {
              "pip_warning": {
                "packages": [
                  "six"
                ]
              }
            }
          },
          "metadata": {
            "tags": []
          }
        }
      ]
    },
    {
      "cell_type": "code",
      "metadata": {
        "id": "5QUpe6aVoa73",
        "colab_type": "code",
        "colab": {
          "base_uri": "https://localhost:8080/",
          "height": 35
        },
        "outputId": "66c3298b-1de3-4618-a74a-b2c687c8cfdf"
      },
      "source": [
        "from translate import Translator\n",
        "translator = Translator(to_lang=\"ja\")\n",
        "\n",
        "try:\n",
        "  with open(\"./example_text.txt\", mode =\"r\") as my_file:\n",
        "    text = my_file.read()\n",
        "    translation = translator.translate(f\"{text}\")\n",
        "    print(translation)\n",
        "    with open(\"test-ja.txt\", mode=\"w\") as my_file2:\n",
        "      my_file2.write(translation)\n",
        "except FileNotFoundError as err:\n",
        "  print(\"check your file path!\")"
      ],
      "execution_count": 5,
      "outputs": [
        {
          "output_type": "stream",
          "text": [
            "こんにちは、これは日本語に翻訳されます\n"
          ],
          "name": "stdout"
        }
      ]
    },
    {
      "cell_type": "code",
      "metadata": {
        "id": "1C0efp75pUIw",
        "colab_type": "code",
        "colab": {}
      },
      "source": [
        ""
      ],
      "execution_count": 0,
      "outputs": []
    }
  ]
}
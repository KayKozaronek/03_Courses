{
  "nbformat": 4,
  "nbformat_minor": 0,
  "metadata": {
    "colab": {
      "name": "Section 15: Testing In Python.ipynb",
      "provenance": [],
      "authorship_tag": "ABX9TyMaSUGi7O7HcJU/0jOmHnoi",
      "include_colab_link": true
    },
    "kernelspec": {
      "name": "python3",
      "display_name": "Python 3"
    }
  },
  "cells": [
    {
      "cell_type": "markdown",
      "metadata": {
        "id": "view-in-github",
        "colab_type": "text"
      },
      "source": [
        "<a href=\"https://colab.research.google.com/github/KayKozaronek/03_Courses/blob/master/Section_15_Testing_In_Python.ipynb\" target=\"_parent\"><img src=\"https://colab.research.google.com/assets/colab-badge.svg\" alt=\"Open In Colab\"/></a>"
      ]
    },
    {
      "cell_type": "markdown",
      "metadata": {
        "id": "3S1zsg0cpjdC",
        "colab_type": "text"
      },
      "source": [
        "# Section 15: Testing In Python\n",
        "\n",
        "Testin is not a big issue when starting out to program, but as the project you work on grow, you'll work with hundreds of files and millions of lines of code from different developers from different departments of a company. \n",
        "\n",
        "In short, as the complexity and size of the code increase, you have to make use of testing (regardless of the programming language)\n",
        "\n",
        "A test is simply another Python file that you use to test a given unit of your source code.\n",
        "\n",
        "Let's see how testing works with the standard module `unittest`\n",
        "\n",
        "Create a `main.py` and a `test.py` file first\n"
      ]
    },
    {
      "cell_type": "code",
      "metadata": {
        "id": "yAo9ZGgvrrJ3",
        "colab_type": "code",
        "colab": {
          "base_uri": "https://localhost:8080/",
          "height": 34
        },
        "outputId": "09dc72e6-89b1-438f-a902-f6eb46632dbc"
      },
      "source": [
        "import os \n",
        "os.getcwd()"
      ],
      "execution_count": 5,
      "outputs": [
        {
          "output_type": "execute_result",
          "data": {
            "text/plain": [
              "'/content'"
            ]
          },
          "metadata": {
            "tags": []
          },
          "execution_count": 5
        }
      ]
    },
    {
      "cell_type": "code",
      "metadata": {
        "id": "r9OKKF6FrwiV",
        "colab_type": "code",
        "colab": {
          "base_uri": "https://localhost:8080/",
          "height": 34
        },
        "outputId": "f3a546e9-15aa-4f5a-bace-15a638672fe6"
      },
      "source": [
        "open(\"main.py\", \"w\") \n",
        "open(\"test.py\", \"w\") "
      ],
      "execution_count": 8,
      "outputs": [
        {
          "output_type": "execute_result",
          "data": {
            "text/plain": [
              "<_io.TextIOWrapper name='test.py' mode='w' encoding='UTF-8'>"
            ]
          },
          "metadata": {
            "tags": []
          },
          "execution_count": 8
        }
      ]
    },
    {
      "cell_type": "markdown",
      "metadata": {
        "id": "sH_p-ZMws4Yp",
        "colab_type": "text"
      },
      "source": [
        "Open the `main.py` file and fill in the following:\n",
        "\n",
        "`def do_stuff(num):`\n",
        "\n",
        "  `return num + 5`\n",
        "\n",
        "Open the `test.py`file and fill in the following:\n",
        "\n",
        "`import unittest`\n",
        "\n",
        "`import main`\n"
      ]
    },
    {
      "cell_type": "code",
      "metadata": {
        "id": "KaYUfJkI0Pvl",
        "colab_type": "code",
        "colab": {}
      },
      "source": [
        "# Main.py\n",
        "def do_stuff(num = 0):\n",
        "  try:\n",
        "    if num:\n",
        "      return int(num) + 5\n",
        "    else:\n",
        "      return \"Please enter number \"\n",
        "  \n",
        "  except ValueError as err:\n",
        "    return err"
      ],
      "execution_count": 0,
      "outputs": []
    },
    {
      "cell_type": "code",
      "metadata": {
        "id": "EDmvGLvSqoIb",
        "colab_type": "code",
        "colab": {}
      },
      "source": [
        "# Test.py\n",
        "import unittest\n",
        "import main \n",
        "\n",
        "# In here we can start writing testing code\n",
        "class TestMain(unittest.TestCase):\n",
        "\n",
        "  def setUp(self):\n",
        "    print(\"About to test a function\")\n",
        "\n",
        "  def test_do_stuff(self):\n",
        "    test_param = 10 \n",
        "    result = main.do_stuff(test_param)\n",
        "    self.assertEqual(result, 15)\n",
        "  \n",
        "  def test_do_stuff2(self):\n",
        "    test_param = \"asdf\" \n",
        "    result = main.do_stuff(test_param)\n",
        "    self.assertTrue(isinstance(result, ValueError))\n",
        "\n",
        "  def test_do_stuff3(self):\n",
        "    test_param = None\n",
        "    result = main.do_stuff(test_param)\n",
        "    self.assertIsInstance(result, \"Please enter number\")\n",
        "\n",
        "  def test_do_stuff4(self):\n",
        "      test_param = \"\"\n",
        "      result = main.do_stuff(test_param)\n",
        "      self.assertIsInstance(result, \"Please enter number\")\n",
        "\n",
        "  def tearDown(self):\n",
        "    print(\"Cleaining up\")\n",
        "\n",
        "if __name__ = \"__main__\":\n",
        "  unittest.main()"
      ],
      "execution_count": 0,
      "outputs": []
    },
    {
      "cell_type": "code",
      "metadata": {
        "id": "LrBl7iIbuHVI",
        "colab_type": "code",
        "colab": {}
      },
      "source": [
        "# with open(\"test.py\", \"r\") as test:\n",
        "#   print(unittest.main())"
      ],
      "execution_count": 0,
      "outputs": []
    },
    {
      "cell_type": "code",
      "metadata": {
        "id": "2OB7gEtAuMem",
        "colab_type": "code",
        "colab": {
          "base_uri": "https://localhost:8080/",
          "height": 34
        },
        "outputId": "12261014-a876-4865-d967-c5d11dd48528"
      },
      "source": [
        "os.system(\"$ python3 test.py\")"
      ],
      "execution_count": 34,
      "outputs": [
        {
          "output_type": "execute_result",
          "data": {
            "text/plain": [
              "32512"
            ]
          },
          "metadata": {
            "tags": []
          },
          "execution_count": 34
        }
      ]
    },
    {
      "cell_type": "markdown",
      "metadata": {
        "id": "pIIzEOz6wPoF",
        "colab_type": "text"
      },
      "source": [
        "Write describtive, easy to understand tetst. Do not worry too much about making your code clean, as this code will never go into production. You should "
      ]
    },
    {
      "cell_type": "markdown",
      "metadata": {
        "id": "K-Qc8W9i0Y0B",
        "colab_type": "text"
      },
      "source": [
        "## Exercise Random Number Guessing game \n",
        "Exercise: Break up the code bellow into functions, which are easily maintainable and testable."
      ]
    },
    {
      "cell_type": "code",
      "metadata": {
        "id": "_eEUPdLa08ht",
        "colab_type": "code",
        "colab": {}
      },
      "source": [
        "# script.py\n",
        "\n",
        "import random\n",
        "\n",
        "answer = random.randint(1,10)\n",
        "while True:\n",
        "  try:\n",
        "    guess = int(input(\"guess a number 1~10\"))\n",
        "    if 0 < guess < 11:\n",
        "      if guess == answer:\n",
        "        print(\"You're a genius!\")\n",
        "        break\n",
        "    else:\n",
        "      print(\"hey bozo, I said 1~10\")\n",
        "  except ValueError:\n",
        "    print(\"please enter a number\")\n",
        "    continue"
      ],
      "execution_count": 0,
      "outputs": []
    },
    {
      "cell_type": "code",
      "metadata": {
        "id": "vWlYooSL1E1A",
        "colab_type": "code",
        "colab": {}
      },
      "source": [
        "#------------- script.py Edit -------------#\n",
        "import random\n",
        "\n",
        "def run_guess(guess,answer):\n",
        "  if 0 < guess < 11:\n",
        "    if guess == answer:\n",
        "      print(\"You're a genius!\")\n",
        "      return True \n",
        "  else:\n",
        "    print(\"hey bozo, I said 1~10\")\n",
        "    return False\n",
        "\n",
        "if __name__ == \"__main__\":\n",
        "  answer = random.randint(1,10)\n",
        "  while True:\n",
        "    try:\n",
        "      guess = int(input(\"guess a number 1~10\"))\n",
        "      if run_guess(guess, answer):\n",
        "        break\n",
        "    except ValueError:\n",
        "      print(\"please enter a number\")\n",
        "      continue\n",
        "\n",
        "#------------- Test.py -------------#\n",
        "\n",
        "import unittest\n",
        "import script\n",
        "\n",
        "class TestGame(unittest.TestCase):\n",
        "  def test_input(self):\n",
        "    # answer = 5 \n",
        "    # guess = 5 \n",
        "    result = script.run_guess(5, 5)\n",
        "    self.assertTrue(result)\n",
        "\n",
        "  def test_input_wrong_guess(self):\n",
        "    result = script.run_guess(5, 0)\n",
        "    self.assertFalse(result)\n",
        "\n",
        "  def test_input_wrong_number(self):\n",
        "    result = script.run_guess(5, 11)\n",
        "    self.assertFalse(result) \n",
        "    \n",
        "  def test_input_wrong_type(self):\n",
        "    result = script.run_guess(5, \"0\")\n",
        "    self.assertFalse(result) \n",
        "\n",
        "if __name__ == \"__main__\":\n",
        "  unittest.main()"
      ],
      "execution_count": 0,
      "outputs": []
    },
    {
      "cell_type": "code",
      "metadata": {
        "id": "37t9f-JX2Tkn",
        "colab_type": "code",
        "colab": {}
      },
      "source": [
        ""
      ],
      "execution_count": 0,
      "outputs": []
    }
  ]
}
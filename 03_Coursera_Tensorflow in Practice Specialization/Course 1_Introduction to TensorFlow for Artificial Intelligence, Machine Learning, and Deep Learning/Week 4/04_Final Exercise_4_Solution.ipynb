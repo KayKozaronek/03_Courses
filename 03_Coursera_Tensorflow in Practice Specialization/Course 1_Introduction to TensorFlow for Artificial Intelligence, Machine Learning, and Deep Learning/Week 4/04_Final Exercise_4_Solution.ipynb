{
  "nbformat": 4,
  "nbformat_minor": 0,
  "metadata": {
    "colab": {
      "name": "Exercise 4-Question.ipynb",
      "provenance": []
    },
    "kernelspec": {
      "display_name": "Python 3",
      "name": "python3"
    }
  },
  "cells": [
    {
      "cell_type": "code",
      "metadata": {
        "id": "zX4Kg8DUTKWO",
        "colab_type": "code",
        "colab": {}
      },
      "source": [
        "#@title Licensed under the Apache License, Version 2.0 (the \"License\");\n",
        "# you may not use this file except in compliance with the License.\n",
        "# You may obtain a copy of the License at\n",
        "#\n",
        "# https://www.apache.org/licenses/LICENSE-2.0\n",
        "#\n",
        "# Unless required by applicable law or agreed to in writing, software\n",
        "# distributed under the License is distributed on an \"AS IS\" BASIS,\n",
        "# WITHOUT WARRANTIES OR CONDITIONS OF ANY KIND, either express or implied.\n",
        "# See the License for the specific language governing permissions and\n",
        "# limitations under the License."
      ],
      "execution_count": 0,
      "outputs": []
    },
    {
      "cell_type": "markdown",
      "metadata": {
        "colab_type": "text",
        "id": "UncprnB0ymAE"
      },
      "source": [
        "Below is code with a link to a happy or sad dataset which contains 80 images, 40 happy and 40 sad. \n",
        "Create a convolutional neural network that trains to 100% accuracy on these images,  which cancels training upon hitting training accuracy of >.999\n",
        "\n",
        "Hint -- it will work best with 3 convolutional layers."
      ]
    },
    {
      "cell_type": "code",
      "metadata": {
        "colab_type": "code",
        "id": "7Vti6p3PxmpS",
        "colab": {
          "base_uri": "https://localhost:8080/",
          "height": 201
        },
        "outputId": "c99df8bb-9871-40c5-f63c-ee7ca66c1603"
      },
      "source": [
        "import tensorflow as tf\n",
        "import os\n",
        "import zipfile\n",
        "\n",
        "\n",
        "DESIRED_ACCURACY = 0.999\n",
        "\n",
        "!wget --no-check-certificate \\\n",
        "    \"https://storage.googleapis.com/laurencemoroney-blog.appspot.com/happy-or-sad.zip\" \\\n",
        "    -O \"/tmp/happy-or-sad.zip\"\n",
        "\n",
        "zip_ref = zipfile.ZipFile(\"/tmp/happy-or-sad.zip\", 'r')\n",
        "zip_ref.extractall(\"/tmp/h-or-s\")\n",
        "zip_ref.close()\n",
        "\n",
        "class myCallback(tf.keras.callbacks.Callback): \n",
        "  # Your Code\n",
        "  def on_epoch_end(self, epochs, logs ={}):\n",
        "    if (logs.get(\"accuracy\") > DESIRED_ACCURACY):\n",
        "      print(\"\\n\\n Training reached 99.9% accuracy. Stop training! \\n\\n\")\n",
        "      self.model.stop_training = True\n",
        "\n",
        "\n",
        "callbacks = myCallback()"
      ],
      "execution_count": 36,
      "outputs": [
        {
          "output_type": "stream",
          "text": [
            "--2020-06-10 09:06:21--  https://storage.googleapis.com/laurencemoroney-blog.appspot.com/happy-or-sad.zip\n",
            "Resolving storage.googleapis.com (storage.googleapis.com)... 74.125.203.128, 2404:6800:4008:c03::80\n",
            "Connecting to storage.googleapis.com (storage.googleapis.com)|74.125.203.128|:443... connected.\n",
            "HTTP request sent, awaiting response... 200 OK\n",
            "Length: 2670333 (2.5M) [application/zip]\n",
            "Saving to: ‘/tmp/happy-or-sad.zip’\n",
            "\n",
            "\r/tmp/happy-or-sad.z   0%[                    ]       0  --.-KB/s               \r/tmp/happy-or-sad.z 100%[===================>]   2.55M  --.-KB/s    in 0.02s   \n",
            "\n",
            "2020-06-10 09:06:21 (107 MB/s) - ‘/tmp/happy-or-sad.zip’ saved [2670333/2670333]\n",
            "\n"
          ],
          "name": "stdout"
        }
      ]
    },
    {
      "cell_type": "code",
      "metadata": {
        "colab_type": "code",
        "id": "6DLGbXXI1j_V",
        "colab": {}
      },
      "source": [
        "# This Code Block should Define and Compile the Model\n",
        "model = tf.keras.models.Sequential([\n",
        "        # Your Code Here\n",
        "        tf.keras.layers.Conv2D(32, 3, activation = \"relu\", input_shape = (150,150,3)),\n",
        "        tf.keras.layers.MaxPooling2D(2,2),\n",
        "        tf.keras.layers.Conv2D(64, 3, activation = \"relu\"),\n",
        "        tf.keras.layers.MaxPooling2D(2,2),\n",
        "        tf.keras.layers.Conv2D(128, 3, activation = \"relu\"),\n",
        "        tf.keras.layers.MaxPooling2D(2,2),\n",
        "        tf.keras.layers.Flatten(),\n",
        "        tf.keras.layers.Dense(512, activation = \"relu\"),\n",
        "        tf.keras.layers.Dense(1, activation =\"sigmoid\")\n",
        "])\n",
        "\n",
        "from tensorflow.keras.optimizers import RMSprop\n",
        "\n",
        "model.compile(optimizer = RMSprop(),\n",
        "              loss = \"binary_crossentropy\",\n",
        "              metrics = [\"accuracy\"])# Your Code Here #)"
      ],
      "execution_count": 0,
      "outputs": []
    },
    {
      "cell_type": "code",
      "metadata": {
        "colab_type": "code",
        "id": "4Ap9fUJE1vVu",
        "colab": {
          "base_uri": "https://localhost:8080/",
          "height": 33
        },
        "outputId": "7d8b236e-6e5e-4916-bc5b-93b5e0219c8d"
      },
      "source": [
        "# This code block should create an instance of an ImageDataGenerator called train_datagen \n",
        "# And a train_generator by calling train_datagen.flow_from_directory\n",
        "\n",
        "from tensorflow.keras.preprocessing.image import ImageDataGenerator\n",
        "\n",
        "train_datagen = ImageDataGenerator(rescale = 1/255)# Your Code Here\n",
        "\n",
        "train_generator = train_datagen.flow_from_directory(\"tmp/h-or-s/\", \n",
        "                                                    target_size =(150,150), \n",
        "                                                    class_mode = \"binary\")\n",
        "\n",
        "# Expected output: 'Found 80 images belonging to 2 classes'"
      ],
      "execution_count": 38,
      "outputs": [
        {
          "output_type": "stream",
          "text": [
            "Found 80 images belonging to 2 classes.\n"
          ],
          "name": "stdout"
        }
      ]
    },
    {
      "cell_type": "code",
      "metadata": {
        "colab_type": "code",
        "id": "48dLm13U1-Le",
        "colab": {
          "base_uri": "https://localhost:8080/",
          "height": 769
        },
        "outputId": "d2f81e69-b35c-473b-9ba6-f61cb686bf0d"
      },
      "source": [
        "# This code block should call model.fit and train for\n",
        "# a number of epochs. \n",
        "history = model.fit(\n",
        "    # Your Code Here\n",
        "    train_generator,\n",
        "    callbacks = [callbacks],\n",
        "    epochs = 50,\n",
        "    verbose = 1\n",
        "    )\n",
        "    \n",
        "# Expected output: \"Reached 99.9% accuracy so cancelling training!\"\""
      ],
      "execution_count": 39,
      "outputs": [
        {
          "output_type": "stream",
          "text": [
            "Epoch 1/50\n",
            "3/3 [==============================] - 2s 710ms/step - loss: 16.5572 - accuracy: 0.6500\n",
            "Epoch 2/50\n",
            "3/3 [==============================] - 2s 700ms/step - loss: 0.8785 - accuracy: 0.3750\n",
            "Epoch 3/50\n",
            "3/3 [==============================] - 3s 902ms/step - loss: 0.6290 - accuracy: 0.5875\n",
            "Epoch 4/50\n",
            "3/3 [==============================] - 3s 906ms/step - loss: 0.5003 - accuracy: 0.7250\n",
            "Epoch 5/50\n",
            "3/3 [==============================] - 2s 703ms/step - loss: 0.4805 - accuracy: 0.7250\n",
            "Epoch 6/50\n",
            "3/3 [==============================] - 3s 896ms/step - loss: 0.3901 - accuracy: 0.7625\n",
            "Epoch 7/50\n",
            "3/3 [==============================] - 2s 713ms/step - loss: 0.3005 - accuracy: 0.8625\n",
            "Epoch 8/50\n",
            "3/3 [==============================] - 2s 707ms/step - loss: 0.1998 - accuracy: 0.9250\n",
            "Epoch 9/50\n",
            "3/3 [==============================] - 3s 907ms/step - loss: 0.3669 - accuracy: 0.8375\n",
            "Epoch 10/50\n",
            "3/3 [==============================] - 3s 906ms/step - loss: 0.2611 - accuracy: 0.8125\n",
            "Epoch 11/50\n",
            "3/3 [==============================] - 2s 704ms/step - loss: 0.2065 - accuracy: 0.9125\n",
            "Epoch 12/50\n",
            "3/3 [==============================] - 2s 699ms/step - loss: 0.1735 - accuracy: 0.9500\n",
            "Epoch 13/50\n",
            "3/3 [==============================] - 2s 712ms/step - loss: 0.1067 - accuracy: 0.9625\n",
            "Epoch 14/50\n",
            "3/3 [==============================] - 2s 706ms/step - loss: 0.1624 - accuracy: 0.9750\n",
            "Epoch 15/50\n",
            "3/3 [==============================] - 2s 701ms/step - loss: 0.0623 - accuracy: 0.9750\n",
            "Epoch 16/50\n",
            "3/3 [==============================] - 2s 706ms/step - loss: 0.1490 - accuracy: 0.8875\n",
            "Epoch 17/50\n",
            "3/3 [==============================] - 3s 903ms/step - loss: 0.1291 - accuracy: 0.9625\n",
            "Epoch 18/50\n",
            "3/3 [==============================] - 3s 904ms/step - loss: 0.0743 - accuracy: 0.9750\n",
            "Epoch 19/50\n",
            "3/3 [==============================] - 2s 720ms/step - loss: 0.0645 - accuracy: 0.9750\n",
            "Epoch 20/50\n",
            "3/3 [==============================] - ETA: 0s - loss: 0.0198 - accuracy: 1.0000\n",
            "\n",
            " Training reached 99.9% accuracy. Stop training! \n",
            "\n",
            "\n",
            "3/3 [==============================] - 2s 708ms/step - loss: 0.0198 - accuracy: 1.0000\n"
          ],
          "name": "stdout"
        }
      ]
    },
    {
      "cell_type": "code",
      "metadata": {
        "id": "UQt_mmAseyVP",
        "colab_type": "code",
        "colab": {}
      },
      "source": [
        ""
      ],
      "execution_count": 0,
      "outputs": []
    }
  ]
}
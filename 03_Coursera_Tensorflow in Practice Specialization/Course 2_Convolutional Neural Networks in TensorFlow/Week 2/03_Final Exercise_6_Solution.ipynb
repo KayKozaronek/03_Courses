{
  "nbformat": 4,
  "nbformat_minor": 0,
  "metadata": {
    "accelerator": "GPU",
    "colab": {
      "name": "Exercise 6 - Question.ipynb",
      "provenance": [],
      "collapsed_sections": []
    },
    "kernelspec": {
      "display_name": "Python 3",
      "name": "python3"
    }
  },
  "cells": [
    {
      "cell_type": "code",
      "metadata": {
        "id": "zX4Kg8DUTKWO",
        "colab_type": "code",
        "colab": {}
      },
      "source": [
        "#@title Licensed under the Apache License, Version 2.0 (the \"License\");\n",
        "# you may not use this file except in compliance with the License.\n",
        "# You may obtain a copy of the License at\n",
        "#\n",
        "# https://www.apache.org/licenses/LICENSE-2.0\n",
        "#\n",
        "# Unless required by applicable law or agreed to in writing, software\n",
        "# distributed under the License is distributed on an \"AS IS\" BASIS,\n",
        "# WITHOUT WARRANTIES OR CONDITIONS OF ANY KIND, either express or implied.\n",
        "# See the License for the specific language governing permissions and\n",
        "# limitations under the License."
      ],
      "execution_count": 0,
      "outputs": []
    },
    {
      "cell_type": "code",
      "metadata": {
        "colab_type": "code",
        "id": "dn-6c02VmqiN",
        "colab": {}
      },
      "source": [
        "# In this exercise you will train a CNN on the FULL Cats-v-dogs dataset\n",
        "# This will require you doing a lot of data preprocessing because\n",
        "# the dataset isn't split into training and validation for you\n",
        "# This code block has all the required inputs\n",
        "import os\n",
        "import zipfile\n",
        "import random\n",
        "import tensorflow as tf\n",
        "from tensorflow.keras.optimizers import RMSprop\n",
        "from tensorflow.keras.preprocessing.image import ImageDataGenerator\n",
        "from shutil import copyfile"
      ],
      "execution_count": 0,
      "outputs": []
    },
    {
      "cell_type": "code",
      "metadata": {
        "colab_type": "code",
        "id": "3sd9dQWa23aj",
        "colab": {
          "base_uri": "https://localhost:8080/",
          "height": 202
        },
        "outputId": "63324875-39e0-477b-9781-c3f681c55b48"
      },
      "source": [
        "# This code block downloads the full Cats-v-Dogs dataset and stores it as \n",
        "# cats-and-dogs.zip. It then unzips it to /tmp\n",
        "# which will create a tmp/PetImages directory containing subdirectories\n",
        "# called 'Cat' and 'Dog' (that's how the original researchers structured it)\n",
        "# If the URL doesn't work, \n",
        "# .   visit https://www.microsoft.com/en-us/download/confirmation.aspx?id=54765\n",
        "# And right click on the 'Download Manually' link to get a new URL\n",
        "\n",
        "!wget --no-check-certificate \\\n",
        "    \"https://download.microsoft.com/download/3/E/1/3E1C3F21-ECDB-4869-8368-6DEBA77B919F/kagglecatsanddogs_3367a.zip\" \\\n",
        "    -O \"/tmp/cats-and-dogs.zip\"\n",
        "\n",
        "local_zip = '/tmp/cats-and-dogs.zip'\n",
        "zip_ref = zipfile.ZipFile(local_zip, 'r')\n",
        "zip_ref.extractall('/tmp')\n",
        "zip_ref.close()\n"
      ],
      "execution_count": 3,
      "outputs": [
        {
          "output_type": "stream",
          "text": [
            "--2020-06-09 09:55:53--  https://download.microsoft.com/download/3/E/1/3E1C3F21-ECDB-4869-8368-6DEBA77B919F/kagglecatsanddogs_3367a.zip\n",
            "Resolving download.microsoft.com (download.microsoft.com)... 23.218.108.168, 2600:1409:12:285::e59, 2600:1409:12:2af::e59\n",
            "Connecting to download.microsoft.com (download.microsoft.com)|23.218.108.168|:443... connected.\n",
            "HTTP request sent, awaiting response... 200 OK\n",
            "Length: 824894548 (787M) [application/octet-stream]\n",
            "Saving to: ‘/tmp/cats-and-dogs.zip’\n",
            "\n",
            "/tmp/cats-and-dogs. 100%[===================>] 786.68M   135MB/s    in 6.0s    \n",
            "\n",
            "2020-06-09 09:55:59 (130 MB/s) - ‘/tmp/cats-and-dogs.zip’ saved [824894548/824894548]\n",
            "\n"
          ],
          "name": "stdout"
        }
      ]
    },
    {
      "cell_type": "code",
      "metadata": {
        "colab_type": "code",
        "id": "gi3yD62a6X3S",
        "colab": {
          "base_uri": "https://localhost:8080/",
          "height": 84
        },
        "outputId": "d2341ee5-ddb0-4b27-9735-c567018e981e"
      },
      "source": [
        "print(len(os.listdir('/tmp/PetImages/Cat/')))\n",
        "print(len(os.listdir('/tmp/PetImages/Dog/')))\n",
        "os.chdir(\"../tmp\")\n",
        "print(os.listdir())\n",
        "print(os.getcwd())\n",
        "\n",
        "\n",
        "# Expected Output:\n",
        "# 12501\n",
        "# 12501"
      ],
      "execution_count": 4,
      "outputs": [
        {
          "output_type": "stream",
          "text": [
            "12501\n",
            "12501\n",
            "['MSR-LA - 3467.docx', 'readme[1].txt', 'PetImages', 'cats-and-dogs.zip']\n",
            "/tmp\n"
          ],
          "name": "stdout"
        }
      ]
    },
    {
      "cell_type": "code",
      "metadata": {
        "colab_type": "code",
        "id": "F-QkLjxpmyK2",
        "colab": {}
      },
      "source": [
        "# Use os.mkdir to create your directories\n",
        "# You will need a directory for cats-v-dogs, and subdirectories for training\n",
        "# and testing. These in turn will need subdirectories for 'cats' and 'dogs'\n",
        "try:\n",
        "    #YOUR CODE GOES HERE\n",
        "    os.mkdir(\"cats-v-dogs\")\n",
        "    os.mkdir(\"cats-v-dogs/training\")\n",
        "    os.mkdir(\"cats-v-dogs/testing\")\n",
        "    os.mkdir(\"cats-v-dogs/training/cats\")\n",
        "    os.mkdir(\"cats-v-dogs/training/dogs\")\n",
        "    os.mkdir(\"cats-v-dogs/testing/cats\")\n",
        "    os.mkdir(\"cats-v-dogs/testing/dogs\")\n",
        "except OSError:\n",
        "    print(\"lol\")"
      ],
      "execution_count": 0,
      "outputs": []
    },
    {
      "cell_type": "code",
      "metadata": {
        "id": "YHe_uVs7LMso",
        "colab_type": "code",
        "colab": {
          "base_uri": "https://localhost:8080/",
          "height": 101
        },
        "outputId": "f2e66720-3904-4103-d873-627bfc1d898d"
      },
      "source": [
        "# os.chdir(\"tmp\")\n",
        "os.listdir()"
      ],
      "execution_count": 6,
      "outputs": [
        {
          "output_type": "execute_result",
          "data": {
            "text/plain": [
              "['MSR-LA - 3467.docx',\n",
              " 'readme[1].txt',\n",
              " 'PetImages',\n",
              " 'cats-and-dogs.zip',\n",
              " 'cats-v-dogs']"
            ]
          },
          "metadata": {
            "tags": []
          },
          "execution_count": 6
        }
      ]
    },
    {
      "cell_type": "code",
      "metadata": {
        "id": "lXj7jImvLRl2",
        "colab_type": "code",
        "colab": {
          "base_uri": "https://localhost:8080/",
          "height": 34
        },
        "outputId": "8f7d782d-b9e2-4f11-ed9d-c73e9d6edf9f"
      },
      "source": [
        "os.chdir(\"cats-v-dogs\")\n",
        "os.listdir()"
      ],
      "execution_count": 7,
      "outputs": [
        {
          "output_type": "execute_result",
          "data": {
            "text/plain": [
              "['testing', 'training']"
            ]
          },
          "metadata": {
            "tags": []
          },
          "execution_count": 7
        }
      ]
    },
    {
      "cell_type": "code",
      "metadata": {
        "id": "Gkub1i-9LY6-",
        "colab_type": "code",
        "colab": {
          "base_uri": "https://localhost:8080/",
          "height": 34
        },
        "outputId": "637be7c1-6895-4d15-ef93-d1a3a263ff46"
      },
      "source": [
        "os.chdir(\"testing\")\n",
        "os.listdir()"
      ],
      "execution_count": 8,
      "outputs": [
        {
          "output_type": "execute_result",
          "data": {
            "text/plain": [
              "['dogs', 'cats']"
            ]
          },
          "metadata": {
            "tags": []
          },
          "execution_count": 8
        }
      ]
    },
    {
      "cell_type": "code",
      "metadata": {
        "id": "3bOFRBVqLfM1",
        "colab_type": "code",
        "colab": {
          "base_uri": "https://localhost:8080/",
          "height": 34
        },
        "outputId": "3514cbfd-f36c-48bc-8286-8d33aad237a9"
      },
      "source": [
        "os.chdir(\"..\")\n",
        "os.chdir(\"training\")\n",
        "os.listdir()"
      ],
      "execution_count": 9,
      "outputs": [
        {
          "output_type": "execute_result",
          "data": {
            "text/plain": [
              "['dogs', 'cats']"
            ]
          },
          "metadata": {
            "tags": []
          },
          "execution_count": 9
        }
      ]
    },
    {
      "cell_type": "code",
      "metadata": {
        "colab_type": "code",
        "id": "zvSODo0f9LaU",
        "colab": {
          "base_uri": "https://localhost:8080/",
          "height": 50
        },
        "outputId": "676700d5-d1c5-47c7-b323-63f144ad44c3"
      },
      "source": [
        "# Write a python function called split_data which takes\n",
        "# a SOURCE directory containing the files\n",
        "# a TRAINING directory that a portion of the files will be copied to\n",
        "# a TESTING directory that a portion of the files will be copie to\n",
        "# a SPLIT SIZE to determine the portion\n",
        "# The files should also be randomized, so that the training set is a random\n",
        "# X% of the files, and the test set is the remaining files\n",
        "# SO, for example, if SOURCE is PetImages/Cat, and SPLIT SIZE is .9\n",
        "# Then 90% of the images in PetImages/Cat will be copied to the TRAINING dir\n",
        "# and 10% of the images will be copied to the TESTING dir\n",
        "# Also -- All images should be checked, and if they have a zero file length,\n",
        "# they will not be copied over\n",
        "#\n",
        "# os.listdir(DIRECTORY) gives you a listing of the contents of that directory\n",
        "# os.path.getsize(PATH) gives you the size of the file\n",
        "# copyfile(source, destination) copies a file from source to destination\n",
        "# random.sample(list, len(list)) shuffles a list\n",
        "def split_data(SOURCE, TRAINING, TESTING, SPLIT_SIZE):\n",
        "  # YOUR CODE STARTS HERE\n",
        "  files = os.listdir(SOURCE)\n",
        "  checked_files = []\n",
        "  for picture in files:\n",
        "    if os.path.getsize(SOURCE + picture) >0:\n",
        "      checked_files.append(picture)\n",
        "    else:\n",
        "      print(picture + \" is zero length, so ignoring\")\n",
        "\n",
        "  checked_files = random.sample(checked_files, len(checked_files))\n",
        "  split_at = int(len(checked_files)*SPLIT_SIZE)\n",
        "  \n",
        "  for photo in checked_files[:split_at]:\n",
        "    #print(SOURCE + photo)\n",
        "    copyfile((SOURCE + photo), TRAINING + photo)\n",
        "  for photo in checked_files[split_at:]:\n",
        "    copyfile((SOURCE+photo), TESTING + photo)\n",
        "  # YOUR CODE ENDS HERE\n",
        "\n",
        "\n",
        "#------------------------Alternative Solution------------------------#\n",
        "# def split_data(SOURCE, TRAINING, TESTING, SPLIT_SIZE):\n",
        "#     # YOUR CODE STARTS HERE\n",
        "#     files =[]\n",
        "#     for filename in os.listdir(SOURCE):\n",
        "#         file = SOURCE + filename \n",
        "#         if os.path.getsize(file) > 0:\n",
        "#             files.append(filename)\n",
        "#         else:\n",
        "#             print(filename + \" is zero length, so ignoring.\")\n",
        "\n",
        "#     training_length = int(len(files)* SPLIT_SIZE)\n",
        "#     testing_length = int(len(files) - training_length)\n",
        "#     shuffled_set = random.sample(files, len(files))\n",
        "#     training_set = shuffled_set[0:training_length]\n",
        "#     testing_set = shuffled_set[-testing_length:]\n",
        "\n",
        "#     for filename in training_set:\n",
        "#         this_file = SOURCE + filename\n",
        "#         destination = TRAINING + filename \n",
        "#         copyfile(this_file , destination)\n",
        "\n",
        "#     for filename in testing_set:\n",
        "#         this_file = SOURCE + filename \n",
        "#         destination = TESTING + filename \n",
        "#         copyfile(this_file, destination)\n",
        "#     # YOUR CODE ENDS HERE\n",
        "\n",
        "CAT_SOURCE_DIR = \"/tmp/PetImages/Cat/\"\n",
        "TRAINING_CATS_DIR = \"/tmp/cats-v-dogs/training/cats/\"\n",
        "TESTING_CATS_DIR = \"/tmp/cats-v-dogs/testing/cats/\"\n",
        "DOG_SOURCE_DIR = \"/tmp/PetImages/Dog/\"\n",
        "TRAINING_DOGS_DIR = \"/tmp/cats-v-dogs/training/dogs/\"\n",
        "TESTING_DOGS_DIR = \"/tmp/cats-v-dogs/testing/dogs/\"\n",
        "\n",
        "split_size = .9\n",
        "split_data(CAT_SOURCE_DIR, TRAINING_CATS_DIR, TESTING_CATS_DIR, split_size)\n",
        "split_data(DOG_SOURCE_DIR, TRAINING_DOGS_DIR, TESTING_DOGS_DIR, split_size)\n",
        "\n",
        "# Expected output\n",
        "# 666.jpg is zero length, so ignoring\n",
        "# 11702.jpg is zero length, so ignoring"
      ],
      "execution_count": 10,
      "outputs": [
        {
          "output_type": "stream",
          "text": [
            "666.jpg is zero length, so ignoring\n",
            "11702.jpg is zero length, so ignoring\n"
          ],
          "name": "stdout"
        }
      ]
    },
    {
      "cell_type": "code",
      "metadata": {
        "colab_type": "code",
        "id": "luthalB76ufC",
        "colab": {
          "base_uri": "https://localhost:8080/",
          "height": 84
        },
        "outputId": "e248c7fb-15eb-4175-b651-283b2a1b3c65"
      },
      "source": [
        "print(len(os.listdir('/tmp/cats-v-dogs/training/cats/')))\n",
        "print(len(os.listdir('/tmp/cats-v-dogs/training/dogs/')))\n",
        "print(len(os.listdir('/tmp/cats-v-dogs/testing/cats/')))\n",
        "print(len(os.listdir('/tmp/cats-v-dogs/testing/dogs/')))\n",
        "\n",
        "# Expected output:\n",
        "# 11250\n",
        "# 11250\n",
        "# 1250\n",
        "# 1250"
      ],
      "execution_count": 11,
      "outputs": [
        {
          "output_type": "stream",
          "text": [
            "11250\n",
            "11250\n",
            "1250\n",
            "1250\n"
          ],
          "name": "stdout"
        }
      ]
    },
    {
      "cell_type": "code",
      "metadata": {
        "colab_type": "code",
        "id": "-BQrav4anTmj",
        "colab": {}
      },
      "source": [
        "# DEFINE A KERAS MODEL TO CLASSIFY CATS V DOGS\n",
        "# USE AT LEAST 3 CONVOLUTION LAYERS\n",
        "model = tf.keras.models.Sequential([\n",
        "        # YOUR CODE HERE\n",
        "        tf.keras.layers.Conv2D(filters = 32, kernel_size =(3,3), input_shape = (150,150,3), activation = \"relu\"),\n",
        "        tf.keras.layers.MaxPooling2D(2,2),\n",
        "        tf.keras.layers.Conv2D(64, 3, activation =\"relu\"),\n",
        "        tf.keras.layers.MaxPooling2D(2,2),\n",
        "        tf.keras.layers.Conv2D(128, 3, activation =\"relu\"),\n",
        "        tf.keras.layers.MaxPooling2D(2,2),\n",
        "        tf.keras.layers.Flatten(),\n",
        "        tf.keras.layers.Dense(512, activation =\"relu\"),\n",
        "        tf.keras.layers.Dense(1, activation = \"sigmoid\")\n",
        "])\n",
        "\n",
        "model.compile(optimizer=RMSprop(lr=0.001), loss='binary_crossentropy', metrics=['accuracy'])\n",
        "model.summary( )"
      ],
      "execution_count": 0,
      "outputs": []
    },
    {
      "cell_type": "code",
      "metadata": {
        "colab_type": "code",
        "id": "mlNjoJ5D61N6",
        "colab": {
          "base_uri": "https://localhost:8080/",
          "height": 50
        },
        "outputId": "40e67c8f-0786-4bf0-cbb7-37687c381ef4"
      },
      "source": [
        "TRAINING_DIR = \"/tmp/cats-v-dogs/training/\" #YOUR CODE HERE\n",
        "train_datagen = ImageDataGenerator(rotation_range = 40,\n",
        "                                   shear_range = 0.2,\n",
        "                                   width_shift_range =0.2,\n",
        "                                   height_shift_range =0.2, \n",
        "                                   zoom_range =0.2,\n",
        "                                   fill_mode =\"nearest\", \n",
        "                                   horizontal_flip = True,\n",
        "                                   rescale = 1/255)\n",
        "train_generator = train_datagen.flow_from_directory(TRAINING_DIR,\n",
        "                                                    target_size =(150,150),\n",
        "                                                    batch_size =32,\n",
        "                                                    class_mode =\"binary\")#YOUR CODE HERE\n",
        "\n",
        "VALIDATION_DIR =\"/tmp/cats-v-dogs/testing/\" #YOUR CODE HERE\n",
        "validation_datagen =  ImageDataGenerator(rescale = 1/255) #YOUR CODE HERE\n",
        "validation_generator = validation_datagen.flow_from_directory(VALIDATION_DIR,\n",
        "                                                              target_size= (150,150),\n",
        "                                                              batch_size= 32,\n",
        "                                                              class_mode =\"binary\") #YOUR CODE HERE\n",
        "\n",
        "\n",
        "\n",
        "# Expected Output:\n",
        "# Found 22498 images belonging to 2 classes.\n",
        "# Found 2500 images belonging to 2 classes."
      ],
      "execution_count": 13,
      "outputs": [
        {
          "output_type": "stream",
          "text": [
            "Found 22498 images belonging to 2 classes.\n",
            "Found 2500 images belonging to 2 classes.\n"
          ],
          "name": "stdout"
        }
      ]
    },
    {
      "cell_type": "code",
      "metadata": {
        "colab_type": "code",
        "id": "KyS4n53w7DxC",
        "colab": {
          "base_uri": "https://localhost:8080/",
          "height": 810
        },
        "outputId": "d7b6761e-978d-4e98-81d8-789fd2dc02e9"
      },
      "source": [
        "history = model.fit(train_generator,\n",
        "                              epochs=15,\n",
        "                              verbose=1,\n",
        "                              validation_data=validation_generator)\n",
        "\n",
        "# The expectation here is that the model will train, and that accuracy will be > 95% on both training and validation\n",
        "# i.e. acc:A1 and val_acc:A2 will be visible, and both A1 and A2 will be > .9"
      ],
      "execution_count": 14,
      "outputs": [
        {
          "output_type": "stream",
          "text": [
            "Epoch 1/15\n",
            "208/704 [=======>......................] - ETA: 2:18 - loss: 0.7286 - accuracy: 0.5589"
          ],
          "name": "stdout"
        },
        {
          "output_type": "stream",
          "text": [
            "/usr/local/lib/python3.6/dist-packages/PIL/TiffImagePlugin.py:770: UserWarning: Possibly corrupt EXIF data.  Expecting to read 32 bytes but only got 0. Skipping tag 270\n",
            "  \" Skipping tag %s\" % (size, len(data), tag)\n",
            "/usr/local/lib/python3.6/dist-packages/PIL/TiffImagePlugin.py:770: UserWarning: Possibly corrupt EXIF data.  Expecting to read 5 bytes but only got 0. Skipping tag 271\n",
            "  \" Skipping tag %s\" % (size, len(data), tag)\n",
            "/usr/local/lib/python3.6/dist-packages/PIL/TiffImagePlugin.py:770: UserWarning: Possibly corrupt EXIF data.  Expecting to read 8 bytes but only got 0. Skipping tag 272\n",
            "  \" Skipping tag %s\" % (size, len(data), tag)\n",
            "/usr/local/lib/python3.6/dist-packages/PIL/TiffImagePlugin.py:770: UserWarning: Possibly corrupt EXIF data.  Expecting to read 8 bytes but only got 0. Skipping tag 282\n",
            "  \" Skipping tag %s\" % (size, len(data), tag)\n",
            "/usr/local/lib/python3.6/dist-packages/PIL/TiffImagePlugin.py:770: UserWarning: Possibly corrupt EXIF data.  Expecting to read 8 bytes but only got 0. Skipping tag 283\n",
            "  \" Skipping tag %s\" % (size, len(data), tag)\n",
            "/usr/local/lib/python3.6/dist-packages/PIL/TiffImagePlugin.py:770: UserWarning: Possibly corrupt EXIF data.  Expecting to read 20 bytes but only got 0. Skipping tag 306\n",
            "  \" Skipping tag %s\" % (size, len(data), tag)\n",
            "/usr/local/lib/python3.6/dist-packages/PIL/TiffImagePlugin.py:770: UserWarning: Possibly corrupt EXIF data.  Expecting to read 48 bytes but only got 0. Skipping tag 532\n",
            "  \" Skipping tag %s\" % (size, len(data), tag)\n",
            "/usr/local/lib/python3.6/dist-packages/PIL/TiffImagePlugin.py:788: UserWarning: Corrupt EXIF data.  Expecting to read 2 bytes but only got 0. \n",
            "  warnings.warn(str(msg))\n"
          ],
          "name": "stderr"
        },
        {
          "output_type": "stream",
          "text": [
            "704/704 [==============================] - 206s 293ms/step - loss: 0.6740 - accuracy: 0.6085 - val_loss: 0.5729 - val_accuracy: 0.7032\n",
            "Epoch 2/15\n",
            "704/704 [==============================] - 207s 293ms/step - loss: 0.6052 - accuracy: 0.6797 - val_loss: 0.5928 - val_accuracy: 0.6948\n",
            "Epoch 3/15\n",
            "704/704 [==============================] - 207s 294ms/step - loss: 0.5735 - accuracy: 0.7006 - val_loss: 0.5268 - val_accuracy: 0.7380\n",
            "Epoch 4/15\n",
            "704/704 [==============================] - 207s 294ms/step - loss: 0.5583 - accuracy: 0.7267 - val_loss: 0.4922 - val_accuracy: 0.7724\n",
            "Epoch 5/15\n",
            "704/704 [==============================] - 207s 293ms/step - loss: 0.5427 - accuracy: 0.7299 - val_loss: 0.6663 - val_accuracy: 0.7016\n",
            "Epoch 6/15\n",
            "704/704 [==============================] - 206s 292ms/step - loss: 0.5265 - accuracy: 0.7406 - val_loss: 0.4979 - val_accuracy: 0.7532\n",
            "Epoch 7/15\n",
            "704/704 [==============================] - 205s 291ms/step - loss: 0.5181 - accuracy: 0.7478 - val_loss: 0.4367 - val_accuracy: 0.8028\n",
            "Epoch 8/15\n",
            "704/704 [==============================] - 202s 287ms/step - loss: 0.5023 - accuracy: 0.7624 - val_loss: 0.4629 - val_accuracy: 0.7708\n",
            "Epoch 9/15\n",
            "704/704 [==============================] - 203s 288ms/step - loss: 0.4949 - accuracy: 0.7698 - val_loss: 0.4151 - val_accuracy: 0.8144\n",
            "Epoch 10/15\n",
            "704/704 [==============================] - 208s 296ms/step - loss: 0.4847 - accuracy: 0.7722 - val_loss: 0.4495 - val_accuracy: 0.7888\n",
            "Epoch 11/15\n",
            "704/704 [==============================] - 208s 295ms/step - loss: 0.4812 - accuracy: 0.7756 - val_loss: 0.4193 - val_accuracy: 0.8088\n",
            "Epoch 12/15\n",
            "704/704 [==============================] - 208s 295ms/step - loss: 0.4753 - accuracy: 0.7817 - val_loss: 0.3869 - val_accuracy: 0.8288\n",
            "Epoch 13/15\n",
            "704/704 [==============================] - 207s 294ms/step - loss: 0.4680 - accuracy: 0.7834 - val_loss: 0.4800 - val_accuracy: 0.7956\n",
            "Epoch 14/15\n",
            "704/704 [==============================] - 207s 294ms/step - loss: 0.4660 - accuracy: 0.7898 - val_loss: 0.9745 - val_accuracy: 0.7880\n",
            "Epoch 15/15\n",
            "704/704 [==============================] - 207s 294ms/step - loss: 0.4627 - accuracy: 0.7905 - val_loss: 0.4313 - val_accuracy: 0.8200\n"
          ],
          "name": "stdout"
        }
      ]
    },
    {
      "cell_type": "code",
      "metadata": {
        "colab_type": "code",
        "id": "MWZrJN4-65RC",
        "colab": {
          "base_uri": "https://localhost:8080/",
          "height": 562
        },
        "outputId": "156812d9-039e-49c5-ecfd-b938df56f4a1"
      },
      "source": [
        "# PLOT LOSS AND ACCURACY\n",
        "%matplotlib inline\n",
        "\n",
        "import matplotlib.image  as mpimg\n",
        "import matplotlib.pyplot as plt\n",
        "\n",
        "#-----------------------------------------------------------\n",
        "# Retrieve a list of list results on training and test data\n",
        "# sets for each training epoch\n",
        "#-----------------------------------------------------------\n",
        "acc=history.history['accuracy']\n",
        "val_acc=history.history['val_accuracy']\n",
        "loss=history.history['loss']\n",
        "val_loss=history.history['val_loss']\n",
        "\n",
        "epochs=range(len(acc)) # Get number of epochs\n",
        "\n",
        "#------------------------------------------------\n",
        "# Plot training and validation accuracy per epoch\n",
        "#------------------------------------------------\n",
        "plt.plot(epochs, acc, 'r', \"Training Accuracy\")\n",
        "plt.plot(epochs, val_acc, 'b', \"Validation Accuracy\")\n",
        "plt.title('Training and validation accuracy')\n",
        "plt.figure()\n",
        "\n",
        "#------------------------------------------------\n",
        "# Plot training and validation loss per epoch\n",
        "#------------------------------------------------\n",
        "plt.plot(epochs, loss, 'r', \"Training Loss\")\n",
        "plt.plot(epochs, val_loss, 'b', \"Validation Loss\")\n",
        "\n",
        "\n",
        "plt.title('Training and validation loss')\n",
        "\n",
        "# Desired output. Charts with training and validation metrics. No crash :)"
      ],
      "execution_count": 15,
      "outputs": [
        {
          "output_type": "execute_result",
          "data": {
            "text/plain": [
              "Text(0.5, 1.0, 'Training and validation loss')"
            ]
          },
          "metadata": {
            "tags": []
          },
          "execution_count": 15
        },
        {
          "output_type": "display_data",
          "data": {
            "image/png": "[encoded data removed]",
            "text/plain": [
              "<Figure size 432x288 with 1 Axes>"
            ]
          },
          "metadata": {
            "tags": [],
            "needs_background": "light"
          }
        },
        {
          "output_type": "display_data",
          "data": {
            "image/png": "[encoded data removed]",
            "text/plain": [
              "<Figure size 432x288 with 1 Axes>"
            ]
          },
          "metadata": {
            "tags": [],
            "needs_background": "light"
          }
        }
      ]
    },
    {
      "cell_type": "code",
      "metadata": {
        "colab_type": "code",
        "id": "LqL6FYUrtXpf",
        "colab": {}
      },
      "source": [
        "# Here's a codeblock just for fun. You should be able to upload an image here \n",
        "# and have it classified without crashing\n",
        "\n",
        "# import numpy as np\n",
        "# from google.colab import files\n",
        "# from keras.preprocessing import image\n",
        "\n",
        "# uploaded = files.upload()\n",
        "\n",
        "# for fn in uploaded.keys():\n",
        " \n",
        "#   # predicting images\n",
        "#   path = '/content/' + fn\n",
        "#   img = image.load_img(path, target_size=(# YOUR CODE HERE))\n",
        "#   x = image.img_to_array(img)\n",
        "#   x = np.expand_dims(x, axis=0)\n",
        "\n",
        "#   images = np.vstack([x])\n",
        "#   classes = model.predict(images, batch_size=10)\n",
        "#   print(classes[0])\n",
        "#   if classes[0]>0.5:\n",
        "#     print(fn + \" is a dog\")\n",
        "#   else:\n",
        "#     print(fn + \" is a cat\")"
      ],
      "execution_count": 0,
      "outputs": []
    }
  ]
}
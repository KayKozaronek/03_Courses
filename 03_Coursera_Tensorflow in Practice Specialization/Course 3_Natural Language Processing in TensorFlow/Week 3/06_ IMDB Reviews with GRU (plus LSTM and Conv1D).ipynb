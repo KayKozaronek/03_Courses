{
  "nbformat": 4,
  "nbformat_minor": 0,
  "metadata": {
    "accelerator": "GPU",
    "colab": {
      "name": "Course 3 - Week 3 - Lesson 2d.ipynb",
      "provenance": [],
      "collapsed_sections": []
    },
    "kernelspec": {
      "display_name": "Python 3",
      "name": "python3"
    },
    "widgets": {
      "application/vnd.jupyter.widget-state+json": {
        "a6c573dd0eb74fd2ade9027ba503f608": {
          "model_module": "@jupyter-widgets/controls",
          "model_name": "HBoxModel",
          "state": {
            "_view_name": "HBoxView",
            "_dom_classes": [],
            "_model_name": "HBoxModel",
            "_view_module": "@jupyter-widgets/controls",
            "_model_module_version": "1.5.0",
            "_view_count": null,
            "_view_module_version": "1.5.0",
            "box_style": "",
            "layout": "IPY_MODEL_4a6de3986fef42a783b75c5c5a810c66",
            "_model_module": "@jupyter-widgets/controls",
            "children": [
              "IPY_MODEL_c338f375a8bc44d79b61fd2e7eeb4c20",
              "IPY_MODEL_6ce335cb83e3418099af713699669b86"
            ]
          }
        },
        "4a6de3986fef42a783b75c5c5a810c66": {
          "model_module": "@jupyter-widgets/base",
          "model_name": "LayoutModel",
          "state": {
            "_view_name": "LayoutView",
            "grid_template_rows": null,
            "right": null,
            "justify_content": null,
            "_view_module": "@jupyter-widgets/base",
            "overflow": null,
            "_model_module_version": "1.2.0",
            "_view_count": null,
            "flex_flow": null,
            "width": null,
            "min_width": null,
            "border": null,
            "align_items": null,
            "bottom": null,
            "_model_module": "@jupyter-widgets/base",
            "top": null,
            "grid_column": null,
            "overflow_y": null,
            "overflow_x": null,
            "grid_auto_flow": null,
            "grid_area": null,
            "grid_template_columns": null,
            "flex": null,
            "_model_name": "LayoutModel",
            "justify_items": null,
            "grid_row": null,
            "max_height": null,
            "align_content": null,
            "visibility": null,
            "align_self": null,
            "height": null,
            "min_height": null,
            "padding": null,
            "grid_auto_rows": null,
            "grid_gap": null,
            "max_width": null,
            "order": null,
            "_view_module_version": "1.2.0",
            "grid_template_areas": null,
            "object_position": null,
            "object_fit": null,
            "grid_auto_columns": null,
            "margin": null,
            "display": null,
            "left": null
          }
        },
        "c338f375a8bc44d79b61fd2e7eeb4c20": {
          "model_module": "@jupyter-widgets/controls",
          "model_name": "FloatProgressModel",
          "state": {
            "_view_name": "ProgressView",
            "style": "IPY_MODEL_330a2ed595414274ad1a9e9ec4abe841",
            "_dom_classes": [],
            "description": "Dl Completed...: 100%",
            "_model_name": "FloatProgressModel",
            "bar_style": "success",
            "max": 1,
            "_view_module": "@jupyter-widgets/controls",
            "_model_module_version": "1.5.0",
            "value": 1,
            "_view_count": null,
            "_view_module_version": "1.5.0",
            "orientation": "horizontal",
            "min": 0,
            "description_tooltip": null,
            "_model_module": "@jupyter-widgets/controls",
            "layout": "IPY_MODEL_269d960db1e0478c9dc7dfd51f312fcc"
          }
        },
        "6ce335cb83e3418099af713699669b86": {
          "model_module": "@jupyter-widgets/controls",
          "model_name": "HTMLModel",
          "state": {
            "_view_name": "HTMLView",
            "style": "IPY_MODEL_d851c09d3a8649f7add85512d269fc1f",
            "_dom_classes": [],
            "description": "",
            "_model_name": "HTMLModel",
            "placeholder": "​",
            "_view_module": "@jupyter-widgets/controls",
            "_model_module_version": "1.5.0",
            "value": " 1/1 [00:08&lt;00:00,  8.93s/ url]",
            "_view_count": null,
            "_view_module_version": "1.5.0",
            "description_tooltip": null,
            "_model_module": "@jupyter-widgets/controls",
            "layout": "IPY_MODEL_60c134952b2b4a46ac7caf5ee95e2a3b"
          }
        },
        "330a2ed595414274ad1a9e9ec4abe841": {
          "model_module": "@jupyter-widgets/controls",
          "model_name": "ProgressStyleModel",
          "state": {
            "_view_name": "StyleView",
            "_model_name": "ProgressStyleModel",
            "description_width": "initial",
            "_view_module": "@jupyter-widgets/base",
            "_model_module_version": "1.5.0",
            "_view_count": null,
            "_view_module_version": "1.2.0",
            "bar_color": null,
            "_model_module": "@jupyter-widgets/controls"
          }
        },
        "269d960db1e0478c9dc7dfd51f312fcc": {
          "model_module": "@jupyter-widgets/base",
          "model_name": "LayoutModel",
          "state": {
            "_view_name": "LayoutView",
            "grid_template_rows": null,
            "right": null,
            "justify_content": null,
            "_view_module": "@jupyter-widgets/base",
            "overflow": null,
            "_model_module_version": "1.2.0",
            "_view_count": null,
            "flex_flow": null,
            "width": null,
            "min_width": null,
            "border": null,
            "align_items": null,
            "bottom": null,
            "_model_module": "@jupyter-widgets/base",
            "top": null,
            "grid_column": null,
            "overflow_y": null,
            "overflow_x": null,
            "grid_auto_flow": null,
            "grid_area": null,
            "grid_template_columns": null,
            "flex": null,
            "_model_name": "LayoutModel",
            "justify_items": null,
            "grid_row": null,
            "max_height": null,
            "align_content": null,
            "visibility": null,
            "align_self": null,
            "height": null,
            "min_height": null,
            "padding": null,
            "grid_auto_rows": null,
            "grid_gap": null,
            "max_width": null,
            "order": null,
            "_view_module_version": "1.2.0",
            "grid_template_areas": null,
            "object_position": null,
            "object_fit": null,
            "grid_auto_columns": null,
            "margin": null,
            "display": null,
            "left": null
          }
        },
        "d851c09d3a8649f7add85512d269fc1f": {
          "model_module": "@jupyter-widgets/controls",
          "model_name": "DescriptionStyleModel",
          "state": {
            "_view_name": "StyleView",
            "_model_name": "DescriptionStyleModel",
            "description_width": "",
            "_view_module": "@jupyter-widgets/base",
            "_model_module_version": "1.5.0",
            "_view_count": null,
            "_view_module_version": "1.2.0",
            "_model_module": "@jupyter-widgets/controls"
          }
        },
        "60c134952b2b4a46ac7caf5ee95e2a3b": {
          "model_module": "@jupyter-widgets/base",
          "model_name": "LayoutModel",
          "state": {
            "_view_name": "LayoutView",
            "grid_template_rows": null,
            "right": null,
            "justify_content": null,
            "_view_module": "@jupyter-widgets/base",
            "overflow": null,
            "_model_module_version": "1.2.0",
            "_view_count": null,
            "flex_flow": null,
            "width": null,
            "min_width": null,
            "border": null,
            "align_items": null,
            "bottom": null,
            "_model_module": "@jupyter-widgets/base",
            "top": null,
            "grid_column": null,
            "overflow_y": null,
            "overflow_x": null,
            "grid_auto_flow": null,
            "grid_area": null,
            "grid_template_columns": null,
            "flex": null,
            "_model_name": "LayoutModel",
            "justify_items": null,
            "grid_row": null,
            "max_height": null,
            "align_content": null,
            "visibility": null,
            "align_self": null,
            "height": null,
            "min_height": null,
            "padding": null,
            "grid_auto_rows": null,
            "grid_gap": null,
            "max_width": null,
            "order": null,
            "_view_module_version": "1.2.0",
            "grid_template_areas": null,
            "object_position": null,
            "object_fit": null,
            "grid_auto_columns": null,
            "margin": null,
            "display": null,
            "left": null
          }
        },
        "13058dfbb63c4715bee800eaa011a87e": {
          "model_module": "@jupyter-widgets/controls",
          "model_name": "HBoxModel",
          "state": {
            "_view_name": "HBoxView",
            "_dom_classes": [],
            "_model_name": "HBoxModel",
            "_view_module": "@jupyter-widgets/controls",
            "_model_module_version": "1.5.0",
            "_view_count": null,
            "_view_module_version": "1.5.0",
            "box_style": "",
            "layout": "IPY_MODEL_41c5e090e0d2429690c0d1d349a22c71",
            "_model_module": "@jupyter-widgets/controls",
            "children": [
              "IPY_MODEL_40a8d4c490bc4a1b81396c2f1e446b5b",
              "IPY_MODEL_048d0c114df64c8a8a9bebe7b86e83a8"
            ]
          }
        },
        "41c5e090e0d2429690c0d1d349a22c71": {
          "model_module": "@jupyter-widgets/base",
          "model_name": "LayoutModel",
          "state": {
            "_view_name": "LayoutView",
            "grid_template_rows": null,
            "right": null,
            "justify_content": null,
            "_view_module": "@jupyter-widgets/base",
            "overflow": null,
            "_model_module_version": "1.2.0",
            "_view_count": null,
            "flex_flow": null,
            "width": null,
            "min_width": null,
            "border": null,
            "align_items": null,
            "bottom": null,
            "_model_module": "@jupyter-widgets/base",
            "top": null,
            "grid_column": null,
            "overflow_y": null,
            "overflow_x": null,
            "grid_auto_flow": null,
            "grid_area": null,
            "grid_template_columns": null,
            "flex": null,
            "_model_name": "LayoutModel",
            "justify_items": null,
            "grid_row": null,
            "max_height": null,
            "align_content": null,
            "visibility": null,
            "align_self": null,
            "height": null,
            "min_height": null,
            "padding": null,
            "grid_auto_rows": null,
            "grid_gap": null,
            "max_width": null,
            "order": null,
            "_view_module_version": "1.2.0",
            "grid_template_areas": null,
            "object_position": null,
            "object_fit": null,
            "grid_auto_columns": null,
            "margin": null,
            "display": null,
            "left": null
          }
        },
        "40a8d4c490bc4a1b81396c2f1e446b5b": {
          "model_module": "@jupyter-widgets/controls",
          "model_name": "FloatProgressModel",
          "state": {
            "_view_name": "ProgressView",
            "style": "IPY_MODEL_a78e5549405d439fb2237503deb83838",
            "_dom_classes": [],
            "description": "Dl Size...: 100%",
            "_model_name": "FloatProgressModel",
            "bar_style": "success",
            "max": 1,
            "_view_module": "@jupyter-widgets/controls",
            "_model_module_version": "1.5.0",
            "value": 1,
            "_view_count": null,
            "_view_module_version": "1.5.0",
            "orientation": "horizontal",
            "min": 0,
            "description_tooltip": null,
            "_model_module": "@jupyter-widgets/controls",
            "layout": "IPY_MODEL_15f4a3bc8d8b4e82ba222aa45375d5f4"
          }
        },
        "048d0c114df64c8a8a9bebe7b86e83a8": {
          "model_module": "@jupyter-widgets/controls",
          "model_name": "HTMLModel",
          "state": {
            "_view_name": "HTMLView",
            "style": "IPY_MODEL_9ac162265e7540ae8c4c44ee40e68464",
            "_dom_classes": [],
            "description": "",
            "_model_name": "HTMLModel",
            "placeholder": "​",
            "_view_module": "@jupyter-widgets/controls",
            "_model_module_version": "1.5.0",
            "value": " 80/80 [00:08&lt;00:00,  8.98 MiB/s]",
            "_view_count": null,
            "_view_module_version": "1.5.0",
            "description_tooltip": null,
            "_model_module": "@jupyter-widgets/controls",
            "layout": "IPY_MODEL_d73dd954f68f4787abee9027a2f573f7"
          }
        },
        "a78e5549405d439fb2237503deb83838": {
          "model_module": "@jupyter-widgets/controls",
          "model_name": "ProgressStyleModel",
          "state": {
            "_view_name": "StyleView",
            "_model_name": "ProgressStyleModel",
            "description_width": "initial",
            "_view_module": "@jupyter-widgets/base",
            "_model_module_version": "1.5.0",
            "_view_count": null,
            "_view_module_version": "1.2.0",
            "bar_color": null,
            "_model_module": "@jupyter-widgets/controls"
          }
        },
        "15f4a3bc8d8b4e82ba222aa45375d5f4": {
          "model_module": "@jupyter-widgets/base",
          "model_name": "LayoutModel",
          "state": {
            "_view_name": "LayoutView",
            "grid_template_rows": null,
            "right": null,
            "justify_content": null,
            "_view_module": "@jupyter-widgets/base",
            "overflow": null,
            "_model_module_version": "1.2.0",
            "_view_count": null,
            "flex_flow": null,
            "width": null,
            "min_width": null,
            "border": null,
            "align_items": null,
            "bottom": null,
            "_model_module": "@jupyter-widgets/base",
            "top": null,
            "grid_column": null,
            "overflow_y": null,
            "overflow_x": null,
            "grid_auto_flow": null,
            "grid_area": null,
            "grid_template_columns": null,
            "flex": null,
            "_model_name": "LayoutModel",
            "justify_items": null,
            "grid_row": null,
            "max_height": null,
            "align_content": null,
            "visibility": null,
            "align_self": null,
            "height": null,
            "min_height": null,
            "padding": null,
            "grid_auto_rows": null,
            "grid_gap": null,
            "max_width": null,
            "order": null,
            "_view_module_version": "1.2.0",
            "grid_template_areas": null,
            "object_position": null,
            "object_fit": null,
            "grid_auto_columns": null,
            "margin": null,
            "display": null,
            "left": null
          }
        },
        "9ac162265e7540ae8c4c44ee40e68464": {
          "model_module": "@jupyter-widgets/controls",
          "model_name": "DescriptionStyleModel",
          "state": {
            "_view_name": "StyleView",
            "_model_name": "DescriptionStyleModel",
            "description_width": "",
            "_view_module": "@jupyter-widgets/base",
            "_model_module_version": "1.5.0",
            "_view_count": null,
            "_view_module_version": "1.2.0",
            "_model_module": "@jupyter-widgets/controls"
          }
        },
        "d73dd954f68f4787abee9027a2f573f7": {
          "model_module": "@jupyter-widgets/base",
          "model_name": "LayoutModel",
          "state": {
            "_view_name": "LayoutView",
            "grid_template_rows": null,
            "right": null,
            "justify_content": null,
            "_view_module": "@jupyter-widgets/base",
            "overflow": null,
            "_model_module_version": "1.2.0",
            "_view_count": null,
            "flex_flow": null,
            "width": null,
            "min_width": null,
            "border": null,
            "align_items": null,
            "bottom": null,
            "_model_module": "@jupyter-widgets/base",
            "top": null,
            "grid_column": null,
            "overflow_y": null,
            "overflow_x": null,
            "grid_auto_flow": null,
            "grid_area": null,
            "grid_template_columns": null,
            "flex": null,
            "_model_name": "LayoutModel",
            "justify_items": null,
            "grid_row": null,
            "max_height": null,
            "align_content": null,
            "visibility": null,
            "align_self": null,
            "height": null,
            "min_height": null,
            "padding": null,
            "grid_auto_rows": null,
            "grid_gap": null,
            "max_width": null,
            "order": null,
            "_view_module_version": "1.2.0",
            "grid_template_areas": null,
            "object_position": null,
            "object_fit": null,
            "grid_auto_columns": null,
            "margin": null,
            "display": null,
            "left": null
          }
        },
        "638eaba4f21c43fca5e892a161632979": {
          "model_module": "@jupyter-widgets/controls",
          "model_name": "HBoxModel",
          "state": {
            "_view_name": "HBoxView",
            "_dom_classes": [],
            "_model_name": "HBoxModel",
            "_view_module": "@jupyter-widgets/controls",
            "_model_module_version": "1.5.0",
            "_view_count": null,
            "_view_module_version": "1.5.0",
            "box_style": "",
            "layout": "IPY_MODEL_c0040b6fd4304f85ada5d68bc33a5260",
            "_model_module": "@jupyter-widgets/controls",
            "children": [
              "IPY_MODEL_34a1610fa7ed44cd8bcde1cf4108c140",
              "IPY_MODEL_9c035bfc065c415cbe01ac85656d07c0"
            ]
          }
        },
        "c0040b6fd4304f85ada5d68bc33a5260": {
          "model_module": "@jupyter-widgets/base",
          "model_name": "LayoutModel",
          "state": {
            "_view_name": "LayoutView",
            "grid_template_rows": null,
            "right": null,
            "justify_content": null,
            "_view_module": "@jupyter-widgets/base",
            "overflow": null,
            "_model_module_version": "1.2.0",
            "_view_count": null,
            "flex_flow": null,
            "width": null,
            "min_width": null,
            "border": null,
            "align_items": null,
            "bottom": null,
            "_model_module": "@jupyter-widgets/base",
            "top": null,
            "grid_column": null,
            "overflow_y": null,
            "overflow_x": null,
            "grid_auto_flow": null,
            "grid_area": null,
            "grid_template_columns": null,
            "flex": null,
            "_model_name": "LayoutModel",
            "justify_items": null,
            "grid_row": null,
            "max_height": null,
            "align_content": null,
            "visibility": null,
            "align_self": null,
            "height": null,
            "min_height": null,
            "padding": null,
            "grid_auto_rows": null,
            "grid_gap": null,
            "max_width": null,
            "order": null,
            "_view_module_version": "1.2.0",
            "grid_template_areas": null,
            "object_position": null,
            "object_fit": null,
            "grid_auto_columns": null,
            "margin": null,
            "display": null,
            "left": null
          }
        },
        "34a1610fa7ed44cd8bcde1cf4108c140": {
          "model_module": "@jupyter-widgets/controls",
          "model_name": "FloatProgressModel",
          "state": {
            "_view_name": "ProgressView",
            "style": "IPY_MODEL_6b3eece8066e4430a0dd291c4a7b6deb",
            "_dom_classes": [],
            "description": "",
            "_model_name": "FloatProgressModel",
            "bar_style": "info",
            "max": 1,
            "_view_module": "@jupyter-widgets/controls",
            "_model_module_version": "1.5.0",
            "value": 1,
            "_view_count": null,
            "_view_module_version": "1.5.0",
            "orientation": "horizontal",
            "min": 0,
            "description_tooltip": null,
            "_model_module": "@jupyter-widgets/controls",
            "layout": "IPY_MODEL_3a81eb053c884de193183694ce320611"
          }
        },
        "9c035bfc065c415cbe01ac85656d07c0": {
          "model_module": "@jupyter-widgets/controls",
          "model_name": "HTMLModel",
          "state": {
            "_view_name": "HTMLView",
            "style": "IPY_MODEL_719eb62a215d4cd2988665d2cb81cee1",
            "_dom_classes": [],
            "description": "",
            "_model_name": "HTMLModel",
            "placeholder": "​",
            "_view_module": "@jupyter-widgets/controls",
            "_model_module_version": "1.5.0",
            "value": " 25000/0 [00:12&lt;00:00, 3311.68 examples/s]",
            "_view_count": null,
            "_view_module_version": "1.5.0",
            "description_tooltip": null,
            "_model_module": "@jupyter-widgets/controls",
            "layout": "IPY_MODEL_5dd0196e11d54fcca5c753cea865617f"
          }
        },
        "6b3eece8066e4430a0dd291c4a7b6deb": {
          "model_module": "@jupyter-widgets/controls",
          "model_name": "ProgressStyleModel",
          "state": {
            "_view_name": "StyleView",
            "_model_name": "ProgressStyleModel",
            "description_width": "initial",
            "_view_module": "@jupyter-widgets/base",
            "_model_module_version": "1.5.0",
            "_view_count": null,
            "_view_module_version": "1.2.0",
            "bar_color": null,
            "_model_module": "@jupyter-widgets/controls"
          }
        },
        "3a81eb053c884de193183694ce320611": {
          "model_module": "@jupyter-widgets/base",
          "model_name": "LayoutModel",
          "state": {
            "_view_name": "LayoutView",
            "grid_template_rows": null,
            "right": null,
            "justify_content": null,
            "_view_module": "@jupyter-widgets/base",
            "overflow": null,
            "_model_module_version": "1.2.0",
            "_view_count": null,
            "flex_flow": null,
            "width": null,
            "min_width": null,
            "border": null,
            "align_items": null,
            "bottom": null,
            "_model_module": "@jupyter-widgets/base",
            "top": null,
            "grid_column": null,
            "overflow_y": null,
            "overflow_x": null,
            "grid_auto_flow": null,
            "grid_area": null,
            "grid_template_columns": null,
            "flex": null,
            "_model_name": "LayoutModel",
            "justify_items": null,
            "grid_row": null,
            "max_height": null,
            "align_content": null,
            "visibility": null,
            "align_self": null,
            "height": null,
            "min_height": null,
            "padding": null,
            "grid_auto_rows": null,
            "grid_gap": null,
            "max_width": null,
            "order": null,
            "_view_module_version": "1.2.0",
            "grid_template_areas": null,
            "object_position": null,
            "object_fit": null,
            "grid_auto_columns": null,
            "margin": null,
            "display": null,
            "left": null
          }
        },
        "719eb62a215d4cd2988665d2cb81cee1": {
          "model_module": "@jupyter-widgets/controls",
          "model_name": "DescriptionStyleModel",
          "state": {
            "_view_name": "StyleView",
            "_model_name": "DescriptionStyleModel",
            "description_width": "",
            "_view_module": "@jupyter-widgets/base",
            "_model_module_version": "1.5.0",
            "_view_count": null,
            "_view_module_version": "1.2.0",
            "_model_module": "@jupyter-widgets/controls"
          }
        },
        "5dd0196e11d54fcca5c753cea865617f": {
          "model_module": "@jupyter-widgets/base",
          "model_name": "LayoutModel",
          "state": {
            "_view_name": "LayoutView",
            "grid_template_rows": null,
            "right": null,
            "justify_content": null,
            "_view_module": "@jupyter-widgets/base",
            "overflow": null,
            "_model_module_version": "1.2.0",
            "_view_count": null,
            "flex_flow": null,
            "width": null,
            "min_width": null,
            "border": null,
            "align_items": null,
            "bottom": null,
            "_model_module": "@jupyter-widgets/base",
            "top": null,
            "grid_column": null,
            "overflow_y": null,
            "overflow_x": null,
            "grid_auto_flow": null,
            "grid_area": null,
            "grid_template_columns": null,
            "flex": null,
            "_model_name": "LayoutModel",
            "justify_items": null,
            "grid_row": null,
            "max_height": null,
            "align_content": null,
            "visibility": null,
            "align_self": null,
            "height": null,
            "min_height": null,
            "padding": null,
            "grid_auto_rows": null,
            "grid_gap": null,
            "max_width": null,
            "order": null,
            "_view_module_version": "1.2.0",
            "grid_template_areas": null,
            "object_position": null,
            "object_fit": null,
            "grid_auto_columns": null,
            "margin": null,
            "display": null,
            "left": null
          }
        },
        "b1c727377cac4724b02da4ba13f88583": {
          "model_module": "@jupyter-widgets/controls",
          "model_name": "HBoxModel",
          "state": {
            "_view_name": "HBoxView",
            "_dom_classes": [],
            "_model_name": "HBoxModel",
            "_view_module": "@jupyter-widgets/controls",
            "_model_module_version": "1.5.0",
            "_view_count": null,
            "_view_module_version": "1.5.0",
            "box_style": "",
            "layout": "IPY_MODEL_7ecfc4aea1b744e0851f89df65f041ce",
            "_model_module": "@jupyter-widgets/controls",
            "children": [
              "IPY_MODEL_ea1848ee23d046d8994296081637867d",
              "IPY_MODEL_4207c666bfc94198940a880dbda92991"
            ]
          }
        },
        "7ecfc4aea1b744e0851f89df65f041ce": {
          "model_module": "@jupyter-widgets/base",
          "model_name": "LayoutModel",
          "state": {
            "_view_name": "LayoutView",
            "grid_template_rows": null,
            "right": null,
            "justify_content": null,
            "_view_module": "@jupyter-widgets/base",
            "overflow": null,
            "_model_module_version": "1.2.0",
            "_view_count": null,
            "flex_flow": null,
            "width": null,
            "min_width": null,
            "border": null,
            "align_items": null,
            "bottom": null,
            "_model_module": "@jupyter-widgets/base",
            "top": null,
            "grid_column": null,
            "overflow_y": null,
            "overflow_x": null,
            "grid_auto_flow": null,
            "grid_area": null,
            "grid_template_columns": null,
            "flex": null,
            "_model_name": "LayoutModel",
            "justify_items": null,
            "grid_row": null,
            "max_height": null,
            "align_content": null,
            "visibility": null,
            "align_self": null,
            "height": null,
            "min_height": null,
            "padding": null,
            "grid_auto_rows": null,
            "grid_gap": null,
            "max_width": null,
            "order": null,
            "_view_module_version": "1.2.0",
            "grid_template_areas": null,
            "object_position": null,
            "object_fit": null,
            "grid_auto_columns": null,
            "margin": null,
            "display": null,
            "left": null
          }
        },
        "ea1848ee23d046d8994296081637867d": {
          "model_module": "@jupyter-widgets/controls",
          "model_name": "FloatProgressModel",
          "state": {
            "_view_name": "ProgressView",
            "style": "IPY_MODEL_e638c6b25ae84ccca9bdb477a796eb50",
            "_dom_classes": [],
            "description": " 54%",
            "_model_name": "FloatProgressModel",
            "bar_style": "danger",
            "max": 25000,
            "_view_module": "@jupyter-widgets/controls",
            "_model_module_version": "1.5.0",
            "value": 13477,
            "_view_count": null,
            "_view_module_version": "1.5.0",
            "orientation": "horizontal",
            "min": 0,
            "description_tooltip": null,
            "_model_module": "@jupyter-widgets/controls",
            "layout": "IPY_MODEL_3528a088b90c4b4ea30ea5e32a2c03a8"
          }
        },
        "4207c666bfc94198940a880dbda92991": {
          "model_module": "@jupyter-widgets/controls",
          "model_name": "HTMLModel",
          "state": {
            "_view_name": "HTMLView",
            "style": "IPY_MODEL_9f2fe40e94574d42a0cdf04ecf76ffaa",
            "_dom_classes": [],
            "description": "",
            "_model_name": "HTMLModel",
            "placeholder": "​",
            "_view_module": "@jupyter-widgets/controls",
            "_model_module_version": "1.5.0",
            "value": " 13477/25000 [00:00&lt;00:00, 134767.88 examples/s]",
            "_view_count": null,
            "_view_module_version": "1.5.0",
            "description_tooltip": null,
            "_model_module": "@jupyter-widgets/controls",
            "layout": "IPY_MODEL_47beec4947184abb911b8a7558dca78e"
          }
        },
        "e638c6b25ae84ccca9bdb477a796eb50": {
          "model_module": "@jupyter-widgets/controls",
          "model_name": "ProgressStyleModel",
          "state": {
            "_view_name": "StyleView",
            "_model_name": "ProgressStyleModel",
            "description_width": "initial",
            "_view_module": "@jupyter-widgets/base",
            "_model_module_version": "1.5.0",
            "_view_count": null,
            "_view_module_version": "1.2.0",
            "bar_color": null,
            "_model_module": "@jupyter-widgets/controls"
          }
        },
        "3528a088b90c4b4ea30ea5e32a2c03a8": {
          "model_module": "@jupyter-widgets/base",
          "model_name": "LayoutModel",
          "state": {
            "_view_name": "LayoutView",
            "grid_template_rows": null,
            "right": null,
            "justify_content": null,
            "_view_module": "@jupyter-widgets/base",
            "overflow": null,
            "_model_module_version": "1.2.0",
            "_view_count": null,
            "flex_flow": null,
            "width": null,
            "min_width": null,
            "border": null,
            "align_items": null,
            "bottom": null,
            "_model_module": "@jupyter-widgets/base",
            "top": null,
            "grid_column": null,
            "overflow_y": null,
            "overflow_x": null,
            "grid_auto_flow": null,
            "grid_area": null,
            "grid_template_columns": null,
            "flex": null,
            "_model_name": "LayoutModel",
            "justify_items": null,
            "grid_row": null,
            "max_height": null,
            "align_content": null,
            "visibility": null,
            "align_self": null,
            "height": null,
            "min_height": null,
            "padding": null,
            "grid_auto_rows": null,
            "grid_gap": null,
            "max_width": null,
            "order": null,
            "_view_module_version": "1.2.0",
            "grid_template_areas": null,
            "object_position": null,
            "object_fit": null,
            "grid_auto_columns": null,
            "margin": null,
            "display": null,
            "left": null
          }
        },
        "9f2fe40e94574d42a0cdf04ecf76ffaa": {
          "model_module": "@jupyter-widgets/controls",
          "model_name": "DescriptionStyleModel",
          "state": {
            "_view_name": "StyleView",
            "_model_name": "DescriptionStyleModel",
            "description_width": "",
            "_view_module": "@jupyter-widgets/base",
            "_model_module_version": "1.5.0",
            "_view_count": null,
            "_view_module_version": "1.2.0",
            "_model_module": "@jupyter-widgets/controls"
          }
        },
        "47beec4947184abb911b8a7558dca78e": {
          "model_module": "@jupyter-widgets/base",
          "model_name": "LayoutModel",
          "state": {
            "_view_name": "LayoutView",
            "grid_template_rows": null,
            "right": null,
            "justify_content": null,
            "_view_module": "@jupyter-widgets/base",
            "overflow": null,
            "_model_module_version": "1.2.0",
            "_view_count": null,
            "flex_flow": null,
            "width": null,
            "min_width": null,
            "border": null,
            "align_items": null,
            "bottom": null,
            "_model_module": "@jupyter-widgets/base",
            "top": null,
            "grid_column": null,
            "overflow_y": null,
            "overflow_x": null,
            "grid_auto_flow": null,
            "grid_area": null,
            "grid_template_columns": null,
            "flex": null,
            "_model_name": "LayoutModel",
            "justify_items": null,
            "grid_row": null,
            "max_height": null,
            "align_content": null,
            "visibility": null,
            "align_self": null,
            "height": null,
            "min_height": null,
            "padding": null,
            "grid_auto_rows": null,
            "grid_gap": null,
            "max_width": null,
            "order": null,
            "_view_module_version": "1.2.0",
            "grid_template_areas": null,
            "object_position": null,
            "object_fit": null,
            "grid_auto_columns": null,
            "margin": null,
            "display": null,
            "left": null
          }
        },
        "d02fdb5a83e64069912a5b0e11ffbe88": {
          "model_module": "@jupyter-widgets/controls",
          "model_name": "HBoxModel",
          "state": {
            "_view_name": "HBoxView",
            "_dom_classes": [],
            "_model_name": "HBoxModel",
            "_view_module": "@jupyter-widgets/controls",
            "_model_module_version": "1.5.0",
            "_view_count": null,
            "_view_module_version": "1.5.0",
            "box_style": "",
            "layout": "IPY_MODEL_a0384164e95946cf886476fd4ab040f8",
            "_model_module": "@jupyter-widgets/controls",
            "children": [
              "IPY_MODEL_0b5ae33c60834eff845602dde5eaf928",
              "IPY_MODEL_421c660a0e4649108db0143fb3811374"
            ]
          }
        },
        "a0384164e95946cf886476fd4ab040f8": {
          "model_module": "@jupyter-widgets/base",
          "model_name": "LayoutModel",
          "state": {
            "_view_name": "LayoutView",
            "grid_template_rows": null,
            "right": null,
            "justify_content": null,
            "_view_module": "@jupyter-widgets/base",
            "overflow": null,
            "_model_module_version": "1.2.0",
            "_view_count": null,
            "flex_flow": null,
            "width": null,
            "min_width": null,
            "border": null,
            "align_items": null,
            "bottom": null,
            "_model_module": "@jupyter-widgets/base",
            "top": null,
            "grid_column": null,
            "overflow_y": null,
            "overflow_x": null,
            "grid_auto_flow": null,
            "grid_area": null,
            "grid_template_columns": null,
            "flex": null,
            "_model_name": "LayoutModel",
            "justify_items": null,
            "grid_row": null,
            "max_height": null,
            "align_content": null,
            "visibility": null,
            "align_self": null,
            "height": null,
            "min_height": null,
            "padding": null,
            "grid_auto_rows": null,
            "grid_gap": null,
            "max_width": null,
            "order": null,
            "_view_module_version": "1.2.0",
            "grid_template_areas": null,
            "object_position": null,
            "object_fit": null,
            "grid_auto_columns": null,
            "margin": null,
            "display": null,
            "left": null
          }
        },
        "0b5ae33c60834eff845602dde5eaf928": {
          "model_module": "@jupyter-widgets/controls",
          "model_name": "FloatProgressModel",
          "state": {
            "_view_name": "ProgressView",
            "style": "IPY_MODEL_6d46da9657344bc883440dfd8b95fa49",
            "_dom_classes": [],
            "description": "",
            "_model_name": "FloatProgressModel",
            "bar_style": "info",
            "max": 1,
            "_view_module": "@jupyter-widgets/controls",
            "_model_module_version": "1.5.0",
            "value": 1,
            "_view_count": null,
            "_view_module_version": "1.5.0",
            "orientation": "horizontal",
            "min": 0,
            "description_tooltip": null,
            "_model_module": "@jupyter-widgets/controls",
            "layout": "IPY_MODEL_67b5624ca5194447ba6e0f9ddbda0026"
          }
        },
        "421c660a0e4649108db0143fb3811374": {
          "model_module": "@jupyter-widgets/controls",
          "model_name": "HTMLModel",
          "state": {
            "_view_name": "HTMLView",
            "style": "IPY_MODEL_08fab553731e417a8946754f15badef7",
            "_dom_classes": [],
            "description": "",
            "_model_name": "HTMLModel",
            "placeholder": "​",
            "_view_module": "@jupyter-widgets/controls",
            "_model_module_version": "1.5.0",
            "value": " 25000/0 [00:12&lt;00:00, 3418.11 examples/s]",
            "_view_count": null,
            "_view_module_version": "1.5.0",
            "description_tooltip": null,
            "_model_module": "@jupyter-widgets/controls",
            "layout": "IPY_MODEL_5a6594aa651d463ab8a44fa8e81e6a70"
          }
        },
        "6d46da9657344bc883440dfd8b95fa49": {
          "model_module": "@jupyter-widgets/controls",
          "model_name": "ProgressStyleModel",
          "state": {
            "_view_name": "StyleView",
            "_model_name": "ProgressStyleModel",
            "description_width": "initial",
            "_view_module": "@jupyter-widgets/base",
            "_model_module_version": "1.5.0",
            "_view_count": null,
            "_view_module_version": "1.2.0",
            "bar_color": null,
            "_model_module": "@jupyter-widgets/controls"
          }
        },
        "67b5624ca5194447ba6e0f9ddbda0026": {
          "model_module": "@jupyter-widgets/base",
          "model_name": "LayoutModel",
          "state": {
            "_view_name": "LayoutView",
            "grid_template_rows": null,
            "right": null,
            "justify_content": null,
            "_view_module": "@jupyter-widgets/base",
            "overflow": null,
            "_model_module_version": "1.2.0",
            "_view_count": null,
            "flex_flow": null,
            "width": null,
            "min_width": null,
            "border": null,
            "align_items": null,
            "bottom": null,
            "_model_module": "@jupyter-widgets/base",
            "top": null,
            "grid_column": null,
            "overflow_y": null,
            "overflow_x": null,
            "grid_auto_flow": null,
            "grid_area": null,
            "grid_template_columns": null,
            "flex": null,
            "_model_name": "LayoutModel",
            "justify_items": null,
            "grid_row": null,
            "max_height": null,
            "align_content": null,
            "visibility": null,
            "align_self": null,
            "height": null,
            "min_height": null,
            "padding": null,
            "grid_auto_rows": null,
            "grid_gap": null,
            "max_width": null,
            "order": null,
            "_view_module_version": "1.2.0",
            "grid_template_areas": null,
            "object_position": null,
            "object_fit": null,
            "grid_auto_columns": null,
            "margin": null,
            "display": null,
            "left": null
          }
        },
        "08fab553731e417a8946754f15badef7": {
          "model_module": "@jupyter-widgets/controls",
          "model_name": "DescriptionStyleModel",
          "state": {
            "_view_name": "StyleView",
            "_model_name": "DescriptionStyleModel",
            "description_width": "",
            "_view_module": "@jupyter-widgets/base",
            "_model_module_version": "1.5.0",
            "_view_count": null,
            "_view_module_version": "1.2.0",
            "_model_module": "@jupyter-widgets/controls"
          }
        },
        "5a6594aa651d463ab8a44fa8e81e6a70": {
          "model_module": "@jupyter-widgets/base",
          "model_name": "LayoutModel",
          "state": {
            "_view_name": "LayoutView",
            "grid_template_rows": null,
            "right": null,
            "justify_content": null,
            "_view_module": "@jupyter-widgets/base",
            "overflow": null,
            "_model_module_version": "1.2.0",
            "_view_count": null,
            "flex_flow": null,
            "width": null,
            "min_width": null,
            "border": null,
            "align_items": null,
            "bottom": null,
            "_model_module": "@jupyter-widgets/base",
            "top": null,
            "grid_column": null,
            "overflow_y": null,
            "overflow_x": null,
            "grid_auto_flow": null,
            "grid_area": null,
            "grid_template_columns": null,
            "flex": null,
            "_model_name": "LayoutModel",
            "justify_items": null,
            "grid_row": null,
            "max_height": null,
            "align_content": null,
            "visibility": null,
            "align_self": null,
            "height": null,
            "min_height": null,
            "padding": null,
            "grid_auto_rows": null,
            "grid_gap": null,
            "max_width": null,
            "order": null,
            "_view_module_version": "1.2.0",
            "grid_template_areas": null,
            "object_position": null,
            "object_fit": null,
            "grid_auto_columns": null,
            "margin": null,
            "display": null,
            "left": null
          }
        },
        "009217909dd248328d9416126b9cbd80": {
          "model_module": "@jupyter-widgets/controls",
          "model_name": "HBoxModel",
          "state": {
            "_view_name": "HBoxView",
            "_dom_classes": [],
            "_model_name": "HBoxModel",
            "_view_module": "@jupyter-widgets/controls",
            "_model_module_version": "1.5.0",
            "_view_count": null,
            "_view_module_version": "1.5.0",
            "box_style": "",
            "layout": "IPY_MODEL_56062b6a4f7d49338651d38cbb48e00f",
            "_model_module": "@jupyter-widgets/controls",
            "children": [
              "IPY_MODEL_ed1fdd5956c447ae9cc1b4cbdb6c5d98",
              "IPY_MODEL_2704dad5fe5f4073ac314cd6b1f6cbfb"
            ]
          }
        },
        "56062b6a4f7d49338651d38cbb48e00f": {
          "model_module": "@jupyter-widgets/base",
          "model_name": "LayoutModel",
          "state": {
            "_view_name": "LayoutView",
            "grid_template_rows": null,
            "right": null,
            "justify_content": null,
            "_view_module": "@jupyter-widgets/base",
            "overflow": null,
            "_model_module_version": "1.2.0",
            "_view_count": null,
            "flex_flow": null,
            "width": null,
            "min_width": null,
            "border": null,
            "align_items": null,
            "bottom": null,
            "_model_module": "@jupyter-widgets/base",
            "top": null,
            "grid_column": null,
            "overflow_y": null,
            "overflow_x": null,
            "grid_auto_flow": null,
            "grid_area": null,
            "grid_template_columns": null,
            "flex": null,
            "_model_name": "LayoutModel",
            "justify_items": null,
            "grid_row": null,
            "max_height": null,
            "align_content": null,
            "visibility": null,
            "align_self": null,
            "height": null,
            "min_height": null,
            "padding": null,
            "grid_auto_rows": null,
            "grid_gap": null,
            "max_width": null,
            "order": null,
            "_view_module_version": "1.2.0",
            "grid_template_areas": null,
            "object_position": null,
            "object_fit": null,
            "grid_auto_columns": null,
            "margin": null,
            "display": null,
            "left": null
          }
        },
        "ed1fdd5956c447ae9cc1b4cbdb6c5d98": {
          "model_module": "@jupyter-widgets/controls",
          "model_name": "FloatProgressModel",
          "state": {
            "_view_name": "ProgressView",
            "style": "IPY_MODEL_10c47ae42fb840f799007a44f9c85329",
            "_dom_classes": [],
            "description": " 55%",
            "_model_name": "FloatProgressModel",
            "bar_style": "danger",
            "max": 25000,
            "_view_module": "@jupyter-widgets/controls",
            "_model_module_version": "1.5.0",
            "value": 13761,
            "_view_count": null,
            "_view_module_version": "1.5.0",
            "orientation": "horizontal",
            "min": 0,
            "description_tooltip": null,
            "_model_module": "@jupyter-widgets/controls",
            "layout": "IPY_MODEL_b19fb9e53b1d4cf2817c9cbef4dd59f1"
          }
        },
        "2704dad5fe5f4073ac314cd6b1f6cbfb": {
          "model_module": "@jupyter-widgets/controls",
          "model_name": "HTMLModel",
          "state": {
            "_view_name": "HTMLView",
            "style": "IPY_MODEL_7a90497c1578456c8e03f3bbdc7b7549",
            "_dom_classes": [],
            "description": "",
            "_model_name": "HTMLModel",
            "placeholder": "​",
            "_view_module": "@jupyter-widgets/controls",
            "_model_module_version": "1.5.0",
            "value": " 13761/25000 [00:00&lt;00:00, 137609.15 examples/s]",
            "_view_count": null,
            "_view_module_version": "1.5.0",
            "description_tooltip": null,
            "_model_module": "@jupyter-widgets/controls",
            "layout": "IPY_MODEL_a9de5fab00f94f79b8edd456a70d5d1e"
          }
        },
        "10c47ae42fb840f799007a44f9c85329": {
          "model_module": "@jupyter-widgets/controls",
          "model_name": "ProgressStyleModel",
          "state": {
            "_view_name": "StyleView",
            "_model_name": "ProgressStyleModel",
            "description_width": "initial",
            "_view_module": "@jupyter-widgets/base",
            "_model_module_version": "1.5.0",
            "_view_count": null,
            "_view_module_version": "1.2.0",
            "bar_color": null,
            "_model_module": "@jupyter-widgets/controls"
          }
        },
        "b19fb9e53b1d4cf2817c9cbef4dd59f1": {
          "model_module": "@jupyter-widgets/base",
          "model_name": "LayoutModel",
          "state": {
            "_view_name": "LayoutView",
            "grid_template_rows": null,
            "right": null,
            "justify_content": null,
            "_view_module": "@jupyter-widgets/base",
            "overflow": null,
            "_model_module_version": "1.2.0",
            "_view_count": null,
            "flex_flow": null,
            "width": null,
            "min_width": null,
            "border": null,
            "align_items": null,
            "bottom": null,
            "_model_module": "@jupyter-widgets/base",
            "top": null,
            "grid_column": null,
            "overflow_y": null,
            "overflow_x": null,
            "grid_auto_flow": null,
            "grid_area": null,
            "grid_template_columns": null,
            "flex": null,
            "_model_name": "LayoutModel",
            "justify_items": null,
            "grid_row": null,
            "max_height": null,
            "align_content": null,
            "visibility": null,
            "align_self": null,
            "height": null,
            "min_height": null,
            "padding": null,
            "grid_auto_rows": null,
            "grid_gap": null,
            "max_width": null,
            "order": null,
            "_view_module_version": "1.2.0",
            "grid_template_areas": null,
            "object_position": null,
            "object_fit": null,
            "grid_auto_columns": null,
            "margin": null,
            "display": null,
            "left": null
          }
        },
        "7a90497c1578456c8e03f3bbdc7b7549": {
          "model_module": "@jupyter-widgets/controls",
          "model_name": "DescriptionStyleModel",
          "state": {
            "_view_name": "StyleView",
            "_model_name": "DescriptionStyleModel",
            "description_width": "",
            "_view_module": "@jupyter-widgets/base",
            "_model_module_version": "1.5.0",
            "_view_count": null,
            "_view_module_version": "1.2.0",
            "_model_module": "@jupyter-widgets/controls"
          }
        },
        "a9de5fab00f94f79b8edd456a70d5d1e": {
          "model_module": "@jupyter-widgets/base",
          "model_name": "LayoutModel",
          "state": {
            "_view_name": "LayoutView",
            "grid_template_rows": null,
            "right": null,
            "justify_content": null,
            "_view_module": "@jupyter-widgets/base",
            "overflow": null,
            "_model_module_version": "1.2.0",
            "_view_count": null,
            "flex_flow": null,
            "width": null,
            "min_width": null,
            "border": null,
            "align_items": null,
            "bottom": null,
            "_model_module": "@jupyter-widgets/base",
            "top": null,
            "grid_column": null,
            "overflow_y": null,
            "overflow_x": null,
            "grid_auto_flow": null,
            "grid_area": null,
            "grid_template_columns": null,
            "flex": null,
            "_model_name": "LayoutModel",
            "justify_items": null,
            "grid_row": null,
            "max_height": null,
            "align_content": null,
            "visibility": null,
            "align_self": null,
            "height": null,
            "min_height": null,
            "padding": null,
            "grid_auto_rows": null,
            "grid_gap": null,
            "max_width": null,
            "order": null,
            "_view_module_version": "1.2.0",
            "grid_template_areas": null,
            "object_position": null,
            "object_fit": null,
            "grid_auto_columns": null,
            "margin": null,
            "display": null,
            "left": null
          }
        },
        "231e08567a614a27968b1abdd52b125e": {
          "model_module": "@jupyter-widgets/controls",
          "model_name": "HBoxModel",
          "state": {
            "_view_name": "HBoxView",
            "_dom_classes": [],
            "_model_name": "HBoxModel",
            "_view_module": "@jupyter-widgets/controls",
            "_model_module_version": "1.5.0",
            "_view_count": null,
            "_view_module_version": "1.5.0",
            "box_style": "",
            "layout": "IPY_MODEL_41804f725ed645968302e7f14343fb8f",
            "_model_module": "@jupyter-widgets/controls",
            "children": [
              "IPY_MODEL_3bfb769e897c427897b824eb39809b58",
              "IPY_MODEL_7a773ab60464467690ef63f85e4f497b"
            ]
          }
        },
        "41804f725ed645968302e7f14343fb8f": {
          "model_module": "@jupyter-widgets/base",
          "model_name": "LayoutModel",
          "state": {
            "_view_name": "LayoutView",
            "grid_template_rows": null,
            "right": null,
            "justify_content": null,
            "_view_module": "@jupyter-widgets/base",
            "overflow": null,
            "_model_module_version": "1.2.0",
            "_view_count": null,
            "flex_flow": null,
            "width": null,
            "min_width": null,
            "border": null,
            "align_items": null,
            "bottom": null,
            "_model_module": "@jupyter-widgets/base",
            "top": null,
            "grid_column": null,
            "overflow_y": null,
            "overflow_x": null,
            "grid_auto_flow": null,
            "grid_area": null,
            "grid_template_columns": null,
            "flex": null,
            "_model_name": "LayoutModel",
            "justify_items": null,
            "grid_row": null,
            "max_height": null,
            "align_content": null,
            "visibility": null,
            "align_self": null,
            "height": null,
            "min_height": null,
            "padding": null,
            "grid_auto_rows": null,
            "grid_gap": null,
            "max_width": null,
            "order": null,
            "_view_module_version": "1.2.0",
            "grid_template_areas": null,
            "object_position": null,
            "object_fit": null,
            "grid_auto_columns": null,
            "margin": null,
            "display": null,
            "left": null
          }
        },
        "3bfb769e897c427897b824eb39809b58": {
          "model_module": "@jupyter-widgets/controls",
          "model_name": "FloatProgressModel",
          "state": {
            "_view_name": "ProgressView",
            "style": "IPY_MODEL_a5b8c51a8c004813b619d1a6cd422dde",
            "_dom_classes": [],
            "description": "",
            "_model_name": "FloatProgressModel",
            "bar_style": "info",
            "max": 1,
            "_view_module": "@jupyter-widgets/controls",
            "_model_module_version": "1.5.0",
            "value": 1,
            "_view_count": null,
            "_view_module_version": "1.5.0",
            "orientation": "horizontal",
            "min": 0,
            "description_tooltip": null,
            "_model_module": "@jupyter-widgets/controls",
            "layout": "IPY_MODEL_0f1d1188e26e4159a85005fb98d44540"
          }
        },
        "7a773ab60464467690ef63f85e4f497b": {
          "model_module": "@jupyter-widgets/controls",
          "model_name": "HTMLModel",
          "state": {
            "_view_name": "HTMLView",
            "style": "IPY_MODEL_8391c1f7f34b4a719734b418218fbe00",
            "_dom_classes": [],
            "description": "",
            "_model_name": "HTMLModel",
            "placeholder": "​",
            "_view_module": "@jupyter-widgets/controls",
            "_model_module_version": "1.5.0",
            "value": " 50000/0 [00:18&lt;00:00, 3329.58 examples/s]",
            "_view_count": null,
            "_view_module_version": "1.5.0",
            "description_tooltip": null,
            "_model_module": "@jupyter-widgets/controls",
            "layout": "IPY_MODEL_88eab891a01d442c96aa1c8163531849"
          }
        },
        "a5b8c51a8c004813b619d1a6cd422dde": {
          "model_module": "@jupyter-widgets/controls",
          "model_name": "ProgressStyleModel",
          "state": {
            "_view_name": "StyleView",
            "_model_name": "ProgressStyleModel",
            "description_width": "initial",
            "_view_module": "@jupyter-widgets/base",
            "_model_module_version": "1.5.0",
            "_view_count": null,
            "_view_module_version": "1.2.0",
            "bar_color": null,
            "_model_module": "@jupyter-widgets/controls"
          }
        },
        "0f1d1188e26e4159a85005fb98d44540": {
          "model_module": "@jupyter-widgets/base",
          "model_name": "LayoutModel",
          "state": {
            "_view_name": "LayoutView",
            "grid_template_rows": null,
            "right": null,
            "justify_content": null,
            "_view_module": "@jupyter-widgets/base",
            "overflow": null,
            "_model_module_version": "1.2.0",
            "_view_count": null,
            "flex_flow": null,
            "width": null,
            "min_width": null,
            "border": null,
            "align_items": null,
            "bottom": null,
            "_model_module": "@jupyter-widgets/base",
            "top": null,
            "grid_column": null,
            "overflow_y": null,
            "overflow_x": null,
            "grid_auto_flow": null,
            "grid_area": null,
            "grid_template_columns": null,
            "flex": null,
            "_model_name": "LayoutModel",
            "justify_items": null,
            "grid_row": null,
            "max_height": null,
            "align_content": null,
            "visibility": null,
            "align_self": null,
            "height": null,
            "min_height": null,
            "padding": null,
            "grid_auto_rows": null,
            "grid_gap": null,
            "max_width": null,
            "order": null,
            "_view_module_version": "1.2.0",
            "grid_template_areas": null,
            "object_position": null,
            "object_fit": null,
            "grid_auto_columns": null,
            "margin": null,
            "display": null,
            "left": null
          }
        },
        "8391c1f7f34b4a719734b418218fbe00": {
          "model_module": "@jupyter-widgets/controls",
          "model_name": "DescriptionStyleModel",
          "state": {
            "_view_name": "StyleView",
            "_model_name": "DescriptionStyleModel",
            "description_width": "",
            "_view_module": "@jupyter-widgets/base",
            "_model_module_version": "1.5.0",
            "_view_count": null,
            "_view_module_version": "1.2.0",
            "_model_module": "@jupyter-widgets/controls"
          }
        },
        "88eab891a01d442c96aa1c8163531849": {
          "model_module": "@jupyter-widgets/base",
          "model_name": "LayoutModel",
          "state": {
            "_view_name": "LayoutView",
            "grid_template_rows": null,
            "right": null,
            "justify_content": null,
            "_view_module": "@jupyter-widgets/base",
            "overflow": null,
            "_model_module_version": "1.2.0",
            "_view_count": null,
            "flex_flow": null,
            "width": null,
            "min_width": null,
            "border": null,
            "align_items": null,
            "bottom": null,
            "_model_module": "@jupyter-widgets/base",
            "top": null,
            "grid_column": null,
            "overflow_y": null,
            "overflow_x": null,
            "grid_auto_flow": null,
            "grid_area": null,
            "grid_template_columns": null,
            "flex": null,
            "_model_name": "LayoutModel",
            "justify_items": null,
            "grid_row": null,
            "max_height": null,
            "align_content": null,
            "visibility": null,
            "align_self": null,
            "height": null,
            "min_height": null,
            "padding": null,
            "grid_auto_rows": null,
            "grid_gap": null,
            "max_width": null,
            "order": null,
            "_view_module_version": "1.2.0",
            "grid_template_areas": null,
            "object_position": null,
            "object_fit": null,
            "grid_auto_columns": null,
            "margin": null,
            "display": null,
            "left": null
          }
        },
        "040a8090015245f8948930663e950bc9": {
          "model_module": "@jupyter-widgets/controls",
          "model_name": "HBoxModel",
          "state": {
            "_view_name": "HBoxView",
            "_dom_classes": [],
            "_model_name": "HBoxModel",
            "_view_module": "@jupyter-widgets/controls",
            "_model_module_version": "1.5.0",
            "_view_count": null,
            "_view_module_version": "1.5.0",
            "box_style": "",
            "layout": "IPY_MODEL_14a81855f12a48c3ad58e983e37b5087",
            "_model_module": "@jupyter-widgets/controls",
            "children": [
              "IPY_MODEL_744e1dc3e2b64d829ace135e12f3e7a8",
              "IPY_MODEL_7eb094d91b864e988ad5e6df59527788"
            ]
          }
        },
        "14a81855f12a48c3ad58e983e37b5087": {
          "model_module": "@jupyter-widgets/base",
          "model_name": "LayoutModel",
          "state": {
            "_view_name": "LayoutView",
            "grid_template_rows": null,
            "right": null,
            "justify_content": null,
            "_view_module": "@jupyter-widgets/base",
            "overflow": null,
            "_model_module_version": "1.2.0",
            "_view_count": null,
            "flex_flow": null,
            "width": null,
            "min_width": null,
            "border": null,
            "align_items": null,
            "bottom": null,
            "_model_module": "@jupyter-widgets/base",
            "top": null,
            "grid_column": null,
            "overflow_y": null,
            "overflow_x": null,
            "grid_auto_flow": null,
            "grid_area": null,
            "grid_template_columns": null,
            "flex": null,
            "_model_name": "LayoutModel",
            "justify_items": null,
            "grid_row": null,
            "max_height": null,
            "align_content": null,
            "visibility": null,
            "align_self": null,
            "height": null,
            "min_height": null,
            "padding": null,
            "grid_auto_rows": null,
            "grid_gap": null,
            "max_width": null,
            "order": null,
            "_view_module_version": "1.2.0",
            "grid_template_areas": null,
            "object_position": null,
            "object_fit": null,
            "grid_auto_columns": null,
            "margin": null,
            "display": null,
            "left": null
          }
        },
        "744e1dc3e2b64d829ace135e12f3e7a8": {
          "model_module": "@jupyter-widgets/controls",
          "model_name": "FloatProgressModel",
          "state": {
            "_view_name": "ProgressView",
            "style": "IPY_MODEL_f9a73ca2a9364140b4af333c1b4ab98f",
            "_dom_classes": [],
            "description": " 69%",
            "_model_name": "FloatProgressModel",
            "bar_style": "danger",
            "max": 50000,
            "_view_module": "@jupyter-widgets/controls",
            "_model_module_version": "1.5.0",
            "value": 34431,
            "_view_count": null,
            "_view_module_version": "1.5.0",
            "orientation": "horizontal",
            "min": 0,
            "description_tooltip": null,
            "_model_module": "@jupyter-widgets/controls",
            "layout": "IPY_MODEL_a475b594589d4777acc62ca6a29dcf0b"
          }
        },
        "7eb094d91b864e988ad5e6df59527788": {
          "model_module": "@jupyter-widgets/controls",
          "model_name": "HTMLModel",
          "state": {
            "_view_name": "HTMLView",
            "style": "IPY_MODEL_b4cfb302c5d54008a9db32610807a7a6",
            "_dom_classes": [],
            "description": "",
            "_model_name": "HTMLModel",
            "placeholder": "​",
            "_view_module": "@jupyter-widgets/controls",
            "_model_module_version": "1.5.0",
            "value": " 34431/50000 [00:08&lt;00:00, 98487.17 examples/s]",
            "_view_count": null,
            "_view_module_version": "1.5.0",
            "description_tooltip": null,
            "_model_module": "@jupyter-widgets/controls",
            "layout": "IPY_MODEL_2b280f71ce0a4f48af2bfe80b629b990"
          }
        },
        "f9a73ca2a9364140b4af333c1b4ab98f": {
          "model_module": "@jupyter-widgets/controls",
          "model_name": "ProgressStyleModel",
          "state": {
            "_view_name": "StyleView",
            "_model_name": "ProgressStyleModel",
            "description_width": "initial",
            "_view_module": "@jupyter-widgets/base",
            "_model_module_version": "1.5.0",
            "_view_count": null,
            "_view_module_version": "1.2.0",
            "bar_color": null,
            "_model_module": "@jupyter-widgets/controls"
          }
        },
        "a475b594589d4777acc62ca6a29dcf0b": {
          "model_module": "@jupyter-widgets/base",
          "model_name": "LayoutModel",
          "state": {
            "_view_name": "LayoutView",
            "grid_template_rows": null,
            "right": null,
            "justify_content": null,
            "_view_module": "@jupyter-widgets/base",
            "overflow": null,
            "_model_module_version": "1.2.0",
            "_view_count": null,
            "flex_flow": null,
            "width": null,
            "min_width": null,
            "border": null,
            "align_items": null,
            "bottom": null,
            "_model_module": "@jupyter-widgets/base",
            "top": null,
            "grid_column": null,
            "overflow_y": null,
            "overflow_x": null,
            "grid_auto_flow": null,
            "grid_area": null,
            "grid_template_columns": null,
            "flex": null,
            "_model_name": "LayoutModel",
            "justify_items": null,
            "grid_row": null,
            "max_height": null,
            "align_content": null,
            "visibility": null,
            "align_self": null,
            "height": null,
            "min_height": null,
            "padding": null,
            "grid_auto_rows": null,
            "grid_gap": null,
            "max_width": null,
            "order": null,
            "_view_module_version": "1.2.0",
            "grid_template_areas": null,
            "object_position": null,
            "object_fit": null,
            "grid_auto_columns": null,
            "margin": null,
            "display": null,
            "left": null
          }
        },
        "b4cfb302c5d54008a9db32610807a7a6": {
          "model_module": "@jupyter-widgets/controls",
          "model_name": "DescriptionStyleModel",
          "state": {
            "_view_name": "StyleView",
            "_model_name": "DescriptionStyleModel",
            "description_width": "",
            "_view_module": "@jupyter-widgets/base",
            "_model_module_version": "1.5.0",
            "_view_count": null,
            "_view_module_version": "1.2.0",
            "_model_module": "@jupyter-widgets/controls"
          }
        },
        "2b280f71ce0a4f48af2bfe80b629b990": {
          "model_module": "@jupyter-widgets/base",
          "model_name": "LayoutModel",
          "state": {
            "_view_name": "LayoutView",
            "grid_template_rows": null,
            "right": null,
            "justify_content": null,
            "_view_module": "@jupyter-widgets/base",
            "overflow": null,
            "_model_module_version": "1.2.0",
            "_view_count": null,
            "flex_flow": null,
            "width": null,
            "min_width": null,
            "border": null,
            "align_items": null,
            "bottom": null,
            "_model_module": "@jupyter-widgets/base",
            "top": null,
            "grid_column": null,
            "overflow_y": null,
            "overflow_x": null,
            "grid_auto_flow": null,
            "grid_area": null,
            "grid_template_columns": null,
            "flex": null,
            "_model_name": "LayoutModel",
            "justify_items": null,
            "grid_row": null,
            "max_height": null,
            "align_content": null,
            "visibility": null,
            "align_self": null,
            "height": null,
            "min_height": null,
            "padding": null,
            "grid_auto_rows": null,
            "grid_gap": null,
            "max_width": null,
            "order": null,
            "_view_module_version": "1.2.0",
            "grid_template_areas": null,
            "object_position": null,
            "object_fit": null,
            "grid_auto_columns": null,
            "margin": null,
            "display": null,
            "left": null
          }
        }
      }
    }
  },
  "cells": [
    {
      "cell_type": "code",
      "metadata": {
        "id": "zX4Kg8DUTKWO",
        "colab_type": "code",
        "colab": {}
      },
      "source": [
        "#@title Licensed under the Apache License, Version 2.0 (the \"License\");\n",
        "# you may not use this file except in compliance with the License.\n",
        "# You may obtain a copy of the License at\n",
        "#\n",
        "# https://www.apache.org/licenses/LICENSE-2.0\n",
        "#\n",
        "# Unless required by applicable law or agreed to in writing, software\n",
        "# distributed under the License is distributed on an \"AS IS\" BASIS,\n",
        "# WITHOUT WARRANTIES OR CONDITIONS OF ANY KIND, either express or implied.\n",
        "# See the License for the specific language governing permissions and\n",
        "# limitations under the License."
      ],
      "execution_count": 0,
      "outputs": []
    },
    {
      "cell_type": "code",
      "metadata": {
        "colab_type": "code",
        "id": "P-AhVYeBWgQ3",
        "colab": {
          "base_uri": "https://localhost:8080/",
          "height": 35
        },
        "outputId": "9ecee883-242f-4d6c-bba9-0b74cbf660a0"
      },
      "source": [
        "import tensorflow as tf\n",
        "print(tf.__version__)\n",
        "\n",
        "# !pip install -q tensorflow-datasets"
      ],
      "execution_count": 2,
      "outputs": [
        {
          "output_type": "stream",
          "text": [
            "2.2.0\n"
          ],
          "name": "stdout"
        }
      ]
    },
    {
      "cell_type": "code",
      "metadata": {
        "colab_type": "code",
        "id": "_IoM4VFxWpMR",
        "colab": {
          "base_uri": "https://localhost:8080/",
          "height": 357,
          "referenced_widgets": [
            "a6c573dd0eb74fd2ade9027ba503f608",
            "4a6de3986fef42a783b75c5c5a810c66",
            "c338f375a8bc44d79b61fd2e7eeb4c20",
            "6ce335cb83e3418099af713699669b86",
            "330a2ed595414274ad1a9e9ec4abe841",
            "269d960db1e0478c9dc7dfd51f312fcc",
            "d851c09d3a8649f7add85512d269fc1f",
            "60c134952b2b4a46ac7caf5ee95e2a3b",
            "13058dfbb63c4715bee800eaa011a87e",
            "41c5e090e0d2429690c0d1d349a22c71",
            "40a8d4c490bc4a1b81396c2f1e446b5b",
            "048d0c114df64c8a8a9bebe7b86e83a8",
            "a78e5549405d439fb2237503deb83838",
            "15f4a3bc8d8b4e82ba222aa45375d5f4",
            "9ac162265e7540ae8c4c44ee40e68464",
            "d73dd954f68f4787abee9027a2f573f7",
            "638eaba4f21c43fca5e892a161632979",
            "c0040b6fd4304f85ada5d68bc33a5260",
            "34a1610fa7ed44cd8bcde1cf4108c140",
            "9c035bfc065c415cbe01ac85656d07c0",
            "6b3eece8066e4430a0dd291c4a7b6deb",
            "3a81eb053c884de193183694ce320611",
            "719eb62a215d4cd2988665d2cb81cee1",
            "5dd0196e11d54fcca5c753cea865617f",
            "b1c727377cac4724b02da4ba13f88583",
            "7ecfc4aea1b744e0851f89df65f041ce",
            "ea1848ee23d046d8994296081637867d",
            "4207c666bfc94198940a880dbda92991",
            "e638c6b25ae84ccca9bdb477a796eb50",
            "3528a088b90c4b4ea30ea5e32a2c03a8",
            "9f2fe40e94574d42a0cdf04ecf76ffaa",
            "47beec4947184abb911b8a7558dca78e",
            "d02fdb5a83e64069912a5b0e11ffbe88",
            "a0384164e95946cf886476fd4ab040f8",
            "0b5ae33c60834eff845602dde5eaf928",
            "421c660a0e4649108db0143fb3811374",
            "6d46da9657344bc883440dfd8b95fa49",
            "67b5624ca5194447ba6e0f9ddbda0026",
            "08fab553731e417a8946754f15badef7",
            "5a6594aa651d463ab8a44fa8e81e6a70",
            "009217909dd248328d9416126b9cbd80",
            "56062b6a4f7d49338651d38cbb48e00f",
            "ed1fdd5956c447ae9cc1b4cbdb6c5d98",
            "2704dad5fe5f4073ac314cd6b1f6cbfb",
            "10c47ae42fb840f799007a44f9c85329",
            "b19fb9e53b1d4cf2817c9cbef4dd59f1",
            "7a90497c1578456c8e03f3bbdc7b7549",
            "a9de5fab00f94f79b8edd456a70d5d1e",
            "231e08567a614a27968b1abdd52b125e",
            "41804f725ed645968302e7f14343fb8f",
            "3bfb769e897c427897b824eb39809b58",
            "7a773ab60464467690ef63f85e4f497b",
            "a5b8c51a8c004813b619d1a6cd422dde",
            "0f1d1188e26e4159a85005fb98d44540",
            "8391c1f7f34b4a719734b418218fbe00",
            "88eab891a01d442c96aa1c8163531849",
            "040a8090015245f8948930663e950bc9",
            "14a81855f12a48c3ad58e983e37b5087",
            "744e1dc3e2b64d829ace135e12f3e7a8",
            "7eb094d91b864e988ad5e6df59527788",
            "f9a73ca2a9364140b4af333c1b4ab98f",
            "a475b594589d4777acc62ca6a29dcf0b",
            "b4cfb302c5d54008a9db32610807a7a6",
            "2b280f71ce0a4f48af2bfe80b629b990"
          ]
        },
        "outputId": "5f2e0d88-21b1-4692-f943-a26275b6fb7d"
      },
      "source": [
        "import tensorflow_datasets as tfds\n",
        "imdb, info = tfds.load(\"imdb_reviews\", with_info=True, as_supervised=True)\n"
      ],
      "execution_count": 3,
      "outputs": [
        {
          "output_type": "stream",
          "text": [
            "\u001b[1mDownloading and preparing dataset imdb_reviews/plain_text/1.0.0 (download: 80.23 MiB, generated: Unknown size, total: 80.23 MiB) to /root/tensorflow_datasets/imdb_reviews/plain_text/1.0.0...\u001b[0m\n"
          ],
          "name": "stdout"
        },
        {
          "output_type": "display_data",
          "data": {
            "application/vnd.jupyter.widget-view+json": {
              "model_id": "a6c573dd0eb74fd2ade9027ba503f608",
              "version_minor": 0,
              "version_major": 2
            },
            "text/plain": [
              "HBox(children=(FloatProgress(value=1.0, bar_style='info', description='Dl Completed...', max=1.0, style=Progre…"
            ]
          },
          "metadata": {
            "tags": []
          }
        },
        {
          "output_type": "display_data",
          "data": {
            "application/vnd.jupyter.widget-view+json": {
              "model_id": "13058dfbb63c4715bee800eaa011a87e",
              "version_minor": 0,
              "version_major": 2
            },
            "text/plain": [
              "HBox(children=(FloatProgress(value=1.0, bar_style='info', description='Dl Size...', max=1.0, style=ProgressSty…"
            ]
          },
          "metadata": {
            "tags": []
          }
        },
        {
          "output_type": "stream",
          "text": [
            "\n",
            "\n",
            "\n",
            "\n"
          ],
          "name": "stdout"
        },
        {
          "output_type": "display_data",
          "data": {
            "application/vnd.jupyter.widget-view+json": {
              "model_id": "638eaba4f21c43fca5e892a161632979",
              "version_minor": 0,
              "version_major": 2
            },
            "text/plain": [
              "HBox(children=(FloatProgress(value=1.0, bar_style='info', max=1.0), HTML(value='')))"
            ]
          },
          "metadata": {
            "tags": []
          }
        },
        {
          "output_type": "stream",
          "text": [
            "\rShuffling and writing examples to /root/tensorflow_datasets/imdb_reviews/plain_text/1.0.0.incompleteW3QLAR/imdb_reviews-train.tfrecord\n"
          ],
          "name": "stdout"
        },
        {
          "output_type": "display_data",
          "data": {
            "application/vnd.jupyter.widget-view+json": {
              "model_id": "b1c727377cac4724b02da4ba13f88583",
              "version_minor": 0,
              "version_major": 2
            },
            "text/plain": [
              "HBox(children=(FloatProgress(value=0.0, max=25000.0), HTML(value='')))"
            ]
          },
          "metadata": {
            "tags": []
          }
        },
        {
          "output_type": "stream",
          "text": [
            "\r"
          ],
          "name": "stdout"
        },
        {
          "output_type": "display_data",
          "data": {
            "application/vnd.jupyter.widget-view+json": {
              "model_id": "d02fdb5a83e64069912a5b0e11ffbe88",
              "version_minor": 0,
              "version_major": 2
            },
            "text/plain": [
              "HBox(children=(FloatProgress(value=1.0, bar_style='info', max=1.0), HTML(value='')))"
            ]
          },
          "metadata": {
            "tags": []
          }
        },
        {
          "output_type": "stream",
          "text": [
            "\rShuffling and writing examples to /root/tensorflow_datasets/imdb_reviews/plain_text/1.0.0.incompleteW3QLAR/imdb_reviews-test.tfrecord\n"
          ],
          "name": "stdout"
        },
        {
          "output_type": "display_data",
          "data": {
            "application/vnd.jupyter.widget-view+json": {
              "model_id": "009217909dd248328d9416126b9cbd80",
              "version_minor": 0,
              "version_major": 2
            },
            "text/plain": [
              "HBox(children=(FloatProgress(value=0.0, max=25000.0), HTML(value='')))"
            ]
          },
          "metadata": {
            "tags": []
          }
        },
        {
          "output_type": "stream",
          "text": [
            "\r"
          ],
          "name": "stdout"
        },
        {
          "output_type": "display_data",
          "data": {
            "application/vnd.jupyter.widget-view+json": {
              "model_id": "231e08567a614a27968b1abdd52b125e",
              "version_minor": 0,
              "version_major": 2
            },
            "text/plain": [
              "HBox(children=(FloatProgress(value=1.0, bar_style='info', max=1.0), HTML(value='')))"
            ]
          },
          "metadata": {
            "tags": []
          }
        },
        {
          "output_type": "stream",
          "text": [
            "\rShuffling and writing examples to /root/tensorflow_datasets/imdb_reviews/plain_text/1.0.0.incompleteW3QLAR/imdb_reviews-unsupervised.tfrecord\n"
          ],
          "name": "stdout"
        },
        {
          "output_type": "display_data",
          "data": {
            "application/vnd.jupyter.widget-view+json": {
              "model_id": "040a8090015245f8948930663e950bc9",
              "version_minor": 0,
              "version_major": 2
            },
            "text/plain": [
              "HBox(children=(FloatProgress(value=0.0, max=50000.0), HTML(value='')))"
            ]
          },
          "metadata": {
            "tags": []
          }
        },
        {
          "output_type": "stream",
          "text": [
            "\u001b[1mDataset imdb_reviews downloaded and prepared to /root/tensorflow_datasets/imdb_reviews/plain_text/1.0.0. Subsequent calls will reuse this data.\u001b[0m\n",
            "\r"
          ],
          "name": "stdout"
        }
      ]
    },
    {
      "cell_type": "code",
      "metadata": {
        "colab_type": "code",
        "id": "wHQ2Ko0zl7M4",
        "colab": {}
      },
      "source": [
        "import numpy as np\n",
        "\n",
        "train_data, test_data = imdb['train'], imdb['test']\n",
        "\n",
        "training_sentences = []\n",
        "training_labels = []\n",
        "\n",
        "testing_sentences = []\n",
        "testing_labels = []\n",
        "\n",
        "# str(s.tonumpy()) is needed in Python3 instead of just s.numpy()\n",
        "for s,l in train_data:\n",
        "  training_sentences.append(str(s.numpy()))\n",
        "  training_labels.append(l.numpy())\n",
        "  \n",
        "for s,l in test_data:\n",
        "  testing_sentences.append(str(s.numpy()))\n",
        "  testing_labels.append(l.numpy())\n",
        "  \n",
        "training_labels_final = np.array(training_labels)\n",
        "testing_labels_final = np.array(testing_labels)\n"
      ],
      "execution_count": 0,
      "outputs": []
    },
    {
      "cell_type": "code",
      "metadata": {
        "colab_type": "code",
        "id": "7n15yyMdmoH1",
        "colab": {}
      },
      "source": [
        "vocab_size = 10000\n",
        "embedding_dim = 16\n",
        "max_length = 120\n",
        "trunc_type='post'\n",
        "oov_tok = \"<OOV>\"\n",
        "\n",
        "\n",
        "from tensorflow.keras.preprocessing.text import Tokenizer\n",
        "from tensorflow.keras.preprocessing.sequence import pad_sequences\n",
        "\n",
        "tokenizer = Tokenizer(num_words = vocab_size, oov_token=oov_tok)\n",
        "tokenizer.fit_on_texts(training_sentences)\n",
        "word_index = tokenizer.word_index\n",
        "sequences = tokenizer.texts_to_sequences(training_sentences)\n",
        "padded = pad_sequences(sequences,maxlen=max_length, truncating=trunc_type)\n",
        "\n",
        "testing_sequences = tokenizer.texts_to_sequences(testing_sentences)\n",
        "testing_padded = pad_sequences(testing_sequences,maxlen=max_length)\n"
      ],
      "execution_count": 0,
      "outputs": []
    },
    {
      "cell_type": "code",
      "metadata": {
        "colab_type": "code",
        "id": "9axf0uIXVMhO",
        "colab": {
          "base_uri": "https://localhost:8080/",
          "height": 72
        },
        "outputId": "86c5b6df-d8cf-414b-8ec1-917426de12c0"
      },
      "source": [
        "reverse_word_index = dict([(value, key) for (key, value) in word_index.items()])\n",
        "\n",
        "def decode_review(text):\n",
        "    return ' '.join([reverse_word_index.get(i, '?') for i in text])\n",
        "\n",
        "print(decode_review(padded[1]))\n",
        "print(training_sentences[1])"
      ],
      "execution_count": 6,
      "outputs": [
        {
          "output_type": "stream",
          "text": [
            "? ? ? ? ? ? ? b'i have been known to fall asleep during films but this is usually due to a combination of things including really tired being warm and comfortable on the <OOV> and having just eaten a lot however on this occasion i fell asleep because the film was rubbish the plot development was constant constantly slow and boring things seemed to happen but with no explanation of what was causing them or why i admit i may have missed part of the film but i watched the majority of it and everything just seemed to happen of its own <OOV> without any real concern for anything else i cant recommend this film at all '\n",
            "b'I have been known to fall asleep during films, but this is usually due to a combination of things including, really tired, being warm and comfortable on the sette and having just eaten a lot. However on this occasion I fell asleep because the film was rubbish. The plot development was constant. Constantly slow and boring. Things seemed to happen, but with no explanation of what was causing them or why. I admit, I may have missed part of the film, but i watched the majority of it and everything just seemed to happen of its own accord without any real concern for anything else. I cant recommend this film at all.'\n"
          ],
          "name": "stdout"
        }
      ]
    },
    {
      "cell_type": "code",
      "metadata": {
        "colab_type": "code",
        "id": "5NEpdhb8AxID",
        "colab": {
          "base_uri": "https://localhost:8080/",
          "height": 301
        },
        "outputId": "d1b45e84-126d-47b0-bc5d-50e43126423d"
      },
      "source": [
        "model = tf.keras.Sequential([\n",
        "    tf.keras.layers.Embedding(vocab_size, embedding_dim, input_length=max_length),\n",
        "    tf.keras.layers.Bidirectional(tf.keras.layers.GRU(32)),\n",
        "    tf.keras.layers.Dense(6, activation='relu'),\n",
        "    tf.keras.layers.Dense(1, activation='sigmoid')\n",
        "])\n",
        "model.compile(loss='binary_crossentropy',optimizer='adam',metrics=['accuracy'])\n",
        "model.summary()\n"
      ],
      "execution_count": 7,
      "outputs": [
        {
          "output_type": "stream",
          "text": [
            "Model: \"sequential\"\n",
            "_________________________________________________________________\n",
            "Layer (type)                 Output Shape              Param #   \n",
            "=================================================================\n",
            "embedding (Embedding)        (None, 120, 16)           160000    \n",
            "_________________________________________________________________\n",
            "bidirectional (Bidirectional (None, 64)                9600      \n",
            "_________________________________________________________________\n",
            "dense (Dense)                (None, 6)                 390       \n",
            "_________________________________________________________________\n",
            "dense_1 (Dense)              (None, 1)                 7         \n",
            "=================================================================\n",
            "Total params: 169,997\n",
            "Trainable params: 169,997\n",
            "Non-trainable params: 0\n",
            "_________________________________________________________________\n"
          ],
          "name": "stdout"
        }
      ]
    },
    {
      "cell_type": "code",
      "metadata": {
        "colab_type": "code",
        "id": "V5LLrXC-uNX6",
        "colab": {
          "base_uri": "https://localhost:8080/",
          "height": 1000
        },
        "outputId": "23440f4f-a652-4388-8604-f3685e82e710"
      },
      "source": [
        "num_epochs = 50\n",
        "history = model.fit(padded, training_labels_final, epochs=num_epochs, validation_data=(testing_padded, testing_labels_final))"
      ],
      "execution_count": 8,
      "outputs": [
        {
          "output_type": "stream",
          "text": [
            "Epoch 1/50\n",
            "782/782 [==============================] - 15s 19ms/step - loss: 0.4963 - accuracy: 0.7316 - val_loss: 0.3520 - val_accuracy: 0.8456\n",
            "Epoch 2/50\n",
            "782/782 [==============================] - 14s 18ms/step - loss: 0.2901 - accuracy: 0.8828 - val_loss: 0.3644 - val_accuracy: 0.8395\n",
            "Epoch 3/50\n",
            "782/782 [==============================] - 14s 18ms/step - loss: 0.2179 - accuracy: 0.9172 - val_loss: 0.4250 - val_accuracy: 0.8229\n",
            "Epoch 4/50\n",
            "782/782 [==============================] - 14s 18ms/step - loss: 0.1634 - accuracy: 0.9418 - val_loss: 0.4626 - val_accuracy: 0.8294\n",
            "Epoch 5/50\n",
            "782/782 [==============================] - 14s 18ms/step - loss: 0.1148 - accuracy: 0.9607 - val_loss: 0.5233 - val_accuracy: 0.8197\n",
            "Epoch 6/50\n",
            "782/782 [==============================] - 14s 18ms/step - loss: 0.0757 - accuracy: 0.9753 - val_loss: 0.6194 - val_accuracy: 0.8190\n",
            "Epoch 7/50\n",
            "782/782 [==============================] - 14s 18ms/step - loss: 0.0479 - accuracy: 0.9852 - val_loss: 0.7283 - val_accuracy: 0.8044\n",
            "Epoch 8/50\n",
            "782/782 [==============================] - 14s 18ms/step - loss: 0.0332 - accuracy: 0.9899 - val_loss: 0.8284 - val_accuracy: 0.8162\n",
            "Epoch 9/50\n",
            "782/782 [==============================] - 14s 17ms/step - loss: 0.0280 - accuracy: 0.9898 - val_loss: 0.8825 - val_accuracy: 0.8103\n",
            "Epoch 10/50\n",
            "782/782 [==============================] - 14s 17ms/step - loss: 0.0169 - accuracy: 0.9944 - val_loss: 0.9511 - val_accuracy: 0.8112\n",
            "Epoch 11/50\n",
            "782/782 [==============================] - 14s 18ms/step - loss: 0.0144 - accuracy: 0.9951 - val_loss: 1.0960 - val_accuracy: 0.8036\n",
            "Epoch 12/50\n",
            "782/782 [==============================] - 15s 19ms/step - loss: 0.0155 - accuracy: 0.9947 - val_loss: 1.0738 - val_accuracy: 0.8010\n",
            "Epoch 13/50\n",
            "782/782 [==============================] - 15s 19ms/step - loss: 0.0133 - accuracy: 0.9956 - val_loss: 1.0936 - val_accuracy: 0.8108\n",
            "Epoch 14/50\n",
            "782/782 [==============================] - 14s 18ms/step - loss: 0.0077 - accuracy: 0.9977 - val_loss: 1.2662 - val_accuracy: 0.8151\n",
            "Epoch 15/50\n",
            "782/782 [==============================] - 14s 18ms/step - loss: 0.0111 - accuracy: 0.9960 - val_loss: 1.1722 - val_accuracy: 0.8038\n",
            "Epoch 16/50\n",
            "782/782 [==============================] - 14s 18ms/step - loss: 0.0111 - accuracy: 0.9962 - val_loss: 1.2287 - val_accuracy: 0.8135\n",
            "Epoch 17/50\n",
            "782/782 [==============================] - 14s 18ms/step - loss: 0.0084 - accuracy: 0.9974 - val_loss: 1.3644 - val_accuracy: 0.8176\n",
            "Epoch 18/50\n",
            "782/782 [==============================] - 14s 18ms/step - loss: 0.0054 - accuracy: 0.9982 - val_loss: 1.5291 - val_accuracy: 0.8017\n",
            "Epoch 19/50\n",
            "782/782 [==============================] - 14s 18ms/step - loss: 0.0042 - accuracy: 0.9987 - val_loss: 1.3197 - val_accuracy: 0.8058\n",
            "Epoch 20/50\n",
            "782/782 [==============================] - 14s 18ms/step - loss: 0.0076 - accuracy: 0.9976 - val_loss: 1.4272 - val_accuracy: 0.8089\n",
            "Epoch 21/50\n",
            "782/782 [==============================] - 14s 18ms/step - loss: 0.0076 - accuracy: 0.9975 - val_loss: 1.3259 - val_accuracy: 0.8006\n",
            "Epoch 22/50\n",
            "782/782 [==============================] - 14s 18ms/step - loss: 0.0058 - accuracy: 0.9979 - val_loss: 1.3329 - val_accuracy: 0.8060\n",
            "Epoch 23/50\n",
            "782/782 [==============================] - 14s 18ms/step - loss: 0.0080 - accuracy: 0.9972 - val_loss: 1.3843 - val_accuracy: 0.8010\n",
            "Epoch 24/50\n",
            "782/782 [==============================] - 14s 18ms/step - loss: 0.0032 - accuracy: 0.9990 - val_loss: 1.5536 - val_accuracy: 0.8066\n",
            "Epoch 25/50\n",
            "782/782 [==============================] - 14s 18ms/step - loss: 0.0024 - accuracy: 0.9990 - val_loss: 1.6467 - val_accuracy: 0.7979\n",
            "Epoch 26/50\n",
            "782/782 [==============================] - 14s 17ms/step - loss: 0.0045 - accuracy: 0.9985 - val_loss: 1.5189 - val_accuracy: 0.8090\n",
            "Epoch 27/50\n",
            "782/782 [==============================] - 14s 17ms/step - loss: 0.0051 - accuracy: 0.9984 - val_loss: 1.4676 - val_accuracy: 0.8078\n",
            "Epoch 28/50\n",
            "782/782 [==============================] - 14s 17ms/step - loss: 0.0028 - accuracy: 0.9992 - val_loss: 1.6426 - val_accuracy: 0.8089\n",
            "Epoch 29/50\n",
            "782/782 [==============================] - 14s 17ms/step - loss: 0.0024 - accuracy: 0.9991 - val_loss: 1.7457 - val_accuracy: 0.7844\n",
            "Epoch 30/50\n",
            "782/782 [==============================] - 14s 18ms/step - loss: 0.0036 - accuracy: 0.9988 - val_loss: 1.6308 - val_accuracy: 0.8050\n",
            "Epoch 31/50\n",
            "782/782 [==============================] - 14s 18ms/step - loss: 6.3008e-04 - accuracy: 0.9998 - val_loss: 1.6884 - val_accuracy: 0.8059\n",
            "Epoch 32/50\n",
            "782/782 [==============================] - 14s 17ms/step - loss: 3.7260e-05 - accuracy: 1.0000 - val_loss: 1.7332 - val_accuracy: 0.8060\n",
            "Epoch 33/50\n",
            "782/782 [==============================] - 14s 18ms/step - loss: 1.4938e-05 - accuracy: 1.0000 - val_loss: 1.7757 - val_accuracy: 0.8064\n",
            "Epoch 34/50\n",
            "782/782 [==============================] - 14s 17ms/step - loss: 1.0633e-05 - accuracy: 1.0000 - val_loss: 1.8142 - val_accuracy: 0.8069\n",
            "Epoch 35/50\n",
            "782/782 [==============================] - 14s 18ms/step - loss: 7.7317e-06 - accuracy: 1.0000 - val_loss: 1.8562 - val_accuracy: 0.8075\n",
            "Epoch 36/50\n",
            "782/782 [==============================] - 14s 18ms/step - loss: 5.5877e-06 - accuracy: 1.0000 - val_loss: 1.9019 - val_accuracy: 0.8075\n",
            "Epoch 37/50\n",
            "782/782 [==============================] - 14s 18ms/step - loss: 4.0011e-06 - accuracy: 1.0000 - val_loss: 1.9478 - val_accuracy: 0.8071\n",
            "Epoch 38/50\n",
            "782/782 [==============================] - 14s 17ms/step - loss: 2.8077e-06 - accuracy: 1.0000 - val_loss: 1.9946 - val_accuracy: 0.8080\n",
            "Epoch 39/50\n",
            "782/782 [==============================] - 14s 17ms/step - loss: 1.9603e-06 - accuracy: 1.0000 - val_loss: 2.0500 - val_accuracy: 0.8073\n",
            "Epoch 40/50\n",
            "782/782 [==============================] - 14s 18ms/step - loss: 1.3464e-06 - accuracy: 1.0000 - val_loss: 2.1046 - val_accuracy: 0.8078\n",
            "Epoch 41/50\n",
            "782/782 [==============================] - 14s 18ms/step - loss: 9.1909e-07 - accuracy: 1.0000 - val_loss: 2.1585 - val_accuracy: 0.8080\n",
            "Epoch 42/50\n",
            "782/782 [==============================] - 14s 18ms/step - loss: 6.2372e-07 - accuracy: 1.0000 - val_loss: 2.2198 - val_accuracy: 0.8080\n",
            "Epoch 43/50\n",
            "782/782 [==============================] - 14s 18ms/step - loss: 4.2110e-07 - accuracy: 1.0000 - val_loss: 2.2744 - val_accuracy: 0.8088\n",
            "Epoch 44/50\n",
            "782/782 [==============================] - 14s 18ms/step - loss: 2.8299e-07 - accuracy: 1.0000 - val_loss: 2.3371 - val_accuracy: 0.8087\n",
            "Epoch 45/50\n",
            "782/782 [==============================] - 14s 18ms/step - loss: 1.9008e-07 - accuracy: 1.0000 - val_loss: 2.3974 - val_accuracy: 0.8088\n",
            "Epoch 46/50\n",
            "782/782 [==============================] - 14s 18ms/step - loss: 1.2759e-07 - accuracy: 1.0000 - val_loss: 2.4538 - val_accuracy: 0.8089\n",
            "Epoch 47/50\n",
            "782/782 [==============================] - 14s 18ms/step - loss: 8.6205e-08 - accuracy: 1.0000 - val_loss: 2.5136 - val_accuracy: 0.8084\n",
            "Epoch 48/50\n",
            "782/782 [==============================] - 14s 18ms/step - loss: 5.8442e-08 - accuracy: 1.0000 - val_loss: 2.5746 - val_accuracy: 0.8084\n",
            "Epoch 49/50\n",
            "782/782 [==============================] - 14s 18ms/step - loss: 3.9636e-08 - accuracy: 1.0000 - val_loss: 2.6325 - val_accuracy: 0.8082\n",
            "Epoch 50/50\n",
            "782/782 [==============================] - 14s 18ms/step - loss: 2.7068e-08 - accuracy: 1.0000 - val_loss: 2.6914 - val_accuracy: 0.8083\n"
          ],
          "name": "stdout"
        }
      ]
    },
    {
      "cell_type": "code",
      "metadata": {
        "colab_type": "code",
        "id": "nHGYuU4jPYaj",
        "colab": {
          "base_uri": "https://localhost:8080/",
          "height": 541
        },
        "outputId": "80a1ce01-94da-42d1-d02c-0e7c7346ae9c"
      },
      "source": [
        "import matplotlib.pyplot as plt\n",
        "\n",
        "\n",
        "def plot_graphs(history, string):\n",
        "  plt.plot(history.history[string])\n",
        "  plt.plot(history.history['val_'+string])\n",
        "  plt.xlabel(\"Epochs\")\n",
        "  plt.ylabel(string)\n",
        "  plt.legend([string, 'val_'+string])\n",
        "  plt.show()\n",
        "\n",
        "plot_graphs(history, 'accuracy')\n",
        "plot_graphs(history, 'loss')"
      ],
      "execution_count": 9,
      "outputs": [
        {
          "output_type": "display_data",
          "data": {
            "image/png": "[encoded data removed]",
            "text/plain": [
              "<Figure size 432x288 with 1 Axes>"
            ]
          },
          "metadata": {
            "tags": [],
            "needs_background": "light"
          }
        },
        {
          "output_type": "display_data",
          "data": {
            "image/png": "[encoded data removed]",
            "text/plain": [
              "<Figure size 432x288 with 1 Axes>"
            ]
          },
          "metadata": {
            "tags": [],
            "needs_background": "light"
          }
        }
      ]
    },
    {
      "cell_type": "code",
      "metadata": {
        "colab_type": "code",
        "id": "wSualgGPPK0S",
        "colab": {
          "base_uri": "https://localhost:8080/",
          "height": 301
        },
        "outputId": "6159f0e1-f6b1-4bf0-ee33-d38c5f718045"
      },
      "source": [
        "# Model Definition with LSTM\n",
        "model = tf.keras.Sequential([\n",
        "    tf.keras.layers.Embedding(vocab_size, embedding_dim, input_length=max_length),\n",
        "    tf.keras.layers.Bidirectional(tf.keras.layers.LSTM(32)),\n",
        "    tf.keras.layers.Dense(6, activation='relu'),\n",
        "    tf.keras.layers.Dense(1, activation='sigmoid')\n",
        "])\n",
        "model.compile(loss='binary_crossentropy',optimizer='adam',metrics=['accuracy'])\n",
        "model.summary()\n"
      ],
      "execution_count": 10,
      "outputs": [
        {
          "output_type": "stream",
          "text": [
            "Model: \"sequential_1\"\n",
            "_________________________________________________________________\n",
            "Layer (type)                 Output Shape              Param #   \n",
            "=================================================================\n",
            "embedding_1 (Embedding)      (None, 120, 16)           160000    \n",
            "_________________________________________________________________\n",
            "bidirectional_1 (Bidirection (None, 64)                12544     \n",
            "_________________________________________________________________\n",
            "dense_2 (Dense)              (None, 6)                 390       \n",
            "_________________________________________________________________\n",
            "dense_3 (Dense)              (None, 1)                 7         \n",
            "=================================================================\n",
            "Total params: 172,941\n",
            "Trainable params: 172,941\n",
            "Non-trainable params: 0\n",
            "_________________________________________________________________\n"
          ],
          "name": "stdout"
        }
      ]
    },
    {
      "cell_type": "code",
      "metadata": {
        "id": "dvY3SNq6lEJV",
        "colab_type": "code",
        "colab": {
          "base_uri": "https://localhost:8080/",
          "height": 1000
        },
        "outputId": "94337193-4036-4ee0-a8f7-1faad6fa2fd8"
      },
      "source": [
        "num_epochs = 50\n",
        "history = model.fit(padded, training_labels_final, epochs=num_epochs, validation_data=(testing_padded, testing_labels_final))"
      ],
      "execution_count": 11,
      "outputs": [
        {
          "output_type": "stream",
          "text": [
            "Epoch 1/50\n",
            "782/782 [==============================] - 15s 19ms/step - loss: 0.4810 - accuracy: 0.7498 - val_loss: 0.3906 - val_accuracy: 0.8410\n",
            "Epoch 2/50\n",
            "782/782 [==============================] - 14s 18ms/step - loss: 0.2912 - accuracy: 0.8814 - val_loss: 0.3527 - val_accuracy: 0.8469\n",
            "Epoch 3/50\n",
            "782/782 [==============================] - 15s 19ms/step - loss: 0.2296 - accuracy: 0.9112 - val_loss: 0.3792 - val_accuracy: 0.8427\n",
            "Epoch 4/50\n",
            "782/782 [==============================] - 15s 19ms/step - loss: 0.1779 - accuracy: 0.9339 - val_loss: 0.4355 - val_accuracy: 0.8331\n",
            "Epoch 5/50\n",
            "782/782 [==============================] - 14s 19ms/step - loss: 0.1258 - accuracy: 0.9543 - val_loss: 0.5987 - val_accuracy: 0.8228\n",
            "Epoch 6/50\n",
            "782/782 [==============================] - 14s 18ms/step - loss: 0.0867 - accuracy: 0.9696 - val_loss: 0.5557 - val_accuracy: 0.8246\n",
            "Epoch 7/50\n",
            "782/782 [==============================] - 15s 19ms/step - loss: 0.0667 - accuracy: 0.9771 - val_loss: 0.6308 - val_accuracy: 0.8222\n",
            "Epoch 8/50\n",
            "782/782 [==============================] - 15s 19ms/step - loss: 0.0450 - accuracy: 0.9850 - val_loss: 0.6832 - val_accuracy: 0.8108\n",
            "Epoch 9/50\n",
            "782/782 [==============================] - 15s 19ms/step - loss: 0.0284 - accuracy: 0.9922 - val_loss: 0.8063 - val_accuracy: 0.8188\n",
            "Epoch 10/50\n",
            "782/782 [==============================] - 15s 19ms/step - loss: 0.0243 - accuracy: 0.9925 - val_loss: 0.8310 - val_accuracy: 0.8152\n",
            "Epoch 11/50\n",
            "782/782 [==============================] - 15s 19ms/step - loss: 0.0258 - accuracy: 0.9916 - val_loss: 0.9391 - val_accuracy: 0.8178\n",
            "Epoch 12/50\n",
            "782/782 [==============================] - 15s 19ms/step - loss: 0.0179 - accuracy: 0.9943 - val_loss: 1.1252 - val_accuracy: 0.8148\n",
            "Epoch 13/50\n",
            "782/782 [==============================] - 15s 19ms/step - loss: 0.0222 - accuracy: 0.9925 - val_loss: 0.9340 - val_accuracy: 0.8159\n",
            "Epoch 14/50\n",
            "782/782 [==============================] - 15s 19ms/step - loss: 0.0138 - accuracy: 0.9960 - val_loss: 0.9738 - val_accuracy: 0.8139\n",
            "Epoch 15/50\n",
            "782/782 [==============================] - 15s 19ms/step - loss: 0.0167 - accuracy: 0.9945 - val_loss: 1.1282 - val_accuracy: 0.8182\n",
            "Epoch 16/50\n",
            "782/782 [==============================] - 15s 19ms/step - loss: 0.0088 - accuracy: 0.9973 - val_loss: 1.0792 - val_accuracy: 0.8070\n",
            "Epoch 17/50\n",
            "782/782 [==============================] - 14s 19ms/step - loss: 0.0163 - accuracy: 0.9946 - val_loss: 0.9988 - val_accuracy: 0.8156\n",
            "Epoch 18/50\n",
            "782/782 [==============================] - 15s 19ms/step - loss: 0.0107 - accuracy: 0.9973 - val_loss: 1.0010 - val_accuracy: 0.8075\n",
            "Epoch 19/50\n",
            "782/782 [==============================] - 15s 19ms/step - loss: 0.0030 - accuracy: 0.9993 - val_loss: 1.2859 - val_accuracy: 0.8186\n",
            "Epoch 20/50\n",
            "782/782 [==============================] - 15s 19ms/step - loss: 0.0154 - accuracy: 0.9949 - val_loss: 1.0988 - val_accuracy: 0.8158\n",
            "Epoch 21/50\n",
            "782/782 [==============================] - 15s 19ms/step - loss: 0.0095 - accuracy: 0.9975 - val_loss: 1.2006 - val_accuracy: 0.8187\n",
            "Epoch 22/50\n",
            "782/782 [==============================] - 15s 19ms/step - loss: 0.0051 - accuracy: 0.9982 - val_loss: 1.2578 - val_accuracy: 0.8166\n",
            "Epoch 23/50\n",
            "782/782 [==============================] - 14s 18ms/step - loss: 0.0124 - accuracy: 0.9965 - val_loss: 1.1168 - val_accuracy: 0.8196\n",
            "Epoch 24/50\n",
            "782/782 [==============================] - 14s 19ms/step - loss: 0.0021 - accuracy: 0.9995 - val_loss: 1.3213 - val_accuracy: 0.8190\n",
            "Epoch 25/50\n",
            "782/782 [==============================] - 14s 18ms/step - loss: 0.0119 - accuracy: 0.9966 - val_loss: 1.2672 - val_accuracy: 0.8196\n",
            "Epoch 26/50\n",
            "782/782 [==============================] - 15s 19ms/step - loss: 0.0066 - accuracy: 0.9980 - val_loss: 1.2294 - val_accuracy: 0.8166\n",
            "Epoch 27/50\n",
            "782/782 [==============================] - 15s 19ms/step - loss: 0.0037 - accuracy: 0.9990 - val_loss: 1.2396 - val_accuracy: 0.7982\n",
            "Epoch 28/50\n",
            "782/782 [==============================] - 16s 20ms/step - loss: 0.0057 - accuracy: 0.9982 - val_loss: 1.2223 - val_accuracy: 0.8124\n",
            "Epoch 29/50\n",
            "782/782 [==============================] - 15s 19ms/step - loss: 0.0098 - accuracy: 0.9966 - val_loss: 1.2167 - val_accuracy: 0.8116\n",
            "Epoch 30/50\n",
            "782/782 [==============================] - 15s 19ms/step - loss: 0.0035 - accuracy: 0.9989 - val_loss: 1.1417 - val_accuracy: 0.8106\n",
            "Epoch 31/50\n",
            "782/782 [==============================] - 15s 19ms/step - loss: 4.2614e-04 - accuracy: 1.0000 - val_loss: 1.3467 - val_accuracy: 0.8173\n",
            "Epoch 32/50\n",
            "782/782 [==============================] - 15s 19ms/step - loss: 5.6535e-05 - accuracy: 1.0000 - val_loss: 1.4571 - val_accuracy: 0.8182\n",
            "Epoch 33/50\n",
            "782/782 [==============================] - 15s 19ms/step - loss: 3.1586e-05 - accuracy: 1.0000 - val_loss: 1.5156 - val_accuracy: 0.8182\n",
            "Epoch 34/50\n",
            "782/782 [==============================] - 15s 19ms/step - loss: 2.0672e-05 - accuracy: 1.0000 - val_loss: 1.5776 - val_accuracy: 0.8190\n",
            "Epoch 35/50\n",
            "782/782 [==============================] - 15s 19ms/step - loss: 1.3719e-05 - accuracy: 1.0000 - val_loss: 1.6417 - val_accuracy: 0.8184\n",
            "Epoch 36/50\n",
            "782/782 [==============================] - 15s 19ms/step - loss: 9.1576e-06 - accuracy: 1.0000 - val_loss: 1.7009 - val_accuracy: 0.8180\n",
            "Epoch 37/50\n",
            "782/782 [==============================] - 15s 19ms/step - loss: 6.1055e-06 - accuracy: 1.0000 - val_loss: 1.7634 - val_accuracy: 0.8183\n",
            "Epoch 38/50\n",
            "782/782 [==============================] - 15s 19ms/step - loss: 4.0492e-06 - accuracy: 1.0000 - val_loss: 1.8300 - val_accuracy: 0.8184\n",
            "Epoch 39/50\n",
            "782/782 [==============================] - 14s 19ms/step - loss: 2.6739e-06 - accuracy: 1.0000 - val_loss: 1.8912 - val_accuracy: 0.8184\n",
            "Epoch 40/50\n",
            "782/782 [==============================] - 15s 19ms/step - loss: 1.7631e-06 - accuracy: 1.0000 - val_loss: 1.9593 - val_accuracy: 0.8182\n",
            "Epoch 41/50\n",
            "782/782 [==============================] - 15s 19ms/step - loss: 1.1544e-06 - accuracy: 1.0000 - val_loss: 2.0268 - val_accuracy: 0.8182\n",
            "Epoch 42/50\n",
            "782/782 [==============================] - 15s 19ms/step - loss: 7.5329e-07 - accuracy: 1.0000 - val_loss: 2.0925 - val_accuracy: 0.8181\n",
            "Epoch 43/50\n",
            "782/782 [==============================] - 14s 18ms/step - loss: 4.9237e-07 - accuracy: 1.0000 - val_loss: 2.1594 - val_accuracy: 0.8183\n",
            "Epoch 44/50\n",
            "782/782 [==============================] - 15s 19ms/step - loss: 3.1897e-07 - accuracy: 1.0000 - val_loss: 2.2266 - val_accuracy: 0.8183\n",
            "Epoch 45/50\n",
            "782/782 [==============================] - 15s 19ms/step - loss: 2.0826e-07 - accuracy: 1.0000 - val_loss: 2.2940 - val_accuracy: 0.8184\n",
            "Epoch 46/50\n",
            "782/782 [==============================] - 15s 19ms/step - loss: 1.3584e-07 - accuracy: 1.0000 - val_loss: 2.3573 - val_accuracy: 0.8184\n",
            "Epoch 47/50\n",
            "782/782 [==============================] - 15s 19ms/step - loss: 8.8984e-08 - accuracy: 1.0000 - val_loss: 2.4155 - val_accuracy: 0.8180\n",
            "Epoch 48/50\n",
            "782/782 [==============================] - 15s 19ms/step - loss: 5.8437e-08 - accuracy: 1.0000 - val_loss: 2.4931 - val_accuracy: 0.8179\n",
            "Epoch 49/50\n",
            "782/782 [==============================] - 15s 19ms/step - loss: 3.8888e-08 - accuracy: 1.0000 - val_loss: 2.5545 - val_accuracy: 0.8176\n",
            "Epoch 50/50\n",
            "782/782 [==============================] - 15s 19ms/step - loss: 2.6001e-08 - accuracy: 1.0000 - val_loss: 2.6205 - val_accuracy: 0.8178\n"
          ],
          "name": "stdout"
        }
      ]
    },
    {
      "cell_type": "code",
      "metadata": {
        "id": "6bqNVD-lk8D3",
        "colab_type": "code",
        "colab": {
          "base_uri": "https://localhost:8080/",
          "height": 541
        },
        "outputId": "0c3582ba-7647-47fd-8a9c-7671a98b6de9"
      },
      "source": [
        "import matplotlib.pyplot as plt\n",
        "\n",
        "\n",
        "def plot_graphs(history, string):\n",
        "  plt.plot(history.history[string])\n",
        "  plt.plot(history.history['val_'+string])\n",
        "  plt.xlabel(\"Epochs\")\n",
        "  plt.ylabel(string)\n",
        "  plt.legend([string, 'val_'+string])\n",
        "  plt.show()\n",
        "\n",
        "plot_graphs(history, 'accuracy')\n",
        "plot_graphs(history, 'loss')"
      ],
      "execution_count": 12,
      "outputs": [
        {
          "output_type": "display_data",
          "data": {
            "image/png": "[encoded data removed]",
            "text/plain": [
              "<Figure size 432x288 with 1 Axes>"
            ]
          },
          "metadata": {
            "tags": [],
            "needs_background": "light"
          }
        },
        {
          "output_type": "display_data",
          "data": {
            "image/png": "[encoded data removed]",
            "text/plain": [
              "<Figure size 432x288 with 1 Axes>"
            ]
          },
          "metadata": {
            "tags": [],
            "needs_background": "light"
          }
        }
      ]
    },
    {
      "cell_type": "code",
      "metadata": {
        "colab_type": "code",
        "id": "K_Jc7cY3Qxke",
        "colab": {
          "base_uri": "https://localhost:8080/",
          "height": 337
        },
        "outputId": "41be5af0-93d1-4ae4-8fbf-3aad80282676"
      },
      "source": [
        "# Model Definition with Conv1D\n",
        "model = tf.keras.Sequential([\n",
        "    tf.keras.layers.Embedding(vocab_size, embedding_dim, input_length=max_length),\n",
        "    tf.keras.layers.Conv1D(128, 5, activation='relu'),\n",
        "    tf.keras.layers.GlobalAveragePooling1D(),\n",
        "    tf.keras.layers.Dense(6, activation='relu'),\n",
        "    tf.keras.layers.Dense(1, activation='sigmoid')\n",
        "])\n",
        "model.compile(loss='binary_crossentropy',optimizer='adam',metrics=['accuracy'])\n",
        "model.summary()\n"
      ],
      "execution_count": 13,
      "outputs": [
        {
          "output_type": "stream",
          "text": [
            "Model: \"sequential_2\"\n",
            "_________________________________________________________________\n",
            "Layer (type)                 Output Shape              Param #   \n",
            "=================================================================\n",
            "embedding_2 (Embedding)      (None, 120, 16)           160000    \n",
            "_________________________________________________________________\n",
            "conv1d (Conv1D)              (None, 116, 128)          10368     \n",
            "_________________________________________________________________\n",
            "global_average_pooling1d (Gl (None, 128)               0         \n",
            "_________________________________________________________________\n",
            "dense_4 (Dense)              (None, 6)                 774       \n",
            "_________________________________________________________________\n",
            "dense_5 (Dense)              (None, 1)                 7         \n",
            "=================================================================\n",
            "Total params: 171,149\n",
            "Trainable params: 171,149\n",
            "Non-trainable params: 0\n",
            "_________________________________________________________________\n"
          ],
          "name": "stdout"
        }
      ]
    },
    {
      "cell_type": "code",
      "metadata": {
        "id": "iQWFWuBzlGov",
        "colab_type": "code",
        "colab": {
          "base_uri": "https://localhost:8080/",
          "height": 1000
        },
        "outputId": "f5acc98d-9a45-46c5-faa0-2d29487f8004"
      },
      "source": [
        "num_epochs = 50\n",
        "history = model.fit(padded, training_labels_final, epochs=num_epochs, validation_data=(testing_padded, testing_labels_final))"
      ],
      "execution_count": 14,
      "outputs": [
        {
          "output_type": "stream",
          "text": [
            "Epoch 1/50\n",
            "782/782 [==============================] - 6s 7ms/step - loss: 0.4383 - accuracy: 0.7920 - val_loss: 0.3484 - val_accuracy: 0.8488\n",
            "Epoch 2/50\n",
            "782/782 [==============================] - 6s 7ms/step - loss: 0.2788 - accuracy: 0.8859 - val_loss: 0.3603 - val_accuracy: 0.8435\n",
            "Epoch 3/50\n",
            "782/782 [==============================] - 6s 7ms/step - loss: 0.2271 - accuracy: 0.9119 - val_loss: 0.3877 - val_accuracy: 0.8348\n",
            "Epoch 4/50\n",
            "782/782 [==============================] - 6s 7ms/step - loss: 0.1895 - accuracy: 0.9310 - val_loss: 0.4182 - val_accuracy: 0.8312\n",
            "Epoch 5/50\n",
            "782/782 [==============================] - 6s 7ms/step - loss: 0.1584 - accuracy: 0.9424 - val_loss: 0.4695 - val_accuracy: 0.8246\n",
            "Epoch 6/50\n",
            "782/782 [==============================] - 6s 8ms/step - loss: 0.1297 - accuracy: 0.9556 - val_loss: 0.5157 - val_accuracy: 0.8184\n",
            "Epoch 7/50\n",
            "782/782 [==============================] - 6s 8ms/step - loss: 0.1058 - accuracy: 0.9652 - val_loss: 0.6145 - val_accuracy: 0.8171\n",
            "Epoch 8/50\n",
            "782/782 [==============================] - 6s 7ms/step - loss: 0.0843 - accuracy: 0.9740 - val_loss: 0.6808 - val_accuracy: 0.8126\n",
            "Epoch 9/50\n",
            "782/782 [==============================] - 6s 7ms/step - loss: 0.0665 - accuracy: 0.9809 - val_loss: 0.7905 - val_accuracy: 0.8099\n",
            "Epoch 10/50\n",
            "782/782 [==============================] - 6s 7ms/step - loss: 0.0547 - accuracy: 0.9844 - val_loss: 0.8731 - val_accuracy: 0.8092\n",
            "Epoch 11/50\n",
            "782/782 [==============================] - 6s 7ms/step - loss: 0.0450 - accuracy: 0.9880 - val_loss: 1.0210 - val_accuracy: 0.8072\n",
            "Epoch 12/50\n",
            "782/782 [==============================] - 6s 7ms/step - loss: 0.0351 - accuracy: 0.9911 - val_loss: 1.1445 - val_accuracy: 0.8058\n",
            "Epoch 13/50\n",
            "782/782 [==============================] - 6s 7ms/step - loss: 0.0316 - accuracy: 0.9916 - val_loss: 1.1595 - val_accuracy: 0.8063\n",
            "Epoch 14/50\n",
            "782/782 [==============================] - 6s 7ms/step - loss: 0.0301 - accuracy: 0.9918 - val_loss: 1.2460 - val_accuracy: 0.8045\n",
            "Epoch 15/50\n",
            "782/782 [==============================] - 6s 7ms/step - loss: 0.0241 - accuracy: 0.9934 - val_loss: 1.2235 - val_accuracy: 0.7985\n",
            "Epoch 16/50\n",
            "782/782 [==============================] - 6s 8ms/step - loss: 0.0220 - accuracy: 0.9941 - val_loss: 1.3233 - val_accuracy: 0.7928\n",
            "Epoch 17/50\n",
            "782/782 [==============================] - 6s 7ms/step - loss: 0.0184 - accuracy: 0.9951 - val_loss: 1.4899 - val_accuracy: 0.7997\n",
            "Epoch 18/50\n",
            "782/782 [==============================] - 6s 7ms/step - loss: 0.0206 - accuracy: 0.9932 - val_loss: 1.4720 - val_accuracy: 0.8010\n",
            "Epoch 19/50\n",
            "782/782 [==============================] - 6s 7ms/step - loss: 0.0141 - accuracy: 0.9961 - val_loss: 1.5382 - val_accuracy: 0.8005\n",
            "Epoch 20/50\n",
            "782/782 [==============================] - 6s 7ms/step - loss: 0.0110 - accuracy: 0.9969 - val_loss: 1.7070 - val_accuracy: 0.8004\n",
            "Epoch 21/50\n",
            "782/782 [==============================] - 6s 7ms/step - loss: 0.0127 - accuracy: 0.9963 - val_loss: 1.8004 - val_accuracy: 0.8018\n",
            "Epoch 22/50\n",
            "782/782 [==============================] - 6s 7ms/step - loss: 0.0127 - accuracy: 0.9958 - val_loss: 1.7804 - val_accuracy: 0.7997\n",
            "Epoch 23/50\n",
            "782/782 [==============================] - 6s 7ms/step - loss: 0.0154 - accuracy: 0.9948 - val_loss: 1.7310 - val_accuracy: 0.7971\n",
            "Epoch 24/50\n",
            "782/782 [==============================] - 6s 7ms/step - loss: 0.0074 - accuracy: 0.9981 - val_loss: 1.6870 - val_accuracy: 0.7948\n",
            "Epoch 25/50\n",
            "782/782 [==============================] - 6s 7ms/step - loss: 0.0087 - accuracy: 0.9974 - val_loss: 1.7767 - val_accuracy: 0.7963\n",
            "Epoch 26/50\n",
            "782/782 [==============================] - 6s 7ms/step - loss: 0.0057 - accuracy: 0.9984 - val_loss: 1.9651 - val_accuracy: 0.7984\n",
            "Epoch 27/50\n",
            "782/782 [==============================] - 6s 7ms/step - loss: 0.0039 - accuracy: 0.9989 - val_loss: 1.9444 - val_accuracy: 0.7966\n",
            "Epoch 28/50\n",
            "782/782 [==============================] - 6s 7ms/step - loss: 0.0025 - accuracy: 0.9996 - val_loss: 2.1153 - val_accuracy: 0.7986\n",
            "Epoch 29/50\n",
            "782/782 [==============================] - 6s 7ms/step - loss: 0.0078 - accuracy: 0.9970 - val_loss: 2.1167 - val_accuracy: 0.8010\n",
            "Epoch 30/50\n",
            "782/782 [==============================] - 6s 7ms/step - loss: 0.0130 - accuracy: 0.9955 - val_loss: 1.9756 - val_accuracy: 0.7993\n",
            "Epoch 31/50\n",
            "782/782 [==============================] - 6s 7ms/step - loss: 0.0064 - accuracy: 0.9977 - val_loss: 2.0189 - val_accuracy: 0.7986\n",
            "Epoch 32/50\n",
            "782/782 [==============================] - 6s 7ms/step - loss: 0.0024 - accuracy: 0.9991 - val_loss: 2.0978 - val_accuracy: 0.7957\n",
            "Epoch 33/50\n",
            "782/782 [==============================] - 6s 7ms/step - loss: 6.9952e-04 - accuracy: 1.0000 - val_loss: 2.2563 - val_accuracy: 0.8007\n",
            "Epoch 34/50\n",
            "782/782 [==============================] - 6s 7ms/step - loss: 5.7852e-04 - accuracy: 0.9999 - val_loss: 2.2862 - val_accuracy: 0.7997\n",
            "Epoch 35/50\n",
            "782/782 [==============================] - 6s 7ms/step - loss: 0.0041 - accuracy: 0.9988 - val_loss: 2.2333 - val_accuracy: 0.7965\n",
            "Epoch 36/50\n",
            "782/782 [==============================] - 6s 7ms/step - loss: 0.0127 - accuracy: 0.9957 - val_loss: 2.0898 - val_accuracy: 0.7946\n",
            "Epoch 37/50\n",
            "782/782 [==============================] - 6s 7ms/step - loss: 0.0033 - accuracy: 0.9991 - val_loss: 2.2057 - val_accuracy: 0.7992\n",
            "Epoch 38/50\n",
            "782/782 [==============================] - 6s 7ms/step - loss: 0.0013 - accuracy: 0.9997 - val_loss: 2.1851 - val_accuracy: 0.7890\n",
            "Epoch 39/50\n",
            "782/782 [==============================] - 6s 7ms/step - loss: 0.0011 - accuracy: 0.9998 - val_loss: 2.3616 - val_accuracy: 0.8004\n",
            "Epoch 40/50\n",
            "782/782 [==============================] - 6s 7ms/step - loss: 0.0033 - accuracy: 0.9987 - val_loss: 2.3847 - val_accuracy: 0.8000\n",
            "Epoch 41/50\n",
            "782/782 [==============================] - 6s 7ms/step - loss: 0.0047 - accuracy: 0.9983 - val_loss: 2.3052 - val_accuracy: 0.7984\n",
            "Epoch 42/50\n",
            "782/782 [==============================] - 6s 7ms/step - loss: 0.0020 - accuracy: 0.9994 - val_loss: 2.3250 - val_accuracy: 0.7936\n",
            "Epoch 43/50\n",
            "782/782 [==============================] - 6s 7ms/step - loss: 0.0013 - accuracy: 0.9995 - val_loss: 2.7497 - val_accuracy: 0.8006\n",
            "Epoch 44/50\n",
            "782/782 [==============================] - 6s 7ms/step - loss: 0.0028 - accuracy: 0.9991 - val_loss: 2.4148 - val_accuracy: 0.7950\n",
            "Epoch 45/50\n",
            "782/782 [==============================] - 6s 7ms/step - loss: 0.0029 - accuracy: 0.9991 - val_loss: 2.5016 - val_accuracy: 0.7987\n",
            "Epoch 46/50\n",
            "782/782 [==============================] - 6s 7ms/step - loss: 0.0028 - accuracy: 0.9990 - val_loss: 2.9806 - val_accuracy: 0.7971\n",
            "Epoch 47/50\n",
            "782/782 [==============================] - 6s 7ms/step - loss: 0.0018 - accuracy: 0.9995 - val_loss: 2.4696 - val_accuracy: 0.7930\n",
            "Epoch 48/50\n",
            "782/782 [==============================] - 6s 7ms/step - loss: 7.2622e-04 - accuracy: 0.9999 - val_loss: 2.8073 - val_accuracy: 0.8002\n",
            "Epoch 49/50\n",
            "782/782 [==============================] - 6s 7ms/step - loss: 1.1826e-04 - accuracy: 1.0000 - val_loss: 2.6262 - val_accuracy: 0.7989\n",
            "Epoch 50/50\n",
            "782/782 [==============================] - 6s 8ms/step - loss: 2.3099e-05 - accuracy: 1.0000 - val_loss: 2.6510 - val_accuracy: 0.7988\n"
          ],
          "name": "stdout"
        }
      ]
    },
    {
      "cell_type": "code",
      "metadata": {
        "id": "jPFQqS1ek9Pe",
        "colab_type": "code",
        "colab": {
          "base_uri": "https://localhost:8080/",
          "height": 541
        },
        "outputId": "443cebd4-34c6-4d26-d430-90869dbcd36d"
      },
      "source": [
        "import matplotlib.pyplot as plt\n",
        "\n",
        "\n",
        "def plot_graphs(history, string):\n",
        "  plt.plot(history.history[string])\n",
        "  plt.plot(history.history['val_'+string])\n",
        "  plt.xlabel(\"Epochs\")\n",
        "  plt.ylabel(string)\n",
        "  plt.legend([string, 'val_'+string])\n",
        "  plt.show()\n",
        "\n",
        "plot_graphs(history, 'accuracy')\n",
        "plot_graphs(history, 'loss')"
      ],
      "execution_count": 15,
      "outputs": [
        {
          "output_type": "display_data",
          "data": {
            "image/png": "[encoded data removed]",
            "text/plain": [
              "<Figure size 432x288 with 1 Axes>"
            ]
          },
          "metadata": {
            "tags": [],
            "needs_background": "light"
          }
        },
        {
          "output_type": "display_data",
          "data": {
            "image/png": "[encoded data removed]",
            "text/plain": [
              "<Figure size 432x288 with 1 Axes>"
            ]
          },
          "metadata": {
            "tags": [],
            "needs_background": "light"
          }
        }
      ]
    }
  ]
}
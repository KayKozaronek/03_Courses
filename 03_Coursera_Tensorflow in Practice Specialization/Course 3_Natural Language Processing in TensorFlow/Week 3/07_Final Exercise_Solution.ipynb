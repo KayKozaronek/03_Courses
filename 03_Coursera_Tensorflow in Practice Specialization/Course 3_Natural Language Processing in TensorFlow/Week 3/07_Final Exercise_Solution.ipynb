{
  "nbformat": 4,
  "nbformat_minor": 0,
  "metadata": {
    "accelerator": "GPU",
    "colab": {
      "name": "NLP Course - Week 3 Exercise Question.ipynb",
      "provenance": []
    },
    "kernelspec": {
      "display_name": "Python 3",
      "name": "python3"
    }
  },
  "cells": [
    {
      "cell_type": "code",
      "metadata": {
        "id": "zX4Kg8DUTKWO",
        "colab_type": "code",
        "colab": {}
      },
      "source": [
        "#@title Licensed under the Apache License, Version 2.0 (the \"License\");\n",
        "# you may not use this file except in compliance with the License.\n",
        "# You may obtain a copy of the License at\n",
        "#\n",
        "# https://www.apache.org/licenses/LICENSE-2.0\n",
        "#\n",
        "# Unless required by applicable law or agreed to in writing, software\n",
        "# distributed under the License is distributed on an \"AS IS\" BASIS,\n",
        "# WITHOUT WARRANTIES OR CONDITIONS OF ANY KIND, either express or implied.\n",
        "# See the License for the specific language governing permissions and\n",
        "# limitations under the License."
      ],
      "execution_count": 0,
      "outputs": []
    },
    {
      "cell_type": "code",
      "metadata": {
        "colab_type": "code",
        "id": "hmA6EzkQJ5jt",
        "colab": {}
      },
      "source": [
        "import json\n",
        "import tensorflow as tf\n",
        "import csv\n",
        "import random\n",
        "import numpy as np\n",
        "\n",
        "from tensorflow.keras.preprocessing.text import Tokenizer\n",
        "from tensorflow.keras.preprocessing.sequence import pad_sequences\n",
        "from tensorflow.keras.utils import to_categorical\n",
        "from tensorflow.keras import regularizers\n",
        "\n",
        "\n",
        "embedding_dim = 100\n",
        "max_length = 16\n",
        "trunc_type='post'\n",
        "padding_type='post'\n",
        "oov_tok = \"<OOV>\"\n",
        "training_size= 160000 #Your dataset size here. Experiment using smaller values (i.e. 16000), but don't forget to train on at least 160000 to see the best effects\n",
        "test_portion=.1\n",
        "\n",
        "corpus = []\n"
      ],
      "execution_count": 0,
      "outputs": []
    },
    {
      "cell_type": "code",
      "metadata": {
        "colab_type": "code",
        "id": "bM0l_dORKqE0",
        "outputId": "a295c1f5-21f8-4068-ad3f-70fc2963b4db",
        "colab": {
          "base_uri": "https://localhost:8080/",
          "height": 221
        }
      },
      "source": [
        "# Note that I cleaned the Stanford dataset to remove LATIN1 encoding to make it easier for Python CSV reader\n",
        "# You can do that yourself with:\n",
        "# iconv -f LATIN1 -t UTF8 training.1600000.processed.noemoticon.csv -o training_cleaned.csv\n",
        "# I then hosted it on my site to make it easier to use in this notebook\n",
        "\n",
        "!wget --no-check-certificate \\\n",
        "    https://storage.googleapis.com/laurencemoroney-blog.appspot.com/training_cleaned.csv \\\n",
        "    -O /tmp/training_cleaned.csv\n",
        "\n",
        "num_sentences = 0\n",
        "\n",
        "with open(\"/tmp/training_cleaned.csv\") as csvfile:\n",
        "    reader = csv.reader(csvfile, delimiter=',')\n",
        "    for row in reader:\n",
        "      # Your Code here. Create list items where the first item is the text, found in row[5], and the second is the label. Note that the label is a '0' or a '4' in the text. When it's the former, make\n",
        "      # your label to be 0, otherwise 1. Keep a count of the number of sentences in num_sentences\n",
        "      list_item = []\n",
        "      # YOUR CODE HERE\n",
        "      if row[0] == \"0\":\n",
        "        list_item=[row[5], 0]\n",
        "      elif row[0] == \"4\":\n",
        "        list_item=[row[5], 1]\n",
        "\n",
        "      num_sentences = num_sentences + 1\n",
        "      corpus.append(list_item)\n"
      ],
      "execution_count": 49,
      "outputs": [
        {
          "output_type": "stream",
          "text": [
            "--2020-06-14 21:02:40--  https://storage.googleapis.com/laurencemoroney-blog.appspot.com/training_cleaned.csv\n",
            "Resolving storage.googleapis.com (storage.googleapis.com)... 173.194.217.128, 2607:f8b0:400c:c15::80\n",
            "Connecting to storage.googleapis.com (storage.googleapis.com)|173.194.217.128|:443... connected.\n",
            "HTTP request sent, awaiting response... 200 OK\n",
            "Length: 238942690 (228M) [application/octet-stream]\n",
            "Saving to: ‘/tmp/training_cleaned.csv’\n",
            "\n",
            "/tmp/training_clean 100%[===================>] 227.87M   216MB/s    in 1.1s    \n",
            "\n",
            "2020-06-14 21:02:41 (216 MB/s) - ‘/tmp/training_cleaned.csv’ saved [238942690/238942690]\n",
            "\n"
          ],
          "name": "stdout"
        }
      ]
    },
    {
      "cell_type": "code",
      "metadata": {
        "colab_type": "code",
        "id": "3kxblBUjEUX-",
        "outputId": "ca42a7bd-bc8f-4645-fb16-e32067cbe77b",
        "colab": {
          "base_uri": "https://localhost:8080/",
          "height": 87
        }
      },
      "source": [
        "print(num_sentences)\n",
        "print(len(corpus))\n",
        "print(corpus[1])\n",
        "\n",
        "# Expected Output:\n",
        "# 1600000\n",
        "# 1600000\n",
        "# [\"is upset that he can't update his Facebook by texting it... and might cry as a result  School today also. Blah!\", 0]"
      ],
      "execution_count": 50,
      "outputs": [
        {
          "output_type": "stream",
          "text": [
            "1600000\n",
            "1600000\n",
            "[\"is upset that he can't update his Facebook by texting it... and might cry as a result  School today also. Blah!\", 0]\n"
          ],
          "name": "stdout"
        }
      ]
    },
    {
      "cell_type": "code",
      "metadata": {
        "colab_type": "code",
        "id": "ohOGz24lsNAD",
        "colab": {}
      },
      "source": [
        "sentences=[]\n",
        "labels=[]\n",
        "random.shuffle(corpus)\n",
        "for x in range(training_size):\n",
        "  sentences.append(corpus[x][0])# YOUR CODE HERE)\n",
        "  labels.append(corpus[x][1])# YOUR CODE HERE)\n",
        "\n",
        "\n",
        "tokenizer = Tokenizer()\n",
        "tokenizer.fit_on_texts(sentences)# YOUR CODE HERE)\n",
        "\n",
        "word_index = tokenizer.word_index\n",
        "vocab_size=len(word_index)# YOUR CODE HERE)\n",
        "\n",
        "sequences = tokenizer.texts_to_sequences(sentences)# YOUR CODE HERE)\n",
        "padded = pad_sequences(sequences,\n",
        "                       maxlen = max_length,\n",
        "                       padding = padding_type ,\n",
        "                       truncating = trunc_type)# YOUR CODE HERE)\n",
        "\n",
        "split = int(test_portion * training_size)\n",
        "\n",
        "test_sequences = padded[split:]# YOUR CODE HERE]\n",
        "training_sequences = padded[:split]# YOUR CODE HERE]\n",
        "test_labels = labels[split:]# YOUR CODE HERE]\n",
        "training_labels = labels[:split]# YOUR CODE HERE]"
      ],
      "execution_count": 0,
      "outputs": []
    },
    {
      "cell_type": "code",
      "metadata": {
        "colab_type": "code",
        "id": "gIrtRem1En3N",
        "outputId": "36dc9c71-ecf9-4d94-beeb-d5c8f6242fd8",
        "colab": {
          "base_uri": "https://localhost:8080/",
          "height": 50
        }
      },
      "source": [
        "print(vocab_size)\n",
        "print(word_index['i'])\n",
        "# Expected Output\n",
        "# 138858\n",
        "# 1"
      ],
      "execution_count": 52,
      "outputs": [
        {
          "output_type": "stream",
          "text": [
            "138447\n",
            "1\n"
          ],
          "name": "stdout"
        }
      ]
    },
    {
      "cell_type": "code",
      "metadata": {
        "colab_type": "code",
        "id": "C1zdgJkusRh0",
        "outputId": "ce3e85d9-1f70-4d5a-cede-d4e21e072369",
        "colab": {
          "base_uri": "https://localhost:8080/",
          "height": 221
        }
      },
      "source": [
        "# Note this is the 100 dimension version of GloVe from Stanford\n",
        "# I unzipped and hosted it on my site to make this notebook easier\n",
        "!wget --no-check-certificate \\\n",
        "    https://storage.googleapis.com/laurencemoroney-blog.appspot.com/glove.6B.100d.txt \\\n",
        "    -O /tmp/glove.6B.100d.txt\n",
        "embeddings_index = {};\n",
        "with open('/tmp/glove.6B.100d.txt') as f:\n",
        "    for line in f:\n",
        "        values = line.split();\n",
        "        word = values[0];\n",
        "        coefs = np.asarray(values[1:], dtype='float32');\n",
        "        embeddings_index[word] = coefs;\n",
        "\n",
        "embeddings_matrix = np.zeros((vocab_size+1, embedding_dim));\n",
        "for word, i in word_index.items():\n",
        "    embedding_vector = embeddings_index.get(word);\n",
        "    if embedding_vector is not None:\n",
        "        embeddings_matrix[i] = embedding_vector;"
      ],
      "execution_count": 53,
      "outputs": [
        {
          "output_type": "stream",
          "text": [
            "--2020-06-14 21:04:53--  https://storage.googleapis.com/laurencemoroney-blog.appspot.com/glove.6B.100d.txt\n",
            "Resolving storage.googleapis.com (storage.googleapis.com)... 173.194.216.128, 2607:f8b0:400c:c02::80\n",
            "Connecting to storage.googleapis.com (storage.googleapis.com)|173.194.216.128|:443... connected.\n",
            "HTTP request sent, awaiting response... 200 OK\n",
            "Length: 347116733 (331M) [text/plain]\n",
            "Saving to: ‘/tmp/glove.6B.100d.txt’\n",
            "\n",
            "/tmp/glove.6B.100d. 100%[===================>] 331.04M   173MB/s    in 1.9s    \n",
            "\n",
            "2020-06-14 21:04:55 (173 MB/s) - ‘/tmp/glove.6B.100d.txt’ saved [347116733/347116733]\n",
            "\n"
          ],
          "name": "stdout"
        }
      ]
    },
    {
      "cell_type": "code",
      "metadata": {
        "colab_type": "code",
        "id": "71NLk_lpFLNt",
        "outputId": "1a492279-8629-42f6-aaf3-957efd8c4d03",
        "colab": {
          "base_uri": "https://localhost:8080/",
          "height": 33
        }
      },
      "source": [
        "print(len(embeddings_matrix))\n",
        "# Expected Output\n",
        "# 138859"
      ],
      "execution_count": 54,
      "outputs": [
        {
          "output_type": "stream",
          "text": [
            "138448\n"
          ],
          "name": "stdout"
        }
      ]
    },
    {
      "cell_type": "code",
      "metadata": {
        "colab_type": "code",
        "id": "iKKvbuEBOGFz",
        "colab": {
          "base_uri": "https://localhost:8080/",
          "height": 1000
        },
        "outputId": "90b4e0b7-9009-4b9b-9087-022d64a7455d"
      },
      "source": [
        "model = tf.keras.Sequential([\n",
        "    tf.keras.layers.Embedding(vocab_size+1, \n",
        "                              embedding_dim, \n",
        "                              input_length=max_length, \n",
        "                              weights=[embeddings_matrix], \n",
        "                              trainable=False),\n",
        "    # YOUR CODE HERE - experiment with combining different types, such as convolutions and LSTMs\n",
        "    tf.keras.layers.Dropout(0.2),\n",
        "    tf.keras.layers.Conv1D(filters=64, kernel_size = 5, activation =\"relu\"),\n",
        "    tf.keras.layers.MaxPooling1D(pool_size=4),\n",
        "    tf.keras.layers.LSTM(64),\n",
        "    tf.keras.layers.Dense(1, activation = \"sigmoid\")\n",
        "])\n",
        "\n",
        "model.compile(loss = \"binary_crossentropy\" ,\n",
        "              optimizer = \"adam\", \n",
        "              metrics = [\"accuracy\"])# YOUR CODE HERE)\n",
        "model.summary()\n",
        "\n",
        "num_epochs = 50\n",
        "history = model.fit(training_sequences, \n",
        "                    np.array(training_labels), \n",
        "                    epochs=num_epochs, \n",
        "                    validation_data=(test_sequences, np.array(test_labels)),\n",
        "                    verbose=1)\n",
        "\n",
        "print(\"\\n\\nTraining Complete\\n\\n\")\n"
      ],
      "execution_count": 57,
      "outputs": [
        {
          "output_type": "stream",
          "text": [
            "Model: \"sequential_4\"\n",
            "_________________________________________________________________\n",
            "Layer (type)                 Output Shape              Param #   \n",
            "=================================================================\n",
            "embedding_6 (Embedding)      (None, 16, 100)           13844800  \n",
            "_________________________________________________________________\n",
            "dropout_6 (Dropout)          (None, 16, 100)           0         \n",
            "_________________________________________________________________\n",
            "conv1d_5 (Conv1D)            (None, 12, 64)            32064     \n",
            "_________________________________________________________________\n",
            "max_pooling1d_3 (MaxPooling1 (None, 3, 64)             0         \n",
            "_________________________________________________________________\n",
            "lstm_5 (LSTM)                (None, 64)                33024     \n",
            "_________________________________________________________________\n",
            "dense_4 (Dense)              (None, 1)                 65        \n",
            "=================================================================\n",
            "Total params: 13,909,953\n",
            "Trainable params: 65,153\n",
            "Non-trainable params: 13,844,800\n",
            "_________________________________________________________________\n",
            "Epoch 1/50\n",
            "500/500 [==============================] - 13s 26ms/step - loss: 0.6320 - accuracy: 0.6378 - val_loss: 0.5949 - val_accuracy: 0.6789\n",
            "Epoch 2/50\n",
            "500/500 [==============================] - 12s 25ms/step - loss: 0.5754 - accuracy: 0.6976 - val_loss: 0.5664 - val_accuracy: 0.7050\n",
            "Epoch 3/50\n",
            "500/500 [==============================] - 12s 23ms/step - loss: 0.5420 - accuracy: 0.7207 - val_loss: 0.5600 - val_accuracy: 0.7097\n",
            "Epoch 4/50\n",
            "500/500 [==============================] - 12s 25ms/step - loss: 0.5200 - accuracy: 0.7380 - val_loss: 0.5581 - val_accuracy: 0.7085\n",
            "Epoch 5/50\n",
            "500/500 [==============================] - 13s 25ms/step - loss: 0.4898 - accuracy: 0.7594 - val_loss: 0.5618 - val_accuracy: 0.7039\n",
            "Epoch 6/50\n",
            "500/500 [==============================] - 12s 24ms/step - loss: 0.4615 - accuracy: 0.7738 - val_loss: 0.5985 - val_accuracy: 0.6905\n",
            "Epoch 7/50\n",
            "500/500 [==============================] - 13s 25ms/step - loss: 0.4409 - accuracy: 0.7899 - val_loss: 0.5823 - val_accuracy: 0.7002\n",
            "Epoch 8/50\n",
            "500/500 [==============================] - 12s 25ms/step - loss: 0.4229 - accuracy: 0.8008 - val_loss: 0.6073 - val_accuracy: 0.6959\n",
            "Epoch 9/50\n",
            "500/500 [==============================] - 12s 24ms/step - loss: 0.3950 - accuracy: 0.8139 - val_loss: 0.6100 - val_accuracy: 0.7017\n",
            "Epoch 10/50\n",
            "500/500 [==============================] - 12s 25ms/step - loss: 0.3830 - accuracy: 0.8249 - val_loss: 0.6223 - val_accuracy: 0.6966\n",
            "Epoch 11/50\n",
            "500/500 [==============================] - 12s 24ms/step - loss: 0.3612 - accuracy: 0.8341 - val_loss: 0.6467 - val_accuracy: 0.6988\n",
            "Epoch 12/50\n",
            "500/500 [==============================] - 12s 24ms/step - loss: 0.3519 - accuracy: 0.8400 - val_loss: 0.6540 - val_accuracy: 0.6956\n",
            "Epoch 13/50\n",
            "500/500 [==============================] - 12s 24ms/step - loss: 0.3418 - accuracy: 0.8475 - val_loss: 0.6889 - val_accuracy: 0.6956\n",
            "Epoch 14/50\n",
            "500/500 [==============================] - 13s 25ms/step - loss: 0.3190 - accuracy: 0.8547 - val_loss: 0.6885 - val_accuracy: 0.6952\n",
            "Epoch 15/50\n",
            "500/500 [==============================] - 12s 24ms/step - loss: 0.3112 - accuracy: 0.8624 - val_loss: 0.7289 - val_accuracy: 0.6903\n",
            "Epoch 16/50\n",
            "500/500 [==============================] - 12s 25ms/step - loss: 0.3064 - accuracy: 0.8634 - val_loss: 0.7114 - val_accuracy: 0.6957\n",
            "Epoch 17/50\n",
            "500/500 [==============================] - 12s 24ms/step - loss: 0.2921 - accuracy: 0.8736 - val_loss: 0.7191 - val_accuracy: 0.6905\n",
            "Epoch 18/50\n",
            "500/500 [==============================] - 13s 26ms/step - loss: 0.2837 - accuracy: 0.8777 - val_loss: 0.7174 - val_accuracy: 0.6897\n",
            "Epoch 19/50\n",
            "500/500 [==============================] - 12s 23ms/step - loss: 0.2780 - accuracy: 0.8798 - val_loss: 0.7578 - val_accuracy: 0.6895\n",
            "Epoch 20/50\n",
            "500/500 [==============================] - 12s 25ms/step - loss: 0.2753 - accuracy: 0.8796 - val_loss: 0.7777 - val_accuracy: 0.6928\n",
            "Epoch 21/50\n",
            "500/500 [==============================] - 12s 24ms/step - loss: 0.2692 - accuracy: 0.8802 - val_loss: 0.7641 - val_accuracy: 0.6844\n",
            "Epoch 22/50\n",
            "500/500 [==============================] - 12s 24ms/step - loss: 0.2593 - accuracy: 0.8897 - val_loss: 0.7859 - val_accuracy: 0.6886\n",
            "Epoch 23/50\n",
            "500/500 [==============================] - 12s 24ms/step - loss: 0.2523 - accuracy: 0.8932 - val_loss: 0.8059 - val_accuracy: 0.6939\n",
            "Epoch 24/50\n",
            "500/500 [==============================] - 12s 24ms/step - loss: 0.2455 - accuracy: 0.8939 - val_loss: 0.8108 - val_accuracy: 0.6858\n",
            "Epoch 25/50\n",
            "500/500 [==============================] - 12s 24ms/step - loss: 0.2361 - accuracy: 0.8991 - val_loss: 0.8363 - val_accuracy: 0.6867\n",
            "Epoch 26/50\n",
            "500/500 [==============================] - 12s 23ms/step - loss: 0.2313 - accuracy: 0.9007 - val_loss: 0.8442 - val_accuracy: 0.6852\n",
            "Epoch 27/50\n",
            "500/500 [==============================] - 12s 24ms/step - loss: 0.2327 - accuracy: 0.8985 - val_loss: 0.8888 - val_accuracy: 0.6898\n",
            "Epoch 28/50\n",
            "500/500 [==============================] - 12s 24ms/step - loss: 0.2252 - accuracy: 0.9041 - val_loss: 0.8633 - val_accuracy: 0.6885\n",
            "Epoch 29/50\n",
            "500/500 [==============================] - 12s 24ms/step - loss: 0.2228 - accuracy: 0.9050 - val_loss: 0.8654 - val_accuracy: 0.6830\n",
            "Epoch 30/50\n",
            "500/500 [==============================] - 12s 24ms/step - loss: 0.2152 - accuracy: 0.9096 - val_loss: 0.9154 - val_accuracy: 0.6814\n",
            "Epoch 31/50\n",
            "500/500 [==============================] - 12s 24ms/step - loss: 0.2181 - accuracy: 0.9061 - val_loss: 0.9051 - val_accuracy: 0.6858\n",
            "Epoch 32/50\n",
            "500/500 [==============================] - 12s 24ms/step - loss: 0.2113 - accuracy: 0.9131 - val_loss: 0.8708 - val_accuracy: 0.6781\n",
            "Epoch 33/50\n",
            "500/500 [==============================] - 13s 26ms/step - loss: 0.2006 - accuracy: 0.9193 - val_loss: 0.8940 - val_accuracy: 0.6877\n",
            "Epoch 34/50\n",
            "500/500 [==============================] - 12s 24ms/step - loss: 0.2016 - accuracy: 0.9168 - val_loss: 0.9331 - val_accuracy: 0.6854\n",
            "Epoch 35/50\n",
            "500/500 [==============================] - 13s 25ms/step - loss: 0.1948 - accuracy: 0.9191 - val_loss: 0.9723 - val_accuracy: 0.6826\n",
            "Epoch 36/50\n",
            "500/500 [==============================] - 12s 24ms/step - loss: 0.2013 - accuracy: 0.9157 - val_loss: 0.9329 - val_accuracy: 0.6822\n",
            "Epoch 37/50\n",
            "500/500 [==============================] - 12s 25ms/step - loss: 0.1958 - accuracy: 0.9168 - val_loss: 0.9355 - val_accuracy: 0.6793\n",
            "Epoch 38/50\n",
            "500/500 [==============================] - 12s 24ms/step - loss: 0.1819 - accuracy: 0.9244 - val_loss: 0.9567 - val_accuracy: 0.6832\n",
            "Epoch 39/50\n",
            "500/500 [==============================] - 12s 24ms/step - loss: 0.1858 - accuracy: 0.9238 - val_loss: 0.9271 - val_accuracy: 0.6832\n",
            "Epoch 40/50\n",
            "500/500 [==============================] - 13s 25ms/step - loss: 0.1816 - accuracy: 0.9260 - val_loss: 0.9712 - val_accuracy: 0.6827\n",
            "Epoch 41/50\n",
            "500/500 [==============================] - 13s 25ms/step - loss: 0.1822 - accuracy: 0.9259 - val_loss: 0.9947 - val_accuracy: 0.6828\n",
            "Epoch 42/50\n",
            "500/500 [==============================] - 13s 25ms/step - loss: 0.1683 - accuracy: 0.9324 - val_loss: 0.9942 - val_accuracy: 0.6852\n",
            "Epoch 43/50\n",
            "500/500 [==============================] - 13s 25ms/step - loss: 0.1735 - accuracy: 0.9287 - val_loss: 1.0172 - val_accuracy: 0.6834\n",
            "Epoch 44/50\n",
            "500/500 [==============================] - 12s 25ms/step - loss: 0.1692 - accuracy: 0.9315 - val_loss: 0.9968 - val_accuracy: 0.6843\n",
            "Epoch 45/50\n",
            "500/500 [==============================] - 12s 23ms/step - loss: 0.1693 - accuracy: 0.9334 - val_loss: 0.9989 - val_accuracy: 0.6869\n",
            "Epoch 46/50\n",
            "500/500 [==============================] - 12s 24ms/step - loss: 0.1632 - accuracy: 0.9344 - val_loss: 1.0131 - val_accuracy: 0.6860\n",
            "Epoch 47/50\n",
            "500/500 [==============================] - 12s 25ms/step - loss: 0.1667 - accuracy: 0.9325 - val_loss: 1.0054 - val_accuracy: 0.6817\n",
            "Epoch 48/50\n",
            "500/500 [==============================] - 12s 25ms/step - loss: 0.1595 - accuracy: 0.9334 - val_loss: 1.0507 - val_accuracy: 0.6813\n",
            "Epoch 49/50\n",
            "500/500 [==============================] - 13s 25ms/step - loss: 0.1596 - accuracy: 0.9351 - val_loss: 1.0559 - val_accuracy: 0.6829\n",
            "Epoch 50/50\n",
            "500/500 [==============================] - 13s 25ms/step - loss: 0.1570 - accuracy: 0.9377 - val_loss: 1.0553 - val_accuracy: 0.6837\n",
            "\n",
            "\n",
            "Training Complete\n",
            "\n",
            "\n"
          ],
          "name": "stdout"
        }
      ]
    },
    {
      "cell_type": "code",
      "metadata": {
        "colab_type": "code",
        "id": "qxju4ItJKO8F",
        "colab": {
          "base_uri": "https://localhost:8080/",
          "height": 606
        },
        "outputId": "b76fbf64-5133-48b3-ca37-1d281e1390f8"
      },
      "source": [
        "import matplotlib.image  as mpimg\n",
        "import matplotlib.pyplot as plt\n",
        "\n",
        "#-----------------------------------------------------------\n",
        "# Retrieve a list of list results on training and test data\n",
        "# sets for each training epoch\n",
        "#-----------------------------------------------------------\n",
        "acc=history.history['accuracy']\n",
        "val_acc=history.history['val_accuracy']\n",
        "loss=history.history['loss']\n",
        "val_loss=history.history['val_loss']\n",
        "\n",
        "epochs=range(len(acc)) # Get number of epochs\n",
        "\n",
        "#------------------------------------------------\n",
        "# Plot training and validation accuracy per epoch\n",
        "#------------------------------------------------\n",
        "plt.plot(epochs, acc, 'r')\n",
        "plt.plot(epochs, val_acc, 'b')\n",
        "plt.title('Training and validation accuracy')\n",
        "plt.xlabel(\"Epochs\")\n",
        "plt.ylabel(\"Accuracy\")\n",
        "plt.legend([\"Accuracy\", \"Validation Accuracy\"])\n",
        "\n",
        "plt.figure()\n",
        "\n",
        "#------------------------------------------------\n",
        "# Plot training and validation loss per epoch\n",
        "#------------------------------------------------\n",
        "plt.plot(epochs, loss, 'r')\n",
        "plt.plot(epochs, val_loss, 'b')\n",
        "plt.title('Training and validation loss')\n",
        "plt.xlabel(\"Epochs\")\n",
        "plt.ylabel(\"Loss\")\n",
        "plt.legend([\"Loss\", \"Validation Loss\"])\n",
        "\n",
        "plt.figure()\n",
        "\n",
        "\n",
        "# Expected Output\n",
        "# A chart where the validation loss does not increase sharply!"
      ],
      "execution_count": 58,
      "outputs": [
        {
          "output_type": "execute_result",
          "data": {
            "text/plain": [
              "<Figure size 432x288 with 0 Axes>"
            ]
          },
          "metadata": {
            "tags": []
          },
          "execution_count": 58
        },
        {
          "output_type": "display_data",
          "data": {
            "image/png": "[encoded data removed]",
            "text/plain": [
              "<Figure size 432x288 with 1 Axes>"
            ]
          },
          "metadata": {
            "tags": [],
            "needs_background": "light"
          }
        },
        {
          "output_type": "display_data",
          "data": {
            "image/png": "[encoded data removed]",
            "text/plain": [
              "<Figure size 432x288 with 1 Axes>"
            ]
          },
          "metadata": {
            "tags": [],
            "needs_background": "light"
          }
        },
        {
          "output_type": "display_data",
          "data": {
            "text/plain": [
              "<Figure size 432x288 with 0 Axes>"
            ]
          },
          "metadata": {
            "tags": []
          }
        }
      ]
    }
  ]
}
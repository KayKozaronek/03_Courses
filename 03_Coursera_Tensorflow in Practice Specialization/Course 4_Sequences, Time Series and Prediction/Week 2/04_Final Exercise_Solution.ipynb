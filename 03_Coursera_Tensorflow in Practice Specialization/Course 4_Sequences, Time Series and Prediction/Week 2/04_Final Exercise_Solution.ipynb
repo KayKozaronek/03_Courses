{
  "nbformat": 4,
  "nbformat_minor": 0,
  "metadata": {
    "colab": {
      "name": "S+P_Week_2_Exercise_Question.ipynb",
      "provenance": []
    },
    "kernelspec": {
      "display_name": "Python 3",
      "name": "python3"
    }
  },
  "cells": [
    {
      "cell_type": "code",
      "metadata": {
        "id": "zX4Kg8DUTKWO",
        "colab_type": "code",
        "colab": {}
      },
      "source": [
        "#@title Licensed under the Apache License, Version 2.0 (the \"License\");\n",
        "# you may not use this file except in compliance with the License.\n",
        "# You may obtain a copy of the License at\n",
        "#\n",
        "# https://www.apache.org/licenses/LICENSE-2.0\n",
        "#\n",
        "# Unless required by applicable law or agreed to in writing, software\n",
        "# distributed under the License is distributed on an \"AS IS\" BASIS,\n",
        "# WITHOUT WARRANTIES OR CONDITIONS OF ANY KIND, either express or implied.\n",
        "# See the License for the specific language governing permissions and\n",
        "# limitations under the License."
      ],
      "execution_count": 0,
      "outputs": []
    },
    {
      "cell_type": "code",
      "metadata": {
        "cellView": "both",
        "colab_type": "code",
        "id": "D1J15Vh_1Jih",
        "colab": {}
      },
      "source": [
        "!pip install tf-nightly-2.0-preview\n"
      ],
      "execution_count": 0,
      "outputs": []
    },
    {
      "cell_type": "code",
      "metadata": {
        "colab_type": "code",
        "id": "BOjujz601HcS",
        "colab": {
          "base_uri": "https://localhost:8080/",
          "height": 33
        },
        "outputId": "e6f3dc78-4455-4128-b71c-a8ef3a99d8e2"
      },
      "source": [
        "import tensorflow as tf\n",
        "import numpy as np\n",
        "import matplotlib.pyplot as plt\n",
        "print(tf.__version__)"
      ],
      "execution_count": 1,
      "outputs": [
        {
          "output_type": "stream",
          "text": [
            "2.2.0\n"
          ],
          "name": "stdout"
        }
      ]
    },
    {
      "cell_type": "code",
      "metadata": {
        "id": "mjMaKHW_hLjN",
        "colab_type": "code",
        "colab": {}
      },
      "source": [
        "def plot_series(time, series, format=\"-\", start=0, end=None):\n",
        "    plt.plot(time[start:end], series[start:end], format)\n",
        "    plt.xlabel(\"Time\")\n",
        "    plt.ylabel(\"Value\")\n",
        "    plt.grid(False)"
      ],
      "execution_count": 0,
      "outputs": []
    },
    {
      "cell_type": "code",
      "metadata": {
        "id": "VTCEW88JhNT0",
        "colab_type": "code",
        "colab": {}
      },
      "source": [
        "def trend(time, slope=0):\n",
        "    return slope * time"
      ],
      "execution_count": 0,
      "outputs": []
    },
    {
      "cell_type": "code",
      "metadata": {
        "id": "GhMPwYSnhPfX",
        "colab_type": "code",
        "colab": {}
      },
      "source": [
        "def seasonal_pattern(season_time):\n",
        "    \"\"\"Just an arbitrary pattern, you can change it if you wish\"\"\"\n",
        "    return np.where(season_time < 0.1,\n",
        "                    np.cos(season_time * 6 * np.pi),# YOUR CODE HERE # * np.pi),\n",
        "                    2 / np.exp(9* season_time))#YOUR CODE HERE# / np.exp(#YOUR CODE HERE# * season_time))"
      ],
      "execution_count": 0,
      "outputs": []
    },
    {
      "cell_type": "markdown",
      "metadata": {
        "id": "S8mWYXsPiU1z",
        "colab_type": "text"
      },
      "source": [
        "np.where(condition, return if True, return if False)"
      ]
    },
    {
      "cell_type": "code",
      "metadata": {
        "id": "lZci3PzMh2KI",
        "colab_type": "code",
        "colab": {
          "base_uri": "https://localhost:8080/",
          "height": 33
        },
        "outputId": "834f0f99-0452-4581-f883-84b669e58c86"
      },
      "source": [
        "seasonal_pattern(1) == 2/np.exp(9*1)"
      ],
      "execution_count": 43,
      "outputs": [
        {
          "output_type": "execute_result",
          "data": {
            "text/plain": [
              "True"
            ]
          },
          "metadata": {
            "tags": []
          },
          "execution_count": 43
        }
      ]
    },
    {
      "cell_type": "code",
      "metadata": {
        "id": "-PIHIyKfiM3-",
        "colab_type": "code",
        "colab": {
          "base_uri": "https://localhost:8080/",
          "height": 33
        },
        "outputId": "bb6196c8-5b6b-48a8-857f-8fbb4c05cc0c"
      },
      "source": [
        "seasonal_pattern(0.01) == np.cos(0.01 * 6 * np.pi)"
      ],
      "execution_count": 44,
      "outputs": [
        {
          "output_type": "execute_result",
          "data": {
            "text/plain": [
              "True"
            ]
          },
          "metadata": {
            "tags": []
          },
          "execution_count": 44
        }
      ]
    },
    {
      "cell_type": "code",
      "metadata": {
        "id": "LF1VrCfnhSqv",
        "colab_type": "code",
        "colab": {}
      },
      "source": [
        "def seasonality(time, period, amplitude=1, phase=0):\n",
        "    \"\"\"Repeats the same pattern at each period\"\"\"\n",
        "    season_time = ((time + phase) % period) / period\n",
        "    return amplitude * seasonal_pattern(season_time)"
      ],
      "execution_count": 0,
      "outputs": []
    },
    {
      "cell_type": "code",
      "metadata": {
        "id": "5y_Vx2PuhUtW",
        "colab_type": "code",
        "colab": {}
      },
      "source": [
        "def noise(time, noise_level=1, seed=None):\n",
        "    rnd = np.random.RandomState(seed)\n",
        "    return rnd.randn(len(time)) * noise_level"
      ],
      "execution_count": 0,
      "outputs": []
    },
    {
      "cell_type": "code",
      "metadata": {
        "colab_type": "code",
        "id": "Zswl7jRtGzkk",
        "colab": {
          "base_uri": "https://localhost:8080/",
          "height": 279
        },
        "outputId": "14376369-3530-4046-a3c3-c9e9342d0672"
      },
      "source": [
        "time = np.arange(10 * 365 + 1, dtype=\"float32\")\n",
        "baseline = 10 # YOUR CODE HERE #  \n",
        "amplitude = 40\n",
        "slope = 0.005 # YOUR CODE HERE#\n",
        "noise_level = 3 # YOUR CODE HERE#\n",
        "\n",
        "# Create the series\n",
        "series = baseline + trend(time, slope) + seasonality(time, period=365, amplitude=amplitude)\n",
        "# Update with noise\n",
        "series += noise(time, noise_level, seed=51)\n",
        "\n",
        "split_time = 3000\n",
        "time_train = time[:split_time]\n",
        "x_train = series[:split_time]\n",
        "time_valid = time[split_time:]\n",
        "x_valid = series[split_time:]\n",
        "\n",
        "plot_series(time, series)"
      ],
      "execution_count": 45,
      "outputs": [
        {
          "output_type": "display_data",
          "data": {
            "image/png": "[encoded data removed]",
            "text/plain": [
              "<Figure size 432x288 with 1 Axes>"
            ]
          },
          "metadata": {
            "tags": [],
            "needs_background": "light"
          }
        }
      ]
    },
    {
      "cell_type": "markdown",
      "metadata": {
        "colab_type": "text",
        "id": "GfUTNqti_lNC"
      },
      "source": [
        "Desired output -- a chart that looks like this:\n",
        "\n",
        "![Chart showing upward trend and seasonailty](http://www.laurencemoroney.com/wp-content/uploads/2019/07/plot1.png)"
      ]
    },
    {
      "cell_type": "code",
      "metadata": {
        "id": "I_Sck4E3jzLb",
        "colab_type": "code",
        "colab": {}
      },
      "source": [
        "window_size = 20\n",
        "batch_size = 32\n",
        "shuffle_buffer_size = 1000"
      ],
      "execution_count": 0,
      "outputs": []
    },
    {
      "cell_type": "code",
      "metadata": {
        "colab_type": "code",
        "id": "4sTTIOCbyShY",
        "colab": {}
      },
      "source": [
        "def windowed_dataset(series, window_size, batch_size, shuffle_buffer):\n",
        "  dataset = tf.data.Dataset.from_tensor_slices(series)\n",
        "  dataset = dataset.window(window_size + 1, shift=1, drop_remainder=True)\n",
        "  dataset = dataset.flat_map(lambda window: window.batch(window_size + 1))\n",
        "  dataset = dataset.shuffle(shuffle_buffer).map(lambda window: (window[:-1], window[-1]))\n",
        "  dataset = dataset.batch(batch_size).prefetch(1)\n",
        "  return dataset"
      ],
      "execution_count": 0,
      "outputs": []
    },
    {
      "cell_type": "code",
      "metadata": {
        "colab_type": "code",
        "id": "TW-vT7eLYAdb",
        "colab": {
          "base_uri": "https://localhost:8080/",
          "height": 1000
        },
        "outputId": "42e8d912-ce7b-4a7b-d9bf-ca0f7f3d9f6f"
      },
      "source": [
        "dataset = windowed_dataset(x_train, window_size, batch_size, shuffle_buffer_size)\n",
        "\n",
        "\n",
        "model = tf.keras.models.Sequential([\n",
        "    tf.keras.layers.Dense(100, input_shape = [window_size] ,activation = \"relu\" ),# YOUR CODE HERE #),\n",
        "    tf.keras.layers.Dense(10, activation =\"relu\"),# YOUR CODE HERE #, activation=\"relu\"), \n",
        "    tf.keras.layers.Dense(1)\n",
        "])\n",
        "\n",
        "model.compile(loss= \"mse\",\n",
        "              optimizer = tf.keras.optimizers.SGD(lr = 1e-6, momentum =0.9),\n",
        "              metrics =[\"accuracy\"])# YOUR CODE HERE #, optimizer=# YOUR CODE HERE#))\n",
        "model.fit(dataset,epochs=100,verbose=1)\n"
      ],
      "execution_count": 51,
      "outputs": [
        {
          "output_type": "stream",
          "text": [
            "Epoch 1/100\n",
            "94/94 [==============================] - 0s 4ms/step - loss: 110.3225 - accuracy: 0.0000e+00\n",
            "Epoch 2/100\n",
            "94/94 [==============================] - 0s 4ms/step - loss: 36.9886 - accuracy: 0.0000e+00\n",
            "Epoch 3/100\n",
            "94/94 [==============================] - 0s 4ms/step - loss: 31.1969 - accuracy: 0.0000e+00\n",
            "Epoch 4/100\n",
            "94/94 [==============================] - 0s 4ms/step - loss: 29.1244 - accuracy: 0.0000e+00\n",
            "Epoch 5/100\n",
            "94/94 [==============================] - 0s 4ms/step - loss: 27.9504 - accuracy: 0.0000e+00\n",
            "Epoch 6/100\n",
            "94/94 [==============================] - 0s 4ms/step - loss: 26.9697 - accuracy: 0.0000e+00\n",
            "Epoch 7/100\n",
            "94/94 [==============================] - 0s 4ms/step - loss: 26.1925 - accuracy: 0.0000e+00\n",
            "Epoch 8/100\n",
            "94/94 [==============================] - 0s 4ms/step - loss: 25.3579 - accuracy: 0.0000e+00\n",
            "Epoch 9/100\n",
            "94/94 [==============================] - 0s 4ms/step - loss: 24.9307 - accuracy: 0.0000e+00\n",
            "Epoch 10/100\n",
            "94/94 [==============================] - 0s 4ms/step - loss: 24.6082 - accuracy: 0.0000e+00\n",
            "Epoch 11/100\n",
            "94/94 [==============================] - 0s 4ms/step - loss: 24.4356 - accuracy: 0.0000e+00\n",
            "Epoch 12/100\n",
            "94/94 [==============================] - 0s 4ms/step - loss: 24.1995 - accuracy: 0.0000e+00\n",
            "Epoch 13/100\n",
            "94/94 [==============================] - 0s 4ms/step - loss: 23.8937 - accuracy: 0.0000e+00\n",
            "Epoch 14/100\n",
            "94/94 [==============================] - 0s 4ms/step - loss: 23.7579 - accuracy: 0.0000e+00\n",
            "Epoch 15/100\n",
            "94/94 [==============================] - 0s 4ms/step - loss: 23.6226 - accuracy: 0.0000e+00\n",
            "Epoch 16/100\n",
            "94/94 [==============================] - 1s 5ms/step - loss: 23.8160 - accuracy: 0.0000e+00\n",
            "Epoch 17/100\n",
            "94/94 [==============================] - 0s 4ms/step - loss: 23.5737 - accuracy: 0.0000e+00\n",
            "Epoch 18/100\n",
            "94/94 [==============================] - 0s 4ms/step - loss: 23.4522 - accuracy: 0.0000e+00\n",
            "Epoch 19/100\n",
            "94/94 [==============================] - 0s 5ms/step - loss: 23.4619 - accuracy: 0.0000e+00\n",
            "Epoch 20/100\n",
            "94/94 [==============================] - 0s 5ms/step - loss: 23.1400 - accuracy: 0.0000e+00\n",
            "Epoch 21/100\n",
            "94/94 [==============================] - 1s 6ms/step - loss: 23.0699 - accuracy: 0.0000e+00\n",
            "Epoch 22/100\n",
            "94/94 [==============================] - 0s 4ms/step - loss: 23.0600 - accuracy: 0.0000e+00\n",
            "Epoch 23/100\n",
            "94/94 [==============================] - 0s 4ms/step - loss: 22.9721 - accuracy: 0.0000e+00\n",
            "Epoch 24/100\n",
            "94/94 [==============================] - 0s 4ms/step - loss: 22.8987 - accuracy: 0.0000e+00\n",
            "Epoch 25/100\n",
            "94/94 [==============================] - 0s 4ms/step - loss: 22.9429 - accuracy: 0.0000e+00\n",
            "Epoch 26/100\n",
            "94/94 [==============================] - 0s 4ms/step - loss: 22.7890 - accuracy: 0.0000e+00\n",
            "Epoch 27/100\n",
            "94/94 [==============================] - 0s 4ms/step - loss: 22.7586 - accuracy: 0.0000e+00\n",
            "Epoch 28/100\n",
            "94/94 [==============================] - 0s 5ms/step - loss: 22.6803 - accuracy: 0.0000e+00\n",
            "Epoch 29/100\n",
            "94/94 [==============================] - 0s 4ms/step - loss: 22.5383 - accuracy: 0.0000e+00\n",
            "Epoch 30/100\n",
            "94/94 [==============================] - 0s 4ms/step - loss: 22.5019 - accuracy: 0.0000e+00\n",
            "Epoch 31/100\n",
            "94/94 [==============================] - 0s 4ms/step - loss: 22.4872 - accuracy: 0.0000e+00\n",
            "Epoch 32/100\n",
            "94/94 [==============================] - 0s 4ms/step - loss: 22.5477 - accuracy: 0.0000e+00\n",
            "Epoch 33/100\n",
            "94/94 [==============================] - 0s 4ms/step - loss: 22.4572 - accuracy: 0.0000e+00\n",
            "Epoch 34/100\n",
            "94/94 [==============================] - 0s 4ms/step - loss: 22.4621 - accuracy: 0.0000e+00\n",
            "Epoch 35/100\n",
            "94/94 [==============================] - 0s 4ms/step - loss: 22.5820 - accuracy: 0.0000e+00\n",
            "Epoch 36/100\n",
            "94/94 [==============================] - 0s 4ms/step - loss: 22.2544 - accuracy: 0.0000e+00\n",
            "Epoch 37/100\n",
            "94/94 [==============================] - 0s 5ms/step - loss: 22.3272 - accuracy: 0.0000e+00\n",
            "Epoch 38/100\n",
            "94/94 [==============================] - 0s 4ms/step - loss: 22.2349 - accuracy: 0.0000e+00\n",
            "Epoch 39/100\n",
            "94/94 [==============================] - 0s 4ms/step - loss: 22.2864 - accuracy: 0.0000e+00\n",
            "Epoch 40/100\n",
            "94/94 [==============================] - 0s 4ms/step - loss: 22.1439 - accuracy: 0.0000e+00\n",
            "Epoch 41/100\n",
            "94/94 [==============================] - 0s 5ms/step - loss: 22.1484 - accuracy: 0.0000e+00\n",
            "Epoch 42/100\n",
            "94/94 [==============================] - 0s 5ms/step - loss: 22.0863 - accuracy: 0.0000e+00\n",
            "Epoch 43/100\n",
            "94/94 [==============================] - 0s 4ms/step - loss: 22.2451 - accuracy: 0.0000e+00\n",
            "Epoch 44/100\n",
            "94/94 [==============================] - 0s 4ms/step - loss: 22.1606 - accuracy: 0.0000e+00\n",
            "Epoch 45/100\n",
            "94/94 [==============================] - 0s 5ms/step - loss: 22.1566 - accuracy: 0.0000e+00\n",
            "Epoch 46/100\n",
            "94/94 [==============================] - 0s 4ms/step - loss: 22.1325 - accuracy: 0.0000e+00\n",
            "Epoch 47/100\n",
            "94/94 [==============================] - 0s 4ms/step - loss: 22.0140 - accuracy: 0.0000e+00\n",
            "Epoch 48/100\n",
            "94/94 [==============================] - 0s 4ms/step - loss: 21.9644 - accuracy: 0.0000e+00\n",
            "Epoch 49/100\n",
            "94/94 [==============================] - 0s 4ms/step - loss: 22.1052 - accuracy: 0.0000e+00\n",
            "Epoch 50/100\n",
            "94/94 [==============================] - 0s 4ms/step - loss: 21.9762 - accuracy: 0.0000e+00\n",
            "Epoch 51/100\n",
            "94/94 [==============================] - 0s 4ms/step - loss: 21.8265 - accuracy: 0.0000e+00\n",
            "Epoch 52/100\n",
            "94/94 [==============================] - 0s 4ms/step - loss: 21.8343 - accuracy: 0.0000e+00\n",
            "Epoch 53/100\n",
            "94/94 [==============================] - 0s 4ms/step - loss: 21.9148 - accuracy: 0.0000e+00\n",
            "Epoch 54/100\n",
            "94/94 [==============================] - 0s 4ms/step - loss: 21.8581 - accuracy: 0.0000e+00\n",
            "Epoch 55/100\n",
            "94/94 [==============================] - 0s 4ms/step - loss: 21.7759 - accuracy: 0.0000e+00\n",
            "Epoch 56/100\n",
            "94/94 [==============================] - 0s 4ms/step - loss: 21.7677 - accuracy: 0.0000e+00\n",
            "Epoch 57/100\n",
            "94/94 [==============================] - 0s 4ms/step - loss: 21.7154 - accuracy: 0.0000e+00\n",
            "Epoch 58/100\n",
            "94/94 [==============================] - 1s 6ms/step - loss: 21.7773 - accuracy: 0.0000e+00\n",
            "Epoch 59/100\n",
            "94/94 [==============================] - 0s 4ms/step - loss: 21.8279 - accuracy: 0.0000e+00\n",
            "Epoch 60/100\n",
            "94/94 [==============================] - 0s 4ms/step - loss: 21.7009 - accuracy: 0.0000e+00\n",
            "Epoch 61/100\n",
            "94/94 [==============================] - 0s 4ms/step - loss: 21.7517 - accuracy: 0.0000e+00\n",
            "Epoch 62/100\n",
            "94/94 [==============================] - 0s 4ms/step - loss: 21.6483 - accuracy: 0.0000e+00\n",
            "Epoch 63/100\n",
            "94/94 [==============================] - 0s 4ms/step - loss: 21.6407 - accuracy: 0.0000e+00\n",
            "Epoch 64/100\n",
            "94/94 [==============================] - 0s 4ms/step - loss: 21.6761 - accuracy: 0.0000e+00\n",
            "Epoch 65/100\n",
            "94/94 [==============================] - 0s 4ms/step - loss: 21.5806 - accuracy: 0.0000e+00\n",
            "Epoch 66/100\n",
            "94/94 [==============================] - 0s 4ms/step - loss: 21.5672 - accuracy: 0.0000e+00\n",
            "Epoch 67/100\n",
            "94/94 [==============================] - 0s 4ms/step - loss: 21.5518 - accuracy: 0.0000e+00\n",
            "Epoch 68/100\n",
            "94/94 [==============================] - 0s 4ms/step - loss: 21.5117 - accuracy: 0.0000e+00\n",
            "Epoch 69/100\n",
            "94/94 [==============================] - 0s 4ms/step - loss: 21.4825 - accuracy: 0.0000e+00\n",
            "Epoch 70/100\n",
            "94/94 [==============================] - 0s 4ms/step - loss: 21.4986 - accuracy: 0.0000e+00\n",
            "Epoch 71/100\n",
            "94/94 [==============================] - 0s 4ms/step - loss: 21.3969 - accuracy: 0.0000e+00\n",
            "Epoch 72/100\n",
            "94/94 [==============================] - 0s 4ms/step - loss: 21.6575 - accuracy: 0.0000e+00\n",
            "Epoch 73/100\n",
            "94/94 [==============================] - 0s 4ms/step - loss: 21.3931 - accuracy: 0.0000e+00\n",
            "Epoch 74/100\n",
            "94/94 [==============================] - 0s 4ms/step - loss: 21.4252 - accuracy: 0.0000e+00\n",
            "Epoch 75/100\n",
            "94/94 [==============================] - 0s 4ms/step - loss: 21.4173 - accuracy: 0.0000e+00\n",
            "Epoch 76/100\n",
            "94/94 [==============================] - 0s 4ms/step - loss: 21.4424 - accuracy: 0.0000e+00\n",
            "Epoch 77/100\n",
            "94/94 [==============================] - 0s 4ms/step - loss: 21.4302 - accuracy: 0.0000e+00\n",
            "Epoch 78/100\n",
            "94/94 [==============================] - 0s 4ms/step - loss: 21.5022 - accuracy: 0.0000e+00\n",
            "Epoch 79/100\n",
            "94/94 [==============================] - 0s 4ms/step - loss: 21.2313 - accuracy: 0.0000e+00\n",
            "Epoch 80/100\n",
            "94/94 [==============================] - 0s 4ms/step - loss: 21.2947 - accuracy: 0.0000e+00\n",
            "Epoch 81/100\n",
            "94/94 [==============================] - 0s 4ms/step - loss: 21.3315 - accuracy: 0.0000e+00\n",
            "Epoch 82/100\n",
            "94/94 [==============================] - 0s 4ms/step - loss: 21.3130 - accuracy: 0.0000e+00\n",
            "Epoch 83/100\n",
            "94/94 [==============================] - 0s 4ms/step - loss: 21.3838 - accuracy: 0.0000e+00\n",
            "Epoch 84/100\n",
            "94/94 [==============================] - 0s 5ms/step - loss: 21.2183 - accuracy: 0.0000e+00\n",
            "Epoch 85/100\n",
            "94/94 [==============================] - 0s 4ms/step - loss: 21.1923 - accuracy: 0.0000e+00\n",
            "Epoch 86/100\n",
            "94/94 [==============================] - 0s 4ms/step - loss: 21.2989 - accuracy: 0.0000e+00\n",
            "Epoch 87/100\n",
            "94/94 [==============================] - 0s 4ms/step - loss: 21.2310 - accuracy: 0.0000e+00\n",
            "Epoch 88/100\n",
            "94/94 [==============================] - 0s 5ms/step - loss: 21.3235 - accuracy: 0.0000e+00\n",
            "Epoch 89/100\n",
            "94/94 [==============================] - 0s 4ms/step - loss: 21.2500 - accuracy: 0.0000e+00\n",
            "Epoch 90/100\n",
            "94/94 [==============================] - 0s 4ms/step - loss: 21.1682 - accuracy: 0.0000e+00\n",
            "Epoch 91/100\n",
            "94/94 [==============================] - 0s 4ms/step - loss: 21.1488 - accuracy: 0.0000e+00\n",
            "Epoch 92/100\n",
            "94/94 [==============================] - 0s 5ms/step - loss: 21.1290 - accuracy: 0.0000e+00\n",
            "Epoch 93/100\n",
            "94/94 [==============================] - 0s 4ms/step - loss: 21.2220 - accuracy: 0.0000e+00\n",
            "Epoch 94/100\n",
            "94/94 [==============================] - 0s 4ms/step - loss: 21.3295 - accuracy: 0.0000e+00\n",
            "Epoch 95/100\n",
            "94/94 [==============================] - 0s 4ms/step - loss: 21.1525 - accuracy: 0.0000e+00\n",
            "Epoch 96/100\n",
            "94/94 [==============================] - 0s 4ms/step - loss: 21.0071 - accuracy: 0.0000e+00\n",
            "Epoch 97/100\n",
            "94/94 [==============================] - 0s 4ms/step - loss: 20.9911 - accuracy: 0.0000e+00\n",
            "Epoch 98/100\n",
            "94/94 [==============================] - 0s 4ms/step - loss: 20.9648 - accuracy: 0.0000e+00\n",
            "Epoch 99/100\n",
            "94/94 [==============================] - 0s 4ms/step - loss: 21.0780 - accuracy: 0.0000e+00\n",
            "Epoch 100/100\n",
            "94/94 [==============================] - 0s 4ms/step - loss: 21.0854 - accuracy: 0.0000e+00\n"
          ],
          "name": "stdout"
        },
        {
          "output_type": "execute_result",
          "data": {
            "text/plain": [
              "<tensorflow.python.keras.callbacks.History at 0x7f4e7b90bc88>"
            ]
          },
          "metadata": {
            "tags": []
          },
          "execution_count": 51
        }
      ]
    },
    {
      "cell_type": "code",
      "metadata": {
        "colab_type": "code",
        "id": "efhco2rYyIFF",
        "colab": {
          "base_uri": "https://localhost:8080/",
          "height": 388
        },
        "outputId": "fb6c9cf0-d2ae-4d1f-8719-8aa83eb9a705"
      },
      "source": [
        "forecast = []\n",
        "for time in range(len(series) - window_size):\n",
        "  forecast.append(model.predict(series[time:time + window_size][np.newaxis]))\n",
        "\n",
        "forecast = forecast[split_time-window_size:]\n",
        "results = np.array(forecast)[:, 0, 0]\n",
        "\n",
        "\n",
        "plt.figure(figsize=(10, 6))\n",
        "\n",
        "plot_series(time_valid, x_valid)\n",
        "plot_series(time_valid, results)"
      ],
      "execution_count": 52,
      "outputs": [
        {
          "output_type": "display_data",
          "data": {
            "image/png": "[encoded data removed]",
            "text/plain": [
              "<Figure size 720x432 with 1 Axes>"
            ]
          },
          "metadata": {
            "tags": [],
            "needs_background": "light"
          }
        }
      ]
    },
    {
      "cell_type": "code",
      "metadata": {
        "colab_type": "code",
        "id": "-kT6j186YO6K",
        "colab": {
          "base_uri": "https://localhost:8080/",
          "height": 33
        },
        "outputId": "f525e325-1a6b-4490-ea1f-9ec8f3d25abb"
      },
      "source": [
        "tf.keras.metrics.mean_absolute_error(x_valid, results).numpy()\n",
        "# EXPECTED OUTPUT\n",
        "# A Value less than 3"
      ],
      "execution_count": 53,
      "outputs": [
        {
          "output_type": "execute_result",
          "data": {
            "text/plain": [
              "2.9902754"
            ]
          },
          "metadata": {
            "tags": []
          },
          "execution_count": 53
        }
      ]
    }
  ]
}
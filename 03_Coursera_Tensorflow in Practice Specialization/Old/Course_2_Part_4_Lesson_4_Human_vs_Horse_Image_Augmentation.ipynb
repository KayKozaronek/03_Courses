{
  "nbformat": 4,
  "nbformat_minor": 0,
  "metadata": {
    "colab": {
      "name": "Course 2 - Part 4 - Lesson 4 - Human vs. Horse Image Augmentation.ipynb",
      "provenance": [],
      "authorship_tag": "ABX9TyMb6g9PoaTGqBqzbBFhevnV",
      "include_colab_link": true
    },
    "kernelspec": {
      "name": "python3",
      "display_name": "Python 3"
    },
    "accelerator": "GPU"
  },
  "cells": [
    {
      "cell_type": "markdown",
      "metadata": {
        "id": "view-in-github",
        "colab_type": "text"
      },
      "source": [
        "<a href=\"https://colab.research.google.com/github/KayKozaronek/03_Courses/blob/master/Course_2_Part_4_Lesson_4_Human_vs_Horse_Image_Augmentation.ipynb\" target=\"_parent\"><img src=\"https://colab.research.google.com/assets/colab-badge.svg\" alt=\"Open In Colab\"/></a>"
      ]
    },
    {
      "cell_type": "markdown",
      "metadata": {
        "id": "ojVldHQduMHO",
        "colab_type": "text"
      },
      "source": [
        "# Image Augmentation on the Horses vs Humans Dataset"
      ]
    },
    {
      "cell_type": "code",
      "metadata": {
        "id": "3tGjaxqFuUxV",
        "colab_type": "code",
        "colab": {
          "base_uri": "https://localhost:8080/",
          "height": 428
        },
        "outputId": "d4acf5f9-fd2e-4641-8038-193e48e79d2c"
      },
      "source": [
        "!wget --no-check-certificate \\\n",
        "    https://storage.googleapis.com/laurencemoroney-blog.appspot.com/horse-or-human.zip \\\n",
        "    -O /tmp/horse-or-human.zip\n",
        "\n",
        "!wget --no-check-certificate \\\n",
        "    https://storage.googleapis.com/laurencemoroney-blog.appspot.com/validation-horse-or-human.zip \\\n",
        "    -O /tmp/validation-horse-or-human.zip\n",
        "  \n",
        "# imports\n",
        "import tensorflow as tf \n",
        "import zipfile \n",
        "import os \n",
        "from tensorflow.keras.optimizers import RMSprop\n",
        "from tensorflow.keras.preprocessing.image import ImageDataGenerator\n",
        "\n",
        "# create local zips and extract them from the two !wget statements\n",
        "local_zip = \"/tmp/horse-or-human.zip\"\n",
        "zip_ref = zipfile.ZipFile(local_zip,\"r\")\n",
        "zip_ref.extractall(\"/tmp/horse-or-human\")\n",
        "\n",
        "local_zip = \"/tmp/validation-horse-or-human.zip\"\n",
        "zip_ref = zipfile.ZipFile(local_zip, \"r\")\n",
        "zip_ref.extractall(\"/tmp/validation-horse-or-human\")\n",
        "zip_ref.close()\n",
        "\n",
        "\n",
        "# create training and validation directories\n",
        "training_horse_dir = os.path.join(\"/tmp/horse-or-human\", \"horses\")\n",
        "training_human_dir = os.path.join(\"/tmp/horse-or-human\", \"humans\")\n",
        "validation_horse_dir = os.path.join(\"/tmp/validation-horse-or-human\", \"horses\")\n",
        "validation_human_dir = os.path.join(\"/tmp/validation-horse-or-human\", \"humans\")"
      ],
      "execution_count": 1,
      "outputs": [
        {
          "output_type": "stream",
          "text": [
            "--2020-05-02 10:22:40--  https://storage.googleapis.com/laurencemoroney-blog.appspot.com/horse-or-human.zip\n",
            "Resolving storage.googleapis.com (storage.googleapis.com)... 172.217.212.128, 2607:f8b0:4001:c14::80\n",
            "Connecting to storage.googleapis.com (storage.googleapis.com)|172.217.212.128|:443... connected.\n",
            "HTTP request sent, awaiting response... 200 OK\n",
            "Length: 149574867 (143M) [application/zip]\n",
            "Saving to: ‘/tmp/horse-or-human.zip’\n",
            "\n",
            "/tmp/horse-or-human 100%[===================>] 142.65M   131MB/s    in 1.1s    \n",
            "\n",
            "2020-05-02 10:22:41 (131 MB/s) - ‘/tmp/horse-or-human.zip’ saved [149574867/149574867]\n",
            "\n",
            "--2020-05-02 10:22:42--  https://storage.googleapis.com/laurencemoroney-blog.appspot.com/validation-horse-or-human.zip\n",
            "Resolving storage.googleapis.com (storage.googleapis.com)... 74.125.124.128, 2607:f8b0:4001:c14::80\n",
            "Connecting to storage.googleapis.com (storage.googleapis.com)|74.125.124.128|:443... connected.\n",
            "HTTP request sent, awaiting response... 200 OK\n",
            "Length: 11480187 (11M) [application/zip]\n",
            "Saving to: ‘/tmp/validation-horse-or-human.zip’\n",
            "\n",
            "/tmp/validation-hor 100%[===================>]  10.95M  56.0MB/s    in 0.2s    \n",
            "\n",
            "2020-05-02 10:22:42 (56.0 MB/s) - ‘/tmp/validation-horse-or-human.zip’ saved [11480187/11480187]\n",
            "\n"
          ],
          "name": "stdout"
        }
      ]
    },
    {
      "cell_type": "code",
      "metadata": {
        "id": "4DD3y45EutfZ",
        "colab_type": "code",
        "colab": {
          "base_uri": "https://localhost:8080/",
          "height": 52
        },
        "outputId": "8d78b3c7-33d8-4a49-a6c6-4e7a70e20189"
      },
      "source": [
        "# create a CNN\n",
        "model = tf.keras.models.Sequential([\n",
        "  tf.keras.layers.Conv2D(32,(3,3),input_shape=(300,300,3),activation=\"relu\"),\n",
        "  tf.keras.layers.MaxPooling2D(2,2),\n",
        "  tf.keras.layers.Conv2D(64,(3,3),activation=\"relu\"),\n",
        "  tf.keras.layers.MaxPooling2D(2,2),\n",
        "  tf.keras.layers.Conv2D(128,(3,3),activation=\"relu\"),\n",
        "  tf.keras.layers.MaxPooling2D(2,2),\n",
        "  tf.keras.layers.Conv2D(128,(3,3),activation=\"relu\"),\n",
        "  tf.keras.layers.MaxPooling2D(2,2),\n",
        "  tf.keras.layers.Flatten(),\n",
        "  tf.keras.layers.Dense(512, activation =\"relu\"),\n",
        "  tf.keras.layers.Dense(1,activation = \"sigmoid\")\n",
        "])\n",
        "\n",
        "# compile the model \n",
        "model.compile(optimizer = RMSprop(lr = 1e-4),\n",
        "              metrics = [\"accuracy\"],\n",
        "              loss = \"binary_crossentropy\")\n",
        "\n",
        "# Do Image Augmentation on training and validation data\n",
        "train_datagen = ImageDataGenerator(\n",
        "    rescale = 1./255.,\n",
        "    rotation_range = 40, #Degrees\n",
        "    width_shift_range=0.2,\n",
        "    height_shift_range=0.2,\n",
        "    shear_range = 0.2,\n",
        "    zoom_range = 0.2,\n",
        "    fill_mode=\"nearest\",\n",
        "    horizontal_flip =True,\n",
        ")\n",
        "\n",
        "val_datagen = ImageDataGenerator(\n",
        "     rescale = 1./255.,\n",
        "    rotation_range = 40, #Degrees\n",
        "    width_shift_range=0.2,\n",
        "    height_shift_range=0.2,\n",
        "    shear_range = 0.2,\n",
        "    zoom_range = 0.2,\n",
        "    fill_mode=\"nearest\",\n",
        "    horizontal_flip =True,\n",
        ")\n",
        "\n",
        "# Flow images in batches of 128 using train_datagen generator\n",
        "training_generator = train_datagen.flow_from_directory(\n",
        "    \"/tmp/horse-or-human/\", #Source directory for training images\n",
        "    batch_size=128,\n",
        "    target_size=(300,300),\n",
        "    class_mode =\"binary\"\n",
        ")\n",
        "\n",
        "# Flow training images in batches of 128 using train_datagen generator\n",
        "val_generator = val_datagen.flow_from_directory(\n",
        "    \"/tmp/horse-or-human\",\n",
        "    batch_size = 32,\n",
        "    target_size=(300,300),\n",
        "    class_mode = \"binary\"\n",
        ")"
      ],
      "execution_count": 2,
      "outputs": [
        {
          "output_type": "stream",
          "text": [
            "Found 1027 images belonging to 2 classes.\n",
            "Found 1027 images belonging to 2 classes.\n"
          ],
          "name": "stdout"
        }
      ]
    },
    {
      "cell_type": "code",
      "metadata": {
        "id": "GVwazvoNu98j",
        "colab_type": "code",
        "colab": {
          "base_uri": "https://localhost:8080/",
          "height": 1000
        },
        "outputId": "063f0614-2706-4d78-e533-38feade84417"
      },
      "source": [
        "# run/fit the model \n",
        "history = model.fit(\n",
        "    training_generator,\n",
        "    steps_per_epoch =8,\n",
        "    epochs=50,\n",
        "    verbose =1,\n",
        "    validation_data=val_generator,\n",
        "    validation_steps =8,\n",
        "      \n",
        ")"
      ],
      "execution_count": 4,
      "outputs": [
        {
          "output_type": "stream",
          "text": [
            "Epoch 1/50\n",
            "8/8 [==============================] - 31s 4s/step - loss: 0.4922 - accuracy: 0.7820 - val_loss: 0.5883 - val_accuracy: 0.7109\n",
            "Epoch 2/50\n",
            "8/8 [==============================] - 28s 3s/step - loss: 0.5619 - accuracy: 0.7608 - val_loss: 0.4373 - val_accuracy: 0.7969\n",
            "Epoch 3/50\n",
            "8/8 [==============================] - 28s 3s/step - loss: 0.5249 - accuracy: 0.7386 - val_loss: 0.4111 - val_accuracy: 0.8203\n",
            "Epoch 4/50\n",
            "8/8 [==============================] - 27s 3s/step - loss: 0.5668 - accuracy: 0.7731 - val_loss: 0.4241 - val_accuracy: 0.8282\n",
            "Epoch 5/50\n",
            "8/8 [==============================] - 28s 4s/step - loss: 0.4171 - accuracy: 0.7998 - val_loss: 0.4505 - val_accuracy: 0.7852\n",
            "Epoch 6/50\n",
            "8/8 [==============================] - 28s 4s/step - loss: 0.5755 - accuracy: 0.7608 - val_loss: 0.4115 - val_accuracy: 0.8164\n",
            "Epoch 7/50\n",
            "8/8 [==============================] - 28s 3s/step - loss: 0.4527 - accuracy: 0.7942 - val_loss: 0.4734 - val_accuracy: 0.7734\n",
            "Epoch 8/50\n",
            "8/8 [==============================] - 28s 4s/step - loss: 0.4744 - accuracy: 0.8042 - val_loss: 0.4415 - val_accuracy: 0.7812\n",
            "Epoch 9/50\n",
            "8/8 [==============================] - 30s 4s/step - loss: 0.3946 - accuracy: 0.8291 - val_loss: 0.3551 - val_accuracy: 0.8633\n",
            "Epoch 10/50\n",
            "8/8 [==============================] - 32s 4s/step - loss: 0.4142 - accuracy: 0.7998 - val_loss: 0.3743 - val_accuracy: 0.8164\n",
            "Epoch 11/50\n",
            "8/8 [==============================] - 28s 3s/step - loss: 0.4841 - accuracy: 0.8009 - val_loss: 0.3905 - val_accuracy: 0.8414\n",
            "Epoch 12/50\n",
            "8/8 [==============================] - 29s 4s/step - loss: 0.4301 - accuracy: 0.8309 - val_loss: 0.3445 - val_accuracy: 0.8477\n",
            "Epoch 13/50\n",
            "8/8 [==============================] - 29s 4s/step - loss: 0.3300 - accuracy: 0.8532 - val_loss: 0.3044 - val_accuracy: 0.8789\n",
            "Epoch 14/50\n",
            "8/8 [==============================] - 28s 4s/step - loss: 0.4184 - accuracy: 0.8254 - val_loss: 0.3181 - val_accuracy: 0.8789\n",
            "Epoch 15/50\n",
            "8/8 [==============================] - 28s 3s/step - loss: 0.3221 - accuracy: 0.8365 - val_loss: 0.2883 - val_accuracy: 0.8590\n",
            "Epoch 16/50\n",
            "8/8 [==============================] - 28s 4s/step - loss: 0.3310 - accuracy: 0.8743 - val_loss: 0.3045 - val_accuracy: 0.8672\n",
            "Epoch 17/50\n",
            "8/8 [==============================] - 28s 4s/step - loss: 0.3394 - accuracy: 0.8209 - val_loss: 0.2935 - val_accuracy: 0.8594\n",
            "Epoch 18/50\n",
            "8/8 [==============================] - 29s 4s/step - loss: 0.3388 - accuracy: 0.8623 - val_loss: 0.3003 - val_accuracy: 0.8516\n",
            "Epoch 19/50\n",
            "8/8 [==============================] - 31s 4s/step - loss: 0.3347 - accuracy: 0.8699 - val_loss: 0.2775 - val_accuracy: 0.8945\n",
            "Epoch 20/50\n",
            "8/8 [==============================] - 28s 4s/step - loss: 0.3144 - accuracy: 0.8687 - val_loss: 0.2448 - val_accuracy: 0.9180\n",
            "Epoch 21/50\n",
            "8/8 [==============================] - 28s 4s/step - loss: 0.3492 - accuracy: 0.8498 - val_loss: 0.2400 - val_accuracy: 0.9141\n",
            "Epoch 22/50\n",
            "8/8 [==============================] - 28s 3s/step - loss: 0.2326 - accuracy: 0.8821 - val_loss: 0.3571 - val_accuracy: 0.8458\n",
            "Epoch 23/50\n",
            "8/8 [==============================] - 28s 4s/step - loss: 0.3136 - accuracy: 0.8587 - val_loss: 0.2203 - val_accuracy: 0.9141\n",
            "Epoch 24/50\n",
            "8/8 [==============================] - 28s 4s/step - loss: 0.2465 - accuracy: 0.8899 - val_loss: 0.2554 - val_accuracy: 0.8984\n",
            "Epoch 25/50\n",
            "8/8 [==============================] - 28s 4s/step - loss: 0.2281 - accuracy: 0.9043 - val_loss: 0.2775 - val_accuracy: 0.8867\n",
            "Epoch 26/50\n",
            "8/8 [==============================] - 27s 3s/step - loss: 0.2717 - accuracy: 0.8921 - val_loss: 0.5472 - val_accuracy: 0.7974\n",
            "Epoch 27/50\n",
            "8/8 [==============================] - 29s 4s/step - loss: 0.2623 - accuracy: 0.8799 - val_loss: 0.2217 - val_accuracy: 0.8828\n",
            "Epoch 28/50\n",
            "8/8 [==============================] - 32s 4s/step - loss: 0.2636 - accuracy: 0.8854 - val_loss: 0.2457 - val_accuracy: 0.9023\n",
            "Epoch 29/50\n",
            "8/8 [==============================] - 27s 3s/step - loss: 0.2339 - accuracy: 0.8799 - val_loss: 0.2093 - val_accuracy: 0.9062\n",
            "Epoch 30/50\n",
            "8/8 [==============================] - 28s 4s/step - loss: 0.3877 - accuracy: 0.8432 - val_loss: 0.2277 - val_accuracy: 0.9062\n",
            "Epoch 31/50\n",
            "8/8 [==============================] - 28s 4s/step - loss: 0.3264 - accuracy: 0.8954 - val_loss: 0.2289 - val_accuracy: 0.9062\n",
            "Epoch 32/50\n",
            "8/8 [==============================] - 28s 4s/step - loss: 0.2475 - accuracy: 0.9132 - val_loss: 0.2454 - val_accuracy: 0.9062\n",
            "Epoch 33/50\n",
            "8/8 [==============================] - 27s 3s/step - loss: 0.2272 - accuracy: 0.9066 - val_loss: 0.2150 - val_accuracy: 0.9207\n",
            "Epoch 34/50\n",
            "8/8 [==============================] - 28s 4s/step - loss: 0.1688 - accuracy: 0.9277 - val_loss: 0.1430 - val_accuracy: 0.9609\n",
            "Epoch 35/50\n",
            "8/8 [==============================] - 28s 4s/step - loss: 0.2731 - accuracy: 0.9088 - val_loss: 0.4097 - val_accuracy: 0.7734\n",
            "Epoch 36/50\n",
            "8/8 [==============================] - 29s 4s/step - loss: 0.2216 - accuracy: 0.9014 - val_loss: 0.1629 - val_accuracy: 0.9297\n",
            "Epoch 37/50\n",
            "8/8 [==============================] - 31s 4s/step - loss: 0.1993 - accuracy: 0.9099 - val_loss: 0.1926 - val_accuracy: 0.9119\n",
            "Epoch 38/50\n",
            "8/8 [==============================] - 28s 4s/step - loss: 0.1810 - accuracy: 0.9232 - val_loss: 0.2062 - val_accuracy: 0.9062\n",
            "Epoch 39/50\n",
            "8/8 [==============================] - 28s 3s/step - loss: 0.1903 - accuracy: 0.9121 - val_loss: 0.1617 - val_accuracy: 0.9531\n",
            "Epoch 40/50\n",
            "8/8 [==============================] - 27s 3s/step - loss: 0.2131 - accuracy: 0.8988 - val_loss: 0.1589 - val_accuracy: 0.9414\n",
            "Epoch 41/50\n",
            "8/8 [==============================] - 28s 3s/step - loss: 0.1471 - accuracy: 0.9344 - val_loss: 0.2093 - val_accuracy: 0.9180\n",
            "Epoch 42/50\n",
            "8/8 [==============================] - 28s 3s/step - loss: 0.1579 - accuracy: 0.9266 - val_loss: 0.1755 - val_accuracy: 0.9375\n",
            "Epoch 43/50\n",
            "8/8 [==============================] - 28s 3s/step - loss: 0.2246 - accuracy: 0.9255 - val_loss: 0.2173 - val_accuracy: 0.9258\n",
            "Epoch 44/50\n",
            "8/8 [==============================] - 27s 3s/step - loss: 0.2319 - accuracy: 0.8999 - val_loss: 0.5185 - val_accuracy: 0.7885\n",
            "Epoch 45/50\n",
            "8/8 [==============================] - 28s 4s/step - loss: 0.1838 - accuracy: 0.9268 - val_loss: 0.1060 - val_accuracy: 0.9609\n",
            "Epoch 46/50\n",
            "8/8 [==============================] - 30s 4s/step - loss: 0.1319 - accuracy: 0.9455 - val_loss: 0.2203 - val_accuracy: 0.8828\n",
            "Epoch 47/50\n",
            "8/8 [==============================] - 27s 3s/step - loss: 0.4114 - accuracy: 0.8665 - val_loss: 0.1545 - val_accuracy: 0.9492\n",
            "Epoch 48/50\n",
            "8/8 [==============================] - 27s 3s/step - loss: 0.1234 - accuracy: 0.9455 - val_loss: 0.1171 - val_accuracy: 0.9515\n",
            "Epoch 49/50\n",
            "8/8 [==============================] - 28s 3s/step - loss: 0.1220 - accuracy: 0.9577 - val_loss: 0.2530 - val_accuracy: 0.8867\n",
            "Epoch 50/50\n",
            "8/8 [==============================] - 27s 3s/step - loss: 0.1630 - accuracy: 0.9321 - val_loss: 0.1485 - val_accuracy: 0.9219\n"
          ],
          "name": "stdout"
        }
      ]
    },
    {
      "cell_type": "code",
      "metadata": {
        "id": "uW-FIyGAvAO4",
        "colab_type": "code",
        "colab": {
          "base_uri": "https://localhost:8080/",
          "height": 545
        },
        "outputId": "54bfdea7-579e-40fc-e9d0-1f50b652f36f"
      },
      "source": [
        "# plot it \n",
        "import matplotlib.pyplot as plt\n",
        "\n",
        "acc = history.history[\"accuracy\"]\n",
        "loss = history.history[\"loss\"]\n",
        "val_acc = history.history[\"val_accuracy\"]\n",
        "val_loss = history.history[\"val_loss\"]\n",
        "epochs = range(len(acc))\n",
        "\n",
        "plt.plot(epochs, acc, \"r\", label = \"Training accuracy\")\n",
        "plt.plot(epochs, loss, \"y\", label = \"Training loss\")\n",
        "plt.title(\"Training Accuracy and Loss\")\n",
        "\n",
        "plt.figure()\n",
        "\n",
        "plt.plot(epochs, val_acc, \"g\",label = \"Validation Accuracy\")\n",
        "plt.plot(epochs, val_loss, \"b\", label = \"Validation Loss\")\n",
        "plt.title(\"Validation Accuracy and Loss\")\n",
        "\n",
        "plt.legend()\n",
        "plt.show()"
      ],
      "execution_count": 5,
      "outputs": [
        {
          "output_type": "display_data",
          "data": {
            "image/png": "[encoded data removed]",
            "text/plain": [
              "<Figure size 432x288 with 1 Axes>"
            ]
          },
          "metadata": {
            "tags": [],
            "needs_background": "light"
          }
        },
        {
          "output_type": "display_data",
          "data": {
            "image/png": "[encoded data removed]",
            "text/plain": [
              "<Figure size 432x288 with 1 Axes>"
            ]
          },
          "metadata": {
            "tags": [],
            "needs_background": "light"
          }
        }
      ]
    },
    {
      "cell_type": "code",
      "metadata": {
        "id": "PKD62rEA5R38",
        "colab_type": "code",
        "colab": {}
      },
      "source": [
        ""
      ],
      "execution_count": 0,
      "outputs": []
    }
  ]
}
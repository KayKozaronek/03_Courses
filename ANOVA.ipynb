{
  "nbformat": 4,
  "nbformat_minor": 0,
  "metadata": {
    "colab": {
      "name": "ANOVA.ipynb",
      "provenance": [],
      "collapsed_sections": [],
      "authorship_tag": "ABX9TyNqWbzowa6k96gGqJXPahpK",
      "include_colab_link": true
    },
    "kernelspec": {
      "name": "python3",
      "display_name": "Python 3"
    }
  },
  "cells": [
    {
      "cell_type": "markdown",
      "metadata": {
        "id": "view-in-github",
        "colab_type": "text"
      },
      "source": [
        "<a href=\"https://colab.research.google.com/github/KayKozaronek/03_Courses/blob/master/ANOVA.ipynb\" target=\"_parent\"><img src=\"https://colab.research.google.com/assets/colab-badge.svg\" alt=\"Open In Colab\"/></a>"
      ]
    },
    {
      "cell_type": "markdown",
      "metadata": {
        "id": "eI3-Aiug6qrY",
        "colab_type": "text"
      },
      "source": [
        "# Upload Data "
      ]
    },
    {
      "cell_type": "code",
      "metadata": {
        "id": "DR5MeeQ8vp-F",
        "colab_type": "code",
        "outputId": "cf09bc6e-60ee-44bc-b854-ea771cc741a8",
        "colab": {
          "resources": {
            "http://localhost:8080/nbextensions/google.colab/files.js": {
              "data": "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",
              "ok": true,
              "headers": [
                [
                  "content-type",
                  "application/javascript"
                ]
              ],
              "status": 200,
              "status_text": ""
            }
          },
          "base_uri": "https://localhost:8080/",
          "height": 58
        }
      },
      "source": [
        "# upload 'legislators-historical.csv' to the VM on which Colab runs\n",
        "\n",
        "from google.colab import files \n",
        "\n",
        "files.upload()"
      ],
      "execution_count": 35,
      "outputs": [
        {
          "output_type": "display_data",
          "data": {
            "text/html": [
              "\n",
              "     <input type=\"file\" id=\"files-6e7d27db-953c-4daf-bd4d-e68160bf4e95\" name=\"files[]\" multiple disabled />\n",
              "     <output id=\"result-6e7d27db-953c-4daf-bd4d-e68160bf4e95\">\n",
              "      Upload widget is only available when the cell has been executed in the\n",
              "      current browser session. Please rerun this cell to enable.\n",
              "      </output>\n",
              "      <script src=\"/nbextensions/google.colab/files.js\"></script> "
            ],
            "text/plain": [
              "<IPython.core.display.HTML object>"
            ]
          },
          "metadata": {
            "tags": []
          }
        },
        {
          "output_type": "execute_result",
          "data": {
            "text/plain": [
              "{}"
            ]
          },
          "metadata": {
            "tags": []
          },
          "execution_count": 35
        }
      ]
    },
    {
      "cell_type": "code",
      "metadata": {
        "id": "_sFCkAg9v94p",
        "colab_type": "code",
        "colab": {}
      },
      "source": [
        "# load the uploaded CSV into a pandas data frame\n",
        "\n",
        "import pandas as pd\n",
        "\n",
        "leg = pd.read_csv(\"Kay Kozaronek - legislators-historical.csv\",\n",
        "                  usecols=[\"first_name\", \"gender\", \"type\", \"state\",\n",
        "                           \"party\", \"birthday\", \"last_name\"])"
      ],
      "execution_count": 0,
      "outputs": []
    },
    {
      "cell_type": "code",
      "metadata": {
        "id": "AE_t4h0swh4E",
        "colab_type": "code",
        "outputId": "99178ea0-7e0c-4151-847b-acb9df0c7bcd",
        "colab": {
          "base_uri": "https://localhost:8080/",
          "height": 195
        }
      },
      "source": [
        "leg.head()"
      ],
      "execution_count": 37,
      "outputs": [
        {
          "output_type": "execute_result",
          "data": {
            "text/html": [
              "<div>\n",
              "<style scoped>\n",
              "    .dataframe tbody tr th:only-of-type {\n",
              "        vertical-align: middle;\n",
              "    }\n",
              "\n",
              "    .dataframe tbody tr th {\n",
              "        vertical-align: top;\n",
              "    }\n",
              "\n",
              "    .dataframe thead th {\n",
              "        text-align: right;\n",
              "    }\n",
              "</style>\n",
              "<table border=\"1\" class=\"dataframe\">\n",
              "  <thead>\n",
              "    <tr style=\"text-align: right;\">\n",
              "      <th></th>\n",
              "      <th>last_name</th>\n",
              "      <th>first_name</th>\n",
              "      <th>birthday</th>\n",
              "      <th>gender</th>\n",
              "      <th>type</th>\n",
              "      <th>state</th>\n",
              "      <th>party</th>\n",
              "    </tr>\n",
              "  </thead>\n",
              "  <tbody>\n",
              "    <tr>\n",
              "      <th>0</th>\n",
              "      <td>Bassett</td>\n",
              "      <td>Richard</td>\n",
              "      <td>1745-04-02</td>\n",
              "      <td>M</td>\n",
              "      <td>sen</td>\n",
              "      <td>DE</td>\n",
              "      <td>Anti-Administration</td>\n",
              "    </tr>\n",
              "    <tr>\n",
              "      <th>1</th>\n",
              "      <td>Bland</td>\n",
              "      <td>Theodorick</td>\n",
              "      <td>1742-03-21</td>\n",
              "      <td>M</td>\n",
              "      <td>rep</td>\n",
              "      <td>VA</td>\n",
              "      <td>NaN</td>\n",
              "    </tr>\n",
              "    <tr>\n",
              "      <th>2</th>\n",
              "      <td>Burke</td>\n",
              "      <td>Aedanus</td>\n",
              "      <td>1743-06-16</td>\n",
              "      <td>M</td>\n",
              "      <td>rep</td>\n",
              "      <td>SC</td>\n",
              "      <td>NaN</td>\n",
              "    </tr>\n",
              "    <tr>\n",
              "      <th>3</th>\n",
              "      <td>Carroll</td>\n",
              "      <td>Daniel</td>\n",
              "      <td>1730-07-22</td>\n",
              "      <td>M</td>\n",
              "      <td>rep</td>\n",
              "      <td>MD</td>\n",
              "      <td>NaN</td>\n",
              "    </tr>\n",
              "    <tr>\n",
              "      <th>4</th>\n",
              "      <td>Clymer</td>\n",
              "      <td>George</td>\n",
              "      <td>1739-03-16</td>\n",
              "      <td>M</td>\n",
              "      <td>rep</td>\n",
              "      <td>PA</td>\n",
              "      <td>NaN</td>\n",
              "    </tr>\n",
              "  </tbody>\n",
              "</table>\n",
              "</div>"
            ],
            "text/plain": [
              "  last_name  first_name    birthday gender type state                party\n",
              "0   Bassett     Richard  1745-04-02      M  sen    DE  Anti-Administration\n",
              "1     Bland  Theodorick  1742-03-21      M  rep    VA                  NaN\n",
              "2     Burke     Aedanus  1743-06-16      M  rep    SC                  NaN\n",
              "3   Carroll      Daniel  1730-07-22      M  rep    MD                  NaN\n",
              "4    Clymer      George  1739-03-16      M  rep    PA                  NaN"
            ]
          },
          "metadata": {
            "tags": []
          },
          "execution_count": 37
        }
      ]
    },
    {
      "cell_type": "markdown",
      "metadata": {
        "id": "GZ1R5RawxAgZ",
        "colab_type": "text"
      },
      "source": [
        "# Data Exploration and Wide transformations\n",
        "\n",
        "Apply takes a function name or a lambda expression that operatses on a subtable"
      ]
    },
    {
      "cell_type": "code",
      "metadata": {
        "id": "0Hu6_BZKxDDI",
        "colab_type": "code",
        "outputId": "ef12c4a0-50a3-40e2-b9dd-531f10beb0f4",
        "colab": {
          "base_uri": "https://localhost:8080/",
          "height": 101
        }
      },
      "source": [
        "leg.groupby(\"state\").apply(lambda df: df.shape[0]).head(3)"
      ],
      "execution_count": 38,
      "outputs": [
        {
          "output_type": "execute_result",
          "data": {
            "text/plain": [
              "state\n",
              "AK     16\n",
              "AL    206\n",
              "AR    117\n",
              "dtype: int64"
            ]
          },
          "metadata": {
            "tags": []
          },
          "execution_count": 38
        }
      ]
    },
    {
      "cell_type": "markdown",
      "metadata": {
        "id": "h9DzXEy6xQzH",
        "colab_type": "text"
      },
      "source": [
        "#Homework"
      ]
    },
    {
      "cell_type": "markdown",
      "metadata": {
        "id": "9QCx7PLpxfOX",
        "colab_type": "text"
      },
      "source": [
        "## Exercise 2.1:\n",
        "\n",
        "Show the number of states with at least 10 female senators"
      ]
    },
    {
      "cell_type": "code",
      "metadata": {
        "id": "qvSB4V8PxzG_",
        "colab_type": "code",
        "outputId": "e9b0244e-5a60-4709-a18d-831630a6c298",
        "colab": {
          "base_uri": "https://localhost:8080/",
          "height": 107
        }
      },
      "source": [
        "leg.head(2)"
      ],
      "execution_count": 39,
      "outputs": [
        {
          "output_type": "execute_result",
          "data": {
            "text/html": [
              "<div>\n",
              "<style scoped>\n",
              "    .dataframe tbody tr th:only-of-type {\n",
              "        vertical-align: middle;\n",
              "    }\n",
              "\n",
              "    .dataframe tbody tr th {\n",
              "        vertical-align: top;\n",
              "    }\n",
              "\n",
              "    .dataframe thead th {\n",
              "        text-align: right;\n",
              "    }\n",
              "</style>\n",
              "<table border=\"1\" class=\"dataframe\">\n",
              "  <thead>\n",
              "    <tr style=\"text-align: right;\">\n",
              "      <th></th>\n",
              "      <th>last_name</th>\n",
              "      <th>first_name</th>\n",
              "      <th>birthday</th>\n",
              "      <th>gender</th>\n",
              "      <th>type</th>\n",
              "      <th>state</th>\n",
              "      <th>party</th>\n",
              "    </tr>\n",
              "  </thead>\n",
              "  <tbody>\n",
              "    <tr>\n",
              "      <th>0</th>\n",
              "      <td>Bassett</td>\n",
              "      <td>Richard</td>\n",
              "      <td>1745-04-02</td>\n",
              "      <td>M</td>\n",
              "      <td>sen</td>\n",
              "      <td>DE</td>\n",
              "      <td>Anti-Administration</td>\n",
              "    </tr>\n",
              "    <tr>\n",
              "      <th>1</th>\n",
              "      <td>Bland</td>\n",
              "      <td>Theodorick</td>\n",
              "      <td>1742-03-21</td>\n",
              "      <td>M</td>\n",
              "      <td>rep</td>\n",
              "      <td>VA</td>\n",
              "      <td>NaN</td>\n",
              "    </tr>\n",
              "  </tbody>\n",
              "</table>\n",
              "</div>"
            ],
            "text/plain": [
              "  last_name  first_name    birthday gender type state                party\n",
              "0   Bassett     Richard  1745-04-02      M  sen    DE  Anti-Administration\n",
              "1     Bland  Theodorick  1742-03-21      M  rep    VA                  NaN"
            ]
          },
          "metadata": {
            "tags": []
          },
          "execution_count": 39
        }
      ]
    },
    {
      "cell_type": "code",
      "metadata": {
        "id": "wa1uQtK-xkiP",
        "colab_type": "code",
        "outputId": "fd3d1318-4c37-4d85-d82f-e811ce96bc12",
        "colab": {
          "base_uri": "https://localhost:8080/",
          "height": 235
        }
      },
      "source": [
        "leg.groupby(\"state\").apply(lambda df: df[\"gender\"] == \"F\")"
      ],
      "execution_count": 40,
      "outputs": [
        {
          "output_type": "execute_result",
          "data": {
            "text/plain": [
              "state       \n",
              "AK     6619     False\n",
              "       6647     False\n",
              "       7442     False\n",
              "       7501     False\n",
              "       8039     False\n",
              "                ...  \n",
              "WY     10860    False\n",
              "       10978    False\n",
              "       11464     True\n",
              "       11518    False\n",
              "       11835     True\n",
              "Name: gender, Length: 11975, dtype: bool"
            ]
          },
          "metadata": {
            "tags": []
          },
          "execution_count": 40
        }
      ]
    },
    {
      "cell_type": "markdown",
      "metadata": {
        "id": "5QQVyEpQx9rt",
        "colab_type": "text"
      },
      "source": [
        "First we create a function that will act on a subtable of rows for a specific state"
      ]
    },
    {
      "cell_type": "code",
      "metadata": {
        "id": "LFtSzuMMyOj9",
        "colab_type": "code",
        "colab": {}
      },
      "source": [
        "def get_number_of_female_senators(subtable):\n",
        "  return subtable[subtable[\"gender\"] == \"F\"].shape[0]"
      ],
      "execution_count": 0,
      "outputs": []
    },
    {
      "cell_type": "markdown",
      "metadata": {
        "id": "lWtZTdOSya1M",
        "colab_type": "text"
      },
      "source": [
        "We can test this function on the subtable for California"
      ]
    },
    {
      "cell_type": "code",
      "metadata": {
        "id": "Md2LDyEzyZZt",
        "colab_type": "code",
        "outputId": "1f5a60d3-f436-412a-f7d4-ec351f249ead",
        "colab": {
          "base_uri": "https://localhost:8080/",
          "height": 136
        }
      },
      "source": [
        "ca_subtable = leg.groupby(\"state\").get_group(\"CA\")\n",
        "ca_subtable.head(3)"
      ],
      "execution_count": 42,
      "outputs": [
        {
          "output_type": "execute_result",
          "data": {
            "text/html": [
              "<div>\n",
              "<style scoped>\n",
              "    .dataframe tbody tr th:only-of-type {\n",
              "        vertical-align: middle;\n",
              "    }\n",
              "\n",
              "    .dataframe tbody tr th {\n",
              "        vertical-align: top;\n",
              "    }\n",
              "\n",
              "    .dataframe thead th {\n",
              "        text-align: right;\n",
              "    }\n",
              "</style>\n",
              "<table border=\"1\" class=\"dataframe\">\n",
              "  <thead>\n",
              "    <tr style=\"text-align: right;\">\n",
              "      <th></th>\n",
              "      <th>last_name</th>\n",
              "      <th>first_name</th>\n",
              "      <th>birthday</th>\n",
              "      <th>gender</th>\n",
              "      <th>type</th>\n",
              "      <th>state</th>\n",
              "      <th>party</th>\n",
              "    </tr>\n",
              "  </thead>\n",
              "  <tbody>\n",
              "    <tr>\n",
              "      <th>2650</th>\n",
              "      <td>Gilbert</td>\n",
              "      <td>Edward</td>\n",
              "      <td>NaN</td>\n",
              "      <td>M</td>\n",
              "      <td>rep</td>\n",
              "      <td>CA</td>\n",
              "      <td>Democrat</td>\n",
              "    </tr>\n",
              "    <tr>\n",
              "      <th>2742</th>\n",
              "      <td>Wright</td>\n",
              "      <td>George</td>\n",
              "      <td>1816-06-04</td>\n",
              "      <td>M</td>\n",
              "      <td>rep</td>\n",
              "      <td>CA</td>\n",
              "      <td>Independent</td>\n",
              "    </tr>\n",
              "    <tr>\n",
              "      <th>2747</th>\n",
              "      <td>Frémont</td>\n",
              "      <td>John</td>\n",
              "      <td>1813-01-21</td>\n",
              "      <td>M</td>\n",
              "      <td>sen</td>\n",
              "      <td>CA</td>\n",
              "      <td>Democrat</td>\n",
              "    </tr>\n",
              "  </tbody>\n",
              "</table>\n",
              "</div>"
            ],
            "text/plain": [
              "     last_name first_name    birthday gender type state        party\n",
              "2650   Gilbert     Edward         NaN      M  rep    CA     Democrat\n",
              "2742    Wright     George  1816-06-04      M  rep    CA  Independent\n",
              "2747   Frémont       John  1813-01-21      M  sen    CA     Democrat"
            ]
          },
          "metadata": {
            "tags": []
          },
          "execution_count": 42
        }
      ]
    },
    {
      "cell_type": "code",
      "metadata": {
        "id": "asb2E0Vi0P79",
        "colab_type": "code",
        "outputId": "e4479c4a-21cb-4d2d-eac6-f31c3650607d",
        "colab": {
          "base_uri": "https://localhost:8080/",
          "height": 118
        }
      },
      "source": [
        "ca_subtable[\"gender\"].head()"
      ],
      "execution_count": 43,
      "outputs": [
        {
          "output_type": "execute_result",
          "data": {
            "text/plain": [
              "2650    M\n",
              "2742    M\n",
              "2747    M\n",
              "2830    M\n",
              "2832    M\n",
              "Name: gender, dtype: object"
            ]
          },
          "metadata": {
            "tags": []
          },
          "execution_count": 43
        }
      ]
    },
    {
      "cell_type": "code",
      "metadata": {
        "id": "3wrCVnd90Vev",
        "colab_type": "code",
        "outputId": "af240ead-7181-47b6-d36b-ba773a157435",
        "colab": {
          "base_uri": "https://localhost:8080/",
          "height": 195
        }
      },
      "source": [
        "ca_subtable[ca_subtable[\"gender\"] == \"F\"].head()"
      ],
      "execution_count": 44,
      "outputs": [
        {
          "output_type": "execute_result",
          "data": {
            "text/html": [
              "<div>\n",
              "<style scoped>\n",
              "    .dataframe tbody tr th:only-of-type {\n",
              "        vertical-align: middle;\n",
              "    }\n",
              "\n",
              "    .dataframe tbody tr th {\n",
              "        vertical-align: top;\n",
              "    }\n",
              "\n",
              "    .dataframe thead th {\n",
              "        text-align: right;\n",
              "    }\n",
              "</style>\n",
              "<table border=\"1\" class=\"dataframe\">\n",
              "  <thead>\n",
              "    <tr style=\"text-align: right;\">\n",
              "      <th></th>\n",
              "      <th>last_name</th>\n",
              "      <th>first_name</th>\n",
              "      <th>birthday</th>\n",
              "      <th>gender</th>\n",
              "      <th>type</th>\n",
              "      <th>state</th>\n",
              "      <th>party</th>\n",
              "    </tr>\n",
              "  </thead>\n",
              "  <tbody>\n",
              "    <tr>\n",
              "      <th>7733</th>\n",
              "      <td>Nolan</td>\n",
              "      <td>Mae</td>\n",
              "      <td>1886-09-20</td>\n",
              "      <td>F</td>\n",
              "      <td>rep</td>\n",
              "      <td>CA</td>\n",
              "      <td>Republican</td>\n",
              "    </tr>\n",
              "    <tr>\n",
              "      <th>8446</th>\n",
              "      <td>Kahn</td>\n",
              "      <td>Florence</td>\n",
              "      <td>1866-11-09</td>\n",
              "      <td>F</td>\n",
              "      <td>rep</td>\n",
              "      <td>CA</td>\n",
              "      <td>Republican</td>\n",
              "    </tr>\n",
              "    <tr>\n",
              "      <th>9228</th>\n",
              "      <td>Douglas</td>\n",
              "      <td>Helen</td>\n",
              "      <td>1900-11-25</td>\n",
              "      <td>F</td>\n",
              "      <td>rep</td>\n",
              "      <td>CA</td>\n",
              "      <td>Democrat</td>\n",
              "    </tr>\n",
              "    <tr>\n",
              "      <th>10398</th>\n",
              "      <td>Burke</td>\n",
              "      <td>Yvonne</td>\n",
              "      <td>1932-10-05</td>\n",
              "      <td>F</td>\n",
              "      <td>rep</td>\n",
              "      <td>CA</td>\n",
              "      <td>Democrat</td>\n",
              "    </tr>\n",
              "    <tr>\n",
              "      <th>10443</th>\n",
              "      <td>Pettis</td>\n",
              "      <td>Shirley</td>\n",
              "      <td>1924-07-12</td>\n",
              "      <td>F</td>\n",
              "      <td>rep</td>\n",
              "      <td>CA</td>\n",
              "      <td>Republican</td>\n",
              "    </tr>\n",
              "  </tbody>\n",
              "</table>\n",
              "</div>"
            ],
            "text/plain": [
              "      last_name first_name    birthday gender type state       party\n",
              "7733      Nolan        Mae  1886-09-20      F  rep    CA  Republican\n",
              "8446       Kahn   Florence  1866-11-09      F  rep    CA  Republican\n",
              "9228    Douglas      Helen  1900-11-25      F  rep    CA    Democrat\n",
              "10398     Burke     Yvonne  1932-10-05      F  rep    CA    Democrat\n",
              "10443    Pettis    Shirley  1924-07-12      F  rep    CA  Republican"
            ]
          },
          "metadata": {
            "tags": []
          },
          "execution_count": 44
        }
      ]
    },
    {
      "cell_type": "code",
      "metadata": {
        "id": "hYfmIGye0u_N",
        "colab_type": "code",
        "outputId": "40feae1c-8401-4cf1-f661-3162dde9ceb6",
        "colab": {
          "base_uri": "https://localhost:8080/",
          "height": 34
        }
      },
      "source": [
        "ca_subtable[ca_subtable[\"gender\"] == \"F\"].shape"
      ],
      "execution_count": 45,
      "outputs": [
        {
          "output_type": "execute_result",
          "data": {
            "text/plain": [
              "(23, 7)"
            ]
          },
          "metadata": {
            "tags": []
          },
          "execution_count": 45
        }
      ]
    },
    {
      "cell_type": "code",
      "metadata": {
        "id": "LZwEII_F00mh",
        "colab_type": "code",
        "outputId": "d7b4b5ba-6d44-4ac7-a5c1-379c496c4429",
        "colab": {
          "base_uri": "https://localhost:8080/",
          "height": 34
        }
      },
      "source": [
        "ca_subtable[ca_subtable[\"gender\"]== \"F\"].shape[0]"
      ],
      "execution_count": 46,
      "outputs": [
        {
          "output_type": "execute_result",
          "data": {
            "text/plain": [
              "23"
            ]
          },
          "metadata": {
            "tags": []
          },
          "execution_count": 46
        }
      ]
    },
    {
      "cell_type": "code",
      "metadata": {
        "id": "nXYYXO8a04Md",
        "colab_type": "code",
        "outputId": "c5ff1a59-aeca-4e08-c5c1-49ba24b80e61",
        "colab": {
          "base_uri": "https://localhost:8080/",
          "height": 33
        }
      },
      "source": [
        "get_number_of_female_senators(ca_subtable)"
      ],
      "execution_count": 47,
      "outputs": [
        {
          "output_type": "execute_result",
          "data": {
            "text/plain": [
              "23"
            ]
          },
          "metadata": {
            "tags": []
          },
          "execution_count": 47
        }
      ]
    },
    {
      "cell_type": "markdown",
      "metadata": {
        "id": "cjQUOWjY1B5c",
        "colab_type": "text"
      },
      "source": [
        "Now we can apply the function to each group subtable"
      ]
    },
    {
      "cell_type": "code",
      "metadata": {
        "id": "RLuhMZyK1K7F",
        "colab_type": "code",
        "outputId": "2ba06767-9000-485a-d0c6-4095a63dffe7",
        "colab": {
          "base_uri": "https://localhost:8080/",
          "height": 101
        }
      },
      "source": [
        "num_females_by_state = leg.groupby(\"state\").apply(get_number_of_female_senators)\n",
        "\n",
        "num_females_by_state.head(3)"
      ],
      "execution_count": 48,
      "outputs": [
        {
          "output_type": "execute_result",
          "data": {
            "text/plain": [
              "state\n",
              "AK    0\n",
              "AL    3\n",
              "AR    5\n",
              "dtype: int64"
            ]
          },
          "metadata": {
            "tags": []
          },
          "execution_count": 48
        }
      ]
    },
    {
      "cell_type": "markdown",
      "metadata": {
        "id": "e17MudG_1Uek",
        "colab_type": "text"
      },
      "source": [
        "Lasty, let's filter out the states with less than 10 senators"
      ]
    },
    {
      "cell_type": "code",
      "metadata": {
        "id": "8uLtsA2C1dmq",
        "colab_type": "code",
        "outputId": "53eabbb2-b05b-4c06-9517-9218483f3121",
        "colab": {
          "base_uri": "https://localhost:8080/",
          "height": 118
        }
      },
      "source": [
        "num_females_by_state[num_females_by_state >= 10]"
      ],
      "execution_count": 49,
      "outputs": [
        {
          "output_type": "execute_result",
          "data": {
            "text/plain": [
              "state\n",
              "CA    23\n",
              "FL    12\n",
              "IL    13\n",
              "NY    20\n",
              "dtype: int64"
            ]
          },
          "metadata": {
            "tags": []
          },
          "execution_count": 49
        }
      ]
    },
    {
      "cell_type": "markdown",
      "metadata": {
        "id": "yazcwaRK1kJq",
        "colab_type": "text"
      },
      "source": [
        "## Exercise 2.2:\n",
        "\n",
        "Count the average number of senators per state with missing party (\"NaN\")"
      ]
    },
    {
      "cell_type": "code",
      "metadata": {
        "id": "Zg__Zy7q1tQV",
        "colab_type": "code",
        "outputId": "80f59e5a-6a64-4c14-eaaa-6ea8a1d83fb3",
        "colab": {
          "base_uri": "https://localhost:8080/",
          "height": 77
        }
      },
      "source": [
        "leg.head(1)"
      ],
      "execution_count": 50,
      "outputs": [
        {
          "output_type": "execute_result",
          "data": {
            "text/html": [
              "<div>\n",
              "<style scoped>\n",
              "    .dataframe tbody tr th:only-of-type {\n",
              "        vertical-align: middle;\n",
              "    }\n",
              "\n",
              "    .dataframe tbody tr th {\n",
              "        vertical-align: top;\n",
              "    }\n",
              "\n",
              "    .dataframe thead th {\n",
              "        text-align: right;\n",
              "    }\n",
              "</style>\n",
              "<table border=\"1\" class=\"dataframe\">\n",
              "  <thead>\n",
              "    <tr style=\"text-align: right;\">\n",
              "      <th></th>\n",
              "      <th>last_name</th>\n",
              "      <th>first_name</th>\n",
              "      <th>birthday</th>\n",
              "      <th>gender</th>\n",
              "      <th>type</th>\n",
              "      <th>state</th>\n",
              "      <th>party</th>\n",
              "    </tr>\n",
              "  </thead>\n",
              "  <tbody>\n",
              "    <tr>\n",
              "      <th>0</th>\n",
              "      <td>Bassett</td>\n",
              "      <td>Richard</td>\n",
              "      <td>1745-04-02</td>\n",
              "      <td>M</td>\n",
              "      <td>sen</td>\n",
              "      <td>DE</td>\n",
              "      <td>Anti-Administration</td>\n",
              "    </tr>\n",
              "  </tbody>\n",
              "</table>\n",
              "</div>"
            ],
            "text/plain": [
              "  last_name first_name    birthday gender type state                party\n",
              "0   Bassett    Richard  1745-04-02      M  sen    DE  Anti-Administration"
            ]
          },
          "metadata": {
            "tags": []
          },
          "execution_count": 50
        }
      ]
    },
    {
      "cell_type": "code",
      "metadata": {
        "id": "VDFPOVCn1vos",
        "colab_type": "code",
        "outputId": "968a3a0c-e19f-4a4a-b4e4-456ed2fc1eea",
        "colab": {
          "base_uri": "https://localhost:8080/",
          "height": 34
        }
      },
      "source": [
        "leg.groupby(\"state\").apply(lambda subtable: subtable[\"party\"].isna().sum()).mean()"
      ],
      "execution_count": 51,
      "outputs": [
        {
          "output_type": "execute_result",
          "data": {
            "text/plain": [
              "4.0344827586206895"
            ]
          },
          "metadata": {
            "tags": []
          },
          "execution_count": 51
        }
      ]
    },
    {
      "cell_type": "markdown",
      "metadata": {
        "id": "2cAKoIuW1-wS",
        "colab_type": "text"
      },
      "source": [
        "Let's deconstruct this "
      ]
    },
    {
      "cell_type": "code",
      "metadata": {
        "id": "NV2G3Ong2KfD",
        "colab_type": "code",
        "colab": {
          "base_uri": "https://localhost:8080/",
          "height": 34
        },
        "outputId": "eedf7705-a47f-4494-f10e-2c76a22216a1"
      },
      "source": [
        "leg.groupby(\"state\")"
      ],
      "execution_count": 52,
      "outputs": [
        {
          "output_type": "execute_result",
          "data": {
            "text/plain": [
              "<pandas.core.groupby.generic.DataFrameGroupBy object at 0x7fb7d46be978>"
            ]
          },
          "metadata": {
            "tags": []
          },
          "execution_count": 52
        }
      ]
    },
    {
      "cell_type": "code",
      "metadata": {
        "id": "tjSJ_0O-3e6Q",
        "colab_type": "code",
        "colab": {
          "base_uri": "https://localhost:8080/",
          "height": 235
        },
        "outputId": "2922abba-9d43-47f5-afbf-8e4f23fe4c8c"
      },
      "source": [
        "leg.groupby(\"state\").apply(lambda subtable: subtable[\"party\"])"
      ],
      "execution_count": 54,
      "outputs": [
        {
          "output_type": "execute_result",
          "data": {
            "text/plain": [
              "state       \n",
              "AK     6619        Democrat\n",
              "       6647     Independent\n",
              "       7442             NaN\n",
              "       7501             NaN\n",
              "       8039      Republican\n",
              "                   ...     \n",
              "WY     10860     Republican\n",
              "       10978     Republican\n",
              "       11464     Republican\n",
              "       11518     Republican\n",
              "       11835     Republican\n",
              "Name: party, Length: 11975, dtype: object"
            ]
          },
          "metadata": {
            "tags": []
          },
          "execution_count": 54
        }
      ]
    },
    {
      "cell_type": "code",
      "metadata": {
        "id": "zjscOX3m3nEP",
        "colab_type": "code",
        "colab": {
          "base_uri": "https://localhost:8080/",
          "height": 235
        },
        "outputId": "7fa2dada-4a48-48c1-92f2-6cb3f7d64669"
      },
      "source": [
        "leg.groupby(\"state\").apply(lambda subtable: subtable[\"party\"].isna())"
      ],
      "execution_count": 55,
      "outputs": [
        {
          "output_type": "execute_result",
          "data": {
            "text/plain": [
              "state       \n",
              "AK     6619     False\n",
              "       6647     False\n",
              "       7442      True\n",
              "       7501      True\n",
              "       8039     False\n",
              "                ...  \n",
              "WY     10860    False\n",
              "       10978    False\n",
              "       11464    False\n",
              "       11518    False\n",
              "       11835    False\n",
              "Name: party, Length: 11975, dtype: bool"
            ]
          },
          "metadata": {
            "tags": []
          },
          "execution_count": 55
        }
      ]
    },
    {
      "cell_type": "code",
      "metadata": {
        "id": "1QflOgGV30j7",
        "colab_type": "code",
        "colab": {
          "base_uri": "https://localhost:8080/",
          "height": 134
        },
        "outputId": "3702cb68-3df9-4093-df36-b8588d3940ee"
      },
      "source": [
        "leg.groupby(\"state\").apply(lambda subtable: subtable[\"party\"].isna().sum()).head()"
      ],
      "execution_count": 58,
      "outputs": [
        {
          "output_type": "execute_result",
          "data": {
            "text/plain": [
              "state\n",
              "AK    2\n",
              "AL    0\n",
              "AR    2\n",
              "AS    0\n",
              "AZ    0\n",
              "dtype: int64"
            ]
          },
          "metadata": {
            "tags": []
          },
          "execution_count": 58
        }
      ]
    },
    {
      "cell_type": "code",
      "metadata": {
        "id": "SNJR-IDC37Qy",
        "colab_type": "code",
        "colab": {
          "base_uri": "https://localhost:8080/",
          "height": 34
        },
        "outputId": "7b97c818-f56a-4672-a9aa-dc6ae8aca1b8"
      },
      "source": [
        "leg.groupby(\"state\").apply(lambda subtable: subtable[\"party\"].isna().sum()).mean()"
      ],
      "execution_count": 59,
      "outputs": [
        {
          "output_type": "execute_result",
          "data": {
            "text/plain": [
              "4.0344827586206895"
            ]
          },
          "metadata": {
            "tags": []
          },
          "execution_count": 59
        }
      ]
    },
    {
      "cell_type": "markdown",
      "metadata": {
        "id": "QUJxaHQO4RZe",
        "colab_type": "text"
      },
      "source": [
        "## Exercise 2.3: Show the states with less than 10 senators"
      ]
    },
    {
      "cell_type": "markdown",
      "metadata": {
        "id": "MqmfK_db6DLP",
        "colab_type": "text"
      },
      "source": [
        "### Option 1 "
      ]
    },
    {
      "cell_type": "code",
      "metadata": {
        "id": "68yFgqOW4Y1s",
        "colab_type": "code",
        "colab": {
          "base_uri": "https://localhost:8080/",
          "height": 134
        },
        "outputId": "d9029e7c-70b6-4ad4-b04b-e932a0e58454"
      },
      "source": [
        "leg.groupby(\"state\").apply(lambda subtable: subtable.shape[0]).head()"
      ],
      "execution_count": 67,
      "outputs": [
        {
          "output_type": "execute_result",
          "data": {
            "text/plain": [
              "state\n",
              "AK     16\n",
              "AL    206\n",
              "AR    117\n",
              "AS      2\n",
              "AZ     48\n",
              "dtype: int64"
            ]
          },
          "metadata": {
            "tags": []
          },
          "execution_count": 67
        }
      ]
    },
    {
      "cell_type": "code",
      "metadata": {
        "id": "ZJS50lCV5s3p",
        "colab_type": "code",
        "colab": {
          "base_uri": "https://localhost:8080/",
          "height": 151
        },
        "outputId": "07215060-5a04-461f-e66d-a999404629a1"
      },
      "source": [
        "senator_count1 = leg.groupby(\"state\").apply(lambda subtable: subtable.shape[0])\n",
        "senator_count1[senator_count1 <10]"
      ],
      "execution_count": 74,
      "outputs": [
        {
          "output_type": "execute_result",
          "data": {
            "text/plain": [
              "state\n",
              "AS    2\n",
              "DC    2\n",
              "DK    9\n",
              "GU    4\n",
              "OL    2\n",
              "VI    4\n",
              "dtype: int64"
            ]
          },
          "metadata": {
            "tags": []
          },
          "execution_count": 74
        }
      ]
    },
    {
      "cell_type": "markdown",
      "metadata": {
        "id": "u2gpexxD6Gry",
        "colab_type": "text"
      },
      "source": [
        "### Option 2"
      ]
    },
    {
      "cell_type": "code",
      "metadata": {
        "id": "qzIyN9ZW4eHE",
        "colab_type": "code",
        "colab": {
          "base_uri": "https://localhost:8080/",
          "height": 225
        },
        "outputId": "9f914451-09a4-416b-feaf-47111b9d8fba"
      },
      "source": [
        "leg.groupby(\"state\").count().head()"
      ],
      "execution_count": 70,
      "outputs": [
        {
          "output_type": "execute_result",
          "data": {
            "text/html": [
              "<div>\n",
              "<style scoped>\n",
              "    .dataframe tbody tr th:only-of-type {\n",
              "        vertical-align: middle;\n",
              "    }\n",
              "\n",
              "    .dataframe tbody tr th {\n",
              "        vertical-align: top;\n",
              "    }\n",
              "\n",
              "    .dataframe thead th {\n",
              "        text-align: right;\n",
              "    }\n",
              "</style>\n",
              "<table border=\"1\" class=\"dataframe\">\n",
              "  <thead>\n",
              "    <tr style=\"text-align: right;\">\n",
              "      <th></th>\n",
              "      <th>last_name</th>\n",
              "      <th>first_name</th>\n",
              "      <th>birthday</th>\n",
              "      <th>gender</th>\n",
              "      <th>type</th>\n",
              "      <th>party</th>\n",
              "    </tr>\n",
              "    <tr>\n",
              "      <th>state</th>\n",
              "      <th></th>\n",
              "      <th></th>\n",
              "      <th></th>\n",
              "      <th></th>\n",
              "      <th></th>\n",
              "      <th></th>\n",
              "    </tr>\n",
              "  </thead>\n",
              "  <tbody>\n",
              "    <tr>\n",
              "      <th>AK</th>\n",
              "      <td>16</td>\n",
              "      <td>16</td>\n",
              "      <td>16</td>\n",
              "      <td>16</td>\n",
              "      <td>16</td>\n",
              "      <td>14</td>\n",
              "    </tr>\n",
              "    <tr>\n",
              "      <th>AL</th>\n",
              "      <td>206</td>\n",
              "      <td>206</td>\n",
              "      <td>197</td>\n",
              "      <td>206</td>\n",
              "      <td>206</td>\n",
              "      <td>206</td>\n",
              "    </tr>\n",
              "    <tr>\n",
              "      <th>AR</th>\n",
              "      <td>117</td>\n",
              "      <td>117</td>\n",
              "      <td>114</td>\n",
              "      <td>117</td>\n",
              "      <td>117</td>\n",
              "      <td>115</td>\n",
              "    </tr>\n",
              "    <tr>\n",
              "      <th>AS</th>\n",
              "      <td>2</td>\n",
              "      <td>2</td>\n",
              "      <td>2</td>\n",
              "      <td>2</td>\n",
              "      <td>2</td>\n",
              "      <td>2</td>\n",
              "    </tr>\n",
              "    <tr>\n",
              "      <th>AZ</th>\n",
              "      <td>48</td>\n",
              "      <td>48</td>\n",
              "      <td>48</td>\n",
              "      <td>48</td>\n",
              "      <td>48</td>\n",
              "      <td>48</td>\n",
              "    </tr>\n",
              "  </tbody>\n",
              "</table>\n",
              "</div>"
            ],
            "text/plain": [
              "       last_name  first_name  birthday  gender  type  party\n",
              "state                                                      \n",
              "AK            16          16        16      16    16     14\n",
              "AL           206         206       197     206   206    206\n",
              "AR           117         117       114     117   117    115\n",
              "AS             2           2         2       2     2      2\n",
              "AZ            48          48        48      48    48     48"
            ]
          },
          "metadata": {
            "tags": []
          },
          "execution_count": 70
        }
      ]
    },
    {
      "cell_type": "code",
      "metadata": {
        "id": "fDwzu1mI5aEU",
        "colab_type": "code",
        "colab": {
          "base_uri": "https://localhost:8080/",
          "height": 134
        },
        "outputId": "86a73df1-2f79-4d9d-ad76-c548c05e088e"
      },
      "source": [
        "leg.groupby(\"state\")[\"state\"].count().head()"
      ],
      "execution_count": 71,
      "outputs": [
        {
          "output_type": "execute_result",
          "data": {
            "text/plain": [
              "state\n",
              "AK     16\n",
              "AL    206\n",
              "AR    117\n",
              "AS      2\n",
              "AZ     48\n",
              "Name: state, dtype: int64"
            ]
          },
          "metadata": {
            "tags": []
          },
          "execution_count": 71
        }
      ]
    },
    {
      "cell_type": "code",
      "metadata": {
        "id": "gpT5zKi35d9p",
        "colab_type": "code",
        "colab": {
          "base_uri": "https://localhost:8080/",
          "height": 151
        },
        "outputId": "1e88347b-9fa2-48db-9fbf-7427be11d843"
      },
      "source": [
        "senator_count = leg.groupby(\"state\")[\"state\"].count()\n",
        "senator_count[senator_count <10]"
      ],
      "execution_count": 72,
      "outputs": [
        {
          "output_type": "execute_result",
          "data": {
            "text/plain": [
              "state\n",
              "AS    2\n",
              "DC    2\n",
              "DK    9\n",
              "GU    4\n",
              "OL    2\n",
              "VI    4\n",
              "Name: state, dtype: int64"
            ]
          },
          "metadata": {
            "tags": []
          },
          "execution_count": 72
        }
      ]
    },
    {
      "cell_type": "markdown",
      "metadata": {
        "id": "2N3x-RiE5q85",
        "colab_type": "text"
      },
      "source": [
        "# Exploratory and inferential statistics "
      ]
    },
    {
      "cell_type": "code",
      "metadata": {
        "id": "zwp1DXT56Q5Y",
        "colab_type": "code",
        "colab": {
          "resources": {
            "http://localhost:8080/nbextensions/google.colab/files.js": {
              "data": "Ly8gQ29weXJpZ2h0IDIwMTcgR29vZ2xlIExMQwovLwovLyBMaWNlbnNlZCB1bmRlciB0aGUgQXBhY2hlIExpY2Vuc2UsIFZlcnNpb24gMi4wICh0aGUgIkxpY2Vuc2UiKTsKLy8geW91IG1heSBub3QgdXNlIHRoaXMgZmlsZSBleGNlcHQgaW4gY29tcGxpYW5jZSB3aXRoIHRoZSBMaWNlbnNlLgovLyBZb3UgbWF5IG9idGFpbiBhIGNvcHkgb2YgdGhlIExpY2Vuc2UgYXQKLy8KLy8gICAgICBodHRwOi8vd3d3LmFwYWNoZS5vcmcvbGljZW5zZXMvTElDRU5TRS0yLjAKLy8KLy8gVW5sZXNzIHJlcXVpcmVkIGJ5IGFwcGxpY2FibGUgbGF3IG9yIGFncmVlZCB0byBpbiB3cml0aW5nLCBzb2Z0d2FyZQovLyBkaXN0cmlidXRlZCB1bmRlciB0aGUgTGljZW5zZSBpcyBkaXN0cmlidXRlZCBvbiBhbiAiQVMgSVMiIEJBU0lTLAovLyBXSVRIT1VUIFdBUlJBTlRJRVMgT1IgQ09ORElUSU9OUyBPRiBBTlkgS0lORCwgZWl0aGVyIGV4cHJlc3Mgb3IgaW1wbGllZC4KLy8gU2VlIHRoZSBMaWNlbnNlIGZvciB0aGUgc3BlY2lmaWMgbGFuZ3VhZ2UgZ292ZXJuaW5nIHBlcm1pc3Npb25zIGFuZAovLyBsaW1pdGF0aW9ucyB1bmRlciB0aGUgTGljZW5zZS4KCi8qKgogKiBAZmlsZW92ZXJ2aWV3IEhlbHBlcnMgZm9yIGdvb2dsZS5jb2xhYiBQeXRob24gbW9kdWxlLgogKi8KKGZ1bmN0aW9uKHNjb3BlKSB7CmZ1bmN0aW9uIHNwYW4odGV4dCwgc3R5bGVBdHRyaWJ1dGVzID0ge30pIHsKICBjb25zdCBlbGVtZW50ID0gZG9jdW1lbnQuY3JlYXRlRWxlbWVudCgnc3BhbicpOwogIGVsZW1lbnQudGV4dENvbnRlbnQgPSB0ZXh0OwogIGZvciAoY29uc3Qga2V5IG9mIE9iamVjdC5rZXlzKHN0eWxlQXR0cmlidXRlcykpIHsKICAgIGVsZW1lbnQuc3R5bGVba2V5XSA9IHN0eWxlQXR0cmlidXRlc1trZXldOwogIH0KICByZXR1cm4gZWxlbWVudDsKfQoKLy8gTWF4IG51bWJlciBvZiBieXRlcyB3aGljaCB3aWxsIGJlIHVwbG9hZGVkIGF0IGEgdGltZS4KY29uc3QgTUFYX1BBWUxPQURfU0laRSA9IDEwMCAqIDEwMjQ7Ci8vIE1heCBhbW91bnQgb2YgdGltZSB0byBibG9jayB3YWl0aW5nIGZvciB0aGUgdXNlci4KY29uc3QgRklMRV9DSEFOR0VfVElNRU9VVF9NUyA9IDMwICogMTAwMDsKCmZ1bmN0aW9uIF91cGxvYWRGaWxlcyhpbnB1dElkLCBvdXRwdXRJZCkgewogIGNvbnN0IHN0ZXBzID0gdXBsb2FkRmlsZXNTdGVwKGlucHV0SWQsIG91dHB1dElkKTsKICBjb25zdCBvdXRwdXRFbGVtZW50ID0gZG9jdW1lbnQuZ2V0RWxlbWVudEJ5SWQob3V0cHV0SWQpOwogIC8vIENhY2hlIHN0ZXBzIG9uIHRoZSBvdXRwdXRFbGVtZW50IHRvIG1ha2UgaXQgYXZhaWxhYmxlIGZvciB0aGUgbmV4dCBjYWxsCiAgLy8gdG8gdXBsb2FkRmlsZXNDb250aW51ZSBmcm9tIFB5dGhvbi4KICBvdXRwdXRFbGVtZW50LnN0ZXBzID0gc3RlcHM7CgogIHJldHVybiBfdXBsb2FkRmlsZXNDb250aW51ZShvdXRwdXRJZCk7Cn0KCi8vIFRoaXMgaXMgcm91Z2hseSBhbiBhc3luYyBnZW5lcmF0b3IgKG5vdCBzdXBwb3J0ZWQgaW4gdGhlIGJyb3dzZXIgeWV0KSwKLy8gd2hlcmUgdGhlcmUgYXJlIG11bHRpcGxlIGFzeW5jaHJvbm91cyBzdGVwcyBhbmQgdGhlIFB5dGhvbiBzaWRlIGlzIGdvaW5nCi8vIHRvIHBvbGwgZm9yIGNvbXBsZXRpb24gb2YgZWFjaCBzdGVwLgovLyBUaGlzIHVzZXMgYSBQcm9taXNlIHRvIGJsb2NrIHRoZSBweXRob24gc2lkZSBvbiBjb21wbGV0aW9uIG9mIGVhY2ggc3RlcCwKLy8gdGhlbiBwYXNzZXMgdGhlIHJlc3VsdCBvZiB0aGUgcHJldmlvdXMgc3RlcCBhcyB0aGUgaW5wdXQgdG8gdGhlIG5leHQgc3RlcC4KZnVuY3Rpb24gX3VwbG9hZEZpbGVzQ29udGludWUob3V0cHV0SWQpIHsKICBjb25zdCBvdXRwdXRFbGVtZW50ID0gZG9jdW1lbnQuZ2V0RWxlbWVudEJ5SWQob3V0cHV0SWQpOwogIGNvbnN0IHN0ZXBzID0gb3V0cHV0RWxlbWVudC5zdGVwczsKCiAgY29uc3QgbmV4dCA9IHN0ZXBzLm5leHQob3V0cHV0RWxlbWVudC5sYXN0UHJvbWlzZVZhbHVlKTsKICByZXR1cm4gUHJvbWlzZS5yZXNvbHZlKG5leHQudmFsdWUucHJvbWlzZSkudGhlbigodmFsdWUpID0+IHsKICAgIC8vIENhY2hlIHRoZSBsYXN0IHByb21pc2UgdmFsdWUgdG8gbWFrZSBpdCBhdmFpbGFibGUgdG8gdGhlIG5leHQKICAgIC8vIHN0ZXAgb2YgdGhlIGdlbmVyYXRvci4KICAgIG91dHB1dEVsZW1lbnQubGFzdFByb21pc2VWYWx1ZSA9IHZhbHVlOwogICAgcmV0dXJuIG5leHQudmFsdWUucmVzcG9uc2U7CiAgfSk7Cn0KCi8qKgogKiBHZW5lcmF0b3IgZnVuY3Rpb24gd2hpY2ggaXMgY2FsbGVkIGJldHdlZW4gZWFjaCBhc3luYyBzdGVwIG9mIHRoZSB1cGxvYWQKICogcHJvY2Vzcy4KICogQHBhcmFtIHtzdHJpbmd9IGlucHV0SWQgRWxlbWVudCBJRCBvZiB0aGUgaW5wdXQgZmlsZSBwaWNrZXIgZWxlbWVudC4KICogQHBhcmFtIHtzdHJpbmd9IG91dHB1dElkIEVsZW1lbnQgSUQgb2YgdGhlIG91dHB1dCBkaXNwbGF5LgogKiBAcmV0dXJuIHshSXRlcmFibGU8IU9iamVjdD59IEl0ZXJhYmxlIG9mIG5leHQgc3RlcHMuCiAqLwpmdW5jdGlvbiogdXBsb2FkRmlsZXNTdGVwKGlucHV0SWQsIG91dHB1dElkKSB7CiAgY29uc3QgaW5wdXRFbGVtZW50ID0gZG9jdW1lbnQuZ2V0RWxlbWVudEJ5SWQoaW5wdXRJZCk7CiAgaW5wdXRFbGVtZW50LmRpc2FibGVkID0gZmFsc2U7CgogIGNvbnN0IG91dHB1dEVsZW1lbnQgPSBkb2N1bWVudC5nZXRFbGVtZW50QnlJZChvdXRwdXRJZCk7CiAgb3V0cHV0RWxlbWVudC5pbm5lckhUTUwgPSAnJzsKCiAgY29uc3QgcGlja2VkUHJvbWlzZSA9IG5ldyBQcm9taXNlKChyZXNvbHZlKSA9PiB7CiAgICBpbnB1dEVsZW1lbnQuYWRkRXZlbnRMaXN0ZW5lcignY2hhbmdlJywgKGUpID0+IHsKICAgICAgcmVzb2x2ZShlLnRhcmdldC5maWxlcyk7CiAgICB9KTsKICB9KTsKCiAgY29uc3QgY2FuY2VsID0gZG9jdW1lbnQuY3JlYXRlRWxlbWVudCgnYnV0dG9uJyk7CiAgaW5wdXRFbGVtZW50LnBhcmVudEVsZW1lbnQuYXBwZW5kQ2hpbGQoY2FuY2VsKTsKICBjYW5jZWwudGV4dENvbnRlbnQgPSAnQ2FuY2VsIHVwbG9hZCc7CiAgY29uc3QgY2FuY2VsUHJvbWlzZSA9IG5ldyBQcm9taXNlKChyZXNvbHZlKSA9PiB7CiAgICBjYW5jZWwub25jbGljayA9ICgpID0+IHsKICAgICAgcmVzb2x2ZShudWxsKTsKICAgIH07CiAgfSk7CgogIC8vIENhbmNlbCB1cGxvYWQgaWYgdXNlciBoYXNuJ3QgcGlja2VkIGFueXRoaW5nIGluIHRpbWVvdXQuCiAgY29uc3QgdGltZW91dFByb21pc2UgPSBuZXcgUHJvbWlzZSgocmVzb2x2ZSkgPT4gewogICAgc2V0VGltZW91dCgoKSA9PiB7CiAgICAgIHJlc29sdmUobnVsbCk7CiAgICB9LCBGSUxFX0NIQU5HRV9USU1FT1VUX01TKTsKICB9KTsKCiAgLy8gV2FpdCBmb3IgdGhlIHVzZXIgdG8gcGljayB0aGUgZmlsZXMuCiAgY29uc3QgZmlsZXMgPSB5aWVsZCB7CiAgICBwcm9taXNlOiBQcm9taXNlLnJhY2UoW3BpY2tlZFByb21pc2UsIHRpbWVvdXRQcm9taXNlLCBjYW5jZWxQcm9taXNlXSksCiAgICByZXNwb25zZTogewogICAgICBhY3Rpb246ICdzdGFydGluZycsCiAgICB9CiAgfTsKCiAgaWYgKCFmaWxlcykgewogICAgcmV0dXJuIHsKICAgICAgcmVzcG9uc2U6IHsKICAgICAgICBhY3Rpb246ICdjb21wbGV0ZScsCiAgICAgIH0KICAgIH07CiAgfQoKICBjYW5jZWwucmVtb3ZlKCk7CgogIC8vIERpc2FibGUgdGhlIGlucHV0IGVsZW1lbnQgc2luY2UgZnVydGhlciBwaWNrcyBhcmUgbm90IGFsbG93ZWQuCiAgaW5wdXRFbGVtZW50LmRpc2FibGVkID0gdHJ1ZTsKCiAgZm9yIChjb25zdCBmaWxlIG9mIGZpbGVzKSB7CiAgICBjb25zdCBsaSA9IGRvY3VtZW50LmNyZWF0ZUVsZW1lbnQoJ2xpJyk7CiAgICBsaS5hcHBlbmQoc3BhbihmaWxlLm5hbWUsIHtmb250V2VpZ2h0OiAnYm9sZCd9KSk7CiAgICBsaS5hcHBlbmQoc3BhbigKICAgICAgICBgKCR7ZmlsZS50eXBlIHx8ICduL2EnfSkgLSAke2ZpbGUuc2l6ZX0gYnl0ZXMsIGAgKwogICAgICAgIGBsYXN0IG1vZGlmaWVkOiAkewogICAgICAgICAgICBmaWxlLmxhc3RNb2RpZmllZERhdGUgPyBmaWxlLmxhc3RNb2RpZmllZERhdGUudG9Mb2NhbGVEYXRlU3RyaW5nKCkgOgogICAgICAgICAgICAgICAgICAgICAgICAgICAgICAgICAgICAnbi9hJ30gLSBgKSk7CiAgICBjb25zdCBwZXJjZW50ID0gc3BhbignMCUgZG9uZScpOwogICAgbGkuYXBwZW5kQ2hpbGQocGVyY2VudCk7CgogICAgb3V0cHV0RWxlbWVudC5hcHBlbmRDaGlsZChsaSk7CgogICAgY29uc3QgZmlsZURhdGFQcm9taXNlID0gbmV3IFByb21pc2UoKHJlc29sdmUpID0+IHsKICAgICAgY29uc3QgcmVhZGVyID0gbmV3IEZpbGVSZWFkZXIoKTsKICAgICAgcmVhZGVyLm9ubG9hZCA9IChlKSA9PiB7CiAgICAgICAgcmVzb2x2ZShlLnRhcmdldC5yZXN1bHQpOwogICAgICB9OwogICAgICByZWFkZXIucmVhZEFzQXJyYXlCdWZmZXIoZmlsZSk7CiAgICB9KTsKICAgIC8vIFdhaXQgZm9yIHRoZSBkYXRhIHRvIGJlIHJlYWR5LgogICAgbGV0IGZpbGVEYXRhID0geWllbGQgewogICAgICBwcm9taXNlOiBmaWxlRGF0YVByb21pc2UsCiAgICAgIHJlc3BvbnNlOiB7CiAgICAgICAgYWN0aW9uOiAnY29udGludWUnLAogICAgICB9CiAgICB9OwoKICAgIC8vIFVzZSBhIGNodW5rZWQgc2VuZGluZyB0byBhdm9pZCBtZXNzYWdlIHNpemUgbGltaXRzLiBTZWUgYi82MjExNTY2MC4KICAgIGxldCBwb3NpdGlvbiA9IDA7CiAgICB3aGlsZSAocG9zaXRpb24gPCBmaWxlRGF0YS5ieXRlTGVuZ3RoKSB7CiAgICAgIGNvbnN0IGxlbmd0aCA9IE1hdGgubWluKGZpbGVEYXRhLmJ5dGVMZW5ndGggLSBwb3NpdGlvbiwgTUFYX1BBWUxPQURfU0laRSk7CiAgICAgIGNvbnN0IGNodW5rID0gbmV3IFVpbnQ4QXJyYXkoZmlsZURhdGEsIHBvc2l0aW9uLCBsZW5ndGgpOwogICAgICBwb3NpdGlvbiArPSBsZW5ndGg7CgogICAgICBjb25zdCBiYXNlNjQgPSBidG9hKFN0cmluZy5mcm9tQ2hhckNvZGUuYXBwbHkobnVsbCwgY2h1bmspKTsKICAgICAgeWllbGQgewogICAgICAgIHJlc3BvbnNlOiB7CiAgICAgICAgICBhY3Rpb246ICdhcHBlbmQnLAogICAgICAgICAgZmlsZTogZmlsZS5uYW1lLAogICAgICAgICAgZGF0YTogYmFzZTY0LAogICAgICAgIH0sCiAgICAgIH07CiAgICAgIHBlcmNlbnQudGV4dENvbnRlbnQgPQogICAgICAgICAgYCR7TWF0aC5yb3VuZCgocG9zaXRpb24gLyBmaWxlRGF0YS5ieXRlTGVuZ3RoKSAqIDEwMCl9JSBkb25lYDsKICAgIH0KICB9CgogIC8vIEFsbCBkb25lLgogIHlpZWxkIHsKICAgIHJlc3BvbnNlOiB7CiAgICAgIGFjdGlvbjogJ2NvbXBsZXRlJywKICAgIH0KICB9Owp9CgpzY29wZS5nb29nbGUgPSBzY29wZS5nb29nbGUgfHwge307CnNjb3BlLmdvb2dsZS5jb2xhYiA9IHNjb3BlLmdvb2dsZS5jb2xhYiB8fCB7fTsKc2NvcGUuZ29vZ2xlLmNvbGFiLl9maWxlcyA9IHsKICBfdXBsb2FkRmlsZXMsCiAgX3VwbG9hZEZpbGVzQ29udGludWUsCn07Cn0pKHNlbGYpOwo=",
              "ok": true,
              "headers": [
                [
                  "content-type",
                  "application/javascript"
                ]
              ],
              "status": 200,
              "status_text": ""
            }
          },
          "base_uri": "https://localhost:8080/",
          "height": 74
        },
        "outputId": "503ee3b1-f916-4fdc-b07f-906a865c7ec9"
      },
      "source": [
        "# upload 'legislators-historical.csv' to the VM on which Colab runs\n",
        "\n",
        "from google.colab import files \n",
        "\n",
        "files.upload()"
      ],
      "execution_count": 76,
      "outputs": [
        {
          "output_type": "display_data",
          "data": {
            "text/html": [
              "\n",
              "     <input type=\"file\" id=\"files-bad6a5f0-0779-45e6-bfa1-3e66ffbb487a\" name=\"files[]\" multiple disabled />\n",
              "     <output id=\"result-bad6a5f0-0779-45e6-bfa1-3e66ffbb487a\">\n",
              "      Upload widget is only available when the cell has been executed in the\n",
              "      current browser session. Please rerun this cell to enable.\n",
              "      </output>\n",
              "      <script src=\"/nbextensions/google.colab/files.js\"></script> "
            ],
            "text/plain": [
              "<IPython.core.display.HTML object>"
            ]
          },
          "metadata": {
            "tags": []
          }
        },
        {
          "output_type": "stream",
          "text": [
            "Saving libido.csv to libido.csv\n"
          ],
          "name": "stdout"
        }
      ]
    },
    {
      "cell_type": "code",
      "metadata": {
        "id": "8gtICKv-73vu",
        "colab_type": "code",
        "colab": {}
      },
      "source": [
        "lib = pd.read_csv(\"libido.csv\")"
      ],
      "execution_count": 0,
      "outputs": []
    },
    {
      "cell_type": "markdown",
      "metadata": {
        "id": "r7yVlEpG7Sqt",
        "colab_type": "text"
      },
      "source": [
        "Each row corresponds to a person. \n",
        "\n",
        "Each column corresponds to:\n",
        "- age group (18-30, 30-45, 45-60) (independent variable, IV)\n",
        "- a drug dose (IV)\n",
        "- the measured libido (outcome / dependent variable, DV)"
      ]
    },
    {
      "cell_type": "code",
      "metadata": {
        "id": "TR_xpEEd67M3",
        "colab_type": "code",
        "colab": {
          "base_uri": "https://localhost:8080/",
          "height": 166
        },
        "outputId": "868f6e91-8dd3-416e-9c4f-3c431ec902fc"
      },
      "source": [
        "lib.sample(4)"
      ],
      "execution_count": 81,
      "outputs": [
        {
          "output_type": "execute_result",
          "data": {
            "text/html": [
              "<div>\n",
              "<style scoped>\n",
              "    .dataframe tbody tr th:only-of-type {\n",
              "        vertical-align: middle;\n",
              "    }\n",
              "\n",
              "    .dataframe tbody tr th {\n",
              "        vertical-align: top;\n",
              "    }\n",
              "\n",
              "    .dataframe thead th {\n",
              "        text-align: right;\n",
              "    }\n",
              "</style>\n",
              "<table border=\"1\" class=\"dataframe\">\n",
              "  <thead>\n",
              "    <tr style=\"text-align: right;\">\n",
              "      <th></th>\n",
              "      <th>age_group</th>\n",
              "      <th>dose</th>\n",
              "      <th>libido</th>\n",
              "    </tr>\n",
              "  </thead>\n",
              "  <tbody>\n",
              "    <tr>\n",
              "      <th>10</th>\n",
              "      <td>45-65</td>\n",
              "      <td>3</td>\n",
              "      <td>7</td>\n",
              "    </tr>\n",
              "    <tr>\n",
              "      <th>1</th>\n",
              "      <td>30-45</td>\n",
              "      <td>1</td>\n",
              "      <td>2</td>\n",
              "    </tr>\n",
              "    <tr>\n",
              "      <th>14</th>\n",
              "      <td>18-30</td>\n",
              "      <td>3</td>\n",
              "      <td>6</td>\n",
              "    </tr>\n",
              "    <tr>\n",
              "      <th>7</th>\n",
              "      <td>18-30</td>\n",
              "      <td>2</td>\n",
              "      <td>4</td>\n",
              "    </tr>\n",
              "  </tbody>\n",
              "</table>\n",
              "</div>"
            ],
            "text/plain": [
              "   age_group  dose  libido\n",
              "10     45-65     3       7\n",
              "1      30-45     1       2\n",
              "14     18-30     3       6\n",
              "7      18-30     2       4"
            ]
          },
          "metadata": {
            "tags": []
          },
          "execution_count": 81
        }
      ]
    },
    {
      "cell_type": "markdown",
      "metadata": {
        "id": "9kFUzXaQ7cVR",
        "colab_type": "text"
      },
      "source": [
        "Let's change the dose value from numeric to a string for conveneice "
      ]
    },
    {
      "cell_type": "code",
      "metadata": {
        "id": "LwDXLVWi7mYz",
        "colab_type": "code",
        "colab": {
          "base_uri": "https://localhost:8080/",
          "height": 195
        },
        "outputId": "66c55666-5c8a-4b4c-c70e-da8d2072e5ac"
      },
      "source": [
        "lib[\"dose\"].replace({1: \"placebo\",\n",
        "                     2: \"low\",\n",
        "                     3: \"high\"},\n",
        "                    inplace = True)\n",
        "\n",
        "lib.sample(5)"
      ],
      "execution_count": 83,
      "outputs": [
        {
          "output_type": "execute_result",
          "data": {
            "text/html": [
              "<div>\n",
              "<style scoped>\n",
              "    .dataframe tbody tr th:only-of-type {\n",
              "        vertical-align: middle;\n",
              "    }\n",
              "\n",
              "    .dataframe tbody tr th {\n",
              "        vertical-align: top;\n",
              "    }\n",
              "\n",
              "    .dataframe thead th {\n",
              "        text-align: right;\n",
              "    }\n",
              "</style>\n",
              "<table border=\"1\" class=\"dataframe\">\n",
              "  <thead>\n",
              "    <tr style=\"text-align: right;\">\n",
              "      <th></th>\n",
              "      <th>age_group</th>\n",
              "      <th>dose</th>\n",
              "      <th>libido</th>\n",
              "    </tr>\n",
              "  </thead>\n",
              "  <tbody>\n",
              "    <tr>\n",
              "      <th>14</th>\n",
              "      <td>18-30</td>\n",
              "      <td>high</td>\n",
              "      <td>6</td>\n",
              "    </tr>\n",
              "    <tr>\n",
              "      <th>2</th>\n",
              "      <td>30-45</td>\n",
              "      <td>placebo</td>\n",
              "      <td>1</td>\n",
              "    </tr>\n",
              "    <tr>\n",
              "      <th>11</th>\n",
              "      <td>45-65</td>\n",
              "      <td>high</td>\n",
              "      <td>4</td>\n",
              "    </tr>\n",
              "    <tr>\n",
              "      <th>3</th>\n",
              "      <td>30-45</td>\n",
              "      <td>placebo</td>\n",
              "      <td>1</td>\n",
              "    </tr>\n",
              "    <tr>\n",
              "      <th>10</th>\n",
              "      <td>45-65</td>\n",
              "      <td>high</td>\n",
              "      <td>7</td>\n",
              "    </tr>\n",
              "  </tbody>\n",
              "</table>\n",
              "</div>"
            ],
            "text/plain": [
              "   age_group     dose  libido\n",
              "14     18-30     high       6\n",
              "2      30-45  placebo       1\n",
              "11     45-65     high       4\n",
              "3      30-45  placebo       1\n",
              "10     45-65     high       7"
            ]
          },
          "metadata": {
            "tags": []
          },
          "execution_count": 83
        }
      ]
    },
    {
      "cell_type": "code",
      "metadata": {
        "id": "Mu8lS2Zd7yeU",
        "colab_type": "code",
        "colab": {
          "base_uri": "https://localhost:8080/",
          "height": 286
        },
        "outputId": "1710c6dc-b66f-458e-c1ae-e02a1dd52a05"
      },
      "source": [
        "lib[\"dose\"] == \"placebo\""
      ],
      "execution_count": 84,
      "outputs": [
        {
          "output_type": "execute_result",
          "data": {
            "text/plain": [
              "0      True\n",
              "1      True\n",
              "2      True\n",
              "3      True\n",
              "4      True\n",
              "5     False\n",
              "6     False\n",
              "7     False\n",
              "8     False\n",
              "9     False\n",
              "10    False\n",
              "11    False\n",
              "12    False\n",
              "13    False\n",
              "14    False\n",
              "Name: dose, dtype: bool"
            ]
          },
          "metadata": {
            "tags": []
          },
          "execution_count": 84
        }
      ]
    },
    {
      "cell_type": "markdown",
      "metadata": {
        "id": "dtn7--5C8C3g",
        "colab_type": "text"
      },
      "source": [
        "## Histogram\n",
        "Create a histogram of the doses to see their distirbution \n",
        "\n",
        "This shows that the group sizes are equal"
      ]
    },
    {
      "cell_type": "code",
      "metadata": {
        "id": "mLdpf3Hd8BHO",
        "colab_type": "code",
        "colab": {
          "base_uri": "https://localhost:8080/",
          "height": 282
        },
        "outputId": "2ed5e124-416e-4c3b-f7dc-05b5ad6c52ec"
      },
      "source": [
        "lib[\"dose\"].hist()"
      ],
      "execution_count": 86,
      "outputs": [
        {
          "output_type": "execute_result",
          "data": {
            "text/plain": [
              "<matplotlib.axes._subplots.AxesSubplot at 0x7fb7d4568080>"
            ]
          },
          "metadata": {
            "tags": []
          },
          "execution_count": 86
        },
        {
          "output_type": "display_data",
          "data": {
            "image/png": "[encoded data removed]",
            "text/plain": [
              "<Figure size 432x288 with 1 Axes>"
            ]
          },
          "metadata": {
            "tags": [],
            "needs_background": "light"
          }
        }
      ]
    },
    {
      "cell_type": "markdown",
      "metadata": {
        "id": "8YZ7ze338LaR",
        "colab_type": "text"
      },
      "source": [
        "## Boxplot \n",
        "\n",
        "Let's create a box plot (aka box-and-whisker plot) of libido vs. dose \n",
        "\n",
        "Each box shows us :\n",
        "- the 1st quartile (lower bound) \n",
        "- median (line within the box)and \n",
        "- 3rd quartile (upper bound) of the data\n",
        "\n",
        "The wiskers include all points within 1.5 times the inter-quartile range (IQR)\n",
        "\n",
        "As seen in the boxplots bellow, we do not have many outliers."
      ]
    },
    {
      "cell_type": "code",
      "metadata": {
        "id": "VOsJbbDg8rn9",
        "colab_type": "code",
        "colab": {
          "base_uri": "https://localhost:8080/",
          "height": 279
        },
        "outputId": "16af8eca-88fd-4ebf-b80a-bb739dafb8fd"
      },
      "source": [
        "import seaborn as sns\n",
        "\n",
        "sns.boxplot(data=lib, x=\"dose\", y=\"libido\");"
      ],
      "execution_count": 88,
      "outputs": [
        {
          "output_type": "display_data",
          "data": {
            "image/png": "[encoded data removed]",
            "text/plain": [
              "<Figure size 432x288 with 1 Axes>"
            ]
          },
          "metadata": {
            "tags": [],
            "needs_background": "light"
          }
        }
      ]
    },
    {
      "cell_type": "markdown",
      "metadata": {
        "id": "B2Pe-hIm88FJ",
        "colab_type": "text"
      },
      "source": [
        "## Two-sample t-test"
      ]
    },
    {
      "cell_type": "code",
      "metadata": {
        "id": "ibmMGXFy9FdV",
        "colab_type": "code",
        "colab": {
          "base_uri": "https://localhost:8080/",
          "height": 343
        },
        "outputId": "ade63f6c-0877-41bc-8421-60e7a8e69a4e"
      },
      "source": [
        "lib.sample(10)"
      ],
      "execution_count": 90,
      "outputs": [
        {
          "output_type": "execute_result",
          "data": {
            "text/html": [
              "<div>\n",
              "<style scoped>\n",
              "    .dataframe tbody tr th:only-of-type {\n",
              "        vertical-align: middle;\n",
              "    }\n",
              "\n",
              "    .dataframe tbody tr th {\n",
              "        vertical-align: top;\n",
              "    }\n",
              "\n",
              "    .dataframe thead th {\n",
              "        text-align: right;\n",
              "    }\n",
              "</style>\n",
              "<table border=\"1\" class=\"dataframe\">\n",
              "  <thead>\n",
              "    <tr style=\"text-align: right;\">\n",
              "      <th></th>\n",
              "      <th>age_group</th>\n",
              "      <th>dose</th>\n",
              "      <th>libido</th>\n",
              "    </tr>\n",
              "  </thead>\n",
              "  <tbody>\n",
              "    <tr>\n",
              "      <th>9</th>\n",
              "      <td>45-65</td>\n",
              "      <td>low</td>\n",
              "      <td>3</td>\n",
              "    </tr>\n",
              "    <tr>\n",
              "      <th>13</th>\n",
              "      <td>18-30</td>\n",
              "      <td>high</td>\n",
              "      <td>3</td>\n",
              "    </tr>\n",
              "    <tr>\n",
              "      <th>8</th>\n",
              "      <td>18-30</td>\n",
              "      <td>low</td>\n",
              "      <td>2</td>\n",
              "    </tr>\n",
              "    <tr>\n",
              "      <th>5</th>\n",
              "      <td>45-65</td>\n",
              "      <td>low</td>\n",
              "      <td>5</td>\n",
              "    </tr>\n",
              "    <tr>\n",
              "      <th>0</th>\n",
              "      <td>18-30</td>\n",
              "      <td>placebo</td>\n",
              "      <td>3</td>\n",
              "    </tr>\n",
              "    <tr>\n",
              "      <th>2</th>\n",
              "      <td>30-45</td>\n",
              "      <td>placebo</td>\n",
              "      <td>1</td>\n",
              "    </tr>\n",
              "    <tr>\n",
              "      <th>3</th>\n",
              "      <td>30-45</td>\n",
              "      <td>placebo</td>\n",
              "      <td>1</td>\n",
              "    </tr>\n",
              "    <tr>\n",
              "      <th>10</th>\n",
              "      <td>45-65</td>\n",
              "      <td>high</td>\n",
              "      <td>7</td>\n",
              "    </tr>\n",
              "    <tr>\n",
              "      <th>6</th>\n",
              "      <td>18-30</td>\n",
              "      <td>low</td>\n",
              "      <td>2</td>\n",
              "    </tr>\n",
              "    <tr>\n",
              "      <th>14</th>\n",
              "      <td>18-30</td>\n",
              "      <td>high</td>\n",
              "      <td>6</td>\n",
              "    </tr>\n",
              "  </tbody>\n",
              "</table>\n",
              "</div>"
            ],
            "text/plain": [
              "   age_group     dose  libido\n",
              "9      45-65      low       3\n",
              "13     18-30     high       3\n",
              "8      18-30      low       2\n",
              "5      45-65      low       5\n",
              "0      18-30  placebo       3\n",
              "2      30-45  placebo       1\n",
              "3      30-45  placebo       1\n",
              "10     45-65     high       7\n",
              "6      18-30      low       2\n",
              "14     18-30     high       6"
            ]
          },
          "metadata": {
            "tags": []
          },
          "execution_count": 90
        }
      ]
    },
    {
      "cell_type": "markdown",
      "metadata": {
        "id": "9d231Ier9HQt",
        "colab_type": "text"
      },
      "source": [
        "Before we get to ANOVA, we'll do a t-test of placebo vs. andy dose \n",
        "\n",
        "We can create a new column named \"placebo\" for this "
      ]
    },
    {
      "cell_type": "code",
      "metadata": {
        "id": "ycMK7JDk9cNb",
        "colab_type": "code",
        "colab": {
          "base_uri": "https://localhost:8080/",
          "height": 195
        },
        "outputId": "9942efbf-4bfc-4e8b-e099-c791c5203020"
      },
      "source": [
        "lib[\"placebo\"] = lib[\"dose\"] == \"placebo\"\n",
        "lib.head()"
      ],
      "execution_count": 92,
      "outputs": [
        {
          "output_type": "execute_result",
          "data": {
            "text/html": [
              "<div>\n",
              "<style scoped>\n",
              "    .dataframe tbody tr th:only-of-type {\n",
              "        vertical-align: middle;\n",
              "    }\n",
              "\n",
              "    .dataframe tbody tr th {\n",
              "        vertical-align: top;\n",
              "    }\n",
              "\n",
              "    .dataframe thead th {\n",
              "        text-align: right;\n",
              "    }\n",
              "</style>\n",
              "<table border=\"1\" class=\"dataframe\">\n",
              "  <thead>\n",
              "    <tr style=\"text-align: right;\">\n",
              "      <th></th>\n",
              "      <th>age_group</th>\n",
              "      <th>dose</th>\n",
              "      <th>libido</th>\n",
              "      <th>placebo</th>\n",
              "    </tr>\n",
              "  </thead>\n",
              "  <tbody>\n",
              "    <tr>\n",
              "      <th>0</th>\n",
              "      <td>18-30</td>\n",
              "      <td>placebo</td>\n",
              "      <td>3</td>\n",
              "      <td>True</td>\n",
              "    </tr>\n",
              "    <tr>\n",
              "      <th>1</th>\n",
              "      <td>30-45</td>\n",
              "      <td>placebo</td>\n",
              "      <td>2</td>\n",
              "      <td>True</td>\n",
              "    </tr>\n",
              "    <tr>\n",
              "      <th>2</th>\n",
              "      <td>30-45</td>\n",
              "      <td>placebo</td>\n",
              "      <td>1</td>\n",
              "      <td>True</td>\n",
              "    </tr>\n",
              "    <tr>\n",
              "      <th>3</th>\n",
              "      <td>30-45</td>\n",
              "      <td>placebo</td>\n",
              "      <td>1</td>\n",
              "      <td>True</td>\n",
              "    </tr>\n",
              "    <tr>\n",
              "      <th>4</th>\n",
              "      <td>18-30</td>\n",
              "      <td>placebo</td>\n",
              "      <td>4</td>\n",
              "      <td>True</td>\n",
              "    </tr>\n",
              "  </tbody>\n",
              "</table>\n",
              "</div>"
            ],
            "text/plain": [
              "  age_group     dose  libido  placebo\n",
              "0     18-30  placebo       3     True\n",
              "1     30-45  placebo       2     True\n",
              "2     30-45  placebo       1     True\n",
              "3     30-45  placebo       1     True\n",
              "4     18-30  placebo       4     True"
            ]
          },
          "metadata": {
            "tags": []
          },
          "execution_count": 92
        }
      ]
    },
    {
      "cell_type": "markdown",
      "metadata": {
        "id": "AkUHFUOV9xd-",
        "colab_type": "text"
      },
      "source": [
        "Let's do the t-test now\n",
        "\n",
        "Null Hypothesis (H0): \n",
        "- The average libido is the same in the placebo/ non-placebo group\n",
        "\n",
        "Alternative Hypothesis (H1):\n",
        "- The averages are different"
      ]
    },
    {
      "cell_type": "code",
      "metadata": {
        "id": "tVVukTfH9gCj",
        "colab_type": "code",
        "colab": {
          "base_uri": "https://localhost:8080/",
          "height": 34
        },
        "outputId": "a9a2d4a7-b456-44fb-f1f4-10d0e9b5665d"
      },
      "source": [
        "from scipy.stats import ttest_ind\n",
        "ttest_ind(lib.loc[lib[\"dose\"] == \"placebo\", \"libido\"],\n",
        "          lib.loc[lib[\"dose\"] != \"placebo\", \"libido\"])"
      ],
      "execution_count": 94,
      "outputs": [
        {
          "output_type": "execute_result",
          "data": {
            "text/plain": [
              "Ttest_indResult(statistic=-2.221442204498801, pvalue=0.04469997916031026)"
            ]
          },
          "metadata": {
            "tags": []
          },
          "execution_count": 94
        }
      ]
    },
    {
      "cell_type": "markdown",
      "metadata": {
        "id": "qtg8UaYj-PBE",
        "colab_type": "text"
      },
      "source": [
        "The second attribute \"pvalue\" is below 0.05 which means that if the averages were the same (drug has no effect), results (a dataset) as extreme as this is unlikely (less than 5% probable)\n",
        "\n",
        "This alone does NOT tell us that the drug causes a higher/ lower libido (We can infer that from the study design though)"
      ]
    },
    {
      "cell_type": "markdown",
      "metadata": {
        "id": "C873f2dK-_oF",
        "colab_type": "text"
      },
      "source": [
        "Here's another way of performing the t-test"
      ]
    },
    {
      "cell_type": "code",
      "metadata": {
        "id": "112Dnxer9vIj",
        "colab_type": "code",
        "colab": {
          "base_uri": "https://localhost:8080/",
          "height": 34
        },
        "outputId": "0cd079cb-6854-4ac4-dbf1-00db61d33eab"
      },
      "source": [
        "ttest_ind(lib.loc[lib[\"placebo\"], \"libido\"], lib.loc[~lib[\"placebo\"], \"libido\"])"
      ],
      "execution_count": 96,
      "outputs": [
        {
          "output_type": "execute_result",
          "data": {
            "text/plain": [
              "Ttest_indResult(statistic=-2.221442204498801, pvalue=0.04469997916031026)"
            ]
          },
          "metadata": {
            "tags": []
          },
          "execution_count": 96
        }
      ]
    },
    {
      "cell_type": "markdown",
      "metadata": {
        "id": "Sf2e7FPT-9Oa",
        "colab_type": "text"
      },
      "source": [
        "Side note: the assumptions for a t test are:\n",
        "\n",
        "- one discrete (categorial) independent variable with two levels (check - we used 'placebo')\n",
        "- one continuous (metric) dependent variable (check - we used 'libido')\n",
        "- independent samples (check - each person appears in one or the other group not both)\n",
        "- the dependent variable is normally distributed within each group (we didn't check but could have used the `Shapiro-Wilks test` or a `Q-Q plot`)\n",
        "- homoscedasticity: variances are equal within each group (we didn't check but could have used `Levene's test` for equality)"
      ]
    },
    {
      "cell_type": "markdown",
      "metadata": {
        "id": "RzNK-_T0_ZC8",
        "colab_type": "text"
      },
      "source": [
        "If the variances are unequal, we could have used `Welch's t-test`:"
      ]
    },
    {
      "cell_type": "code",
      "metadata": {
        "id": "gEfDm3CT_dYu",
        "colab_type": "code",
        "colab": {
          "base_uri": "https://localhost:8080/",
          "height": 34
        },
        "outputId": "9f900ed1-388c-478d-ea0f-f9d47b7d0e19"
      },
      "source": [
        "ttest_ind(lib.loc[lib[\"placebo\"], \"libido\"],\n",
        "          lib.loc[~lib[\"placebo\"], \"libido\"], \n",
        "          equal_var = False)"
      ],
      "execution_count": 97,
      "outputs": [
        {
          "output_type": "execute_result",
          "data": {
            "text/plain": [
              "Ttest_indResult(statistic=-2.4195152518746497, pvalue=0.0357190765601339)"
            ]
          },
          "metadata": {
            "tags": []
          },
          "execution_count": 97
        }
      ]
    },
    {
      "cell_type": "markdown",
      "metadata": {
        "id": "jFVkF-ra_qcq",
        "colab_type": "text"
      },
      "source": [
        "# One-way ANOVA\n",
        "\n",
        "We'll use the original levels of the variable 'dose' for this.\n",
        "\n",
        "We'll use the library scipy for our ANOVA"
      ]
    },
    {
      "cell_type": "code",
      "metadata": {
        "id": "n_HWjS2TAu7t",
        "colab_type": "code",
        "colab": {
          "base_uri": "https://localhost:8080/",
          "height": 34
        },
        "outputId": "66a914ac-cb5c-42c0-ab97-f10437b2ad5d"
      },
      "source": [
        "import scipy.stats as stats\n",
        "\n",
        "stats.f_oneway(lib[\"libido\"][lib[\"dose\"] == \"high\"],\n",
        "               lib[\"libido\"][lib[\"dose\"] == \"low\"],\n",
        "               lib[\"libido\"][lib[\"dose\"] == \"placebo\"])"
      ],
      "execution_count": 98,
      "outputs": [
        {
          "output_type": "execute_result",
          "data": {
            "text/plain": [
              "F_onewayResult(statistic=5.11864406779661, pvalue=0.024694289538222603)"
            ]
          },
          "metadata": {
            "tags": []
          },
          "execution_count": 98
        }
      ]
    },
    {
      "cell_type": "markdown",
      "metadata": {
        "id": "KQUdrtgRAs4h",
        "colab_type": "text"
      },
      "source": [
        "The p-value is less than 5%, indicating that there is a significant difference in means between at least two groups; \n",
        "\n",
        "i.e. dose has some effect on libido, although it is not clear in what way exactly:\n",
        "- is there a significant increase / decrease from low dose to high dose?\n",
        "- or from placebo to low dose? \n",
        "\n",
        "To get an answer to these questions we would have to use a `post hoc test` \n",
        "(most commonly `Tukey's test for pairwise differences`)"
      ]
    },
    {
      "cell_type": "markdown",
      "metadata": {
        "id": "oMMEPNfXBj8i",
        "colab_type": "text"
      },
      "source": [
        "As an alternative to scipy, we can do an ANOVA using statsmodels\n",
        "\n",
        "This gives us much more information ad does additional tests on the model assumptions \n",
        "\n",
        "`Prob (F-statistic)` is the p-value and less than 5% means that it is => significant"
      ]
    },
    {
      "cell_type": "code",
      "metadata": {
        "id": "UYPhQaYuBfg0",
        "colab_type": "code",
        "colab": {
          "base_uri": "https://localhost:8080/",
          "height": 499
        },
        "outputId": "e8e9e37c-f133-4fd5-acd1-4536c65eb9d2"
      },
      "source": [
        "from statsmodels.formula.api import ols\n",
        "\n",
        "results = ols(\"libido ~ C(dose)\", data=lib).fit()\n",
        "results.summary()"
      ],
      "execution_count": 101,
      "outputs": [
        {
          "output_type": "stream",
          "text": [
            "/usr/local/lib/python3.6/dist-packages/scipy/stats/stats.py:1535: UserWarning: kurtosistest only valid for n>=20 ... continuing anyway, n=15\n",
            "  \"anyway, n=%i\" % int(n))\n"
          ],
          "name": "stderr"
        },
        {
          "output_type": "execute_result",
          "data": {
            "text/html": [
              "<table class=\"simpletable\">\n",
              "<caption>OLS Regression Results</caption>\n",
              "<tr>\n",
              "  <th>Dep. Variable:</th>         <td>libido</td>      <th>  R-squared:         </th> <td>   0.460</td>\n",
              "</tr>\n",
              "<tr>\n",
              "  <th>Model:</th>                   <td>OLS</td>       <th>  Adj. R-squared:    </th> <td>   0.370</td>\n",
              "</tr>\n",
              "<tr>\n",
              "  <th>Method:</th>             <td>Least Squares</td>  <th>  F-statistic:       </th> <td>   5.119</td>\n",
              "</tr>\n",
              "<tr>\n",
              "  <th>Date:</th>             <td>Tue, 19 May 2020</td> <th>  Prob (F-statistic):</th>  <td>0.0247</td> \n",
              "</tr>\n",
              "<tr>\n",
              "  <th>Time:</th>                 <td>17:43:05</td>     <th>  Log-Likelihood:    </th> <td> -24.683</td>\n",
              "</tr>\n",
              "<tr>\n",
              "  <th>No. Observations:</th>      <td>    15</td>      <th>  AIC:               </th> <td>   55.37</td>\n",
              "</tr>\n",
              "<tr>\n",
              "  <th>Df Residuals:</th>          <td>    12</td>      <th>  BIC:               </th> <td>   57.49</td>\n",
              "</tr>\n",
              "<tr>\n",
              "  <th>Df Model:</th>              <td>     2</td>      <th>                     </th>     <td> </td>   \n",
              "</tr>\n",
              "<tr>\n",
              "  <th>Covariance Type:</th>      <td>nonrobust</td>    <th>                     </th>     <td> </td>   \n",
              "</tr>\n",
              "</table>\n",
              "<table class=\"simpletable\">\n",
              "<tr>\n",
              "           <td></td>             <th>coef</th>     <th>std err</th>      <th>t</th>      <th>P>|t|</th>  <th>[0.025</th>    <th>0.975]</th>  \n",
              "</tr>\n",
              "<tr>\n",
              "  <th>Intercept</th>          <td>    5.0000</td> <td>    0.627</td> <td>    7.972</td> <td> 0.000</td> <td>    3.634</td> <td>    6.366</td>\n",
              "</tr>\n",
              "<tr>\n",
              "  <th>C(dose)[T.low]</th>     <td>   -1.8000</td> <td>    0.887</td> <td>   -2.029</td> <td> 0.065</td> <td>   -3.732</td> <td>    0.132</td>\n",
              "</tr>\n",
              "<tr>\n",
              "  <th>C(dose)[T.placebo]</th> <td>   -2.8000</td> <td>    0.887</td> <td>   -3.157</td> <td> 0.008</td> <td>   -4.732</td> <td>   -0.868</td>\n",
              "</tr>\n",
              "</table>\n",
              "<table class=\"simpletable\">\n",
              "<tr>\n",
              "  <th>Omnibus:</th>       <td> 2.517</td> <th>  Durbin-Watson:     </th> <td>   2.408</td>\n",
              "</tr>\n",
              "<tr>\n",
              "  <th>Prob(Omnibus):</th> <td> 0.284</td> <th>  Jarque-Bera (JB):  </th> <td>   1.108</td>\n",
              "</tr>\n",
              "<tr>\n",
              "  <th>Skew:</th>          <td> 0.195</td> <th>  Prob(JB):          </th> <td>   0.575</td>\n",
              "</tr>\n",
              "<tr>\n",
              "  <th>Kurtosis:</th>      <td> 1.727</td> <th>  Cond. No.          </th> <td>    3.73</td>\n",
              "</tr>\n",
              "</table><br/><br/>Warnings:<br/>[1] Standard Errors assume that the covariance matrix of the errors is correctly specified."
            ],
            "text/plain": [
              "<class 'statsmodels.iolib.summary.Summary'>\n",
              "\"\"\"\n",
              "                            OLS Regression Results                            \n",
              "==============================================================================\n",
              "Dep. Variable:                 libido   R-squared:                       0.460\n",
              "Model:                            OLS   Adj. R-squared:                  0.370\n",
              "Method:                 Least Squares   F-statistic:                     5.119\n",
              "Date:                Tue, 19 May 2020   Prob (F-statistic):             0.0247\n",
              "Time:                        17:43:05   Log-Likelihood:                -24.683\n",
              "No. Observations:                  15   AIC:                             55.37\n",
              "Df Residuals:                      12   BIC:                             57.49\n",
              "Df Model:                           2                                         \n",
              "Covariance Type:            nonrobust                                         \n",
              "======================================================================================\n",
              "                         coef    std err          t      P>|t|      [0.025      0.975]\n",
              "--------------------------------------------------------------------------------------\n",
              "Intercept              5.0000      0.627      7.972      0.000       3.634       6.366\n",
              "C(dose)[T.low]        -1.8000      0.887     -2.029      0.065      -3.732       0.132\n",
              "C(dose)[T.placebo]    -2.8000      0.887     -3.157      0.008      -4.732      -0.868\n",
              "==============================================================================\n",
              "Omnibus:                        2.517   Durbin-Watson:                   2.408\n",
              "Prob(Omnibus):                  0.284   Jarque-Bera (JB):                1.108\n",
              "Skew:                           0.195   Prob(JB):                        0.575\n",
              "Kurtosis:                       1.727   Cond. No.                         3.73\n",
              "==============================================================================\n",
              "\n",
              "Warnings:\n",
              "[1] Standard Errors assume that the covariance matrix of the errors is correctly specified.\n",
              "\"\"\""
            ]
          },
          "metadata": {
            "tags": []
          },
          "execution_count": 101
        }
      ]
    },
    {
      "cell_type": "markdown",
      "metadata": {
        "id": "mvaFjgcUB_9w",
        "colab_type": "text"
      },
      "source": [
        "To get more information, we can take a look at the ANOVA table:\n",
        "- the column gives us the `variance explained by the variable dose (20.133)`\n",
        "- and the `unsystematic variance (23.6)` that cannot be explained by dose, \n",
        "- i.e. due to individual differences or other factors\n",
        "\n",
        "`In total we can explain about 40% of the total variance: R^2 = 20.133 / (20.133 + 23.6)`"
      ]
    },
    {
      "cell_type": "code",
      "metadata": {
        "id": "UR5qF09aCdxD",
        "colab_type": "code",
        "colab": {
          "base_uri": "https://localhost:8080/",
          "height": 106
        },
        "outputId": "eb9ef925-67b6-43c6-d75f-442abb9d719e"
      },
      "source": [
        "import statsmodels.api as sm\n",
        "\n",
        "aov_table = sm.stats.anova_lm(results, typ=2)\n",
        "aov_table"
      ],
      "execution_count": 103,
      "outputs": [
        {
          "output_type": "execute_result",
          "data": {
            "text/html": [
              "<div>\n",
              "<style scoped>\n",
              "    .dataframe tbody tr th:only-of-type {\n",
              "        vertical-align: middle;\n",
              "    }\n",
              "\n",
              "    .dataframe tbody tr th {\n",
              "        vertical-align: top;\n",
              "    }\n",
              "\n",
              "    .dataframe thead th {\n",
              "        text-align: right;\n",
              "    }\n",
              "</style>\n",
              "<table border=\"1\" class=\"dataframe\">\n",
              "  <thead>\n",
              "    <tr style=\"text-align: right;\">\n",
              "      <th></th>\n",
              "      <th>sum_sq</th>\n",
              "      <th>df</th>\n",
              "      <th>F</th>\n",
              "      <th>PR(&gt;F)</th>\n",
              "    </tr>\n",
              "  </thead>\n",
              "  <tbody>\n",
              "    <tr>\n",
              "      <th>C(dose)</th>\n",
              "      <td>20.133333</td>\n",
              "      <td>2.0</td>\n",
              "      <td>5.118644</td>\n",
              "      <td>0.024694</td>\n",
              "    </tr>\n",
              "    <tr>\n",
              "      <th>Residual</th>\n",
              "      <td>23.600000</td>\n",
              "      <td>12.0</td>\n",
              "      <td>NaN</td>\n",
              "      <td>NaN</td>\n",
              "    </tr>\n",
              "  </tbody>\n",
              "</table>\n",
              "</div>"
            ],
            "text/plain": [
              "             sum_sq    df         F    PR(>F)\n",
              "C(dose)   20.133333   2.0  5.118644  0.024694\n",
              "Residual  23.600000  12.0       NaN       NaN"
            ]
          },
          "metadata": {
            "tags": []
          },
          "execution_count": 103
        }
      ]
    },
    {
      "cell_type": "markdown",
      "metadata": {
        "id": "lr0RbhxnCyDY",
        "colab_type": "text"
      },
      "source": [
        "# Two-way ANOVA\n",
        "for a two-way ANOVA we use a model that includes `two IVs, dose and age group`\n",
        "\n",
        "- the result shows that there is no significant difference between groups;\n",
        "- this is because the ANOVA has to account for false positives which are more common the more IVs and levels are in the data"
      ]
    },
    {
      "cell_type": "code",
      "metadata": {
        "id": "MSgiK3gCDUOU",
        "colab_type": "code",
        "colab": {
          "base_uri": "https://localhost:8080/",
          "height": 195
        },
        "outputId": "3ae1e87c-c919-4348-f94f-fa622e4c8113"
      },
      "source": [
        "lib.head()"
      ],
      "execution_count": 104,
      "outputs": [
        {
          "output_type": "execute_result",
          "data": {
            "text/html": [
              "<div>\n",
              "<style scoped>\n",
              "    .dataframe tbody tr th:only-of-type {\n",
              "        vertical-align: middle;\n",
              "    }\n",
              "\n",
              "    .dataframe tbody tr th {\n",
              "        vertical-align: top;\n",
              "    }\n",
              "\n",
              "    .dataframe thead th {\n",
              "        text-align: right;\n",
              "    }\n",
              "</style>\n",
              "<table border=\"1\" class=\"dataframe\">\n",
              "  <thead>\n",
              "    <tr style=\"text-align: right;\">\n",
              "      <th></th>\n",
              "      <th>age_group</th>\n",
              "      <th>dose</th>\n",
              "      <th>libido</th>\n",
              "      <th>placebo</th>\n",
              "    </tr>\n",
              "  </thead>\n",
              "  <tbody>\n",
              "    <tr>\n",
              "      <th>0</th>\n",
              "      <td>18-30</td>\n",
              "      <td>placebo</td>\n",
              "      <td>3</td>\n",
              "      <td>True</td>\n",
              "    </tr>\n",
              "    <tr>\n",
              "      <th>1</th>\n",
              "      <td>30-45</td>\n",
              "      <td>placebo</td>\n",
              "      <td>2</td>\n",
              "      <td>True</td>\n",
              "    </tr>\n",
              "    <tr>\n",
              "      <th>2</th>\n",
              "      <td>30-45</td>\n",
              "      <td>placebo</td>\n",
              "      <td>1</td>\n",
              "      <td>True</td>\n",
              "    </tr>\n",
              "    <tr>\n",
              "      <th>3</th>\n",
              "      <td>30-45</td>\n",
              "      <td>placebo</td>\n",
              "      <td>1</td>\n",
              "      <td>True</td>\n",
              "    </tr>\n",
              "    <tr>\n",
              "      <th>4</th>\n",
              "      <td>18-30</td>\n",
              "      <td>placebo</td>\n",
              "      <td>4</td>\n",
              "      <td>True</td>\n",
              "    </tr>\n",
              "  </tbody>\n",
              "</table>\n",
              "</div>"
            ],
            "text/plain": [
              "  age_group     dose  libido  placebo\n",
              "0     18-30  placebo       3     True\n",
              "1     30-45  placebo       2     True\n",
              "2     30-45  placebo       1     True\n",
              "3     30-45  placebo       1     True\n",
              "4     18-30  placebo       4     True"
            ]
          },
          "metadata": {
            "tags": []
          },
          "execution_count": 104
        }
      ]
    },
    {
      "cell_type": "code",
      "metadata": {
        "id": "RWLJTgU6DL5j",
        "colab_type": "code",
        "colab": {
          "base_uri": "https://localhost:8080/",
          "height": 821
        },
        "outputId": "f28587fd-d6b0-43a6-a5f5-00fe692d9ada"
      },
      "source": [
        "ols(\"libido ~C(dose)*C(age_group)\", lib). fit().summary()"
      ],
      "execution_count": 107,
      "outputs": [
        {
          "output_type": "stream",
          "text": [
            "/usr/local/lib/python3.6/dist-packages/scipy/stats/stats.py:1535: UserWarning: kurtosistest only valid for n>=20 ... continuing anyway, n=15\n",
            "  \"anyway, n=%i\" % int(n))\n",
            "/usr/local/lib/python3.6/dist-packages/statsmodels/regression/linear_model.py:1755: RuntimeWarning: divide by zero encountered in double_scalars\n",
            "  return np.sqrt(eigvals[0]/eigvals[-1])\n",
            "/usr/local/lib/python3.6/dist-packages/statsmodels/base/model.py:1294: RuntimeWarning: invalid value encountered in true_divide\n",
            "  return self.params / self.bse\n",
            "/usr/local/lib/python3.6/dist-packages/scipy/stats/_distn_infrastructure.py:903: RuntimeWarning: invalid value encountered in greater\n",
            "  return (a < x) & (x < b)\n",
            "/usr/local/lib/python3.6/dist-packages/scipy/stats/_distn_infrastructure.py:903: RuntimeWarning: invalid value encountered in less\n",
            "  return (a < x) & (x < b)\n",
            "/usr/local/lib/python3.6/dist-packages/scipy/stats/_distn_infrastructure.py:1912: RuntimeWarning: invalid value encountered in less_equal\n",
            "  cond2 = cond0 & (x <= _a)\n"
          ],
          "name": "stderr"
        },
        {
          "output_type": "execute_result",
          "data": {
            "text/html": [
              "<table class=\"simpletable\">\n",
              "<caption>OLS Regression Results</caption>\n",
              "<tr>\n",
              "  <th>Dep. Variable:</th>         <td>libido</td>      <th>  R-squared:         </th> <td>   0.657</td>\n",
              "</tr>\n",
              "<tr>\n",
              "  <th>Model:</th>                   <td>OLS</td>       <th>  Adj. R-squared:    </th> <td>   0.466</td>\n",
              "</tr>\n",
              "<tr>\n",
              "  <th>Method:</th>             <td>Least Squares</td>  <th>  F-statistic:       </th> <td>   3.448</td>\n",
              "</tr>\n",
              "<tr>\n",
              "  <th>Date:</th>             <td>Tue, 19 May 2020</td> <th>  Prob (F-statistic):</th>  <td>0.0513</td> \n",
              "</tr>\n",
              "<tr>\n",
              "  <th>Time:</th>                 <td>17:49:52</td>     <th>  Log-Likelihood:    </th> <td> -21.284</td>\n",
              "</tr>\n",
              "<tr>\n",
              "  <th>No. Observations:</th>      <td>    15</td>      <th>  AIC:               </th> <td>   54.57</td>\n",
              "</tr>\n",
              "<tr>\n",
              "  <th>Df Residuals:</th>          <td>     9</td>      <th>  BIC:               </th> <td>   58.82</td>\n",
              "</tr>\n",
              "<tr>\n",
              "  <th>Df Model:</th>              <td>     5</td>      <th>                     </th>     <td> </td>   \n",
              "</tr>\n",
              "<tr>\n",
              "  <th>Covariance Type:</th>      <td>nonrobust</td>    <th>                     </th>     <td> </td>   \n",
              "</tr>\n",
              "</table>\n",
              "<table class=\"simpletable\">\n",
              "<tr>\n",
              "                      <td></td>                        <th>coef</th>     <th>std err</th>      <th>t</th>      <th>P>|t|</th>  <th>[0.025</th>    <th>0.975]</th>  \n",
              "</tr>\n",
              "<tr>\n",
              "  <th>Intercept</th>                                <td>    4.5000</td> <td>    0.913</td> <td>    4.930</td> <td> 0.001</td> <td>    2.435</td> <td>    6.565</td>\n",
              "</tr>\n",
              "<tr>\n",
              "  <th>C(dose)[T.low]</th>                           <td>   -1.8333</td> <td>    1.179</td> <td>   -1.556</td> <td> 0.154</td> <td>   -4.499</td> <td>    0.833</td>\n",
              "</tr>\n",
              "<tr>\n",
              "  <th>C(dose)[T.placebo]</th>                       <td>   -1.0000</td> <td>    1.291</td> <td>   -0.775</td> <td> 0.458</td> <td>   -3.920</td> <td>    1.920</td>\n",
              "</tr>\n",
              "<tr>\n",
              "  <th>C(age_group)[T.30-45]</th>                    <td>   -1.0833</td> <td>    0.589</td> <td>   -1.838</td> <td> 0.099</td> <td>   -2.416</td> <td>    0.250</td>\n",
              "</tr>\n",
              "<tr>\n",
              "  <th>C(age_group)[T.45-65]</th>                    <td>    0.8333</td> <td>    1.179</td> <td>    0.707</td> <td> 0.497</td> <td>   -1.833</td> <td>    3.499</td>\n",
              "</tr>\n",
              "<tr>\n",
              "  <th>C(dose)[T.low]:C(age_group)[T.30-45]</th>     <td> 4.187e-16</td> <td> 1.66e-16</td> <td>    2.530</td> <td> 0.032</td> <td> 4.43e-17</td> <td> 7.93e-16</td>\n",
              "</tr>\n",
              "<tr>\n",
              "  <th>C(dose)[T.placebo]:C(age_group)[T.30-45]</th> <td>   -1.0833</td> <td>    0.589</td> <td>   -1.838</td> <td> 0.099</td> <td>   -2.416</td> <td>    0.250</td>\n",
              "</tr>\n",
              "<tr>\n",
              "  <th>C(dose)[T.low]:C(age_group)[T.45-65]</th>     <td>    0.5000</td> <td>    1.667</td> <td>    0.300</td> <td> 0.771</td> <td>   -3.270</td> <td>    4.270</td>\n",
              "</tr>\n",
              "<tr>\n",
              "  <th>C(dose)[T.placebo]:C(age_group)[T.45-65]</th> <td>         0</td> <td>        0</td> <td>      nan</td> <td>   nan</td> <td>        0</td> <td>        0</td>\n",
              "</tr>\n",
              "</table>\n",
              "<table class=\"simpletable\">\n",
              "<tr>\n",
              "  <th>Omnibus:</th>       <td> 2.149</td> <th>  Durbin-Watson:     </th> <td>   2.778</td>\n",
              "</tr>\n",
              "<tr>\n",
              "  <th>Prob(Omnibus):</th> <td> 0.341</td> <th>  Jarque-Bera (JB):  </th> <td>   1.106</td>\n",
              "</tr>\n",
              "<tr>\n",
              "  <th>Skew:</th>          <td> 0.281</td> <th>  Prob(JB):          </th> <td>   0.575</td>\n",
              "</tr>\n",
              "<tr>\n",
              "  <th>Kurtosis:</th>      <td> 1.794</td> <th>  Cond. No.          </th> <td>     inf</td>\n",
              "</tr>\n",
              "</table><br/><br/>Warnings:<br/>[1] Standard Errors assume that the covariance matrix of the errors is correctly specified.<br/>[2] The smallest eigenvalue is      0. This might indicate that there are<br/>strong multicollinearity problems or that the design matrix is singular."
            ],
            "text/plain": [
              "<class 'statsmodels.iolib.summary.Summary'>\n",
              "\"\"\"\n",
              "                            OLS Regression Results                            \n",
              "==============================================================================\n",
              "Dep. Variable:                 libido   R-squared:                       0.657\n",
              "Model:                            OLS   Adj. R-squared:                  0.466\n",
              "Method:                 Least Squares   F-statistic:                     3.448\n",
              "Date:                Tue, 19 May 2020   Prob (F-statistic):             0.0513\n",
              "Time:                        17:49:52   Log-Likelihood:                -21.284\n",
              "No. Observations:                  15   AIC:                             54.57\n",
              "Df Residuals:                       9   BIC:                             58.82\n",
              "Df Model:                           5                                         \n",
              "Covariance Type:            nonrobust                                         \n",
              "============================================================================================================\n",
              "                                               coef    std err          t      P>|t|      [0.025      0.975]\n",
              "------------------------------------------------------------------------------------------------------------\n",
              "Intercept                                    4.5000      0.913      4.930      0.001       2.435       6.565\n",
              "C(dose)[T.low]                              -1.8333      1.179     -1.556      0.154      -4.499       0.833\n",
              "C(dose)[T.placebo]                          -1.0000      1.291     -0.775      0.458      -3.920       1.920\n",
              "C(age_group)[T.30-45]                       -1.0833      0.589     -1.838      0.099      -2.416       0.250\n",
              "C(age_group)[T.45-65]                        0.8333      1.179      0.707      0.497      -1.833       3.499\n",
              "C(dose)[T.low]:C(age_group)[T.30-45]      4.187e-16   1.66e-16      2.530      0.032    4.43e-17    7.93e-16\n",
              "C(dose)[T.placebo]:C(age_group)[T.30-45]    -1.0833      0.589     -1.838      0.099      -2.416       0.250\n",
              "C(dose)[T.low]:C(age_group)[T.45-65]         0.5000      1.667      0.300      0.771      -3.270       4.270\n",
              "C(dose)[T.placebo]:C(age_group)[T.45-65]          0          0        nan        nan           0           0\n",
              "==============================================================================\n",
              "Omnibus:                        2.149   Durbin-Watson:                   2.778\n",
              "Prob(Omnibus):                  0.341   Jarque-Bera (JB):                1.106\n",
              "Skew:                           0.281   Prob(JB):                        0.575\n",
              "Kurtosis:                       1.794   Cond. No.                          inf\n",
              "==============================================================================\n",
              "\n",
              "Warnings:\n",
              "[1] Standard Errors assume that the covariance matrix of the errors is correctly specified.\n",
              "[2] The smallest eigenvalue is      0. This might indicate that there are\n",
              "strong multicollinearity problems or that the design matrix is singular.\n",
              "\"\"\""
            ]
          },
          "metadata": {
            "tags": []
          },
          "execution_count": 107
        }
      ]
    },
    {
      "cell_type": "markdown",
      "metadata": {
        "id": "jSwFqCJ-Di4R",
        "colab_type": "text"
      },
      "source": [
        "# Exercise: t-test, one-way and two-way ANOVA with different dataset\n",
        "\n",
        "- Upload the `diets.csv` file\n",
        "- Load data set: each row represents a person that followed one of\n",
        "several diets for 6 weeks; \n",
        "- Other data includes age, gender, height and weight before and after \n",
        "were recorded"
      ]
    },
    {
      "cell_type": "code",
      "metadata": {
        "id": "zkzei_GcDsb3",
        "colab_type": "code",
        "colab": {
          "resources": {
            "http://localhost:8080/nbextensions/google.colab/files.js": {
              "data": "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",
              "ok": true,
              "headers": [
                [
                  "content-type",
                  "application/javascript"
                ]
              ],
              "status": 200,
              "status_text": ""
            }
          },
          "base_uri": "https://localhost:8080/",
          "height": 111
        },
        "outputId": "e6826493-960c-4e86-9600-4e41e8c7b58f"
      },
      "source": [
        "from google.colab import files\n",
        "\n",
        "files.upload()"
      ],
      "execution_count": 109,
      "outputs": [
        {
          "output_type": "display_data",
          "data": {
            "text/html": [
              "\n",
              "     <input type=\"file\" id=\"files-da0fe2ed-c90a-4057-ae38-cc0b4a229ddb\" name=\"files[]\" multiple disabled />\n",
              "     <output id=\"result-da0fe2ed-c90a-4057-ae38-cc0b4a229ddb\">\n",
              "      Upload widget is only available when the cell has been executed in the\n",
              "      current browser session. Please rerun this cell to enable.\n",
              "      </output>\n",
              "      <script src=\"/nbextensions/google.colab/files.js\"></script> "
            ],
            "text/plain": [
              "<IPython.core.display.HTML object>"
            ]
          },
          "metadata": {
            "tags": []
          }
        },
        {
          "output_type": "stream",
          "text": [
            "Saving diets.csv to diets (1).csv\n"
          ],
          "name": "stdout"
        },
        {
          "output_type": "execute_result",
          "data": {
            "text/plain": [
              "{'diets.csv': b'Person,gender,Age,Height,pre.weight,Diet,weight6weeks\\r\\n25, ,41,171,60,2,60\\r\\n26, ,32,174,103,2,103\\r\\n1,0,22,159,58,1,54.2\\r\\n2,0,46,192,60,1,54\\r\\n3,0,55,170,64,1,63.3\\r\\n4,0,33,171,64,1,61.1\\r\\n5,0,50,170,65,1,62.2\\r\\n6,0,50,201,66,1,64\\r\\n7,0,37,174,67,1,65\\r\\n8,0,28,176,69,1,60.5\\r\\n9,0,28,165,70,1,68.1\\r\\n10,0,45,165,70,1,66.9\\r\\n11,0,60,173,72,1,70.5\\r\\n12,0,48,156,72,1,69\\r\\n13,0,41,163,72,1,68.4\\r\\n14,0,37,167,82,1,81.1\\r\\n27,0,44,174,58,2,60.1\\r\\n28,0,37,172,58,2,56\\r\\n29,0,41,165,59,2,57.3\\r\\n30,0,43,171,61,2,56.7\\r\\n31,0,20,169,62,2,55\\r\\n32,0,51,174,63,2,62.4\\r\\n33,0,31,163,63,2,60.3\\r\\n34,0,54,173,63,2,59.4\\r\\n35,0,50,166,65,2,62\\r\\n36,0,48,163,66,2,64\\r\\n37,0,16,165,68,2,63.8\\r\\n38,0,37,167,68,2,63.3\\r\\n39,0,30,161,76,2,72.7\\r\\n40,0,29,169,77,2,77.5\\r\\n52,0,51,165,60,3,53\\r\\n53,0,35,169,62,3,56.4\\r\\n54,0,21,159,64,3,60.6\\r\\n55,0,22,169,65,3,58.2\\r\\n56,0,36,160,66,3,58.2\\r\\n57,0,20,169,67,3,61.6\\r\\n58,0,35,163,67,3,60.2\\r\\n59,0,45,155,69,3,61.8\\r\\n60,0,58,141,70,3,63\\r\\n61,0,37,170,70,3,62.7\\r\\n62,0,31,170,72,3,71.1\\r\\n63,0,35,171,72,3,64.4\\r\\n64,0,56,171,73,3,68.9\\r\\n65,0,48,153,75,3,68.7\\r\\n66,0,41,157,76,3,71\\r\\n15,1,39,168,71,1,71.6\\r\\n16,1,31,158,72,1,70.9\\r\\n17,1,40,173,74,1,69.5\\r\\n18,1,50,160,78,1,73.9\\r\\n19,1,43,162,80,1,71\\r\\n20,1,25,165,80,1,77.6\\r\\n21,1,52,177,83,1,79.1\\r\\n22,1,42,166,85,1,81.5\\r\\n23,1,39,166,87,1,81.9\\r\\n24,1,40,190,88,1,84.5\\r\\n41,1,51,191,71,2,66.8\\r\\n42,1,38,199,75,2,72.6\\r\\n43,1,54,196,75,2,69.2\\r\\n44,1,33,190,76,2,72.5\\r\\n45,1,45,160,78,2,72.7\\r\\n46,1,37,194,78,2,76.3\\r\\n47,1,44,163,79,2,73.6\\r\\n48,1,40,171,79,2,72.9\\r\\n49,1,37,198,79,2,71.1\\r\\n50,1,39,180,80,2,81.4\\r\\n51,1,31,182,80,2,75.7\\r\\n67,1,36,155,71,3,68.5\\r\\n68,1,47,179,73,3,72.1\\r\\n69,1,29,166,76,3,72.5\\r\\n70,1,37,173,78,3,77.5\\r\\n71,1,31,177,78,3,75.2\\r\\n72,1,26,179,78,3,69.4\\r\\n73,1,40,179,79,3,74.5\\r\\n74,1,35,183,83,3,80.2\\r\\n75,1,49,177,84,3,79.9\\r\\n76,1,28,164,85,3,79.7\\r\\n77,1,40,167,87,3,77.8\\r\\n78,1,51,175,88,3,81.9\\r\\n'}"
            ]
          },
          "metadata": {
            "tags": []
          },
          "execution_count": 109
        }
      ]
    },
    {
      "cell_type": "code",
      "metadata": {
        "id": "s5OMYzBdD81Z",
        "colab_type": "code",
        "colab": {
          "base_uri": "https://localhost:8080/",
          "height": 195
        },
        "outputId": "28365cf6-f38b-4ca0-e35b-827c0685f94e"
      },
      "source": [
        "diet = pd.read_csv(\"diets.csv\")\n",
        "diet.head()"
      ],
      "execution_count": 111,
      "outputs": [
        {
          "output_type": "execute_result",
          "data": {
            "text/html": [
              "<div>\n",
              "<style scoped>\n",
              "    .dataframe tbody tr th:only-of-type {\n",
              "        vertical-align: middle;\n",
              "    }\n",
              "\n",
              "    .dataframe tbody tr th {\n",
              "        vertical-align: top;\n",
              "    }\n",
              "\n",
              "    .dataframe thead th {\n",
              "        text-align: right;\n",
              "    }\n",
              "</style>\n",
              "<table border=\"1\" class=\"dataframe\">\n",
              "  <thead>\n",
              "    <tr style=\"text-align: right;\">\n",
              "      <th></th>\n",
              "      <th>Person</th>\n",
              "      <th>gender</th>\n",
              "      <th>Age</th>\n",
              "      <th>Height</th>\n",
              "      <th>pre.weight</th>\n",
              "      <th>Diet</th>\n",
              "      <th>weight6weeks</th>\n",
              "    </tr>\n",
              "  </thead>\n",
              "  <tbody>\n",
              "    <tr>\n",
              "      <th>0</th>\n",
              "      <td>25</td>\n",
              "      <td></td>\n",
              "      <td>41</td>\n",
              "      <td>171</td>\n",
              "      <td>60</td>\n",
              "      <td>2</td>\n",
              "      <td>60.0</td>\n",
              "    </tr>\n",
              "    <tr>\n",
              "      <th>1</th>\n",
              "      <td>26</td>\n",
              "      <td></td>\n",
              "      <td>32</td>\n",
              "      <td>174</td>\n",
              "      <td>103</td>\n",
              "      <td>2</td>\n",
              "      <td>103.0</td>\n",
              "    </tr>\n",
              "    <tr>\n",
              "      <th>2</th>\n",
              "      <td>1</td>\n",
              "      <td>0</td>\n",
              "      <td>22</td>\n",
              "      <td>159</td>\n",
              "      <td>58</td>\n",
              "      <td>1</td>\n",
              "      <td>54.2</td>\n",
              "    </tr>\n",
              "    <tr>\n",
              "      <th>3</th>\n",
              "      <td>2</td>\n",
              "      <td>0</td>\n",
              "      <td>46</td>\n",
              "      <td>192</td>\n",
              "      <td>60</td>\n",
              "      <td>1</td>\n",
              "      <td>54.0</td>\n",
              "    </tr>\n",
              "    <tr>\n",
              "      <th>4</th>\n",
              "      <td>3</td>\n",
              "      <td>0</td>\n",
              "      <td>55</td>\n",
              "      <td>170</td>\n",
              "      <td>64</td>\n",
              "      <td>1</td>\n",
              "      <td>63.3</td>\n",
              "    </tr>\n",
              "  </tbody>\n",
              "</table>\n",
              "</div>"
            ],
            "text/plain": [
              "   Person gender  Age  Height  pre.weight  Diet  weight6weeks\n",
              "0      25          41     171          60     2          60.0\n",
              "1      26          32     174         103     2         103.0\n",
              "2       1      0   22     159          58     1          54.2\n",
              "3       2      0   46     192          60     1          54.0\n",
              "4       3      0   55     170          64     1          63.3"
            ]
          },
          "metadata": {
            "tags": []
          },
          "execution_count": 111
        }
      ]
    },
    {
      "cell_type": "markdown",
      "metadata": {
        "id": "yAXvaDN1EP8X",
        "colab_type": "text"
      },
      "source": [
        "## Task1:\n",
        "Create a new column \"weight_loss\" which is the difference of pre weight and weight6weeks."
      ]
    },
    {
      "cell_type": "code",
      "metadata": {
        "id": "e_UAt6qqEdoF",
        "colab_type": "code",
        "colab": {
          "base_uri": "https://localhost:8080/",
          "height": 195
        },
        "outputId": "1ff5b9c1-3236-4ed6-a8c0-4e7cb8db0481"
      },
      "source": [
        "diet[\"weight_loss\"] = diet[\"weight6weeks\"] - diet[\"pre.weight\"]\n",
        "diet.head()"
      ],
      "execution_count": 112,
      "outputs": [
        {
          "output_type": "execute_result",
          "data": {
            "text/html": [
              "<div>\n",
              "<style scoped>\n",
              "    .dataframe tbody tr th:only-of-type {\n",
              "        vertical-align: middle;\n",
              "    }\n",
              "\n",
              "    .dataframe tbody tr th {\n",
              "        vertical-align: top;\n",
              "    }\n",
              "\n",
              "    .dataframe thead th {\n",
              "        text-align: right;\n",
              "    }\n",
              "</style>\n",
              "<table border=\"1\" class=\"dataframe\">\n",
              "  <thead>\n",
              "    <tr style=\"text-align: right;\">\n",
              "      <th></th>\n",
              "      <th>Person</th>\n",
              "      <th>gender</th>\n",
              "      <th>Age</th>\n",
              "      <th>Height</th>\n",
              "      <th>pre.weight</th>\n",
              "      <th>Diet</th>\n",
              "      <th>weight6weeks</th>\n",
              "      <th>weight_loss</th>\n",
              "    </tr>\n",
              "  </thead>\n",
              "  <tbody>\n",
              "    <tr>\n",
              "      <th>0</th>\n",
              "      <td>25</td>\n",
              "      <td></td>\n",
              "      <td>41</td>\n",
              "      <td>171</td>\n",
              "      <td>60</td>\n",
              "      <td>2</td>\n",
              "      <td>60.0</td>\n",
              "      <td>0.0</td>\n",
              "    </tr>\n",
              "    <tr>\n",
              "      <th>1</th>\n",
              "      <td>26</td>\n",
              "      <td></td>\n",
              "      <td>32</td>\n",
              "      <td>174</td>\n",
              "      <td>103</td>\n",
              "      <td>2</td>\n",
              "      <td>103.0</td>\n",
              "      <td>0.0</td>\n",
              "    </tr>\n",
              "    <tr>\n",
              "      <th>2</th>\n",
              "      <td>1</td>\n",
              "      <td>0</td>\n",
              "      <td>22</td>\n",
              "      <td>159</td>\n",
              "      <td>58</td>\n",
              "      <td>1</td>\n",
              "      <td>54.2</td>\n",
              "      <td>-3.8</td>\n",
              "    </tr>\n",
              "    <tr>\n",
              "      <th>3</th>\n",
              "      <td>2</td>\n",
              "      <td>0</td>\n",
              "      <td>46</td>\n",
              "      <td>192</td>\n",
              "      <td>60</td>\n",
              "      <td>1</td>\n",
              "      <td>54.0</td>\n",
              "      <td>-6.0</td>\n",
              "    </tr>\n",
              "    <tr>\n",
              "      <th>4</th>\n",
              "      <td>3</td>\n",
              "      <td>0</td>\n",
              "      <td>55</td>\n",
              "      <td>170</td>\n",
              "      <td>64</td>\n",
              "      <td>1</td>\n",
              "      <td>63.3</td>\n",
              "      <td>-0.7</td>\n",
              "    </tr>\n",
              "  </tbody>\n",
              "</table>\n",
              "</div>"
            ],
            "text/plain": [
              "   Person gender  Age  Height  pre.weight  Diet  weight6weeks  weight_loss\n",
              "0      25          41     171          60     2          60.0          0.0\n",
              "1      26          32     174         103     2         103.0          0.0\n",
              "2       1      0   22     159          58     1          54.2         -3.8\n",
              "3       2      0   46     192          60     1          54.0         -6.0\n",
              "4       3      0   55     170          64     1          63.3         -0.7"
            ]
          },
          "metadata": {
            "tags": []
          },
          "execution_count": 112
        }
      ]
    },
    {
      "cell_type": "markdown",
      "metadata": {
        "id": "mApH2HKAEk3p",
        "colab_type": "text"
      },
      "source": [
        "## Task 2: \n",
        "\n",
        "Create a histogram for gender and another one for height"
      ]
    },
    {
      "cell_type": "code",
      "metadata": {
        "id": "odPaieeREroo",
        "colab_type": "code",
        "colab": {
          "base_uri": "https://localhost:8080/",
          "height": 282
        },
        "outputId": "a16b9ea3-7a99-4e6f-d91a-7192c9ef0240"
      },
      "source": [
        "diet[\"gender\"].hist()"
      ],
      "execution_count": 114,
      "outputs": [
        {
          "output_type": "execute_result",
          "data": {
            "text/plain": [
              "<matplotlib.axes._subplots.AxesSubplot at 0x7fb7be4b1668>"
            ]
          },
          "metadata": {
            "tags": []
          },
          "execution_count": 114
        },
        {
          "output_type": "display_data",
          "data": {
            "image/png": "[encoded data removed]",
            "text/plain": [
              "<Figure size 432x288 with 1 Axes>"
            ]
          },
          "metadata": {
            "tags": [],
            "needs_background": "light"
          }
        }
      ]
    },
    {
      "cell_type": "markdown",
      "metadata": {
        "id": "cbSaY-hLE8YG",
        "colab_type": "text"
      },
      "source": [
        "Some data is missing, which we can see on the far left. \n",
        "\n",
        "Otherwise the groups are pretty even"
      ]
    },
    {
      "cell_type": "code",
      "metadata": {
        "id": "TgridMoeEwIJ",
        "colab_type": "code",
        "colab": {
          "base_uri": "https://localhost:8080/",
          "height": 282
        },
        "outputId": "f2f060ae-3493-49de-e574-f3a4626f8cd7"
      },
      "source": [
        "diet[\"Height\"].hist()"
      ],
      "execution_count": 116,
      "outputs": [
        {
          "output_type": "execute_result",
          "data": {
            "text/plain": [
              "<matplotlib.axes._subplots.AxesSubplot at 0x7fb7be48b668>"
            ]
          },
          "metadata": {
            "tags": []
          },
          "execution_count": 116
        },
        {
          "output_type": "display_data",
          "data": {
            "image/png": "[encoded data removed]",
            "text/plain": [
              "<Figure size 432x288 with 1 Axes>"
            ]
          },
          "metadata": {
            "tags": [],
            "needs_background": "light"
          }
        }
      ]
    },
    {
      "cell_type": "markdown",
      "metadata": {
        "id": "4k7ohp6kFGMV",
        "colab_type": "text"
      },
      "source": [
        "height distribution is slightly skewed towards large values"
      ]
    },
    {
      "cell_type": "markdown",
      "metadata": {
        "id": "R-wJ4BzPE0wU",
        "colab_type": "text"
      },
      "source": [
        "##Task 3:\n",
        "Create one box plot for weight loss by gender and one by diet\n"
      ]
    },
    {
      "cell_type": "code",
      "metadata": {
        "id": "iillZgJOFPf1",
        "colab_type": "code",
        "colab": {
          "base_uri": "https://localhost:8080/",
          "height": 296
        },
        "outputId": "46cc4f27-a8fa-4158-8ee1-4bacb6edfc20"
      },
      "source": [
        "import seaborn as sns\n",
        "\n",
        "sns.boxplot(data = diet, x=\"gender\", y=\"weight_loss\")"
      ],
      "execution_count": 118,
      "outputs": [
        {
          "output_type": "execute_result",
          "data": {
            "text/plain": [
              "<matplotlib.axes._subplots.AxesSubplot at 0x7fb7be38f2b0>"
            ]
          },
          "metadata": {
            "tags": []
          },
          "execution_count": 118
        },
        {
          "output_type": "display_data",
          "data": {
            "image/png": "[encoded data removed]",
            "text/plain": [
              "<Figure size 432x288 with 1 Axes>"
            ]
          },
          "metadata": {
            "tags": [],
            "needs_background": "light"
          }
        }
      ]
    },
    {
      "cell_type": "markdown",
      "metadata": {
        "id": "jBDMnVz9F15T",
        "colab_type": "text"
      },
      "source": [
        "We see that gender does not seem to have an overall effect on weight loss; \n",
        "\n",
        "however the distribution is much wider for one gender than for the other one"
      ]
    },
    {
      "cell_type": "code",
      "metadata": {
        "id": "593yOhzJFdec",
        "colab_type": "code",
        "colab": {
          "base_uri": "https://localhost:8080/",
          "height": 296
        },
        "outputId": "ea986087-d80e-4818-916f-3eb50d4b7e9f"
      },
      "source": [
        "sns.boxplot(x=\"Diet\", y = \"weight_loss\", data = diet)"
      ],
      "execution_count": 120,
      "outputs": [
        {
          "output_type": "execute_result",
          "data": {
            "text/plain": [
              "<matplotlib.axes._subplots.AxesSubplot at 0x7fb7be4261d0>"
            ]
          },
          "metadata": {
            "tags": []
          },
          "execution_count": 120
        },
        {
          "output_type": "display_data",
          "data": {
            "image/png": "[encoded data removed]",
            "text/plain": [
              "<Figure size 432x288 with 1 Axes>"
            ]
          },
          "metadata": {
            "tags": [],
            "needs_background": "light"
          }
        }
      ]
    },
    {
      "cell_type": "markdown",
      "metadata": {
        "id": "_rN1WZQ7Fkxr",
        "colab_type": "text"
      },
      "source": [
        "we see that:\n",
        "- there are some outliers for diet 1 (large weight gain after following the diet)\n",
        "- diet 2 seems to lead to more weight loss than diet 3\n",
        "- no systematic difference between diet 1 and 2"
      ]
    },
    {
      "cell_type": "code",
      "metadata": {
        "id": "nquWp9VLGM7a",
        "colab_type": "code",
        "colab": {}
      },
      "source": [
        ""
      ],
      "execution_count": 0,
      "outputs": []
    }
  ]
}
{
  "nbformat": 4,
  "nbformat_minor": 0,
  "metadata": {
    "colab": {
      "name": "Functional Programming.ipynb",
      "provenance": [],
      "collapsed_sections": [],
      "authorship_tag": "ABX9TyPzbwjyVTw7rcb7AkWPDfVf",
      "include_colab_link": true
    },
    "kernelspec": {
      "name": "python3",
      "display_name": "Python 3"
    }
  },
  "cells": [
    {
      "cell_type": "markdown",
      "metadata": {
        "id": "view-in-github",
        "colab_type": "text"
      },
      "source": [
        "<a href=\"https://colab.research.google.com/github/KayKozaronek/03_Courses/blob/master/Functional_Programming.ipynb\" target=\"_parent\"><img src=\"https://colab.research.google.com/assets/colab-badge.svg\" alt=\"Open In Colab\"/></a>"
      ]
    },
    {
      "cell_type": "markdown",
      "metadata": {
        "id": "rzRwwYd10AvT",
        "colab_type": "text"
      },
      "source": [
        "# Functional Programming \n",
        "\n",
        "Seperation of concerns\n",
        "\n",
        "Organize code into chuncks\n",
        "\n",
        "Seperate Data and Functions(Behaviour of data)\n",
        "\n",
        "Operates on well defined data structures like lists and dictionaries instead of operating with classes\n",
        "\n",
        "Same goal as with OOP, Make code:\n",
        "- Clear + Understandable\n",
        "- Easy to Extend\n",
        "- Easy to Maintain\n",
        "- Memory Efficient\n",
        "- DRY (don't repeat yourself)\n",
        "\n",
        "Only 1 Pillar:\n",
        "- Pure Functions"
      ]
    },
    {
      "cell_type": "markdown",
      "metadata": {
        "id": "QSKEycYs0637",
        "colab_type": "text"
      },
      "source": [
        "## Pure Functions\n",
        "\n",
        "**2 Rules:**\n",
        "1. Given the same inputs it will always return the same output\n",
        "2. A function should not produce any side effects"
      ]
    },
    {
      "cell_type": "code",
      "metadata": {
        "id": "AASRe3qt1gZJ",
        "colab_type": "code",
        "outputId": "90115c2e-7976-4876-815a-d46acd484ff6",
        "colab": {
          "base_uri": "https://localhost:8080/",
          "height": 34
        }
      },
      "source": [
        "# Pure, passes both tests\n",
        "def multiply_by2(li):\n",
        "  new_list = []\n",
        "  for item in li:\n",
        "    new_list.append(item*2)\n",
        "  return new_list\n",
        "\n",
        "multiply_by2([1,2,3])"
      ],
      "execution_count": 0,
      "outputs": [
        {
          "output_type": "execute_result",
          "data": {
            "text/plain": [
              "[2, 4, 6]"
            ]
          },
          "metadata": {
            "tags": []
          },
          "execution_count": 1
        }
      ]
    },
    {
      "cell_type": "code",
      "metadata": {
        "id": "CqaCnzmL1yFM",
        "colab_type": "code",
        "outputId": "c4a722a2-404a-4db1-fe73-09951f46fd11",
        "colab": {
          "base_uri": "https://localhost:8080/",
          "height": 50
        }
      },
      "source": [
        "# Not Pure, doesn't pass 2. test\n",
        "new_list = []\n",
        "\n",
        "def multiply_by2(li):\n",
        "  for item in li:\n",
        "    new_list.append(item*2)\n",
        "  return new_list\n",
        "\n",
        "print(multiply_by2([1,2,3]))\n",
        "print(new_list)"
      ],
      "execution_count": 0,
      "outputs": [
        {
          "output_type": "stream",
          "text": [
            "[2, 4, 6]\n",
            "[2, 4, 6]\n"
          ],
          "name": "stdout"
        }
      ]
    },
    {
      "cell_type": "markdown",
      "metadata": {
        "id": "mjgU7FA72eF5",
        "colab_type": "text"
      },
      "source": [
        "## The `map()` function"
      ]
    },
    {
      "cell_type": "code",
      "metadata": {
        "id": "YkXTALBj3PmX",
        "colab_type": "code",
        "outputId": "d808ca63-cc4a-46de-c818-b5ccfbd10819",
        "colab": {
          "base_uri": "https://localhost:8080/",
          "height": 34
        }
      },
      "source": [
        "# map(action,data)\n",
        "\n",
        "def multiply_by2(li):\n",
        "  new_list = []\n",
        "  for item in li:\n",
        "    new_list.append(item*2)\n",
        "  return new_list \n",
        "\n",
        "print(map(multiply_by2, [1,2,3]))\n"
      ],
      "execution_count": 0,
      "outputs": [
        {
          "output_type": "stream",
          "text": [
            "<map object at 0x7fca9d6eb550>\n"
          ],
          "name": "stdout"
        }
      ]
    },
    {
      "cell_type": "markdown",
      "metadata": {
        "id": "AF9F-u8i3_Rg",
        "colab_type": "text"
      },
      "source": [
        "`map()`gives us a map object, to actually view it we have to turn it into a list"
      ]
    },
    {
      "cell_type": "code",
      "metadata": {
        "id": "dfAc4cVb4LZD",
        "colab_type": "code",
        "outputId": "b302e98a-c325-4d53-be84-a60d93ba2807",
        "colab": {
          "base_uri": "https://localhost:8080/",
          "height": 279
        }
      },
      "source": [
        "print(list(map(multiply_by2, [1,2,3])))"
      ],
      "execution_count": 0,
      "outputs": [
        {
          "output_type": "error",
          "ename": "TypeError",
          "evalue": "ignored",
          "traceback": [
            "\u001b[0;31m---------------------------------------------------------------------------\u001b[0m",
            "\u001b[0;31mTypeError\u001b[0m                                 Traceback (most recent call last)",
            "\u001b[0;32m<ipython-input-6-833d6a4516b2>\u001b[0m in \u001b[0;36m<module>\u001b[0;34m()\u001b[0m\n\u001b[0;32m----> 1\u001b[0;31m \u001b[0mprint\u001b[0m\u001b[0;34m(\u001b[0m\u001b[0mlist\u001b[0m\u001b[0;34m(\u001b[0m\u001b[0mmap\u001b[0m\u001b[0;34m(\u001b[0m\u001b[0mmultiply_by2\u001b[0m\u001b[0;34m,\u001b[0m \u001b[0;34m[\u001b[0m\u001b[0;36m1\u001b[0m\u001b[0;34m,\u001b[0m\u001b[0;36m2\u001b[0m\u001b[0;34m,\u001b[0m\u001b[0;36m3\u001b[0m\u001b[0;34m]\u001b[0m\u001b[0;34m)\u001b[0m\u001b[0;34m)\u001b[0m\u001b[0;34m)\u001b[0m\u001b[0;34m\u001b[0m\u001b[0;34m\u001b[0m\u001b[0m\n\u001b[0m",
            "\u001b[0;32m<ipython-input-4-8557ea424d97>\u001b[0m in \u001b[0;36mmultiply_by2\u001b[0;34m(li)\u001b[0m\n\u001b[1;32m      2\u001b[0m \u001b[0;32mdef\u001b[0m \u001b[0mmultiply_by2\u001b[0m\u001b[0;34m(\u001b[0m\u001b[0mli\u001b[0m\u001b[0;34m)\u001b[0m\u001b[0;34m:\u001b[0m\u001b[0;34m\u001b[0m\u001b[0;34m\u001b[0m\u001b[0m\n\u001b[1;32m      3\u001b[0m   \u001b[0mnew_list\u001b[0m \u001b[0;34m=\u001b[0m \u001b[0;34m[\u001b[0m\u001b[0;34m]\u001b[0m\u001b[0;34m\u001b[0m\u001b[0;34m\u001b[0m\u001b[0m\n\u001b[0;32m----> 4\u001b[0;31m   \u001b[0;32mfor\u001b[0m \u001b[0mitem\u001b[0m \u001b[0;32min\u001b[0m \u001b[0mli\u001b[0m\u001b[0;34m:\u001b[0m\u001b[0;34m\u001b[0m\u001b[0;34m\u001b[0m\u001b[0m\n\u001b[0m\u001b[1;32m      5\u001b[0m     \u001b[0mnew_list\u001b[0m\u001b[0;34m.\u001b[0m\u001b[0mappend\u001b[0m\u001b[0;34m(\u001b[0m\u001b[0mitem\u001b[0m\u001b[0;34m*\u001b[0m\u001b[0;36m2\u001b[0m\u001b[0;34m)\u001b[0m\u001b[0;34m\u001b[0m\u001b[0;34m\u001b[0m\u001b[0m\n\u001b[1;32m      6\u001b[0m   \u001b[0;32mreturn\u001b[0m \u001b[0mnew_list\u001b[0m\u001b[0;34m\u001b[0m\u001b[0;34m\u001b[0m\u001b[0m\n",
            "\u001b[0;31mTypeError\u001b[0m: 'int' object is not iterable"
          ]
        }
      ]
    },
    {
      "cell_type": "markdown",
      "metadata": {
        "id": "H6kyjprg4Okf",
        "colab_type": "text"
      },
      "source": [
        "We get the above error, because we have too much code. \n",
        "\n",
        "When using map, we don't need to create a new list. We simply act upon the given data "
      ]
    },
    {
      "cell_type": "code",
      "metadata": {
        "id": "Yo2aMZg54sCt",
        "colab_type": "code",
        "outputId": "dd9b39c9-19cf-48ba-efb3-c557b9bd4340",
        "colab": {
          "base_uri": "https://localhost:8080/",
          "height": 34
        }
      },
      "source": [
        "def multiply_by2(item):\n",
        "  return item*2\n",
        "\n",
        "print(list(map(multiply_by2, [1,2,3])))"
      ],
      "execution_count": 0,
      "outputs": [
        {
          "output_type": "stream",
          "text": [
            "[2, 4, 6]\n"
          ],
          "name": "stdout"
        }
      ]
    },
    {
      "cell_type": "markdown",
      "metadata": {
        "id": "oBc8wRLJ40n1",
        "colab_type": "text"
      },
      "source": [
        "The neat part about `map()`is, that it is pure. The iterable doesn't get changed "
      ]
    },
    {
      "cell_type": "code",
      "metadata": {
        "id": "gX39I4oN5Ucu",
        "colab_type": "code",
        "outputId": "c1de7605-a528-4f4e-b692-fd6d9966e8f3",
        "colab": {
          "base_uri": "https://localhost:8080/",
          "height": 50
        }
      },
      "source": [
        "my_list = [1,2,3]\n",
        "\n",
        "print(list(map(multiply_by2, my_list)))\n",
        "print(my_list)"
      ],
      "execution_count": 0,
      "outputs": [
        {
          "output_type": "stream",
          "text": [
            "[2, 4, 6]\n",
            "[1, 2, 3]\n"
          ],
          "name": "stdout"
        }
      ]
    },
    {
      "cell_type": "markdown",
      "metadata": {
        "id": "iPW5Fd0k5bwq",
        "colab_type": "text"
      },
      "source": [
        "# `filter()`\n",
        "\n",
        "This function receives a boolean value and decides whether or not it should display something"
      ]
    },
    {
      "cell_type": "code",
      "metadata": {
        "id": "GWn8imdj5xSO",
        "colab_type": "code",
        "outputId": "5c5cd642-8b09-463b-8269-de3459ff0540",
        "colab": {
          "base_uri": "https://localhost:8080/",
          "height": 50
        }
      },
      "source": [
        "my_list = [1,2,3]\n",
        "def check_odd(item):\n",
        "  return item %2 != 0\n",
        "\n",
        "print(list(filter(check_odd, my_list)))\n",
        "print(my_list)"
      ],
      "execution_count": 0,
      "outputs": [
        {
          "output_type": "stream",
          "text": [
            "[1, 3]\n",
            "[1, 2, 3]\n"
          ],
          "name": "stdout"
        }
      ]
    },
    {
      "cell_type": "markdown",
      "metadata": {
        "id": "8R2JVYiR6HM_",
        "colab_type": "text"
      },
      "source": [
        "# `zip()`\n",
        "We need 2 lists, or 2 iterables that we zip together\n",
        "The iterables can be (lists, tuples, dictionaries etc.)\n",
        "\n",
        "The `zip() function` links together the matching items, i1 with i1, i2 with i2  etc. from the iterables"
      ]
    },
    {
      "cell_type": "code",
      "metadata": {
        "id": "K5sI0iTe63x4",
        "colab_type": "code",
        "outputId": "2d771cc6-68a2-4df0-9076-fc15a6eba963",
        "colab": {
          "base_uri": "https://localhost:8080/",
          "height": 84
        }
      },
      "source": [
        "my_list = [1,2,3]\n",
        "your_list = (10,20,30)\n",
        "their_list = {5,4,3}\n",
        "\n",
        "print(list(zip(my_list, your_list)))\n",
        "print(my_list)\n",
        "print(your_list)\n",
        "print(list(zip(my_list, your_list, their_list)))"
      ],
      "execution_count": 0,
      "outputs": [
        {
          "output_type": "stream",
          "text": [
            "[(1, 10), (2, 20), (3, 30)]\n",
            "[1, 2, 3]\n",
            "(10, 20, 30)\n",
            "[(1, 10, 3), (2, 20, 4), (3, 30, 5)]\n"
          ],
          "name": "stdout"
        }
      ]
    },
    {
      "cell_type": "markdown",
      "metadata": {
        "id": "wJdnyJ7b7Pke",
        "colab_type": "text"
      },
      "source": [
        "# `reduce()`\n",
        "\n",
        "Reduce doesn't come as a build in python function. In order to use reduce we need to import it like that \n",
        "\n",
        "`from functools import reduce`\n",
        "\n",
        "reudce needs us to input a function and a sequence like follows `reduce(function, sequence, initial value)`"
      ]
    },
    {
      "cell_type": "code",
      "metadata": {
        "id": "ljFPsoZR887e",
        "colab_type": "code",
        "outputId": "031823e9-50df-4303-a1ac-26c324203116",
        "colab": {
          "base_uri": "https://localhost:8080/",
          "height": 151
        }
      },
      "source": [
        "from functools import reduce\n",
        "\n",
        "my_list = [1,2,3]\n",
        "your_list = (10,20,30)\n",
        "their_list = {5,4,3}\n",
        "\n",
        "def accumulator(acc, item ):\n",
        "  print(acc,item)\n",
        "  return acc + item \n",
        "\n",
        "print(reduce(accumulator, my_list, 0 ))\n",
        "print(reduce(accumulator, my_list, 10 ))"
      ],
      "execution_count": 0,
      "outputs": [
        {
          "output_type": "stream",
          "text": [
            "0 1\n",
            "1 2\n",
            "3 3\n",
            "6\n",
            "10 1\n",
            "11 2\n",
            "13 3\n",
            "16\n"
          ],
          "name": "stdout"
        }
      ]
    },
    {
      "cell_type": "markdown",
      "metadata": {
        "id": "uWr5MSFF-p6J",
        "colab_type": "text"
      },
      "source": [
        "# Exercise\n",
        "\n",
        "1. Capitalize all of the pet names and print the list\n",
        "2. Zip the 2 lists into a list of tuples, but sort the numbers from lowest to highest.\n",
        "3. Filter the scores that pass over 50%\n",
        "4. Combine all of the numbers that are in a list on this file using reduce (my_numbers and scores). What is the total?\n",
        "\n"
      ]
    },
    {
      "cell_type": "code",
      "metadata": {
        "id": "DkohtMtk_i6L",
        "colab_type": "code",
        "outputId": "8b439d5c-f0c5-4a7b-8d72-4e14e3282e89",
        "colab": {
          "base_uri": "https://localhost:8080/",
          "height": 134
        }
      },
      "source": [
        "from functools import reduce\n",
        "\n",
        "# ----- Exercise 1 -----\n",
        "my_pets = ['sisi', 'bibi', 'titi', 'carla']\n",
        "def cap(item):\n",
        "  return item.capitalize()\n",
        "\n",
        "def up(item):\n",
        "  return item.upper()\n",
        "\n",
        "print(list(map(cap, my_pets)))\n",
        "print(list(map(up, my_pets)))\n",
        "\n",
        "# ----- Exercise 2 -----\n",
        "my_strings = ['a', 'b', 'c', 'd', 'e']\n",
        "my_numbers = [5,4,3,2,1]\n",
        "my_numbers1 = my_numbers[::-1]\n",
        "\n",
        "print(list(zip(my_strings, my_numbers1)))\n",
        "print(list(zip(my_strings, sorted(my_numbers))))\n",
        "\n",
        "# ----- Exercise 3 -----\n",
        "scores = [73, 20, 65, 19, 76, 100, 88]\n",
        "\n",
        "def over_50(item):\n",
        "  return item > 50\n",
        "\n",
        "print(list(filter(over_50, scores)))\n",
        "\n",
        "# ----- Exercise 4 -----\n",
        "def accumulator(acc, item):\n",
        "  return acc + item \n",
        "\n",
        "print(reduce(accumulator, my_numbers, 0 )+ reduce(accumulator,scores,0))\n",
        "print(reduce(accumulator, (my_numbers + scores)))"
      ],
      "execution_count": 0,
      "outputs": [
        {
          "output_type": "stream",
          "text": [
            "['Sisi', 'Bibi', 'Titi', 'Carla']\n",
            "['SISI', 'BIBI', 'TITI', 'CARLA']\n",
            "[('a', 1), ('b', 2), ('c', 3), ('d', 4), ('e', 5)]\n",
            "[('a', 1), ('b', 2), ('c', 3), ('d', 4), ('e', 5)]\n",
            "[73, 65, 76, 100, 88]\n",
            "456\n",
            "456\n"
          ],
          "name": "stdout"
        }
      ]
    },
    {
      "cell_type": "markdown",
      "metadata": {
        "id": "tobbiEppAGtI",
        "colab_type": "text"
      },
      "source": [
        "## Lambda Expressions\n",
        "- Anonymous functions that you don't need more than once\n",
        "- We don't need to give it a name\n",
        "\n",
        "In general it's implementation looks like this `lambda param: action(param)`\n",
        "\n",
        "The action is a manipulation of the data "
      ]
    },
    {
      "cell_type": "code",
      "metadata": {
        "id": "GMzIeV7uJh_0",
        "colab_type": "code",
        "colab": {
          "base_uri": "https://localhost:8080/",
          "height": 50
        },
        "outputId": "6881b685-a26a-4a95-c1db-7c54ba79e958"
      },
      "source": [
        "my_list = [1,2,3]\n",
        "\n",
        "def multiply_by2(item):\n",
        "  return item*2\n",
        "\n",
        "\n",
        "# We don't need multiply_by2, if we use a lambda function\n",
        "print(list(map(multiply_by2, my_list)))\n",
        "print(list(map(lambda item: item*2, my_list)))"
      ],
      "execution_count": 1,
      "outputs": [
        {
          "output_type": "stream",
          "text": [
            "[2, 4, 6]\n",
            "[2, 4, 6]\n"
          ],
          "name": "stdout"
        }
      ]
    },
    {
      "cell_type": "markdown",
      "metadata": {
        "id": "-SgSiIdgKiJD",
        "colab_type": "text"
      },
      "source": [
        "We can make `only_odd()`obsoelete the same way"
      ]
    },
    {
      "cell_type": "code",
      "metadata": {
        "id": "uEZ5kmQALORw",
        "colab_type": "code",
        "colab": {
          "base_uri": "https://localhost:8080/",
          "height": 50
        },
        "outputId": "b9d9f860-b99d-465a-d823-744fb7b579db"
      },
      "source": [
        "def only_odd(item):\n",
        "  return item%2 !=0\n",
        "\n",
        "print(list(filter(only_odd, my_list)))\n",
        "print(list(filter(lambda item: item%2 !=0, my_list)))"
      ],
      "execution_count": 4,
      "outputs": [
        {
          "output_type": "stream",
          "text": [
            "[1, 3]\n",
            "[1, 3]\n"
          ],
          "name": "stdout"
        }
      ]
    },
    {
      "cell_type": "markdown",
      "metadata": {
        "id": "01oNF5CKLWHe",
        "colab_type": "text"
      },
      "source": [
        "The same way we use reduce with a lambda function and get rid of the accumulator"
      ]
    },
    {
      "cell_type": "code",
      "metadata": {
        "id": "xF-YKD3MLtDD",
        "colab_type": "code",
        "colab": {
          "base_uri": "https://localhost:8080/",
          "height": 50
        },
        "outputId": "986169a5-a2cd-4146-e91c-3b9607feb80a"
      },
      "source": [
        "from functools import reduce \n",
        "def accumulator(acc, item):\n",
        "  return acc + item\n",
        "\n",
        "print(reduce(lambda acc, item: acc+item, my_list))\n",
        "print(reduce(accumulator, my_list, 0 ))"
      ],
      "execution_count": 11,
      "outputs": [
        {
          "output_type": "stream",
          "text": [
            "6\n",
            "6\n"
          ],
          "name": "stdout"
        }
      ]
    },
    {
      "cell_type": "markdown",
      "metadata": {
        "id": "8IsWsbdAL4Q_",
        "colab_type": "text"
      },
      "source": [
        "## Exercise Lambda Expressions\n",
        "1. Return a list with the squared values of my_list =[5,4,3]\n",
        "\n",
        "2. Sort the following list by the second number in the tuple.\n",
        "a = [(0,2),(4,3),(9,9),(10,-1)]\n"
      ]
    },
    {
      "cell_type": "code",
      "metadata": {
        "id": "Du8KpzUHMlrm",
        "colab_type": "code",
        "colab": {
          "base_uri": "https://localhost:8080/",
          "height": 34
        },
        "outputId": "db48ffdb-e23b-4afc-e710-38cdf1a60544"
      },
      "source": [
        "my_list=[5,4,3]\n",
        "\n",
        "print(list(map(lambda x: x**2 , my_list)))"
      ],
      "execution_count": 12,
      "outputs": [
        {
          "output_type": "stream",
          "text": [
            "[25, 16, 9]\n"
          ],
          "name": "stdout"
        }
      ]
    },
    {
      "cell_type": "code",
      "metadata": {
        "id": "2erjauRWNUWL",
        "colab_type": "code",
        "colab": {
          "base_uri": "https://localhost:8080/",
          "height": 50
        },
        "outputId": "5b246311-beb8-4ba2-c6f9-753278947829"
      },
      "source": [
        "a = [(0,2),(4,3),(9,9),(10,-1)]\n",
        "b = (2,1)\n",
        "\n",
        "# 1. Solution\n",
        "a.sort(key = lambda tup: tup[1])\n",
        "print(a)\n",
        "\n",
        "# 2. Solution\n",
        "sorted_by_second = sorted(a, key=lambda tup: tup[1])\n",
        "print(sorted_by_second)"
      ],
      "execution_count": 27,
      "outputs": [
        {
          "output_type": "stream",
          "text": [
            "[(10, -1), (0, 2), (4, 3), (9, 9)]\n",
            "[(10, -1), (0, 2), (4, 3), (9, 9)]\n"
          ],
          "name": "stdout"
        }
      ]
    },
    {
      "cell_type": "markdown",
      "metadata": {
        "id": "KglGWMtrNhz7",
        "colab_type": "text"
      },
      "source": [
        "## Comprehension \n",
        "Comprehensions are quite unique to python\n",
        "It's a quick way to create a certain datatype without loopoing or appending. \n",
        "\n",
        "We have the following types of comprehensions:\n",
        "  - list\n",
        "  - set \n",
        "  - dictionary\n",
        "\n",
        "An exemplary list comprehesion would look like this:\n",
        "\n",
        "`[param for param in iterable]`\n",
        "\n",
        "If we were to try and run a comprehension on a tuple, we would get a generator expression."
      ]
    },
    {
      "cell_type": "markdown",
      "metadata": {
        "id": "waxFgeKLUX07",
        "colab_type": "text"
      },
      "source": [
        "### List comprehensions"
      ]
    },
    {
      "cell_type": "code",
      "metadata": {
        "id": "XoPztz3PPZao",
        "colab_type": "code",
        "outputId": "caaa7448-c5c0-4178-d417-6dea968f0535",
        "colab": {
          "base_uri": "https://localhost:8080/",
          "height": 34
        }
      },
      "source": [
        "# Conventional approach\n",
        "my_list = []\n",
        "\n",
        "for char in \"hello\":\n",
        "  my_list.append(char)\n",
        "\n",
        "print(my_list)"
      ],
      "execution_count": 0,
      "outputs": [
        {
          "output_type": "stream",
          "text": [
            "['h', 'e', 'l', 'l', 'o']\n"
          ],
          "name": "stdout"
        }
      ]
    },
    {
      "cell_type": "code",
      "metadata": {
        "id": "auIlTfqLSSf4",
        "colab_type": "code",
        "colab": {
          "base_uri": "https://localhost:8080/",
          "height": 34
        },
        "outputId": "57cc3bc7-30de-4fcc-ef5c-3a40d7bc479b"
      },
      "source": [
        "# List comprehension \n",
        "my_list = [char for char in \"hello\"]\n",
        "\n",
        "print(my_list)"
      ],
      "execution_count": 31,
      "outputs": [
        {
          "output_type": "stream",
          "text": [
            "['h', 'e', 'l', 'l', 'o']\n"
          ],
          "name": "stdout"
        }
      ]
    },
    {
      "cell_type": "markdown",
      "metadata": {
        "id": "SorfaAh3SbDw",
        "colab_type": "text"
      },
      "source": [
        "This saves us a ton of code and is a lot cleaner"
      ]
    },
    {
      "cell_type": "code",
      "metadata": {
        "id": "OyxeVQNmShfw",
        "colab_type": "code",
        "colab": {
          "base_uri": "https://localhost:8080/",
          "height": 54
        },
        "outputId": "5b84f922-f075-470c-a6b3-92ab3a0a54c8"
      },
      "source": [
        "# Another Example: all numbers from 0 to 99\n",
        "my_list2 = [num for num in range(0,100)]\n",
        "print(my_list2)"
      ],
      "execution_count": 33,
      "outputs": [
        {
          "output_type": "stream",
          "text": [
            "[0, 1, 2, 3, 4, 5, 6, 7, 8, 9, 10, 11, 12, 13, 14, 15, 16, 17, 18, 19, 20, 21, 22, 23, 24, 25, 26, 27, 28, 29, 30, 31, 32, 33, 34, 35, 36, 37, 38, 39, 40, 41, 42, 43, 44, 45, 46, 47, 48, 49, 50, 51, 52, 53, 54, 55, 56, 57, 58, 59, 60, 61, 62, 63, 64, 65, 66, 67, 68, 69, 70, 71, 72, 73, 74, 75, 76, 77, 78, 79, 80, 81, 82, 83, 84, 85, 86, 87, 88, 89, 90, 91, 92, 93, 94, 95, 96, 97, 98, 99]\n"
          ],
          "name": "stdout"
        }
      ]
    },
    {
      "cell_type": "code",
      "metadata": {
        "id": "a-eWltJkTAgo",
        "colab_type": "code",
        "colab": {
          "base_uri": "https://localhost:8080/",
          "height": 54
        },
        "outputId": "2b373086-c627-492d-8d47-d7117264a221"
      },
      "source": [
        "# What if I wanted a list where the numbers are multiplied by 2?\n",
        "my_list3=[num*2 for num in range(0,100)]\n",
        "print(my_list3)"
      ],
      "execution_count": 35,
      "outputs": [
        {
          "output_type": "stream",
          "text": [
            "[0, 2, 4, 6, 8, 10, 12, 14, 16, 18, 20, 22, 24, 26, 28, 30, 32, 34, 36, 38, 40, 42, 44, 46, 48, 50, 52, 54, 56, 58, 60, 62, 64, 66, 68, 70, 72, 74, 76, 78, 80, 82, 84, 86, 88, 90, 92, 94, 96, 98, 100, 102, 104, 106, 108, 110, 112, 114, 116, 118, 120, 122, 124, 126, 128, 130, 132, 134, 136, 138, 140, 142, 144, 146, 148, 150, 152, 154, 156, 158, 160, 162, 164, 166, 168, 170, 172, 174, 176, 178, 180, 182, 184, 186, 188, 190, 192, 194, 196, 198]\n"
          ],
          "name": "stdout"
        }
      ]
    },
    {
      "cell_type": "code",
      "metadata": {
        "id": "2lWx84F6TVpZ",
        "colab_type": "code",
        "colab": {
          "base_uri": "https://localhost:8080/",
          "height": 54
        },
        "outputId": "a309eabc-2b68-42fa-e9b2-2703e190af7f"
      },
      "source": [
        "# Only keep the even numbers\n",
        "my_list4 = [num for num in range(0,100) if num%2 == 0]\n",
        "print(my_list4)"
      ],
      "execution_count": 38,
      "outputs": [
        {
          "output_type": "stream",
          "text": [
            "[0, 2, 4, 6, 8, 10, 12, 14, 16, 18, 20, 22, 24, 26, 28, 30, 32, 34, 36, 38, 40, 42, 44, 46, 48, 50, 52, 54, 56, 58, 60, 62, 64, 66, 68, 70, 72, 74, 76, 78, 80, 82, 84, 86, 88, 90, 92, 94, 96, 98]\n"
          ],
          "name": "stdout"
        }
      ]
    },
    {
      "cell_type": "markdown",
      "metadata": {
        "id": "8kMOznkoTyMS",
        "colab_type": "text"
      },
      "source": [
        "### Set Comprehensions\n",
        "- We can use the same notation as with lists.\n",
        "- By simply changing the edgy brackets `[]` for curly brackets `{}`\n"
      ]
    },
    {
      "cell_type": "code",
      "metadata": {
        "id": "bzZVP1SkUfnG",
        "colab_type": "code",
        "colab": {
          "base_uri": "https://localhost:8080/",
          "height": 104
        },
        "outputId": "a6d591ad-d833-4f88-ca04-60d64cd1ea39"
      },
      "source": [
        "my_set = {char for char in \"hello\"}\n",
        "my_set2 = {num for num in range(0,100)}\n",
        "my_set3 = {num**2 for num in range(0,100)}\n",
        "my_set4 = {num**2 for num in range(0,100) if num%2 ==0}\n",
        "\n",
        "print(my_set)\n",
        "print(my_set2)\n",
        "print(my_set3)\n",
        "print(my_set4)"
      ],
      "execution_count": 39,
      "outputs": [
        {
          "output_type": "stream",
          "text": [
            "{'h', 'o', 'l', 'e'}\n",
            "{0, 1, 2, 3, 4, 5, 6, 7, 8, 9, 10, 11, 12, 13, 14, 15, 16, 17, 18, 19, 20, 21, 22, 23, 24, 25, 26, 27, 28, 29, 30, 31, 32, 33, 34, 35, 36, 37, 38, 39, 40, 41, 42, 43, 44, 45, 46, 47, 48, 49, 50, 51, 52, 53, 54, 55, 56, 57, 58, 59, 60, 61, 62, 63, 64, 65, 66, 67, 68, 69, 70, 71, 72, 73, 74, 75, 76, 77, 78, 79, 80, 81, 82, 83, 84, 85, 86, 87, 88, 89, 90, 91, 92, 93, 94, 95, 96, 97, 98, 99}\n",
            "{0, 1, 1024, 4096, 4, 9216, 9, 16, 529, 3600, 4624, 25, 36, 2601, 49, 7225, 3136, 64, 576, 1089, 6724, 1600, 2116, 5184, 7744, 9801, 81, 8281, 6241, 100, 625, 121, 4225, 1156, 8836, 3721, 144, 1681, 2704, 5776, 4761, 2209, 676, 169, 3249, 9409, 196, 1225, 5329, 729, 225, 1764, 7396, 6889, 7921, 2809, 256, 2304, 6400, 3844, 4356, 784, 1296, 8464, 289, 3364, 4900, 5929, 1849, 9025, 324, 841, 1369, 2401, 2916, 5476, 361, 3969, 900, 9604, 4489, 400, 1936, 7056, 7569, 3481, 6561, 1444, 8100, 5041, 441, 961, 2500, 6084, 8649, 3025, 484, 2025, 1521, 5625}\n",
            "{0, 256, 1024, 2304, 4, 900, 1156, 3844, 4096, 4356, 8836, 9604, 16, 144, 400, 784, 1296, 1936, 2704, 3600, 4624, 5776, 9216, 36, 676, 1444, 3364, 4900, 8100, 7056, 7744, 64, 576, 1600, 3136, 196, 324, 2116, 2500, 5184, 6084, 6400, 6724, 8464, 100, 484, 1764, 2916, 5476, 7396}\n"
          ],
          "name": "stdout"
        }
      ]
    },
    {
      "cell_type": "markdown",
      "metadata": {
        "id": "K78IGuR2VRqm",
        "colab_type": "text"
      },
      "source": [
        "### Dictionary comprehension\n"
      ]
    },
    {
      "cell_type": "code",
      "metadata": {
        "id": "SArt3pbxVgNe",
        "colab_type": "code",
        "colab": {
          "base_uri": "https://localhost:8080/",
          "height": 34
        },
        "outputId": "8731e599-189c-4166-98f6-d4f5452d5e28"
      },
      "source": [
        "simple_dict = {\n",
        "    \"a\":1,\n",
        "    \"b\":2\n",
        "}\n",
        "\n",
        "my_dict = {key: value**2 for key, value in simple_dict.items() if value %2 == 0 }\n",
        "\n",
        "print(my_dict)"
      ],
      "execution_count": 50,
      "outputs": [
        {
          "output_type": "stream",
          "text": [
            "{'b': 4}\n"
          ],
          "name": "stdout"
        }
      ]
    },
    {
      "cell_type": "code",
      "metadata": {
        "id": "AidSvLhaV57z",
        "colab_type": "code",
        "colab": {
          "base_uri": "https://localhost:8080/",
          "height": 34
        },
        "outputId": "4a830868-ebe8-43dd-ef76-02794a212ed4"
      },
      "source": [
        "# Another example: Make a dictionary out of a list \n",
        "my_dict = {num : num*2 for num in [1,2,3]}\n",
        "print(my_dict)"
      ],
      "execution_count": 53,
      "outputs": [
        {
          "output_type": "stream",
          "text": [
            "{1: 2, 2: 4, 3: 6}\n"
          ],
          "name": "stdout"
        }
      ]
    },
    {
      "cell_type": "markdown",
      "metadata": {
        "id": "KtT0FvRmWrOC",
        "colab_type": "text"
      },
      "source": [
        "## Exercise: Comprehensions \n",
        "\n",
        "Use a comprehension to replace the following code:"
      ]
    },
    {
      "cell_type": "code",
      "metadata": {
        "id": "nUKRgwCSW83v",
        "colab_type": "code",
        "colab": {
          "base_uri": "https://localhost:8080/",
          "height": 34
        },
        "outputId": "f38dbd35-104d-44b3-be9f-3479dbe97491"
      },
      "source": [
        "some_list = [\"a\", \"b\",\"c\",\"b\",\"d\",\"m\",\"n\",\"n\"]\n",
        "\n",
        "duplicates = []\n",
        "for value in some_list:\n",
        "  if some_list.count(value) > 1:\n",
        "    if value not in duplicates:\n",
        "      duplicates.append(value)\n",
        "\n",
        "print(duplicates)"
      ],
      "execution_count": 54,
      "outputs": [
        {
          "output_type": "stream",
          "text": [
            "['b', 'n']\n"
          ],
          "name": "stdout"
        }
      ]
    },
    {
      "cell_type": "markdown",
      "metadata": {
        "id": "UCTuFQrxapk4",
        "colab_type": "text"
      },
      "source": [
        "Create a list comprehension first and then remove the duplicate characters "
      ]
    },
    {
      "cell_type": "code",
      "metadata": {
        "id": "KDaNfZIhXfwx",
        "colab_type": "code",
        "colab": {
          "base_uri": "https://localhost:8080/",
          "height": 50
        },
        "outputId": "a584e4fc-189f-4964-8693-7672e17e9299"
      },
      "source": [
        "duplicates = [value for value in {value for value in [value for value in some_list if some_list.count(value) > 1]}]\n",
        "\n",
        "duplicates2 = list(set([value for value in some_list if some_list.count(value) > 1]))\n",
        "print(duplicates)\n",
        "print(duplicates2)"
      ],
      "execution_count": 78,
      "outputs": [
        {
          "output_type": "stream",
          "text": [
            "['b', 'n']\n",
            "['b', 'n']\n"
          ],
          "name": "stdout"
        }
      ]
    },
    {
      "cell_type": "code",
      "metadata": {
        "id": "FSQOTDx3Xyth",
        "colab_type": "code",
        "colab": {
          "base_uri": "https://localhost:8080/",
          "height": 34
        },
        "outputId": "12d8bf1d-45f0-4627-91e0-a775071b0dc2"
      },
      "source": [
        "a = {1,2,3}\n",
        "b ={2,3,4}\n",
        "print(a|b)"
      ],
      "execution_count": 73,
      "outputs": [
        {
          "output_type": "stream",
          "text": [
            "{1, 2, 3, 4}\n"
          ],
          "name": "stdout"
        }
      ]
    },
    {
      "cell_type": "code",
      "metadata": {
        "id": "ywzx3Tm6Z3Gx",
        "colab_type": "code",
        "colab": {}
      },
      "source": [
        ""
      ],
      "execution_count": 0,
      "outputs": []
    }
  ]
}
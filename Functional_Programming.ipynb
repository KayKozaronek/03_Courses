{
  "nbformat": 4,
  "nbformat_minor": 0,
  "metadata": {
    "colab": {
      "name": "Functional Programming.ipynb",
      "provenance": [],
      "collapsed_sections": [],
      "authorship_tag": "ABX9TyNg0ABacuuALZN7PT4T1yHH",
      "include_colab_link": true
    },
    "kernelspec": {
      "name": "python3",
      "display_name": "Python 3"
    }
  },
  "cells": [
    {
      "cell_type": "markdown",
      "metadata": {
        "id": "view-in-github",
        "colab_type": "text"
      },
      "source": [
        "<a href=\"https://colab.research.google.com/github/KayKozaronek/03_Courses/blob/master/Functional_Programming.ipynb\" target=\"_parent\"><img src=\"https://colab.research.google.com/assets/colab-badge.svg\" alt=\"Open In Colab\"/></a>"
      ]
    },
    {
      "cell_type": "markdown",
      "metadata": {
        "id": "rzRwwYd10AvT",
        "colab_type": "text"
      },
      "source": [
        "# Functional Programming \n",
        "\n",
        "Seperation of concerns\n",
        "\n",
        "Organize code into chuncks\n",
        "\n",
        "Seperate Data and Functions(Behaviour of data)\n",
        "\n",
        "Operates on well defined data structures like lists and dictionaries instead of operating with classes\n",
        "\n",
        "Same goal as with OOP, Make code:\n",
        "- Clear + Understandable\n",
        "- Easy to Extend\n",
        "- Easy to Maintain\n",
        "- Memory Efficient\n",
        "- DRY (don't repeat yourself)\n",
        "\n",
        "Only 1 Pillar:\n",
        "- Pure Functions"
      ]
    },
    {
      "cell_type": "markdown",
      "metadata": {
        "id": "QSKEycYs0637",
        "colab_type": "text"
      },
      "source": [
        "## Pure Functions\n",
        "\n",
        "**2 Rules:**\n",
        "1. Given the same inputs it will always return the same output\n",
        "2. A function should not produce any side effects"
      ]
    },
    {
      "cell_type": "code",
      "metadata": {
        "id": "AASRe3qt1gZJ",
        "colab_type": "code",
        "colab": {
          "base_uri": "https://localhost:8080/",
          "height": 34
        },
        "outputId": "90115c2e-7976-4876-815a-d46acd484ff6"
      },
      "source": [
        "# Pure, passes both tests\n",
        "def multiply_by2(li):\n",
        "  new_list = []\n",
        "  for item in li:\n",
        "    new_list.append(item*2)\n",
        "  return new_list\n",
        "\n",
        "multiply_by2([1,2,3])"
      ],
      "execution_count": 1,
      "outputs": [
        {
          "output_type": "execute_result",
          "data": {
            "text/plain": [
              "[2, 4, 6]"
            ]
          },
          "metadata": {
            "tags": []
          },
          "execution_count": 1
        }
      ]
    },
    {
      "cell_type": "code",
      "metadata": {
        "id": "CqaCnzmL1yFM",
        "colab_type": "code",
        "colab": {
          "base_uri": "https://localhost:8080/",
          "height": 50
        },
        "outputId": "c4a722a2-404a-4db1-fe73-09951f46fd11"
      },
      "source": [
        "# Not Pure, doesn't pass 2. test\n",
        "new_list = []\n",
        "\n",
        "def multiply_by2(li):\n",
        "  for item in li:\n",
        "    new_list.append(item*2)\n",
        "  return new_list\n",
        "\n",
        "print(multiply_by2([1,2,3]))\n",
        "print(new_list)"
      ],
      "execution_count": 2,
      "outputs": [
        {
          "output_type": "stream",
          "text": [
            "[2, 4, 6]\n",
            "[2, 4, 6]\n"
          ],
          "name": "stdout"
        }
      ]
    },
    {
      "cell_type": "markdown",
      "metadata": {
        "id": "mjgU7FA72eF5",
        "colab_type": "text"
      },
      "source": [
        "## `map()`, `filter()`, `zip()`and `reduce()`"
      ]
    },
    {
      "cell_type": "code",
      "metadata": {
        "id": "YkXTALBj3PmX",
        "colab_type": "code",
        "colab": {
          "base_uri": "https://localhost:8080/",
          "height": 34
        },
        "outputId": "d808ca63-cc4a-46de-c818-b5ccfbd10819"
      },
      "source": [
        "# map(action,data)\n",
        "\n",
        "def multiply_by2(li):\n",
        "  new_list = []\n",
        "  for item in li:\n",
        "    new_list.append(item*2)\n",
        "  return new_list \n",
        "\n",
        "print(map(multiply_by2, [1,2,3]))\n"
      ],
      "execution_count": 4,
      "outputs": [
        {
          "output_type": "stream",
          "text": [
            "<map object at 0x7fca9d6eb550>\n"
          ],
          "name": "stdout"
        }
      ]
    },
    {
      "cell_type": "markdown",
      "metadata": {
        "id": "AF9F-u8i3_Rg",
        "colab_type": "text"
      },
      "source": [
        "`map()`gives us a map object, to actually view it we have to turn it into a list"
      ]
    },
    {
      "cell_type": "code",
      "metadata": {
        "id": "dfAc4cVb4LZD",
        "colab_type": "code",
        "colab": {
          "base_uri": "https://localhost:8080/",
          "height": 279
        },
        "outputId": "b302e98a-c325-4d53-be84-a60d93ba2807"
      },
      "source": [
        "print(list(map(multiply_by2, [1,2,3])))"
      ],
      "execution_count": 6,
      "outputs": [
        {
          "output_type": "error",
          "ename": "TypeError",
          "evalue": "ignored",
          "traceback": [
            "\u001b[0;31m---------------------------------------------------------------------------\u001b[0m",
            "\u001b[0;31mTypeError\u001b[0m                                 Traceback (most recent call last)",
            "\u001b[0;32m<ipython-input-6-833d6a4516b2>\u001b[0m in \u001b[0;36m<module>\u001b[0;34m()\u001b[0m\n\u001b[0;32m----> 1\u001b[0;31m \u001b[0mprint\u001b[0m\u001b[0;34m(\u001b[0m\u001b[0mlist\u001b[0m\u001b[0;34m(\u001b[0m\u001b[0mmap\u001b[0m\u001b[0;34m(\u001b[0m\u001b[0mmultiply_by2\u001b[0m\u001b[0;34m,\u001b[0m \u001b[0;34m[\u001b[0m\u001b[0;36m1\u001b[0m\u001b[0;34m,\u001b[0m\u001b[0;36m2\u001b[0m\u001b[0;34m,\u001b[0m\u001b[0;36m3\u001b[0m\u001b[0;34m]\u001b[0m\u001b[0;34m)\u001b[0m\u001b[0;34m)\u001b[0m\u001b[0;34m)\u001b[0m\u001b[0;34m\u001b[0m\u001b[0;34m\u001b[0m\u001b[0m\n\u001b[0m",
            "\u001b[0;32m<ipython-input-4-8557ea424d97>\u001b[0m in \u001b[0;36mmultiply_by2\u001b[0;34m(li)\u001b[0m\n\u001b[1;32m      2\u001b[0m \u001b[0;32mdef\u001b[0m \u001b[0mmultiply_by2\u001b[0m\u001b[0;34m(\u001b[0m\u001b[0mli\u001b[0m\u001b[0;34m)\u001b[0m\u001b[0;34m:\u001b[0m\u001b[0;34m\u001b[0m\u001b[0;34m\u001b[0m\u001b[0m\n\u001b[1;32m      3\u001b[0m   \u001b[0mnew_list\u001b[0m \u001b[0;34m=\u001b[0m \u001b[0;34m[\u001b[0m\u001b[0;34m]\u001b[0m\u001b[0;34m\u001b[0m\u001b[0;34m\u001b[0m\u001b[0m\n\u001b[0;32m----> 4\u001b[0;31m   \u001b[0;32mfor\u001b[0m \u001b[0mitem\u001b[0m \u001b[0;32min\u001b[0m \u001b[0mli\u001b[0m\u001b[0;34m:\u001b[0m\u001b[0;34m\u001b[0m\u001b[0;34m\u001b[0m\u001b[0m\n\u001b[0m\u001b[1;32m      5\u001b[0m     \u001b[0mnew_list\u001b[0m\u001b[0;34m.\u001b[0m\u001b[0mappend\u001b[0m\u001b[0;34m(\u001b[0m\u001b[0mitem\u001b[0m\u001b[0;34m*\u001b[0m\u001b[0;36m2\u001b[0m\u001b[0;34m)\u001b[0m\u001b[0;34m\u001b[0m\u001b[0;34m\u001b[0m\u001b[0m\n\u001b[1;32m      6\u001b[0m   \u001b[0;32mreturn\u001b[0m \u001b[0mnew_list\u001b[0m\u001b[0;34m\u001b[0m\u001b[0;34m\u001b[0m\u001b[0m\n",
            "\u001b[0;31mTypeError\u001b[0m: 'int' object is not iterable"
          ]
        }
      ]
    },
    {
      "cell_type": "markdown",
      "metadata": {
        "id": "H6kyjprg4Okf",
        "colab_type": "text"
      },
      "source": [
        "We get the above error, because we have too much code. \n",
        "\n",
        "When using map, we don't need to create a new list. We simply act upon the given data "
      ]
    },
    {
      "cell_type": "code",
      "metadata": {
        "id": "Yo2aMZg54sCt",
        "colab_type": "code",
        "colab": {
          "base_uri": "https://localhost:8080/",
          "height": 34
        },
        "outputId": "dd9b39c9-19cf-48ba-efb3-c557b9bd4340"
      },
      "source": [
        "def multiply_by2(item):\n",
        "  return item*2\n",
        "\n",
        "print(list(map(multiply_by2, [1,2,3])))"
      ],
      "execution_count": 8,
      "outputs": [
        {
          "output_type": "stream",
          "text": [
            "[2, 4, 6]\n"
          ],
          "name": "stdout"
        }
      ]
    },
    {
      "cell_type": "markdown",
      "metadata": {
        "id": "oBc8wRLJ40n1",
        "colab_type": "text"
      },
      "source": [
        "The neat part about `map()`is, that it is pure. The iterable doesn't get changed "
      ]
    },
    {
      "cell_type": "code",
      "metadata": {
        "id": "gX39I4oN5Ucu",
        "colab_type": "code",
        "colab": {
          "base_uri": "https://localhost:8080/",
          "height": 50
        },
        "outputId": "c1de7605-a528-4f4e-b692-fd6d9966e8f3"
      },
      "source": [
        "my_list = [1,2,3]\n",
        "\n",
        "print(list(map(multiply_by2, my_list)))\n",
        "print(my_list)"
      ],
      "execution_count": 9,
      "outputs": [
        {
          "output_type": "stream",
          "text": [
            "[2, 4, 6]\n",
            "[1, 2, 3]\n"
          ],
          "name": "stdout"
        }
      ]
    },
    {
      "cell_type": "markdown",
      "metadata": {
        "id": "iPW5Fd0k5bwq",
        "colab_type": "text"
      },
      "source": [
        "# `filter()`\n",
        "\n",
        "This function receives a boolean value and decides whether or not it should display something"
      ]
    },
    {
      "cell_type": "code",
      "metadata": {
        "id": "GWn8imdj5xSO",
        "colab_type": "code",
        "colab": {
          "base_uri": "https://localhost:8080/",
          "height": 50
        },
        "outputId": "5c5cd642-8b09-463b-8269-de3459ff0540"
      },
      "source": [
        "my_list = [1,2,3]\n",
        "def check_odd(item):\n",
        "  return item %2 != 0\n",
        "\n",
        "print(list(filter(check_odd, my_list)))\n",
        "print(my_list)"
      ],
      "execution_count": 14,
      "outputs": [
        {
          "output_type": "stream",
          "text": [
            "[1, 3]\n",
            "[1, 2, 3]\n"
          ],
          "name": "stdout"
        }
      ]
    },
    {
      "cell_type": "markdown",
      "metadata": {
        "id": "8R2JVYiR6HM_",
        "colab_type": "text"
      },
      "source": [
        "# `zip()`\n",
        "We need 2 lists, or 2 iterables that we zip together\n",
        "The iterables can be (lists, tuples, dictionaries etc.)\n",
        "\n",
        "The `zip() function` links together the matching items, i1 with i1, i2 with i2  etc. from the iterables"
      ]
    },
    {
      "cell_type": "code",
      "metadata": {
        "id": "K5sI0iTe63x4",
        "colab_type": "code",
        "colab": {
          "base_uri": "https://localhost:8080/",
          "height": 84
        },
        "outputId": "2d771cc6-68a2-4df0-9076-fc15a6eba963"
      },
      "source": [
        "my_list = [1,2,3]\n",
        "your_list = (10,20,30)\n",
        "their_list = {5,4,3}\n",
        "\n",
        "print(list(zip(my_list, your_list)))\n",
        "print(my_list)\n",
        "print(your_list)\n",
        "print(list(zip(my_list, your_list, their_list)))"
      ],
      "execution_count": 20,
      "outputs": [
        {
          "output_type": "stream",
          "text": [
            "[(1, 10), (2, 20), (3, 30)]\n",
            "[1, 2, 3]\n",
            "(10, 20, 30)\n",
            "[(1, 10, 3), (2, 20, 4), (3, 30, 5)]\n"
          ],
          "name": "stdout"
        }
      ]
    },
    {
      "cell_type": "markdown",
      "metadata": {
        "id": "wJdnyJ7b7Pke",
        "colab_type": "text"
      },
      "source": [
        "# `reduce()`\n",
        "\n",
        "Reduce doesn't come as a build in python function. In order to use reduce we need to import it like that \n",
        "\n",
        "`from functools import reduce`\n",
        "\n",
        "reudce needs us to input a function and a sequence like follows `reduce(function, sequence, initial value)`"
      ]
    },
    {
      "cell_type": "code",
      "metadata": {
        "id": "ljFPsoZR887e",
        "colab_type": "code",
        "colab": {
          "base_uri": "https://localhost:8080/",
          "height": 151
        },
        "outputId": "031823e9-50df-4303-a1ac-26c324203116"
      },
      "source": [
        "from functools import reduce\n",
        "\n",
        "my_list = [1,2,3]\n",
        "your_list = (10,20,30)\n",
        "their_list = {5,4,3}\n",
        "\n",
        "def accumulator(acc, item ):\n",
        "  print(acc,item)\n",
        "  return acc + item \n",
        "\n",
        "print(reduce(accumulator, my_list, 0 ))\n",
        "print(reduce(accumulator, my_list, 10 ))"
      ],
      "execution_count": 23,
      "outputs": [
        {
          "output_type": "stream",
          "text": [
            "0 1\n",
            "1 2\n",
            "3 3\n",
            "6\n",
            "10 1\n",
            "11 2\n",
            "13 3\n",
            "16\n"
          ],
          "name": "stdout"
        }
      ]
    },
    {
      "cell_type": "markdown",
      "metadata": {
        "id": "uWr5MSFF-p6J",
        "colab_type": "text"
      },
      "source": [
        "# Exercise\n",
        "\n",
        "1. Capitalize all of the pet names and print the list\n",
        "2. Zip the 2 lists into a list of tuples, but sort the numbers from lowest to highest.\n",
        "3. Filter the scores that pass over 50%\n",
        "4. Combine all of the numbers that are in a list on this file using reduce (my_numbers and scores). What is the total?\n",
        "\n"
      ]
    },
    {
      "cell_type": "code",
      "metadata": {
        "id": "DkohtMtk_i6L",
        "colab_type": "code",
        "colab": {
          "base_uri": "https://localhost:8080/",
          "height": 134
        },
        "outputId": "8b439d5c-f0c5-4a7b-8d72-4e14e3282e89"
      },
      "source": [
        "from functools import reduce\n",
        "\n",
        "# ----- Exercise 1 -----\n",
        "my_pets = ['sisi', 'bibi', 'titi', 'carla']\n",
        "def cap(item):\n",
        "  return item.capitalize()\n",
        "\n",
        "def up(item):\n",
        "  return item.upper()\n",
        "\n",
        "print(list(map(cap, my_pets)))\n",
        "print(list(map(up, my_pets)))\n",
        "\n",
        "# ----- Exercise 2 -----\n",
        "my_strings = ['a', 'b', 'c', 'd', 'e']\n",
        "my_numbers = [5,4,3,2,1]\n",
        "my_numbers1 = my_numbers[::-1]\n",
        "\n",
        "print(list(zip(my_strings, my_numbers1)))\n",
        "print(list(zip(my_strings, sorted(my_numbers))))\n",
        "\n",
        "# ----- Exercise 3 -----\n",
        "scores = [73, 20, 65, 19, 76, 100, 88]\n",
        "\n",
        "def over_50(item):\n",
        "  return item > 50\n",
        "\n",
        "print(list(filter(over_50, scores)))\n",
        "\n",
        "# ----- Exercise 4 -----\n",
        "def accumulator(acc, item):\n",
        "  return acc + item \n",
        "\n",
        "print(reduce(accumulator, my_numbers, 0 )+ reduce(accumulator,scores,0))\n",
        "print(reduce(accumulator, (my_numbers + scores)))"
      ],
      "execution_count": 45,
      "outputs": [
        {
          "output_type": "stream",
          "text": [
            "['Sisi', 'Bibi', 'Titi', 'Carla']\n",
            "['SISI', 'BIBI', 'TITI', 'CARLA']\n",
            "[('a', 1), ('b', 2), ('c', 3), ('d', 4), ('e', 5)]\n",
            "[('a', 1), ('b', 2), ('c', 3), ('d', 4), ('e', 5)]\n",
            "[73, 65, 76, 100, 88]\n",
            "456\n",
            "456\n"
          ],
          "name": "stdout"
        }
      ]
    },
    {
      "cell_type": "code",
      "metadata": {
        "id": "tobbiEppAGtI",
        "colab_type": "code",
        "colab": {}
      },
      "source": [
        ""
      ],
      "execution_count": 0,
      "outputs": []
    }
  ]
}
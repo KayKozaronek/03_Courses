{
  "nbformat": 4,
  "nbformat_minor": 0,
  "metadata": {
    "colab": {
      "name": "Exercise 25.ipynb",
      "provenance": []
    },
    "kernelspec": {
      "name": "python3",
      "display_name": "Python 3"
    }
  },
  "cells": [
    {
      "cell_type": "markdown",
      "metadata": {
        "id": "x7zCMjcIi52M",
        "colab_type": "text"
      },
      "source": [
        "# Pandas Exercise 25\n",
        "\n",
        "Read the data from the following **URL** into a dataframe.\n",
        "\n",
        "https://sedeaplicaciones.minetur.gob.es/ServiciosRESTCarburantes/PreciosCarburantes/EstacionesTerrestres/\n",
        "\n"
      ]
    },
    {
      "cell_type": "code",
      "metadata": {
        "id": "4mAjBPJsjSIh",
        "colab_type": "code",
        "colab": {}
      },
      "source": [
        "import pandas as pd "
      ],
      "execution_count": 0,
      "outputs": []
    },
    {
      "cell_type": "markdown",
      "metadata": {
        "id": "caifbbLwjUSP",
        "colab_type": "text"
      },
      "source": [
        "Let's try and see whether we can use one of the build in functions that pandas gives us \n",
        "\n",
        "`pd.read_csv()`"
      ]
    },
    {
      "cell_type": "code",
      "metadata": {
        "id": "oWNPSMk2jbCZ",
        "colab_type": "code",
        "colab": {
          "base_uri": "https://localhost:8080/",
          "height": 488
        },
        "outputId": "c8d6bbab-7580-4d44-8981-e38cd082fb02"
      },
      "source": [
        "df = pd.read_csv(\"https://sedeaplicaciones.minetur.gob.es/ServiciosRESTCarburantes/PreciosCarburantes/EstacionesTerrestres/\")\n",
        "\n",
        "df.head()"
      ],
      "execution_count": 2,
      "outputs": [
        {
          "output_type": "error",
          "ename": "KeyboardInterrupt",
          "evalue": "ignored",
          "traceback": [
            "\u001b[0;31m---------------------------------------------------------------------------\u001b[0m",
            "\u001b[0;31mStopIteration\u001b[0m                             Traceback (most recent call last)",
            "\u001b[0;32m/usr/local/lib/python3.6/dist-packages/pandas/io/parsers.py\u001b[0m in \u001b[0;36mread\u001b[0;34m(self, nrows)\u001b[0m\n\u001b[1;32m   2036\u001b[0m         \u001b[0;32mtry\u001b[0m\u001b[0;34m:\u001b[0m\u001b[0;34m\u001b[0m\u001b[0;34m\u001b[0m\u001b[0m\n\u001b[0;32m-> 2037\u001b[0;31m             \u001b[0mdata\u001b[0m \u001b[0;34m=\u001b[0m \u001b[0mself\u001b[0m\u001b[0;34m.\u001b[0m\u001b[0m_reader\u001b[0m\u001b[0;34m.\u001b[0m\u001b[0mread\u001b[0m\u001b[0;34m(\u001b[0m\u001b[0mnrows\u001b[0m\u001b[0;34m)\u001b[0m\u001b[0;34m\u001b[0m\u001b[0;34m\u001b[0m\u001b[0m\n\u001b[0m\u001b[1;32m   2038\u001b[0m         \u001b[0;32mexcept\u001b[0m \u001b[0mStopIteration\u001b[0m\u001b[0;34m:\u001b[0m\u001b[0;34m\u001b[0m\u001b[0;34m\u001b[0m\u001b[0m\n",
            "\u001b[0;32mpandas/_libs/parsers.pyx\u001b[0m in \u001b[0;36mpandas._libs.parsers.TextReader.read\u001b[0;34m()\u001b[0m\n",
            "\u001b[0;32mpandas/_libs/parsers.pyx\u001b[0m in \u001b[0;36mpandas._libs.parsers.TextReader._read_low_memory\u001b[0;34m()\u001b[0m\n",
            "\u001b[0;31mStopIteration\u001b[0m: ",
            "\nDuring handling of the above exception, another exception occurred:\n",
            "\u001b[0;31mKeyboardInterrupt\u001b[0m                         Traceback (most recent call last)",
            "\u001b[0;32m<ipython-input-2-3ed7e7d21e0e>\u001b[0m in \u001b[0;36m<module>\u001b[0;34m()\u001b[0m\n\u001b[0;32m----> 1\u001b[0;31m \u001b[0mdf\u001b[0m \u001b[0;34m=\u001b[0m \u001b[0mpd\u001b[0m\u001b[0;34m.\u001b[0m\u001b[0mread_csv\u001b[0m\u001b[0;34m(\u001b[0m\u001b[0;34m\"https://sedeaplicaciones.minetur.gob.es/ServiciosRESTCarburantes/PreciosCarburantes/EstacionesTerrestres/\"\u001b[0m\u001b[0;34m)\u001b[0m\u001b[0;34m\u001b[0m\u001b[0;34m\u001b[0m\u001b[0m\n\u001b[0m\u001b[1;32m      2\u001b[0m \u001b[0;34m\u001b[0m\u001b[0m\n\u001b[1;32m      3\u001b[0m \u001b[0mdf\u001b[0m\u001b[0;34m.\u001b[0m\u001b[0mhead\u001b[0m\u001b[0;34m(\u001b[0m\u001b[0;34m)\u001b[0m\u001b[0;34m\u001b[0m\u001b[0;34m\u001b[0m\u001b[0m\n",
            "\u001b[0;32m/usr/local/lib/python3.6/dist-packages/pandas/io/parsers.py\u001b[0m in \u001b[0;36mparser_f\u001b[0;34m(filepath_or_buffer, sep, delimiter, header, names, index_col, usecols, squeeze, prefix, mangle_dupe_cols, dtype, engine, converters, true_values, false_values, skipinitialspace, skiprows, skipfooter, nrows, na_values, keep_default_na, na_filter, verbose, skip_blank_lines, parse_dates, infer_datetime_format, keep_date_col, date_parser, dayfirst, cache_dates, iterator, chunksize, compression, thousands, decimal, lineterminator, quotechar, quoting, doublequote, escapechar, comment, encoding, dialect, error_bad_lines, warn_bad_lines, delim_whitespace, low_memory, memory_map, float_precision)\u001b[0m\n\u001b[1;32m    674\u001b[0m         )\n\u001b[1;32m    675\u001b[0m \u001b[0;34m\u001b[0m\u001b[0m\n\u001b[0;32m--> 676\u001b[0;31m         \u001b[0;32mreturn\u001b[0m \u001b[0m_read\u001b[0m\u001b[0;34m(\u001b[0m\u001b[0mfilepath_or_buffer\u001b[0m\u001b[0;34m,\u001b[0m \u001b[0mkwds\u001b[0m\u001b[0;34m)\u001b[0m\u001b[0;34m\u001b[0m\u001b[0;34m\u001b[0m\u001b[0m\n\u001b[0m\u001b[1;32m    677\u001b[0m \u001b[0;34m\u001b[0m\u001b[0m\n\u001b[1;32m    678\u001b[0m     \u001b[0mparser_f\u001b[0m\u001b[0;34m.\u001b[0m\u001b[0m__name__\u001b[0m \u001b[0;34m=\u001b[0m \u001b[0mname\u001b[0m\u001b[0;34m\u001b[0m\u001b[0;34m\u001b[0m\u001b[0m\n",
            "\u001b[0;32m/usr/local/lib/python3.6/dist-packages/pandas/io/parsers.py\u001b[0m in \u001b[0;36m_read\u001b[0;34m(filepath_or_buffer, kwds)\u001b[0m\n\u001b[1;32m    452\u001b[0m \u001b[0;34m\u001b[0m\u001b[0m\n\u001b[1;32m    453\u001b[0m     \u001b[0;32mtry\u001b[0m\u001b[0;34m:\u001b[0m\u001b[0;34m\u001b[0m\u001b[0;34m\u001b[0m\u001b[0m\n\u001b[0;32m--> 454\u001b[0;31m         \u001b[0mdata\u001b[0m \u001b[0;34m=\u001b[0m \u001b[0mparser\u001b[0m\u001b[0;34m.\u001b[0m\u001b[0mread\u001b[0m\u001b[0;34m(\u001b[0m\u001b[0mnrows\u001b[0m\u001b[0;34m)\u001b[0m\u001b[0;34m\u001b[0m\u001b[0;34m\u001b[0m\u001b[0m\n\u001b[0m\u001b[1;32m    455\u001b[0m     \u001b[0;32mfinally\u001b[0m\u001b[0;34m:\u001b[0m\u001b[0;34m\u001b[0m\u001b[0;34m\u001b[0m\u001b[0m\n\u001b[1;32m    456\u001b[0m         \u001b[0mparser\u001b[0m\u001b[0;34m.\u001b[0m\u001b[0mclose\u001b[0m\u001b[0;34m(\u001b[0m\u001b[0;34m)\u001b[0m\u001b[0;34m\u001b[0m\u001b[0;34m\u001b[0m\u001b[0m\n",
            "\u001b[0;32m/usr/local/lib/python3.6/dist-packages/pandas/io/parsers.py\u001b[0m in \u001b[0;36mread\u001b[0;34m(self, nrows)\u001b[0m\n\u001b[1;32m   1131\u001b[0m     \u001b[0;32mdef\u001b[0m \u001b[0mread\u001b[0m\u001b[0;34m(\u001b[0m\u001b[0mself\u001b[0m\u001b[0;34m,\u001b[0m \u001b[0mnrows\u001b[0m\u001b[0;34m=\u001b[0m\u001b[0;32mNone\u001b[0m\u001b[0;34m)\u001b[0m\u001b[0;34m:\u001b[0m\u001b[0;34m\u001b[0m\u001b[0;34m\u001b[0m\u001b[0m\n\u001b[1;32m   1132\u001b[0m         \u001b[0mnrows\u001b[0m \u001b[0;34m=\u001b[0m \u001b[0m_validate_integer\u001b[0m\u001b[0;34m(\u001b[0m\u001b[0;34m\"nrows\"\u001b[0m\u001b[0;34m,\u001b[0m \u001b[0mnrows\u001b[0m\u001b[0;34m)\u001b[0m\u001b[0;34m\u001b[0m\u001b[0;34m\u001b[0m\u001b[0m\n\u001b[0;32m-> 1133\u001b[0;31m         \u001b[0mret\u001b[0m \u001b[0;34m=\u001b[0m \u001b[0mself\u001b[0m\u001b[0;34m.\u001b[0m\u001b[0m_engine\u001b[0m\u001b[0;34m.\u001b[0m\u001b[0mread\u001b[0m\u001b[0;34m(\u001b[0m\u001b[0mnrows\u001b[0m\u001b[0;34m)\u001b[0m\u001b[0;34m\u001b[0m\u001b[0;34m\u001b[0m\u001b[0m\n\u001b[0m\u001b[1;32m   1134\u001b[0m \u001b[0;34m\u001b[0m\u001b[0m\n\u001b[1;32m   1135\u001b[0m         \u001b[0;31m# May alter columns / col_dict\u001b[0m\u001b[0;34m\u001b[0m\u001b[0;34m\u001b[0m\u001b[0;34m\u001b[0m\u001b[0m\n",
            "\u001b[0;32m/usr/local/lib/python3.6/dist-packages/pandas/io/parsers.py\u001b[0m in \u001b[0;36mread\u001b[0;34m(self, nrows)\u001b[0m\n\u001b[1;32m   2044\u001b[0m                     \u001b[0mself\u001b[0m\u001b[0;34m.\u001b[0m\u001b[0mindex_col\u001b[0m\u001b[0;34m,\u001b[0m\u001b[0;34m\u001b[0m\u001b[0;34m\u001b[0m\u001b[0m\n\u001b[1;32m   2045\u001b[0m                     \u001b[0mself\u001b[0m\u001b[0;34m.\u001b[0m\u001b[0mindex_names\u001b[0m\u001b[0;34m,\u001b[0m\u001b[0;34m\u001b[0m\u001b[0;34m\u001b[0m\u001b[0m\n\u001b[0;32m-> 2046\u001b[0;31m                     \u001b[0mdtype\u001b[0m\u001b[0;34m=\u001b[0m\u001b[0mself\u001b[0m\u001b[0;34m.\u001b[0m\u001b[0mkwds\u001b[0m\u001b[0;34m.\u001b[0m\u001b[0mget\u001b[0m\u001b[0;34m(\u001b[0m\u001b[0;34m\"dtype\"\u001b[0m\u001b[0;34m)\u001b[0m\u001b[0;34m,\u001b[0m\u001b[0;34m\u001b[0m\u001b[0;34m\u001b[0m\u001b[0m\n\u001b[0m\u001b[1;32m   2047\u001b[0m                 )\n\u001b[1;32m   2048\u001b[0m                 \u001b[0mcolumns\u001b[0m \u001b[0;34m=\u001b[0m \u001b[0mself\u001b[0m\u001b[0;34m.\u001b[0m\u001b[0m_maybe_make_multi_index_columns\u001b[0m\u001b[0;34m(\u001b[0m\u001b[0mcolumns\u001b[0m\u001b[0;34m,\u001b[0m \u001b[0mself\u001b[0m\u001b[0;34m.\u001b[0m\u001b[0mcol_names\u001b[0m\u001b[0;34m)\u001b[0m\u001b[0;34m\u001b[0m\u001b[0;34m\u001b[0m\u001b[0m\n",
            "\u001b[0;32m/usr/local/lib/python3.6/dist-packages/pandas/io/parsers.py\u001b[0m in \u001b[0;36m_get_empty_meta\u001b[0;34m(columns, index_col, index_names, dtype)\u001b[0m\n\u001b[1;32m   3453\u001b[0m             \u001b[0mcolumns\u001b[0m\u001b[0;34m.\u001b[0m\u001b[0mpop\u001b[0m\u001b[0;34m(\u001b[0m\u001b[0mn\u001b[0m \u001b[0;34m-\u001b[0m \u001b[0mi\u001b[0m\u001b[0;34m)\u001b[0m\u001b[0;34m\u001b[0m\u001b[0;34m\u001b[0m\u001b[0m\n\u001b[1;32m   3454\u001b[0m \u001b[0;34m\u001b[0m\u001b[0m\n\u001b[0;32m-> 3455\u001b[0;31m     \u001b[0mcol_dict\u001b[0m \u001b[0;34m=\u001b[0m \u001b[0;34m{\u001b[0m\u001b[0mcol_name\u001b[0m\u001b[0;34m:\u001b[0m \u001b[0mSeries\u001b[0m\u001b[0;34m(\u001b[0m\u001b[0;34m[\u001b[0m\u001b[0;34m]\u001b[0m\u001b[0;34m,\u001b[0m \u001b[0mdtype\u001b[0m\u001b[0;34m=\u001b[0m\u001b[0mdtype\u001b[0m\u001b[0;34m[\u001b[0m\u001b[0mcol_name\u001b[0m\u001b[0;34m]\u001b[0m\u001b[0;34m)\u001b[0m \u001b[0;32mfor\u001b[0m \u001b[0mcol_name\u001b[0m \u001b[0;32min\u001b[0m \u001b[0mcolumns\u001b[0m\u001b[0;34m}\u001b[0m\u001b[0;34m\u001b[0m\u001b[0;34m\u001b[0m\u001b[0m\n\u001b[0m\u001b[1;32m   3456\u001b[0m \u001b[0;34m\u001b[0m\u001b[0m\n\u001b[1;32m   3457\u001b[0m     \u001b[0;32mreturn\u001b[0m \u001b[0mindex\u001b[0m\u001b[0;34m,\u001b[0m \u001b[0mcolumns\u001b[0m\u001b[0;34m,\u001b[0m \u001b[0mcol_dict\u001b[0m\u001b[0;34m\u001b[0m\u001b[0;34m\u001b[0m\u001b[0m\n",
            "\u001b[0;32m/usr/local/lib/python3.6/dist-packages/pandas/io/parsers.py\u001b[0m in \u001b[0;36m<dictcomp>\u001b[0;34m(.0)\u001b[0m\n\u001b[1;32m   3453\u001b[0m             \u001b[0mcolumns\u001b[0m\u001b[0;34m.\u001b[0m\u001b[0mpop\u001b[0m\u001b[0;34m(\u001b[0m\u001b[0mn\u001b[0m \u001b[0;34m-\u001b[0m \u001b[0mi\u001b[0m\u001b[0;34m)\u001b[0m\u001b[0;34m\u001b[0m\u001b[0;34m\u001b[0m\u001b[0m\n\u001b[1;32m   3454\u001b[0m \u001b[0;34m\u001b[0m\u001b[0m\n\u001b[0;32m-> 3455\u001b[0;31m     \u001b[0mcol_dict\u001b[0m \u001b[0;34m=\u001b[0m \u001b[0;34m{\u001b[0m\u001b[0mcol_name\u001b[0m\u001b[0;34m:\u001b[0m \u001b[0mSeries\u001b[0m\u001b[0;34m(\u001b[0m\u001b[0;34m[\u001b[0m\u001b[0;34m]\u001b[0m\u001b[0;34m,\u001b[0m \u001b[0mdtype\u001b[0m\u001b[0;34m=\u001b[0m\u001b[0mdtype\u001b[0m\u001b[0;34m[\u001b[0m\u001b[0mcol_name\u001b[0m\u001b[0;34m]\u001b[0m\u001b[0;34m)\u001b[0m \u001b[0;32mfor\u001b[0m \u001b[0mcol_name\u001b[0m \u001b[0;32min\u001b[0m \u001b[0mcolumns\u001b[0m\u001b[0;34m}\u001b[0m\u001b[0;34m\u001b[0m\u001b[0;34m\u001b[0m\u001b[0m\n\u001b[0m\u001b[1;32m   3456\u001b[0m \u001b[0;34m\u001b[0m\u001b[0m\n\u001b[1;32m   3457\u001b[0m     \u001b[0;32mreturn\u001b[0m \u001b[0mindex\u001b[0m\u001b[0;34m,\u001b[0m \u001b[0mcolumns\u001b[0m\u001b[0;34m,\u001b[0m \u001b[0mcol_dict\u001b[0m\u001b[0;34m\u001b[0m\u001b[0;34m\u001b[0m\u001b[0m\n",
            "\u001b[0;32m/usr/local/lib/python3.6/dist-packages/pandas/core/series.py\u001b[0m in \u001b[0;36m__init__\u001b[0;34m(self, data, index, dtype, name, copy, fastpath)\u001b[0m\n\u001b[1;32m    277\u001b[0m                 \u001b[0mdata\u001b[0m \u001b[0;34m=\u001b[0m \u001b[0mdata\u001b[0m\u001b[0;34m.\u001b[0m\u001b[0mto_dense\u001b[0m\u001b[0;34m(\u001b[0m\u001b[0;34m)\u001b[0m\u001b[0;34m\u001b[0m\u001b[0;34m\u001b[0m\u001b[0m\n\u001b[1;32m    278\u001b[0m             \u001b[0;32melse\u001b[0m\u001b[0;34m:\u001b[0m\u001b[0;34m\u001b[0m\u001b[0;34m\u001b[0m\u001b[0m\n\u001b[0;32m--> 279\u001b[0;31m                 \u001b[0mdata\u001b[0m \u001b[0;34m=\u001b[0m \u001b[0mcom\u001b[0m\u001b[0;34m.\u001b[0m\u001b[0mmaybe_iterable_to_list\u001b[0m\u001b[0;34m(\u001b[0m\u001b[0mdata\u001b[0m\u001b[0;34m)\u001b[0m\u001b[0;34m\u001b[0m\u001b[0;34m\u001b[0m\u001b[0m\n\u001b[0m\u001b[1;32m    280\u001b[0m \u001b[0;34m\u001b[0m\u001b[0m\n\u001b[1;32m    281\u001b[0m             \u001b[0;32mif\u001b[0m \u001b[0mindex\u001b[0m \u001b[0;32mis\u001b[0m \u001b[0;32mNone\u001b[0m\u001b[0;34m:\u001b[0m\u001b[0;34m\u001b[0m\u001b[0;34m\u001b[0m\u001b[0m\n",
            "\u001b[0;32m/usr/local/lib/python3.6/dist-packages/pandas/core/common.py\u001b[0m in \u001b[0;36mmaybe_iterable_to_list\u001b[0;34m(obj)\u001b[0m\n\u001b[1;32m    277\u001b[0m     \u001b[0mIf\u001b[0m \u001b[0mobj\u001b[0m \u001b[0;32mis\u001b[0m \u001b[0mIterable\u001b[0m \u001b[0mbut\u001b[0m \u001b[0;32mnot\u001b[0m \u001b[0mlist\u001b[0m\u001b[0;34m-\u001b[0m\u001b[0mlike\u001b[0m\u001b[0;34m,\u001b[0m \u001b[0mconsume\u001b[0m \u001b[0minto\u001b[0m \u001b[0mlist\u001b[0m\u001b[0;34m.\u001b[0m\u001b[0;34m\u001b[0m\u001b[0;34m\u001b[0m\u001b[0m\n\u001b[1;32m    278\u001b[0m     \"\"\"\n\u001b[0;32m--> 279\u001b[0;31m     \u001b[0;32mif\u001b[0m \u001b[0misinstance\u001b[0m\u001b[0;34m(\u001b[0m\u001b[0mobj\u001b[0m\u001b[0;34m,\u001b[0m \u001b[0mabc\u001b[0m\u001b[0;34m.\u001b[0m\u001b[0mIterable\u001b[0m\u001b[0;34m)\u001b[0m \u001b[0;32mand\u001b[0m \u001b[0;32mnot\u001b[0m \u001b[0misinstance\u001b[0m\u001b[0;34m(\u001b[0m\u001b[0mobj\u001b[0m\u001b[0;34m,\u001b[0m \u001b[0mabc\u001b[0m\u001b[0;34m.\u001b[0m\u001b[0mSized\u001b[0m\u001b[0;34m)\u001b[0m\u001b[0;34m:\u001b[0m\u001b[0;34m\u001b[0m\u001b[0;34m\u001b[0m\u001b[0m\n\u001b[0m\u001b[1;32m    280\u001b[0m         \u001b[0;32mreturn\u001b[0m \u001b[0mlist\u001b[0m\u001b[0;34m(\u001b[0m\u001b[0mobj\u001b[0m\u001b[0;34m)\u001b[0m\u001b[0;34m\u001b[0m\u001b[0;34m\u001b[0m\u001b[0m\n\u001b[1;32m    281\u001b[0m     \u001b[0;32mreturn\u001b[0m \u001b[0mobj\u001b[0m\u001b[0;34m\u001b[0m\u001b[0;34m\u001b[0m\u001b[0m\n",
            "\u001b[0;32m/usr/lib/python3.6/abc.py\u001b[0m in \u001b[0;36m__instancecheck__\u001b[0;34m(cls, instance)\u001b[0m\n\u001b[1;32m    182\u001b[0m         \u001b[0;31m# Inline the cache checking\u001b[0m\u001b[0;34m\u001b[0m\u001b[0;34m\u001b[0m\u001b[0;34m\u001b[0m\u001b[0m\n\u001b[1;32m    183\u001b[0m         \u001b[0msubclass\u001b[0m \u001b[0;34m=\u001b[0m \u001b[0minstance\u001b[0m\u001b[0;34m.\u001b[0m\u001b[0m__class__\u001b[0m\u001b[0;34m\u001b[0m\u001b[0;34m\u001b[0m\u001b[0m\n\u001b[0;32m--> 184\u001b[0;31m         \u001b[0;32mif\u001b[0m \u001b[0msubclass\u001b[0m \u001b[0;32min\u001b[0m \u001b[0mcls\u001b[0m\u001b[0;34m.\u001b[0m\u001b[0m_abc_cache\u001b[0m\u001b[0;34m:\u001b[0m\u001b[0;34m\u001b[0m\u001b[0;34m\u001b[0m\u001b[0m\n\u001b[0m\u001b[1;32m    185\u001b[0m             \u001b[0;32mreturn\u001b[0m \u001b[0;32mTrue\u001b[0m\u001b[0;34m\u001b[0m\u001b[0;34m\u001b[0m\u001b[0m\n\u001b[1;32m    186\u001b[0m         \u001b[0msubtype\u001b[0m \u001b[0;34m=\u001b[0m \u001b[0mtype\u001b[0m\u001b[0;34m(\u001b[0m\u001b[0minstance\u001b[0m\u001b[0;34m)\u001b[0m\u001b[0;34m\u001b[0m\u001b[0;34m\u001b[0m\u001b[0m\n",
            "\u001b[0;31mKeyboardInterrupt\u001b[0m: "
          ]
        }
      ]
    },
    {
      "cell_type": "markdown",
      "metadata": {
        "id": "Gi0eNxTejk_5",
        "colab_type": "text"
      },
      "source": [
        "Apparently, it's not data in csv format, this dind't work.   \n",
        "\n",
        "Let's see whether `pd.read_json()`works. "
      ]
    },
    {
      "cell_type": "code",
      "metadata": {
        "id": "r-FJ2XEtkT8h",
        "colab_type": "code",
        "colab": {}
      },
      "source": [
        "df = pd.read_json(\"https://sedeaplicaciones.minetur.gob.es/ServiciosRESTCarburantes/PreciosCarburantes/EstacionesTerrestres/\")"
      ],
      "execution_count": 0,
      "outputs": []
    },
    {
      "cell_type": "code",
      "metadata": {
        "id": "OCyY5Tpmlo0K",
        "colab_type": "code",
        "colab": {
          "base_uri": "https://localhost:8080/",
          "height": 195
        },
        "outputId": "ed23cc58-b691-4b8f-882a-cca7250bfa2f"
      },
      "source": [
        "df.head()"
      ],
      "execution_count": 4,
      "outputs": [
        {
          "output_type": "execute_result",
          "data": {
            "text/html": [
              "<div>\n",
              "<style scoped>\n",
              "    .dataframe tbody tr th:only-of-type {\n",
              "        vertical-align: middle;\n",
              "    }\n",
              "\n",
              "    .dataframe tbody tr th {\n",
              "        vertical-align: top;\n",
              "    }\n",
              "\n",
              "    .dataframe thead th {\n",
              "        text-align: right;\n",
              "    }\n",
              "</style>\n",
              "<table border=\"1\" class=\"dataframe\">\n",
              "  <thead>\n",
              "    <tr style=\"text-align: right;\">\n",
              "      <th></th>\n",
              "      <th>Fecha</th>\n",
              "      <th>ListaEESSPrecio</th>\n",
              "      <th>Nota</th>\n",
              "      <th>ResultadoConsulta</th>\n",
              "    </tr>\n",
              "  </thead>\n",
              "  <tbody>\n",
              "    <tr>\n",
              "      <th>0</th>\n",
              "      <td>07/05/2020 18:41:21</td>\n",
              "      <td>{'C.P.': '01240', 'Dirección': 'CALLE GASTEIZB...</td>\n",
              "      <td>Archivo de todos los productos en todas las es...</td>\n",
              "      <td>NaN</td>\n",
              "    </tr>\n",
              "    <tr>\n",
              "      <th>1</th>\n",
              "      <td>07/05/2020 18:41:21</td>\n",
              "      <td>{'C.P.': '01240', 'Dirección': 'CL MANISITU, 9...</td>\n",
              "      <td>Archivo de todos los productos en todas las es...</td>\n",
              "      <td>NaN</td>\n",
              "    </tr>\n",
              "    <tr>\n",
              "      <th>2</th>\n",
              "      <td>07/05/2020 18:41:21</td>\n",
              "      <td>{'C.P.': '01468', 'Dirección': 'POLIGONO ZANKU...</td>\n",
              "      <td>Archivo de todos los productos en todas las es...</td>\n",
              "      <td>NaN</td>\n",
              "    </tr>\n",
              "    <tr>\n",
              "      <th>3</th>\n",
              "      <td>07/05/2020 18:41:21</td>\n",
              "      <td>{'C.P.': '01450', 'Dirección': 'CARRETERA A-62...</td>\n",
              "      <td>Archivo de todos los productos en todas las es...</td>\n",
              "      <td>NaN</td>\n",
              "    </tr>\n",
              "    <tr>\n",
              "      <th>4</th>\n",
              "      <td>07/05/2020 18:41:21</td>\n",
              "      <td>{'C.P.': '01120', 'Dirección': 'CARRETERA A-13...</td>\n",
              "      <td>Archivo de todos los productos en todas las es...</td>\n",
              "      <td>NaN</td>\n",
              "    </tr>\n",
              "  </tbody>\n",
              "</table>\n",
              "</div>"
            ],
            "text/plain": [
              "                 Fecha  ... ResultadoConsulta\n",
              "0  07/05/2020 18:41:21  ...               NaN\n",
              "1  07/05/2020 18:41:21  ...               NaN\n",
              "2  07/05/2020 18:41:21  ...               NaN\n",
              "3  07/05/2020 18:41:21  ...               NaN\n",
              "4  07/05/2020 18:41:21  ...               NaN\n",
              "\n",
              "[5 rows x 4 columns]"
            ]
          },
          "metadata": {
            "tags": []
          },
          "execution_count": 4
        }
      ]
    },
    {
      "cell_type": "markdown",
      "metadata": {
        "id": "KI0-Y8Nt3YNZ",
        "colab_type": "text"
      },
      "source": [
        "This seems to have worked, but there is another way of doing it "
      ]
    },
    {
      "cell_type": "markdown",
      "metadata": {
        "id": "t7F09tIBlb0J",
        "colab_type": "text"
      },
      "source": [
        "To read the data of a web service we can try to use the request library"
      ]
    },
    {
      "cell_type": "code",
      "metadata": {
        "id": "5eFXxwkbmrbq",
        "colab_type": "code",
        "colab": {}
      },
      "source": [
        "# Import all necessary libraries\n",
        "import pandas as pd\n",
        "import requests\n",
        "import json \n",
        "\n",
        "# Save the URL to avariable and the save the information to a variable resp\n",
        "url = \"https://sedeaplicaciones.minetur.gob.es/ServiciosRESTCarburantes/PreciosCarburantes/EstacionesTerrestres/\"\n",
        "resp = requests.get(url)\n"
      ],
      "execution_count": 0,
      "outputs": []
    },
    {
      "cell_type": "code",
      "metadata": {
        "id": "1T4huj3R4Gx9",
        "colab_type": "code",
        "colab": {
          "base_uri": "https://localhost:8080/",
          "height": 212
        },
        "outputId": "1b04be32-5582-4ce1-8eb7-d2ea6aab3abe"
      },
      "source": [
        "# Extract the data from the Json format and create a dataframe\n",
        "data = resp.json()\n",
        "df = pd.DataFrame(data) \n",
        "\n",
        "# Show the dataframe's head and shape\n",
        "print(df.shape)\n",
        "df.head()"
      ],
      "execution_count": 6,
      "outputs": [
        {
          "output_type": "stream",
          "text": [
            "(10355, 4)\n"
          ],
          "name": "stdout"
        },
        {
          "output_type": "execute_result",
          "data": {
            "text/html": [
              "<div>\n",
              "<style scoped>\n",
              "    .dataframe tbody tr th:only-of-type {\n",
              "        vertical-align: middle;\n",
              "    }\n",
              "\n",
              "    .dataframe tbody tr th {\n",
              "        vertical-align: top;\n",
              "    }\n",
              "\n",
              "    .dataframe thead th {\n",
              "        text-align: right;\n",
              "    }\n",
              "</style>\n",
              "<table border=\"1\" class=\"dataframe\">\n",
              "  <thead>\n",
              "    <tr style=\"text-align: right;\">\n",
              "      <th></th>\n",
              "      <th>Fecha</th>\n",
              "      <th>ListaEESSPrecio</th>\n",
              "      <th>Nota</th>\n",
              "      <th>ResultadoConsulta</th>\n",
              "    </tr>\n",
              "  </thead>\n",
              "  <tbody>\n",
              "    <tr>\n",
              "      <th>0</th>\n",
              "      <td>07/05/2020 18:41:40</td>\n",
              "      <td>{'C.P.': '01240', 'Dirección': 'CALLE GASTEIZB...</td>\n",
              "      <td>Archivo de todos los productos en todas las es...</td>\n",
              "      <td>None</td>\n",
              "    </tr>\n",
              "    <tr>\n",
              "      <th>1</th>\n",
              "      <td>07/05/2020 18:41:40</td>\n",
              "      <td>{'C.P.': '01240', 'Dirección': 'CL MANISITU, 9...</td>\n",
              "      <td>Archivo de todos los productos en todas las es...</td>\n",
              "      <td>None</td>\n",
              "    </tr>\n",
              "    <tr>\n",
              "      <th>2</th>\n",
              "      <td>07/05/2020 18:41:40</td>\n",
              "      <td>{'C.P.': '01468', 'Dirección': 'POLIGONO ZANKU...</td>\n",
              "      <td>Archivo de todos los productos en todas las es...</td>\n",
              "      <td>None</td>\n",
              "    </tr>\n",
              "    <tr>\n",
              "      <th>3</th>\n",
              "      <td>07/05/2020 18:41:40</td>\n",
              "      <td>{'C.P.': '01450', 'Dirección': 'CARRETERA A-62...</td>\n",
              "      <td>Archivo de todos los productos en todas las es...</td>\n",
              "      <td>None</td>\n",
              "    </tr>\n",
              "    <tr>\n",
              "      <th>4</th>\n",
              "      <td>07/05/2020 18:41:40</td>\n",
              "      <td>{'C.P.': '01120', 'Dirección': 'CARRETERA A-13...</td>\n",
              "      <td>Archivo de todos los productos en todas las es...</td>\n",
              "      <td>None</td>\n",
              "    </tr>\n",
              "  </tbody>\n",
              "</table>\n",
              "</div>"
            ],
            "text/plain": [
              "                 Fecha  ... ResultadoConsulta\n",
              "0  07/05/2020 18:41:40  ...              None\n",
              "1  07/05/2020 18:41:40  ...              None\n",
              "2  07/05/2020 18:41:40  ...              None\n",
              "3  07/05/2020 18:41:40  ...              None\n",
              "4  07/05/2020 18:41:40  ...              None\n",
              "\n",
              "[5 rows x 4 columns]"
            ]
          },
          "metadata": {
            "tags": []
          },
          "execution_count": 6
        }
      ]
    },
    {
      "cell_type": "markdown",
      "metadata": {
        "id": "RmrPkhwW4xFy",
        "colab_type": "text"
      },
      "source": [
        "## Let's explore the data a little \n",
        "\n",
        "It seems like \"Nota\" contains a note for us.\n",
        "\n",
        "Let's reed it "
      ]
    },
    {
      "cell_type": "code",
      "metadata": {
        "id": "43knOCAq9V3y",
        "colab_type": "code",
        "colab": {
          "base_uri": "https://localhost:8080/",
          "height": 34
        },
        "outputId": "9c7750a1-c5d7-450e-9b84-ca1bc426a87f"
      },
      "source": [
        "df[\"Nota\"][0]"
      ],
      "execution_count": 7,
      "outputs": [
        {
          "output_type": "execute_result",
          "data": {
            "text/plain": [
              "'Archivo de todos los productos en todas las estaciones de servicio. La actualización de precios se realiza cada media hora, con los precios en vigor en ese momento.'"
            ]
          },
          "metadata": {
            "tags": []
          },
          "execution_count": 7
        }
      ]
    },
    {
      "cell_type": "markdown",
      "metadata": {
        "id": "HDXG_WJC9ufT",
        "colab_type": "text"
      },
      "source": [
        "###*Here's a translation:* \n",
        "\n",
        "'Archive of all products in all service stations. Price updates are done every half hour, with prices in effect at that time. '\n",
        "\n",
        "It seems as if our datatable contains 10356 dictionaries of Prices of gasstations. "
      ]
    },
    {
      "cell_type": "markdown",
      "metadata": {
        "id": "iz6Id6Wz-NKn",
        "colab_type": "text"
      },
      "source": [
        "Upon closer inspection we can see that \"Fecha\" gives us information on the date and time "
      ]
    },
    {
      "cell_type": "code",
      "metadata": {
        "id": "xKnZxtqhzRYG",
        "colab_type": "code",
        "colab": {
          "base_uri": "https://localhost:8080/",
          "height": 34
        },
        "outputId": "32bffebd-ba9e-48b3-c95d-7e63ec1b015a"
      },
      "source": [
        "df[\"Fecha\"][0]"
      ],
      "execution_count": 8,
      "outputs": [
        {
          "output_type": "execute_result",
          "data": {
            "text/plain": [
              "'07/05/2020 18:41:40'"
            ]
          },
          "metadata": {
            "tags": []
          },
          "execution_count": 8
        }
      ]
    },
    {
      "cell_type": "markdown",
      "metadata": {
        "id": "YBmp1AT7-Uc0",
        "colab_type": "text"
      },
      "source": [
        "ListaEESSPrecio contains a lot more information. in form of a dictionary."
      ]
    },
    {
      "cell_type": "code",
      "metadata": {
        "id": "9rvLvkMY2H6f",
        "colab_type": "code",
        "colab": {
          "base_uri": "https://localhost:8080/",
          "height": 118
        },
        "outputId": "d17697a2-76c1-4d6f-99a8-e078557ee1cc"
      },
      "source": [
        "df[\"ListaEESSPrecio\"].head()"
      ],
      "execution_count": 9,
      "outputs": [
        {
          "output_type": "execute_result",
          "data": {
            "text/plain": [
              "0    {'C.P.': '01240', 'Dirección': 'CALLE GASTEIZB...\n",
              "1    {'C.P.': '01240', 'Dirección': 'CL MANISITU, 9...\n",
              "2    {'C.P.': '01468', 'Dirección': 'POLIGONO ZANKU...\n",
              "3    {'C.P.': '01450', 'Dirección': 'CARRETERA A-62...\n",
              "4    {'C.P.': '01120', 'Dirección': 'CARRETERA A-13...\n",
              "Name: ListaEESSPrecio, dtype: object"
            ]
          },
          "metadata": {
            "tags": []
          },
          "execution_count": 9
        }
      ]
    },
    {
      "cell_type": "markdown",
      "metadata": {
        "id": "V_9XE_Ye-jfi",
        "colab_type": "text"
      },
      "source": [
        "Let's take a closer look"
      ]
    },
    {
      "cell_type": "code",
      "metadata": {
        "id": "LFqBfxYj2M7m",
        "colab_type": "code",
        "colab": {
          "base_uri": "https://localhost:8080/",
          "height": 487
        },
        "outputId": "6eb31739-a597-4326-f63c-c7c7bacbaf74"
      },
      "source": [
        "df[\"ListaEESSPrecio\"][0]"
      ],
      "execution_count": 10,
      "outputs": [
        {
          "output_type": "execute_result",
          "data": {
            "text/plain": [
              "{'% BioEtanol': '0,0',\n",
              " '% Éster metílico': '0,0',\n",
              " 'C.P.': '01240',\n",
              " 'Dirección': 'CALLE GASTEIZBIDEA, 59',\n",
              " 'Horario': 'L-D: 07:00-20:00',\n",
              " 'IDCCAA': '16',\n",
              " 'IDEESS': '14209',\n",
              " 'IDMunicipio': '1',\n",
              " 'IDProvincia': '01',\n",
              " 'Latitud': '42,842917',\n",
              " 'Localidad': 'ALEGRIA-DULANTZI',\n",
              " 'Longitud (WGS84)': '-2,519194',\n",
              " 'Margen': 'D',\n",
              " 'Municipio': 'Alegría-Dulantzi',\n",
              " 'Precio Biodiesel': None,\n",
              " 'Precio Bioetanol': None,\n",
              " 'Precio Gas Natural Comprimido': None,\n",
              " 'Precio Gas Natural Licuado': None,\n",
              " 'Precio Gases licuados del petróleo': None,\n",
              " 'Precio Gasoleo A': '1,069',\n",
              " 'Precio Gasoleo B': None,\n",
              " 'Precio Gasolina  98': None,\n",
              " 'Precio Gasolina 95 Protección': '1,159',\n",
              " 'Precio Nuevo Gasoleo A': None,\n",
              " 'Provincia': 'ÁLAVA',\n",
              " 'Remisión': 'dm',\n",
              " 'Rótulo': 'ES DULANTZI REPSOL',\n",
              " 'Tipo Venta': 'P'}"
            ]
          },
          "metadata": {
            "tags": []
          },
          "execution_count": 10
        }
      ]
    },
    {
      "cell_type": "markdown",
      "metadata": {
        "id": "LrcyAgWu5P82",
        "colab_type": "text"
      },
      "source": [
        "All data that we want seems to be in the \"ListaEESSPrecio\" Column.\n",
        " \n",
        "Thus, for our purposes we can discard the rest"
      ]
    },
    {
      "cell_type": "code",
      "metadata": {
        "id": "-veZi_t559B8",
        "colab_type": "code",
        "colab": {
          "base_uri": "https://localhost:8080/",
          "height": 402
        },
        "outputId": "91ed2236-3738-429b-f77a-9eaf59d2650a"
      },
      "source": [
        "pd.DataFrame.from_dict(df[\"ListaEESSPrecio\"])"
      ],
      "execution_count": 11,
      "outputs": [
        {
          "output_type": "execute_result",
          "data": {
            "text/html": [
              "<div>\n",
              "<style scoped>\n",
              "    .dataframe tbody tr th:only-of-type {\n",
              "        vertical-align: middle;\n",
              "    }\n",
              "\n",
              "    .dataframe tbody tr th {\n",
              "        vertical-align: top;\n",
              "    }\n",
              "\n",
              "    .dataframe thead th {\n",
              "        text-align: right;\n",
              "    }\n",
              "</style>\n",
              "<table border=\"1\" class=\"dataframe\">\n",
              "  <thead>\n",
              "    <tr style=\"text-align: right;\">\n",
              "      <th></th>\n",
              "      <th>ListaEESSPrecio</th>\n",
              "    </tr>\n",
              "  </thead>\n",
              "  <tbody>\n",
              "    <tr>\n",
              "      <th>0</th>\n",
              "      <td>{'C.P.': '01240', 'Dirección': 'CALLE GASTEIZB...</td>\n",
              "    </tr>\n",
              "    <tr>\n",
              "      <th>1</th>\n",
              "      <td>{'C.P.': '01240', 'Dirección': 'CL MANISITU, 9...</td>\n",
              "    </tr>\n",
              "    <tr>\n",
              "      <th>2</th>\n",
              "      <td>{'C.P.': '01468', 'Dirección': 'POLIGONO ZANKU...</td>\n",
              "    </tr>\n",
              "    <tr>\n",
              "      <th>3</th>\n",
              "      <td>{'C.P.': '01450', 'Dirección': 'CARRETERA A-62...</td>\n",
              "    </tr>\n",
              "    <tr>\n",
              "      <th>4</th>\n",
              "      <td>{'C.P.': '01120', 'Dirección': 'CARRETERA A-13...</td>\n",
              "    </tr>\n",
              "    <tr>\n",
              "      <th>...</th>\n",
              "      <td>...</td>\n",
              "    </tr>\n",
              "    <tr>\n",
              "      <th>10350</th>\n",
              "      <td>{'C.P.': '50197', 'Dirección': 'RONDA FERIA DE...</td>\n",
              "    </tr>\n",
              "    <tr>\n",
              "      <th>10351</th>\n",
              "      <td>{'C.P.': '50197', 'Dirección': 'POLIGONO CALLE...</td>\n",
              "    </tr>\n",
              "    <tr>\n",
              "      <th>10352</th>\n",
              "      <td>{'C.P.': '50800', 'Dirección': 'CARRETERA N-33...</td>\n",
              "    </tr>\n",
              "    <tr>\n",
              "      <th>10353</th>\n",
              "      <td>{'C.P.': '50800', 'Dirección': 'CALLE AUSTRIA,...</td>\n",
              "    </tr>\n",
              "    <tr>\n",
              "      <th>10354</th>\n",
              "      <td>{'C.P.': '50810', 'Dirección': 'CALLE COOPERAT...</td>\n",
              "    </tr>\n",
              "  </tbody>\n",
              "</table>\n",
              "<p>10355 rows × 1 columns</p>\n",
              "</div>"
            ],
            "text/plain": [
              "                                         ListaEESSPrecio\n",
              "0      {'C.P.': '01240', 'Dirección': 'CALLE GASTEIZB...\n",
              "1      {'C.P.': '01240', 'Dirección': 'CL MANISITU, 9...\n",
              "2      {'C.P.': '01468', 'Dirección': 'POLIGONO ZANKU...\n",
              "3      {'C.P.': '01450', 'Dirección': 'CARRETERA A-62...\n",
              "4      {'C.P.': '01120', 'Dirección': 'CARRETERA A-13...\n",
              "...                                                  ...\n",
              "10350  {'C.P.': '50197', 'Dirección': 'RONDA FERIA DE...\n",
              "10351  {'C.P.': '50197', 'Dirección': 'POLIGONO CALLE...\n",
              "10352  {'C.P.': '50800', 'Dirección': 'CARRETERA N-33...\n",
              "10353  {'C.P.': '50800', 'Dirección': 'CALLE AUSTRIA,...\n",
              "10354  {'C.P.': '50810', 'Dirección': 'CALLE COOPERAT...\n",
              "\n",
              "[10355 rows x 1 columns]"
            ]
          },
          "metadata": {
            "tags": []
          },
          "execution_count": 11
        }
      ]
    },
    {
      "cell_type": "markdown",
      "metadata": {
        "id": "xHTKlG-l2lwC",
        "colab_type": "text"
      },
      "source": [
        "Let's save the collumn names that we need into a variable called columns"
      ]
    },
    {
      "cell_type": "code",
      "metadata": {
        "id": "GRq33ui4xkfM",
        "colab_type": "code",
        "colab": {}
      },
      "source": [
        "columns=[\"C.P.\",\"Dirección\",\"Horario\", \"Latitud\", \"Localidad\",\n",
        "         \"Longitud (WGS84)\",\"Margen\", \"Municipio\", \"Precio Biodiesel\",\n",
        "         \"Precio Bioetanol\", \"Precio Gas Natural Comprimido\",\n",
        "         \"Precio Gas Natural Licuado\", \"Precio Gases licuados del petróleo\",\n",
        "         \"Precio Gasoleo A\", \"Precio Gasoleo B\", \"Precio Gasolina 95 Protección\",\n",
        "         \"Precio Nuevo Gasoleo A\", \"Provincia\", \"Remisión\"]"
      ],
      "execution_count": 0,
      "outputs": []
    },
    {
      "cell_type": "markdown",
      "metadata": {
        "id": "MDtumIaR-un9",
        "colab_type": "text"
      },
      "source": [
        "Let's save the data from the ListaEESSPrecio dictionaries to a variable. \n",
        "\n",
        "Then we can create a DataFrame by handing it a list of all dictionaries, by creating a list comprehension \n",
        "\n",
        "At last we can look at the DataFrames head in order to see whether it worked."
      ]
    },
    {
      "cell_type": "code",
      "metadata": {
        "id": "N_onZDsn6LyG",
        "colab_type": "code",
        "colab": {
          "base_uri": "https://localhost:8080/",
          "height": 467
        },
        "outputId": "ba1c6154-66c8-475f-8d2e-8da9fee72e81"
      },
      "source": [
        "data = df.ListaEESSPrecio\n",
        "\n",
        "dict_data = pd.DataFrame([dic for dic in data])\n",
        "\n",
        "print(dict_data.shape)\n",
        "dict_data.head()"
      ],
      "execution_count": 13,
      "outputs": [
        {
          "output_type": "stream",
          "text": [
            "(10355, 28)\n"
          ],
          "name": "stdout"
        },
        {
          "output_type": "execute_result",
          "data": {
            "text/html": [
              "<div>\n",
              "<style scoped>\n",
              "    .dataframe tbody tr th:only-of-type {\n",
              "        vertical-align: middle;\n",
              "    }\n",
              "\n",
              "    .dataframe tbody tr th {\n",
              "        vertical-align: top;\n",
              "    }\n",
              "\n",
              "    .dataframe thead th {\n",
              "        text-align: right;\n",
              "    }\n",
              "</style>\n",
              "<table border=\"1\" class=\"dataframe\">\n",
              "  <thead>\n",
              "    <tr style=\"text-align: right;\">\n",
              "      <th></th>\n",
              "      <th>C.P.</th>\n",
              "      <th>Dirección</th>\n",
              "      <th>Horario</th>\n",
              "      <th>Latitud</th>\n",
              "      <th>Localidad</th>\n",
              "      <th>Longitud (WGS84)</th>\n",
              "      <th>Margen</th>\n",
              "      <th>Municipio</th>\n",
              "      <th>Precio Biodiesel</th>\n",
              "      <th>Precio Bioetanol</th>\n",
              "      <th>Precio Gas Natural Comprimido</th>\n",
              "      <th>Precio Gas Natural Licuado</th>\n",
              "      <th>Precio Gases licuados del petróleo</th>\n",
              "      <th>Precio Gasoleo A</th>\n",
              "      <th>Precio Gasoleo B</th>\n",
              "      <th>Precio Gasolina 95 Protección</th>\n",
              "      <th>Precio Gasolina  98</th>\n",
              "      <th>Precio Nuevo Gasoleo A</th>\n",
              "      <th>Provincia</th>\n",
              "      <th>Remisión</th>\n",
              "      <th>Rótulo</th>\n",
              "      <th>Tipo Venta</th>\n",
              "      <th>% BioEtanol</th>\n",
              "      <th>% Éster metílico</th>\n",
              "      <th>IDEESS</th>\n",
              "      <th>IDMunicipio</th>\n",
              "      <th>IDProvincia</th>\n",
              "      <th>IDCCAA</th>\n",
              "    </tr>\n",
              "  </thead>\n",
              "  <tbody>\n",
              "    <tr>\n",
              "      <th>0</th>\n",
              "      <td>01240</td>\n",
              "      <td>CALLE GASTEIZBIDEA, 59</td>\n",
              "      <td>L-D: 07:00-20:00</td>\n",
              "      <td>42,842917</td>\n",
              "      <td>ALEGRIA-DULANTZI</td>\n",
              "      <td>-2,519194</td>\n",
              "      <td>D</td>\n",
              "      <td>Alegría-Dulantzi</td>\n",
              "      <td>None</td>\n",
              "      <td>None</td>\n",
              "      <td>None</td>\n",
              "      <td>None</td>\n",
              "      <td>None</td>\n",
              "      <td>1,069</td>\n",
              "      <td>None</td>\n",
              "      <td>1,159</td>\n",
              "      <td>None</td>\n",
              "      <td>None</td>\n",
              "      <td>ÁLAVA</td>\n",
              "      <td>dm</td>\n",
              "      <td>ES DULANTZI REPSOL</td>\n",
              "      <td>P</td>\n",
              "      <td>0,0</td>\n",
              "      <td>0,0</td>\n",
              "      <td>14209</td>\n",
              "      <td>1</td>\n",
              "      <td>01</td>\n",
              "      <td>16</td>\n",
              "    </tr>\n",
              "    <tr>\n",
              "      <th>1</th>\n",
              "      <td>01240</td>\n",
              "      <td>CL MANISITU, 9</td>\n",
              "      <td>L-D: 24H</td>\n",
              "      <td>42,846028</td>\n",
              "      <td>ALEGRIA-DULANTZI</td>\n",
              "      <td>-2,509361</td>\n",
              "      <td>D</td>\n",
              "      <td>Alegría-Dulantzi</td>\n",
              "      <td>None</td>\n",
              "      <td>None</td>\n",
              "      <td>None</td>\n",
              "      <td>None</td>\n",
              "      <td>None</td>\n",
              "      <td>1,025</td>\n",
              "      <td>0,726</td>\n",
              "      <td>None</td>\n",
              "      <td>None</td>\n",
              "      <td>None</td>\n",
              "      <td>ÁLAVA</td>\n",
              "      <td>dm</td>\n",
              "      <td>PREMIRA ENERGIA NORTE, S.L.</td>\n",
              "      <td>P</td>\n",
              "      <td>0,0</td>\n",
              "      <td>0,0</td>\n",
              "      <td>9381</td>\n",
              "      <td>1</td>\n",
              "      <td>01</td>\n",
              "      <td>16</td>\n",
              "    </tr>\n",
              "    <tr>\n",
              "      <th>2</th>\n",
              "      <td>01468</td>\n",
              "      <td>POLIGONO ZANKUETA, 0</td>\n",
              "      <td>L-D: 24H</td>\n",
              "      <td>43,044333</td>\n",
              "      <td>LARRINBE</td>\n",
              "      <td>-2,989111</td>\n",
              "      <td>D</td>\n",
              "      <td>Amurrio</td>\n",
              "      <td>None</td>\n",
              "      <td>None</td>\n",
              "      <td>None</td>\n",
              "      <td>None</td>\n",
              "      <td>None</td>\n",
              "      <td>0,949</td>\n",
              "      <td>None</td>\n",
              "      <td>1,019</td>\n",
              "      <td>1,189</td>\n",
              "      <td>1,029</td>\n",
              "      <td>ÁLAVA</td>\n",
              "      <td>dm</td>\n",
              "      <td>ESTACIONES GB</td>\n",
              "      <td>P</td>\n",
              "      <td>0,0</td>\n",
              "      <td>0,0</td>\n",
              "      <td>13543</td>\n",
              "      <td>2</td>\n",
              "      <td>01</td>\n",
              "      <td>16</td>\n",
              "    </tr>\n",
              "    <tr>\n",
              "      <th>3</th>\n",
              "      <td>01450</td>\n",
              "      <td>CARRETERA A-624 KM. 37,8</td>\n",
              "      <td>L-D: 06:00-22:00</td>\n",
              "      <td>43,031889</td>\n",
              "      <td>LEZAMA</td>\n",
              "      <td>-2,967611</td>\n",
              "      <td>D</td>\n",
              "      <td>Amurrio</td>\n",
              "      <td>None</td>\n",
              "      <td>None</td>\n",
              "      <td>None</td>\n",
              "      <td>None</td>\n",
              "      <td>None</td>\n",
              "      <td>1,039</td>\n",
              "      <td>None</td>\n",
              "      <td>1,139</td>\n",
              "      <td>1,264</td>\n",
              "      <td>1,099</td>\n",
              "      <td>ÁLAVA</td>\n",
              "      <td>OM</td>\n",
              "      <td>CEPSA</td>\n",
              "      <td>P</td>\n",
              "      <td>0,0</td>\n",
              "      <td>0,0</td>\n",
              "      <td>45</td>\n",
              "      <td>2</td>\n",
              "      <td>01</td>\n",
              "      <td>16</td>\n",
              "    </tr>\n",
              "    <tr>\n",
              "      <th>4</th>\n",
              "      <td>01120</td>\n",
              "      <td>CARRETERA A-132 VITORIA-ESTELLA KM. 23</td>\n",
              "      <td>L-D: 07:00-23:00</td>\n",
              "      <td>42,753194</td>\n",
              "      <td>MAEZTU/MAESTU</td>\n",
              "      <td>-2,477917</td>\n",
              "      <td>I</td>\n",
              "      <td>Arraia-Maeztu</td>\n",
              "      <td>None</td>\n",
              "      <td>None</td>\n",
              "      <td>None</td>\n",
              "      <td>None</td>\n",
              "      <td>None</td>\n",
              "      <td>1,145</td>\n",
              "      <td>None</td>\n",
              "      <td>1,250</td>\n",
              "      <td>1,315</td>\n",
              "      <td>None</td>\n",
              "      <td>ÁLAVA</td>\n",
              "      <td>dm</td>\n",
              "      <td>(SIN RÓTULO)</td>\n",
              "      <td>P</td>\n",
              "      <td>0,0</td>\n",
              "      <td>0,0</td>\n",
              "      <td>8060</td>\n",
              "      <td>6</td>\n",
              "      <td>01</td>\n",
              "      <td>16</td>\n",
              "    </tr>\n",
              "  </tbody>\n",
              "</table>\n",
              "</div>"
            ],
            "text/plain": [
              "    C.P.                               Dirección  ... IDProvincia IDCCAA\n",
              "0  01240                  CALLE GASTEIZBIDEA, 59  ...          01     16\n",
              "1  01240                          CL MANISITU, 9  ...          01     16\n",
              "2  01468                    POLIGONO ZANKUETA, 0  ...          01     16\n",
              "3  01450                CARRETERA A-624 KM. 37,8  ...          01     16\n",
              "4  01120  CARRETERA A-132 VITORIA-ESTELLA KM. 23  ...          01     16\n",
              "\n",
              "[5 rows x 28 columns]"
            ]
          },
          "metadata": {
            "tags": []
          },
          "execution_count": 13
        }
      ]
    },
    {
      "cell_type": "markdown",
      "metadata": {
        "id": "xsrNys-J_TnJ",
        "colab_type": "text"
      },
      "source": [
        "This seems to have worked. \n",
        "\n",
        "- The last thing we need is to discard the columns that we are not interested in.\n",
        "- We can do this by saving the names of the columns that we are interested in, into a variable \n",
        "- Then we can simply use slicing to obtain a new dataframe"
      ]
    },
    {
      "cell_type": "code",
      "metadata": {
        "id": "zAUtIpCd7I6O",
        "colab_type": "code",
        "colab": {}
      },
      "source": [
        "columns=[\"C.P.\",\"Dirección\",\"Horario\", \"Latitud\", \"Localidad\",\n",
        "         \"Longitud (WGS84)\",\"Margen\", \"Municipio\", \"Precio Biodiesel\",\n",
        "         \"Precio Bioetanol\", \"Precio Gas Natural Comprimido\",\n",
        "         \"Precio Gas Natural Licuado\", \"Precio Gases licuados del petróleo\",\n",
        "         \"Precio Gasoleo A\", \"Precio Gasoleo B\", \"Precio Gasolina 95 Protección\",\n",
        "         \"Precio Nuevo Gasoleo A\", \"Provincia\", \"Remisión\"]\n",
        "\n",
        "final_dataframe = dict_data[columns]"
      ],
      "execution_count": 0,
      "outputs": []
    },
    {
      "cell_type": "markdown",
      "metadata": {
        "id": "EO0keZeOAOH0",
        "colab_type": "text"
      },
      "source": [
        "We can compare the size of our new dataframe to the old one to see whethere we reduced the amount of columns"
      ]
    },
    {
      "cell_type": "code",
      "metadata": {
        "id": "mMXiSogF_4Cn",
        "colab_type": "code",
        "colab": {
          "base_uri": "https://localhost:8080/",
          "height": 50
        },
        "outputId": "e20f831e-6dac-405b-ef5e-cc90feb4d6a4"
      },
      "source": [
        "print(final_dataframe.shape)\n",
        "print(dict_data.shape)"
      ],
      "execution_count": 15,
      "outputs": [
        {
          "output_type": "stream",
          "text": [
            "(10355, 19)\n",
            "(10355, 28)\n"
          ],
          "name": "stdout"
        }
      ]
    },
    {
      "cell_type": "markdown",
      "metadata": {
        "id": "SwEKwFcjAXsf",
        "colab_type": "text"
      },
      "source": [
        "It worked. \n",
        "\n",
        "Here's hour final product!"
      ]
    },
    {
      "cell_type": "code",
      "metadata": {
        "id": "UKpJtVScAapB",
        "colab_type": "code",
        "colab": {
          "base_uri": "https://localhost:8080/",
          "height": 434
        },
        "outputId": "bd335b46-6eed-4f3c-836d-0957c1a8ab75"
      },
      "source": [
        "final_dataframe.head()"
      ],
      "execution_count": 16,
      "outputs": [
        {
          "output_type": "execute_result",
          "data": {
            "text/html": [
              "<div>\n",
              "<style scoped>\n",
              "    .dataframe tbody tr th:only-of-type {\n",
              "        vertical-align: middle;\n",
              "    }\n",
              "\n",
              "    .dataframe tbody tr th {\n",
              "        vertical-align: top;\n",
              "    }\n",
              "\n",
              "    .dataframe thead th {\n",
              "        text-align: right;\n",
              "    }\n",
              "</style>\n",
              "<table border=\"1\" class=\"dataframe\">\n",
              "  <thead>\n",
              "    <tr style=\"text-align: right;\">\n",
              "      <th></th>\n",
              "      <th>C.P.</th>\n",
              "      <th>Dirección</th>\n",
              "      <th>Horario</th>\n",
              "      <th>Latitud</th>\n",
              "      <th>Localidad</th>\n",
              "      <th>Longitud (WGS84)</th>\n",
              "      <th>Margen</th>\n",
              "      <th>Municipio</th>\n",
              "      <th>Precio Biodiesel</th>\n",
              "      <th>Precio Bioetanol</th>\n",
              "      <th>Precio Gas Natural Comprimido</th>\n",
              "      <th>Precio Gas Natural Licuado</th>\n",
              "      <th>Precio Gases licuados del petróleo</th>\n",
              "      <th>Precio Gasoleo A</th>\n",
              "      <th>Precio Gasoleo B</th>\n",
              "      <th>Precio Gasolina 95 Protección</th>\n",
              "      <th>Precio Nuevo Gasoleo A</th>\n",
              "      <th>Provincia</th>\n",
              "      <th>Remisión</th>\n",
              "    </tr>\n",
              "  </thead>\n",
              "  <tbody>\n",
              "    <tr>\n",
              "      <th>0</th>\n",
              "      <td>01240</td>\n",
              "      <td>CALLE GASTEIZBIDEA, 59</td>\n",
              "      <td>L-D: 07:00-20:00</td>\n",
              "      <td>42,842917</td>\n",
              "      <td>ALEGRIA-DULANTZI</td>\n",
              "      <td>-2,519194</td>\n",
              "      <td>D</td>\n",
              "      <td>Alegría-Dulantzi</td>\n",
              "      <td>None</td>\n",
              "      <td>None</td>\n",
              "      <td>None</td>\n",
              "      <td>None</td>\n",
              "      <td>None</td>\n",
              "      <td>1,069</td>\n",
              "      <td>None</td>\n",
              "      <td>1,159</td>\n",
              "      <td>None</td>\n",
              "      <td>ÁLAVA</td>\n",
              "      <td>dm</td>\n",
              "    </tr>\n",
              "    <tr>\n",
              "      <th>1</th>\n",
              "      <td>01240</td>\n",
              "      <td>CL MANISITU, 9</td>\n",
              "      <td>L-D: 24H</td>\n",
              "      <td>42,846028</td>\n",
              "      <td>ALEGRIA-DULANTZI</td>\n",
              "      <td>-2,509361</td>\n",
              "      <td>D</td>\n",
              "      <td>Alegría-Dulantzi</td>\n",
              "      <td>None</td>\n",
              "      <td>None</td>\n",
              "      <td>None</td>\n",
              "      <td>None</td>\n",
              "      <td>None</td>\n",
              "      <td>1,025</td>\n",
              "      <td>0,726</td>\n",
              "      <td>None</td>\n",
              "      <td>None</td>\n",
              "      <td>ÁLAVA</td>\n",
              "      <td>dm</td>\n",
              "    </tr>\n",
              "    <tr>\n",
              "      <th>2</th>\n",
              "      <td>01468</td>\n",
              "      <td>POLIGONO ZANKUETA, 0</td>\n",
              "      <td>L-D: 24H</td>\n",
              "      <td>43,044333</td>\n",
              "      <td>LARRINBE</td>\n",
              "      <td>-2,989111</td>\n",
              "      <td>D</td>\n",
              "      <td>Amurrio</td>\n",
              "      <td>None</td>\n",
              "      <td>None</td>\n",
              "      <td>None</td>\n",
              "      <td>None</td>\n",
              "      <td>None</td>\n",
              "      <td>0,949</td>\n",
              "      <td>None</td>\n",
              "      <td>1,019</td>\n",
              "      <td>1,029</td>\n",
              "      <td>ÁLAVA</td>\n",
              "      <td>dm</td>\n",
              "    </tr>\n",
              "    <tr>\n",
              "      <th>3</th>\n",
              "      <td>01450</td>\n",
              "      <td>CARRETERA A-624 KM. 37,8</td>\n",
              "      <td>L-D: 06:00-22:00</td>\n",
              "      <td>43,031889</td>\n",
              "      <td>LEZAMA</td>\n",
              "      <td>-2,967611</td>\n",
              "      <td>D</td>\n",
              "      <td>Amurrio</td>\n",
              "      <td>None</td>\n",
              "      <td>None</td>\n",
              "      <td>None</td>\n",
              "      <td>None</td>\n",
              "      <td>None</td>\n",
              "      <td>1,039</td>\n",
              "      <td>None</td>\n",
              "      <td>1,139</td>\n",
              "      <td>1,099</td>\n",
              "      <td>ÁLAVA</td>\n",
              "      <td>OM</td>\n",
              "    </tr>\n",
              "    <tr>\n",
              "      <th>4</th>\n",
              "      <td>01120</td>\n",
              "      <td>CARRETERA A-132 VITORIA-ESTELLA KM. 23</td>\n",
              "      <td>L-D: 07:00-23:00</td>\n",
              "      <td>42,753194</td>\n",
              "      <td>MAEZTU/MAESTU</td>\n",
              "      <td>-2,477917</td>\n",
              "      <td>I</td>\n",
              "      <td>Arraia-Maeztu</td>\n",
              "      <td>None</td>\n",
              "      <td>None</td>\n",
              "      <td>None</td>\n",
              "      <td>None</td>\n",
              "      <td>None</td>\n",
              "      <td>1,145</td>\n",
              "      <td>None</td>\n",
              "      <td>1,250</td>\n",
              "      <td>None</td>\n",
              "      <td>ÁLAVA</td>\n",
              "      <td>dm</td>\n",
              "    </tr>\n",
              "  </tbody>\n",
              "</table>\n",
              "</div>"
            ],
            "text/plain": [
              "    C.P.                               Dirección  ... Provincia Remisión\n",
              "0  01240                  CALLE GASTEIZBIDEA, 59  ...     ÁLAVA       dm\n",
              "1  01240                          CL MANISITU, 9  ...     ÁLAVA       dm\n",
              "2  01468                    POLIGONO ZANKUETA, 0  ...     ÁLAVA       dm\n",
              "3  01450                CARRETERA A-624 KM. 37,8  ...     ÁLAVA       OM\n",
              "4  01120  CARRETERA A-132 VITORIA-ESTELLA KM. 23  ...     ÁLAVA       dm\n",
              "\n",
              "[5 rows x 19 columns]"
            ]
          },
          "metadata": {
            "tags": []
          },
          "execution_count": 16
        }
      ]
    }
  ]
}
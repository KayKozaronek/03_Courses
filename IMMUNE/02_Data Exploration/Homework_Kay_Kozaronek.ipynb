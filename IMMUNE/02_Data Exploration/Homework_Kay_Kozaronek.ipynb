{
  "nbformat": 4,
  "nbformat_minor": 0,
  "metadata": {
    "colab": {
      "name": "Homework_Kay Kozaronek.ipynb",
      "provenance": [],
      "collapsed_sections": []
    },
    "kernelspec": {
      "name": "python3",
      "display_name": "Python 3"
    }
  },
  "cells": [
    {
      "cell_type": "markdown",
      "metadata": {
        "id": "VwrAml2EVU18",
        "colab_type": "text"
      },
      "source": [
        "# Homework"
      ]
    },
    {
      "cell_type": "code",
      "metadata": {
        "id": "kWdqJpbbtGv4",
        "colab_type": "code",
        "colab": {}
      },
      "source": [
        "import seaborn as sns\n",
        "\n",
        "iris = sns.load_dataset(\"iris\")"
      ],
      "execution_count": 0,
      "outputs": []
    },
    {
      "cell_type": "markdown",
      "metadata": {
        "id": "lYQvwCwvtLEF",
        "colab_type": "text"
      },
      "source": [
        "These are measurements for flowers of different species. We're gonna see if the species is a good predictor for sepal_length."
      ]
    },
    {
      "cell_type": "code",
      "metadata": {
        "id": "dmm6KfF_tQZG",
        "colab_type": "code",
        "outputId": "14c28e49-36b0-4003-f871-a07fee0e3df6",
        "colab": {
          "base_uri": "https://localhost:8080/",
          "height": 195
        }
      },
      "source": [
        "iris.head()"
      ],
      "execution_count": 0,
      "outputs": [
        {
          "output_type": "execute_result",
          "data": {
            "text/html": [
              "<div>\n",
              "<style scoped>\n",
              "    .dataframe tbody tr th:only-of-type {\n",
              "        vertical-align: middle;\n",
              "    }\n",
              "\n",
              "    .dataframe tbody tr th {\n",
              "        vertical-align: top;\n",
              "    }\n",
              "\n",
              "    .dataframe thead th {\n",
              "        text-align: right;\n",
              "    }\n",
              "</style>\n",
              "<table border=\"1\" class=\"dataframe\">\n",
              "  <thead>\n",
              "    <tr style=\"text-align: right;\">\n",
              "      <th></th>\n",
              "      <th>sepal_length</th>\n",
              "      <th>sepal_width</th>\n",
              "      <th>petal_length</th>\n",
              "      <th>petal_width</th>\n",
              "      <th>species</th>\n",
              "    </tr>\n",
              "  </thead>\n",
              "  <tbody>\n",
              "    <tr>\n",
              "      <th>0</th>\n",
              "      <td>5.1</td>\n",
              "      <td>3.5</td>\n",
              "      <td>1.4</td>\n",
              "      <td>0.2</td>\n",
              "      <td>setosa</td>\n",
              "    </tr>\n",
              "    <tr>\n",
              "      <th>1</th>\n",
              "      <td>4.9</td>\n",
              "      <td>3.0</td>\n",
              "      <td>1.4</td>\n",
              "      <td>0.2</td>\n",
              "      <td>setosa</td>\n",
              "    </tr>\n",
              "    <tr>\n",
              "      <th>2</th>\n",
              "      <td>4.7</td>\n",
              "      <td>3.2</td>\n",
              "      <td>1.3</td>\n",
              "      <td>0.2</td>\n",
              "      <td>setosa</td>\n",
              "    </tr>\n",
              "    <tr>\n",
              "      <th>3</th>\n",
              "      <td>4.6</td>\n",
              "      <td>3.1</td>\n",
              "      <td>1.5</td>\n",
              "      <td>0.2</td>\n",
              "      <td>setosa</td>\n",
              "    </tr>\n",
              "    <tr>\n",
              "      <th>4</th>\n",
              "      <td>5.0</td>\n",
              "      <td>3.6</td>\n",
              "      <td>1.4</td>\n",
              "      <td>0.2</td>\n",
              "      <td>setosa</td>\n",
              "    </tr>\n",
              "  </tbody>\n",
              "</table>\n",
              "</div>"
            ],
            "text/plain": [
              "   sepal_length  sepal_width  petal_length  petal_width species\n",
              "0           5.1          3.5           1.4          0.2  setosa\n",
              "1           4.9          3.0           1.4          0.2  setosa\n",
              "2           4.7          3.2           1.3          0.2  setosa\n",
              "3           4.6          3.1           1.5          0.2  setosa\n",
              "4           5.0          3.6           1.4          0.2  setosa"
            ]
          },
          "metadata": {
            "tags": []
          },
          "execution_count": 59
        }
      ]
    },
    {
      "cell_type": "markdown",
      "metadata": {
        "id": "Nz-pOhlwtRTL",
        "colab_type": "text"
      },
      "source": [
        "**TODO** Your task: Run an ANOVA with species as the IV and sepal_length as the DV. How do you interpret the results?\n"
      ]
    },
    {
      "cell_type": "markdown",
      "metadata": {
        "id": "7gwUvQanIoq5",
        "colab_type": "text"
      },
      "source": [
        "As we can see, the results from our one way ANOVA show us: \n",
        "- The Probability of our F-statistic / our p-value is very close to 0.\n",
        "- Therefore, we can conclude, that there is a significant link between sepal_length and species. \n",
        "- The species seems to have a big impact on the sepal_length"
      ]
    },
    {
      "cell_type": "code",
      "metadata": {
        "id": "4vjSmYQwFzvG",
        "colab_type": "code",
        "outputId": "8fb55d6b-4217-4216-9421-a8ffd2cdacd9",
        "colab": {
          "base_uri": "https://localhost:8080/",
          "height": 446
        }
      },
      "source": [
        "from statsmodels.formula.api import ols\n",
        "results = ols(\"sepal_length~C(species)\", data=iris).fit()\n",
        "results.summary()"
      ],
      "execution_count": 0,
      "outputs": [
        {
          "output_type": "execute_result",
          "data": {
            "text/html": [
              "<table class=\"simpletable\">\n",
              "<caption>OLS Regression Results</caption>\n",
              "<tr>\n",
              "  <th>Dep. Variable:</th>      <td>sepal_length</td>   <th>  R-squared:         </th> <td>   0.619</td>\n",
              "</tr>\n",
              "<tr>\n",
              "  <th>Model:</th>                   <td>OLS</td>       <th>  Adj. R-squared:    </th> <td>   0.614</td>\n",
              "</tr>\n",
              "<tr>\n",
              "  <th>Method:</th>             <td>Least Squares</td>  <th>  F-statistic:       </th> <td>   119.3</td>\n",
              "</tr>\n",
              "<tr>\n",
              "  <th>Date:</th>             <td>Wed, 20 May 2020</td> <th>  Prob (F-statistic):</th> <td>1.67e-31</td>\n",
              "</tr>\n",
              "<tr>\n",
              "  <th>Time:</th>                 <td>08:18:40</td>     <th>  Log-Likelihood:    </th> <td> -111.73</td>\n",
              "</tr>\n",
              "<tr>\n",
              "  <th>No. Observations:</th>      <td>   150</td>      <th>  AIC:               </th> <td>   229.5</td>\n",
              "</tr>\n",
              "<tr>\n",
              "  <th>Df Residuals:</th>          <td>   147</td>      <th>  BIC:               </th> <td>   238.5</td>\n",
              "</tr>\n",
              "<tr>\n",
              "  <th>Df Model:</th>              <td>     2</td>      <th>                     </th>     <td> </td>   \n",
              "</tr>\n",
              "<tr>\n",
              "  <th>Covariance Type:</th>      <td>nonrobust</td>    <th>                     </th>     <td> </td>   \n",
              "</tr>\n",
              "</table>\n",
              "<table class=\"simpletable\">\n",
              "<tr>\n",
              "              <td></td>                <th>coef</th>     <th>std err</th>      <th>t</th>      <th>P>|t|</th>  <th>[0.025</th>    <th>0.975]</th>  \n",
              "</tr>\n",
              "<tr>\n",
              "  <th>Intercept</th>                <td>    5.0060</td> <td>    0.073</td> <td>   68.762</td> <td> 0.000</td> <td>    4.862</td> <td>    5.150</td>\n",
              "</tr>\n",
              "<tr>\n",
              "  <th>C(species)[T.versicolor]</th> <td>    0.9300</td> <td>    0.103</td> <td>    9.033</td> <td> 0.000</td> <td>    0.727</td> <td>    1.133</td>\n",
              "</tr>\n",
              "<tr>\n",
              "  <th>C(species)[T.virginica]</th>  <td>    1.5820</td> <td>    0.103</td> <td>   15.366</td> <td> 0.000</td> <td>    1.379</td> <td>    1.785</td>\n",
              "</tr>\n",
              "</table>\n",
              "<table class=\"simpletable\">\n",
              "<tr>\n",
              "  <th>Omnibus:</th>       <td> 1.188</td> <th>  Durbin-Watson:     </th> <td>   2.043</td>\n",
              "</tr>\n",
              "<tr>\n",
              "  <th>Prob(Omnibus):</th> <td> 0.552</td> <th>  Jarque-Bera (JB):  </th> <td>   0.785</td>\n",
              "</tr>\n",
              "<tr>\n",
              "  <th>Skew:</th>          <td> 0.119</td> <th>  Prob(JB):          </th> <td>   0.675</td>\n",
              "</tr>\n",
              "<tr>\n",
              "  <th>Kurtosis:</th>      <td> 3.263</td> <th>  Cond. No.          </th> <td>    3.73</td>\n",
              "</tr>\n",
              "</table><br/><br/>Warnings:<br/>[1] Standard Errors assume that the covariance matrix of the errors is correctly specified."
            ],
            "text/plain": [
              "<class 'statsmodels.iolib.summary.Summary'>\n",
              "\"\"\"\n",
              "                            OLS Regression Results                            \n",
              "==============================================================================\n",
              "Dep. Variable:           sepal_length   R-squared:                       0.619\n",
              "Model:                            OLS   Adj. R-squared:                  0.614\n",
              "Method:                 Least Squares   F-statistic:                     119.3\n",
              "Date:                Wed, 20 May 2020   Prob (F-statistic):           1.67e-31\n",
              "Time:                        08:18:40   Log-Likelihood:                -111.73\n",
              "No. Observations:                 150   AIC:                             229.5\n",
              "Df Residuals:                     147   BIC:                             238.5\n",
              "Df Model:                           2                                         \n",
              "Covariance Type:            nonrobust                                         \n",
              "============================================================================================\n",
              "                               coef    std err          t      P>|t|      [0.025      0.975]\n",
              "--------------------------------------------------------------------------------------------\n",
              "Intercept                    5.0060      0.073     68.762      0.000       4.862       5.150\n",
              "C(species)[T.versicolor]     0.9300      0.103      9.033      0.000       0.727       1.133\n",
              "C(species)[T.virginica]      1.5820      0.103     15.366      0.000       1.379       1.785\n",
              "==============================================================================\n",
              "Omnibus:                        1.188   Durbin-Watson:                   2.043\n",
              "Prob(Omnibus):                  0.552   Jarque-Bera (JB):                0.785\n",
              "Skew:                           0.119   Prob(JB):                        0.675\n",
              "Kurtosis:                       3.263   Cond. No.                         3.73\n",
              "==============================================================================\n",
              "\n",
              "Warnings:\n",
              "[1] Standard Errors assume that the covariance matrix of the errors is correctly specified.\n",
              "\"\"\""
            ]
          },
          "metadata": {
            "tags": []
          },
          "execution_count": 67
        }
      ]
    },
    {
      "cell_type": "markdown",
      "metadata": {
        "id": "rEr_GdY7teNE",
        "colab_type": "text"
      },
      "source": [
        "##Task 2: \n",
        "Using `anova_lm?` from the `statsmodels` package, print the variance explained by the model above and the residual variance. How much % of the total variance of the DV `sepal_length` can be explained by the IV `species`?\n",
        "\n",
        "As it turns out:\n",
        "- the variance explained by the variable species is (63.212133)`\n",
        "- and the unsystematic variance (38.956200) that cannot be explained by the species, \n",
        "\n",
        "`In total we can explain is about 61,87% of the total variance: R^2 = 63.212133 / (63.212133 + 38.956200)`"
      ]
    },
    {
      "cell_type": "code",
      "metadata": {
        "id": "cF22Nxcytlnp",
        "colab_type": "code",
        "outputId": "3a99a4f6-5a69-4e42-9bd8-2331f2b5a5b8",
        "colab": {
          "base_uri": "https://localhost:8080/",
          "height": 106
        }
      },
      "source": [
        "import statsmodels.api as sm\n",
        "\n",
        "aov_table = sm.stats.anova_lm(results, typ=2)\n",
        "aov_table"
      ],
      "execution_count": 0,
      "outputs": [
        {
          "output_type": "execute_result",
          "data": {
            "text/html": [
              "<div>\n",
              "<style scoped>\n",
              "    .dataframe tbody tr th:only-of-type {\n",
              "        vertical-align: middle;\n",
              "    }\n",
              "\n",
              "    .dataframe tbody tr th {\n",
              "        vertical-align: top;\n",
              "    }\n",
              "\n",
              "    .dataframe thead th {\n",
              "        text-align: right;\n",
              "    }\n",
              "</style>\n",
              "<table border=\"1\" class=\"dataframe\">\n",
              "  <thead>\n",
              "    <tr style=\"text-align: right;\">\n",
              "      <th></th>\n",
              "      <th>sum_sq</th>\n",
              "      <th>df</th>\n",
              "      <th>F</th>\n",
              "      <th>PR(&gt;F)</th>\n",
              "    </tr>\n",
              "  </thead>\n",
              "  <tbody>\n",
              "    <tr>\n",
              "      <th>C(species)</th>\n",
              "      <td>63.212133</td>\n",
              "      <td>2.0</td>\n",
              "      <td>119.264502</td>\n",
              "      <td>1.669669e-31</td>\n",
              "    </tr>\n",
              "    <tr>\n",
              "      <th>Residual</th>\n",
              "      <td>38.956200</td>\n",
              "      <td>147.0</td>\n",
              "      <td>NaN</td>\n",
              "      <td>NaN</td>\n",
              "    </tr>\n",
              "  </tbody>\n",
              "</table>\n",
              "</div>"
            ],
            "text/plain": [
              "               sum_sq     df           F        PR(>F)\n",
              "C(species)  63.212133    2.0  119.264502  1.669669e-31\n",
              "Residual    38.956200  147.0         NaN           NaN"
            ]
          },
          "metadata": {
            "tags": []
          },
          "execution_count": 68
        }
      ]
    },
    {
      "cell_type": "markdown",
      "metadata": {
        "id": "98rr2BkDtmQt",
        "colab_type": "text"
      },
      "source": [
        "##Task 3: \n",
        "Transform the variable `petal_width` into a categorial variable `petal_width_cat` using the `qcut` function from the `pandas` package. Specifically, transform the petal width measurements into three distinct bins \"low\", \"medium\" and \"high\"."
      ]
    },
    {
      "cell_type": "code",
      "metadata": {
        "id": "YKcxfYhBRCgb",
        "colab_type": "code",
        "outputId": "02288f17-16fa-4026-dae3-ee6ab96c9cc8",
        "colab": {
          "base_uri": "https://localhost:8080/",
          "height": 195
        }
      },
      "source": [
        "iris.head()"
      ],
      "execution_count": 0,
      "outputs": [
        {
          "output_type": "execute_result",
          "data": {
            "text/html": [
              "<div>\n",
              "<style scoped>\n",
              "    .dataframe tbody tr th:only-of-type {\n",
              "        vertical-align: middle;\n",
              "    }\n",
              "\n",
              "    .dataframe tbody tr th {\n",
              "        vertical-align: top;\n",
              "    }\n",
              "\n",
              "    .dataframe thead th {\n",
              "        text-align: right;\n",
              "    }\n",
              "</style>\n",
              "<table border=\"1\" class=\"dataframe\">\n",
              "  <thead>\n",
              "    <tr style=\"text-align: right;\">\n",
              "      <th></th>\n",
              "      <th>sepal_length</th>\n",
              "      <th>sepal_width</th>\n",
              "      <th>petal_length</th>\n",
              "      <th>petal_width</th>\n",
              "      <th>species</th>\n",
              "    </tr>\n",
              "  </thead>\n",
              "  <tbody>\n",
              "    <tr>\n",
              "      <th>0</th>\n",
              "      <td>5.1</td>\n",
              "      <td>3.5</td>\n",
              "      <td>1.4</td>\n",
              "      <td>0.2</td>\n",
              "      <td>setosa</td>\n",
              "    </tr>\n",
              "    <tr>\n",
              "      <th>1</th>\n",
              "      <td>4.9</td>\n",
              "      <td>3.0</td>\n",
              "      <td>1.4</td>\n",
              "      <td>0.2</td>\n",
              "      <td>setosa</td>\n",
              "    </tr>\n",
              "    <tr>\n",
              "      <th>2</th>\n",
              "      <td>4.7</td>\n",
              "      <td>3.2</td>\n",
              "      <td>1.3</td>\n",
              "      <td>0.2</td>\n",
              "      <td>setosa</td>\n",
              "    </tr>\n",
              "    <tr>\n",
              "      <th>3</th>\n",
              "      <td>4.6</td>\n",
              "      <td>3.1</td>\n",
              "      <td>1.5</td>\n",
              "      <td>0.2</td>\n",
              "      <td>setosa</td>\n",
              "    </tr>\n",
              "    <tr>\n",
              "      <th>4</th>\n",
              "      <td>5.0</td>\n",
              "      <td>3.6</td>\n",
              "      <td>1.4</td>\n",
              "      <td>0.2</td>\n",
              "      <td>setosa</td>\n",
              "    </tr>\n",
              "  </tbody>\n",
              "</table>\n",
              "</div>"
            ],
            "text/plain": [
              "   sepal_length  sepal_width  petal_length  petal_width species\n",
              "0           5.1          3.5           1.4          0.2  setosa\n",
              "1           4.9          3.0           1.4          0.2  setosa\n",
              "2           4.7          3.2           1.3          0.2  setosa\n",
              "3           4.6          3.1           1.5          0.2  setosa\n",
              "4           5.0          3.6           1.4          0.2  setosa"
            ]
          },
          "metadata": {
            "tags": []
          },
          "execution_count": 69
        }
      ]
    },
    {
      "cell_type": "code",
      "metadata": {
        "id": "q8KgbZC6uD9A",
        "colab_type": "code",
        "outputId": "644044ca-35c5-4fbf-fda6-322967a6f415",
        "colab": {
          "base_uri": "https://localhost:8080/",
          "height": 402
        }
      },
      "source": [
        "iris[\"petal_width_cat\"]= pd.qcut(iris[\"petal_width\"], 3,[\"low\",\"medium\",\"high\"])\n",
        "iris"
      ],
      "execution_count": 0,
      "outputs": [
        {
          "output_type": "execute_result",
          "data": {
            "text/html": [
              "<div>\n",
              "<style scoped>\n",
              "    .dataframe tbody tr th:only-of-type {\n",
              "        vertical-align: middle;\n",
              "    }\n",
              "\n",
              "    .dataframe tbody tr th {\n",
              "        vertical-align: top;\n",
              "    }\n",
              "\n",
              "    .dataframe thead th {\n",
              "        text-align: right;\n",
              "    }\n",
              "</style>\n",
              "<table border=\"1\" class=\"dataframe\">\n",
              "  <thead>\n",
              "    <tr style=\"text-align: right;\">\n",
              "      <th></th>\n",
              "      <th>sepal_length</th>\n",
              "      <th>sepal_width</th>\n",
              "      <th>petal_length</th>\n",
              "      <th>petal_width</th>\n",
              "      <th>species</th>\n",
              "      <th>petal_width_cat</th>\n",
              "    </tr>\n",
              "  </thead>\n",
              "  <tbody>\n",
              "    <tr>\n",
              "      <th>0</th>\n",
              "      <td>5.1</td>\n",
              "      <td>3.5</td>\n",
              "      <td>1.4</td>\n",
              "      <td>0.2</td>\n",
              "      <td>setosa</td>\n",
              "      <td>low</td>\n",
              "    </tr>\n",
              "    <tr>\n",
              "      <th>1</th>\n",
              "      <td>4.9</td>\n",
              "      <td>3.0</td>\n",
              "      <td>1.4</td>\n",
              "      <td>0.2</td>\n",
              "      <td>setosa</td>\n",
              "      <td>low</td>\n",
              "    </tr>\n",
              "    <tr>\n",
              "      <th>2</th>\n",
              "      <td>4.7</td>\n",
              "      <td>3.2</td>\n",
              "      <td>1.3</td>\n",
              "      <td>0.2</td>\n",
              "      <td>setosa</td>\n",
              "      <td>low</td>\n",
              "    </tr>\n",
              "    <tr>\n",
              "      <th>3</th>\n",
              "      <td>4.6</td>\n",
              "      <td>3.1</td>\n",
              "      <td>1.5</td>\n",
              "      <td>0.2</td>\n",
              "      <td>setosa</td>\n",
              "      <td>low</td>\n",
              "    </tr>\n",
              "    <tr>\n",
              "      <th>4</th>\n",
              "      <td>5.0</td>\n",
              "      <td>3.6</td>\n",
              "      <td>1.4</td>\n",
              "      <td>0.2</td>\n",
              "      <td>setosa</td>\n",
              "      <td>low</td>\n",
              "    </tr>\n",
              "    <tr>\n",
              "      <th>...</th>\n",
              "      <td>...</td>\n",
              "      <td>...</td>\n",
              "      <td>...</td>\n",
              "      <td>...</td>\n",
              "      <td>...</td>\n",
              "      <td>...</td>\n",
              "    </tr>\n",
              "    <tr>\n",
              "      <th>145</th>\n",
              "      <td>6.7</td>\n",
              "      <td>3.0</td>\n",
              "      <td>5.2</td>\n",
              "      <td>2.3</td>\n",
              "      <td>virginica</td>\n",
              "      <td>high</td>\n",
              "    </tr>\n",
              "    <tr>\n",
              "      <th>146</th>\n",
              "      <td>6.3</td>\n",
              "      <td>2.5</td>\n",
              "      <td>5.0</td>\n",
              "      <td>1.9</td>\n",
              "      <td>virginica</td>\n",
              "      <td>high</td>\n",
              "    </tr>\n",
              "    <tr>\n",
              "      <th>147</th>\n",
              "      <td>6.5</td>\n",
              "      <td>3.0</td>\n",
              "      <td>5.2</td>\n",
              "      <td>2.0</td>\n",
              "      <td>virginica</td>\n",
              "      <td>high</td>\n",
              "    </tr>\n",
              "    <tr>\n",
              "      <th>148</th>\n",
              "      <td>6.2</td>\n",
              "      <td>3.4</td>\n",
              "      <td>5.4</td>\n",
              "      <td>2.3</td>\n",
              "      <td>virginica</td>\n",
              "      <td>high</td>\n",
              "    </tr>\n",
              "    <tr>\n",
              "      <th>149</th>\n",
              "      <td>5.9</td>\n",
              "      <td>3.0</td>\n",
              "      <td>5.1</td>\n",
              "      <td>1.8</td>\n",
              "      <td>virginica</td>\n",
              "      <td>high</td>\n",
              "    </tr>\n",
              "  </tbody>\n",
              "</table>\n",
              "<p>150 rows × 6 columns</p>\n",
              "</div>"
            ],
            "text/plain": [
              "     sepal_length  sepal_width  ...    species  petal_width_cat\n",
              "0             5.1          3.5  ...     setosa              low\n",
              "1             4.9          3.0  ...     setosa              low\n",
              "2             4.7          3.2  ...     setosa              low\n",
              "3             4.6          3.1  ...     setosa              low\n",
              "4             5.0          3.6  ...     setosa              low\n",
              "..            ...          ...  ...        ...              ...\n",
              "145           6.7          3.0  ...  virginica             high\n",
              "146           6.3          2.5  ...  virginica             high\n",
              "147           6.5          3.0  ...  virginica             high\n",
              "148           6.2          3.4  ...  virginica             high\n",
              "149           5.9          3.0  ...  virginica             high\n",
              "\n",
              "[150 rows x 6 columns]"
            ]
          },
          "metadata": {
            "tags": []
          },
          "execution_count": 78
        }
      ]
    },
    {
      "cell_type": "markdown",
      "metadata": {
        "id": "MeIeD-BAtn5v",
        "colab_type": "text"
      },
      "source": [
        "##Task 4\n",
        "Run a two-way ANOVA on ```sepal_length``` (DV) using the independent variables ```species``` and ```petal_width_cat```. How do you interpret the results?\n",
        "\n",
        "\n",
        "As we can see, the results from our one way ANOVA show us: \n",
        "- The Probability of our F-statistic / our p-value is very close to 0.\n",
        "- Therefore, we can conclude, that there is a significant link between the DV (sepal_length) and the IVs (species and petal_width_cat). \n",
        "- The species and petal_width seem to have a big impact on the sepal_length\n",
        "\n",
        "To find out what effect they have, we would need to run a post-hoc test."
      ]
    },
    {
      "cell_type": "code",
      "metadata": {
        "id": "ghJsh0xCtokl",
        "colab_type": "code",
        "outputId": "e42c23a0-7379-4fcd-aa38-10b8bc39acb3",
        "colab": {
          "base_uri": "https://localhost:8080/",
          "height": 599
        }
      },
      "source": [
        "results2= ols(\"sepal_length~C(species)*C(petal_width_cat)\", data=iris).fit()\n",
        "results2.summary()"
      ],
      "execution_count": 0,
      "outputs": [
        {
          "output_type": "execute_result",
          "data": {
            "text/html": [
              "<table class=\"simpletable\">\n",
              "<caption>OLS Regression Results</caption>\n",
              "<tr>\n",
              "  <th>Dep. Variable:</th>      <td>sepal_length</td>   <th>  R-squared:         </th> <td>   0.623</td>\n",
              "</tr>\n",
              "<tr>\n",
              "  <th>Model:</th>                   <td>OLS</td>       <th>  Adj. R-squared:    </th> <td>   0.613</td>\n",
              "</tr>\n",
              "<tr>\n",
              "  <th>Method:</th>             <td>Least Squares</td>  <th>  F-statistic:       </th> <td>   59.88</td>\n",
              "</tr>\n",
              "<tr>\n",
              "  <th>Date:</th>             <td>Wed, 20 May 2020</td> <th>  Prob (F-statistic):</th> <td>9.05e-30</td>\n",
              "</tr>\n",
              "<tr>\n",
              "  <th>Time:</th>                 <td>08:53:41</td>     <th>  Log-Likelihood:    </th> <td> -110.89</td>\n",
              "</tr>\n",
              "<tr>\n",
              "  <th>No. Observations:</th>      <td>   150</td>      <th>  AIC:               </th> <td>   231.8</td>\n",
              "</tr>\n",
              "<tr>\n",
              "  <th>Df Residuals:</th>          <td>   145</td>      <th>  BIC:               </th> <td>   246.8</td>\n",
              "</tr>\n",
              "<tr>\n",
              "  <th>Df Model:</th>              <td>     4</td>      <th>                     </th>     <td> </td>   \n",
              "</tr>\n",
              "<tr>\n",
              "  <th>Covariance Type:</th>      <td>nonrobust</td>    <th>                     </th>     <td> </td>   \n",
              "</tr>\n",
              "</table>\n",
              "<table class=\"simpletable\">\n",
              "<tr>\n",
              "                            <td></td>                               <th>coef</th>     <th>std err</th>      <th>t</th>      <th>P>|t|</th>  <th>[0.025</th>    <th>0.975]</th>  \n",
              "</tr>\n",
              "<tr>\n",
              "  <th>Intercept</th>                                             <td>    5.0060</td> <td>    0.073</td> <td>   68.672</td> <td> 0.000</td> <td>    4.862</td> <td>    5.150</td>\n",
              "</tr>\n",
              "<tr>\n",
              "  <th>C(species)[T.versicolor]</th>                              <td>    0.3895</td> <td>    0.105</td> <td>    3.712</td> <td> 0.000</td> <td>    0.182</td> <td>    0.597</td>\n",
              "</tr>\n",
              "<tr>\n",
              "  <th>C(species)[T.virginica]</th>                               <td>    0.6507</td> <td>    0.081</td> <td>    8.010</td> <td> 0.000</td> <td>    0.490</td> <td>    0.811</td>\n",
              "</tr>\n",
              "<tr>\n",
              "  <th>C(petal_width_cat)[T.medium]</th>                          <td>    0.4229</td> <td>    0.081</td> <td>    5.212</td> <td> 0.000</td> <td>    0.262</td> <td>    0.583</td>\n",
              "</tr>\n",
              "<tr>\n",
              "  <th>C(petal_width_cat)[T.high]</th>                            <td>    0.6174</td> <td>    0.105</td> <td>    5.879</td> <td> 0.000</td> <td>    0.410</td> <td>    0.825</td>\n",
              "</tr>\n",
              "<tr>\n",
              "  <th>C(species)[T.versicolor]:C(petal_width_cat)[T.medium]</th> <td>    0.1024</td> <td>    0.097</td> <td>    1.051</td> <td> 0.295</td> <td>   -0.090</td> <td>    0.295</td>\n",
              "</tr>\n",
              "<tr>\n",
              "  <th>C(species)[T.virginica]:C(petal_width_cat)[T.medium]</th>  <td>    0.3204</td> <td>    0.132</td> <td>    2.423</td> <td> 0.017</td> <td>    0.059</td> <td>    0.582</td>\n",
              "</tr>\n",
              "<tr>\n",
              "  <th>C(species)[T.versicolor]:C(petal_width_cat)[T.high]</th>   <td>    0.2871</td> <td>    0.175</td> <td>    1.636</td> <td> 0.104</td> <td>   -0.060</td> <td>    0.634</td>\n",
              "</tr>\n",
              "<tr>\n",
              "  <th>C(species)[T.virginica]:C(petal_width_cat)[T.high]</th>    <td>    0.3303</td> <td>    0.098</td> <td>    3.381</td> <td> 0.001</td> <td>    0.137</td> <td>    0.523</td>\n",
              "</tr>\n",
              "</table>\n",
              "<table class=\"simpletable\">\n",
              "<tr>\n",
              "  <th>Omnibus:</th>       <td> 1.325</td> <th>  Durbin-Watson:     </th> <td>   2.035</td>\n",
              "</tr>\n",
              "<tr>\n",
              "  <th>Prob(Omnibus):</th> <td> 0.515</td> <th>  Jarque-Bera (JB):  </th> <td>   0.908</td>\n",
              "</tr>\n",
              "<tr>\n",
              "  <th>Skew:</th>          <td> 0.107</td> <th>  Prob(JB):          </th> <td>   0.635</td>\n",
              "</tr>\n",
              "<tr>\n",
              "  <th>Kurtosis:</th>      <td> 3.315</td> <th>  Cond. No.          </th> <td>6.52e+16</td>\n",
              "</tr>\n",
              "</table><br/><br/>Warnings:<br/>[1] Standard Errors assume that the covariance matrix of the errors is correctly specified.<br/>[2] The smallest eigenvalue is 6.3e-32. This might indicate that there are<br/>strong multicollinearity problems or that the design matrix is singular."
            ],
            "text/plain": [
              "<class 'statsmodels.iolib.summary.Summary'>\n",
              "\"\"\"\n",
              "                            OLS Regression Results                            \n",
              "==============================================================================\n",
              "Dep. Variable:           sepal_length   R-squared:                       0.623\n",
              "Model:                            OLS   Adj. R-squared:                  0.613\n",
              "Method:                 Least Squares   F-statistic:                     59.88\n",
              "Date:                Wed, 20 May 2020   Prob (F-statistic):           9.05e-30\n",
              "Time:                        08:53:41   Log-Likelihood:                -110.89\n",
              "No. Observations:                 150   AIC:                             231.8\n",
              "Df Residuals:                     145   BIC:                             246.8\n",
              "Df Model:                           4                                         \n",
              "Covariance Type:            nonrobust                                         \n",
              "=========================================================================================================================\n",
              "                                                            coef    std err          t      P>|t|      [0.025      0.975]\n",
              "-------------------------------------------------------------------------------------------------------------------------\n",
              "Intercept                                                 5.0060      0.073     68.672      0.000       4.862       5.150\n",
              "C(species)[T.versicolor]                                  0.3895      0.105      3.712      0.000       0.182       0.597\n",
              "C(species)[T.virginica]                                   0.6507      0.081      8.010      0.000       0.490       0.811\n",
              "C(petal_width_cat)[T.medium]                              0.4229      0.081      5.212      0.000       0.262       0.583\n",
              "C(petal_width_cat)[T.high]                                0.6174      0.105      5.879      0.000       0.410       0.825\n",
              "C(species)[T.versicolor]:C(petal_width_cat)[T.medium]     0.1024      0.097      1.051      0.295      -0.090       0.295\n",
              "C(species)[T.virginica]:C(petal_width_cat)[T.medium]      0.3204      0.132      2.423      0.017       0.059       0.582\n",
              "C(species)[T.versicolor]:C(petal_width_cat)[T.high]       0.2871      0.175      1.636      0.104      -0.060       0.634\n",
              "C(species)[T.virginica]:C(petal_width_cat)[T.high]        0.3303      0.098      3.381      0.001       0.137       0.523\n",
              "==============================================================================\n",
              "Omnibus:                        1.325   Durbin-Watson:                   2.035\n",
              "Prob(Omnibus):                  0.515   Jarque-Bera (JB):                0.908\n",
              "Skew:                           0.107   Prob(JB):                        0.635\n",
              "Kurtosis:                       3.315   Cond. No.                     6.52e+16\n",
              "==============================================================================\n",
              "\n",
              "Warnings:\n",
              "[1] Standard Errors assume that the covariance matrix of the errors is correctly specified.\n",
              "[2] The smallest eigenvalue is 6.3e-32. This might indicate that there are\n",
              "strong multicollinearity problems or that the design matrix is singular.\n",
              "\"\"\""
            ]
          },
          "metadata": {
            "tags": []
          },
          "execution_count": 79
        }
      ]
    },
    {
      "cell_type": "markdown",
      "metadata": {
        "id": "QPB4F8jCtub0",
        "colab_type": "text"
      },
      "source": [
        "##Task 5 \n",
        "(No coding, just text answer) What kind of test can you use after a two-way ANOVA to get more insight into the results? For instance, what kind of test can be used to say which of the variables ```species``` and ```petal_width_cat``` are good predictors?"
      ]
    },
    {
      "cell_type": "markdown",
      "metadata": {
        "id": "RQoSB-u2tvKu",
        "colab_type": "text"
      },
      "source": [
        "We could conducta Bonferroni correction\n",
        "We take our alpha level and divide by the number of tests. (It is the simplest most conservative approach, but it could increase type 2 errors)\n",
        "\n",
        "Other ways of finding the differences without increasing type 2 differences are the following:\n",
        "- `Tukeys Honestly Significant Difference (HSD)`\n",
        "\n",
        "For unequal sample size use:\n",
        "- `Gabriel's` (small n)\n",
        "- `Hochberg's GT2` (large n)\n",
        "\n",
        "For unequal variances use:\n",
        "- `Games-Howell`"
      ]
    }
  ]
}
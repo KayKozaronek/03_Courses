{
  "nbformat": 4,
  "nbformat_minor": 0,
  "metadata": {
    "colab": {
      "name": "NLP Course - Week 3 Exercise Question.ipynb",
      "provenance": [],
      "authorship_tag": "ABX9TyPCDAaabmtt8t8AE7k2u7zq",
      "include_colab_link": true
    },
    "kernelspec": {
      "name": "python3",
      "display_name": "Python 3"
    },
    "accelerator": "GPU"
  },
  "cells": [
    {
      "cell_type": "markdown",
      "metadata": {
        "id": "view-in-github",
        "colab_type": "text"
      },
      "source": [
        "<a href=\"https://colab.research.google.com/github/KayKozaronek/03_Courses/blob/master/NLP_Course_Week_3_Exercise_Question.ipynb\" target=\"_parent\"><img src=\"https://colab.research.google.com/assets/colab-badge.svg\" alt=\"Open In Colab\"/></a>"
      ]
    },
    {
      "cell_type": "code",
      "metadata": {
        "id": "H-YZU8qJ6c7B",
        "colab_type": "code",
        "colab": {}
      },
      "source": [
        "import json\n",
        "import tensorflow as tf\n",
        "import csv \n",
        "import random \n",
        "import numpy as np\n",
        "\n",
        "from tensorflow.keras.preprocessing.text import Tokenizer\n",
        "from tensorflow.keras.preprocessing.sequence import pad_sequences\n",
        "from tensorflow.keras.utils import to_categorical\n",
        "from tensorflow.keras import regularizers"
      ],
      "execution_count": 0,
      "outputs": []
    },
    {
      "cell_type": "code",
      "metadata": {
        "id": "ju3WrSMK7oU0",
        "colab_type": "code",
        "colab": {}
      },
      "source": [
        "embedding_dim = 100\n",
        "max_length = 16\n",
        "trunc_type = \"post\"\n",
        "padding_type = \"post\"\n",
        "oov_tok = \"<OOV>\"\n",
        "training_size= 160000#160365 #Your dataset size here. Experiment using smaller values (i.e. 16000), but don't forget to train on at least 160000 to see the best effects\n",
        "test_portion = 0.1"
      ],
      "execution_count": 0,
      "outputs": []
    },
    {
      "cell_type": "markdown",
      "metadata": {
        "id": "GDf8Rart75qB",
        "colab_type": "text"
      },
      "source": [
        "Note that I cleaned the Stanford dataset to remove LATIN1 encoding to make it easier for Python CSV reader\n",
        "\n",
        "You can do that yourself with:\n",
        "iconv -f LATIN1 -t UTF8 training.1600000.processed.noemoticon.csv -o training_cleaned.csv"
      ]
    },
    {
      "cell_type": "code",
      "metadata": {
        "id": "MtGVQghj8Kel",
        "colab_type": "code",
        "colab": {
          "base_uri": "https://localhost:8080/",
          "height": 232
        },
        "outputId": "85d87f72-231c-4292-f03a-82ead30c5378"
      },
      "source": [
        "!wget --no-check-certificate \\\n",
        "    https://storage.googleapis.com/laurencemoroney-blog.appspot.com/training_cleaned.csv \\\n",
        "    -O /tmp/training_cleaned.csv"
      ],
      "execution_count": 46,
      "outputs": [
        {
          "output_type": "stream",
          "text": [
            "--2020-05-22 12:55:25--  https://storage.googleapis.com/laurencemoroney-blog.appspot.com/training_cleaned.csv\n",
            "Resolving storage.googleapis.com (storage.googleapis.com)... 64.233.184.128, 2a00:1450:400c:c08::80\n",
            "Connecting to storage.googleapis.com (storage.googleapis.com)|64.233.184.128|:443... connected.\n",
            "HTTP request sent, awaiting response... 200 OK\n",
            "Length: 238942690 (228M) [application/octet-stream]\n",
            "Saving to: ‘/tmp/training_cleaned.csv’\n",
            "\n",
            "/tmp/training_clean 100%[===================>] 227.87M  44.4MB/s    in 5.1s    \n",
            "\n",
            "2020-05-22 12:55:31 (44.4 MB/s) - ‘/tmp/training_cleaned.csv’ saved [238942690/238942690]\n",
            "\n"
          ],
          "name": "stdout"
        }
      ]
    },
    {
      "cell_type": "code",
      "metadata": {
        "id": "p7nYbnS_-DHe",
        "colab_type": "code",
        "colab": {}
      },
      "source": [
        "num_sentences = 0 \n",
        "\n",
        "corpus=[]\n",
        "\n",
        "with open(\"/tmp/training_cleaned.csv\") as csvfile:\n",
        "  reader = csv.reader(csvfile, delimiter =\",\")\n",
        "  for row in reader:\n",
        "    # Your Code here. Create list items where the first item is the text, found in row[5]\n",
        "    # and the second is the label. Note that the label is a '0' or a '4' in the text. \n",
        "    # When it's the former, make your label to be 0, otherwise 1. \n",
        "    # Keep a count of the number of sentences in num_sentences\n",
        "    # YOUR CODE HERE\n",
        "    list_item = []\n",
        "    list_item.append(row[5])\n",
        "    current_label = row[0]\n",
        "    if current_label == \"0\":\n",
        "      list_item.append(0)\n",
        "    else:\n",
        "      list_item.append(1)\n",
        "    num_sentences = num_sentences + 1\n",
        "    corpus.append(list_item)"
      ],
      "execution_count": 0,
      "outputs": []
    },
    {
      "cell_type": "code",
      "metadata": {
        "id": "Bt6_330j9GMR",
        "colab_type": "code",
        "colab": {
          "base_uri": "https://localhost:8080/",
          "height": 90
        },
        "outputId": "6100e41d-66ab-4ca8-b75c-0a8c681843e6"
      },
      "source": [
        "print(num_sentences)\n",
        "print(len(corpus))\n",
        "print(corpus[1])\n",
        "\n",
        "# Expected Output:\n",
        "# 1600000\n",
        "# 1600000\n",
        "# [\"is upset that he can't update his Facebook by texting it... and might cry as a result  School today also. Blah!\", 0]"
      ],
      "execution_count": 48,
      "outputs": [
        {
          "output_type": "stream",
          "text": [
            "1600000\n",
            "1600000\n",
            "[\"is upset that he can't update his Facebook by texting it... and might cry as a result  School today also. Blah!\", 0]\n"
          ],
          "name": "stdout"
        }
      ]
    },
    {
      "cell_type": "code",
      "metadata": {
        "id": "GfA9BtrH_Wtt",
        "colab_type": "code",
        "colab": {}
      },
      "source": [
        "sentences = []\n",
        "labels = []\n",
        "\n",
        "random.shuffle(corpus)\n",
        "for x in range(training_size):\n",
        "  sentences.append(corpus[x][0])\n",
        "  labels.append(corpus[x][1])"
      ],
      "execution_count": 0,
      "outputs": []
    },
    {
      "cell_type": "code",
      "metadata": {
        "id": "1A-67ADPP4mo",
        "colab_type": "code",
        "colab": {
          "base_uri": "https://localhost:8080/",
          "height": 52
        },
        "outputId": "00cae3e4-9b2a-4805-993f-7a8de66b648d"
      },
      "source": [
        "print(len(sentences))\n",
        "print(len(labels))"
      ],
      "execution_count": 50,
      "outputs": [
        {
          "output_type": "stream",
          "text": [
            "160000\n",
            "160000\n"
          ],
          "name": "stdout"
        }
      ]
    },
    {
      "cell_type": "code",
      "metadata": {
        "id": "S6ZO99kEFV67",
        "colab_type": "code",
        "colab": {}
      },
      "source": [
        "import numpy as np\n",
        "\n",
        "sentences=[]\n",
        "labels=[]\n",
        "random.shuffle(corpus)\n",
        "for x in range(training_size):\n",
        "    sentences.append(corpus[x][0])\n",
        "    labels.append(corpus[x][1])\n",
        "\n",
        "\n",
        "tokenizer = Tokenizer()\n",
        "tokenizer.fit_on_texts(sentences)\n",
        "\n",
        "word_index = tokenizer.word_index\n",
        "vocab_size=len(word_index)\n",
        "\n",
        "sequences = tokenizer.texts_to_sequences(sentences)\n",
        "padded = pad_sequences(sequences, \n",
        "                       maxlen=max_length, \n",
        "                       padding=padding_type, \n",
        "                       truncating=trunc_type)\n",
        "\n",
        "split = int(test_portion * training_size)\n",
        "\n",
        "test_sequences = padded[0:split]\n",
        "training_sequences = padded[split:training_size]\n",
        "\n",
        "test_labels = np.array(labels[0:split])\n",
        "training_labels = np.array(labels[split:training_size])"
      ],
      "execution_count": 0,
      "outputs": []
    },
    {
      "cell_type": "code",
      "metadata": {
        "id": "eMimIs3wFJXn",
        "colab_type": "code",
        "colab": {
          "base_uri": "https://localhost:8080/",
          "height": 52
        },
        "outputId": "d9c4bd07-4a20-4cb4-955c-b82723eb2440"
      },
      "source": [
        "print(vocab_size)\n",
        "print(word_index[\"i\"])\n",
        "# Expected Output\n",
        "# 138858 ( Will most probably vary due to the random shuffle)\n",
        "# 1"
      ],
      "execution_count": 52,
      "outputs": [
        {
          "output_type": "stream",
          "text": [
            "138409\n",
            "1\n"
          ],
          "name": "stdout"
        }
      ]
    },
    {
      "cell_type": "markdown",
      "metadata": {
        "id": "ouOX4m9hGZ9v",
        "colab_type": "text"
      },
      "source": [
        "Note this is the 100 dimension version of GloVe from Stanford\n",
        "It is unzipped and hosted on the following  website to make this notebook easier"
      ]
    },
    {
      "cell_type": "code",
      "metadata": {
        "id": "-66ougSQIJlW",
        "colab_type": "code",
        "colab": {
          "base_uri": "https://localhost:8080/",
          "height": 232
        },
        "outputId": "90e503d5-dca6-47af-871a-d3f72903173a"
      },
      "source": [
        "!wget --no-check-certificate \\\n",
        "    https://storage.googleapis.com/laurencemoroney-blog.appspot.com/glove.6B.100d.txt \\\n",
        "    -O /tmp/glove.6B.100d.txt"
      ],
      "execution_count": 53,
      "outputs": [
        {
          "output_type": "stream",
          "text": [
            "--2020-05-22 12:55:49--  https://storage.googleapis.com/laurencemoroney-blog.appspot.com/glove.6B.100d.txt\n",
            "Resolving storage.googleapis.com (storage.googleapis.com)... 108.177.15.128, 2a00:1450:400c:c00::80\n",
            "Connecting to storage.googleapis.com (storage.googleapis.com)|108.177.15.128|:443... connected.\n",
            "HTTP request sent, awaiting response... 200 OK\n",
            "Length: 347116733 (331M) [text/plain]\n",
            "Saving to: ‘/tmp/glove.6B.100d.txt’\n",
            "\n",
            "/tmp/glove.6B.100d. 100%[===================>] 331.04M  41.2MB/s    in 8.0s    \n",
            "\n",
            "2020-05-22 12:55:58 (41.2 MB/s) - ‘/tmp/glove.6B.100d.txt’ saved [347116733/347116733]\n",
            "\n"
          ],
          "name": "stdout"
        }
      ]
    },
    {
      "cell_type": "code",
      "metadata": {
        "id": "QxVWeC94ISkB",
        "colab_type": "code",
        "colab": {}
      },
      "source": [
        "embeddings_index = {};\n",
        "with open('/tmp/glove.6B.100d.txt') as f:\n",
        "    for line in f:\n",
        "        values = line.split();\n",
        "        word = values[0];\n",
        "        coefs = np.asarray(values[1:], dtype='float32');\n",
        "        embeddings_index[word] = coefs;\n",
        "\n",
        "embeddings_matrix = np.zeros((vocab_size+1, embedding_dim));\n",
        "for word, i in word_index.items():\n",
        "    embedding_vector = embeddings_index.get(word);\n",
        "    if embedding_vector is not None:\n",
        "        embeddings_matrix[i] = embedding_vector;"
      ],
      "execution_count": 0,
      "outputs": []
    },
    {
      "cell_type": "code",
      "metadata": {
        "id": "-d94AK21I1ew",
        "colab_type": "code",
        "colab": {
          "base_uri": "https://localhost:8080/",
          "height": 35
        },
        "outputId": "d528b627-0d32-489a-f8d3-e3c478546166"
      },
      "source": [
        "print(len(embeddings_matrix))\n",
        "# Expected Output\n",
        "# 138859"
      ],
      "execution_count": 55,
      "outputs": [
        {
          "output_type": "stream",
          "text": [
            "138410\n"
          ],
          "name": "stdout"
        }
      ]
    },
    {
      "cell_type": "code",
      "metadata": {
        "id": "tYaMF9sWJH2t",
        "colab_type": "code",
        "colab": {}
      },
      "source": [
        "model = tf.keras.Sequential([\n",
        "        tf.keras.layers.Embedding(vocab_size +1,\n",
        "                                  embedding_dim,\n",
        "                                  input_length=max_length,\n",
        "                                  #weights=[embeddings_matrix],\n",
        "                                  trainable = False),\n",
        "        # YOUR CODE HERE - experiment with combining different types, such as convolutions and LSTMs\n",
        "        tf.keras.layers.Dropout(0.2),\n",
        "        tf.keras.layers.Conv1D(64,5,activation =\"relu\"),\n",
        "        tf.keras.layers.MaxPooling1D(pool_size =4),\n",
        "        tf.keras.layers.LSTM(32), #, return_sequences = True)),\n",
        "        #tf.keras.layers.Bidirectional(tf.keras.layers.LSTM(32)),\n",
        "        #tf.keras.layers.Conv1D(32,(3,), activation =\"relu\"),\n",
        "        #tf.keras.layers.GlobalAveragePooling1D(),\n",
        "        tf.keras.layers.Dense(1, activation =\"sigmoid\")])"
      ],
      "execution_count": 0,
      "outputs": []
    },
    {
      "cell_type": "code",
      "metadata": {
        "id": "_OKnZR0EK_fe",
        "colab_type": "code",
        "colab": {
          "base_uri": "https://localhost:8080/",
          "height": 372
        },
        "outputId": "a074031c-0e05-4387-c8e3-d32633d3d4a4"
      },
      "source": [
        "model.compile(optimizer= \"adam\",\n",
        "              loss = \"binary_crossentropy\",\n",
        "              metrics = [\"accuracy\"])\n",
        "\n",
        "model.summary()"
      ],
      "execution_count": 57,
      "outputs": [
        {
          "output_type": "stream",
          "text": [
            "Model: \"sequential_3\"\n",
            "_________________________________________________________________\n",
            "Layer (type)                 Output Shape              Param #   \n",
            "=================================================================\n",
            "embedding_3 (Embedding)      (None, 16, 100)           13841000  \n",
            "_________________________________________________________________\n",
            "dropout_2 (Dropout)          (None, 16, 100)           0         \n",
            "_________________________________________________________________\n",
            "conv1d_2 (Conv1D)            (None, 12, 64)            32064     \n",
            "_________________________________________________________________\n",
            "max_pooling1d_2 (MaxPooling1 (None, 3, 64)             0         \n",
            "_________________________________________________________________\n",
            "lstm_4 (LSTM)                (None, 32)                12416     \n",
            "_________________________________________________________________\n",
            "dense_4 (Dense)              (None, 1)                 33        \n",
            "=================================================================\n",
            "Total params: 13,885,513\n",
            "Trainable params: 44,513\n",
            "Non-trainable params: 13,841,000\n",
            "_________________________________________________________________\n"
          ],
          "name": "stdout"
        }
      ]
    },
    {
      "cell_type": "code",
      "metadata": {
        "id": "YC5pwIJdMR6z",
        "colab_type": "code",
        "colab": {
          "base_uri": "https://localhost:8080/",
          "height": 1000
        },
        "outputId": "d8c4e282-0954-44c4-a6e4-8ae61b2f29e7"
      },
      "source": [
        "num_epochs = 50\n",
        "\n",
        "history = model.fit(training_sequences, training_labels,\n",
        "                    epochs = num_epochs,\n",
        "                    validation_data= (training_sequences, training_labels),\n",
        "                    verbose =1)\n",
        "\n",
        "print(\"Training Complete\")"
      ],
      "execution_count": 58,
      "outputs": [
        {
          "output_type": "stream",
          "text": [
            "Epoch 1/50\n",
            "4500/4500 [==============================] - 33s 7ms/step - loss: 0.6106 - accuracy: 0.6558 - val_loss: 0.5476 - val_accuracy: 0.7185\n",
            "Epoch 2/50\n",
            "4500/4500 [==============================] - 32s 7ms/step - loss: 0.5579 - accuracy: 0.7063 - val_loss: 0.5157 - val_accuracy: 0.7469\n",
            "Epoch 3/50\n",
            "4500/4500 [==============================] - 32s 7ms/step - loss: 0.5377 - accuracy: 0.7230 - val_loss: 0.4972 - val_accuracy: 0.7594\n",
            "Epoch 4/50\n",
            "4500/4500 [==============================] - 32s 7ms/step - loss: 0.5257 - accuracy: 0.7315 - val_loss: 0.4939 - val_accuracy: 0.7699\n",
            "Epoch 5/50\n",
            "4500/4500 [==============================] - 32s 7ms/step - loss: 0.5178 - accuracy: 0.7374 - val_loss: 0.4840 - val_accuracy: 0.7701\n",
            "Epoch 6/50\n",
            "4500/4500 [==============================] - 33s 7ms/step - loss: 0.5108 - accuracy: 0.7425 - val_loss: 0.4680 - val_accuracy: 0.7805\n",
            "Epoch 7/50\n",
            "4500/4500 [==============================] - 32s 7ms/step - loss: 0.5045 - accuracy: 0.7479 - val_loss: 0.4758 - val_accuracy: 0.7707\n",
            "Epoch 8/50\n",
            "4500/4500 [==============================] - 32s 7ms/step - loss: 0.5002 - accuracy: 0.7511 - val_loss: 0.4557 - val_accuracy: 0.7887\n",
            "Epoch 9/50\n",
            "4500/4500 [==============================] - 32s 7ms/step - loss: 0.4957 - accuracy: 0.7518 - val_loss: 0.4586 - val_accuracy: 0.7868\n",
            "Epoch 10/50\n",
            "4500/4500 [==============================] - 32s 7ms/step - loss: 0.4935 - accuracy: 0.7540 - val_loss: 0.4513 - val_accuracy: 0.7960\n",
            "Epoch 11/50\n",
            "4500/4500 [==============================] - 32s 7ms/step - loss: 0.4894 - accuracy: 0.7566 - val_loss: 0.4402 - val_accuracy: 0.7971\n",
            "Epoch 12/50\n",
            "4500/4500 [==============================] - 32s 7ms/step - loss: 0.4860 - accuracy: 0.7602 - val_loss: 0.4373 - val_accuracy: 0.7979\n",
            "Epoch 13/50\n",
            "4500/4500 [==============================] - 32s 7ms/step - loss: 0.4829 - accuracy: 0.7630 - val_loss: 0.4352 - val_accuracy: 0.7992\n",
            "Epoch 14/50\n",
            "4500/4500 [==============================] - 31s 7ms/step - loss: 0.4807 - accuracy: 0.7623 - val_loss: 0.4288 - val_accuracy: 0.8026\n",
            "Epoch 15/50\n",
            "4500/4500 [==============================] - 32s 7ms/step - loss: 0.4785 - accuracy: 0.7661 - val_loss: 0.4372 - val_accuracy: 0.8033\n",
            "Epoch 16/50\n",
            "4500/4500 [==============================] - 32s 7ms/step - loss: 0.4764 - accuracy: 0.7665 - val_loss: 0.4257 - val_accuracy: 0.8041\n",
            "Epoch 17/50\n",
            "4500/4500 [==============================] - 31s 7ms/step - loss: 0.4742 - accuracy: 0.7675 - val_loss: 0.4399 - val_accuracy: 0.8027\n",
            "Epoch 18/50\n",
            "4500/4500 [==============================] - 31s 7ms/step - loss: 0.4710 - accuracy: 0.7702 - val_loss: 0.4204 - val_accuracy: 0.8110\n",
            "Epoch 19/50\n",
            "4500/4500 [==============================] - 31s 7ms/step - loss: 0.4711 - accuracy: 0.7701 - val_loss: 0.4286 - val_accuracy: 0.8065\n",
            "Epoch 20/50\n",
            "4500/4500 [==============================] - 32s 7ms/step - loss: 0.4711 - accuracy: 0.7699 - val_loss: 0.4136 - val_accuracy: 0.8137\n",
            "Epoch 21/50\n",
            "4500/4500 [==============================] - 31s 7ms/step - loss: 0.4661 - accuracy: 0.7733 - val_loss: 0.4239 - val_accuracy: 0.8100\n",
            "Epoch 22/50\n",
            "4500/4500 [==============================] - 31s 7ms/step - loss: 0.4667 - accuracy: 0.7729 - val_loss: 0.4162 - val_accuracy: 0.8109\n",
            "Epoch 23/50\n",
            "4500/4500 [==============================] - 31s 7ms/step - loss: 0.4661 - accuracy: 0.7732 - val_loss: 0.4330 - val_accuracy: 0.8006\n",
            "Epoch 24/50\n",
            "4500/4500 [==============================] - 31s 7ms/step - loss: 0.4637 - accuracy: 0.7750 - val_loss: 0.4101 - val_accuracy: 0.8178\n",
            "Epoch 25/50\n",
            "4500/4500 [==============================] - 32s 7ms/step - loss: 0.4620 - accuracy: 0.7750 - val_loss: 0.4026 - val_accuracy: 0.8197\n",
            "Epoch 26/50\n",
            "4500/4500 [==============================] - 32s 7ms/step - loss: 0.4593 - accuracy: 0.7784 - val_loss: 0.4158 - val_accuracy: 0.8128\n",
            "Epoch 27/50\n",
            "4500/4500 [==============================] - 31s 7ms/step - loss: 0.4597 - accuracy: 0.7772 - val_loss: 0.4069 - val_accuracy: 0.8167\n",
            "Epoch 28/50\n",
            "4500/4500 [==============================] - 32s 7ms/step - loss: 0.4590 - accuracy: 0.7766 - val_loss: 0.4007 - val_accuracy: 0.8226\n",
            "Epoch 29/50\n",
            "4500/4500 [==============================] - 31s 7ms/step - loss: 0.4584 - accuracy: 0.7778 - val_loss: 0.4073 - val_accuracy: 0.8170\n",
            "Epoch 30/50\n",
            "4500/4500 [==============================] - 32s 7ms/step - loss: 0.4557 - accuracy: 0.7800 - val_loss: 0.4085 - val_accuracy: 0.8161\n",
            "Epoch 31/50\n",
            "4500/4500 [==============================] - 31s 7ms/step - loss: 0.4565 - accuracy: 0.7783 - val_loss: 0.4074 - val_accuracy: 0.8170\n",
            "Epoch 32/50\n",
            "4500/4500 [==============================] - 31s 7ms/step - loss: 0.4552 - accuracy: 0.7792 - val_loss: 0.3989 - val_accuracy: 0.8254\n",
            "Epoch 33/50\n",
            "4500/4500 [==============================] - 31s 7ms/step - loss: 0.4523 - accuracy: 0.7816 - val_loss: 0.3951 - val_accuracy: 0.8276\n",
            "Epoch 34/50\n",
            "4500/4500 [==============================] - 31s 7ms/step - loss: 0.4530 - accuracy: 0.7803 - val_loss: 0.3991 - val_accuracy: 0.8218\n",
            "Epoch 35/50\n",
            "4500/4500 [==============================] - 33s 7ms/step - loss: 0.4509 - accuracy: 0.7836 - val_loss: 0.3882 - val_accuracy: 0.8299\n",
            "Epoch 36/50\n",
            "4500/4500 [==============================] - 32s 7ms/step - loss: 0.4485 - accuracy: 0.7838 - val_loss: 0.3914 - val_accuracy: 0.8232\n",
            "Epoch 37/50\n",
            "4500/4500 [==============================] - 32s 7ms/step - loss: 0.4472 - accuracy: 0.7836 - val_loss: 0.3888 - val_accuracy: 0.8315\n",
            "Epoch 38/50\n",
            "4500/4500 [==============================] - 32s 7ms/step - loss: 0.4485 - accuracy: 0.7840 - val_loss: 0.3998 - val_accuracy: 0.8224\n",
            "Epoch 39/50\n",
            "4500/4500 [==============================] - 32s 7ms/step - loss: 0.4479 - accuracy: 0.7841 - val_loss: 0.3909 - val_accuracy: 0.8273\n",
            "Epoch 40/50\n",
            "4500/4500 [==============================] - 32s 7ms/step - loss: 0.4453 - accuracy: 0.7855 - val_loss: 0.3871 - val_accuracy: 0.8283\n",
            "Epoch 41/50\n",
            "4500/4500 [==============================] - 32s 7ms/step - loss: 0.4446 - accuracy: 0.7861 - val_loss: 0.3990 - val_accuracy: 0.8189\n",
            "Epoch 42/50\n",
            "4500/4500 [==============================] - 32s 7ms/step - loss: 0.4453 - accuracy: 0.7865 - val_loss: 0.3830 - val_accuracy: 0.8277\n",
            "Epoch 43/50\n",
            "4500/4500 [==============================] - 32s 7ms/step - loss: 0.4450 - accuracy: 0.7854 - val_loss: 0.3828 - val_accuracy: 0.8328\n",
            "Epoch 44/50\n",
            "4500/4500 [==============================] - 32s 7ms/step - loss: 0.4442 - accuracy: 0.7855 - val_loss: 0.3764 - val_accuracy: 0.8366\n",
            "Epoch 45/50\n",
            "4500/4500 [==============================] - 33s 7ms/step - loss: 0.4419 - accuracy: 0.7876 - val_loss: 0.3749 - val_accuracy: 0.8364\n",
            "Epoch 46/50\n",
            "4500/4500 [==============================] - 32s 7ms/step - loss: 0.4424 - accuracy: 0.7877 - val_loss: 0.3834 - val_accuracy: 0.8320\n",
            "Epoch 47/50\n",
            "4500/4500 [==============================] - 32s 7ms/step - loss: 0.4402 - accuracy: 0.7881 - val_loss: 0.3812 - val_accuracy: 0.8318\n",
            "Epoch 48/50\n",
            "4500/4500 [==============================] - 32s 7ms/step - loss: 0.4412 - accuracy: 0.7874 - val_loss: 0.3786 - val_accuracy: 0.8342\n",
            "Epoch 49/50\n",
            "4500/4500 [==============================] - 33s 7ms/step - loss: 0.4389 - accuracy: 0.7872 - val_loss: 0.3829 - val_accuracy: 0.8290\n",
            "Epoch 50/50\n",
            "4500/4500 [==============================] - 32s 7ms/step - loss: 0.4392 - accuracy: 0.7900 - val_loss: 0.3824 - val_accuracy: 0.8359\n",
            "Training Complete\n"
          ],
          "name": "stdout"
        }
      ]
    },
    {
      "cell_type": "code",
      "metadata": {
        "id": "PBIwr-vAMkND",
        "colab_type": "code",
        "colab": {
          "base_uri": "https://localhost:8080/",
          "height": 609
        },
        "outputId": "97371e2d-ab89-4ac7-d3ba-1576273c71ad"
      },
      "source": [
        "import matplotlib.image as mpimg\n",
        "import matplotlib.pyplot as plt \n",
        "\n",
        "\n",
        "#-----------------------------------------------------------\n",
        "# Retrieve a list of list results on training and test data\n",
        "# sets for each training epoch\n",
        "#-----------------------------------------------------------\n",
        "acc = history.history[\"accuracy\"]\n",
        "val_acc = history.history[\"val_accuracy\"]\n",
        "loss = history.history[\"loss\"]\n",
        "val_loss = history.history[\"val_loss\"]\n",
        "\n",
        "epochs = range(len(acc)) # Get number of epochs\n",
        "\n",
        "#------------------------------------------------\n",
        "# Plot training and validation accuracy per epoch\n",
        "#------------------------------------------------\n",
        "plt.plot(epochs, acc, \"r\")\n",
        "plt.plot(epochs, val_acc, \"b\")\n",
        "plt.title(\"Training and validation accuracy\")\n",
        "plt.xlabel(\"Epochs\")\n",
        "plt.ylabel(\"Accuracy\")\n",
        "plt.legend([\"Accuracy\", \"Validation Accuracy\"])\n",
        "\n",
        "plt.figure()\n",
        "\n",
        "#------------------------------------------------\n",
        "# Plot training and validation loss per epoch\n",
        "#------------------------------------------------\n",
        "plt.plot(epochs, loss, \"b\")\n",
        "plt.plot(epochs, val_loss, \"r\")\n",
        "plt.title(\"Training and validation loss\")\n",
        "plt.xlabel(\"Epochs\")\n",
        "plt.ylabel(\"Loss\")\n",
        "plt.legend([\"Loss\", \"Validation Loss\"])\n",
        "\n",
        "plt.figure()\n",
        "\n",
        "\n",
        "# Expected Output\n",
        "# A chart where the validation loss does not increase sharply!"
      ],
      "execution_count": 62,
      "outputs": [
        {
          "output_type": "execute_result",
          "data": {
            "text/plain": [
              "<Figure size 432x288 with 0 Axes>"
            ]
          },
          "metadata": {
            "tags": []
          },
          "execution_count": 62
        },
        {
          "output_type": "display_data",
          "data": {
            "image/png": "[encoded data removed]",
            "text/plain": [
              "<Figure size 432x288 with 1 Axes>"
            ]
          },
          "metadata": {
            "tags": [],
            "needs_background": "light"
          }
        },
        {
          "output_type": "display_data",
          "data": {
            "image/png": "[encoded data removed]",
            "text/plain": [
              "<Figure size 432x288 with 1 Axes>"
            ]
          },
          "metadata": {
            "tags": [],
            "needs_background": "light"
          }
        },
        {
          "output_type": "display_data",
          "data": {
            "text/plain": [
              "<Figure size 432x288 with 0 Axes>"
            ]
          },
          "metadata": {
            "tags": []
          }
        }
      ]
    },
    {
      "cell_type": "code",
      "metadata": {
        "id": "NXXopBJtUpfb",
        "colab_type": "code",
        "colab": {}
      },
      "source": [
        ""
      ],
      "execution_count": 0,
      "outputs": []
    }
  ]
}
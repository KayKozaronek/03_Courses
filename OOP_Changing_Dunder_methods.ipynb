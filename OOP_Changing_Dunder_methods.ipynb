{
  "nbformat": 4,
  "nbformat_minor": 0,
  "metadata": {
    "colab": {
      "name": "OOP_Changing Dunder methods.ipynb",
      "provenance": [],
      "authorship_tag": "ABX9TyOjxgRObw7B/c5t1/nZ9syX",
      "include_colab_link": true
    },
    "kernelspec": {
      "name": "python3",
      "display_name": "Python 3"
    }
  },
  "cells": [
    {
      "cell_type": "markdown",
      "metadata": {
        "id": "view-in-github",
        "colab_type": "text"
      },
      "source": [
        "<a href=\"https://colab.research.google.com/github/KayKozaronek/03_Courses/blob/master/OOP_Changing_Dunder_methods.ipynb\" target=\"_parent\"><img src=\"https://colab.research.google.com/assets/colab-badge.svg\" alt=\"Open In Colab\"/></a>"
      ]
    },
    {
      "cell_type": "markdown",
      "metadata": {
        "id": "EdRMucRO-1Y0",
        "colab_type": "text"
      },
      "source": [
        "#Super()"
      ]
    },
    {
      "cell_type": "code",
      "metadata": {
        "id": "RAkYatyl8nq4",
        "colab_type": "code",
        "colab": {
          "base_uri": "https://localhost:8080/",
          "height": 34
        },
        "outputId": "ebf512d5-b9b5-42e3-d529-41e580982587"
      },
      "source": [
        "class User(object):\n",
        "  def __init__(self,email):\n",
        "    self.email = email\n",
        "\n",
        "  def sign_in(self):\n",
        "    print(\"logged in\")\n",
        "\n",
        "class Wizard(User):\n",
        "  def __init__(self,name,power, email):\n",
        "    super().__init__(email) # Super refers to the class above Wizard, which is User\n",
        "    self.name = name\n",
        "    self.power = power\n",
        "\n",
        "  def attack(self):\n",
        "    print(f\"Attacking with power of {self.power}\")\n",
        "\n",
        "wizard1 = Wizard(\"Merlin\", 60, \"merlin@gmail.com\")\n",
        "print(wizard1.email)"
      ],
      "execution_count": 4,
      "outputs": [
        {
          "output_type": "stream",
          "text": [
            "merlin@gmail.com\n"
          ],
          "name": "stdout"
        }
      ]
    },
    {
      "cell_type": "code",
      "metadata": {
        "id": "BA90gZ3f9gft",
        "colab_type": "code",
        "colab": {
          "base_uri": "https://localhost:8080/",
          "height": 34
        },
        "outputId": "e6f51ef1-ce61-466e-c5d4-fdb0929ece98"
      },
      "source": [
        "isinstance(wizard1, User)"
      ],
      "execution_count": 8,
      "outputs": [
        {
          "output_type": "execute_result",
          "data": {
            "text/plain": [
              "True"
            ]
          },
          "metadata": {
            "tags": []
          },
          "execution_count": 8
        }
      ]
    },
    {
      "cell_type": "markdown",
      "metadata": {
        "id": "qEHo5Gui-5MZ",
        "colab_type": "text"
      },
      "source": [
        "#Introspection"
      ]
    },
    {
      "cell_type": "markdown",
      "metadata": {
        "id": "4kd0GTgw-Zid",
        "colab_type": "text"
      },
      "source": [
        "Introspection is the idea of inspecting the type of an object at runtime \n",
        "(while running the code) \n",
        "\n",
        "Everytime we use `.`, we make use of introspection, as it shows us the available methods."
      ]
    },
    {
      "cell_type": "code",
      "metadata": {
        "id": "q9xwqNvT-yDS",
        "colab_type": "code",
        "colab": {
          "base_uri": "https://localhost:8080/",
          "height": 54
        },
        "outputId": "c68ff526-c21c-4014-d758-b2524da96700"
      },
      "source": [
        "# dir gives me all of the methods and attributes that wizard has\n",
        "\n",
        "print(dir(wizard1))"
      ],
      "execution_count": 11,
      "outputs": [
        {
          "output_type": "stream",
          "text": [
            "['__class__', '__delattr__', '__dict__', '__dir__', '__doc__', '__eq__', '__format__', '__ge__', '__getattribute__', '__gt__', '__hash__', '__init__', '__init_subclass__', '__le__', '__lt__', '__module__', '__ne__', '__new__', '__reduce__', '__reduce_ex__', '__repr__', '__setattr__', '__sizeof__', '__str__', '__subclasshook__', '__weakref__', 'attack', 'email', 'name', 'power', 'sign_in']\n"
          ],
          "name": "stdout"
        }
      ]
    },
    {
      "cell_type": "markdown",
      "metadata": {
        "id": "xGiMfNh__C2x",
        "colab_type": "text"
      },
      "source": [
        "We can see that we have a lot of access to **dunder methods** which are shown by the double underscore e.g. `__class__`"
      ]
    },
    {
      "cell_type": "markdown",
      "metadata": {
        "id": "2WU0wQvi_qyX",
        "colab_type": "text"
      },
      "source": [
        "\n",
        "# Dunder/ Magic methods\n",
        "\n",
        "Those are special methods that the basetype object has and that all other objects inherit.\n",
        "\n",
        "You can even do basic customization, which you can check out here:\n",
        "https://docs.python.org/3/reference/datamodel.html"
      ]
    },
    {
      "cell_type": "code",
      "metadata": {
        "id": "r31diR0k_0BM",
        "colab_type": "code",
        "colab": {
          "base_uri": "https://localhost:8080/",
          "height": 50
        },
        "outputId": "bd6b7542-ce9b-4e05-8129-18eb192cf978"
      },
      "source": [
        "class Toy():\n",
        "  def __init__(self, color, age):\n",
        "    self.color = color \n",
        "    self.age = age \n",
        "\n",
        "action_figure = Toy(\"red\",0)\n",
        "\n",
        "# These two, express the same idea and have the same output.\n",
        "print(action_figure.__str__())\n",
        "print(str(action_figure))"
      ],
      "execution_count": 15,
      "outputs": [
        {
          "output_type": "stream",
          "text": [
            "<__main__.Toy object at 0x7f66cf31beb8>\n",
            "<__main__.Toy object at 0x7f66cf31beb8>\n"
          ],
          "name": "stdout"
        }
      ]
    },
    {
      "cell_type": "markdown",
      "metadata": {
        "id": "ojDfIqEBAJyA",
        "colab_type": "text"
      },
      "source": [
        "Now let's see how modifying a dunder method works:\n",
        "- most of the time it is not recommendable to change up these methods\n",
        "- sometimes though, you'll want your classes to behave in a different way, that's when you'll want to edit those"
      ]
    },
    {
      "cell_type": "code",
      "metadata": {
        "id": "v1li7FUmBASB",
        "colab_type": "code",
        "colab": {
          "base_uri": "https://localhost:8080/",
          "height": 134
        },
        "outputId": "af14bd59-2f97-4e0c-8fea-0b34609e3485"
      },
      "source": [
        "class Toy():\n",
        "  def __init__(self, color, age):\n",
        "    self.color = color \n",
        "    self.age = age \n",
        "    self.my_dict = {\n",
        "        \"name\": \"Yoyo\",\n",
        "        \"has_pets\":False\n",
        "    }  \n",
        "  #Example 1\n",
        "  def __str__(self):\n",
        "    return f\"{self.color}\"\n",
        "\n",
        "  #Example 2\n",
        "  def __len__(self):\n",
        "    return 5\n",
        "\n",
        "  #Example 3\n",
        "  def __del__(self):\n",
        "    print(\"deleted!\")\n",
        "\n",
        "  #Example 4\n",
        "  def __call__(self):\n",
        "    return(\"yess?\")\n",
        "    \n",
        "  #Example 5\n",
        "  def __getitem__(self,i):\n",
        "    return self.my_dict[i]\n",
        "\n",
        "action_figure = Toy(\"red\",0)\n",
        "\n",
        "print(action_figure.__str__())\n",
        "print(str(action_figure))\n",
        "\n",
        "# Str doesnt change in general. Only, when called on action figure\n",
        "\n",
        "print(str(\"action_figure\"))\n",
        "print(len(action_figure))\n",
        "print(action_figure())\n",
        "print(action_figure[\"name\"])"
      ],
      "execution_count": 34,
      "outputs": [
        {
          "output_type": "stream",
          "text": [
            "deleted!\n",
            "red\n",
            "red\n",
            "action_figure\n",
            "5\n",
            "yess?\n",
            "Yoyo\n"
          ],
          "name": "stdout"
        }
      ]
    },
    {
      "cell_type": "code",
      "metadata": {
        "id": "x76wl5E2BJsY",
        "colab_type": "code",
        "colab": {
          "base_uri": "https://localhost:8080/",
          "height": 50
        },
        "outputId": "713ef71d-4ca2-4fad-947d-1962616e3d6b"
      },
      "source": [
        ""
      ],
      "execution_count": 26,
      "outputs": [
        {
          "output_type": "stream",
          "text": [
            "5\n",
            "deleted!\n"
          ],
          "name": "stdout"
        }
      ]
    },
    {
      "cell_type": "code",
      "metadata": {
        "id": "sNsgyPg7CGo1",
        "colab_type": "code",
        "colab": {}
      },
      "source": [
        ""
      ],
      "execution_count": 0,
      "outputs": []
    }
  ]
}
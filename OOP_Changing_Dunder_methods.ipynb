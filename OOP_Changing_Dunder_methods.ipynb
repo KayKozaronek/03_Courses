{
  "nbformat": 4,
  "nbformat_minor": 0,
  "metadata": {
    "colab": {
      "name": "OOP_Changing Dunder methods.ipynb",
      "provenance": [],
      "collapsed_sections": [],
      "authorship_tag": "ABX9TyNb08Jq7yTz0ru3tANeQqov",
      "include_colab_link": true
    },
    "kernelspec": {
      "name": "python3",
      "display_name": "Python 3"
    }
  },
  "cells": [
    {
      "cell_type": "markdown",
      "metadata": {
        "id": "view-in-github",
        "colab_type": "text"
      },
      "source": [
        "<a href=\"https://colab.research.google.com/github/KayKozaronek/03_Courses/blob/master/OOP_Changing_Dunder_methods.ipynb\" target=\"_parent\"><img src=\"https://colab.research.google.com/assets/colab-badge.svg\" alt=\"Open In Colab\"/></a>"
      ]
    },
    {
      "cell_type": "markdown",
      "metadata": {
        "id": "EdRMucRO-1Y0",
        "colab_type": "text"
      },
      "source": [
        "#Super()"
      ]
    },
    {
      "cell_type": "code",
      "metadata": {
        "id": "RAkYatyl8nq4",
        "colab_type": "code",
        "outputId": "ebf512d5-b9b5-42e3-d529-41e580982587",
        "colab": {
          "base_uri": "https://localhost:8080/",
          "height": 34
        }
      },
      "source": [
        "class User(object):\n",
        "  def __init__(self,email):\n",
        "    self.email = email\n",
        "\n",
        "  def sign_in(self):\n",
        "    print(\"logged in\")\n",
        "\n",
        "class Wizard(User):\n",
        "  def __init__(self,name,power, email):\n",
        "    super().__init__(email) # Super refers to the class above Wizard, which is User\n",
        "    self.name = name\n",
        "    self.power = power\n",
        "\n",
        "  def attack(self):\n",
        "    print(f\"Attacking with power of {self.power}\")\n",
        "\n",
        "wizard1 = Wizard(\"Merlin\", 60, \"merlin@gmail.com\")\n",
        "print(wizard1.email)"
      ],
      "execution_count": 0,
      "outputs": [
        {
          "output_type": "stream",
          "text": [
            "merlin@gmail.com\n"
          ],
          "name": "stdout"
        }
      ]
    },
    {
      "cell_type": "code",
      "metadata": {
        "id": "BA90gZ3f9gft",
        "colab_type": "code",
        "outputId": "e6f51ef1-ce61-466e-c5d4-fdb0929ece98",
        "colab": {
          "base_uri": "https://localhost:8080/",
          "height": 34
        }
      },
      "source": [
        "isinstance(wizard1, User)"
      ],
      "execution_count": 0,
      "outputs": [
        {
          "output_type": "execute_result",
          "data": {
            "text/plain": [
              "True"
            ]
          },
          "metadata": {
            "tags": []
          },
          "execution_count": 8
        }
      ]
    },
    {
      "cell_type": "markdown",
      "metadata": {
        "id": "qEHo5Gui-5MZ",
        "colab_type": "text"
      },
      "source": [
        "#Introspection"
      ]
    },
    {
      "cell_type": "markdown",
      "metadata": {
        "id": "4kd0GTgw-Zid",
        "colab_type": "text"
      },
      "source": [
        "Introspection is the idea of inspecting the type of an object at runtime \n",
        "(while running the code) \n",
        "\n",
        "Everytime we use `.`, we make use of introspection, as it shows us the available methods."
      ]
    },
    {
      "cell_type": "code",
      "metadata": {
        "id": "q9xwqNvT-yDS",
        "colab_type": "code",
        "outputId": "c68ff526-c21c-4014-d758-b2524da96700",
        "colab": {
          "base_uri": "https://localhost:8080/",
          "height": 54
        }
      },
      "source": [
        "# dir gives me all of the methods and attributes that wizard has\n",
        "\n",
        "print(dir(wizard1))"
      ],
      "execution_count": 0,
      "outputs": [
        {
          "output_type": "stream",
          "text": [
            "['__class__', '__delattr__', '__dict__', '__dir__', '__doc__', '__eq__', '__format__', '__ge__', '__getattribute__', '__gt__', '__hash__', '__init__', '__init_subclass__', '__le__', '__lt__', '__module__', '__ne__', '__new__', '__reduce__', '__reduce_ex__', '__repr__', '__setattr__', '__sizeof__', '__str__', '__subclasshook__', '__weakref__', 'attack', 'email', 'name', 'power', 'sign_in']\n"
          ],
          "name": "stdout"
        }
      ]
    },
    {
      "cell_type": "markdown",
      "metadata": {
        "id": "xGiMfNh__C2x",
        "colab_type": "text"
      },
      "source": [
        "We can see that we have a lot of access to **dunder methods** which are shown by the double underscore e.g. `__class__`"
      ]
    },
    {
      "cell_type": "markdown",
      "metadata": {
        "id": "2WU0wQvi_qyX",
        "colab_type": "text"
      },
      "source": [
        "\n",
        "# Dunder/ Magic methods\n",
        "\n",
        "Those are special methods that the basetype object has and that all other objects inherit.\n",
        "\n",
        "You can even do basic customization, which you can check out here:\n",
        "https://docs.python.org/3/reference/datamodel.html"
      ]
    },
    {
      "cell_type": "code",
      "metadata": {
        "id": "r31diR0k_0BM",
        "colab_type": "code",
        "outputId": "bd6b7542-ce9b-4e05-8129-18eb192cf978",
        "colab": {
          "base_uri": "https://localhost:8080/",
          "height": 50
        }
      },
      "source": [
        "class Toy():\n",
        "  def __init__(self, color, age):\n",
        "    self.color = color \n",
        "    self.age = age \n",
        "\n",
        "action_figure = Toy(\"red\",0)\n",
        "\n",
        "# These two, express the same idea and have the same output.\n",
        "print(action_figure.__str__())\n",
        "print(str(action_figure))"
      ],
      "execution_count": 0,
      "outputs": [
        {
          "output_type": "stream",
          "text": [
            "<__main__.Toy object at 0x7f66cf31beb8>\n",
            "<__main__.Toy object at 0x7f66cf31beb8>\n"
          ],
          "name": "stdout"
        }
      ]
    },
    {
      "cell_type": "markdown",
      "metadata": {
        "id": "ojDfIqEBAJyA",
        "colab_type": "text"
      },
      "source": [
        "Now let's see how modifying a dunder method works:\n",
        "- most of the time it is not recommendable to change up these methods\n",
        "- sometimes though, you'll want your classes to behave in a different way, that's when you'll want to edit those"
      ]
    },
    {
      "cell_type": "code",
      "metadata": {
        "id": "v1li7FUmBASB",
        "colab_type": "code",
        "outputId": "af14bd59-2f97-4e0c-8fea-0b34609e3485",
        "colab": {
          "base_uri": "https://localhost:8080/",
          "height": 134
        }
      },
      "source": [
        "class Toy():\n",
        "  def __init__(self, color, age):\n",
        "    self.color = color \n",
        "    self.age = age \n",
        "    self.my_dict = {\n",
        "        \"name\": \"Yoyo\",\n",
        "        \"has_pets\":False\n",
        "    }  \n",
        "  #Example 1\n",
        "  def __str__(self):\n",
        "    return f\"{self.color}\"\n",
        "\n",
        "  #Example 2\n",
        "  def __len__(self):\n",
        "    return 5\n",
        "\n",
        "  #Example 3\n",
        "  def __del__(self):\n",
        "    print(\"deleted!\")\n",
        "\n",
        "  #Example 4\n",
        "  def __call__(self):\n",
        "    return(\"yess?\")\n",
        "    \n",
        "  #Example 5\n",
        "  def __getitem__(self,i):\n",
        "    return self.my_dict[i]\n",
        "\n",
        "action_figure = Toy(\"red\",0)\n",
        "\n",
        "print(action_figure.__str__())\n",
        "print(str(action_figure))\n",
        "\n",
        "# Str doesnt change in general. Only, when called on action figure\n",
        "\n",
        "print(str(\"action_figure\"))\n",
        "print(len(action_figure))\n",
        "print(action_figure())\n",
        "print(action_figure[\"name\"])"
      ],
      "execution_count": 0,
      "outputs": [
        {
          "output_type": "stream",
          "text": [
            "deleted!\n",
            "red\n",
            "red\n",
            "action_figure\n",
            "5\n",
            "yess?\n",
            "Yoyo\n"
          ],
          "name": "stdout"
        }
      ]
    },
    {
      "cell_type": "markdown",
      "metadata": {
        "id": "x76wl5E2BJsY",
        "colab_type": "text"
      },
      "source": [
        "# Exercise\n",
        "- Create a class called \"Superlist\"\n",
        "- Give it all the attributes that a normal list has \n",
        "- Modify the `len()` function, to return 1000\n",
        "\n",
        "To doublecheck your results use the `issubclass(instance, class)`method"
      ]
    },
    {
      "cell_type": "code",
      "metadata": {
        "id": "sNsgyPg7CGo1",
        "colab_type": "code",
        "colab": {}
      },
      "source": [
        "class SuperList(list):\n",
        "  def __len__(self):\n",
        "    return 1000\n"
      ],
      "execution_count": 0,
      "outputs": []
    },
    {
      "cell_type": "code",
      "metadata": {
        "id": "caevqXNmFRXU",
        "colab_type": "code",
        "outputId": "4ce53d61-2d15-4c49-c447-04ae4ab53c36",
        "colab": {
          "base_uri": "https://localhost:8080/",
          "height": 84
        }
      },
      "source": [
        "super1 = SuperList([1,2,3,4,5])\n",
        "\n",
        "super1.append(6)\n",
        "print(super1)\n",
        "print(super1[0])\n",
        "\n",
        "print(issubclass(SuperList,list))\n",
        "print(issubclass(list,object))"
      ],
      "execution_count": 0,
      "outputs": [
        {
          "output_type": "stream",
          "text": [
            "[1, 2, 3, 4, 5, 6]\n",
            "1\n",
            "True\n",
            "True\n"
          ],
          "name": "stdout"
        }
      ]
    },
    {
      "cell_type": "markdown",
      "metadata": {
        "id": "xJ3Mmuj-FXaB",
        "colab_type": "text"
      },
      "source": [
        "#Multiple Inherritance\n",
        "\n"
      ]
    },
    {
      "cell_type": "code",
      "metadata": {
        "id": "cjmkHEenHq0Q",
        "colab_type": "code",
        "outputId": "3096d5ea-1b2d-41f3-e326-06d20c8029af",
        "colab": {
          "base_uri": "https://localhost:8080/",
          "height": 346
        }
      },
      "source": [
        "class User():\n",
        "  def sign_in(self):\n",
        "    print(\"logged in\")\n",
        "\n",
        "class Wizard(User):\n",
        "  def __init__(self,name, power):\n",
        "    self.name = name\n",
        "    self.power = power\n",
        "\n",
        "  def attack(self):\n",
        "    print(f\"Attacking with power of {self.power}\")\n",
        "\n",
        "class Archer(User):\n",
        "  def __init__(self,name,arrows):\n",
        "    self.name = name\n",
        "    self.arrows = arrows\n",
        "\n",
        "  def check_arrows(self):\n",
        "    print(f\"{self.arrows} remaining\")\n",
        "\n",
        "  def run(self):\n",
        "    print(\"ran really fast\")\n",
        "\n",
        "class HybridBorg(Wizard, Archer):\n",
        "  pass\n",
        "\n",
        "hb1 = HybridBorg(\"Borgie\", 50)\n",
        "print(hb1.run())\n",
        "\n",
        "# Check arrows would give us an error. Why? \n",
        "# Because we inherited from Wizard first\n",
        "# And wizard has no arrows\n",
        "\n",
        "print(hb1.check_arrows())"
      ],
      "execution_count": 0,
      "outputs": [
        {
          "output_type": "stream",
          "text": [
            "ran really fast\n",
            "None\n"
          ],
          "name": "stdout"
        },
        {
          "output_type": "error",
          "ename": "AttributeError",
          "evalue": "ignored",
          "traceback": [
            "\u001b[0;31m---------------------------------------------------------------------------\u001b[0m",
            "\u001b[0;31mAttributeError\u001b[0m                            Traceback (most recent call last)",
            "\u001b[0;32m<ipython-input-67-1bd21cb5f64a>\u001b[0m in \u001b[0;36m<module>\u001b[0;34m()\u001b[0m\n\u001b[1;32m     32\u001b[0m \u001b[0;31m# And wizard has no arrows\u001b[0m\u001b[0;34m\u001b[0m\u001b[0;34m\u001b[0m\u001b[0;34m\u001b[0m\u001b[0m\n\u001b[1;32m     33\u001b[0m \u001b[0;34m\u001b[0m\u001b[0m\n\u001b[0;32m---> 34\u001b[0;31m \u001b[0mprint\u001b[0m\u001b[0;34m(\u001b[0m\u001b[0mhb1\u001b[0m\u001b[0;34m.\u001b[0m\u001b[0mcheck_arrows\u001b[0m\u001b[0;34m(\u001b[0m\u001b[0;34m)\u001b[0m\u001b[0;34m)\u001b[0m\u001b[0;34m\u001b[0m\u001b[0;34m\u001b[0m\u001b[0m\n\u001b[0m",
            "\u001b[0;32m<ipython-input-67-1bd21cb5f64a>\u001b[0m in \u001b[0;36mcheck_arrows\u001b[0;34m(self)\u001b[0m\n\u001b[1;32m     17\u001b[0m \u001b[0;34m\u001b[0m\u001b[0m\n\u001b[1;32m     18\u001b[0m   \u001b[0;32mdef\u001b[0m \u001b[0mcheck_arrows\u001b[0m\u001b[0;34m(\u001b[0m\u001b[0mself\u001b[0m\u001b[0;34m)\u001b[0m\u001b[0;34m:\u001b[0m\u001b[0;34m\u001b[0m\u001b[0;34m\u001b[0m\u001b[0m\n\u001b[0;32m---> 19\u001b[0;31m     \u001b[0mprint\u001b[0m\u001b[0;34m(\u001b[0m\u001b[0;34mf\"{self.arrows} remaining\"\u001b[0m\u001b[0;34m)\u001b[0m\u001b[0;34m\u001b[0m\u001b[0;34m\u001b[0m\u001b[0m\n\u001b[0m\u001b[1;32m     20\u001b[0m \u001b[0;34m\u001b[0m\u001b[0m\n\u001b[1;32m     21\u001b[0m   \u001b[0;32mdef\u001b[0m \u001b[0mrun\u001b[0m\u001b[0;34m(\u001b[0m\u001b[0mself\u001b[0m\u001b[0;34m)\u001b[0m\u001b[0;34m:\u001b[0m\u001b[0;34m\u001b[0m\u001b[0;34m\u001b[0m\u001b[0m\n",
            "\u001b[0;31mAttributeError\u001b[0m: 'HybridBorg' object has no attribute 'arrows'"
          ]
        }
      ]
    },
    {
      "cell_type": "markdown",
      "metadata": {
        "id": "74hWc_iAIOGo",
        "colab_type": "text"
      },
      "source": [
        "Multiple inheritance is usually quite tricky and sometimes not even permitted in certain programming languages.\n",
        "\n",
        "The crux is, that you have to make sure that you know how each class that you inherit from is implemented.\n",
        "\n",
        "We can complicate our code a little, to olve the error from above"
      ]
    },
    {
      "cell_type": "code",
      "metadata": {
        "id": "MsVbw1YdJkWv",
        "colab_type": "code",
        "outputId": "90354a11-2085-495a-cf2e-2a7c77df4ff6",
        "colab": {
          "base_uri": "https://localhost:8080/",
          "height": 118
        }
      },
      "source": [
        "class HybridBorg(Wizard, Archer):\n",
        "  def __init__(self,name,power,arrows):\n",
        "    Archer.__init__(self,name,arrows)\n",
        "    Wizard.__init__(self,name,power)\n",
        "\n",
        "hb1=HybridBorg(\"Borgie\",50,100)\n",
        "print(hb1.check_arrows())\n",
        "print(hb1.attack())\n",
        "print(hb1.sign_in())"
      ],
      "execution_count": 0,
      "outputs": [
        {
          "output_type": "stream",
          "text": [
            "100 remaining\n",
            "None\n",
            "Attacking with power of 50\n",
            "None\n",
            "logged in\n",
            "None\n"
          ],
          "name": "stdout"
        }
      ]
    },
    {
      "cell_type": "markdown",
      "metadata": {
        "id": "wwfdPzygKlK5",
        "colab_type": "text"
      },
      "source": [
        "#MRO - Method Redolution Order\n",
        "\n",
        "MRO is a rule which python follows to determine which methods to run in which order of execution"
      ]
    },
    {
      "cell_type": "code",
      "metadata": {
        "id": "MpNs-fVHJzvY",
        "colab_type": "code",
        "outputId": "959661d9-5a5f-488d-e896-2ea86976cb72",
        "colab": {
          "base_uri": "https://localhost:8080/",
          "height": 70
        }
      },
      "source": [
        "class A:\n",
        "  num = 10\n",
        "\n",
        "class B(A):\n",
        "  pass\n",
        "\n",
        "class C(A):\n",
        "  num =1\n",
        "\n",
        "class D(B,C):\n",
        "  pass\n",
        "\n",
        "print(D.num)\n",
        "print(D.mro())"
      ],
      "execution_count": 0,
      "outputs": [
        {
          "output_type": "stream",
          "text": [
            "1\n",
            "[<class '__main__.D'>, <class '__main__.B'>, <class '__main__.C'>, <class '__main__.A'>, <class 'object'>]\n"
          ],
          "name": "stdout"
        }
      ]
    },
    {
      "cell_type": "markdown",
      "metadata": {
        "id": "hLrwxKZYLIiE",
        "colab_type": "text"
      },
      "source": [
        "If we `pass` through all classes and try to find `num`, we will get an error, because it is not defined anywhere. \n",
        "\n",
        "If instead, we try to find  `__str__`, we will not get an arror, because our class \"object\" has this attribute/ method"
      ]
    },
    {
      "cell_type": "code",
      "metadata": {
        "id": "Hc_amyfiL9DJ",
        "colab_type": "code",
        "outputId": "28bb1445-1237-4edc-de38-e48c2781c101",
        "colab": {
          "base_uri": "https://localhost:8080/",
          "height": 195
        }
      },
      "source": [
        "class A:\n",
        "  pass\n",
        "class B(A):\n",
        "  pass\n",
        "class C(A):\n",
        "  pass\n",
        "class D(B,C):\n",
        "  pass\n",
        "\n",
        "print(D.num) "
      ],
      "execution_count": 0,
      "outputs": [
        {
          "output_type": "error",
          "ename": "AttributeError",
          "evalue": "ignored",
          "traceback": [
            "\u001b[0;31m---------------------------------------------------------------------------\u001b[0m",
            "\u001b[0;31mAttributeError\u001b[0m                            Traceback (most recent call last)",
            "\u001b[0;32m<ipython-input-71-389541df0560>\u001b[0m in \u001b[0;36m<module>\u001b[0;34m()\u001b[0m\n\u001b[1;32m      8\u001b[0m   \u001b[0;32mpass\u001b[0m\u001b[0;34m\u001b[0m\u001b[0;34m\u001b[0m\u001b[0m\n\u001b[1;32m      9\u001b[0m \u001b[0;34m\u001b[0m\u001b[0m\n\u001b[0;32m---> 10\u001b[0;31m \u001b[0mprint\u001b[0m\u001b[0;34m(\u001b[0m\u001b[0mD\u001b[0m\u001b[0;34m.\u001b[0m\u001b[0mnum\u001b[0m\u001b[0;34m)\u001b[0m\u001b[0;34m\u001b[0m\u001b[0;34m\u001b[0m\u001b[0m\n\u001b[0m",
            "\u001b[0;31mAttributeError\u001b[0m: type object 'D' has no attribute 'num'"
          ]
        }
      ]
    },
    {
      "cell_type": "code",
      "metadata": {
        "id": "sdR2egCrMEAv",
        "colab_type": "code",
        "outputId": "72ef9ef1-4120-4b82-a74f-431674453a71",
        "colab": {
          "base_uri": "https://localhost:8080/",
          "height": 34
        }
      },
      "source": [
        "print(D.__str__)"
      ],
      "execution_count": 0,
      "outputs": [
        {
          "output_type": "stream",
          "text": [
            "<slot wrapper '__str__' of 'object' objects>\n"
          ],
          "name": "stdout"
        }
      ]
    },
    {
      "cell_type": "markdown",
      "metadata": {
        "id": "WoXOB_-JMGPK",
        "colab_type": "text"
      },
      "source": [
        "Let's look at onother example of why we should avoid making our inherritance structures too complicated. "
      ]
    },
    {
      "cell_type": "code",
      "metadata": {
        "id": "ZpxPlHzWMdf2",
        "colab_type": "code",
        "outputId": "6c70fe57-b203-4977-cb05-0063aafb7ee1",
        "colab": {
          "base_uri": "https://localhost:8080/",
          "height": 134
        }
      },
      "source": [
        "class X:pass\n",
        "class Y:pass\n",
        "class Z:pass\n",
        "class A(X,Y):pass\n",
        "class B(Y,Z):pass\n",
        "class M(B,A,Z):pass\n",
        "\n",
        "# Now, whats the MRO? \n",
        "\n",
        "M.__mro__\n",
        "\n",
        "# Is this the result you expected? Probably not. Why?\n",
        "# MRO uses an algorithm that's called \"Depth First Search\""
      ],
      "execution_count": 0,
      "outputs": [
        {
          "output_type": "execute_result",
          "data": {
            "text/plain": [
              "(__main__.M,\n",
              " __main__.B,\n",
              " __main__.A,\n",
              " __main__.X,\n",
              " __main__.Y,\n",
              " __main__.Z,\n",
              " object)"
            ]
          },
          "metadata": {
            "tags": []
          },
          "execution_count": 75
        }
      ]
    },
    {
      "cell_type": "markdown",
      "metadata": {
        "id": "fx0i4-A0MsSf",
        "colab_type": "text"
      },
      "source": [
        "Main Take away:\n",
        "\n",
        "Don't write code with a complex inheritance structure as this, because nobody will understand it!"
      ]
    },
    {
      "cell_type": "code",
      "metadata": {
        "id": "sBahi6YGNbcS",
        "colab_type": "code",
        "colab": {}
      },
      "source": [
        ""
      ],
      "execution_count": 0,
      "outputs": []
    }
  ]
}
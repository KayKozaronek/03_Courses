{
  "nbformat": 4,
  "nbformat_minor": 0,
  "metadata": {
    "colab": {
      "name": "OOP_Pets Everywhere_Exercise.ipynb",
      "provenance": [],
      "authorship_tag": "ABX9TyMlz3w9lah25dp9otb9eqfr",
      "include_colab_link": true
    },
    "kernelspec": {
      "name": "python3",
      "display_name": "Python 3"
    }
  },
  "cells": [
    {
      "cell_type": "markdown",
      "metadata": {
        "id": "view-in-github",
        "colab_type": "text"
      },
      "source": [
        "<a href=\"https://colab.research.google.com/github/KayKozaronek/03_Courses/blob/master/OOP_Pets_Everywhere_Exercise.ipynb\" target=\"_parent\"><img src=\"https://colab.research.google.com/assets/colab-badge.svg\" alt=\"Open In Colab\"/></a>"
      ]
    },
    {
      "cell_type": "markdown",
      "metadata": {
        "id": "ZDDA_XuDBZAd",
        "colab_type": "text"
      },
      "source": [
        "This is an exercise to try and implement the knowledge gained about OOP and its 4 Pillars:\n",
        "1. Encapsulation\n",
        "2. Abstraction\n",
        "3. Inheritance\n",
        "4. Polymorphism\n",
        "\n"
      ]
    },
    {
      "cell_type": "code",
      "metadata": {
        "id": "wuxJFRPBBOP_",
        "colab_type": "code",
        "colab": {}
      },
      "source": [
        "class Pets():\n",
        "    animals = []\n",
        "    def __init__(self, animals):\n",
        "        self.animals = animals\n",
        "\n",
        "    def walk(self):\n",
        "        for animal in self.animals:\n",
        "            print(animal.walk())\n",
        "\n",
        "class Cat():\n",
        "    is_lazy = True\n",
        "\n",
        "    def __init__(self, name, age):\n",
        "        self.name = name\n",
        "        self.age = age\n",
        "\n",
        "    def walk(self):\n",
        "        return f'{self.name} is just walking around'\n",
        "\n",
        "class Simon(Cat):\n",
        "    def sing(self, sounds):\n",
        "        return f'{sounds}'\n",
        "\n",
        "class Sally(Cat):\n",
        "    def sing(self, sounds):\n",
        "        return f'{sounds}'"
      ],
      "execution_count": 0,
      "outputs": []
    },
    {
      "cell_type": "code",
      "metadata": {
        "id": "0g-a89vABqzl",
        "colab_type": "code",
        "colab": {}
      },
      "source": [
        "#1 Add nother Cat\n",
        "class Gary(Cat):\n",
        "  def sing(self,sounds):\n",
        "    return f\"{sounds}\""
      ],
      "execution_count": 0,
      "outputs": []
    },
    {
      "cell_type": "code",
      "metadata": {
        "id": "WJwCx67SBtH6",
        "colab_type": "code",
        "colab": {}
      },
      "source": [
        "#2 Create a list of all of the pets (create 3 cat instances from the above)\n",
        "my_cats = [Gary(\"Gary\", 22),\n",
        "           Sally(\"Sally\", 3),\n",
        "           Simon(\"Simon\",7)]"
      ],
      "execution_count": 0,
      "outputs": []
    },
    {
      "cell_type": "code",
      "metadata": {
        "id": "6p-vWhFZBtZ-",
        "colab_type": "code",
        "colab": {
          "base_uri": "https://localhost:8080/",
          "height": 35
        },
        "outputId": "25e422fb-7edc-4f1f-d9bd-3fd25a472dde"
      },
      "source": [
        "#3 Instantiate the Pet class with all your cats use variable my_pets\n",
        "pet = Pets(my_cats)\n",
        "print(pet)"
      ],
      "execution_count": 35,
      "outputs": [
        {
          "output_type": "stream",
          "text": [
            "<__main__.Pets object at 0x7f7f43dd92b0>\n"
          ],
          "name": "stdout"
        }
      ]
    },
    {
      "cell_type": "code",
      "metadata": {
        "id": "6sB9NyTMBtr2",
        "colab_type": "code",
        "colab": {
          "base_uri": "https://localhost:8080/",
          "height": 88
        },
        "outputId": "8b9c12fd-1ab9-4583-c5e9-770e184bf46c"
      },
      "source": [
        "#4 Output all of the cats walking using the my_pets instance\n",
        "print(pet.walk())"
      ],
      "execution_count": 36,
      "outputs": [
        {
          "output_type": "stream",
          "text": [
            "Gary is just walking around\n",
            "Sally is just walking around\n",
            "Simon is just walking around\n",
            "None\n"
          ],
          "name": "stdout"
        }
      ]
    },
    {
      "cell_type": "code",
      "metadata": {
        "id": "i5DIqKg3D6C9",
        "colab_type": "code",
        "colab": {}
      },
      "source": [
        ""
      ],
      "execution_count": 0,
      "outputs": []
    }
  ]
}
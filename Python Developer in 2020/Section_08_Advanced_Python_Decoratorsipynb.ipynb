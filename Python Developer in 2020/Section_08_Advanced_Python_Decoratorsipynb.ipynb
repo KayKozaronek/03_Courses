{
  "nbformat": 4,
  "nbformat_minor": 0,
  "metadata": {
    "colab": {
      "name": "Section8: Advanced Python: Decoratorsipynb",
      "provenance": [],
      "authorship_tag": "ABX9TyOkCRLbuVofKbmOYnkJhawF",
      "include_colab_link": true
    },
    "kernelspec": {
      "name": "python3",
      "display_name": "Python 3"
    }
  },
  "cells": [
    {
      "cell_type": "markdown",
      "metadata": {
        "id": "view-in-github",
        "colab_type": "text"
      },
      "source": [
        "<a href=\"https://colab.research.google.com/github/KayKozaronek/03_Courses/blob/master/Section8_Advanced_Python_Decoratorsipynb.ipynb\" target=\"_parent\"><img src=\"https://colab.research.google.com/assets/colab-badge.svg\" alt=\"Open In Colab\"/></a>"
      ]
    },
    {
      "cell_type": "markdown",
      "metadata": {
        "id": "7VpOvmMymkP6",
        "colab_type": "text"
      },
      "source": [
        "#Decorators\n",
        "\n",
        "Decorators look like this @name\n",
        "\n",
        "We already saw the following decorators\n",
        "- `@classmethod`\n",
        "- `@staticmethod`\n",
        "\n",
        "In Python funcitons are first class citizens which means that they are treated like variables. \n",
        "\n",
        "Look at how we can assign a funciton to a variable\n"
      ]
    },
    {
      "cell_type": "code",
      "metadata": {
        "id": "JmKZTBRPmHAz",
        "colab_type": "code",
        "colab": {
          "base_uri": "https://localhost:8080/",
          "height": 84
        },
        "outputId": "5a162894-fc2a-400d-bdd1-2f2834929d57"
      },
      "source": [
        "def hello():\n",
        "  print(\"hello\")\n",
        "\n",
        "greet = hello()\n",
        "greet2 = hello\n",
        "print(greet)\n",
        "print(greet2())"
      ],
      "execution_count": 3,
      "outputs": [
        {
          "output_type": "stream",
          "text": [
            "hello\n",
            "None\n",
            "hello\n",
            "None\n"
          ],
          "name": "stdout"
        }
      ]
    },
    {
      "cell_type": "markdown",
      "metadata": {
        "id": "vY59tK67m_fO",
        "colab_type": "text"
      },
      "source": [
        "Decorators are only possible because of the above demonstrated features\n",
        "\n",
        "Underneath the hood they use the power of functions. \n",
        "\n",
        "Decorators let us add additional functionality to our funcitons"
      ]
    },
    {
      "cell_type": "markdown",
      "metadata": {
        "id": "CvcF2WJznfFG",
        "colab_type": "text"
      },
      "source": [
        "##  Higher Order Function (HOC)\n",
        "\n",
        "- either it is a function that accepts another function\n",
        "- or it is a function that returns another function\n",
        "- e.g. `map()`, `filter()` and `reduce()` are HOCs"
      ]
    },
    {
      "cell_type": "code",
      "metadata": {
        "id": "aCIe_WVXn6Uk",
        "colab_type": "code",
        "colab": {}
      },
      "source": [
        "def greet(func): \n",
        "  func()\n",
        "\n",
        "def greet2():\n",
        "  def func():\n",
        "    return 5\n",
        "  return func"
      ],
      "execution_count": 0,
      "outputs": []
    },
    {
      "cell_type": "markdown",
      "metadata": {
        "id": "cdk97nE2oY-I",
        "colab_type": "text"
      },
      "source": [
        "## Let's write our own Decorator\n",
        "- Remember a decorator is simply a function that wwraps another function and enhances/ changes it"
      ]
    },
    {
      "cell_type": "code",
      "metadata": {
        "id": "W01vH_0noeCi",
        "colab_type": "code",
        "colab": {}
      },
      "source": [
        "def hello():\n",
        "  print(\"hello\")\n",
        "\n",
        "# This is basic syntax for a decorator\n",
        "def my_decorator(func):\n",
        "  def wrap_func():\n",
        "    print(\"******\")\n",
        "    func()\n",
        "    print(\"******\")\n",
        "  return wrap_func"
      ],
      "execution_count": 0,
      "outputs": []
    },
    {
      "cell_type": "markdown",
      "metadata": {
        "id": "9xWrmu15pQNT",
        "colab_type": "text"
      },
      "source": [
        "We can now add extra functionality to our hello function with the decorator"
      ]
    },
    {
      "cell_type": "code",
      "metadata": {
        "id": "6aMosX1QpN7G",
        "colab_type": "code",
        "colab": {
          "base_uri": "https://localhost:8080/",
          "height": 84
        },
        "outputId": "13883747-7088-4445-8658-34a3a8f64b3d"
      },
      "source": [
        "@my_decorator\n",
        "def hello():\n",
        "  print(\"hello\")\n",
        "def bye():\n",
        "  print(\"see ya later\")\n",
        "\n",
        "hello()\n",
        "bye()"
      ],
      "execution_count": 11,
      "outputs": [
        {
          "output_type": "stream",
          "text": [
            "******\n",
            "hello\n",
            "******\n",
            "see ya later\n"
          ],
          "name": "stdout"
        }
      ]
    },
    {
      "cell_type": "markdown",
      "metadata": {
        "id": "8JsxWPpDpgH9",
        "colab_type": "text"
      },
      "source": [
        "Notice how nothing changed for our `bye()`function. \n",
        "If we want it to have the same functionality we have to add the decorator on top"
      ]
    },
    {
      "cell_type": "code",
      "metadata": {
        "id": "6ea6lZ7HpyzG",
        "colab_type": "code",
        "colab": {
          "base_uri": "https://localhost:8080/",
          "height": 118
        },
        "outputId": "9d49dcdc-03ba-4e1c-b9e0-0707407cd379"
      },
      "source": [
        "@my_decorator\n",
        "def hello():\n",
        "  print(\"hello\")\n",
        "\n",
        "@my_decorator\n",
        "def bye():\n",
        "  print(\"see ya later\")\n",
        "\n",
        "hello()\n",
        "bye()"
      ],
      "execution_count": 12,
      "outputs": [
        {
          "output_type": "stream",
          "text": [
            "******\n",
            "hello\n",
            "******\n",
            "******\n",
            "see ya later\n",
            "******\n"
          ],
          "name": "stdout"
        }
      ]
    },
    {
      "cell_type": "markdown",
      "metadata": {
        "id": "cCZQno7mp14o",
        "colab_type": "text"
      },
      "source": [
        "## How does it work?\n",
        "Here's what happens underneath the hood \n"
      ]
    },
    {
      "cell_type": "code",
      "metadata": {
        "id": "nR3rGj5pqIiC",
        "colab_type": "code",
        "colab": {
          "base_uri": "https://localhost:8080/",
          "height": 286
        },
        "outputId": "e9760af9-2698-437e-f00d-8d31131c6dd6"
      },
      "source": [
        "hello2 = my_decorator(hello)\n",
        "bye2 = my_decorator(bye)\n",
        "\n",
        "hello()\n",
        "bye()\n",
        "\n",
        "my_decorator(hello)()\n",
        "my_decorator(bye)()"
      ],
      "execution_count": 16,
      "outputs": [
        {
          "output_type": "stream",
          "text": [
            "******\n",
            "hello\n",
            "******\n",
            "******\n",
            "see ya later\n",
            "******\n",
            "******\n",
            "******\n",
            "hello\n",
            "******\n",
            "******\n",
            "******\n",
            "******\n",
            "see ya later\n",
            "******\n",
            "******\n"
          ],
          "name": "stdout"
        }
      ]
    },
    {
      "cell_type": "markdown",
      "metadata": {
        "id": "nTcJ9rB4qQjj",
        "colab_type": "text"
      },
      "source": [
        "## The Decorator Pattern"
      ]
    },
    {
      "cell_type": "code",
      "metadata": {
        "id": "jcsNUqX4qsAN",
        "colab_type": "code",
        "colab": {
          "base_uri": "https://localhost:8080/",
          "height": 34
        },
        "outputId": "d06de7bb-27b3-4de8-a681-de92d3ecbb73"
      },
      "source": [
        "#This is a decorator pattern \n",
        "\n",
        "#-----------------------------# \n",
        "def my_decorator2(func):\n",
        "  def wrap_func(*args, **kwargs):\n",
        "    func(*args, **kwargs)\n",
        "  return func\n",
        "#-----------------------------# \n",
        "\n",
        "\n",
        "@my_decorator2\n",
        "def hello(greeting, emoji = \":(\"):\n",
        "  print(greeting, emoji)\n",
        "\n",
        "hello(\"HI\")"
      ],
      "execution_count": 38,
      "outputs": [
        {
          "output_type": "stream",
          "text": [
            "HI :(\n"
          ],
          "name": "stdout"
        }
      ]
    },
    {
      "cell_type": "markdown",
      "metadata": {
        "id": "FDwEA55lvcJl",
        "colab_type": "text"
      },
      "source": [
        " ## Why do we need Decorators?\n",
        "\n",
        "We'll show how useful they can be by creating our own decorator `@performance` which will tell us how fast our code runs "
      ]
    },
    {
      "cell_type": "code",
      "metadata": {
        "id": "6-4OJ6R0xjkP",
        "colab_type": "code",
        "colab": {
          "base_uri": "https://localhost:8080/",
          "height": 34
        },
        "outputId": "21b70549-c1a6-4946-c90c-727d61cdb368"
      },
      "source": [
        "from time import time \n",
        "def performance(fn):\n",
        "  def wrapper(*args, **kwargs):\n",
        "    t1 = time()\n",
        "    result = fn(*args, **kwargs)\n",
        "    t2 = time()\n",
        "    print(f\"It took {t2-t1} s\")\n",
        "    return result\n",
        "  return wrapper\n",
        "\n",
        "@performance\n",
        "def long_time():\n",
        "  for i in range (100000000):\n",
        "    i*5\n",
        "\n",
        "long_time()"
      ],
      "execution_count": 45,
      "outputs": [
        {
          "output_type": "stream",
          "text": [
            "It took 5.053730010986328 s\n"
          ],
          "name": "stdout"
        }
      ]
    },
    {
      "cell_type": "markdown",
      "metadata": {
        "id": "wa-cbxoCym-p",
        "colab_type": "text"
      },
      "source": [
        "## Exercise: @authenticated\n",
        "\n",
        "Create an @authenticated decorator that only allows the function to run if user1 has 'valid' set to True:\n"
      ]
    },
    {
      "cell_type": "code",
      "metadata": {
        "id": "juJu-NgTzVWd",
        "colab_type": "code",
        "colab": {
          "base_uri": "https://localhost:8080/",
          "height": 195
        },
        "outputId": "94784e1a-218c-4dff-ba4f-b99d90e71e8c"
      },
      "source": [
        "user1 = {\n",
        "    'name': 'Sorna',\n",
        "    'valid': True \n",
        "}\n",
        "\n",
        "def authenticated(fn):\n",
        "  # code here\n",
        "  pass\n",
        "\n",
        "@authenticated\n",
        "def message_friends(user):\n",
        "    print('message has been sent')\n",
        "\n",
        "message_friends(user1)"
      ],
      "execution_count": 56,
      "outputs": [
        {
          "output_type": "error",
          "ename": "TypeError",
          "evalue": "ignored",
          "traceback": [
            "\u001b[0;31m---------------------------------------------------------------------------\u001b[0m",
            "\u001b[0;31mTypeError\u001b[0m                                 Traceback (most recent call last)",
            "\u001b[0;32m<ipython-input-56-5890607cdf08>\u001b[0m in \u001b[0;36m<module>\u001b[0;34m()\u001b[0m\n\u001b[1;32m     12\u001b[0m     \u001b[0mprint\u001b[0m\u001b[0;34m(\u001b[0m\u001b[0;34m'message has been sent'\u001b[0m\u001b[0;34m)\u001b[0m\u001b[0;34m\u001b[0m\u001b[0;34m\u001b[0m\u001b[0m\n\u001b[1;32m     13\u001b[0m \u001b[0;34m\u001b[0m\u001b[0m\n\u001b[0;32m---> 14\u001b[0;31m \u001b[0mmessage_friends\u001b[0m\u001b[0;34m(\u001b[0m\u001b[0muser1\u001b[0m\u001b[0;34m)\u001b[0m\u001b[0;34m\u001b[0m\u001b[0;34m\u001b[0m\u001b[0m\n\u001b[0m",
            "\u001b[0;31mTypeError\u001b[0m: 'NoneType' object is not callable"
          ]
        }
      ]
    },
    {
      "cell_type": "code",
      "metadata": {
        "id": "rveclpFd06E5",
        "colab_type": "code",
        "colab": {
          "base_uri": "https://localhost:8080/",
          "height": 34
        },
        "outputId": "d4739f7f-6e26-4664-d457-d5a5f1c55247"
      },
      "source": [
        "# Solution \n",
        "\n",
        "user1 = {\n",
        "    'name': 'Sorna',\n",
        "    'valid': True #changing this will either run or not run the message_friends function.\n",
        "}\n",
        "\n",
        "def authenticated(fn):\n",
        "  # code here\n",
        "  def wrapper(*args, **kwargs):\n",
        "    if args[0][\"valid\"] == True:\n",
        "      return fn(*args, **kwargs)\n",
        "  return wrapper\n",
        "\n",
        "@authenticated\n",
        "def message_friends(user):\n",
        "    print('message has been sent')\n",
        "\n",
        "message_friends(user1)"
      ],
      "execution_count": 49,
      "outputs": [
        {
          "output_type": "execute_result",
          "data": {
            "text/plain": [
              "'Sorna'"
            ]
          },
          "metadata": {
            "tags": []
          },
          "execution_count": 49
        }
      ]
    },
    {
      "cell_type": "code",
      "metadata": {
        "id": "1hNhGEKa1IIc",
        "colab_type": "code",
        "colab": {}
      },
      "source": [
        ""
      ],
      "execution_count": 0,
      "outputs": []
    }
  ]
}

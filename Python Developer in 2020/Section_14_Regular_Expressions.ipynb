{
  "nbformat": 4,
  "nbformat_minor": 0,
  "metadata": {
    "colab": {
      "name": "Section 14: Regular Expressions.ipynb",
      "provenance": [],
      "authorship_tag": "ABX9TyPe7p+hb7mR7pqANuqkhXbF",
      "include_colab_link": true
    },
    "kernelspec": {
      "name": "python3",
      "display_name": "Python 3"
    }
  },
  "cells": [
    {
      "cell_type": "markdown",
      "metadata": {
        "id": "view-in-github",
        "colab_type": "text"
      },
      "source": [
        "<a href=\"https://colab.research.google.com/github/KayKozaronek/03_Courses/blob/master/Section_14_Regular_Expressions.ipynb\" target=\"_parent\"><img src=\"https://colab.research.google.com/assets/colab-badge.svg\" alt=\"Open In Colab\"/></a>"
      ]
    },
    {
      "cell_type": "markdown",
      "metadata": {
        "id": "xtCqlPNJquqT",
        "colab_type": "text"
      },
      "source": [
        "#Section 14: Regular Expressions\n",
        "\n",
        "RegEx do not only exist in Python, they are to be foudn all over other programming languages aswell.\n",
        "\n",
        "They are quite useful in finding say a given string in a text or \n",
        "\n",
        "validating the correctness of an input\n",
        " e.g. email entry for singing into a website.\n",
        "\n",
        " Python comes with a RegEx module called `re`"
      ]
    },
    {
      "cell_type": "code",
      "metadata": {
        "id": "9S2QdWhKrjhT",
        "colab_type": "code",
        "colab": {
          "base_uri": "https://localhost:8080/",
          "height": 35
        },
        "outputId": "ff55beb8-a0a1-49fd-8a62-60306055213e"
      },
      "source": [
        "import re \n",
        "\n",
        "string = \"search inside of this text please!\"\n",
        "\n",
        "print(\"search\" in string)"
      ],
      "execution_count": 1,
      "outputs": [
        {
          "output_type": "stream",
          "text": [
            "True\n"
          ],
          "name": "stdout"
        }
      ]
    },
    {
      "cell_type": "markdown",
      "metadata": {
        "id": "Fu0ZqxSErz3g",
        "colab_type": "text"
      },
      "source": [
        "The above is a simple way of finding something in a string.\n",
        "\n",
        "Now the question remains, why do we need RegEx if it is so simple to check whether there is a substring in a string?\n",
        "\n",
        "RegEx are a little bit more powerful, let me demonstrate\n",
        "\n",
        "Let's look at `re.search(pattern, string, flags)`"
      ]
    },
    {
      "cell_type": "code",
      "metadata": {
        "id": "e5_1ejFjsAeQ",
        "colab_type": "code",
        "colab": {
          "base_uri": "https://localhost:8080/",
          "height": 35
        },
        "outputId": "223a1371-88f9-42bf-fd68-2bd9fa56ad42"
      },
      "source": [
        "print(re.search(\"this\", string))"
      ],
      "execution_count": 4,
      "outputs": [
        {
          "output_type": "stream",
          "text": [
            "<_sre.SRE_Match object; span=(17, 21), match='this'>\n"
          ],
          "name": "stdout"
        }
      ]
    },
    {
      "cell_type": "markdown",
      "metadata": {
        "id": "QlYeF2imsU_d",
        "colab_type": "text"
      },
      "source": [
        "A regular expression not only gives us an output like True or Flase, but an entire object which gives us more information about our inquiry. \n",
        "\n",
        "- span (Shows us the index of where \"this\" occurs \n",
        "- match\n",
        "- start\n",
        "- group \n",
        "- end"
      ]
    },
    {
      "cell_type": "code",
      "metadata": {
        "id": "CNS7d8pOsom3",
        "colab_type": "code",
        "colab": {
          "base_uri": "https://localhost:8080/",
          "height": 88
        },
        "outputId": "b1fb1502-f29f-4fab-92b9-85aeb259181d"
      },
      "source": [
        "a = re.search(\"this\", string)\n",
        "\n",
        "print(a.span())\n",
        "print(a.start())\n",
        "print(a.group())\n",
        "print(a.end())"
      ],
      "execution_count": 8,
      "outputs": [
        {
          "output_type": "stream",
          "text": [
            "(17, 21)\n",
            "17\n",
            "this\n",
            "21\n"
          ],
          "name": "stdout"
        }
      ]
    },
    {
      "cell_type": "markdown",
      "metadata": {
        "id": "V8yKYh5tsscE",
        "colab_type": "text"
      },
      "source": [
        "What happens if we search for an object that doesn't exist? \n",
        "\n",
        "re.search either gives us a match object, or a none"
      ]
    },
    {
      "cell_type": "code",
      "metadata": {
        "id": "TZhio7YetXDH",
        "colab_type": "code",
        "colab": {
          "base_uri": "https://localhost:8080/",
          "height": 186
        },
        "outputId": "f616329b-931b-4582-a0a4-8b064c398156"
      },
      "source": [
        "b = re.search(\"ThIs\", string)\n",
        "print(b.group())"
      ],
      "execution_count": 9,
      "outputs": [
        {
          "output_type": "error",
          "ename": "AttributeError",
          "evalue": "ignored",
          "traceback": [
            "\u001b[0;31m---------------------------------------------------------------------------\u001b[0m",
            "\u001b[0;31mAttributeError\u001b[0m                            Traceback (most recent call last)",
            "\u001b[0;32m<ipython-input-9-3e26f693b81b>\u001b[0m in \u001b[0;36m<module>\u001b[0;34m()\u001b[0m\n\u001b[1;32m      1\u001b[0m \u001b[0mb\u001b[0m \u001b[0;34m=\u001b[0m \u001b[0mre\u001b[0m\u001b[0;34m.\u001b[0m\u001b[0msearch\u001b[0m\u001b[0;34m(\u001b[0m\u001b[0;34m\"ThIs\"\u001b[0m\u001b[0;34m,\u001b[0m \u001b[0mstring\u001b[0m\u001b[0;34m)\u001b[0m\u001b[0;34m\u001b[0m\u001b[0;34m\u001b[0m\u001b[0m\n\u001b[0;32m----> 2\u001b[0;31m \u001b[0mprint\u001b[0m\u001b[0;34m(\u001b[0m\u001b[0mb\u001b[0m\u001b[0;34m.\u001b[0m\u001b[0mgroup\u001b[0m\u001b[0;34m(\u001b[0m\u001b[0;34m)\u001b[0m\u001b[0;34m)\u001b[0m\u001b[0;34m\u001b[0m\u001b[0;34m\u001b[0m\u001b[0m\n\u001b[0m",
            "\u001b[0;31mAttributeError\u001b[0m: 'NoneType' object has no attribute 'group'"
          ]
        }
      ]
    },
    {
      "cell_type": "markdown",
      "metadata": {
        "id": "lN1dMm92tcUu",
        "colab_type": "text"
      },
      "source": [
        "Now, how can we make our search more powerful.\n",
        "\n",
        "Lets initiate a search pattern with re.compile "
      ]
    },
    {
      "cell_type": "code",
      "metadata": {
        "id": "6YhQVzVdtkeh",
        "colab_type": "code",
        "colab": {
          "base_uri": "https://localhost:8080/",
          "height": 35
        },
        "outputId": "7194cbbd-c50e-40d8-b369-045d92107f33"
      },
      "source": [
        "pattern = re.compile(\"this\")\n",
        "\n",
        "a = pattern.search(string)\n",
        "print(a)"
      ],
      "execution_count": 12,
      "outputs": [
        {
          "output_type": "stream",
          "text": [
            "<_sre.SRE_Match object; span=(17, 21), match='this'>\n"
          ],
          "name": "stdout"
        }
      ]
    },
    {
      "cell_type": "markdown",
      "metadata": {
        "id": "7wKKJr3htui6",
        "colab_type": "text"
      },
      "source": [
        "Now we can use advanced methods on our pattern. \n",
        "\n",
        "- `findall()`\n",
        "- `fullmatch()`\n",
        "- `match()`\n",
        "- `search()`"
      ]
    },
    {
      "cell_type": "code",
      "metadata": {
        "id": "pso46KZ2t9LT",
        "colab_type": "code",
        "colab": {
          "base_uri": "https://localhost:8080/",
          "height": 35
        },
        "outputId": "c6e3365d-a705-487b-cf73-01dcd2a19032"
      },
      "source": [
        "string = \"search this inside of this text please!\"\n",
        "a = pattern.search(string)\n",
        "b = pattern.findall(string)\n",
        "print(b)"
      ],
      "execution_count": 15,
      "outputs": [
        {
          "output_type": "stream",
          "text": [
            "['this', 'this']\n"
          ],
          "name": "stdout"
        }
      ]
    },
    {
      "cell_type": "code",
      "metadata": {
        "id": "vsz3NbMYuIm5",
        "colab_type": "code",
        "colab": {
          "base_uri": "https://localhost:8080/",
          "height": 35
        },
        "outputId": "e4f48cb1-0ff7-4ce9-c262-ae571b944fec"
      },
      "source": [
        "c = pattern.fullmatch(string)\n",
        "print(c)"
      ],
      "execution_count": 16,
      "outputs": [
        {
          "output_type": "stream",
          "text": [
            "None\n"
          ],
          "name": "stdout"
        }
      ]
    },
    {
      "cell_type": "markdown",
      "metadata": {
        "id": "LgXo1NpXuXEg",
        "colab_type": "text"
      },
      "source": [
        "fullmatch returns none here, because we need everything to match. Let's change the pattern and try again. "
      ]
    },
    {
      "cell_type": "code",
      "metadata": {
        "id": "4VAWvouvuQf6",
        "colab_type": "code",
        "colab": {
          "base_uri": "https://localhost:8080/",
          "height": 35
        },
        "outputId": "a82b7777-0ec5-4569-a5fb-fdac6d40c577"
      },
      "source": [
        "pattern = re.compile(\"search this inside of this text please!\")\n",
        "c = pattern.fullmatch(string)\n",
        "print(c)"
      ],
      "execution_count": 20,
      "outputs": [
        {
          "output_type": "stream",
          "text": [
            "<_sre.SRE_Match object; span=(0, 39), match='search this inside of this text please!'>\n"
          ],
          "name": "stdout"
        }
      ]
    },
    {
      "cell_type": "code",
      "metadata": {
        "id": "-ms_haxSukn3",
        "colab_type": "code",
        "colab": {
          "base_uri": "https://localhost:8080/",
          "height": 35
        },
        "outputId": "987e5e4e-afc0-47cf-9196-4520843887a8"
      },
      "source": [
        "d = pattern.match(string)\n",
        "print(d)"
      ],
      "execution_count": 21,
      "outputs": [
        {
          "output_type": "stream",
          "text": [
            "<_sre.SRE_Match object; span=(0, 39), match='search this inside of this text please!'>\n"
          ],
          "name": "stdout"
        }
      ]
    },
    {
      "cell_type": "markdown",
      "metadata": {
        "id": "z9SSo3zjv350",
        "colab_type": "text"
      },
      "source": [
        "# Regular Expressions 2 \n",
        "\n",
        "For those who want to progress even further and learn RegEx I can highly recommend those two interactive resources\n",
        "- https://regexone.com/\n",
        "- https://www.w3schools.com/python/python_regex.asp\n",
        "\n",
        "Use the following Website to bulid Regular Expressions:\n",
        "- https://regex101.com/"
      ]
    },
    {
      "cell_type": "markdown",
      "metadata": {
        "id": "rCXRsVA_wSai",
        "colab_type": "text"
      },
      "source": [
        "\n",
        "# Regualr Expressions 3 \n",
        "\n",
        "To learn RegEx effectively, it is useful to go ahead and apply it to a real life scenario, we'll do just htat now.\n",
        "\n",
        "Let's suppose we have a startup and we want to collect emails of people who are interested in our product. \n",
        "We can do this like so \n",
        "\n",
        "You can use the Regular Exrpession found on this Website\n",
        "https://emailregex.com/\n",
        "\n",
        "`r\"(^[a-zA-Z0-9_.+-]+@[a-zA-Z0-9-]+\\.[a-zA-Z0-9-.]+$)\"`\n",
        "\n",
        "Now use this expression as an input at \n",
        "https://regex101.com/ to find out what it means. \n",
        "\n",
        "Type in an Email adress and see whether the expression you are using matches the address.\n",
        "\n",
        "\n",
        "\n"
      ]
    },
    {
      "cell_type": "code",
      "metadata": {
        "id": "65TAXeFY8eE_",
        "colab_type": "code",
        "colab": {
          "base_uri": "https://localhost:8080/",
          "height": 52
        },
        "outputId": "3c7e4e29-33a2-4a1c-d1e2-aec62e336396"
      },
      "source": [
        "import re \n",
        "\n",
        "pattern = re.compile(r\"(^[a-zA-Z0-9_.+-]+@[a-zA-Z0-9-]+\\.[a-zA-Z0-9-.]+$)\")\n",
        "string = \"anyone@host.extension\"\n",
        "wrong_string = \"asdf@,,asdf@asdf,.donm.@\"\n",
        "\n",
        "# We expect a match object as an output\n",
        "a = pattern.search(string)\n",
        "print(a)\n",
        "\n",
        "# We expect the output to be None\n",
        "b = pattern.search(wrong_string)\n",
        "print(b)"
      ],
      "execution_count": 27,
      "outputs": [
        {
          "output_type": "stream",
          "text": [
            "<_sre.SRE_Match object; span=(0, 21), match='anyone@host.extension'>\n",
            "None\n"
          ],
          "name": "stdout"
        }
      ]
    },
    {
      "cell_type": "markdown",
      "metadata": {
        "id": "aLbrm-_3-yJp",
        "colab_type": "text"
      },
      "source": [
        "# Exercise: Password Validation\n",
        "Create a Password checker which meets the following requirements:\n",
        "\n",
        "- at least 8 characters long\n",
        "- can contain any sort of letters, numbers and thesey symbols ($ % # @)"
      ]
    },
    {
      "cell_type": "code",
      "metadata": {
        "id": "Cl1GaBbf_l4X",
        "colab_type": "code",
        "colab": {
          "base_uri": "https://localhost:8080/",
          "height": 70
        },
        "outputId": "86d28ab9-1496-49c7-e7ec-4cd176146e18"
      },
      "source": [
        "import re \n",
        "\n",
        "pattern2 = re.compile(r\"[a-zA-Z0-9$%#@]{8,}\\d\") \n",
        "\n",
        "# This one shouldn't work because it doesn't end in a number\n",
        "password1 = \"asdf1234#+asdf\"\n",
        "\n",
        "# This one shouldn't work because it's to short\n",
        "password2 = \"132\"\n",
        "\n",
        "# This one should work\n",
        "password3 = \"asfdasdf12$$%##3\"\n",
        "\n",
        "print(pattern2.fullmatch(password1))\n",
        "print(pattern2.fullmatch(password2))\n",
        "print(pattern2.fullmatch(password3))\n"
      ],
      "execution_count": 30,
      "outputs": [
        {
          "output_type": "stream",
          "text": [
            "None\n",
            "None\n",
            "<_sre.SRE_Match object; span=(0, 16), match='asfdasdf12$$%##3'>\n"
          ],
          "name": "stdout"
        }
      ]
    }
  ]
}
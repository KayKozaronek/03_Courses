{
  "nbformat": 4,
  "nbformat_minor": 0,
  "metadata": {
    "colab": {
      "name": "The 4 Pillars of OOP.ipynb",
      "provenance": [],
      "authorship_tag": "ABX9TyMP+IkA99Q03p7UFXmbhmHw",
      "include_colab_link": true
    },
    "kernelspec": {
      "name": "python3",
      "display_name": "Python 3"
    }
  },
  "cells": [
    {
      "cell_type": "markdown",
      "metadata": {
        "id": "view-in-github",
        "colab_type": "text"
      },
      "source": [
        "<a href=\"https://colab.research.google.com/github/KayKozaronek/03_Courses/blob/master/The_4_Pillars_of_OOP.ipynb\" target=\"_parent\"><img src=\"https://colab.research.google.com/assets/colab-badge.svg\" alt=\"Open In Colab\"/></a>"
      ]
    },
    {
      "cell_type": "markdown",
      "metadata": {
        "id": "2zYEpvpxu-iV",
        "colab_type": "text"
      },
      "source": [
        "# 1. Encapsulation \n",
        "Encapsulation means the binding of data in functions for later use. \n"
      ]
    },
    {
      "cell_type": "code",
      "metadata": {
        "id": "yrU7NPXkq-Rf",
        "colab_type": "code",
        "colab": {
          "base_uri": "https://localhost:8080/",
          "height": 52
        },
        "outputId": "cc021b7c-b40d-4b6d-821a-674b963f2eec"
      },
      "source": [
        "\n",
        "\n",
        "class PlayerCharacter:\n",
        "  def __init__(self, name, age):\n",
        "    self.name = name \n",
        "    self.age = age \n",
        "  \n",
        "  def run(self):\n",
        "    print(\"Run\")\n",
        "\n",
        "  def shout(self):\n",
        "    print(f\"My name is {self.name} and I am {self.age} years old!\")\n",
        "\n",
        "player1 = PlayerCharacter(\"Kay\", 22)\n",
        "\n",
        "player1.shout()"
      ],
      "execution_count": 2,
      "outputs": [
        {
          "output_type": "stream",
          "text": [
            "My name is Kay and I am 22 years old!\n",
            "4\n"
          ],
          "name": "stdout"
        }
      ]
    },
    {
      "cell_type": "markdown",
      "metadata": {
        "id": "c6DmRs2utq9l",
        "colab_type": "text"
      },
      "source": [
        "\n",
        "# 2. Abstraction\n",
        "- Only give out the information to the user that is necessary\n",
        "- abstract away the complexity\n",
        "\n",
        "Example: \n",
        "- print(len((1,2,3,1)))\n",
        "- We don't need to know how len is coded in order to use it properly\n",
        "\n",
        "Example: \n",
        "- camera.takepicture()\n",
        "- We don't need to know how the Iphone camera is implementet when we want to take a selfie\n",
        "\n",
        "Abstraction is good, but pay attention: You can overwrite code"
      ]
    },
    {
      "cell_type": "code",
      "metadata": {
        "id": "hy6NZReUuZ8S",
        "colab_type": "code",
        "colab": {
          "base_uri": "https://localhost:8080/",
          "height": 35
        },
        "outputId": "8efb36da-4936-4093-cc13-539f693270d9"
      },
      "source": [
        "player1.name = \"!!!\"\n",
        "player1.speak = \"BOOO\"\n",
        "\n",
        "print(player1.speak)"
      ],
      "execution_count": 5,
      "outputs": [
        {
          "output_type": "stream",
          "text": [
            "BOOO\n"
          ],
          "name": "stdout"
        }
      ]
    },
    {
      "cell_type": "code",
      "metadata": {
        "id": "IiU7hsDQuklL",
        "colab_type": "code",
        "colab": {
          "base_uri": "https://localhost:8080/",
          "height": 168
        },
        "outputId": "ffa570b0-01ce-4fd4-867f-4be93fe08a11"
      },
      "source": [
        "# Now we've overwritten our functionality \n",
        "# Rlayer1.speak is now a string and thus not callable!\n",
        "player1.speak()"
      ],
      "execution_count": 6,
      "outputs": [
        {
          "output_type": "error",
          "ename": "TypeError",
          "evalue": "ignored",
          "traceback": [
            "\u001b[0;31m---------------------------------------------------------------------------\u001b[0m",
            "\u001b[0;31mTypeError\u001b[0m                                 Traceback (most recent call last)",
            "\u001b[0;32m<ipython-input-6-a02568190373>\u001b[0m in \u001b[0;36m<module>\u001b[0;34m()\u001b[0m\n\u001b[0;32m----> 1\u001b[0;31m \u001b[0mplayer1\u001b[0m\u001b[0;34m.\u001b[0m\u001b[0mspeak\u001b[0m\u001b[0;34m(\u001b[0m\u001b[0;34m)\u001b[0m\u001b[0;34m\u001b[0m\u001b[0;34m\u001b[0m\u001b[0m\n\u001b[0m",
            "\u001b[0;31mTypeError\u001b[0m: 'str' object is not callable"
          ]
        }
      ]
    },
    {
      "cell_type": "markdown",
      "metadata": {
        "id": "NGWwjrKLvwEz",
        "colab_type": "text"
      },
      "source": [
        "**Private vs Public Variables** \n",
        "\n",
        "Ideally we would like our variables like __init__, run or speak, not to be changable.\n",
        "\n",
        "Unfotunately **we don't have any private variables in Python**, but we have a neat little trick/ **naming convention** to overcome this. \n",
        "\n",
        "\n",
        "Name the variables that you don't want to be changed like this **\"_whatever\"** the underscore indicates, that you don't want the variable to be changed"
      ]
    },
    {
      "cell_type": "code",
      "metadata": {
        "id": "nzSQTXyXux4T",
        "colab_type": "code",
        "colab": {
          "base_uri": "https://localhost:8080/",
          "height": 52
        },
        "outputId": "854d4545-3823-45e6-b9d7-18c0d708dd72"
      },
      "source": [
        "class PlayerCharacter:\n",
        "  def __init__(self,name,age):\n",
        "    self._name = name\n",
        "    self._age = age\n",
        "\n",
        "  def run(self):\n",
        "    print(\"run\")\n",
        "\n",
        "  def speak(self):\n",
        "    print(f\"My name is {self._name} and I'm {self._age} years old!\")\n",
        "\n",
        "  player1= PlayerCharacter(\"Kay\", 22)\n",
        "\n",
        "  print(player1.speak())"
      ],
      "execution_count": 14,
      "outputs": [
        {
          "output_type": "stream",
          "text": [
            "My name is Kay and I'm 22 years old!\n",
            "None\n"
          ],
          "name": "stdout"
        }
      ]
    },
    {
      "cell_type": "markdown",
      "metadata": {
        "id": "IlYDkVcbvSl9",
        "colab_type": "text"
      },
      "source": [
        "# 3. Inheritance\n",
        "\n",
        "Inheritance allows new objects to take on properties from already existing objects."
      ]
    },
    {
      "cell_type": "code",
      "metadata": {
        "id": "czf-ACY9yBZI",
        "colab_type": "code",
        "colab": {
          "base_uri": "https://localhost:8080/",
          "height": 106
        },
        "outputId": "fafef1b6-949d-4eb9-9b32-952b850dfebb"
      },
      "source": [
        "# users\n",
        "#   -Wizards\n",
        "#   -Archers\n",
        "#   -Ogers\n",
        "\n",
        "class User():\n",
        "    def sign_in(self):\n",
        "      print(\"logged in\")\n",
        "\n",
        "class Wizard(User):\n",
        "    def __init__(self, name, power):\n",
        "      self.name = name\n",
        "      self.power = power\n",
        "\n",
        "    def attack(self):\n",
        "      return(f\"Attacking with power of {self.power}\")\n",
        "\n",
        "class Archer(User):\n",
        "    \n",
        "    def __init__(self, name, num_arrows):\n",
        "      self.name = name\n",
        "      self.num_arrows = num_arrows\n",
        "      \n",
        "\n",
        "    def attack(self):\n",
        "      return(f\"Attacking with arrows! Arrows left: {self.num_arrows}\")\n",
        "      \n",
        "\n",
        "wizard1 = Wizard(\"Merlin\", 150)\n",
        "print(wizard1)\n",
        "print(wizard1.sign_in())\n",
        "\n",
        "archer1 = Archer(\"Kay\", 50)\n",
        "print(archer1.attack())\n",
        "\n",
        "print(wizard1.attack())"
      ],
      "execution_count": 47,
      "outputs": [
        {
          "output_type": "stream",
          "text": [
            "<__main__.Wizard object at 0x7f1e956a1a20>\n",
            "logged in\n",
            "None\n",
            "Attacking with arrows! Arrows left: 50\n",
            "Attacking with power of 150\n"
          ],
          "name": "stdout"
        }
      ]
    },
    {
      "cell_type": "markdown",
      "metadata": {
        "id": "mMcv5zHovSaW",
        "colab_type": "text"
      },
      "source": [
        "Python gives us the possibility to check whether sometthing is and instance of a class `isinstance(instance, class)`"
      ]
    },
    {
      "cell_type": "code",
      "metadata": {
        "id": "e1j8U_gg9Htd",
        "colab_type": "code",
        "colab": {
          "base_uri": "https://localhost:8080/",
          "height": 35
        },
        "outputId": "f61a1b49-90d3-40cf-996f-19f05cf859eb"
      },
      "source": [
        "isinstance(wizard1, Wizard)"
      ],
      "execution_count": 48,
      "outputs": [
        {
          "output_type": "execute_result",
          "data": {
            "text/plain": [
              "True"
            ]
          },
          "metadata": {
            "tags": []
          },
          "execution_count": 48
        }
      ]
    },
    {
      "cell_type": "code",
      "metadata": {
        "id": "1pmgupNl9ag0",
        "colab_type": "code",
        "colab": {
          "base_uri": "https://localhost:8080/",
          "height": 35
        },
        "outputId": "ba874a4d-2b10-4d52-a248-000e55ba0d8c"
      },
      "source": [
        "isinstance(wizard1, User)"
      ],
      "execution_count": 49,
      "outputs": [
        {
          "output_type": "execute_result",
          "data": {
            "text/plain": [
              "True"
            ]
          },
          "metadata": {
            "tags": []
          },
          "execution_count": 49
        }
      ]
    },
    {
      "cell_type": "markdown",
      "metadata": {
        "id": "ISU4qWrR9shq",
        "colab_type": "text"
      },
      "source": [
        "Everything in python is an object. Thus every object inherits the dunter methods e.g. `__init__`"
      ]
    },
    {
      "cell_type": "code",
      "metadata": {
        "id": "L8WwbmlO9a9E",
        "colab_type": "code",
        "colab": {
          "base_uri": "https://localhost:8080/",
          "height": 52
        },
        "outputId": "9d3f8c2a-52e1-42e5-fdec-0e3ca096427f"
      },
      "source": [
        "print(isinstance(Wizard,object))\n",
        "print(isinstance(wizard1,object))"
      ],
      "execution_count": 52,
      "outputs": [
        {
          "output_type": "stream",
          "text": [
            "True\n",
            "True\n"
          ],
          "name": "stdout"
        }
      ]
    },
    {
      "cell_type": "markdown",
      "metadata": {
        "id": "p5hsPNywu8ms",
        "colab_type": "text"
      },
      "source": [
        "# 4. Polymorphism\n",
        "\n",
        "poly = many, morphism = form -> many forms \n",
        "\n",
        "Although different classes might share the same attributes/ methods, the output of those, depends on the class itself. \n",
        "\n",
        "Pay attention to how `Wizard.attack()` is different from `Archer.attack()`\n"
      ]
    },
    {
      "cell_type": "code",
      "metadata": {
        "id": "UT-PkVte2ZgS",
        "colab_type": "code",
        "colab": {
          "base_uri": "https://localhost:8080/",
          "height": 52
        },
        "outputId": "4fe1b9f1-6136-4506-df69-1363e38aca53"
      },
      "source": [
        "print(wizard1.attack())\n",
        "print(archer1.attack())"
      ],
      "execution_count": 53,
      "outputs": [
        {
          "output_type": "stream",
          "text": [
            "Attacking with power of 150\n",
            "Attacking with arrows! Arrows left: 50\n"
          ],
          "name": "stdout"
        }
      ]
    },
    {
      "cell_type": "markdown",
      "metadata": {
        "id": "PQkN3ay4_Sft",
        "colab_type": "text"
      },
      "source": [
        "We can even create a new function, that intaces our instances of objects, and it still recognizes that the `.attack()` is different for each different class!"
      ]
    },
    {
      "cell_type": "code",
      "metadata": {
        "id": "TapWkb3M_JWt",
        "colab_type": "code",
        "colab": {
          "base_uri": "https://localhost:8080/",
          "height": 52
        },
        "outputId": "8aae54bd-f483-4cab-c783-875f77b3ac82"
      },
      "source": [
        "wizard1 = Wizard(\"Merlin\", 50)\n",
        "archer1 = Archer(\"Robin\", 30)\n",
        "\n",
        "def player_attack(char):\n",
        "  return char.attack()\n",
        "\n",
        "print(player_attack(wizard1))\n",
        "print(player_attack(archer1))"
      ],
      "execution_count": 58,
      "outputs": [
        {
          "output_type": "stream",
          "text": [
            "Attacking with power of 50\n",
            "Attacking with arrows! Arrows left: 30\n"
          ],
          "name": "stdout"
        }
      ]
    },
    {
      "cell_type": "markdown",
      "metadata": {
        "id": "dAWmPg21_RZp",
        "colab_type": "text"
      },
      "source": [
        "This is even possible to demonstarte with a for loop"
      ]
    },
    {
      "cell_type": "code",
      "metadata": {
        "id": "TQ2Wy1eBAF_m",
        "colab_type": "code",
        "colab": {
          "base_uri": "https://localhost:8080/",
          "height": 52
        },
        "outputId": "c1cdf221-46f5-4d01-d7d1-7452c69db0ef"
      },
      "source": [
        "for char in [wizard1,archer1]:\n",
        "  print(char.attack())"
      ],
      "execution_count": 65,
      "outputs": [
        {
          "output_type": "stream",
          "text": [
            "Attacking with power of 50\n",
            "Attacking with arrows! Arrows left: 30\n"
          ],
          "name": "stdout"
        }
      ]
    },
    {
      "cell_type": "code",
      "metadata": {
        "id": "hK141dTOAgOg",
        "colab_type": "code",
        "colab": {}
      },
      "source": [
        ""
      ],
      "execution_count": 0,
      "outputs": []
    },
    {
      "cell_type": "code",
      "metadata": {
        "id": "11tNCcKdAggw",
        "colab_type": "code",
        "colab": {}
      },
      "source": [
        ""
      ],
      "execution_count": 0,
      "outputs": []
    },
    {
      "cell_type": "code",
      "metadata": {
        "id": "euo1anqcAgrC",
        "colab_type": "code",
        "colab": {}
      },
      "source": [
        ""
      ],
      "execution_count": 0,
      "outputs": []
    },
    {
      "cell_type": "code",
      "metadata": {
        "id": "Xqz3GnHkAiYo",
        "colab_type": "code",
        "colab": {}
      },
      "source": [
        ""
      ],
      "execution_count": 0,
      "outputs": []
    }
  ]
}

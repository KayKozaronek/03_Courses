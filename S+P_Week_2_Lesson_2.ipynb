{
  "nbformat": 4,
  "nbformat_minor": 0,
  "metadata": {
    "colab": {
      "name": "S+P Week 2 Lesson 2.ipynb",
      "provenance": [],
      "authorship_tag": "ABX9TyNMJmQOg4f4bXl3tsAuXNpV",
      "include_colab_link": true
    },
    "kernelspec": {
      "name": "python3",
      "display_name": "Python 3"
    }
  },
  "cells": [
    {
      "cell_type": "markdown",
      "metadata": {
        "id": "view-in-github",
        "colab_type": "text"
      },
      "source": [
        "<a href=\"https://colab.research.google.com/github/KayKozaronek/03_Courses/blob/master/S%2BP_Week_2_Lesson_2.ipynb\" target=\"_parent\"><img src=\"https://colab.research.google.com/assets/colab-badge.svg\" alt=\"Open In Colab\"/></a>"
      ]
    },
    {
      "cell_type": "markdown",
      "metadata": {
        "id": "nccymGOIAm30",
        "colab_type": "text"
      },
      "source": [
        "# Single layer neural network for time series predictions \n"
      ]
    },
    {
      "cell_type": "code",
      "metadata": {
        "id": "TEvxWkCKA7n-",
        "colab_type": "code",
        "colab": {}
      },
      "source": [
        "# Imports \n",
        "import tensorflow as tf \n",
        "import numpy as np\n",
        "import matplotlib.pyplot as plt"
      ],
      "execution_count": 0,
      "outputs": []
    },
    {
      "cell_type": "code",
      "metadata": {
        "id": "jnQnl5a6Cejv",
        "colab_type": "code",
        "colab": {}
      },
      "source": [
        "# define plot series function \n",
        "def plot_series(time, series, format=\"-\", start=0, end=None):\n",
        "    plt.plot(time[start:end], series[start:end], format)\n",
        "    plt.xlabel(\"Time\")\n",
        "    plt.ylabel(\"Value\")\n",
        "    plt.grid(True)"
      ],
      "execution_count": 0,
      "outputs": []
    },
    {
      "cell_type": "code",
      "metadata": {
        "id": "_ULW9oomCk0Y",
        "colab_type": "code",
        "colab": {}
      },
      "source": [
        "# define trend function\n",
        "def trend(time, slope=0):\n",
        "    return slope * time"
      ],
      "execution_count": 0,
      "outputs": []
    },
    {
      "cell_type": "code",
      "metadata": {
        "id": "EV_Wi12GCm0_",
        "colab_type": "code",
        "colab": {}
      },
      "source": [
        "# define seasonal pattern function wiht cos\n",
        "def seasonal_pattern(season_time):\n",
        "  \"\"\"Just an arbitrary pattern, you can change it if you wish\"\"\"\n",
        "  return np.where(season_time < 0.4, # condition\n",
        "                  np.cos(season_time * 2 * np.pi), # value | if condition is true \n",
        "                  1 / np.exp(3 * season_time) # value | if condition is false\n",
        "                  ) \n",
        "  "
      ],
      "execution_count": 0,
      "outputs": []
    },
    {
      "cell_type": "code",
      "metadata": {
        "id": "GhrhemlRMFxp",
        "colab_type": "code",
        "colab": {
          "base_uri": "https://localhost:8080/",
          "height": 34
        },
        "outputId": "4e098f68-6079-4a21-cc4d-90535724e3cc"
      },
      "source": [
        "# Example of how np.where works\n",
        "l = np.arange(5)\n",
        "np.where(l < 3, l,l*5)"
      ],
      "execution_count": 96,
      "outputs": [
        {
          "output_type": "execute_result",
          "data": {
            "text/plain": [
              "array([ 0,  1,  2, 15, 20])"
            ]
          },
          "metadata": {
            "tags": []
          },
          "execution_count": 96
        }
      ]
    },
    {
      "cell_type": "code",
      "metadata": {
        "id": "4RlxC_89Cpfr",
        "colab_type": "code",
        "colab": {}
      },
      "source": [
        "# def seasonality function\n",
        "def seasonality(time, period, amplitude=1, phase =0):\n",
        "  \"\"\"Repeats the same pattern at each period\"\"\"\n",
        "  season_time = ((time + phase) % period) / period\n",
        "  return amplitude * seasonal_pattern(season_time)"
      ],
      "execution_count": 0,
      "outputs": []
    },
    {
      "cell_type": "code",
      "metadata": {
        "id": "n9cfxPvZCrEo",
        "colab_type": "code",
        "colab": {}
      },
      "source": [
        "# def noise function\n",
        "def noise(time, noise_level=1, seed=42):\n",
        "  rnd = np.random.RandomState(seed)\n",
        "  return rnd.randn(len(time)) * noise_level"
      ],
      "execution_count": 0,
      "outputs": []
    },
    {
      "cell_type": "code",
      "metadata": {
        "id": "Rb4M6sQUCt6F",
        "colab_type": "code",
        "colab": {}
      },
      "source": [
        "# set parameters for above functions\n",
        "time = np.arange(4 * 365 + 1, dtype=\"float32\") # 4 years period\n",
        "baseline = 10 \n",
        "series = trend(time, slope = 0.1)\n",
        "amplitude = 40\n",
        "slope = slope = 0.05\n",
        "noise_level = 5"
      ],
      "execution_count": 0,
      "outputs": []
    },
    {
      "cell_type": "code",
      "metadata": {
        "id": "jQ4TWNzVCyHz",
        "colab_type": "code",
        "colab": {}
      },
      "source": [
        "# Create the series \n",
        "series = baseline + trend(time, slope) + seasonality(time, period=365, amplitude=amplitude)\n",
        "\n",
        "# Update with noise \n",
        "series += noise(time, noise_level=noise_level, seed=42)"
      ],
      "execution_count": 0,
      "outputs": []
    },
    {
      "cell_type": "code",
      "metadata": {
        "id": "UiyOo5UeC2VJ",
        "colab_type": "code",
        "colab": {}
      },
      "source": [
        "# Create training and validation split\n",
        "split_time = 1000\n",
        "time_train = time[:split_time]\n",
        "x_train = series[:split_time]\n",
        "\n",
        "time_valid = time[split_time:]\n",
        "x_valid = series[split_time:]"
      ],
      "execution_count": 0,
      "outputs": []
    },
    {
      "cell_type": "code",
      "metadata": {
        "id": "DluZiOu8DBwU",
        "colab_type": "code",
        "colab": {}
      },
      "source": [
        "# Set hyperparameters \n",
        "window_size = 20\n",
        "batch_size = 32\n",
        "shuffle_buffer_size = 1000"
      ],
      "execution_count": 0,
      "outputs": []
    },
    {
      "cell_type": "code",
      "metadata": {
        "id": "XB_GQaViDD14",
        "colab_type": "code",
        "colab": {}
      },
      "source": [
        "# Define windowed_dataset\n",
        "def windowed_dataset(series, window_size, batch_size, shuffle_buffer):\n",
        "  dataset = tf.data.Dataset.from_tensor_slices(series)\n",
        "  dataset = dataset.window(window_size + 1, shift=1, drop_remainder=True)\n",
        "  dataset = dataset.flat_map(lambda window: window.batch(window_size + 1))\n",
        "  dataset = dataset.shuffle(shuffle_buffer).map(lambda window: (window[:-1], window[-1]))\n",
        "  dataset = dataset.batch(batch_size).prefetch(1)\n",
        "  return dataset"
      ],
      "execution_count": 0,
      "outputs": []
    },
    {
      "cell_type": "code",
      "metadata": {
        "id": "oScyK7TrTKk9",
        "colab_type": "code",
        "colab": {
          "base_uri": "https://localhost:8080/",
          "height": 34
        },
        "outputId": "12afdae9-2ca4-4e6a-c981-dc8612d85604"
      },
      "source": [
        "# Create dataset \n",
        "dataset = windowed_dataset(x_train, window_size, batch_size, shuffle_buffer_size)\n",
        "print(dataset)"
      ],
      "execution_count": 104,
      "outputs": [
        {
          "output_type": "stream",
          "text": [
            "<PrefetchDataset shapes: ((None, None), (None,)), types: (tf.float32, tf.float32)>\n"
          ],
          "name": "stdout"
        }
      ]
    },
    {
      "cell_type": "code",
      "metadata": {
        "id": "eExEffWYDGAV",
        "colab_type": "code",
        "colab": {
          "base_uri": "https://localhost:8080/",
          "height": 353
        },
        "outputId": "ed5094da-3d98-465b-db46-715fdd3a563b"
      },
      "source": [
        "# Create model \n",
        "l0 = tf.keras.layers.Dense(1, input_shape=[window_size])\n",
        "model = tf.keras.models.Sequential([l0])\n",
        "\n",
        "# Compile and fit model \n",
        "model.compile(loss=\"mse\", # Mean squared error\n",
        "              optimizer = tf.keras.optimizers.SGD(lr=1e-6, momentum =0.8))\n",
        "              # 1e-6 == 0.000001\n",
        "\n",
        "model.fit(dataset,epochs=100,verbose=0)\n",
        "\n",
        "# Print Layer weights\n",
        "print(f\"Layer weights {l0.get_weights()}\")"
      ],
      "execution_count": 105,
      "outputs": [
        {
          "output_type": "stream",
          "text": [
            "Layer weights [array([[-0.13154505],\n",
            "       [-0.04422933],\n",
            "       [ 0.16464232],\n",
            "       [-0.05299628],\n",
            "       [ 0.13945144],\n",
            "       [ 0.0599197 ],\n",
            "       [-0.07026254],\n",
            "       [-0.16347007],\n",
            "       [ 0.07014638],\n",
            "       [-0.08890804],\n",
            "       [ 0.1265129 ],\n",
            "       [ 0.15159492],\n",
            "       [-0.1533809 ],\n",
            "       [ 0.05209694],\n",
            "       [ 0.00193056],\n",
            "       [-0.05863497],\n",
            "       [-0.09097453],\n",
            "       [ 0.39228362],\n",
            "       [ 0.40345937],\n",
            "       [ 0.29275906]], dtype=float32), array([0.00866075], dtype=float32)]\n"
          ],
          "name": "stdout"
        }
      ]
    },
    {
      "cell_type": "code",
      "metadata": {
        "id": "YsK3HmNeT1sI",
        "colab_type": "code",
        "colab": {
          "base_uri": "https://localhost:8080/",
          "height": 388
        },
        "outputId": "7c452774-22b8-48ec-aa71-af34eee66a6f"
      },
      "source": [
        "forecast = []\n",
        "\n",
        "for time in range(len(series) - window_size):\n",
        "  forecast.append(model.predict(series[time:time + window_size][np.newaxis]))\n",
        "\n",
        "forecast = forecast[split_time-window_size:]\n",
        "results = np.array(forecast)[:, 0, 0]\n",
        "\n",
        "\n",
        "plt.figure(figsize=(10, 6))\n",
        "\n",
        "plot_series(time_valid, x_valid)\n",
        "plot_series(time_valid, results)"
      ],
      "execution_count": 106,
      "outputs": [
        {
          "output_type": "display_data",
          "data": {
            "image/png": "[encoded data removed]",
            "text/plain": [
              "<Figure size 720x432 with 1 Axes>"
            ]
          },
          "metadata": {
            "tags": [],
            "needs_background": "light"
          }
        }
      ]
    },
    {
      "cell_type": "code",
      "metadata": {
        "id": "tfQUrLL7VGVr",
        "colab_type": "code",
        "colab": {
          "base_uri": "https://localhost:8080/",
          "height": 34
        },
        "outputId": "a1578e3a-a899-4df8-e81e-b5376406118b"
      },
      "source": [
        "tf.keras.metrics.mean_absolute_error(x_valid, results).numpy()"
      ],
      "execution_count": 107,
      "outputs": [
        {
          "output_type": "execute_result",
          "data": {
            "text/plain": [
              "5.192841"
            ]
          },
          "metadata": {
            "tags": []
          },
          "execution_count": 107
        }
      ]
    },
    {
      "cell_type": "code",
      "metadata": {
        "id": "znYs--GzUw1X",
        "colab_type": "code",
        "colab": {}
      },
      "source": [
        "# What does np.newaxis do?!"
      ],
      "execution_count": 0,
      "outputs": []
    }
  ]
}
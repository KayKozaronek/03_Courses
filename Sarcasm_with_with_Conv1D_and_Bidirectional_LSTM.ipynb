{
  "nbformat": 4,
  "nbformat_minor": 0,
  "metadata": {
    "colab": {
      "name": "Sarcasm with with Conv1D and Bidirectional LSTM ",
      "provenance": [],
      "authorship_tag": "ABX9TyMHFxXzgRtw38ZtUioIaI8h",
      "include_colab_link": true
    },
    "kernelspec": {
      "name": "python3",
      "display_name": "Python 3"
    }
  },
  "cells": [
    {
      "cell_type": "markdown",
      "metadata": {
        "id": "view-in-github",
        "colab_type": "text"
      },
      "source": [
        "<a href=\"https://colab.research.google.com/github/KayKozaronek/03_Courses/blob/master/Sarcasm_with_with_Conv1D_and_Bidirectional_LSTM.ipynb\" target=\"_parent\"><img src=\"https://colab.research.google.com/assets/colab-badge.svg\" alt=\"Open In Colab\"/></a>"
      ]
    },
    {
      "cell_type": "markdown",
      "metadata": {
        "id": "vRWGSqRYQSxA",
        "colab_type": "text"
      },
      "source": [
        "# Bidirectional LSTM"
      ]
    },
    {
      "cell_type": "code",
      "metadata": {
        "id": "Q5hMkfxoVpV3",
        "colab_type": "code",
        "colab": {}
      },
      "source": [
        "import json\n",
        "import tensorflow as tf \n",
        "import numpy as np\n",
        "from tensorflow.keras.preprocessing.text import Tokenizer\n",
        "from tensorflow.keras.preprocessing.sequence import pad_sequences"
      ],
      "execution_count": 0,
      "outputs": []
    },
    {
      "cell_type": "code",
      "metadata": {
        "id": "LlorHf9eZtRo",
        "colab_type": "code",
        "colab": {
          "base_uri": "https://localhost:8080/",
          "height": 232
        },
        "outputId": "16df3a4e-a2c0-4421-f4c5-a19a3bc3ceb1"
      },
      "source": [
        "!wget --no-check-certificate \\\n",
        "    https://storage.googleapis.com/laurencemoroney-blog.appspot.com/sarcasm.json \\\n",
        "    -O /tmp/sarcasm.json"
      ],
      "execution_count": 3,
      "outputs": [
        {
          "output_type": "stream",
          "text": [
            "--2020-05-21 08:12:29--  https://storage.googleapis.com/laurencemoroney-blog.appspot.com/sarcasm.json\n",
            "Resolving storage.googleapis.com (storage.googleapis.com)... 173.194.215.128, 2607:f8b0:400c:c1a::80\n",
            "Connecting to storage.googleapis.com (storage.googleapis.com)|173.194.215.128|:443... connected.\n",
            "HTTP request sent, awaiting response... 200 OK\n",
            "Length: 5643545 (5.4M) [application/json]\n",
            "Saving to: ‘/tmp/sarcasm.json’\n",
            "\n",
            "\r/tmp/sarcasm.json     0%[                    ]       0  --.-KB/s               \r/tmp/sarcasm.json   100%[===================>]   5.38M  --.-KB/s    in 0.04s   \n",
            "\n",
            "2020-05-21 08:12:29 (129 MB/s) - ‘/tmp/sarcasm.json’ saved [5643545/5643545]\n",
            "\n"
          ],
          "name": "stdout"
        }
      ]
    },
    {
      "cell_type": "code",
      "metadata": {
        "id": "4ULCk4JoWf-F",
        "colab_type": "code",
        "colab": {}
      },
      "source": [
        "vocab_size = 1000\n",
        "embedding_dim = 16\n",
        "max_length = 120\n",
        "trunc_type='post'\n",
        "padding_type='post'\n",
        "oov_tok = \"<OOV>\"\n",
        "training_size = 20000"
      ],
      "execution_count": 0,
      "outputs": []
    },
    {
      "cell_type": "code",
      "metadata": {
        "id": "1Lwe1X6SWj6d",
        "colab_type": "code",
        "colab": {}
      },
      "source": [
        "with open(\"/tmp/sarcasm.json\", 'r') as f:\n",
        "    datastore = json.load(f)\n",
        "\n",
        "sentences= []\n",
        "labels = []\n",
        "urls = []"
      ],
      "execution_count": 0,
      "outputs": []
    },
    {
      "cell_type": "code",
      "metadata": {
        "id": "GAmtwU5rWkze",
        "colab_type": "code",
        "colab": {}
      },
      "source": [
        "for item in datastore:\n",
        "  sentences.append(item[\"headline\"])\n",
        "  labels.append(item[\"is_sarcastic\"])\n",
        "\n",
        "training_sentences = sentences[0:training_size]\n",
        "testing_sentences = sentences[training_size:]\n",
        "\n",
        "training_labels = labels[0:training_size]\n",
        "testing_labels = labels[training_size:]"
      ],
      "execution_count": 0,
      "outputs": []
    },
    {
      "cell_type": "code",
      "metadata": {
        "id": "dg8fmHhkX5M4",
        "colab_type": "code",
        "colab": {}
      },
      "source": [
        "tokenizer = Tokenizer(num_words=vocab_size, \n",
        "                      oov_token=oov_tok)\n",
        "\n",
        "tokenizer.fit_on_texts(training_sentences)\n",
        "\n",
        "word_index = tokenizer.word_index"
      ],
      "execution_count": 0,
      "outputs": []
    },
    {
      "cell_type": "code",
      "metadata": {
        "id": "jxAKPAFKWqT7",
        "colab_type": "code",
        "colab": {}
      },
      "source": [
        "training_sequences = tokenizer.texts_to_sequences(training_sentences)\n",
        "training_padded = pad_sequences(training_sequences, \n",
        "                                maxlen=max_length, \n",
        "                                padding=padding_type, \n",
        "                                truncating=trunc_type)"
      ],
      "execution_count": 0,
      "outputs": []
    },
    {
      "cell_type": "code",
      "metadata": {
        "id": "mVbTdZCuX6XU",
        "colab_type": "code",
        "colab": {}
      },
      "source": [
        "testing_sequences = tokenizer.texts_to_sequences(testing_sentences)\n",
        "testing_padded = pad_sequences(testing_sequences, \n",
        "                               maxlen=max_length, \n",
        "                               padding=padding_type, \n",
        "                               truncating=trunc_type)\n"
      ],
      "execution_count": 0,
      "outputs": []
    },
    {
      "cell_type": "code",
      "metadata": {
        "id": "7DlQiwONYPwV",
        "colab_type": "code",
        "colab": {}
      },
      "source": [
        "model = tf.keras.Sequential([\n",
        "    tf.keras.layers.Embedding(vocab_size, \n",
        "                              embedding_dim, \n",
        "                              input_length=max_length),\n",
        "    tf.keras.layers.Bidirectional(tf.keras.layers.LSTM(32)),\n",
        "    tf.keras.layers.Dense(24, activation='relu'),\n",
        "    tf.keras.layers.Dense(1, activation='sigmoid')\n",
        "    ])"
      ],
      "execution_count": 0,
      "outputs": []
    },
    {
      "cell_type": "code",
      "metadata": {
        "id": "NoiKH0CkY4Cx",
        "colab_type": "code",
        "colab": {}
      },
      "source": [
        "model.compile(loss='binary_crossentropy',\n",
        "              optimizer='adam',\n",
        "              metrics=['accuracy'])"
      ],
      "execution_count": 0,
      "outputs": []
    },
    {
      "cell_type": "code",
      "metadata": {
        "id": "wQEc0hJhZFBX",
        "colab_type": "code",
        "colab": {
          "base_uri": "https://localhost:8080/",
          "height": 301
        },
        "outputId": "4dd1346d-e9a4-4631-f040-2ed19178e914"
      },
      "source": [
        "model.summary()"
      ],
      "execution_count": 47,
      "outputs": [
        {
          "output_type": "stream",
          "text": [
            "Model: \"sequential_2\"\n",
            "_________________________________________________________________\n",
            "Layer (type)                 Output Shape              Param #   \n",
            "=================================================================\n",
            "embedding_2 (Embedding)      (None, 120, 16)           16000     \n",
            "_________________________________________________________________\n",
            "bidirectional_2 (Bidirection (None, 64)                12544     \n",
            "_________________________________________________________________\n",
            "dense_4 (Dense)              (None, 24)                1560      \n",
            "_________________________________________________________________\n",
            "dense_5 (Dense)              (None, 1)                 25        \n",
            "=================================================================\n",
            "Total params: 30,129\n",
            "Trainable params: 30,129\n",
            "Non-trainable params: 0\n",
            "_________________________________________________________________\n"
          ],
          "name": "stdout"
        }
      ]
    },
    {
      "cell_type": "code",
      "metadata": {
        "id": "12BvqrHyZGIw",
        "colab_type": "code",
        "colab": {
          "base_uri": "https://localhost:8080/",
          "height": 1000
        },
        "outputId": "37951d51-062d-465a-9118-5baf0b35ee26"
      },
      "source": [
        "num_epochs = 50\n",
        "training_padded = np.array(training_padded)\n",
        "training_labels = np.array(training_labels)\n",
        "\n",
        "testing_padded = np.array(testing_padded)\n",
        "testing_labels = np.array(testing_labels)\n",
        "\n",
        "history = model.fit(training_padded, \n",
        "                    training_labels, \n",
        "                    epochs=num_epochs, \n",
        "                    validation_data=(testing_padded, testing_labels), \n",
        "                    verbose=1)"
      ],
      "execution_count": 48,
      "outputs": [
        {
          "output_type": "stream",
          "text": [
            "Epoch 1/50\n",
            "625/625 [==============================] - 35s 56ms/step - loss: 0.4516 - accuracy: 0.7728 - val_loss: 0.3850 - val_accuracy: 0.8202\n",
            "Epoch 2/50\n",
            "625/625 [==============================] - 34s 55ms/step - loss: 0.3520 - accuracy: 0.8393 - val_loss: 0.3820 - val_accuracy: 0.8229\n",
            "Epoch 3/50\n",
            "625/625 [==============================] - 35s 56ms/step - loss: 0.3273 - accuracy: 0.8521 - val_loss: 0.3720 - val_accuracy: 0.8268\n",
            "Epoch 4/50\n",
            "625/625 [==============================] - 35s 57ms/step - loss: 0.3102 - accuracy: 0.8630 - val_loss: 0.3811 - val_accuracy: 0.8281\n",
            "Epoch 5/50\n",
            "625/625 [==============================] - 35s 57ms/step - loss: 0.3007 - accuracy: 0.8667 - val_loss: 0.3786 - val_accuracy: 0.8284\n",
            "Epoch 6/50\n",
            "625/625 [==============================] - 36s 57ms/step - loss: 0.2912 - accuracy: 0.8701 - val_loss: 0.3759 - val_accuracy: 0.8322\n",
            "Epoch 7/50\n",
            "625/625 [==============================] - 35s 57ms/step - loss: 0.2832 - accuracy: 0.8763 - val_loss: 0.3796 - val_accuracy: 0.8316\n",
            "Epoch 8/50\n",
            "625/625 [==============================] - 35s 56ms/step - loss: 0.2759 - accuracy: 0.8796 - val_loss: 0.4093 - val_accuracy: 0.8199\n",
            "Epoch 9/50\n",
            "625/625 [==============================] - 36s 57ms/step - loss: 0.2711 - accuracy: 0.8841 - val_loss: 0.3883 - val_accuracy: 0.8311\n",
            "Epoch 10/50\n",
            "625/625 [==============================] - 36s 57ms/step - loss: 0.2621 - accuracy: 0.8853 - val_loss: 0.4141 - val_accuracy: 0.8253\n",
            "Epoch 11/50\n",
            "625/625 [==============================] - 36s 57ms/step - loss: 0.2541 - accuracy: 0.8910 - val_loss: 0.4088 - val_accuracy: 0.8259\n",
            "Epoch 12/50\n",
            "625/625 [==============================] - 35s 56ms/step - loss: 0.2478 - accuracy: 0.8934 - val_loss: 0.4248 - val_accuracy: 0.8143\n",
            "Epoch 13/50\n",
            "625/625 [==============================] - 35s 56ms/step - loss: 0.2397 - accuracy: 0.8978 - val_loss: 0.4431 - val_accuracy: 0.8234\n",
            "Epoch 14/50\n",
            "625/625 [==============================] - 35s 57ms/step - loss: 0.2314 - accuracy: 0.9017 - val_loss: 0.4365 - val_accuracy: 0.8222\n",
            "Epoch 15/50\n",
            "625/625 [==============================] - 41s 66ms/step - loss: 0.2252 - accuracy: 0.9049 - val_loss: 0.4424 - val_accuracy: 0.8202\n",
            "Epoch 16/50\n",
            "625/625 [==============================] - 35s 57ms/step - loss: 0.2175 - accuracy: 0.9078 - val_loss: 0.4640 - val_accuracy: 0.8202\n",
            "Epoch 17/50\n",
            "625/625 [==============================] - 35s 56ms/step - loss: 0.2105 - accuracy: 0.9103 - val_loss: 0.4536 - val_accuracy: 0.8138\n",
            "Epoch 18/50\n",
            "625/625 [==============================] - 35s 56ms/step - loss: 0.2038 - accuracy: 0.9154 - val_loss: 0.4988 - val_accuracy: 0.8168\n",
            "Epoch 19/50\n",
            "625/625 [==============================] - 35s 55ms/step - loss: 0.1950 - accuracy: 0.9197 - val_loss: 0.4865 - val_accuracy: 0.8143\n",
            "Epoch 20/50\n",
            "625/625 [==============================] - 35s 56ms/step - loss: 0.1893 - accuracy: 0.9212 - val_loss: 0.5424 - val_accuracy: 0.8079\n",
            "Epoch 21/50\n",
            "625/625 [==============================] - 36s 57ms/step - loss: 0.1820 - accuracy: 0.9269 - val_loss: 0.5287 - val_accuracy: 0.8114\n",
            "Epoch 22/50\n",
            "625/625 [==============================] - 35s 56ms/step - loss: 0.1773 - accuracy: 0.9272 - val_loss: 0.5679 - val_accuracy: 0.8103\n",
            "Epoch 23/50\n",
            "625/625 [==============================] - 39s 62ms/step - loss: 0.1686 - accuracy: 0.9320 - val_loss: 0.6222 - val_accuracy: 0.8106\n",
            "Epoch 24/50\n",
            "625/625 [==============================] - 36s 58ms/step - loss: 0.1627 - accuracy: 0.9350 - val_loss: 0.6761 - val_accuracy: 0.8062\n",
            "Epoch 25/50\n",
            "625/625 [==============================] - 36s 58ms/step - loss: 0.1525 - accuracy: 0.9383 - val_loss: 0.6837 - val_accuracy: 0.8068\n",
            "Epoch 26/50\n",
            "625/625 [==============================] - 36s 58ms/step - loss: 0.1511 - accuracy: 0.9394 - val_loss: 0.6986 - val_accuracy: 0.8058\n",
            "Epoch 27/50\n",
            "625/625 [==============================] - 36s 58ms/step - loss: 0.1413 - accuracy: 0.9439 - val_loss: 0.7268 - val_accuracy: 0.8038\n",
            "Epoch 28/50\n",
            "625/625 [==============================] - 36s 58ms/step - loss: 0.1345 - accuracy: 0.9471 - val_loss: 0.8189 - val_accuracy: 0.8044\n",
            "Epoch 29/50\n",
            "625/625 [==============================] - 37s 59ms/step - loss: 0.1270 - accuracy: 0.9509 - val_loss: 0.8362 - val_accuracy: 0.8053\n",
            "Epoch 30/50\n",
            "625/625 [==============================] - 37s 59ms/step - loss: 0.1231 - accuracy: 0.9515 - val_loss: 0.8830 - val_accuracy: 0.8030\n",
            "Epoch 31/50\n",
            "625/625 [==============================] - 37s 59ms/step - loss: 0.1182 - accuracy: 0.9532 - val_loss: 0.8595 - val_accuracy: 0.7974\n",
            "Epoch 32/50\n",
            "625/625 [==============================] - 37s 59ms/step - loss: 0.1119 - accuracy: 0.9575 - val_loss: 0.8968 - val_accuracy: 0.7988\n",
            "Epoch 33/50\n",
            "625/625 [==============================] - 37s 59ms/step - loss: 0.1055 - accuracy: 0.9593 - val_loss: 0.9448 - val_accuracy: 0.7951\n",
            "Epoch 34/50\n",
            "625/625 [==============================] - 37s 59ms/step - loss: 0.1068 - accuracy: 0.9572 - val_loss: 0.9871 - val_accuracy: 0.7983\n",
            "Epoch 35/50\n",
            "625/625 [==============================] - 36s 58ms/step - loss: 0.0960 - accuracy: 0.9628 - val_loss: 1.0871 - val_accuracy: 0.7998\n",
            "Epoch 36/50\n",
            "625/625 [==============================] - 36s 58ms/step - loss: 0.0884 - accuracy: 0.9646 - val_loss: 1.0908 - val_accuracy: 0.7961\n",
            "Epoch 37/50\n",
            "625/625 [==============================] - 37s 59ms/step - loss: 0.0894 - accuracy: 0.9651 - val_loss: 1.1350 - val_accuracy: 0.7982\n",
            "Epoch 38/50\n",
            "625/625 [==============================] - 37s 59ms/step - loss: 0.0855 - accuracy: 0.9660 - val_loss: 1.2372 - val_accuracy: 0.7943\n",
            "Epoch 39/50\n",
            "625/625 [==============================] - 37s 59ms/step - loss: 0.0810 - accuracy: 0.9672 - val_loss: 1.4006 - val_accuracy: 0.8009\n",
            "Epoch 40/50\n",
            "625/625 [==============================] - 37s 59ms/step - loss: 0.0782 - accuracy: 0.9682 - val_loss: 1.3071 - val_accuracy: 0.7985\n",
            "Epoch 41/50\n",
            "625/625 [==============================] - 37s 59ms/step - loss: 0.0727 - accuracy: 0.9717 - val_loss: 1.3617 - val_accuracy: 0.7989\n",
            "Epoch 42/50\n",
            "625/625 [==============================] - 37s 58ms/step - loss: 0.0690 - accuracy: 0.9707 - val_loss: 1.3851 - val_accuracy: 0.7907\n",
            "Epoch 43/50\n",
            "625/625 [==============================] - 37s 59ms/step - loss: 0.0658 - accuracy: 0.9736 - val_loss: 1.4706 - val_accuracy: 0.7967\n",
            "Epoch 44/50\n",
            "625/625 [==============================] - 37s 59ms/step - loss: 0.0686 - accuracy: 0.9707 - val_loss: 1.4879 - val_accuracy: 0.7970\n",
            "Epoch 45/50\n",
            "625/625 [==============================] - 37s 59ms/step - loss: 0.0664 - accuracy: 0.9724 - val_loss: 1.5455 - val_accuracy: 0.7976\n",
            "Epoch 46/50\n",
            "625/625 [==============================] - 37s 59ms/step - loss: 0.0563 - accuracy: 0.9761 - val_loss: 1.6071 - val_accuracy: 0.7931\n",
            "Epoch 47/50\n",
            "625/625 [==============================] - 37s 59ms/step - loss: 0.0559 - accuracy: 0.9764 - val_loss: 1.6420 - val_accuracy: 0.7988\n",
            "Epoch 48/50\n",
            "625/625 [==============================] - 36s 58ms/step - loss: 0.0594 - accuracy: 0.9757 - val_loss: 1.6132 - val_accuracy: 0.7965\n",
            "Epoch 49/50\n",
            "625/625 [==============================] - 36s 58ms/step - loss: 0.0561 - accuracy: 0.9762 - val_loss: 1.7833 - val_accuracy: 0.7964\n",
            "Epoch 50/50\n",
            "625/625 [==============================] - 36s 58ms/step - loss: 0.0499 - accuracy: 0.9786 - val_loss: 1.8014 - val_accuracy: 0.7992\n"
          ],
          "name": "stdout"
        }
      ]
    },
    {
      "cell_type": "code",
      "metadata": {
        "id": "aQGaFY8RZou1",
        "colab_type": "code",
        "colab": {}
      },
      "source": [
        "import matplotlib.pyplot as plt \n",
        "\n",
        "def plot_graphs(history, string):\n",
        "  plt.plot(history.history[string])\n",
        "  plt.plot(history.history[\"val_\"+string])\n",
        "  plt.xlabel(\"Epochs\")\n",
        "  plt.ylabel(string)\n",
        "  plt.legend([string, \"val_\"+string])\n",
        "  plt.show()"
      ],
      "execution_count": 0,
      "outputs": []
    },
    {
      "cell_type": "code",
      "metadata": {
        "id": "BcnTdjq5bdBM",
        "colab_type": "code",
        "colab": {
          "base_uri": "https://localhost:8080/",
          "height": 541
        },
        "outputId": "9c63b390-75da-4698-e184-fe0e1421cb53"
      },
      "source": [
        "plot_graphs(history, \"accuracy\")\n",
        "plot_graphs(history, \"loss\")"
      ],
      "execution_count": 50,
      "outputs": [
        {
          "output_type": "display_data",
          "data": {
            "image/png": "[encoded data removed]",
            "text/plain": [
              "<Figure size 432x288 with 1 Axes>"
            ]
          },
          "metadata": {
            "tags": [],
            "needs_background": "light"
          }
        },
        {
          "output_type": "display_data",
          "data": {
            "image/png": "[encoded data removed]",
            "text/plain": [
              "<Figure size 432x288 with 1 Axes>"
            ]
          },
          "metadata": {
            "tags": [],
            "needs_background": "light"
          }
        }
      ]
    },
    {
      "cell_type": "code",
      "metadata": {
        "id": "qcMm8-kdbxsu",
        "colab_type": "code",
        "colab": {}
      },
      "source": [
        "model.save(\"test.h5\")"
      ],
      "execution_count": 0,
      "outputs": []
    },
    {
      "cell_type": "markdown",
      "metadata": {
        "id": "StTu0TSLc1oW",
        "colab_type": "text"
      },
      "source": [
        "# Model with Conv1D"
      ]
    },
    {
      "cell_type": "code",
      "metadata": {
        "id": "zBgyu78OUWQe",
        "colab_type": "code",
        "colab": {}
      },
      "source": [
        "import json\n",
        "import tensorflow as tf\n",
        "\n",
        "from tensorflow.keras.preprocessing.text import Tokenizer\n",
        "from tensorflow.keras.preprocessing.sequence import pad_sequences"
      ],
      "execution_count": 0,
      "outputs": []
    },
    {
      "cell_type": "code",
      "metadata": {
        "id": "ehOhJCf_UX4X",
        "colab_type": "code",
        "colab": {
          "base_uri": "https://localhost:8080/",
          "height": 232
        },
        "outputId": "fb1c24aa-a0bc-4c24-9201-f5cbdb55d20d"
      },
      "source": [
        "!wget --no-check-certificate \\\n",
        "    https://storage.googleapis.com/laurencemoroney-blog.appspot.com/sarcasm.json \\\n",
        "    -O /tmp/sarcasm.json"
      ],
      "execution_count": 19,
      "outputs": [
        {
          "output_type": "stream",
          "text": [
            "--2020-05-21 08:21:28--  https://storage.googleapis.com/laurencemoroney-blog.appspot.com/sarcasm.json\n",
            "Resolving storage.googleapis.com (storage.googleapis.com)... 173.194.216.128, 2607:f8b0:400c:c15::80\n",
            "Connecting to storage.googleapis.com (storage.googleapis.com)|173.194.216.128|:443... connected.\n",
            "HTTP request sent, awaiting response... 200 OK\n",
            "Length: 5643545 (5.4M) [application/json]\n",
            "Saving to: ‘/tmp/sarcasm.json’\n",
            "\n",
            "\r/tmp/sarcasm.json     0%[                    ]       0  --.-KB/s               \r/tmp/sarcasm.json   100%[===================>]   5.38M  --.-KB/s    in 0.05s   \n",
            "\n",
            "2020-05-21 08:21:28 (108 MB/s) - ‘/tmp/sarcasm.json’ saved [5643545/5643545]\n",
            "\n"
          ],
          "name": "stdout"
        }
      ]
    },
    {
      "cell_type": "code",
      "metadata": {
        "id": "r-7np314Uall",
        "colab_type": "code",
        "colab": {}
      },
      "source": [
        "vocab_size = 1000\n",
        "embedding_dim = 16\n",
        "max_length = 120\n",
        "trunc_type='post'\n",
        "padding_type='post'\n",
        "oov_tok = \"<OOV>\"\n",
        "training_size = 20000"
      ],
      "execution_count": 0,
      "outputs": []
    },
    {
      "cell_type": "code",
      "metadata": {
        "id": "RtuC3BNiUgAD",
        "colab_type": "code",
        "colab": {}
      },
      "source": [
        "with open(\"/tmp/sarcasm.json\", 'r') as f:\n",
        "    datastore = json.load(f)\n",
        "\n",
        "\n",
        "sentences = []\n",
        "labels = []\n",
        "urls = []\n",
        "for item in datastore:\n",
        "    sentences.append(item['headline'])\n",
        "    labels.append(item['is_sarcastic'])"
      ],
      "execution_count": 0,
      "outputs": []
    },
    {
      "cell_type": "code",
      "metadata": {
        "id": "GLAacbZ8Ujmw",
        "colab_type": "code",
        "colab": {}
      },
      "source": [
        "training_sentences = sentences[0:training_size]\n",
        "testing_sentences = sentences[training_size:]\n",
        "training_labels = np.array(labels[0:training_size])\n",
        "testing_labels = np.array(labels[training_size:])\n",
        "\n",
        "tokenizer = Tokenizer(num_words=vocab_size, oov_token=oov_tok)\n",
        "tokenizer.fit_on_texts(training_sentences)\n",
        "\n",
        "word_index = tokenizer.word_index\n",
        "\n",
        "training_sequences = np.array(tokenizer.texts_to_sequences(training_sentences))\n",
        "training_padded = np.array(pad_sequences(training_sequences, \n",
        "                                maxlen=max_length, padding=padding_type, \n",
        "                                truncating=trunc_type))\n",
        "\n",
        "testing_sequences = np.array(tokenizer.texts_to_sequences(testing_sentences))\n",
        "testing_padded = np.array(pad_sequences(testing_sequences, maxlen=max_length, \n",
        "                                        padding=padding_type, \n",
        "                                        truncating=trunc_type))"
      ],
      "execution_count": 0,
      "outputs": []
    },
    {
      "cell_type": "code",
      "metadata": {
        "id": "s0RauuYXdS5O",
        "colab_type": "code",
        "colab": {
          "base_uri": "https://localhost:8080/",
          "height": 337
        },
        "outputId": "993b0d92-a19f-47d4-9376-afd2b90be82a"
      },
      "source": [
        "model2 = tf.keras.Sequential([\n",
        "    tf.keras.layers.Embedding(vocab_size, embedding_dim, input_length=max_length),\n",
        "    tf.keras.layers.Conv1D(128, 5, activation='relu'),\n",
        "    tf.keras.layers.GlobalMaxPooling1D(), \n",
        "    tf.keras.layers.Dense(24, activation='relu'),\n",
        "    tf.keras.layers.Dense(1, activation='sigmoid')\n",
        "])\n",
        "model2.compile(loss='binary_crossentropy',optimizer='adam',metrics=['accuracy'])\n",
        "model2.summary()"
      ],
      "execution_count": 32,
      "outputs": [
        {
          "output_type": "stream",
          "text": [
            "Model: \"sequential_6\"\n",
            "_________________________________________________________________\n",
            "Layer (type)                 Output Shape              Param #   \n",
            "=================================================================\n",
            "embedding_6 (Embedding)      (None, 120, 16)           16000     \n",
            "_________________________________________________________________\n",
            "conv1d_5 (Conv1D)            (None, 116, 128)          10368     \n",
            "_________________________________________________________________\n",
            "global_max_pooling1d_5 (Glob (None, 128)               0         \n",
            "_________________________________________________________________\n",
            "dense_12 (Dense)             (None, 24)                3096      \n",
            "_________________________________________________________________\n",
            "dense_13 (Dense)             (None, 1)                 25        \n",
            "=================================================================\n",
            "Total params: 29,489\n",
            "Trainable params: 29,489\n",
            "Non-trainable params: 0\n",
            "_________________________________________________________________\n"
          ],
          "name": "stdout"
        }
      ]
    },
    {
      "cell_type": "code",
      "metadata": {
        "id": "z4CTBFYaTo-p",
        "colab_type": "code",
        "colab": {
          "base_uri": "https://localhost:8080/",
          "height": 1000
        },
        "outputId": "ca11599b-9b36-422e-b5a5-fdf03ee0e048"
      },
      "source": [
        "num_epochs = 50 \n",
        "history2 = model2.fit(training_padded,\n",
        "                    training_labels,\n",
        "                    epochs = num_epochs,\n",
        "                    validation_data =(testing_padded, testing_labels),\n",
        "                    verbose =1)"
      ],
      "execution_count": 33,
      "outputs": [
        {
          "output_type": "stream",
          "text": [
            "Epoch 1/50\n",
            "625/625 [==============================] - 8s 12ms/step - loss: 0.4757 - accuracy: 0.7625 - val_loss: 0.4195 - val_accuracy: 0.8092\n",
            "Epoch 2/50\n",
            "625/625 [==============================] - 8s 12ms/step - loss: 0.3580 - accuracy: 0.8381 - val_loss: 0.4043 - val_accuracy: 0.8159\n",
            "Epoch 3/50\n",
            "625/625 [==============================] - 8s 12ms/step - loss: 0.3184 - accuracy: 0.8591 - val_loss: 0.4102 - val_accuracy: 0.8159\n",
            "Epoch 4/50\n",
            "625/625 [==============================] - 8s 12ms/step - loss: 0.2822 - accuracy: 0.8801 - val_loss: 0.4109 - val_accuracy: 0.8161\n",
            "Epoch 5/50\n",
            "625/625 [==============================] - 8s 12ms/step - loss: 0.2501 - accuracy: 0.8941 - val_loss: 0.4345 - val_accuracy: 0.8144\n",
            "Epoch 6/50\n",
            "625/625 [==============================] - 8s 12ms/step - loss: 0.2123 - accuracy: 0.9150 - val_loss: 0.4743 - val_accuracy: 0.8059\n",
            "Epoch 7/50\n",
            "625/625 [==============================] - 8s 12ms/step - loss: 0.1815 - accuracy: 0.9307 - val_loss: 0.5133 - val_accuracy: 0.8131\n",
            "Epoch 8/50\n",
            "625/625 [==============================] - 8s 12ms/step - loss: 0.1498 - accuracy: 0.9449 - val_loss: 0.5974 - val_accuracy: 0.8031\n",
            "Epoch 9/50\n",
            "625/625 [==============================] - 8s 12ms/step - loss: 0.1237 - accuracy: 0.9549 - val_loss: 0.6586 - val_accuracy: 0.8012\n",
            "Epoch 10/50\n",
            "625/625 [==============================] - 8s 12ms/step - loss: 0.1036 - accuracy: 0.9632 - val_loss: 0.7601 - val_accuracy: 0.7982\n",
            "Epoch 11/50\n",
            "625/625 [==============================] - 8s 12ms/step - loss: 0.0836 - accuracy: 0.9692 - val_loss: 0.8401 - val_accuracy: 0.7892\n",
            "Epoch 12/50\n",
            "625/625 [==============================] - 8s 12ms/step - loss: 0.0707 - accuracy: 0.9758 - val_loss: 0.9431 - val_accuracy: 0.7857\n",
            "Epoch 13/50\n",
            "625/625 [==============================] - 8s 12ms/step - loss: 0.0602 - accuracy: 0.9791 - val_loss: 1.0215 - val_accuracy: 0.7886\n",
            "Epoch 14/50\n",
            "625/625 [==============================] - 8s 12ms/step - loss: 0.0553 - accuracy: 0.9801 - val_loss: 1.1079 - val_accuracy: 0.7898\n",
            "Epoch 15/50\n",
            "625/625 [==============================] - 8s 12ms/step - loss: 0.0517 - accuracy: 0.9811 - val_loss: 1.1624 - val_accuracy: 0.7815\n",
            "Epoch 16/50\n",
            "625/625 [==============================] - 8s 12ms/step - loss: 0.0459 - accuracy: 0.9829 - val_loss: 1.2297 - val_accuracy: 0.7872\n",
            "Epoch 17/50\n",
            "625/625 [==============================] - 8s 12ms/step - loss: 0.0402 - accuracy: 0.9848 - val_loss: 1.3444 - val_accuracy: 0.7834\n",
            "Epoch 18/50\n",
            "625/625 [==============================] - 7s 12ms/step - loss: 0.0378 - accuracy: 0.9861 - val_loss: 1.4669 - val_accuracy: 0.7866\n",
            "Epoch 19/50\n",
            "625/625 [==============================] - 7s 12ms/step - loss: 0.0366 - accuracy: 0.9860 - val_loss: 1.4906 - val_accuracy: 0.7766\n",
            "Epoch 20/50\n",
            "625/625 [==============================] - 7s 12ms/step - loss: 0.0347 - accuracy: 0.9859 - val_loss: 1.5623 - val_accuracy: 0.7812\n",
            "Epoch 21/50\n",
            "625/625 [==============================] - 7s 12ms/step - loss: 0.0349 - accuracy: 0.9862 - val_loss: 1.6063 - val_accuracy: 0.7897\n",
            "Epoch 22/50\n",
            "625/625 [==============================] - 7s 12ms/step - loss: 0.0385 - accuracy: 0.9844 - val_loss: 1.6955 - val_accuracy: 0.7830\n",
            "Epoch 23/50\n",
            "625/625 [==============================] - 7s 12ms/step - loss: 0.0305 - accuracy: 0.9886 - val_loss: 1.7531 - val_accuracy: 0.7801\n",
            "Epoch 24/50\n",
            "625/625 [==============================] - 8s 12ms/step - loss: 0.0273 - accuracy: 0.9896 - val_loss: 1.7686 - val_accuracy: 0.7785\n",
            "Epoch 25/50\n",
            "625/625 [==============================] - 8s 12ms/step - loss: 0.0252 - accuracy: 0.9891 - val_loss: 1.9012 - val_accuracy: 0.7860\n",
            "Epoch 26/50\n",
            "625/625 [==============================] - 8s 12ms/step - loss: 0.0287 - accuracy: 0.9880 - val_loss: 1.8938 - val_accuracy: 0.7798\n",
            "Epoch 27/50\n",
            "625/625 [==============================] - 8s 12ms/step - loss: 0.0301 - accuracy: 0.9875 - val_loss: 1.8802 - val_accuracy: 0.7860\n",
            "Epoch 28/50\n",
            "625/625 [==============================] - 8s 12ms/step - loss: 0.0332 - accuracy: 0.9872 - val_loss: 1.8653 - val_accuracy: 0.7827\n",
            "Epoch 29/50\n",
            "625/625 [==============================] - 8s 12ms/step - loss: 0.0252 - accuracy: 0.9895 - val_loss: 1.9892 - val_accuracy: 0.7803\n",
            "Epoch 30/50\n",
            "625/625 [==============================] - 8s 12ms/step - loss: 0.0205 - accuracy: 0.9914 - val_loss: 2.1104 - val_accuracy: 0.7869\n",
            "Epoch 31/50\n",
            "625/625 [==============================] - 8s 12ms/step - loss: 0.0199 - accuracy: 0.9922 - val_loss: 2.1154 - val_accuracy: 0.7836\n",
            "Epoch 32/50\n",
            "625/625 [==============================] - 8s 12ms/step - loss: 0.0200 - accuracy: 0.9916 - val_loss: 2.1954 - val_accuracy: 0.7803\n",
            "Epoch 33/50\n",
            "625/625 [==============================] - 8s 12ms/step - loss: 0.0361 - accuracy: 0.9858 - val_loss: 2.0221 - val_accuracy: 0.7824\n",
            "Epoch 34/50\n",
            "625/625 [==============================] - 8s 12ms/step - loss: 0.0271 - accuracy: 0.9891 - val_loss: 2.1468 - val_accuracy: 0.7836\n",
            "Epoch 35/50\n",
            "625/625 [==============================] - 8s 12ms/step - loss: 0.0217 - accuracy: 0.9905 - val_loss: 2.1994 - val_accuracy: 0.7846\n",
            "Epoch 36/50\n",
            "625/625 [==============================] - 8s 13ms/step - loss: 0.0211 - accuracy: 0.9904 - val_loss: 2.3286 - val_accuracy: 0.7848\n",
            "Epoch 37/50\n",
            "625/625 [==============================] - 8s 13ms/step - loss: 0.0220 - accuracy: 0.9908 - val_loss: 2.2916 - val_accuracy: 0.7866\n",
            "Epoch 38/50\n",
            "625/625 [==============================] - 8s 12ms/step - loss: 0.0206 - accuracy: 0.9913 - val_loss: 2.4110 - val_accuracy: 0.7807\n",
            "Epoch 39/50\n",
            "625/625 [==============================] - 8s 12ms/step - loss: 0.0226 - accuracy: 0.9904 - val_loss: 2.3891 - val_accuracy: 0.7773\n",
            "Epoch 40/50\n",
            "625/625 [==============================] - 8s 12ms/step - loss: 0.0305 - accuracy: 0.9878 - val_loss: 2.4148 - val_accuracy: 0.7809\n",
            "Epoch 41/50\n",
            "625/625 [==============================] - 8s 12ms/step - loss: 0.0226 - accuracy: 0.9904 - val_loss: 2.4843 - val_accuracy: 0.7833\n",
            "Epoch 42/50\n",
            "625/625 [==============================] - 8s 12ms/step - loss: 0.0238 - accuracy: 0.9890 - val_loss: 2.4238 - val_accuracy: 0.7824\n",
            "Epoch 43/50\n",
            "625/625 [==============================] - 8s 12ms/step - loss: 0.0216 - accuracy: 0.9906 - val_loss: 2.3651 - val_accuracy: 0.7790\n",
            "Epoch 44/50\n",
            "625/625 [==============================] - 8s 12ms/step - loss: 0.0174 - accuracy: 0.9920 - val_loss: 2.4556 - val_accuracy: 0.7857\n",
            "Epoch 45/50\n",
            "625/625 [==============================] - 8s 12ms/step - loss: 0.0237 - accuracy: 0.9897 - val_loss: 2.5287 - val_accuracy: 0.7801\n",
            "Epoch 46/50\n",
            "625/625 [==============================] - 8s 12ms/step - loss: 0.0234 - accuracy: 0.9898 - val_loss: 2.5918 - val_accuracy: 0.7806\n",
            "Epoch 47/50\n",
            "625/625 [==============================] - 8s 12ms/step - loss: 0.0196 - accuracy: 0.9919 - val_loss: 2.4368 - val_accuracy: 0.7788\n",
            "Epoch 48/50\n",
            "625/625 [==============================] - 8s 12ms/step - loss: 0.0176 - accuracy: 0.9923 - val_loss: 2.5852 - val_accuracy: 0.7816\n",
            "Epoch 49/50\n",
            "625/625 [==============================] - 8s 12ms/step - loss: 0.0191 - accuracy: 0.9915 - val_loss: 2.5509 - val_accuracy: 0.7821\n",
            "Epoch 50/50\n",
            "625/625 [==============================] - 8s 12ms/step - loss: 0.0256 - accuracy: 0.9892 - val_loss: 2.5753 - val_accuracy: 0.7827\n"
          ],
          "name": "stdout"
        }
      ]
    },
    {
      "cell_type": "code",
      "metadata": {
        "id": "bTDCLCGxdays",
        "colab_type": "code",
        "colab": {
          "base_uri": "https://localhost:8080/",
          "height": 542
        },
        "outputId": "032d2fd9-1538-4c92-bcab-6c1b7d2bdaab"
      },
      "source": [
        "import matplotlib.pyplot as plt\n",
        "\n",
        "\n",
        "def plot_graphs(history, string):\n",
        "  plt.plot(history.history[string])\n",
        "  plt.plot(history.history['val_'+string])\n",
        "  plt.xlabel(\"Epochs\")\n",
        "  plt.ylabel(string)\n",
        "  plt.legend([string, 'val_'+string])\n",
        "  plt.show()\n",
        "\n",
        "plot_graphs(history2, 'accuracy')\n",
        "plot_graphs(history2, 'loss')"
      ],
      "execution_count": 36,
      "outputs": [
        {
          "output_type": "display_data",
          "data": {
            "image/png": "[encoded data removed]",
            "text/plain": [
              "<Figure size 432x288 with 1 Axes>"
            ]
          },
          "metadata": {
            "tags": [],
            "needs_background": "light"
          }
        },
        {
          "output_type": "display_data",
          "data": {
            "image/png": "[encoded data removed]",
            "text/plain": [
              "<Figure size 432x288 with 1 Axes>"
            ]
          },
          "metadata": {
            "tags": [],
            "needs_background": "light"
          }
        }
      ]
    },
    {
      "cell_type": "code",
      "metadata": {
        "id": "EelfenGbdd_B",
        "colab_type": "code",
        "colab": {}
      },
      "source": [
        "model.save(\"test2.h5\")"
      ],
      "execution_count": 0,
      "outputs": []
    },
    {
      "cell_type": "code",
      "metadata": {
        "id": "eudrN69ag7pA",
        "colab_type": "code",
        "colab": {}
      },
      "source": [
        ""
      ],
      "execution_count": 0,
      "outputs": []
    }
  ]
}
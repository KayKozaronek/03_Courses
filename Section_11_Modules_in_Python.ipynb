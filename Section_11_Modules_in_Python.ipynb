{
  "nbformat": 4,
  "nbformat_minor": 0,
  "metadata": {
    "colab": {
      "name": "Section 11: Modules in Python.ipynb",
      "provenance": [],
      "authorship_tag": "ABX9TyM7w9QeY9hfL0l3QkJGkUAY",
      "include_colab_link": true
    },
    "kernelspec": {
      "name": "python3",
      "display_name": "Python 3"
    }
  },
  "cells": [
    {
      "cell_type": "markdown",
      "metadata": {
        "id": "view-in-github",
        "colab_type": "text"
      },
      "source": [
        "<a href=\"https://colab.research.google.com/github/KayKozaronek/03_Courses/blob/master/Section_11_Modules_in_Python.ipynb\" target=\"_parent\"><img src=\"https://colab.research.google.com/assets/colab-badge.svg\" alt=\"Open In Colab\"/></a>"
      ]
    },
    {
      "cell_type": "markdown",
      "metadata": {
        "id": "3a2pKZeGF0t7",
        "colab_type": "text"
      },
      "source": [
        "#Section 11: Modules in Python\n",
        "\n",
        "Thus far we have seen the following methods of keeping our code clean and readable:\n",
        "\n",
        "Python File:\n",
        "- Funcitons\n",
        "- Classes (Blueprints for objects)\n",
        "Those are only on one Python file though\n",
        "\n",
        "If we want to organize multiple files we can link these files by using:\n",
        "- modules (each `.py` file is a module)\n",
        "\n",
        "We can use the functions defined in a module by importing the file e.g. `module` like so:\n",
        "\n",
        "`import module`\n"
      ]
    },
    {
      "cell_type": "markdown",
      "metadata": {
        "id": "Gho5py51F8IP",
        "colab_type": "text"
      },
      "source": [
        "# Packages\n",
        "What happens if our project gets even bigger? \n",
        "\n",
        "Well, we can create folders e.g. `packages` and import files e.g. `modules`from them like so:\n",
        "- `import.package.module`\n",
        "- or `from package import module`"
      ]
    },
    {
      "cell_type": "markdown",
      "metadata": {
        "id": "QwXfuK6qJeGd",
        "colab_type": "text"
      },
      "source": [
        "# Pycharm \n",
        "\n",
        "Let's go over to PyCharm to create a new project and make use of what we've just learned"
      ]
    },
    {
      "cell_type": "code",
      "metadata": {
        "id": "dB3lLuDtJ2S3",
        "colab_type": "code",
        "colab": {}
      },
      "source": [
        ""
      ],
      "execution_count": 0,
      "outputs": []
    }
  ]
}
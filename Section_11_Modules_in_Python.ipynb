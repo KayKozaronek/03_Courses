{
  "nbformat": 4,
  "nbformat_minor": 0,
  "metadata": {
    "colab": {
      "name": "Section 11: Modules in Python.ipynb",
      "provenance": [],
      "authorship_tag": "ABX9TyPHikvDE1XCn7Oz4MoCChaM",
      "include_colab_link": true
    },
    "kernelspec": {
      "name": "python3",
      "display_name": "Python 3"
    }
  },
  "cells": [
    {
      "cell_type": "markdown",
      "metadata": {
        "id": "view-in-github",
        "colab_type": "text"
      },
      "source": [
        "<a href=\"https://colab.research.google.com/github/KayKozaronek/03_Courses/blob/master/Section_11_Modules_in_Python.ipynb\" target=\"_parent\"><img src=\"https://colab.research.google.com/assets/colab-badge.svg\" alt=\"Open In Colab\"/></a>"
      ]
    },
    {
      "cell_type": "markdown",
      "metadata": {
        "id": "3a2pKZeGF0t7",
        "colab_type": "text"
      },
      "source": [
        "#Section 11: Modules in Python\n",
        "\n",
        "Thus far we have seen the following methods of keeping our code clean and readable:\n",
        "\n",
        "Python File:\n",
        "- Funcitons\n",
        "- Classes (Blueprints for objects)\n",
        "Those are only on one Python file though\n",
        "\n",
        "If we want to organize multiple files we can link these files by using:\n",
        "- modules (each `.py` file is a module)\n",
        "\n",
        "We can use the functions defined in a module by importing the file e.g. `module` like so:\n",
        "\n",
        "`import module`\n"
      ]
    },
    {
      "cell_type": "markdown",
      "metadata": {
        "id": "Gho5py51F8IP",
        "colab_type": "text"
      },
      "source": [
        "# Packages\n",
        "What happens if our project gets even bigger? \n",
        "\n",
        "Well, we can create folders e.g. `packages` and import files e.g. `modules`from them like so:\n",
        "- `import.package.module`\n",
        "- or `from package import module`"
      ]
    },
    {
      "cell_type": "markdown",
      "metadata": {
        "id": "QwXfuK6qJeGd",
        "colab_type": "text"
      },
      "source": [
        "# Pycharm \n",
        "\n",
        "Let's go over to PyCharm to create a new project and make use of what we've just learned\n",
        "\n",
        "You can find the project under the following filepath \n",
        "\n",
        "`C:\\Users\\Win 10\\PycharmProjects\\Modules`"
      ]
    },
    {
      "cell_type": "markdown",
      "metadata": {
        "id": "WXnqCbq459Ye",
        "colab_type": "text"
      },
      "source": [
        "## Where to find Packages and modules\n",
        "- First look at the Python documentation\n",
        "https://docs.python.org/3/py-modindex.html\n",
        "- If you don'f find what you're looking for try pypi.\n",
        "https://pypi.org/\n",
        "\n",
        "This allows you to stand on the shoulders of giants and reuse code that others put much thought into. \n",
        "Some examples of well known libraries are:\n",
        "- Numpy\n",
        "- Pandas\n",
        "- Tensorflow\n",
        "- Matplotlib"
      ]
    },
    {
      "cell_type": "markdown",
      "metadata": {
        "id": "dB3lLuDtJ2S3",
        "colab_type": "text"
      },
      "source": [
        "## Pip install\n",
        "Let's try and install a package from scratch.\n",
        "Let's install `pyjokes`\n"
      ]
    },
    {
      "cell_type": "code",
      "metadata": {
        "id": "MnVbktb2-AFv",
        "colab_type": "code",
        "colab": {
          "base_uri": "https://localhost:8080/",
          "height": 108
        },
        "outputId": "c0eff01e-489b-428e-cd01-57ef58aedf3d"
      },
      "source": [
        "pip install pyjokes"
      ],
      "execution_count": 2,
      "outputs": [
        {
          "output_type": "stream",
          "text": [
            "Collecting pyjokes\n",
            "  Downloading https://files.pythonhosted.org/packages/6a/0e/4a824a4fc93b9725a985fcea7115927b72f2ca6966008300a982cb869720/pyjokes-0.6.0-py2.py3-none-any.whl\n",
            "Installing collected packages: pyjokes\n",
            "Successfully installed pyjokes-0.6.0\n"
          ],
          "name": "stdout"
        }
      ]
    },
    {
      "cell_type": "code",
      "metadata": {
        "id": "YELU8Fg4-CSW",
        "colab_type": "code",
        "colab": {
          "base_uri": "https://localhost:8080/",
          "height": 35
        },
        "outputId": "dc2366b8-df48-4f83-bd8a-1d79585e7ffb"
      },
      "source": [
        "import pyjokes\n",
        "print(pyjokes.get_joke(\"en\"))"
      ],
      "execution_count": 6,
      "outputs": [
        {
          "output_type": "stream",
          "text": [
            "Why do programmers confuse Halloween with Christmas? Because OCT 31 == DEC 25.\n"
          ],
          "name": "stdout"
        }
      ]
    },
    {
      "cell_type": "markdown",
      "metadata": {
        "id": "oOlDA-ji-W2c",
        "colab_type": "text"
      },
      "source": [
        "## Virtual Environments\n",
        "Remember the venv folder i our Pycharm IDE? this is a virtual environment created by Python.\n",
        "\n",
        "Upon creating a new Project, we will initialize it with a virutal environment. This allows us to have specific versions of specific packages that we will install during our project, seperately for each project.\n"
      ]
    },
    {
      "cell_type": "markdown",
      "metadata": {
        "id": "giRnOe4PAcAb",
        "colab_type": "text"
      },
      "source": [
        "## Useful Modules\n",
        "There are standard datatypes:\n",
        "- str, list, tuple, dict, set, int, float, None, Bool\n",
        "\n",
        "Custom Types:\n",
        "- we can make our own with the tools we learned in OOP\n",
        "\n",
        "Specialized Data Types:\n",
        "- Those are embedded in some Python packages.\n",
        "\n",
        "Let's see some useful ones. \n"
      ]
    },
    {
      "cell_type": "code",
      "metadata": {
        "id": "_jKzDCpGBEH0",
        "colab_type": "code",
        "colab": {
          "base_uri": "https://localhost:8080/",
          "height": 72
        },
        "outputId": "5dd2ec4e-b18c-4cce-e79d-b09cd7c285f5"
      },
      "source": [
        "from collections import Counter, defaultdict, OrderedDict\n",
        "\n",
        "li = [1,2,3,4,5,6,7, 7]\n",
        "sentence = \"blah blah blah, thinking about python\"\n",
        "\n",
        "# Creates a hashmap/ dictionary that can help us with optimization problems\n",
        "print(Counter(li))\n",
        "print(Counter(sentence))"
      ],
      "execution_count": 11,
      "outputs": [
        {
          "output_type": "stream",
          "text": [
            "Counter({7: 2, 1: 1, 2: 1, 3: 1, 4: 1, 5: 1, 6: 1})\n",
            "Counter({'h': 5, ' ': 5, 'b': 4, 'a': 4, 'l': 3, 't': 3, 'n': 3, 'i': 2, 'o': 2, ',': 1, 'k': 1, 'g': 1, 'u': 1, 'p': 1, 'y': 1})\n"
          ],
          "name": "stdout"
        }
      ]
    },
    {
      "cell_type": "code",
      "metadata": {
        "id": "mwmPmT7dCaZe",
        "colab_type": "code",
        "colab": {
          "base_uri": "https://localhost:8080/",
          "height": 35
        },
        "outputId": "5233794f-01af-4eb3-dda4-95585a14cc5e"
      },
      "source": [
        "# Give defaultdict a callable object which it returrns, when given an invalid key\n",
        "dictionary = defaultdict(lambda: \"does not exist\",\n",
        "                         {\"a\":1, \"b\":2})\n",
        "\n",
        "dictionary[\"c\"]"
      ],
      "execution_count": 19,
      "outputs": [
        {
          "output_type": "execute_result",
          "data": {
            "text/plain": [
              "'does not exist'"
            ]
          },
          "metadata": {
            "tags": []
          },
          "execution_count": 19
        }
      ]
    },
    {
      "cell_type": "code",
      "metadata": {
        "id": "3MnvhwVeC4CG",
        "colab_type": "code",
        "colab": {
          "base_uri": "https://localhost:8080/",
          "height": 52
        },
        "outputId": "0e0f53c0-3939-4fa4-b3cc-552985c38cc5"
      },
      "source": [
        "# Ordered Dict retrains the order you insert into a dictionary\n",
        "\n",
        "d= OrderedDict()\n",
        "d[\"a\"] = 1\n",
        "d[\"b\"] = 2\n",
        "\n",
        "d2= OrderedDict()\n",
        "d2[\"a\"] = 1\n",
        "d2[\"b\"] = 2\n",
        "\n",
        "print(d2==d)\n",
        "\n",
        "# Let's switch up the order\n",
        "d2= OrderedDict()\n",
        "d2[\"b\"] = 2\n",
        "d2[\"a\"] = 1\n",
        "\n",
        "print(d2==d)"
      ],
      "execution_count": 21,
      "outputs": [
        {
          "output_type": "stream",
          "text": [
            "True\n",
            "False\n"
          ],
          "name": "stdout"
        }
      ]
    },
    {
      "cell_type": "markdown",
      "metadata": {
        "id": "6Ma8ATfCEO_q",
        "colab_type": "text"
      },
      "source": [
        "**TIDBIT**\n",
        "\n",
        "Recently, the Python has made Dictionaries ordered by default! So unless you need to maintain older version of Python (older than 3.7), you no longer need to use ordered dict, you can just use regular dictionaries!\n",
        "\n",
        "You can read more about it here:  https://softwaremaniacs.org/blog/2020/02/05/dicts-ordered/en/"
      ]
    },
    {
      "cell_type": "markdown",
      "metadata": {
        "id": "tyF3uQ4_Dy1J",
        "colab_type": "text"
      },
      "source": [
        "## Datetime module\n"
      ]
    },
    {
      "cell_type": "code",
      "metadata": {
        "id": "24oz_DzqEjmo",
        "colab_type": "code",
        "colab": {
          "base_uri": "https://localhost:8080/",
          "height": 35
        },
        "outputId": "2a5553f6-7fa9-407c-bda4-9854021c3be4"
      },
      "source": [
        "import datetime \n",
        "\n",
        "# We can create time objects\n",
        "print(datetime.time())"
      ],
      "execution_count": 22,
      "outputs": [
        {
          "output_type": "stream",
          "text": [
            "00:00:00\n"
          ],
          "name": "stdout"
        }
      ]
    },
    {
      "cell_type": "code",
      "metadata": {
        "id": "Y69bRDLxEo8k",
        "colab_type": "code",
        "colab": {
          "base_uri": "https://localhost:8080/",
          "height": 35
        },
        "outputId": "8867cade-564b-43c3-86d4-e5d8345335b4"
      },
      "source": [
        "print(datetime.time(5,45,2))"
      ],
      "execution_count": 23,
      "outputs": [
        {
          "output_type": "stream",
          "text": [
            "05:45:02\n"
          ],
          "name": "stdout"
        }
      ]
    },
    {
      "cell_type": "code",
      "metadata": {
        "id": "OMH9tPwdEuYI",
        "colab_type": "code",
        "colab": {
          "base_uri": "https://localhost:8080/",
          "height": 35
        },
        "outputId": "12ff82d2-5b4e-4f7d-c875-345b4a93e118"
      },
      "source": [
        "# We can create dates\n",
        "print(datetime.date.today())"
      ],
      "execution_count": 24,
      "outputs": [
        {
          "output_type": "stream",
          "text": [
            "2020-05-01\n"
          ],
          "name": "stdout"
        }
      ]
    },
    {
      "cell_type": "markdown",
      "metadata": {
        "id": "9dRQuBv0Fg_T",
        "colab_type": "text"
      },
      "source": [
        "## Time module"
      ]
    },
    {
      "cell_type": "code",
      "metadata": {
        "id": "3bUtFshQE3Ew",
        "colab_type": "code",
        "colab": {}
      },
      "source": [
        "# Remember the performance decorator? \n",
        "\n",
        "from time import time \n",
        "def performance(fn):\n",
        "  def wrapper(*args, **kwargs):\n",
        "    t1 = time(),\n",
        "    result = fn(*args,**kwargs),\n",
        "    t2 =time(),\n",
        "    print(f\"Took {f2-f1}\")\n",
        "    return result\n",
        "  return wrapper\n",
        "\n",
        "@performance \n",
        "def long_time():\n",
        "  for i in range(100000):\n",
        "    i*5"
      ],
      "execution_count": 0,
      "outputs": []
    },
    {
      "cell_type": "markdown",
      "metadata": {
        "id": "TEfYZkgyFY51",
        "colab_type": "text"
      },
      "source": [
        "## Array\n",
        "\n",
        "Lists in python are sometimes called arrays in other programming languages, but they are different.\n",
        "\n",
        "Arrays take up less memory and are faster"
      ]
    },
    {
      "cell_type": "code",
      "metadata": {
        "id": "D_HCbcEbFruT",
        "colab_type": "code",
        "colab": {
          "base_uri": "https://localhost:8080/",
          "height": 35
        },
        "outputId": "f1363a22-12c0-47d9-f863-9de725bf9660"
      },
      "source": [
        "from array import array\n",
        "# \"i\" is our typecode for an integer\n",
        "arr = array(\"i\",[1,2,3])\n",
        "print(arr[0])"
      ],
      "execution_count": 28,
      "outputs": [
        {
          "output_type": "stream",
          "text": [
            "1\n"
          ],
          "name": "stdout"
        }
      ]
    },
    {
      "cell_type": "markdown",
      "metadata": {
        "id": "Yz3rqXLOGKh-",
        "colab_type": "text"
      },
      "source": [
        "# Developer Fundamentals: \n",
        "## Pros and cons of libraries\n",
        "\n",
        "- if you can implement a given function quickly don't import a library\n",
        "- only use them when implementing it yourself is too time consuming \n",
        "- libraries will take up space and expand the memory requirement of your project, always keep that in mind \n",
        "- you have to develop the skill of distinguishing between good and bad packages/libraries. \n",
        "- Ask yourself the following questions: \n",
        "  - is the package well mantained\n",
        "  - can i quickly implement this myself \n",
        "  - is it popular in the community and will it stay relevant?\n",
        "  "
      ]
    },
    {
      "cell_type": "code",
      "metadata": {
        "id": "uVYwRPeSGedU",
        "colab_type": "code",
        "colab": {}
      },
      "source": [
        ""
      ],
      "execution_count": 0,
      "outputs": []
    }
  ]
}
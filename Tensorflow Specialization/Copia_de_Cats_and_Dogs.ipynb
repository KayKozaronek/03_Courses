{
  "nbformat": 4,
  "nbformat_minor": 0,
  "metadata": {
    "colab": {
      "name": "Copia de Cats and Dogs.ipynb",
      "provenance": [],
      "authorship_tag": "ABX9TyPcXse5XFEaLpPCuIKQUdlf",
      "include_colab_link": true
    },
    "kernelspec": {
      "name": "python3",
      "display_name": "Python 3"
    },
    "accelerator": "TPU"
  },
  "cells": [
    {
      "cell_type": "markdown",
      "metadata": {
        "id": "view-in-github",
        "colab_type": "text"
      },
      "source": [
        "<a href=\"https://colab.research.google.com/github/KayKozaronek/03_Courses/blob/master/Copia_de_Cats_and_Dogs.ipynb\" target=\"_parent\"><img src=\"https://colab.research.google.com/assets/colab-badge.svg\" alt=\"Open In Colab\"/></a>"
      ]
    },
    {
      "cell_type": "markdown",
      "metadata": {
        "id": "RB76KjwYT6Su",
        "colab_type": "text"
      },
      "source": [
        "In this exercise a CNN is applied on the **full** Cats vs. Dogs dataset (25000 images)\n",
        " "
      ]
    },
    {
      "cell_type": "code",
      "metadata": {
        "id": "oohZ75mbVLXx",
        "colab_type": "code",
        "colab": {}
      },
      "source": [
        "import os \n",
        "import zipfile\n",
        "import random\n",
        "import tensorflow as tf\n",
        "from tensorflow.keras.optimizers import RMSprop\n",
        "from tensorflow.keras.preprocessing.image import ImageDataGenerator\n",
        "from shutil import copyfile\n",
        "from os import getcwd"
      ],
      "execution_count": 0,
      "outputs": []
    },
    {
      "cell_type": "markdown",
      "metadata": {
        "id": "XlggascnVaJN",
        "colab_type": "text"
      },
      "source": [
        "This code block downloads the full dataset and stores it as `cats-and-dogs.zip`. \n",
        "\n",
        "It then unzips it to /tmp which will create a tmp/PetImages directory containing subdirectories called \"Cat\" and \"Dog\"\n",
        "\n",
        "If the URL doesn't work, \n",
        "visit https://www.microsoft.com/en-us/download/confirmation.aspx?id=54765 and right click on the 'Download Manually' link to get a new URL"
      ]
    },
    {
      "cell_type": "code",
      "metadata": {
        "id": "sGtzHR_5VuYU",
        "colab_type": "code",
        "outputId": "7b82d389-9f36-4087-ec52-b2fcdc898279",
        "colab": {
          "base_uri": "https://localhost:8080/",
          "height": 202
        }
      },
      "source": [
        "!wget --no-check-certificate \\\n",
        "    \"https://download.microsoft.com/download/3/E/1/3E1C3F21-ECDB-4869-8368-6DEBA77B919F/kagglecatsanddogs_3367a.zip\" \\\n",
        "    -O \"/tmp/cats-and-dogs.zip\"\n",
        "\n",
        "local_zip = \"/tmp/cats-and-dogs.zip\"\n",
        "zip_ref = zipfile.ZipFile(local_zip,\"r\")\n",
        "\n",
        "zip_ref.extractall(\"/tmp\")\n",
        "zip_ref.close()\n"
      ],
      "execution_count": 2,
      "outputs": [
        {
          "output_type": "stream",
          "text": [
            "--2020-04-28 09:14:45--  https://download.microsoft.com/download/3/E/1/3E1C3F21-ECDB-4869-8368-6DEBA77B919F/kagglecatsanddogs_3367a.zip\n",
            "Resolving download.microsoft.com (download.microsoft.com)... 23.35.72.22, 2600:1407:a800:192::e59, 2600:1407:a800:18d::e59\n",
            "Connecting to download.microsoft.com (download.microsoft.com)|23.35.72.22|:443... connected.\n",
            "HTTP request sent, awaiting response... 200 OK\n",
            "Length: 824894548 (787M) [application/octet-stream]\n",
            "Saving to: ‘/tmp/cats-and-dogs.zip’\n",
            "\n",
            "/tmp/cats-and-dogs. 100%[===================>] 786.68M   200MB/s    in 4.1s    \n",
            "\n",
            "2020-04-28 09:14:50 (192 MB/s) - ‘/tmp/cats-and-dogs.zip’ saved [824894548/824894548]\n",
            "\n"
          ],
          "name": "stdout"
        }
      ]
    },
    {
      "cell_type": "markdown",
      "metadata": {
        "id": "TtC4oBL0WttQ",
        "colab_type": "text"
      },
      "source": [
        "Look at how many pictures there are in each directory\n",
        "Expected values:\n",
        "- 12501\n",
        "- 12501"
      ]
    },
    {
      "cell_type": "code",
      "metadata": {
        "id": "wihoEmH3WUia",
        "colab_type": "code",
        "outputId": "883573ce-9796-4be9-aac4-f72e73deac5b",
        "colab": {
          "base_uri": "https://localhost:8080/",
          "height": 50
        }
      },
      "source": [
        "print(len(os.listdir(\"/tmp/PetImages/Cat/\")))\n",
        "print(len(os.listdir(\"/tmp/PetImages/Dog/\")))"
      ],
      "execution_count": 3,
      "outputs": [
        {
          "output_type": "stream",
          "text": [
            "12501\n",
            "12501\n"
          ],
          "name": "stdout"
        }
      ]
    },
    {
      "cell_type": "markdown",
      "metadata": {
        "id": "T7yCIUD-W1xh",
        "colab_type": "text"
      },
      "source": [
        "Use `os.mkdir` to create your directories.\n",
        "\n",
        "You will need a **directory** for cats-v-dogs, and **subdirectories** for training and testing. \n",
        "\n",
        "These in turn will need **subdirectories** for \"cats\" and \"dogs\"\n"
      ]
    },
    {
      "cell_type": "code",
      "metadata": {
        "id": "0b3J6TOiZbso",
        "colab_type": "code",
        "outputId": "37beb8f5-58c6-4052-d086-c45e24cb1dde",
        "colab": {
          "base_uri": "https://localhost:8080/",
          "height": 218
        }
      },
      "source": [
        "help(os.mkdir)"
      ],
      "execution_count": 4,
      "outputs": [
        {
          "output_type": "stream",
          "text": [
            "Help on built-in function mkdir in module posix:\n",
            "\n",
            "mkdir(path, mode=511, *, dir_fd=None)\n",
            "    Create a directory.\n",
            "    \n",
            "    If dir_fd is not None, it should be a file descriptor open to a directory,\n",
            "      and path should be relative; path will then be relative to that directory.\n",
            "    dir_fd may not be implemented on your platform.\n",
            "      If it is unavailable, using it will raise a NotImplementedError.\n",
            "    \n",
            "    The mode argument is ignored on Windows.\n",
            "\n"
          ],
          "name": "stdout"
        }
      ]
    },
    {
      "cell_type": "code",
      "metadata": {
        "id": "PmT71tHtXIZm",
        "colab_type": "code",
        "colab": {}
      },
      "source": [
        "try:\n",
        "  os.makedirs(\"/tmp/cats-v-dogs/training/cats\")\n",
        "  os.makedirs(\"/tmp/cats-v-dogs/training/dogs\")\n",
        "  os.makedirs(\"/tmp/cats-v-dogs/testing/cats\")\n",
        "  os.makedirs(\"/tmp/cats-v-dogs/testing/dogs\")\n",
        "except OSError:\n",
        "  pass"
      ],
      "execution_count": 0,
      "outputs": []
    },
    {
      "cell_type": "markdown",
      "metadata": {
        "id": "k8uoSAUQXY_N",
        "colab_type": "text"
      },
      "source": [
        "Write a **Python function** called `split_data` which takes \n",
        "- a **SOURCE directory** containing the files \n",
        "- a **TRAINING directory** that a portion of the files will be copied to\n",
        "- a **TESTING directory** that a portion of the files will be copie to\n",
        "- a **SPLIT SIZE** to determine the portion.\n",
        "\n",
        "\n",
        "The files should also be **randomized**, so that the training set is a random X% of the files, and the test set is the remaining files.\n",
        "\n",
        "So, for example, if SOURCE is PetImages/Cat, and SPLIT SIZE is .9, then 90% of the images in PetImages/Cat will be copied to the TRAINING dir and 10% of the images will be copied to the TESTING dir.\n",
        "\n",
        "Also -- All images should be checked, and if they have a zero file length, they will not be copied over \n",
        "\n",
        "\n",
        "- `os.listdir(DIRECTORY)` gives you a listing of the contents of that directory\n",
        "\n",
        "- `os.path.getsize(PATH)` gives you the size of the file \n",
        "\n",
        "- `copyfile(source, destination)` copies a file from source to destination\n",
        "\n",
        "- `random.sample(list, len(list))` shuffles a list"
      ]
    },
    {
      "cell_type": "code",
      "metadata": {
        "id": "G__TCtydYaWj",
        "colab_type": "code",
        "outputId": "8504391d-3962-45ed-d6fe-6123853ae233",
        "colab": {
          "base_uri": "https://localhost:8080/",
          "height": 50
        }
      },
      "source": [
        "def split_data(SOURCE, TRAINING, TESTING, SPLIT_SIZE):\n",
        "  # YOUR CODE STARTS HERE\n",
        "  files =[]\n",
        "  for filename in os.listdir(SOURCE):\n",
        "    file = SOURCE + filename \n",
        "    if os.path.getsize(file) > 0:\n",
        "      files.append(filename)\n",
        "    else:\n",
        "      print(filename + \" is zero length, so ignoring.\")\n",
        "\n",
        "  training_length = int(len(files)* SPLIT_SIZE)\n",
        "  testing_length = int(len(files) - training_length)\n",
        "  shuffled_set = random.sample(files, len(files))\n",
        "  training_set = shuffled_set[0:training_length]\n",
        "  testing_set = shuffled_set[-testing_length:]\n",
        "\n",
        "  for filename in training_set:\n",
        "    this_file = SOURCE + filename\n",
        "    destination = TRAINING + filename \n",
        "    copyfile(this_file , destination)\n",
        "\n",
        "  for filename in testing_set:\n",
        "    this_file = SOURCE + filename \n",
        "    destination = TESTING + filename \n",
        "    copyfile(this_file, destination)\n",
        "  # YOUR CODE ENDS HERE\n",
        "\n",
        "\n",
        "CAT_SOURCE_DIR = \"/tmp/PetImages/Cat/\"\n",
        "TRAINING_CATS_DIR = \"/tmp/cats-v-dogs/training/cats/\"\n",
        "TESTING_CATS_DIR = \"/tmp/cats-v-dogs/testing/cats/\"\n",
        "DOG_SOURCE_DIR = \"/tmp/PetImages/Dog/\"\n",
        "TRAINING_DOGS_DIR = \"/tmp/cats-v-dogs/training/dogs/\"\n",
        "TESTING_DOGS_DIR = \"/tmp/cats-v-dogs/testing/dogs/\"\n",
        "\n",
        "split_size = .9\n",
        "split_data(CAT_SOURCE_DIR, TRAINING_CATS_DIR, TESTING_CATS_DIR, split_size)\n",
        "split_data(DOG_SOURCE_DIR, TRAINING_DOGS_DIR, TESTING_DOGS_DIR, split_size)\n",
        "\n",
        "# Expected output\n",
        "# 666.jpg is zero length, so ignoring\n",
        "# 11702.jpg is zero length, so ignoring"
      ],
      "execution_count": 6,
      "outputs": [
        {
          "output_type": "stream",
          "text": [
            "666.jpg is zero length, so ignoring.\n",
            "11702.jpg is zero length, so ignoring.\n"
          ],
          "name": "stdout"
        }
      ]
    },
    {
      "cell_type": "code",
      "metadata": {
        "id": "RIwrL0znYrjR",
        "colab_type": "code",
        "outputId": "135a3f9c-52a7-4d95-a70b-eb9d91977464",
        "colab": {
          "base_uri": "https://localhost:8080/",
          "height": 84
        }
      },
      "source": [
        "print(len(os.listdir(\"/tmp/cats-v-dogs/training/cats/\")))\n",
        "print(len(os.listdir('/tmp/cats-v-dogs/training/dogs/')))\n",
        "print(len(os.listdir('/tmp/cats-v-dogs/testing/cats/')))\n",
        "print(len(os.listdir('/tmp/cats-v-dogs/testing/dogs/')))\n",
        "\n",
        "# Expected output:\n",
        "# 11250\n",
        "# 11250\n",
        "# 1250\n",
        "# 1250"
      ],
      "execution_count": 7,
      "outputs": [
        {
          "output_type": "stream",
          "text": [
            "11250\n",
            "11250\n",
            "1250\n",
            "1250\n"
          ],
          "name": "stdout"
        }
      ]
    },
    {
      "cell_type": "markdown",
      "metadata": {
        "id": "Vb74S2lFY0ha",
        "colab_type": "text"
      },
      "source": [
        "Define a Keras model to classify cats vs. dogs\n",
        "uas at least 3 convolution layers "
      ]
    },
    {
      "cell_type": "code",
      "metadata": {
        "id": "TMVWKLQ5a5jf",
        "colab_type": "code",
        "colab": {}
      },
      "source": [
        "model = tf.keras.models.Sequential([\n",
        "        tf.keras.layers.Conv2D(16,(3,3), input_shape=(150,150,3), activation=\"relu\"),\n",
        "        tf.keras.layers.MaxPooling2D(2,2),\n",
        "        tf.keras.layers.Conv2D(32, (3,3), activation=\"relu\"),\n",
        "        tf.keras.layers.MaxPooling2D(2,2),\n",
        "        tf.keras.layers.Conv2D(64, (3,3), activation=\"relu\"),\n",
        "        tf.keras.layers.MaxPooling2D(2,2),\n",
        "        tf.keras.layers.Flatten(),\n",
        "        tf.keras.layers.Dense(512, activation=\"relu\"),\n",
        "        tf.keras.layers.Dense(1, activation=\"sigmoid\")\n",
        "])\n",
        "\n",
        "model.compile(optimizer=RMSprop(lr=0.001), \n",
        "              loss =\"binary_crossentropy\",\n",
        "              metrics =[\"accuracy\"])"
      ],
      "execution_count": 0,
      "outputs": []
    },
    {
      "cell_type": "markdown",
      "metadata": {
        "id": "_qECZzpabwDF",
        "colab_type": "text"
      },
      "source": [
        ""
      ]
    },
    {
      "cell_type": "code",
      "metadata": {
        "id": "Ze0GIHINa5iM",
        "colab_type": "code",
        "colab": {
          "base_uri": "https://localhost:8080/",
          "height": 50
        },
        "outputId": "9ddc783a-fe88-411d-fe98-c5902b981a11"
      },
      "source": [
        "TRAINING_DIR = \"/tmp/cats-v-dogs/training/\"\n",
        "train_datagen = ImageDataGenerator(rescale=1.0/255.)\n",
        "train_generator = train_datagen.flow_from_directory(TRAINING_DIR,\n",
        "                                                    batch_size=100,\n",
        "                                                    class_mode=\"binary\",\n",
        "                                                    target_size=(150,150))\n",
        "\n",
        "VALIDATION_DIR = \"/tmp/cats-v-dogs/testing/\"\n",
        "validation_datagen = ImageDataGenerator(rescale= 1.0/255.0)\n",
        "validation_generator = validation_datagen.flow_from_directory(VALIDATION_DIR,\n",
        "                                                              batch_size = 100,\n",
        "                                                              class_mode =\"binary\",\n",
        "                                                              target_size =(150,150))\n",
        "\n",
        "\n",
        "\n",
        "\n",
        "# Expected Output:\n",
        "# Found 22498 images belonging to 2 classes.\n",
        "# Found 2500 images belonging to 2 classes."
      ],
      "execution_count": 9,
      "outputs": [
        {
          "output_type": "stream",
          "text": [
            "Found 22498 images belonging to 2 classes.\n",
            "Found 2500 images belonging to 2 classes.\n"
          ],
          "name": "stdout"
        }
      ]
    },
    {
      "cell_type": "markdown",
      "metadata": {
        "id": "Z6-ma5t-a5QV",
        "colab_type": "text"
      },
      "source": [
        "The expectation here is that the model will train, and that accuracy will be > 95% on both training and validation\n",
        "\n",
        "i.e. acc:A1 and val_acc:A2 will be visible, and both A1 and A2 will be > .9"
      ]
    },
    {
      "cell_type": "code",
      "metadata": {
        "id": "BQJAQ2Wxa5Sk",
        "colab_type": "code",
        "outputId": "a07c1af5-b61d-4119-c325-d364e2b164da",
        "colab": {
          "base_uri": "https://localhost:8080/",
          "height": 339
        }
      },
      "source": [
        "history = model.fit(train_generator, \n",
        "                    epochs=15,\n",
        "                    verbose=1,\n",
        "                    validation_data =validation_generator)"
      ],
      "execution_count": 0,
      "outputs": [
        {
          "output_type": "stream",
          "text": [
            "Epoch 1/15\n",
            "    132/Unknown - 276s 2s/step - loss: 0.8255 - accuracy: 0.5914"
          ],
          "name": "stdout"
        },
        {
          "output_type": "stream",
          "text": [
            "/usr/local/lib/python3.6/dist-packages/PIL/TiffImagePlugin.py:770: UserWarning: Possibly corrupt EXIF data.  Expecting to read 32 bytes but only got 0. Skipping tag 270\n",
            "  \" Skipping tag %s\" % (size, len(data), tag)\n",
            "/usr/local/lib/python3.6/dist-packages/PIL/TiffImagePlugin.py:770: UserWarning: Possibly corrupt EXIF data.  Expecting to read 5 bytes but only got 0. Skipping tag 271\n",
            "  \" Skipping tag %s\" % (size, len(data), tag)\n",
            "/usr/local/lib/python3.6/dist-packages/PIL/TiffImagePlugin.py:770: UserWarning: Possibly corrupt EXIF data.  Expecting to read 8 bytes but only got 0. Skipping tag 272\n",
            "  \" Skipping tag %s\" % (size, len(data), tag)\n",
            "/usr/local/lib/python3.6/dist-packages/PIL/TiffImagePlugin.py:770: UserWarning: Possibly corrupt EXIF data.  Expecting to read 8 bytes but only got 0. Skipping tag 282\n",
            "  \" Skipping tag %s\" % (size, len(data), tag)\n",
            "/usr/local/lib/python3.6/dist-packages/PIL/TiffImagePlugin.py:770: UserWarning: Possibly corrupt EXIF data.  Expecting to read 8 bytes but only got 0. Skipping tag 283\n",
            "  \" Skipping tag %s\" % (size, len(data), tag)\n",
            "/usr/local/lib/python3.6/dist-packages/PIL/TiffImagePlugin.py:770: UserWarning: Possibly corrupt EXIF data.  Expecting to read 20 bytes but only got 0. Skipping tag 306\n",
            "  \" Skipping tag %s\" % (size, len(data), tag)\n",
            "/usr/local/lib/python3.6/dist-packages/PIL/TiffImagePlugin.py:770: UserWarning: Possibly corrupt EXIF data.  Expecting to read 48 bytes but only got 0. Skipping tag 532\n",
            "  \" Skipping tag %s\" % (size, len(data), tag)\n",
            "/usr/local/lib/python3.6/dist-packages/PIL/TiffImagePlugin.py:788: UserWarning: Corrupt EXIF data.  Expecting to read 2 bytes but only got 0. \n",
            "  warnings.warn(str(msg))\n"
          ],
          "name": "stderr"
        },
        {
          "output_type": "stream",
          "text": [
            "   1450/Unknown - 3037s 2s/step - loss: 0.4242 - accuracy: 0.8008"
          ],
          "name": "stdout"
        }
      ]
    },
    {
      "cell_type": "markdown",
      "metadata": {
        "id": "yXedRmwna5OF",
        "colab_type": "text"
      },
      "source": [
        "Plot Loss and accuracy"
      ]
    },
    {
      "cell_type": "code",
      "metadata": {
        "id": "x-89B-Wta5LZ",
        "colab_type": "code",
        "colab": {}
      },
      "source": [
        "%matplotlib inline \n",
        "\n",
        "import matplotlib.image as mpimg\n",
        "import matplotlib.pyplot as plt\n",
        "\n",
        "#-----------------------------------------------------------\n",
        "# Retrieve a list of list results on training and test data\n",
        "# sets for each training epoch\n",
        "#-----------------------------------------------------------\n",
        "\n",
        "acc=history.history[\"accuracy\"]\n",
        "val_acc = history.history[\"val_accuracy\"]\n",
        "loss=history.history[\"loss\"]\n",
        "val_loss = history.history[\"val_los\"]\n",
        "\n",
        "epochs = range(len(acc)) #Get number of epochs\n",
        "\n",
        "#------------------------------------------------\n",
        "# Plot training and validation accuracy per epoch\n",
        "#------------------------------------------------\n",
        "\n",
        "plt.plot(epochs,acc,\"r\",\"Training Accuracy\")\n",
        "plt.plot(epochs, val_acc, \"b\", \"Validation Accuracy\")\n",
        "plt.title(\"Training and validation accuracy\")\n",
        "plt.figure()\n",
        "\n",
        "#------------------------------------------------\n",
        "# Plot training and validation loss per epoch\n",
        "#------------------------------------------------\n",
        "\n",
        "plt.plot(epochs, loss, \"r\", \"Training Loss\")\n",
        "plt.plot(epochs, vall_loss, \"b\", \"Validation Loss\")\n",
        "\n",
        "plt.title(\"Training and validation loss\")\n",
        "\n",
        "# Desired output. Charts with training and validation metrics. No crash "
      ],
      "execution_count": 0,
      "outputs": []
    },
    {
      "cell_type": "markdown",
      "metadata": {
        "id": "Li6pPilga5Hg",
        "colab_type": "text"
      },
      "source": [
        "Here's a codeblock just for fun. You should be able to upload an image here \n",
        "and have it classified without crashing"
      ]
    },
    {
      "cell_type": "code",
      "metadata": {
        "id": "MMI8GDNya5FZ",
        "colab_type": "code",
        "colab": {}
      },
      "source": [
        "import numpy as np\n",
        "from google.colab import files\n",
        "from keras.preprocessing import image\n",
        "\n",
        "uploaded = files.upload()\n",
        "\n",
        "for fn in uploaded.keys():\n",
        "\n",
        "  # Predicting images\n",
        "  path = \"/content/\" +fn\n",
        "  img = image.load_img(path, target_size=(#Your Code Here))\n",
        "  x = image.img_to_array(img)\n",
        "  x = np.expand_dims(x,axis=0)\n",
        "\n",
        "  images = np.vstack([x])\n",
        "  classes = model.predict(images, batch_size=10)\n",
        "  print(classes[0])\n",
        "  if classes[0]>0.5:\n",
        "    print(fn + \"is a dog\")\n",
        "  else:\n",
        "    print(fn + \"is a cat\")"
      ],
      "execution_count": 0,
      "outputs": []
    }
  ]
}
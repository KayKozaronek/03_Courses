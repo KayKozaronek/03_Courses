{
  "nbformat": 4,
  "nbformat_minor": 0,
  "metadata": {
    "colab": {
      "name": "Course 2 - Part 6 - Lesson 3 - Notebook.ipynb",
      "provenance": [],
      "authorship_tag": "ABX9TyPWs/19abXinemWhnMfoMwH",
      "include_colab_link": true
    },
    "kernelspec": {
      "name": "python3",
      "display_name": "Python 3"
    }
  },
  "cells": [
    {
      "cell_type": "markdown",
      "metadata": {
        "id": "view-in-github",
        "colab_type": "text"
      },
      "source": [
        "<a href=\"https://colab.research.google.com/github/KayKozaronek/03_Courses/blob/master/Course_2_Part_6_Lesson_3_Notebook.ipynb\" target=\"_parent\"><img src=\"https://colab.research.google.com/assets/colab-badge.svg\" alt=\"Open In Colab\"/></a>"
      ]
    },
    {
      "cell_type": "code",
      "metadata": {
        "id": "or8ixRIbTMQr",
        "colab_type": "code",
        "colab": {
          "base_uri": "https://localhost:8080/",
          "height": 218
        },
        "outputId": "a2604e97-9ed3-408a-ce9c-9fde98283479"
      },
      "source": [
        "import os\n",
        "\n",
        "from tensorflow.keras import layers\n",
        "from tensorflow.keras import Model\n",
        "!wget --no-check-certificate \\\n",
        "    https://storage.googleapis.com/mledu-datasets/inception_v3_weights_tf_dim_ordering_tf_kernels_notop.h5 \\\n",
        "    -O /tmp/inception_v3_weights_tf_dim_ordering_tf_kernels_notop.h5\n",
        "  \n",
        "from tensorflow.keras.applications.inception_v3 import InceptionV3\n",
        "\n",
        "local_weights_file = '/tmp/inception_v3_weights_tf_dim_ordering_tf_kernels_notop.h5'\n",
        "\n",
        "pre_trained_model = InceptionV3(input_shape = (150,150,3),\n",
        "                                include_top = False,\n",
        "                                weights =None)\n",
        "\n",
        "pre_trained_model.load_weights(local_weights_file)\n",
        "\n",
        "# Freeze the weights\n",
        "for layer in pre_trained_model.layers:\n",
        "  layer.trainable = False\n",
        "\n",
        "# pre_trained_model.summary()\n",
        "\n",
        "last_layer = pre_trained_model.get_layer(\"mixed7\")\n",
        "print(\"last layer output shape: \", last_layer.output_shape)\n",
        "last_output = last_layer.output"
      ],
      "execution_count": 1,
      "outputs": [
        {
          "output_type": "stream",
          "text": [
            "--2020-05-06 09:31:05--  https://storage.googleapis.com/mledu-datasets/inception_v3_weights_tf_dim_ordering_tf_kernels_notop.h5\n",
            "Resolving storage.googleapis.com (storage.googleapis.com)... 173.194.203.128, 2607:f8b0:400e:c08::80\n",
            "Connecting to storage.googleapis.com (storage.googleapis.com)|173.194.203.128|:443... connected.\n",
            "HTTP request sent, awaiting response... 200 OK\n",
            "Length: 87910968 (84M) [application/x-hdf]\n",
            "Saving to: ‘/tmp/inception_v3_weights_tf_dim_ordering_tf_kernels_notop.h5’\n",
            "\n",
            "\r          /tmp/ince   0%[                    ]       0  --.-KB/s               \r         /tmp/incep  20%[===>                ]  17.14M  85.7MB/s               \r        /tmp/incept  47%[========>           ]  39.76M  99.4MB/s               \r/tmp/inception_v3_w 100%[===================>]  83.84M   159MB/s    in 0.5s    \n",
            "\n",
            "2020-05-06 09:31:06 (159 MB/s) - ‘/tmp/inception_v3_weights_tf_dim_ordering_tf_kernels_notop.h5’ saved [87910968/87910968]\n",
            "\n",
            "last layer output shape:  (None, 7, 7, 768)\n"
          ],
          "name": "stdout"
        }
      ]
    },
    {
      "cell_type": "code",
      "metadata": {
        "id": "2STQNzIMUtI4",
        "colab_type": "code",
        "colab": {}
      },
      "source": [
        "from tensorflow.keras.optimizers import RMSprop\n",
        "\n",
        "# Flatten the output layer to 1 dimension\n",
        "x = layers.Flatten()(last_output)\n",
        "\n",
        "# Add a fully connected layer with 1,024 hidden units and ReLU activation\n",
        "x = layers.Dense(1024, activation = \"relu\")(x)\n",
        "\n",
        "# Add a dropout rate of 0.2\n",
        "x = layers.Dropout(0.2)(x)\n",
        "\n",
        "# Add a final sigmoid layer for classification\n",
        "x = layers.Dense(1, activation =\"sigmoid\")(x)\n",
        "\n",
        "model = Model(pre_trained_model.input, x)\n",
        "\n",
        "model.compile(optimizer = RMSprop(lr=1e-4),\n",
        "              loss =\"binary_crossentropy\",\n",
        "              metrics=[\"accuracy\"])"
      ],
      "execution_count": 0,
      "outputs": []
    },
    {
      "cell_type": "code",
      "metadata": {
        "id": "hnSg8xU2VevF",
        "colab_type": "code",
        "colab": {
          "base_uri": "https://localhost:8080/",
          "height": 235
        },
        "outputId": "e0297502-6331-440b-ab81-fe50751831e4"
      },
      "source": [
        "!wget --no-check-certificate \\\n",
        "        https://storage.googleapis.com/mledu-datasets/cats_and_dogs_filtered.zip \\\n",
        "       -O /tmp/cats_and_dogs_filtered.zip\n",
        "\n",
        "from tensorflow.keras.preprocessing.image import ImageDataGenerator\n",
        "\n",
        "import os \n",
        "import zipfile \n",
        "\n",
        "local_zip = \"//tmp/cats_and_dogs_filtered.zip\"\n",
        "zip_ref = zipfile.ZipFile(local_zip, \"r\")\n",
        "zip_ref.extractall(\"/tmp\")\n",
        "zip_ref.close()\n",
        "\n",
        "# Define our example directories and files \n",
        "\n",
        "base_dir  = \"/tmp/cats_and_dogs_filtered\"\n",
        "\n",
        "train_dir = os.path.join(base_dir, \"train\")\n",
        "val_dir = os.path.join(base_dir, \"validation\")\n",
        "\n",
        "train_cats_dir = os.path.join(train_dir, \"cats\")\n",
        "train_dogs_dir = os.path.join(train_dir, \"cats\")\n",
        "val_cats_dir = os.path.join(val_dir, \"cats\")\n",
        "val_dogs_dir = os.path.join(val_dir, \"dogs\")\n",
        "\n",
        "train_cat_fnames = os.listdir(train_cats_dir)\n",
        "train_dog_fnames = os.listdir(train_dogs_dir)\n",
        "\n",
        "# Add our data-augmentation parameters to ImageDataGenerator\n",
        "train_datagen = ImageDataGenerator(\n",
        "    rescale = 1./255,\n",
        "    zoom_range = 0.2,\n",
        "    shear_range = 0.2,\n",
        "    rotation_range = 40,\n",
        "    width_shift_range = 0.2,\n",
        "    height_shift_range =0.2,\n",
        "    horizontal_flip = True\n",
        ")\n",
        "\n",
        "# Note that the valitadion data should not be augmented!\n",
        "test_datagen = ImageDataGenerator(rescale = 1./255.)\n",
        "\n",
        "# Flow training images in batches of 20 using train_datagen generator\n",
        "train_generator = train_datagen.flow_from_directory(train_dir,\n",
        "                                                    class_mode=\"binary\",\n",
        "                                                    batch_size= 20,\n",
        "                                                    target_size = (150,150))\n",
        "\n",
        "# Flow validation images in batches of 20 using test_datagen generator\n",
        "validation_generator = test_datagen.flow_from_directory(val_dir,\n",
        "                                                       class_mode = \"binary\",\n",
        "                                                       target_size = (150,150),\n",
        "                                                       batch_size = 20)\n"
      ],
      "execution_count": 11,
      "outputs": [
        {
          "output_type": "stream",
          "text": [
            "--2020-05-06 09:48:17--  https://storage.googleapis.com/mledu-datasets/cats_and_dogs_filtered.zip\n",
            "Resolving storage.googleapis.com (storage.googleapis.com)... 74.125.28.128, 2607:f8b0:400e:c09::80\n",
            "Connecting to storage.googleapis.com (storage.googleapis.com)|74.125.28.128|:443... connected.\n",
            "HTTP request sent, awaiting response... 200 OK\n",
            "Length: 68606236 (65M) [application/zip]\n",
            "Saving to: ‘/tmp/cats_and_dogs_filtered.zip’\n",
            "\n",
            "/tmp/cats_and_dogs_ 100%[===================>]  65.43M   110MB/s    in 0.6s    \n",
            "\n",
            "2020-05-06 09:48:18 (110 MB/s) - ‘/tmp/cats_and_dogs_filtered.zip’ saved [68606236/68606236]\n",
            "\n",
            "Found 2000 images belonging to 2 classes.\n",
            "Found 1000 images belonging to 2 classes.\n"
          ],
          "name": "stdout"
        }
      ]
    },
    {
      "cell_type": "code",
      "metadata": {
        "id": "IaDbMZZuXIUB",
        "colab_type": "code",
        "colab": {
          "base_uri": "https://localhost:8080/",
          "height": 689
        },
        "outputId": "3e91e2c8-9fea-48cf-9055-dc1dad1ea3a4"
      },
      "source": [
        "history = model.fit(\n",
        "    train_generator,\n",
        "    validation_data = validation_generator,\n",
        "    steps_per_epoch = 100,\n",
        "    epochs = 20,\n",
        "    validation_steps = 50,\n",
        "    verbose = 1\n",
        ")"
      ],
      "execution_count": 13,
      "outputs": [
        {
          "output_type": "stream",
          "text": [
            "Epoch 1/20\n",
            "100/100 [==============================] - 154s 2s/step - loss: 0.2993 - accuracy: 0.8735 - val_loss: 0.1183 - val_accuracy: 0.9540\n",
            "Epoch 2/20\n",
            "100/100 [==============================] - 149s 1s/step - loss: 0.2333 - accuracy: 0.9080 - val_loss: 0.1354 - val_accuracy: 0.9450\n",
            "Epoch 3/20\n",
            "100/100 [==============================] - 150s 2s/step - loss: 0.1890 - accuracy: 0.9285 - val_loss: 0.1111 - val_accuracy: 0.9660\n",
            "Epoch 4/20\n",
            "100/100 [==============================] - 151s 2s/step - loss: 0.1792 - accuracy: 0.9365 - val_loss: 0.1035 - val_accuracy: 0.9600\n",
            "Epoch 5/20\n",
            "100/100 [==============================] - 154s 2s/step - loss: 0.2075 - accuracy: 0.9285 - val_loss: 0.1089 - val_accuracy: 0.9660\n",
            "Epoch 6/20\n",
            "100/100 [==============================] - 149s 1s/step - loss: 0.1825 - accuracy: 0.9390 - val_loss: 0.2012 - val_accuracy: 0.9320\n",
            "Epoch 7/20\n",
            "100/100 [==============================] - 149s 1s/step - loss: 0.1418 - accuracy: 0.9525 - val_loss: 0.1115 - val_accuracy: 0.9680\n",
            "Epoch 8/20\n",
            "100/100 [==============================] - 149s 1s/step - loss: 0.1315 - accuracy: 0.9510 - val_loss: 0.1406 - val_accuracy: 0.9680\n",
            "Epoch 9/20\n",
            "100/100 [==============================] - 152s 2s/step - loss: 0.1751 - accuracy: 0.9410 - val_loss: 0.1285 - val_accuracy: 0.9580\n",
            "Epoch 10/20\n",
            "100/100 [==============================] - 148s 1s/step - loss: 0.1840 - accuracy: 0.9380 - val_loss: 0.1576 - val_accuracy: 0.9570\n",
            "Epoch 11/20\n",
            "100/100 [==============================] - 148s 1s/step - loss: 0.1290 - accuracy: 0.9505 - val_loss: 0.1038 - val_accuracy: 0.9620\n",
            "Epoch 12/20\n",
            "100/100 [==============================] - 148s 1s/step - loss: 0.1754 - accuracy: 0.9375 - val_loss: 0.1498 - val_accuracy: 0.9600\n",
            "Epoch 13/20\n",
            "100/100 [==============================] - 151s 2s/step - loss: 0.1282 - accuracy: 0.9535 - val_loss: 0.1578 - val_accuracy: 0.9550\n",
            "Epoch 14/20\n",
            "100/100 [==============================] - 148s 1s/step - loss: 0.1179 - accuracy: 0.9560 - val_loss: 0.2036 - val_accuracy: 0.9590\n",
            "Epoch 15/20\n",
            "100/100 [==============================] - 148s 1s/step - loss: 0.1388 - accuracy: 0.9480 - val_loss: 0.2098 - val_accuracy: 0.9480\n",
            "Epoch 16/20\n",
            "100/100 [==============================] - 148s 1s/step - loss: 0.1420 - accuracy: 0.9495 - val_loss: 0.1106 - val_accuracy: 0.9760\n",
            "Epoch 17/20\n",
            "100/100 [==============================] - 152s 2s/step - loss: 0.1371 - accuracy: 0.9555 - val_loss: 0.1714 - val_accuracy: 0.9520\n",
            "Epoch 18/20\n",
            "100/100 [==============================] - 148s 1s/step - loss: 0.1384 - accuracy: 0.9490 - val_loss: 0.0966 - val_accuracy: 0.9750\n",
            "Epoch 19/20\n",
            "100/100 [==============================] - 150s 2s/step - loss: 0.1490 - accuracy: 0.9565 - val_loss: 0.1558 - val_accuracy: 0.9580\n",
            "Epoch 20/20\n",
            "100/100 [==============================] - 149s 1s/step - loss: 0.1287 - accuracy: 0.9580 - val_loss: 0.1164 - val_accuracy: 0.9650\n"
          ],
          "name": "stdout"
        }
      ]
    },
    {
      "cell_type": "code",
      "metadata": {
        "id": "5hU5NFUOX-5D",
        "colab_type": "code",
        "colab": {
          "base_uri": "https://localhost:8080/",
          "height": 298
        },
        "outputId": "59ee873e-b9b7-443c-9af5-602586ebea2e"
      },
      "source": [
        "import matplotlib.pyplot as plt\n",
        "% matplotlib inline\n",
        "acc = history.history[\"accuracy\"]\n",
        "val_acc = history.history[\"val_accuracy\"]\n",
        "loss = history.history[\"loss\"]\n",
        "val_loss = history.history[\"val_loss\"]\n",
        "\n",
        "epochs = range(len(acc))\n",
        "\n",
        "plt.plot(epochs, acc, \"r\", label = \"Training accuracy\")\n",
        "plt.plot(epochs, val_acc, \"b\", label = \"Validation accuracy\")\n",
        "plt.title(\"Training and validation accuracy\")\n",
        "plt.legend(loc=0)\n",
        "plt.figure()\n",
        "\n",
        "plt.show()"
      ],
      "execution_count": 14,
      "outputs": [
        {
          "output_type": "display_data",
          "data": {
            "image/png": "[encoded data removed]",
            "text/plain": [
              "<Figure size 432x288 with 1 Axes>"
            ]
          },
          "metadata": {
            "tags": [],
            "needs_background": "light"
          }
        },
        {
          "output_type": "display_data",
          "data": {
            "text/plain": [
              "<Figure size 432x288 with 0 Axes>"
            ]
          },
          "metadata": {
            "tags": []
          }
        }
      ]
    },
    {
      "cell_type": "code",
      "metadata": {
        "id": "SNDyfYW6Yhwu",
        "colab_type": "code",
        "colab": {}
      },
      "source": [
        " "
      ],
      "execution_count": 0,
      "outputs": []
    }
  ]
}
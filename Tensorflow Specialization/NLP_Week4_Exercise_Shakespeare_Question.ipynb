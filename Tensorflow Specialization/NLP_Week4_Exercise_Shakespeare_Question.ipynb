{
  "nbformat": 4,
  "nbformat_minor": 0,
  "metadata": {
    "colab": {
      "name": "NLP_Week4_Exercise_Shakespeare_Question.ipynb",
      "provenance": [],
      "authorship_tag": "ABX9TyPBYCHrrG5ESI08LkEGY7kl",
      "include_colab_link": true
    },
    "kernelspec": {
      "name": "python3",
      "display_name": "Python 3"
    },
    "accelerator": "GPU"
  },
  "cells": [
    {
      "cell_type": "markdown",
      "metadata": {
        "id": "view-in-github",
        "colab_type": "text"
      },
      "source": [
        "<a href=\"https://colab.research.google.com/github/KayKozaronek/03_Courses/blob/master/NLP_Week4_Exercise_Shakespeare_Question.ipynb\" target=\"_parent\"><img src=\"https://colab.research.google.com/assets/colab-badge.svg\" alt=\"Open In Colab\"/></a>"
      ]
    },
    {
      "cell_type": "code",
      "metadata": {
        "id": "Tf4RIhKJdrk_",
        "colab_type": "code",
        "colab": {}
      },
      "source": [
        "from tensorflow.keras.preprocessing.sequence import pad_sequences\n",
        "from tensorflow.keras.layers import Embedding, LSTM, Dense, Dropout, Bidirectional\n",
        "from tensorflow.keras.preprocessing.text import Tokenizer\n",
        "from tensorflow.keras.models import Sequential\n",
        "from tensorflow.keras.optimizers import Adam\n",
        "import tensorflow as tf\n",
        "### YOUR CODE HERE\n",
        "# Figure out how to import regularizers\n",
        "from tensorflow.keras import regularizers\n",
        "\n",
        "import tensorflow.keras.utils as ku\n",
        "import numpy as np"
      ],
      "execution_count": 0,
      "outputs": []
    },
    {
      "cell_type": "code",
      "metadata": {
        "id": "1PPkjNFGeajo",
        "colab_type": "code",
        "outputId": "fb3ab2e1-0607-43b6-bfd3-d958b976452a",
        "colab": {
          "base_uri": "https://localhost:8080/",
          "height": 201
        }
      },
      "source": [
        "!wget --no-check-certificate \\\n",
        "    https://storage.googleapis.com/laurencemoroney-blog.appspot.com/sonnets.txt \\\n",
        "    -O /tmp/sonnets.txt"
      ],
      "execution_count": 2,
      "outputs": [
        {
          "output_type": "stream",
          "text": [
            "--2020-05-26 14:45:04--  https://storage.googleapis.com/laurencemoroney-blog.appspot.com/sonnets.txt\n",
            "Resolving storage.googleapis.com (storage.googleapis.com)... 172.217.214.128, 2607:f8b0:4001:c14::80\n",
            "Connecting to storage.googleapis.com (storage.googleapis.com)|172.217.214.128|:443... connected.\n",
            "HTTP request sent, awaiting response... 200 OK\n",
            "Length: 93578 (91K) [text/plain]\n",
            "Saving to: ‘/tmp/sonnets.txt’\n",
            "\n",
            "\r/tmp/sonnets.txt      0%[                    ]       0  --.-KB/s               \r/tmp/sonnets.txt    100%[===================>]  91.38K  --.-KB/s    in 0.002s  \n",
            "\n",
            "2020-05-26 14:45:04 (58.5 MB/s) - ‘/tmp/sonnets.txt’ saved [93578/93578]\n",
            "\n"
          ],
          "name": "stdout"
        }
      ]
    },
    {
      "cell_type": "code",
      "metadata": {
        "id": "7cDNqyUUeiqZ",
        "colab_type": "code",
        "colab": {}
      },
      "source": [
        "data =open(\"/tmp/sonnets.txt\").read()\n",
        "\n",
        "corpus = data.lower().split(\"\\n\")\n",
        "\n",
        "tokenizer = Tokenizer()\n",
        "tokenizer.fit_on_texts(corpus)\n",
        "total_words = len(tokenizer.word_index) + 1"
      ],
      "execution_count": 0,
      "outputs": []
    },
    {
      "cell_type": "code",
      "metadata": {
        "id": "DiQx9-eVfQkw",
        "colab_type": "code",
        "colab": {}
      },
      "source": [
        "# create input sequences using list of tokens\n",
        "input_sequences = []\n",
        "for line in corpus:\n",
        "  token_list = tokenizer.texts_to_sequences([line])[0]\n",
        "  for i in range (1, len(token_list)):\n",
        "    n_gram_sequence = token_list[:i+1]\n",
        "    input_sequences.append(n_gram_sequence)"
      ],
      "execution_count": 0,
      "outputs": []
    },
    {
      "cell_type": "code",
      "metadata": {
        "id": "FhfyQRoCfRMN",
        "colab_type": "code",
        "colab": {}
      },
      "source": [
        "# pad sequences \n",
        "max_sequence_len = max([len(x) for x in input_sequences])\n",
        "input_sequences = np.array(pad_sequences(input_sequences,\n",
        "                                         maxlen = max_sequence_len,\n",
        "                                         padding = \"pre\"))"
      ],
      "execution_count": 0,
      "outputs": []
    },
    {
      "cell_type": "code",
      "metadata": {
        "id": "YfNkMbG-frfd",
        "colab_type": "code",
        "colab": {}
      },
      "source": [
        "# create predictors and label \n",
        "predictors, label = input_sequences[:,:-1], input_sequences[:,-1]\n",
        "\n",
        "label = ku.to_categorical(label, num_classes=total_words)"
      ],
      "execution_count": 0,
      "outputs": []
    },
    {
      "cell_type": "code",
      "metadata": {
        "id": "NvpfufpWfyM6",
        "colab_type": "code",
        "outputId": "4840dd58-7eff-428e-85b7-8190dea2d526",
        "colab": {
          "base_uri": "https://localhost:8080/",
          "height": 368
        }
      },
      "source": [
        "model = Sequential()\n",
        "model.add(Embedding(input_dim = total_words, \n",
        "                    output_dim= 100,\n",
        "                    input_length = max_sequence_len -1))# Your Embedding Layer)\n",
        "model.add(LSTM(150, return_sequences =True)) # An LSTM Layer) # Could make it bidirectional\n",
        "model.add(Dropout(0.2)) # A dropout layer)\n",
        "model.add(LSTM(100)) # Another LSTM Layer)\n",
        "model.add(Dense(total_words/2,\n",
        "                activation = \"relu\", \n",
        "                kernel_regularizer = regularizers.l1_l2(l1=1e-5,l2=1e-4),\n",
        "                bias_regularizer = regularizers.l2(1e-4),\n",
        "                activity_regularizer=regularizers.l2(1e-5))) # A Dense Layer including regularizers)\n",
        "model.add(Dense(total_words, activation = \"softmax\")) # A Dense Layer)\n",
        "\n",
        "# Pick an optimizer\n",
        "model.compile(loss='categorical_crossentropy',optimizer='adam',metrics=['accuracy'])\n",
        "\n",
        "# Pick a loss function and an optimizer)\n",
        "print(model.summary())"
      ],
      "execution_count": 7,
      "outputs": [
        {
          "output_type": "stream",
          "text": [
            "Model: \"sequential\"\n",
            "_________________________________________________________________\n",
            "Layer (type)                 Output Shape              Param #   \n",
            "=================================================================\n",
            "embedding (Embedding)        (None, 10, 100)           321100    \n",
            "_________________________________________________________________\n",
            "lstm (LSTM)                  (None, 10, 150)           150600    \n",
            "_________________________________________________________________\n",
            "dropout (Dropout)            (None, 10, 150)           0         \n",
            "_________________________________________________________________\n",
            "lstm_1 (LSTM)                (None, 100)               100400    \n",
            "_________________________________________________________________\n",
            "dense (Dense)                (None, 1605)              162105    \n",
            "_________________________________________________________________\n",
            "dense_1 (Dense)              (None, 3211)              5156866   \n",
            "=================================================================\n",
            "Total params: 5,891,071\n",
            "Trainable params: 5,891,071\n",
            "Non-trainable params: 0\n",
            "_________________________________________________________________\n",
            "None\n"
          ],
          "name": "stdout"
        }
      ]
    },
    {
      "cell_type": "code",
      "metadata": {
        "id": "dh6CSv1Kf3Zf",
        "colab_type": "code",
        "outputId": "a8039270-9fb4-499c-b8e8-3f994fd49e17",
        "colab": {
          "base_uri": "https://localhost:8080/",
          "height": 1000
        }
      },
      "source": [
        "history = model.fit(predictors, label, epochs = 100, verbose =1)"
      ],
      "execution_count": 8,
      "outputs": [
        {
          "output_type": "stream",
          "text": [
            "Epoch 1/100\n",
            "484/484 [==============================] - 11s 22ms/step - loss: 6.8727 - accuracy: 0.0234\n",
            "Epoch 2/100\n",
            "484/484 [==============================] - 11s 22ms/step - loss: 6.5264 - accuracy: 0.0219\n",
            "Epoch 3/100\n",
            "484/484 [==============================] - 11s 24ms/step - loss: 6.3855 - accuracy: 0.0262\n",
            "Epoch 4/100\n",
            "484/484 [==============================] - 11s 23ms/step - loss: 6.2069 - accuracy: 0.0343\n",
            "Epoch 5/100\n",
            "484/484 [==============================] - 11s 23ms/step - loss: 6.0086 - accuracy: 0.0406\n",
            "Epoch 6/100\n",
            "484/484 [==============================] - 11s 23ms/step - loss: 5.8169 - accuracy: 0.0455\n",
            "Epoch 7/100\n",
            "484/484 [==============================] - 11s 23ms/step - loss: 5.6325 - accuracy: 0.0546\n",
            "Epoch 8/100\n",
            "484/484 [==============================] - 11s 22ms/step - loss: 5.4587 - accuracy: 0.0600\n",
            "Epoch 9/100\n",
            "484/484 [==============================] - 11s 23ms/step - loss: 5.2768 - accuracy: 0.0690\n",
            "Epoch 10/100\n",
            "484/484 [==============================] - 11s 22ms/step - loss: 5.0933 - accuracy: 0.0808\n",
            "Epoch 11/100\n",
            "484/484 [==============================] - 11s 23ms/step - loss: 4.8929 - accuracy: 0.0930\n",
            "Epoch 12/100\n",
            "484/484 [==============================] - 11s 23ms/step - loss: 4.6770 - accuracy: 0.1102\n",
            "Epoch 13/100\n",
            "484/484 [==============================] - 11s 23ms/step - loss: 4.4626 - accuracy: 0.1253\n",
            "Epoch 14/100\n",
            "484/484 [==============================] - 11s 23ms/step - loss: 4.2420 - accuracy: 0.1435\n",
            "Epoch 15/100\n",
            "484/484 [==============================] - 11s 23ms/step - loss: 4.0225 - accuracy: 0.1657\n",
            "Epoch 16/100\n",
            "484/484 [==============================] - 11s 23ms/step - loss: 3.8017 - accuracy: 0.1977\n",
            "Epoch 17/100\n",
            "484/484 [==============================] - 11s 23ms/step - loss: 3.5782 - accuracy: 0.2308\n",
            "Epoch 18/100\n",
            "484/484 [==============================] - 11s 23ms/step - loss: 3.3618 - accuracy: 0.2696\n",
            "Epoch 19/100\n",
            "484/484 [==============================] - 11s 23ms/step - loss: 3.1367 - accuracy: 0.3137\n",
            "Epoch 20/100\n",
            "484/484 [==============================] - 11s 23ms/step - loss: 2.9398 - accuracy: 0.3497\n",
            "Epoch 21/100\n",
            "484/484 [==============================] - 11s 23ms/step - loss: 2.7416 - accuracy: 0.3931\n",
            "Epoch 22/100\n",
            "484/484 [==============================] - 11s 23ms/step - loss: 2.5652 - accuracy: 0.4316\n",
            "Epoch 23/100\n",
            "484/484 [==============================] - 11s 23ms/step - loss: 2.4127 - accuracy: 0.4591\n",
            "Epoch 24/100\n",
            "484/484 [==============================] - 11s 23ms/step - loss: 2.2676 - accuracy: 0.4953\n",
            "Epoch 25/100\n",
            "484/484 [==============================] - 11s 23ms/step - loss: 2.1347 - accuracy: 0.5257\n",
            "Epoch 26/100\n",
            "484/484 [==============================] - 11s 22ms/step - loss: 2.0045 - accuracy: 0.5529\n",
            "Epoch 27/100\n",
            "484/484 [==============================] - 11s 23ms/step - loss: 1.9145 - accuracy: 0.5763\n",
            "Epoch 28/100\n",
            "484/484 [==============================] - 11s 23ms/step - loss: 1.8194 - accuracy: 0.5982\n",
            "Epoch 29/100\n",
            "484/484 [==============================] - 11s 23ms/step - loss: 1.7437 - accuracy: 0.6178\n",
            "Epoch 30/100\n",
            "484/484 [==============================] - 11s 23ms/step - loss: 1.6423 - accuracy: 0.6431\n",
            "Epoch 31/100\n",
            "484/484 [==============================] - 11s 23ms/step - loss: 1.5718 - accuracy: 0.6581\n",
            "Epoch 32/100\n",
            "484/484 [==============================] - 11s 23ms/step - loss: 1.5137 - accuracy: 0.6739\n",
            "Epoch 33/100\n",
            "484/484 [==============================] - 11s 23ms/step - loss: 1.4599 - accuracy: 0.6849\n",
            "Epoch 34/100\n",
            "484/484 [==============================] - 11s 23ms/step - loss: 1.3994 - accuracy: 0.6997\n",
            "Epoch 35/100\n",
            "484/484 [==============================] - 11s 22ms/step - loss: 1.3572 - accuracy: 0.7167\n",
            "Epoch 36/100\n",
            "484/484 [==============================] - 11s 23ms/step - loss: 1.3091 - accuracy: 0.7243\n",
            "Epoch 37/100\n",
            "484/484 [==============================] - 11s 23ms/step - loss: 1.2753 - accuracy: 0.7341\n",
            "Epoch 38/100\n",
            "484/484 [==============================] - 11s 23ms/step - loss: 1.2383 - accuracy: 0.7440\n",
            "Epoch 39/100\n",
            "484/484 [==============================] - 11s 23ms/step - loss: 1.2044 - accuracy: 0.7516\n",
            "Epoch 40/100\n",
            "484/484 [==============================] - 11s 23ms/step - loss: 1.1655 - accuracy: 0.7645\n",
            "Epoch 41/100\n",
            "484/484 [==============================] - 11s 23ms/step - loss: 1.1306 - accuracy: 0.7696\n",
            "Epoch 42/100\n",
            "484/484 [==============================] - 11s 23ms/step - loss: 1.1156 - accuracy: 0.7722\n",
            "Epoch 43/100\n",
            "484/484 [==============================] - 11s 23ms/step - loss: 1.0991 - accuracy: 0.7729\n",
            "Epoch 44/100\n",
            "484/484 [==============================] - 11s 23ms/step - loss: 1.0729 - accuracy: 0.7837\n",
            "Epoch 45/100\n",
            "484/484 [==============================] - 11s 23ms/step - loss: 1.0510 - accuracy: 0.7871\n",
            "Epoch 46/100\n",
            "484/484 [==============================] - 11s 23ms/step - loss: 1.0335 - accuracy: 0.7913\n",
            "Epoch 47/100\n",
            "484/484 [==============================] - 11s 23ms/step - loss: 1.0152 - accuracy: 0.7962\n",
            "Epoch 48/100\n",
            "484/484 [==============================] - 11s 23ms/step - loss: 0.9944 - accuracy: 0.7998\n",
            "Epoch 49/100\n",
            "484/484 [==============================] - 11s 23ms/step - loss: 0.9834 - accuracy: 0.8027\n",
            "Epoch 50/100\n",
            "484/484 [==============================] - 11s 23ms/step - loss: 0.9790 - accuracy: 0.8046\n",
            "Epoch 51/100\n",
            "484/484 [==============================] - 11s 23ms/step - loss: 0.9621 - accuracy: 0.8053\n",
            "Epoch 52/100\n",
            "484/484 [==============================] - 11s 23ms/step - loss: 0.9503 - accuracy: 0.8081\n",
            "Epoch 53/100\n",
            "484/484 [==============================] - 11s 23ms/step - loss: 0.9342 - accuracy: 0.8147\n",
            "Epoch 54/100\n",
            "484/484 [==============================] - 11s 23ms/step - loss: 0.9319 - accuracy: 0.8118\n",
            "Epoch 55/100\n",
            "484/484 [==============================] - 11s 23ms/step - loss: 0.9156 - accuracy: 0.8152\n",
            "Epoch 56/100\n",
            "484/484 [==============================] - 11s 23ms/step - loss: 0.9001 - accuracy: 0.8190\n",
            "Epoch 57/100\n",
            "484/484 [==============================] - 11s 23ms/step - loss: 0.8843 - accuracy: 0.8227\n",
            "Epoch 58/100\n",
            "484/484 [==============================] - 11s 23ms/step - loss: 0.8852 - accuracy: 0.8205\n",
            "Epoch 59/100\n",
            "484/484 [==============================] - 11s 23ms/step - loss: 0.8798 - accuracy: 0.8225\n",
            "Epoch 60/100\n",
            "484/484 [==============================] - 11s 23ms/step - loss: 0.8820 - accuracy: 0.8187\n",
            "Epoch 61/100\n",
            "484/484 [==============================] - 11s 23ms/step - loss: 0.8795 - accuracy: 0.8192\n",
            "Epoch 62/100\n",
            "484/484 [==============================] - 11s 23ms/step - loss: 0.8579 - accuracy: 0.8256\n",
            "Epoch 63/100\n",
            "484/484 [==============================] - 11s 23ms/step - loss: 0.8601 - accuracy: 0.8240\n",
            "Epoch 64/100\n",
            "484/484 [==============================] - 11s 23ms/step - loss: 0.8413 - accuracy: 0.8279\n",
            "Epoch 65/100\n",
            "484/484 [==============================] - 11s 23ms/step - loss: 0.8404 - accuracy: 0.8281\n",
            "Epoch 66/100\n",
            "484/484 [==============================] - 11s 23ms/step - loss: 0.8298 - accuracy: 0.8306\n",
            "Epoch 67/100\n",
            "484/484 [==============================] - 11s 23ms/step - loss: 0.8219 - accuracy: 0.8318\n",
            "Epoch 68/100\n",
            "484/484 [==============================] - 11s 23ms/step - loss: 0.8250 - accuracy: 0.8289\n",
            "Epoch 69/100\n",
            "484/484 [==============================] - 11s 23ms/step - loss: 0.8201 - accuracy: 0.8308\n",
            "Epoch 70/100\n",
            "484/484 [==============================] - 11s 23ms/step - loss: 0.8180 - accuracy: 0.8287\n",
            "Epoch 71/100\n",
            "484/484 [==============================] - 11s 23ms/step - loss: 0.8112 - accuracy: 0.8313\n",
            "Epoch 72/100\n",
            "484/484 [==============================] - 11s 23ms/step - loss: 0.7932 - accuracy: 0.8354\n",
            "Epoch 73/100\n",
            "484/484 [==============================] - 11s 23ms/step - loss: 0.8010 - accuracy: 0.8326\n",
            "Epoch 74/100\n",
            "484/484 [==============================] - 11s 23ms/step - loss: 0.7892 - accuracy: 0.8337\n",
            "Epoch 75/100\n",
            "484/484 [==============================] - 11s 23ms/step - loss: 0.7872 - accuracy: 0.8327\n",
            "Epoch 76/100\n",
            "484/484 [==============================] - 11s 23ms/step - loss: 0.7781 - accuracy: 0.8357\n",
            "Epoch 77/100\n",
            "484/484 [==============================] - 11s 23ms/step - loss: 0.7846 - accuracy: 0.8329\n",
            "Epoch 78/100\n",
            "484/484 [==============================] - 11s 23ms/step - loss: 0.7830 - accuracy: 0.8369\n",
            "Epoch 79/100\n",
            "484/484 [==============================] - 11s 23ms/step - loss: 0.7783 - accuracy: 0.8334\n",
            "Epoch 80/100\n",
            "484/484 [==============================] - 11s 23ms/step - loss: 0.7778 - accuracy: 0.8368\n",
            "Epoch 81/100\n",
            "484/484 [==============================] - 11s 23ms/step - loss: 0.7599 - accuracy: 0.8377\n",
            "Epoch 82/100\n",
            "484/484 [==============================] - 11s 23ms/step - loss: 0.7641 - accuracy: 0.8366\n",
            "Epoch 83/100\n",
            "484/484 [==============================] - 11s 23ms/step - loss: 0.7613 - accuracy: 0.8393\n",
            "Epoch 84/100\n",
            "484/484 [==============================] - 11s 23ms/step - loss: 0.7594 - accuracy: 0.8350\n",
            "Epoch 85/100\n",
            "484/484 [==============================] - 11s 23ms/step - loss: 0.7591 - accuracy: 0.8362\n",
            "Epoch 86/100\n",
            "484/484 [==============================] - 11s 23ms/step - loss: 0.7383 - accuracy: 0.8403\n",
            "Epoch 87/100\n",
            "484/484 [==============================] - 11s 23ms/step - loss: 0.7441 - accuracy: 0.8380\n",
            "Epoch 88/100\n",
            "484/484 [==============================] - 11s 23ms/step - loss: 0.7448 - accuracy: 0.8401\n",
            "Epoch 89/100\n",
            "484/484 [==============================] - 11s 23ms/step - loss: 0.7409 - accuracy: 0.8393\n",
            "Epoch 90/100\n",
            "484/484 [==============================] - 11s 23ms/step - loss: 0.7464 - accuracy: 0.8357\n",
            "Epoch 91/100\n",
            "484/484 [==============================] - 11s 23ms/step - loss: 0.7414 - accuracy: 0.8360\n",
            "Epoch 92/100\n",
            "484/484 [==============================] - 11s 23ms/step - loss: 0.7454 - accuracy: 0.8362\n",
            "Epoch 93/100\n",
            "484/484 [==============================] - 11s 23ms/step - loss: 0.7281 - accuracy: 0.8388\n",
            "Epoch 94/100\n",
            "484/484 [==============================] - 11s 23ms/step - loss: 0.7285 - accuracy: 0.8412\n",
            "Epoch 95/100\n",
            "484/484 [==============================] - 11s 23ms/step - loss: 0.7285 - accuracy: 0.8381\n",
            "Epoch 96/100\n",
            "484/484 [==============================] - 11s 23ms/step - loss: 0.7277 - accuracy: 0.8417\n",
            "Epoch 97/100\n",
            "484/484 [==============================] - 11s 23ms/step - loss: 0.7285 - accuracy: 0.8400\n",
            "Epoch 98/100\n",
            "484/484 [==============================] - 11s 23ms/step - loss: 0.7170 - accuracy: 0.8414\n",
            "Epoch 99/100\n",
            "484/484 [==============================] - 11s 23ms/step - loss: 0.7245 - accuracy: 0.8398\n",
            "Epoch 100/100\n",
            "484/484 [==============================] - 11s 23ms/step - loss: 0.7133 - accuracy: 0.8426\n"
          ],
          "name": "stdout"
        }
      ]
    },
    {
      "cell_type": "code",
      "metadata": {
        "id": "IXWLsc5nf8Aj",
        "colab_type": "code",
        "outputId": "fa5eb649-3be6-47ad-9d51-97b92746f1ed",
        "colab": {
          "base_uri": "https://localhost:8080/",
          "height": 545
        }
      },
      "source": [
        "import matplotlib.pyplot as plt \n",
        "\n",
        "acc = history.history[\"accuracy\"]\n",
        "loss = history.history[\"loss\"]\n",
        "\n",
        "epochs = range(len(acc))\n",
        "\n",
        "plt.plot(epochs, acc, \"b\", label =\"Training accuracy\")\n",
        "plt.title(\"Training accuracy\")\n",
        "\n",
        "plt.figure()\n",
        "\n",
        "plt.plot(epochs, loss, \"r\", label = \"Training Loss\")\n",
        "plt.title(\"Training loss\")\n",
        "plt.legend()\n",
        "\n",
        "plt.show()"
      ],
      "execution_count": 9,
      "outputs": [
        {
          "output_type": "display_data",
          "data": {
            "image/png": "[encoded data removed]",
            "text/plain": [
              "<Figure size 432x288 with 1 Axes>"
            ]
          },
          "metadata": {
            "tags": [],
            "needs_background": "light"
          }
        },
        {
          "output_type": "display_data",
          "data": {
            "image/png": "[encoded data removed]",
            "text/plain": [
              "<Figure size 432x288 with 1 Axes>"
            ]
          },
          "metadata": {
            "tags": [],
            "needs_background": "light"
          }
        }
      ]
    },
    {
      "cell_type": "code",
      "metadata": {
        "id": "EMKmF3NOgiL-",
        "colab_type": "code",
        "outputId": "043c0d7a-4f8c-4b00-c255-7d93e5b56e80",
        "colab": {
          "base_uri": "https://localhost:8080/",
          "height": 53
        }
      },
      "source": [
        "seed_text = \"Help me Obi Wan Kenobi, you're my only hope\"\n",
        "next_words = 100\n",
        "\n",
        "for _ in range(next_words):\n",
        "  token_list = tokenizer.texts_to_sequences([seed_text])[0]\n",
        "  token_list = pad_sequences([token_list], maxlen=max_sequence_len-1,\n",
        "                             padding = \"pre\")\n",
        "  predicted = model.predict_classes(token_list, verbose =0)\n",
        "  output_word = \"\"\n",
        "  for word, index in tokenizer.word_index.items():\n",
        "    if index == predicted:\n",
        "      output_word = word\n",
        "      break\n",
        "  seed_text += \" \"+ output_word\n",
        "print(seed_text)"
      ],
      "execution_count": 16,
      "outputs": [
        {
          "output_type": "stream",
          "text": [
            "Help me Obi Wan Kenobi, you're my only hope should blame his part another show it it live bright days still rare rare rare men's care me rolling rolling rolling check heaven thee forth way forth go of kings lie to all thee so true she with you near lie new in green it it live knows what still live knows in it as it live still still bright so rare men's you still keep bright doth seen told to heart with loss to character of flowers and happy hours with hue forth life to lie to this hell 'no hell doth lie new new live more more bright\n"
          ],
          "name": "stdout"
        }
      ]
    },
    {
      "cell_type": "code",
      "metadata": {
        "id": "VThopAp6czDV",
        "colab_type": "code",
        "colab": {
          "base_uri": "https://localhost:8080/",
          "height": 33
        },
        "outputId": "38aef761-250f-419c-deb6-00f13151210d"
      },
      "source": [
        "from keras.models import load_model\n",
        "\n",
        "model.save('my_model.h5')  # creates a HDF5 file 'my_model.h5'\n",
        "\n",
        "# returns a compiled model\n",
        "# identical to the previous one\n",
        "# model = load_model('my_model.h5')"
      ],
      "execution_count": 11,
      "outputs": [
        {
          "output_type": "stream",
          "text": [
            "Using TensorFlow backend.\n"
          ],
          "name": "stderr"
        }
      ]
    },
    {
      "cell_type": "code",
      "metadata": {
        "id": "LMOgn9WYwh5q",
        "colab_type": "code",
        "colab": {}
      },
      "source": [
        ""
      ],
      "execution_count": 0,
      "outputs": []
    }
  ]
}